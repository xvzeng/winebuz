{
 "cells": [
  {
   "cell_type": "code",
   "execution_count": null,
   "id": "0185de43",
   "metadata": {},
   "outputs": [
    {
     "data": {
      "application/vnd.plotly.v1+json": {
       "config": {
        "plotlyServerURL": "https://plot.ly"
       },
       "data": [
        {
         "coloraxis": "coloraxis",
         "hovertemplate": "week_rolling: %{x}<br>account_id: %{y}<br>Change A Stocking: %{z}<extra></extra>",
         "name": "0",
         "type": "heatmap",
         "x": {
          "bdata": "AQIDBAUGBwgJCgsMDQ4PEBESExQVFhcYGRobHB0eHyAhIiMkJSYnKCkqKywtLi8wMTIzNA==",
          "dtype": "i1"
         },
         "xaxis": "x",
         "y": [
          "acct1"
         ],
         "yaxis": "y",
         "z": {
          "bdata": "0KaE4laY/b+40/168g/mvxIpySZ9Ef+/oJFpwmM7wD/s3OW8DUzpP+b/Lxf3pvi/cApFMwUGzT8gr9fk2CrQv3BOa7sV5+I/aBMGZyVT4z+kLm3gNkT8P/AYG3a3f8c/oAhgwuz/2T9QZFmoFlTyv07WYtmewvU//PaftYAp4T8Awpr8WsOvP/RfDtEtD/C/5H2BhTwH8b82KfafPgn1v+AiK5uXYLe/VA0P3o1n9T/srb9/A07lP9Ta8UfuLOk/vNqttRWA6j/ioXCvrIb3v+jT5IJw8Oq/KElIOM256b/cTLM1rGzuvzjeh0x5pu8/OnUdpQPo9z808Kilh2nlv9ChFDHYHNC/VPD9i0/Q5r8aX4SGRCn+v6jze5Vk3NU/KPS9ArIh+b8wUvrCZwfAP+imqCVgDPm/WibGcbNW+D/A633PHpvLPwAAQU+JjmA/WBjppVZ15T/GXkoPagv+v+Ar0t3AJPs/hOf9Tz568D+QYqYPgu3av6DNrpBbrf+/WNctlSp/57+SJg/ISJf/P1jmefV6Cto/qp5BEYlY+j8=",
          "dtype": "f8",
          "shape": "1, 52"
         }
        }
       ],
       "layout": {
        "coloraxis": {
         "cmax": 2,
         "cmin": -2,
         "colorbar": {
          "title": {
           "text": "Change"
          }
         },
         "colorscale": [
          [
           0,
           "rgb(165,0,38)"
          ],
          [
           0.1,
           "rgb(215,48,39)"
          ],
          [
           0.2,
           "rgb(244,109,67)"
          ],
          [
           0.3,
           "rgb(253,174,97)"
          ],
          [
           0.4,
           "rgb(254,224,139)"
          ],
          [
           0.5,
           "rgb(255,255,191)"
          ],
          [
           0.6,
           "rgb(217,239,139)"
          ],
          [
           0.7,
           "rgb(166,217,106)"
          ],
          [
           0.8,
           "rgb(102,189,99)"
          ],
          [
           0.9,
           "rgb(26,152,80)"
          ],
          [
           1,
           "rgb(0,104,55)"
          ]
         ]
        },
        "margin": {
         "t": 60
        },
        "template": {
         "data": {
          "bar": [
           {
            "error_x": {
             "color": "#2a3f5f"
            },
            "error_y": {
             "color": "#2a3f5f"
            },
            "marker": {
             "line": {
              "color": "#E5ECF6",
              "width": 0.5
             },
             "pattern": {
              "fillmode": "overlay",
              "size": 10,
              "solidity": 0.2
             }
            },
            "type": "bar"
           }
          ],
          "barpolar": [
           {
            "marker": {
             "line": {
              "color": "#E5ECF6",
              "width": 0.5
             },
             "pattern": {
              "fillmode": "overlay",
              "size": 10,
              "solidity": 0.2
             }
            },
            "type": "barpolar"
           }
          ],
          "carpet": [
           {
            "aaxis": {
             "endlinecolor": "#2a3f5f",
             "gridcolor": "white",
             "linecolor": "white",
             "minorgridcolor": "white",
             "startlinecolor": "#2a3f5f"
            },
            "baxis": {
             "endlinecolor": "#2a3f5f",
             "gridcolor": "white",
             "linecolor": "white",
             "minorgridcolor": "white",
             "startlinecolor": "#2a3f5f"
            },
            "type": "carpet"
           }
          ],
          "choropleth": [
           {
            "colorbar": {
             "outlinewidth": 0,
             "ticks": ""
            },
            "type": "choropleth"
           }
          ],
          "contour": [
           {
            "colorbar": {
             "outlinewidth": 0,
             "ticks": ""
            },
            "colorscale": [
             [
              0,
              "#0d0887"
             ],
             [
              0.1111111111111111,
              "#46039f"
             ],
             [
              0.2222222222222222,
              "#7201a8"
             ],
             [
              0.3333333333333333,
              "#9c179e"
             ],
             [
              0.4444444444444444,
              "#bd3786"
             ],
             [
              0.5555555555555556,
              "#d8576b"
             ],
             [
              0.6666666666666666,
              "#ed7953"
             ],
             [
              0.7777777777777778,
              "#fb9f3a"
             ],
             [
              0.8888888888888888,
              "#fdca26"
             ],
             [
              1,
              "#f0f921"
             ]
            ],
            "type": "contour"
           }
          ],
          "contourcarpet": [
           {
            "colorbar": {
             "outlinewidth": 0,
             "ticks": ""
            },
            "type": "contourcarpet"
           }
          ],
          "heatmap": [
           {
            "colorbar": {
             "outlinewidth": 0,
             "ticks": ""
            },
            "colorscale": [
             [
              0,
              "#0d0887"
             ],
             [
              0.1111111111111111,
              "#46039f"
             ],
             [
              0.2222222222222222,
              "#7201a8"
             ],
             [
              0.3333333333333333,
              "#9c179e"
             ],
             [
              0.4444444444444444,
              "#bd3786"
             ],
             [
              0.5555555555555556,
              "#d8576b"
             ],
             [
              0.6666666666666666,
              "#ed7953"
             ],
             [
              0.7777777777777778,
              "#fb9f3a"
             ],
             [
              0.8888888888888888,
              "#fdca26"
             ],
             [
              1,
              "#f0f921"
             ]
            ],
            "type": "heatmap"
           }
          ],
          "histogram": [
           {
            "marker": {
             "pattern": {
              "fillmode": "overlay",
              "size": 10,
              "solidity": 0.2
             }
            },
            "type": "histogram"
           }
          ],
          "histogram2d": [
           {
            "colorbar": {
             "outlinewidth": 0,
             "ticks": ""
            },
            "colorscale": [
             [
              0,
              "#0d0887"
             ],
             [
              0.1111111111111111,
              "#46039f"
             ],
             [
              0.2222222222222222,
              "#7201a8"
             ],
             [
              0.3333333333333333,
              "#9c179e"
             ],
             [
              0.4444444444444444,
              "#bd3786"
             ],
             [
              0.5555555555555556,
              "#d8576b"
             ],
             [
              0.6666666666666666,
              "#ed7953"
             ],
             [
              0.7777777777777778,
              "#fb9f3a"
             ],
             [
              0.8888888888888888,
              "#fdca26"
             ],
             [
              1,
              "#f0f921"
             ]
            ],
            "type": "histogram2d"
           }
          ],
          "histogram2dcontour": [
           {
            "colorbar": {
             "outlinewidth": 0,
             "ticks": ""
            },
            "colorscale": [
             [
              0,
              "#0d0887"
             ],
             [
              0.1111111111111111,
              "#46039f"
             ],
             [
              0.2222222222222222,
              "#7201a8"
             ],
             [
              0.3333333333333333,
              "#9c179e"
             ],
             [
              0.4444444444444444,
              "#bd3786"
             ],
             [
              0.5555555555555556,
              "#d8576b"
             ],
             [
              0.6666666666666666,
              "#ed7953"
             ],
             [
              0.7777777777777778,
              "#fb9f3a"
             ],
             [
              0.8888888888888888,
              "#fdca26"
             ],
             [
              1,
              "#f0f921"
             ]
            ],
            "type": "histogram2dcontour"
           }
          ],
          "mesh3d": [
           {
            "colorbar": {
             "outlinewidth": 0,
             "ticks": ""
            },
            "type": "mesh3d"
           }
          ],
          "parcoords": [
           {
            "line": {
             "colorbar": {
              "outlinewidth": 0,
              "ticks": ""
             }
            },
            "type": "parcoords"
           }
          ],
          "pie": [
           {
            "automargin": true,
            "type": "pie"
           }
          ],
          "scatter": [
           {
            "fillpattern": {
             "fillmode": "overlay",
             "size": 10,
             "solidity": 0.2
            },
            "type": "scatter"
           }
          ],
          "scatter3d": [
           {
            "line": {
             "colorbar": {
              "outlinewidth": 0,
              "ticks": ""
             }
            },
            "marker": {
             "colorbar": {
              "outlinewidth": 0,
              "ticks": ""
             }
            },
            "type": "scatter3d"
           }
          ],
          "scattercarpet": [
           {
            "marker": {
             "colorbar": {
              "outlinewidth": 0,
              "ticks": ""
             }
            },
            "type": "scattercarpet"
           }
          ],
          "scattergeo": [
           {
            "marker": {
             "colorbar": {
              "outlinewidth": 0,
              "ticks": ""
             }
            },
            "type": "scattergeo"
           }
          ],
          "scattergl": [
           {
            "marker": {
             "colorbar": {
              "outlinewidth": 0,
              "ticks": ""
             }
            },
            "type": "scattergl"
           }
          ],
          "scattermap": [
           {
            "marker": {
             "colorbar": {
              "outlinewidth": 0,
              "ticks": ""
             }
            },
            "type": "scattermap"
           }
          ],
          "scattermapbox": [
           {
            "marker": {
             "colorbar": {
              "outlinewidth": 0,
              "ticks": ""
             }
            },
            "type": "scattermapbox"
           }
          ],
          "scatterpolar": [
           {
            "marker": {
             "colorbar": {
              "outlinewidth": 0,
              "ticks": ""
             }
            },
            "type": "scatterpolar"
           }
          ],
          "scatterpolargl": [
           {
            "marker": {
             "colorbar": {
              "outlinewidth": 0,
              "ticks": ""
             }
            },
            "type": "scatterpolargl"
           }
          ],
          "scatterternary": [
           {
            "marker": {
             "colorbar": {
              "outlinewidth": 0,
              "ticks": ""
             }
            },
            "type": "scatterternary"
           }
          ],
          "surface": [
           {
            "colorbar": {
             "outlinewidth": 0,
             "ticks": ""
            },
            "colorscale": [
             [
              0,
              "#0d0887"
             ],
             [
              0.1111111111111111,
              "#46039f"
             ],
             [
              0.2222222222222222,
              "#7201a8"
             ],
             [
              0.3333333333333333,
              "#9c179e"
             ],
             [
              0.4444444444444444,
              "#bd3786"
             ],
             [
              0.5555555555555556,
              "#d8576b"
             ],
             [
              0.6666666666666666,
              "#ed7953"
             ],
             [
              0.7777777777777778,
              "#fb9f3a"
             ],
             [
              0.8888888888888888,
              "#fdca26"
             ],
             [
              1,
              "#f0f921"
             ]
            ],
            "type": "surface"
           }
          ],
          "table": [
           {
            "cells": {
             "fill": {
              "color": "#EBF0F8"
             },
             "line": {
              "color": "white"
             }
            },
            "header": {
             "fill": {
              "color": "#C8D4E3"
             },
             "line": {
              "color": "white"
             }
            },
            "type": "table"
           }
          ]
         },
         "layout": {
          "annotationdefaults": {
           "arrowcolor": "#2a3f5f",
           "arrowhead": 0,
           "arrowwidth": 1
          },
          "autotypenumbers": "strict",
          "coloraxis": {
           "colorbar": {
            "outlinewidth": 0,
            "ticks": ""
           }
          },
          "colorscale": {
           "diverging": [
            [
             0,
             "#8e0152"
            ],
            [
             0.1,
             "#c51b7d"
            ],
            [
             0.2,
             "#de77ae"
            ],
            [
             0.3,
             "#f1b6da"
            ],
            [
             0.4,
             "#fde0ef"
            ],
            [
             0.5,
             "#f7f7f7"
            ],
            [
             0.6,
             "#e6f5d0"
            ],
            [
             0.7,
             "#b8e186"
            ],
            [
             0.8,
             "#7fbc41"
            ],
            [
             0.9,
             "#4d9221"
            ],
            [
             1,
             "#276419"
            ]
           ],
           "sequential": [
            [
             0,
             "#0d0887"
            ],
            [
             0.1111111111111111,
             "#46039f"
            ],
            [
             0.2222222222222222,
             "#7201a8"
            ],
            [
             0.3333333333333333,
             "#9c179e"
            ],
            [
             0.4444444444444444,
             "#bd3786"
            ],
            [
             0.5555555555555556,
             "#d8576b"
            ],
            [
             0.6666666666666666,
             "#ed7953"
            ],
            [
             0.7777777777777778,
             "#fb9f3a"
            ],
            [
             0.8888888888888888,
             "#fdca26"
            ],
            [
             1,
             "#f0f921"
            ]
           ],
           "sequentialminus": [
            [
             0,
             "#0d0887"
            ],
            [
             0.1111111111111111,
             "#46039f"
            ],
            [
             0.2222222222222222,
             "#7201a8"
            ],
            [
             0.3333333333333333,
             "#9c179e"
            ],
            [
             0.4444444444444444,
             "#bd3786"
            ],
            [
             0.5555555555555556,
             "#d8576b"
            ],
            [
             0.6666666666666666,
             "#ed7953"
            ],
            [
             0.7777777777777778,
             "#fb9f3a"
            ],
            [
             0.8888888888888888,
             "#fdca26"
            ],
            [
             1,
             "#f0f921"
            ]
           ]
          },
          "colorway": [
           "#636efa",
           "#EF553B",
           "#00cc96",
           "#ab63fa",
           "#FFA15A",
           "#19d3f3",
           "#FF6692",
           "#B6E880",
           "#FF97FF",
           "#FECB52"
          ],
          "font": {
           "color": "#2a3f5f"
          },
          "geo": {
           "bgcolor": "white",
           "lakecolor": "white",
           "landcolor": "#E5ECF6",
           "showlakes": true,
           "showland": true,
           "subunitcolor": "white"
          },
          "hoverlabel": {
           "align": "left"
          },
          "hovermode": "closest",
          "mapbox": {
           "style": "light"
          },
          "paper_bgcolor": "white",
          "plot_bgcolor": "#E5ECF6",
          "polar": {
           "angularaxis": {
            "gridcolor": "white",
            "linecolor": "white",
            "ticks": ""
           },
           "bgcolor": "#E5ECF6",
           "radialaxis": {
            "gridcolor": "white",
            "linecolor": "white",
            "ticks": ""
           }
          },
          "scene": {
           "xaxis": {
            "backgroundcolor": "#E5ECF6",
            "gridcolor": "white",
            "gridwidth": 2,
            "linecolor": "white",
            "showbackground": true,
            "ticks": "",
            "zerolinecolor": "white"
           },
           "yaxis": {
            "backgroundcolor": "#E5ECF6",
            "gridcolor": "white",
            "gridwidth": 2,
            "linecolor": "white",
            "showbackground": true,
            "ticks": "",
            "zerolinecolor": "white"
           },
           "zaxis": {
            "backgroundcolor": "#E5ECF6",
            "gridcolor": "white",
            "gridwidth": 2,
            "linecolor": "white",
            "showbackground": true,
            "ticks": "",
            "zerolinecolor": "white"
           }
          },
          "shapedefaults": {
           "line": {
            "color": "#2a3f5f"
           }
          },
          "ternary": {
           "aaxis": {
            "gridcolor": "white",
            "linecolor": "white",
            "ticks": ""
           },
           "baxis": {
            "gridcolor": "white",
            "linecolor": "white",
            "ticks": ""
           },
           "bgcolor": "#E5ECF6",
           "caxis": {
            "gridcolor": "white",
            "linecolor": "white",
            "ticks": ""
           }
          },
          "title": {
           "x": 0.05
          },
          "xaxis": {
           "automargin": true,
           "gridcolor": "white",
           "linecolor": "white",
           "ticks": "",
           "title": {
            "standoff": 15
           },
           "zerolinecolor": "white",
           "zerolinewidth": 2
          },
          "yaxis": {
           "automargin": true,
           "gridcolor": "white",
           "linecolor": "white",
           "ticks": "",
           "title": {
            "standoff": 15
           },
           "zerolinecolor": "white",
           "zerolinewidth": 2
          }
         }
        },
        "title": {
         "text": "Change in A Stocking Over 52 Rolling Weeks (Heatmap Style)"
        },
        "xaxis": {
         "anchor": "y",
         "domain": [
          0,
          1
         ],
         "title": {
          "text": "Week Rolling"
         }
        },
        "yaxis": {
         "anchor": "x",
         "autorange": "reversed",
         "domain": [
          0,
          1
         ],
         "title": {
          "text": "Account"
         }
        }
       }
      }
     },
     "metadata": {},
     "output_type": "display_data"
    }
   ],
   "source": [
    "import plotly.express as px\n",
    "import pandas as pd\n",
    "import numpy as np\n",
    "\n",
    "# 模拟数据：52周，每周一个数值（可替换为实际change_a_stocking）\n",
    "df = pd.DataFrame({\n",
    "    'week_rolling': list(range(1, 53)),\n",
    "    'change_a_stocking': np.random.uniform(-2, 2, 52),\n",
    "    'account_id': ['acct1']*52  # 只画一个账户，也可以换成多个账户\n",
    "})\n",
    "\n",
    "# 画热力图\n",
    "fig = px.imshow(\n",
    "    df.pivot(index='account_id', columns='week_rolling', values='change_a_stocking'),\n",
    "    color_continuous_scale='RdYlGn',  # 红黄绿，负数红色，正数绿色\n",
    "    zmin=-2, zmax=2,\n",
    "    aspect=\"auto\",\n",
    "    labels=dict(color=\"Change A Stocking\")\n",
    ")\n",
    "\n",
    "fig.update_layout(\n",
    "    title=\"Change in A Stocking Over 52 Rolling Weeks (Heatmap Style)\",\n",
    "    xaxis_title=\"Week Rolling\",\n",
    "    yaxis_title=\"Account\",\n",
    "    coloraxis_colorbar=dict(title=\"Change\")\n",
    ")\n",
    "\n",
    "fig.show()\n"
   ]
  },
  {
   "cell_type": "code",
   "execution_count": 3,
   "id": "bbbe9ac5",
   "metadata": {},
   "outputs": [
    {
     "data": {
      "application/vnd.plotly.v1+json": {
       "config": {
        "plotlyServerURL": "https://plot.ly"
       },
       "data": [
        {
         "coloraxis": "coloraxis",
         "hovertemplate": "week_rolling: %{x}<br>account_id: %{y}<br>Change A Stocking: %{z}<extra></extra>",
         "name": "0",
         "type": "heatmap",
         "x": {
          "bdata": "AQIDBAUGBwgJCgsMDQ4PEBESExQVFhcYGRobHB0eHyAhIiMkJSYnKCkqKywtLi8wMTIzNA==",
          "dtype": "i1"
         },
         "xaxis": "x",
         "y": [
          "acct1",
          "acct2",
          "acct3",
          "acct4",
          "acct5"
         ],
         "yaxis": "y",
         "z": {
          "bdata": "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",
          "dtype": "f8",
          "shape": "5, 52"
         }
        }
       ],
       "layout": {
        "coloraxis": {
         "cmax": 2,
         "cmin": -2,
         "colorbar": {
          "title": {
           "text": "Δ A Stocking"
          }
         },
         "colorscale": [
          [
           0,
           "rgb(165,0,38)"
          ],
          [
           0.1,
           "rgb(215,48,39)"
          ],
          [
           0.2,
           "rgb(244,109,67)"
          ],
          [
           0.3,
           "rgb(253,174,97)"
          ],
          [
           0.4,
           "rgb(254,224,139)"
          ],
          [
           0.5,
           "rgb(255,255,191)"
          ],
          [
           0.6,
           "rgb(217,239,139)"
          ],
          [
           0.7,
           "rgb(166,217,106)"
          ],
          [
           0.8,
           "rgb(102,189,99)"
          ],
          [
           0.9,
           "rgb(26,152,80)"
          ],
          [
           1,
           "rgb(0,104,55)"
          ]
         ]
        },
        "margin": {
         "t": 60
        },
        "template": {
         "data": {
          "bar": [
           {
            "error_x": {
             "color": "#2a3f5f"
            },
            "error_y": {
             "color": "#2a3f5f"
            },
            "marker": {
             "line": {
              "color": "#E5ECF6",
              "width": 0.5
             },
             "pattern": {
              "fillmode": "overlay",
              "size": 10,
              "solidity": 0.2
             }
            },
            "type": "bar"
           }
          ],
          "barpolar": [
           {
            "marker": {
             "line": {
              "color": "#E5ECF6",
              "width": 0.5
             },
             "pattern": {
              "fillmode": "overlay",
              "size": 10,
              "solidity": 0.2
             }
            },
            "type": "barpolar"
           }
          ],
          "carpet": [
           {
            "aaxis": {
             "endlinecolor": "#2a3f5f",
             "gridcolor": "white",
             "linecolor": "white",
             "minorgridcolor": "white",
             "startlinecolor": "#2a3f5f"
            },
            "baxis": {
             "endlinecolor": "#2a3f5f",
             "gridcolor": "white",
             "linecolor": "white",
             "minorgridcolor": "white",
             "startlinecolor": "#2a3f5f"
            },
            "type": "carpet"
           }
          ],
          "choropleth": [
           {
            "colorbar": {
             "outlinewidth": 0,
             "ticks": ""
            },
            "type": "choropleth"
           }
          ],
          "contour": [
           {
            "colorbar": {
             "outlinewidth": 0,
             "ticks": ""
            },
            "colorscale": [
             [
              0,
              "#0d0887"
             ],
             [
              0.1111111111111111,
              "#46039f"
             ],
             [
              0.2222222222222222,
              "#7201a8"
             ],
             [
              0.3333333333333333,
              "#9c179e"
             ],
             [
              0.4444444444444444,
              "#bd3786"
             ],
             [
              0.5555555555555556,
              "#d8576b"
             ],
             [
              0.6666666666666666,
              "#ed7953"
             ],
             [
              0.7777777777777778,
              "#fb9f3a"
             ],
             [
              0.8888888888888888,
              "#fdca26"
             ],
             [
              1,
              "#f0f921"
             ]
            ],
            "type": "contour"
           }
          ],
          "contourcarpet": [
           {
            "colorbar": {
             "outlinewidth": 0,
             "ticks": ""
            },
            "type": "contourcarpet"
           }
          ],
          "heatmap": [
           {
            "colorbar": {
             "outlinewidth": 0,
             "ticks": ""
            },
            "colorscale": [
             [
              0,
              "#0d0887"
             ],
             [
              0.1111111111111111,
              "#46039f"
             ],
             [
              0.2222222222222222,
              "#7201a8"
             ],
             [
              0.3333333333333333,
              "#9c179e"
             ],
             [
              0.4444444444444444,
              "#bd3786"
             ],
             [
              0.5555555555555556,
              "#d8576b"
             ],
             [
              0.6666666666666666,
              "#ed7953"
             ],
             [
              0.7777777777777778,
              "#fb9f3a"
             ],
             [
              0.8888888888888888,
              "#fdca26"
             ],
             [
              1,
              "#f0f921"
             ]
            ],
            "type": "heatmap"
           }
          ],
          "histogram": [
           {
            "marker": {
             "pattern": {
              "fillmode": "overlay",
              "size": 10,
              "solidity": 0.2
             }
            },
            "type": "histogram"
           }
          ],
          "histogram2d": [
           {
            "colorbar": {
             "outlinewidth": 0,
             "ticks": ""
            },
            "colorscale": [
             [
              0,
              "#0d0887"
             ],
             [
              0.1111111111111111,
              "#46039f"
             ],
             [
              0.2222222222222222,
              "#7201a8"
             ],
             [
              0.3333333333333333,
              "#9c179e"
             ],
             [
              0.4444444444444444,
              "#bd3786"
             ],
             [
              0.5555555555555556,
              "#d8576b"
             ],
             [
              0.6666666666666666,
              "#ed7953"
             ],
             [
              0.7777777777777778,
              "#fb9f3a"
             ],
             [
              0.8888888888888888,
              "#fdca26"
             ],
             [
              1,
              "#f0f921"
             ]
            ],
            "type": "histogram2d"
           }
          ],
          "histogram2dcontour": [
           {
            "colorbar": {
             "outlinewidth": 0,
             "ticks": ""
            },
            "colorscale": [
             [
              0,
              "#0d0887"
             ],
             [
              0.1111111111111111,
              "#46039f"
             ],
             [
              0.2222222222222222,
              "#7201a8"
             ],
             [
              0.3333333333333333,
              "#9c179e"
             ],
             [
              0.4444444444444444,
              "#bd3786"
             ],
             [
              0.5555555555555556,
              "#d8576b"
             ],
             [
              0.6666666666666666,
              "#ed7953"
             ],
             [
              0.7777777777777778,
              "#fb9f3a"
             ],
             [
              0.8888888888888888,
              "#fdca26"
             ],
             [
              1,
              "#f0f921"
             ]
            ],
            "type": "histogram2dcontour"
           }
          ],
          "mesh3d": [
           {
            "colorbar": {
             "outlinewidth": 0,
             "ticks": ""
            },
            "type": "mesh3d"
           }
          ],
          "parcoords": [
           {
            "line": {
             "colorbar": {
              "outlinewidth": 0,
              "ticks": ""
             }
            },
            "type": "parcoords"
           }
          ],
          "pie": [
           {
            "automargin": true,
            "type": "pie"
           }
          ],
          "scatter": [
           {
            "fillpattern": {
             "fillmode": "overlay",
             "size": 10,
             "solidity": 0.2
            },
            "type": "scatter"
           }
          ],
          "scatter3d": [
           {
            "line": {
             "colorbar": {
              "outlinewidth": 0,
              "ticks": ""
             }
            },
            "marker": {
             "colorbar": {
              "outlinewidth": 0,
              "ticks": ""
             }
            },
            "type": "scatter3d"
           }
          ],
          "scattercarpet": [
           {
            "marker": {
             "colorbar": {
              "outlinewidth": 0,
              "ticks": ""
             }
            },
            "type": "scattercarpet"
           }
          ],
          "scattergeo": [
           {
            "marker": {
             "colorbar": {
              "outlinewidth": 0,
              "ticks": ""
             }
            },
            "type": "scattergeo"
           }
          ],
          "scattergl": [
           {
            "marker": {
             "colorbar": {
              "outlinewidth": 0,
              "ticks": ""
             }
            },
            "type": "scattergl"
           }
          ],
          "scattermap": [
           {
            "marker": {
             "colorbar": {
              "outlinewidth": 0,
              "ticks": ""
             }
            },
            "type": "scattermap"
           }
          ],
          "scattermapbox": [
           {
            "marker": {
             "colorbar": {
              "outlinewidth": 0,
              "ticks": ""
             }
            },
            "type": "scattermapbox"
           }
          ],
          "scatterpolar": [
           {
            "marker": {
             "colorbar": {
              "outlinewidth": 0,
              "ticks": ""
             }
            },
            "type": "scatterpolar"
           }
          ],
          "scatterpolargl": [
           {
            "marker": {
             "colorbar": {
              "outlinewidth": 0,
              "ticks": ""
             }
            },
            "type": "scatterpolargl"
           }
          ],
          "scatterternary": [
           {
            "marker": {
             "colorbar": {
              "outlinewidth": 0,
              "ticks": ""
             }
            },
            "type": "scatterternary"
           }
          ],
          "surface": [
           {
            "colorbar": {
             "outlinewidth": 0,
             "ticks": ""
            },
            "colorscale": [
             [
              0,
              "#0d0887"
             ],
             [
              0.1111111111111111,
              "#46039f"
             ],
             [
              0.2222222222222222,
              "#7201a8"
             ],
             [
              0.3333333333333333,
              "#9c179e"
             ],
             [
              0.4444444444444444,
              "#bd3786"
             ],
             [
              0.5555555555555556,
              "#d8576b"
             ],
             [
              0.6666666666666666,
              "#ed7953"
             ],
             [
              0.7777777777777778,
              "#fb9f3a"
             ],
             [
              0.8888888888888888,
              "#fdca26"
             ],
             [
              1,
              "#f0f921"
             ]
            ],
            "type": "surface"
           }
          ],
          "table": [
           {
            "cells": {
             "fill": {
              "color": "#EBF0F8"
             },
             "line": {
              "color": "white"
             }
            },
            "header": {
             "fill": {
              "color": "#C8D4E3"
             },
             "line": {
              "color": "white"
             }
            },
            "type": "table"
           }
          ]
         },
         "layout": {
          "annotationdefaults": {
           "arrowcolor": "#2a3f5f",
           "arrowhead": 0,
           "arrowwidth": 1
          },
          "autotypenumbers": "strict",
          "coloraxis": {
           "colorbar": {
            "outlinewidth": 0,
            "ticks": ""
           }
          },
          "colorscale": {
           "diverging": [
            [
             0,
             "#8e0152"
            ],
            [
             0.1,
             "#c51b7d"
            ],
            [
             0.2,
             "#de77ae"
            ],
            [
             0.3,
             "#f1b6da"
            ],
            [
             0.4,
             "#fde0ef"
            ],
            [
             0.5,
             "#f7f7f7"
            ],
            [
             0.6,
             "#e6f5d0"
            ],
            [
             0.7,
             "#b8e186"
            ],
            [
             0.8,
             "#7fbc41"
            ],
            [
             0.9,
             "#4d9221"
            ],
            [
             1,
             "#276419"
            ]
           ],
           "sequential": [
            [
             0,
             "#0d0887"
            ],
            [
             0.1111111111111111,
             "#46039f"
            ],
            [
             0.2222222222222222,
             "#7201a8"
            ],
            [
             0.3333333333333333,
             "#9c179e"
            ],
            [
             0.4444444444444444,
             "#bd3786"
            ],
            [
             0.5555555555555556,
             "#d8576b"
            ],
            [
             0.6666666666666666,
             "#ed7953"
            ],
            [
             0.7777777777777778,
             "#fb9f3a"
            ],
            [
             0.8888888888888888,
             "#fdca26"
            ],
            [
             1,
             "#f0f921"
            ]
           ],
           "sequentialminus": [
            [
             0,
             "#0d0887"
            ],
            [
             0.1111111111111111,
             "#46039f"
            ],
            [
             0.2222222222222222,
             "#7201a8"
            ],
            [
             0.3333333333333333,
             "#9c179e"
            ],
            [
             0.4444444444444444,
             "#bd3786"
            ],
            [
             0.5555555555555556,
             "#d8576b"
            ],
            [
             0.6666666666666666,
             "#ed7953"
            ],
            [
             0.7777777777777778,
             "#fb9f3a"
            ],
            [
             0.8888888888888888,
             "#fdca26"
            ],
            [
             1,
             "#f0f921"
            ]
           ]
          },
          "colorway": [
           "#636efa",
           "#EF553B",
           "#00cc96",
           "#ab63fa",
           "#FFA15A",
           "#19d3f3",
           "#FF6692",
           "#B6E880",
           "#FF97FF",
           "#FECB52"
          ],
          "font": {
           "color": "#2a3f5f"
          },
          "geo": {
           "bgcolor": "white",
           "lakecolor": "white",
           "landcolor": "#E5ECF6",
           "showlakes": true,
           "showland": true,
           "subunitcolor": "white"
          },
          "hoverlabel": {
           "align": "left"
          },
          "hovermode": "closest",
          "mapbox": {
           "style": "light"
          },
          "paper_bgcolor": "white",
          "plot_bgcolor": "#E5ECF6",
          "polar": {
           "angularaxis": {
            "gridcolor": "white",
            "linecolor": "white",
            "ticks": ""
           },
           "bgcolor": "#E5ECF6",
           "radialaxis": {
            "gridcolor": "white",
            "linecolor": "white",
            "ticks": ""
           }
          },
          "scene": {
           "xaxis": {
            "backgroundcolor": "#E5ECF6",
            "gridcolor": "white",
            "gridwidth": 2,
            "linecolor": "white",
            "showbackground": true,
            "ticks": "",
            "zerolinecolor": "white"
           },
           "yaxis": {
            "backgroundcolor": "#E5ECF6",
            "gridcolor": "white",
            "gridwidth": 2,
            "linecolor": "white",
            "showbackground": true,
            "ticks": "",
            "zerolinecolor": "white"
           },
           "zaxis": {
            "backgroundcolor": "#E5ECF6",
            "gridcolor": "white",
            "gridwidth": 2,
            "linecolor": "white",
            "showbackground": true,
            "ticks": "",
            "zerolinecolor": "white"
           }
          },
          "shapedefaults": {
           "line": {
            "color": "#2a3f5f"
           }
          },
          "ternary": {
           "aaxis": {
            "gridcolor": "white",
            "linecolor": "white",
            "ticks": ""
           },
           "baxis": {
            "gridcolor": "white",
            "linecolor": "white",
            "ticks": ""
           },
           "bgcolor": "#E5ECF6",
           "caxis": {
            "gridcolor": "white",
            "linecolor": "white",
            "ticks": ""
           }
          },
          "title": {
           "x": 0.05
          },
          "xaxis": {
           "automargin": true,
           "gridcolor": "white",
           "linecolor": "white",
           "ticks": "",
           "title": {
            "standoff": 15
           },
           "zerolinecolor": "white",
           "zerolinewidth": 2
          },
          "yaxis": {
           "automargin": true,
           "gridcolor": "white",
           "linecolor": "white",
           "ticks": "",
           "title": {
            "standoff": 15
           },
           "zerolinecolor": "white",
           "zerolinewidth": 2
          }
         }
        },
        "title": {
         "text": "Change in A Stocking (5 Accounts × 52 Weeks)"
        },
        "xaxis": {
         "anchor": "y",
         "constrain": "domain",
         "domain": [
          0,
          1
         ],
         "scaleanchor": "y",
         "title": {
          "text": "Rolling Week"
         }
        },
        "yaxis": {
         "anchor": "x",
         "autorange": "reversed",
         "constrain": "domain",
         "domain": [
          0,
          1
         ],
         "title": {
          "text": "Account ID"
         }
        }
       }
      }
     },
     "metadata": {},
     "output_type": "display_data"
    }
   ],
   "source": [
    "import pandas as pd\n",
    "import numpy as np\n",
    "import plotly.express as px\n",
    "\n",
    "# 模拟5个账户 × 52周的数据\n",
    "accounts = [f'acct{i}' for i in range(1, 6)]\n",
    "weeks = list(range(1, 53))\n",
    "data = []\n",
    "\n",
    "for acct in accounts:\n",
    "    for week in weeks:\n",
    "        data.append({\n",
    "            'account_id': acct,\n",
    "            'week_rolling': week,\n",
    "            'change_a_stocking': np.round(np.random.uniform(-2, 2), 2)\n",
    "        })\n",
    "\n",
    "df = pd.DataFrame(data)\n",
    "\n",
    "# pivot成热力图需要的格式：行是account，列是week，值是change\n",
    "heatmap_data = df.pivot(index='account_id', columns='week_rolling', values='change_a_stocking')\n",
    "\n",
    "# 绘制热力图\n",
    "fig = px.imshow(\n",
    "    heatmap_data,\n",
    "    color_continuous_scale='RdYlGn',\n",
    "    zmin=-2, zmax=2,\n",
    "    labels=dict(color='Change A Stocking')\n",
    ")\n",
    "\n",
    "fig.update_layout(\n",
    "    title=\"Change in A Stocking (5 Accounts × 52 Weeks)\",\n",
    "    xaxis_title=\"Rolling Week\",\n",
    "    yaxis_title=\"Account ID\",\n",
    "    coloraxis_colorbar=dict(title=\"Δ A Stocking\")\n",
    ")\n",
    "\n",
    "fig.show()\n"
   ]
  },
  {
   "cell_type": "code",
   "execution_count": 9,
   "id": "7c18eb88",
   "metadata": {},
   "outputs": [
    {
     "data": {
      "application/vnd.plotly.v1+json": {
       "config": {
        "plotlyServerURL": "https://plot.ly"
       },
       "data": [
        {
         "coloraxis": "coloraxis",
         "hovertemplate": "week_rolling: %{x}<br>account_id: %{y}<br>Δ A Stocking: %{z}<extra></extra>",
         "name": "0",
         "type": "heatmap",
         "x": {
          "bdata": "AQIDBAUGBwgJCgsMDQ4PEBESExQVFhcYGRobHB0eHyAhIiMkJSYnKCkqKywtLi8wMTIzNA==",
          "dtype": "i1"
         },
         "xaxis": "x",
         "y": [
          "acct1",
          "acct2",
          "acct3",
          "acct4",
          "acct5",
          "acct6",
          "acct7",
          "acct8",
          "acct9"
         ],
         "yaxis": "y",
         "z": {
          "bdata": "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",
          "dtype": "f8",
          "shape": "9, 52"
         }
        }
       ],
       "layout": {
        "coloraxis": {
         "cmax": 2,
         "cmin": -2,
         "colorbar": {
          "title": {
           "text": "Change"
          }
         },
         "colorscale": [
          [
           0,
           "#d28b88"
          ],
          [
           0.5,
           "#e8e8e8"
          ],
          [
           1,
           "#6f918b"
          ]
         ]
        },
        "font": {
         "family": "Courier New",
         "size": 12
        },
        "margin": {
         "b": 40,
         "l": 60,
         "r": 30,
         "t": 60
        },
        "template": {
         "data": {
          "bar": [
           {
            "error_x": {
             "color": "#2a3f5f"
            },
            "error_y": {
             "color": "#2a3f5f"
            },
            "marker": {
             "line": {
              "color": "#E5ECF6",
              "width": 0.5
             },
             "pattern": {
              "fillmode": "overlay",
              "size": 10,
              "solidity": 0.2
             }
            },
            "type": "bar"
           }
          ],
          "barpolar": [
           {
            "marker": {
             "line": {
              "color": "#E5ECF6",
              "width": 0.5
             },
             "pattern": {
              "fillmode": "overlay",
              "size": 10,
              "solidity": 0.2
             }
            },
            "type": "barpolar"
           }
          ],
          "carpet": [
           {
            "aaxis": {
             "endlinecolor": "#2a3f5f",
             "gridcolor": "white",
             "linecolor": "white",
             "minorgridcolor": "white",
             "startlinecolor": "#2a3f5f"
            },
            "baxis": {
             "endlinecolor": "#2a3f5f",
             "gridcolor": "white",
             "linecolor": "white",
             "minorgridcolor": "white",
             "startlinecolor": "#2a3f5f"
            },
            "type": "carpet"
           }
          ],
          "choropleth": [
           {
            "colorbar": {
             "outlinewidth": 0,
             "ticks": ""
            },
            "type": "choropleth"
           }
          ],
          "contour": [
           {
            "colorbar": {
             "outlinewidth": 0,
             "ticks": ""
            },
            "colorscale": [
             [
              0,
              "#0d0887"
             ],
             [
              0.1111111111111111,
              "#46039f"
             ],
             [
              0.2222222222222222,
              "#7201a8"
             ],
             [
              0.3333333333333333,
              "#9c179e"
             ],
             [
              0.4444444444444444,
              "#bd3786"
             ],
             [
              0.5555555555555556,
              "#d8576b"
             ],
             [
              0.6666666666666666,
              "#ed7953"
             ],
             [
              0.7777777777777778,
              "#fb9f3a"
             ],
             [
              0.8888888888888888,
              "#fdca26"
             ],
             [
              1,
              "#f0f921"
             ]
            ],
            "type": "contour"
           }
          ],
          "contourcarpet": [
           {
            "colorbar": {
             "outlinewidth": 0,
             "ticks": ""
            },
            "type": "contourcarpet"
           }
          ],
          "heatmap": [
           {
            "colorbar": {
             "outlinewidth": 0,
             "ticks": ""
            },
            "colorscale": [
             [
              0,
              "#0d0887"
             ],
             [
              0.1111111111111111,
              "#46039f"
             ],
             [
              0.2222222222222222,
              "#7201a8"
             ],
             [
              0.3333333333333333,
              "#9c179e"
             ],
             [
              0.4444444444444444,
              "#bd3786"
             ],
             [
              0.5555555555555556,
              "#d8576b"
             ],
             [
              0.6666666666666666,
              "#ed7953"
             ],
             [
              0.7777777777777778,
              "#fb9f3a"
             ],
             [
              0.8888888888888888,
              "#fdca26"
             ],
             [
              1,
              "#f0f921"
             ]
            ],
            "type": "heatmap"
           }
          ],
          "histogram": [
           {
            "marker": {
             "pattern": {
              "fillmode": "overlay",
              "size": 10,
              "solidity": 0.2
             }
            },
            "type": "histogram"
           }
          ],
          "histogram2d": [
           {
            "colorbar": {
             "outlinewidth": 0,
             "ticks": ""
            },
            "colorscale": [
             [
              0,
              "#0d0887"
             ],
             [
              0.1111111111111111,
              "#46039f"
             ],
             [
              0.2222222222222222,
              "#7201a8"
             ],
             [
              0.3333333333333333,
              "#9c179e"
             ],
             [
              0.4444444444444444,
              "#bd3786"
             ],
             [
              0.5555555555555556,
              "#d8576b"
             ],
             [
              0.6666666666666666,
              "#ed7953"
             ],
             [
              0.7777777777777778,
              "#fb9f3a"
             ],
             [
              0.8888888888888888,
              "#fdca26"
             ],
             [
              1,
              "#f0f921"
             ]
            ],
            "type": "histogram2d"
           }
          ],
          "histogram2dcontour": [
           {
            "colorbar": {
             "outlinewidth": 0,
             "ticks": ""
            },
            "colorscale": [
             [
              0,
              "#0d0887"
             ],
             [
              0.1111111111111111,
              "#46039f"
             ],
             [
              0.2222222222222222,
              "#7201a8"
             ],
             [
              0.3333333333333333,
              "#9c179e"
             ],
             [
              0.4444444444444444,
              "#bd3786"
             ],
             [
              0.5555555555555556,
              "#d8576b"
             ],
             [
              0.6666666666666666,
              "#ed7953"
             ],
             [
              0.7777777777777778,
              "#fb9f3a"
             ],
             [
              0.8888888888888888,
              "#fdca26"
             ],
             [
              1,
              "#f0f921"
             ]
            ],
            "type": "histogram2dcontour"
           }
          ],
          "mesh3d": [
           {
            "colorbar": {
             "outlinewidth": 0,
             "ticks": ""
            },
            "type": "mesh3d"
           }
          ],
          "parcoords": [
           {
            "line": {
             "colorbar": {
              "outlinewidth": 0,
              "ticks": ""
             }
            },
            "type": "parcoords"
           }
          ],
          "pie": [
           {
            "automargin": true,
            "type": "pie"
           }
          ],
          "scatter": [
           {
            "fillpattern": {
             "fillmode": "overlay",
             "size": 10,
             "solidity": 0.2
            },
            "type": "scatter"
           }
          ],
          "scatter3d": [
           {
            "line": {
             "colorbar": {
              "outlinewidth": 0,
              "ticks": ""
             }
            },
            "marker": {
             "colorbar": {
              "outlinewidth": 0,
              "ticks": ""
             }
            },
            "type": "scatter3d"
           }
          ],
          "scattercarpet": [
           {
            "marker": {
             "colorbar": {
              "outlinewidth": 0,
              "ticks": ""
             }
            },
            "type": "scattercarpet"
           }
          ],
          "scattergeo": [
           {
            "marker": {
             "colorbar": {
              "outlinewidth": 0,
              "ticks": ""
             }
            },
            "type": "scattergeo"
           }
          ],
          "scattergl": [
           {
            "marker": {
             "colorbar": {
              "outlinewidth": 0,
              "ticks": ""
             }
            },
            "type": "scattergl"
           }
          ],
          "scattermap": [
           {
            "marker": {
             "colorbar": {
              "outlinewidth": 0,
              "ticks": ""
             }
            },
            "type": "scattermap"
           }
          ],
          "scattermapbox": [
           {
            "marker": {
             "colorbar": {
              "outlinewidth": 0,
              "ticks": ""
             }
            },
            "type": "scattermapbox"
           }
          ],
          "scatterpolar": [
           {
            "marker": {
             "colorbar": {
              "outlinewidth": 0,
              "ticks": ""
             }
            },
            "type": "scatterpolar"
           }
          ],
          "scatterpolargl": [
           {
            "marker": {
             "colorbar": {
              "outlinewidth": 0,
              "ticks": ""
             }
            },
            "type": "scatterpolargl"
           }
          ],
          "scatterternary": [
           {
            "marker": {
             "colorbar": {
              "outlinewidth": 0,
              "ticks": ""
             }
            },
            "type": "scatterternary"
           }
          ],
          "surface": [
           {
            "colorbar": {
             "outlinewidth": 0,
             "ticks": ""
            },
            "colorscale": [
             [
              0,
              "#0d0887"
             ],
             [
              0.1111111111111111,
              "#46039f"
             ],
             [
              0.2222222222222222,
              "#7201a8"
             ],
             [
              0.3333333333333333,
              "#9c179e"
             ],
             [
              0.4444444444444444,
              "#bd3786"
             ],
             [
              0.5555555555555556,
              "#d8576b"
             ],
             [
              0.6666666666666666,
              "#ed7953"
             ],
             [
              0.7777777777777778,
              "#fb9f3a"
             ],
             [
              0.8888888888888888,
              "#fdca26"
             ],
             [
              1,
              "#f0f921"
             ]
            ],
            "type": "surface"
           }
          ],
          "table": [
           {
            "cells": {
             "fill": {
              "color": "#EBF0F8"
             },
             "line": {
              "color": "white"
             }
            },
            "header": {
             "fill": {
              "color": "#C8D4E3"
             },
             "line": {
              "color": "white"
             }
            },
            "type": "table"
           }
          ]
         },
         "layout": {
          "annotationdefaults": {
           "arrowcolor": "#2a3f5f",
           "arrowhead": 0,
           "arrowwidth": 1
          },
          "autotypenumbers": "strict",
          "coloraxis": {
           "colorbar": {
            "outlinewidth": 0,
            "ticks": ""
           }
          },
          "colorscale": {
           "diverging": [
            [
             0,
             "#8e0152"
            ],
            [
             0.1,
             "#c51b7d"
            ],
            [
             0.2,
             "#de77ae"
            ],
            [
             0.3,
             "#f1b6da"
            ],
            [
             0.4,
             "#fde0ef"
            ],
            [
             0.5,
             "#f7f7f7"
            ],
            [
             0.6,
             "#e6f5d0"
            ],
            [
             0.7,
             "#b8e186"
            ],
            [
             0.8,
             "#7fbc41"
            ],
            [
             0.9,
             "#4d9221"
            ],
            [
             1,
             "#276419"
            ]
           ],
           "sequential": [
            [
             0,
             "#0d0887"
            ],
            [
             0.1111111111111111,
             "#46039f"
            ],
            [
             0.2222222222222222,
             "#7201a8"
            ],
            [
             0.3333333333333333,
             "#9c179e"
            ],
            [
             0.4444444444444444,
             "#bd3786"
            ],
            [
             0.5555555555555556,
             "#d8576b"
            ],
            [
             0.6666666666666666,
             "#ed7953"
            ],
            [
             0.7777777777777778,
             "#fb9f3a"
            ],
            [
             0.8888888888888888,
             "#fdca26"
            ],
            [
             1,
             "#f0f921"
            ]
           ],
           "sequentialminus": [
            [
             0,
             "#0d0887"
            ],
            [
             0.1111111111111111,
             "#46039f"
            ],
            [
             0.2222222222222222,
             "#7201a8"
            ],
            [
             0.3333333333333333,
             "#9c179e"
            ],
            [
             0.4444444444444444,
             "#bd3786"
            ],
            [
             0.5555555555555556,
             "#d8576b"
            ],
            [
             0.6666666666666666,
             "#ed7953"
            ],
            [
             0.7777777777777778,
             "#fb9f3a"
            ],
            [
             0.8888888888888888,
             "#fdca26"
            ],
            [
             1,
             "#f0f921"
            ]
           ]
          },
          "colorway": [
           "#636efa",
           "#EF553B",
           "#00cc96",
           "#ab63fa",
           "#FFA15A",
           "#19d3f3",
           "#FF6692",
           "#B6E880",
           "#FF97FF",
           "#FECB52"
          ],
          "font": {
           "color": "#2a3f5f"
          },
          "geo": {
           "bgcolor": "white",
           "lakecolor": "white",
           "landcolor": "#E5ECF6",
           "showlakes": true,
           "showland": true,
           "subunitcolor": "white"
          },
          "hoverlabel": {
           "align": "left"
          },
          "hovermode": "closest",
          "mapbox": {
           "style": "light"
          },
          "paper_bgcolor": "white",
          "plot_bgcolor": "#E5ECF6",
          "polar": {
           "angularaxis": {
            "gridcolor": "white",
            "linecolor": "white",
            "ticks": ""
           },
           "bgcolor": "#E5ECF6",
           "radialaxis": {
            "gridcolor": "white",
            "linecolor": "white",
            "ticks": ""
           }
          },
          "scene": {
           "xaxis": {
            "backgroundcolor": "#E5ECF6",
            "gridcolor": "white",
            "gridwidth": 2,
            "linecolor": "white",
            "showbackground": true,
            "ticks": "",
            "zerolinecolor": "white"
           },
           "yaxis": {
            "backgroundcolor": "#E5ECF6",
            "gridcolor": "white",
            "gridwidth": 2,
            "linecolor": "white",
            "showbackground": true,
            "ticks": "",
            "zerolinecolor": "white"
           },
           "zaxis": {
            "backgroundcolor": "#E5ECF6",
            "gridcolor": "white",
            "gridwidth": 2,
            "linecolor": "white",
            "showbackground": true,
            "ticks": "",
            "zerolinecolor": "white"
           }
          },
          "shapedefaults": {
           "line": {
            "color": "#2a3f5f"
           }
          },
          "ternary": {
           "aaxis": {
            "gridcolor": "white",
            "linecolor": "white",
            "ticks": ""
           },
           "baxis": {
            "gridcolor": "white",
            "linecolor": "white",
            "ticks": ""
           },
           "bgcolor": "#E5ECF6",
           "caxis": {
            "gridcolor": "white",
            "linecolor": "white",
            "ticks": ""
           }
          },
          "title": {
           "x": 0.05
          },
          "xaxis": {
           "automargin": true,
           "gridcolor": "white",
           "linecolor": "white",
           "ticks": "",
           "title": {
            "standoff": 15
           },
           "zerolinecolor": "white",
           "zerolinewidth": 2
          },
          "yaxis": {
           "automargin": true,
           "gridcolor": "white",
           "linecolor": "white",
           "ticks": "",
           "title": {
            "standoff": 15
           },
           "zerolinecolor": "white",
           "zerolinewidth": 2
          }
         }
        },
        "title": {
         "text": "Change in A Stocking (Deep Winter Forest Theme)"
        },
        "xaxis": {
         "anchor": "y",
         "constrain": "domain",
         "domain": [
          0,
          1
         ],
         "scaleanchor": "y",
         "title": {
          "text": "Rolling Week"
         }
        },
        "yaxis": {
         "anchor": "x",
         "autorange": "reversed",
         "constrain": "domain",
         "domain": [
          0,
          1
         ],
         "title": {
          "text": "Account ID"
         }
        }
       }
      }
     },
     "metadata": {},
     "output_type": "display_data"
    }
   ],
   "source": [
    "import pandas as pd\n",
    "import numpy as np\n",
    "import plotly.express as px\n",
    "\n",
    "# 模拟数据：5个账户 × 52周\n",
    "accounts = [f'acct{i}' for i in range(1, 10)]\n",
    "weeks = list(range(1, 53))\n",
    "data = []\n",
    "\n",
    "for acct in accounts:\n",
    "    for week in weeks:\n",
    "        data.append({\n",
    "            'account_id': acct,\n",
    "            'week_rolling': week,\n",
    "            'change_a_stocking': np.round(np.random.uniform(-2, 2), 2)\n",
    "        })\n",
    "\n",
    "df = pd.DataFrame(data)\n",
    "\n",
    "# Pivot 成热图结构\n",
    "heatmap_data = df.pivot(index='account_id', columns='week_rolling', values='change_a_stocking')\n",
    "\n",
    "# 自定义更深的冬日配色\n",
    "custom_colors = [\n",
    "    [0.0, \"#d28b88\"],  # 深落日粉\n",
    "    [0.5, \"#e8e8e8\"],  # 灰米白\n",
    "    [1.0, \"#6f918b\"]   # 深蓝灰绿\n",
    "]\n",
    "\n",
    "# 绘图\n",
    "fig = px.imshow(\n",
    "    heatmap_data,\n",
    "    color_continuous_scale=custom_colors,\n",
    "    zmin=-2, zmax=2,\n",
    "    labels=dict(color=\"Δ A Stocking\")\n",
    ")\n",
    "\n",
    "fig.update_layout(\n",
    "    title=\"Change in A Stocking (Deep Winter Forest Theme)\",\n",
    "    xaxis_title=\"Rolling Week\",\n",
    "    yaxis_title=\"Account ID\",\n",
    "    coloraxis_colorbar=dict(title=\"Change\"),\n",
    "    font=dict(family=\"Courier New\", size=12),\n",
    "    margin=dict(t=60, l=60, r=30, b=40)\n",
    ")\n",
    "\n",
    "fig.show()\n"
   ]
  },
  {
   "cell_type": "code",
   "execution_count": 10,
   "id": "a3dee887",
   "metadata": {},
   "outputs": [
    {
     "data": {
      "application/vnd.plotly.v1+json": {
       "config": {
        "plotlyServerURL": "https://plot.ly"
       },
       "data": [
        {
         "colorbar": {
          "title": {
           "text": "Δ A Stocking"
          }
         },
         "colorscale": [
          [
           0,
           "#d28b88"
          ],
          [
           0.5,
           "#e8e8e8"
          ],
          [
           1,
           "#6f918b"
          ]
         ],
         "type": "heatmap",
         "x": {
          "bdata": "AQIDBAUGBwgJCgsMDQ4PEBESExQVFhcYGRobHB0eHyAhIiMkJSYnKCkqKywtLi8wMTIzNA==",
          "dtype": "i1"
         },
         "xaxis": "x",
         "y": [
          "acct1",
          "acct2",
          "acct3",
          "acct4",
          "acct5"
         ],
         "yaxis": "y",
         "z": {
          "bdata": "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",
          "dtype": "f8",
          "shape": "5, 52"
         },
         "zmax": 2,
         "zmin": -2
        },
        {
         "line": {
          "color": "#5a7f7a",
          "width": 2
         },
         "marker": {
          "size": 6
         },
         "mode": "lines+markers",
         "name": "Std Dev",
         "type": "scatter",
         "x": [
          "acct1",
          "acct2",
          "acct3",
          "acct4",
          "acct5"
         ],
         "xaxis": "x2",
         "y": {
          "bdata": "M4GN/yzr8j+eUkLubh7zPzcPwC65gvM/bx3VdIfC8j95xn/b5fDyPw==",
          "dtype": "f8"
         },
         "yaxis": "y2"
        }
       ],
       "layout": {
        "annotations": [
         {
          "font": {
           "size": 16
          },
          "showarrow": false,
          "text": "Change in A Stocking (Heatmap)",
          "x": 0.5,
          "xanchor": "center",
          "xref": "paper",
          "y": 1,
          "yanchor": "bottom",
          "yref": "paper"
         },
         {
          "font": {
           "size": 16
          },
          "showarrow": false,
          "text": "Standard Deviation per Account",
          "x": 0.5,
          "xanchor": "center",
          "xref": "paper",
          "y": 0.19,
          "yanchor": "bottom",
          "yref": "paper"
         }
        ],
        "font": {
         "family": "Courier New",
         "size": 12
        },
        "height": 600,
        "margin": {
         "b": 60,
         "l": 60,
         "r": 40,
         "t": 60
        },
        "template": {
         "data": {
          "bar": [
           {
            "error_x": {
             "color": "#2a3f5f"
            },
            "error_y": {
             "color": "#2a3f5f"
            },
            "marker": {
             "line": {
              "color": "#E5ECF6",
              "width": 0.5
             },
             "pattern": {
              "fillmode": "overlay",
              "size": 10,
              "solidity": 0.2
             }
            },
            "type": "bar"
           }
          ],
          "barpolar": [
           {
            "marker": {
             "line": {
              "color": "#E5ECF6",
              "width": 0.5
             },
             "pattern": {
              "fillmode": "overlay",
              "size": 10,
              "solidity": 0.2
             }
            },
            "type": "barpolar"
           }
          ],
          "carpet": [
           {
            "aaxis": {
             "endlinecolor": "#2a3f5f",
             "gridcolor": "white",
             "linecolor": "white",
             "minorgridcolor": "white",
             "startlinecolor": "#2a3f5f"
            },
            "baxis": {
             "endlinecolor": "#2a3f5f",
             "gridcolor": "white",
             "linecolor": "white",
             "minorgridcolor": "white",
             "startlinecolor": "#2a3f5f"
            },
            "type": "carpet"
           }
          ],
          "choropleth": [
           {
            "colorbar": {
             "outlinewidth": 0,
             "ticks": ""
            },
            "type": "choropleth"
           }
          ],
          "contour": [
           {
            "colorbar": {
             "outlinewidth": 0,
             "ticks": ""
            },
            "colorscale": [
             [
              0,
              "#0d0887"
             ],
             [
              0.1111111111111111,
              "#46039f"
             ],
             [
              0.2222222222222222,
              "#7201a8"
             ],
             [
              0.3333333333333333,
              "#9c179e"
             ],
             [
              0.4444444444444444,
              "#bd3786"
             ],
             [
              0.5555555555555556,
              "#d8576b"
             ],
             [
              0.6666666666666666,
              "#ed7953"
             ],
             [
              0.7777777777777778,
              "#fb9f3a"
             ],
             [
              0.8888888888888888,
              "#fdca26"
             ],
             [
              1,
              "#f0f921"
             ]
            ],
            "type": "contour"
           }
          ],
          "contourcarpet": [
           {
            "colorbar": {
             "outlinewidth": 0,
             "ticks": ""
            },
            "type": "contourcarpet"
           }
          ],
          "heatmap": [
           {
            "colorbar": {
             "outlinewidth": 0,
             "ticks": ""
            },
            "colorscale": [
             [
              0,
              "#0d0887"
             ],
             [
              0.1111111111111111,
              "#46039f"
             ],
             [
              0.2222222222222222,
              "#7201a8"
             ],
             [
              0.3333333333333333,
              "#9c179e"
             ],
             [
              0.4444444444444444,
              "#bd3786"
             ],
             [
              0.5555555555555556,
              "#d8576b"
             ],
             [
              0.6666666666666666,
              "#ed7953"
             ],
             [
              0.7777777777777778,
              "#fb9f3a"
             ],
             [
              0.8888888888888888,
              "#fdca26"
             ],
             [
              1,
              "#f0f921"
             ]
            ],
            "type": "heatmap"
           }
          ],
          "histogram": [
           {
            "marker": {
             "pattern": {
              "fillmode": "overlay",
              "size": 10,
              "solidity": 0.2
             }
            },
            "type": "histogram"
           }
          ],
          "histogram2d": [
           {
            "colorbar": {
             "outlinewidth": 0,
             "ticks": ""
            },
            "colorscale": [
             [
              0,
              "#0d0887"
             ],
             [
              0.1111111111111111,
              "#46039f"
             ],
             [
              0.2222222222222222,
              "#7201a8"
             ],
             [
              0.3333333333333333,
              "#9c179e"
             ],
             [
              0.4444444444444444,
              "#bd3786"
             ],
             [
              0.5555555555555556,
              "#d8576b"
             ],
             [
              0.6666666666666666,
              "#ed7953"
             ],
             [
              0.7777777777777778,
              "#fb9f3a"
             ],
             [
              0.8888888888888888,
              "#fdca26"
             ],
             [
              1,
              "#f0f921"
             ]
            ],
            "type": "histogram2d"
           }
          ],
          "histogram2dcontour": [
           {
            "colorbar": {
             "outlinewidth": 0,
             "ticks": ""
            },
            "colorscale": [
             [
              0,
              "#0d0887"
             ],
             [
              0.1111111111111111,
              "#46039f"
             ],
             [
              0.2222222222222222,
              "#7201a8"
             ],
             [
              0.3333333333333333,
              "#9c179e"
             ],
             [
              0.4444444444444444,
              "#bd3786"
             ],
             [
              0.5555555555555556,
              "#d8576b"
             ],
             [
              0.6666666666666666,
              "#ed7953"
             ],
             [
              0.7777777777777778,
              "#fb9f3a"
             ],
             [
              0.8888888888888888,
              "#fdca26"
             ],
             [
              1,
              "#f0f921"
             ]
            ],
            "type": "histogram2dcontour"
           }
          ],
          "mesh3d": [
           {
            "colorbar": {
             "outlinewidth": 0,
             "ticks": ""
            },
            "type": "mesh3d"
           }
          ],
          "parcoords": [
           {
            "line": {
             "colorbar": {
              "outlinewidth": 0,
              "ticks": ""
             }
            },
            "type": "parcoords"
           }
          ],
          "pie": [
           {
            "automargin": true,
            "type": "pie"
           }
          ],
          "scatter": [
           {
            "fillpattern": {
             "fillmode": "overlay",
             "size": 10,
             "solidity": 0.2
            },
            "type": "scatter"
           }
          ],
          "scatter3d": [
           {
            "line": {
             "colorbar": {
              "outlinewidth": 0,
              "ticks": ""
             }
            },
            "marker": {
             "colorbar": {
              "outlinewidth": 0,
              "ticks": ""
             }
            },
            "type": "scatter3d"
           }
          ],
          "scattercarpet": [
           {
            "marker": {
             "colorbar": {
              "outlinewidth": 0,
              "ticks": ""
             }
            },
            "type": "scattercarpet"
           }
          ],
          "scattergeo": [
           {
            "marker": {
             "colorbar": {
              "outlinewidth": 0,
              "ticks": ""
             }
            },
            "type": "scattergeo"
           }
          ],
          "scattergl": [
           {
            "marker": {
             "colorbar": {
              "outlinewidth": 0,
              "ticks": ""
             }
            },
            "type": "scattergl"
           }
          ],
          "scattermap": [
           {
            "marker": {
             "colorbar": {
              "outlinewidth": 0,
              "ticks": ""
             }
            },
            "type": "scattermap"
           }
          ],
          "scattermapbox": [
           {
            "marker": {
             "colorbar": {
              "outlinewidth": 0,
              "ticks": ""
             }
            },
            "type": "scattermapbox"
           }
          ],
          "scatterpolar": [
           {
            "marker": {
             "colorbar": {
              "outlinewidth": 0,
              "ticks": ""
             }
            },
            "type": "scatterpolar"
           }
          ],
          "scatterpolargl": [
           {
            "marker": {
             "colorbar": {
              "outlinewidth": 0,
              "ticks": ""
             }
            },
            "type": "scatterpolargl"
           }
          ],
          "scatterternary": [
           {
            "marker": {
             "colorbar": {
              "outlinewidth": 0,
              "ticks": ""
             }
            },
            "type": "scatterternary"
           }
          ],
          "surface": [
           {
            "colorbar": {
             "outlinewidth": 0,
             "ticks": ""
            },
            "colorscale": [
             [
              0,
              "#0d0887"
             ],
             [
              0.1111111111111111,
              "#46039f"
             ],
             [
              0.2222222222222222,
              "#7201a8"
             ],
             [
              0.3333333333333333,
              "#9c179e"
             ],
             [
              0.4444444444444444,
              "#bd3786"
             ],
             [
              0.5555555555555556,
              "#d8576b"
             ],
             [
              0.6666666666666666,
              "#ed7953"
             ],
             [
              0.7777777777777778,
              "#fb9f3a"
             ],
             [
              0.8888888888888888,
              "#fdca26"
             ],
             [
              1,
              "#f0f921"
             ]
            ],
            "type": "surface"
           }
          ],
          "table": [
           {
            "cells": {
             "fill": {
              "color": "#EBF0F8"
             },
             "line": {
              "color": "white"
             }
            },
            "header": {
             "fill": {
              "color": "#C8D4E3"
             },
             "line": {
              "color": "white"
             }
            },
            "type": "table"
           }
          ]
         },
         "layout": {
          "annotationdefaults": {
           "arrowcolor": "#2a3f5f",
           "arrowhead": 0,
           "arrowwidth": 1
          },
          "autotypenumbers": "strict",
          "coloraxis": {
           "colorbar": {
            "outlinewidth": 0,
            "ticks": ""
           }
          },
          "colorscale": {
           "diverging": [
            [
             0,
             "#8e0152"
            ],
            [
             0.1,
             "#c51b7d"
            ],
            [
             0.2,
             "#de77ae"
            ],
            [
             0.3,
             "#f1b6da"
            ],
            [
             0.4,
             "#fde0ef"
            ],
            [
             0.5,
             "#f7f7f7"
            ],
            [
             0.6,
             "#e6f5d0"
            ],
            [
             0.7,
             "#b8e186"
            ],
            [
             0.8,
             "#7fbc41"
            ],
            [
             0.9,
             "#4d9221"
            ],
            [
             1,
             "#276419"
            ]
           ],
           "sequential": [
            [
             0,
             "#0d0887"
            ],
            [
             0.1111111111111111,
             "#46039f"
            ],
            [
             0.2222222222222222,
             "#7201a8"
            ],
            [
             0.3333333333333333,
             "#9c179e"
            ],
            [
             0.4444444444444444,
             "#bd3786"
            ],
            [
             0.5555555555555556,
             "#d8576b"
            ],
            [
             0.6666666666666666,
             "#ed7953"
            ],
            [
             0.7777777777777778,
             "#fb9f3a"
            ],
            [
             0.8888888888888888,
             "#fdca26"
            ],
            [
             1,
             "#f0f921"
            ]
           ],
           "sequentialminus": [
            [
             0,
             "#0d0887"
            ],
            [
             0.1111111111111111,
             "#46039f"
            ],
            [
             0.2222222222222222,
             "#7201a8"
            ],
            [
             0.3333333333333333,
             "#9c179e"
            ],
            [
             0.4444444444444444,
             "#bd3786"
            ],
            [
             0.5555555555555556,
             "#d8576b"
            ],
            [
             0.6666666666666666,
             "#ed7953"
            ],
            [
             0.7777777777777778,
             "#fb9f3a"
            ],
            [
             0.8888888888888888,
             "#fdca26"
            ],
            [
             1,
             "#f0f921"
            ]
           ]
          },
          "colorway": [
           "#636efa",
           "#EF553B",
           "#00cc96",
           "#ab63fa",
           "#FFA15A",
           "#19d3f3",
           "#FF6692",
           "#B6E880",
           "#FF97FF",
           "#FECB52"
          ],
          "font": {
           "color": "#2a3f5f"
          },
          "geo": {
           "bgcolor": "white",
           "lakecolor": "white",
           "landcolor": "#E5ECF6",
           "showlakes": true,
           "showland": true,
           "subunitcolor": "white"
          },
          "hoverlabel": {
           "align": "left"
          },
          "hovermode": "closest",
          "mapbox": {
           "style": "light"
          },
          "paper_bgcolor": "white",
          "plot_bgcolor": "#E5ECF6",
          "polar": {
           "angularaxis": {
            "gridcolor": "white",
            "linecolor": "white",
            "ticks": ""
           },
           "bgcolor": "#E5ECF6",
           "radialaxis": {
            "gridcolor": "white",
            "linecolor": "white",
            "ticks": ""
           }
          },
          "scene": {
           "xaxis": {
            "backgroundcolor": "#E5ECF6",
            "gridcolor": "white",
            "gridwidth": 2,
            "linecolor": "white",
            "showbackground": true,
            "ticks": "",
            "zerolinecolor": "white"
           },
           "yaxis": {
            "backgroundcolor": "#E5ECF6",
            "gridcolor": "white",
            "gridwidth": 2,
            "linecolor": "white",
            "showbackground": true,
            "ticks": "",
            "zerolinecolor": "white"
           },
           "zaxis": {
            "backgroundcolor": "#E5ECF6",
            "gridcolor": "white",
            "gridwidth": 2,
            "linecolor": "white",
            "showbackground": true,
            "ticks": "",
            "zerolinecolor": "white"
           }
          },
          "shapedefaults": {
           "line": {
            "color": "#2a3f5f"
           }
          },
          "ternary": {
           "aaxis": {
            "gridcolor": "white",
            "linecolor": "white",
            "ticks": ""
           },
           "baxis": {
            "gridcolor": "white",
            "linecolor": "white",
            "ticks": ""
           },
           "bgcolor": "#E5ECF6",
           "caxis": {
            "gridcolor": "white",
            "linecolor": "white",
            "ticks": ""
           }
          },
          "title": {
           "x": 0.05
          },
          "xaxis": {
           "automargin": true,
           "gridcolor": "white",
           "linecolor": "white",
           "ticks": "",
           "title": {
            "standoff": 15
           },
           "zerolinecolor": "white",
           "zerolinewidth": 2
          },
          "yaxis": {
           "automargin": true,
           "gridcolor": "white",
           "linecolor": "white",
           "ticks": "",
           "title": {
            "standoff": 15
           },
           "zerolinecolor": "white",
           "zerolinewidth": 2
          }
         }
        },
        "title": {
         "text": "Change in A Stocking with Account Pulse (Std Dev)"
        },
        "xaxis": {
         "anchor": "y",
         "domain": [
          0,
          1
         ],
         "matches": "x2",
         "showticklabels": false,
         "title": {
          "text": "Week Rolling"
         }
        },
        "xaxis2": {
         "anchor": "y2",
         "domain": [
          0,
          1
         ]
        },
        "yaxis": {
         "anchor": "x",
         "domain": [
          0.24,
          1
         ]
        },
        "yaxis2": {
         "anchor": "x2",
         "domain": [
          0,
          0.19
         ],
         "title": {
          "text": "Std Dev"
         }
        }
       }
      }
     },
     "metadata": {},
     "output_type": "display_data"
    }
   ],
   "source": [
    "import pandas as pd\n",
    "import numpy as np\n",
    "import plotly.graph_objects as go\n",
    "from plotly.subplots import make_subplots\n",
    "\n",
    "# 模拟数据\n",
    "accounts = [f'acct{i}' for i in range(1, 6)]\n",
    "weeks = list(range(1, 53))\n",
    "data = []\n",
    "\n",
    "np.random.seed(42)\n",
    "for acct in accounts:\n",
    "    for week in weeks:\n",
    "        data.append({\n",
    "            'account_id': acct,\n",
    "            'week_rolling': week,\n",
    "            'change_a_stocking': np.round(np.random.uniform(-2, 2), 2)\n",
    "        })\n",
    "\n",
    "df = pd.DataFrame(data)\n",
    "\n",
    "# Pivot table for heatmap\n",
    "heatmap_data = df.pivot(index='account_id', columns='week_rolling', values='change_a_stocking')\n",
    "\n",
    "# 计算每个账户的 std（波动）\n",
    "std_data = df.groupby('account_id')['change_a_stocking'].std().reset_index()\n",
    "\n",
    "# 创建子图：2行1列（上热力图，下脉搏线）\n",
    "fig = make_subplots(\n",
    "    rows=2, cols=1,\n",
    "    shared_xaxes=True,\n",
    "    row_heights=[0.8, 0.2],\n",
    "    vertical_spacing=0.05,\n",
    "    subplot_titles=(\"Change in A Stocking (Heatmap)\", \"Standard Deviation per Account\")\n",
    ")\n",
    "\n",
    "# 自定义色彩（深冬调）\n",
    "custom_colors = [\n",
    "    [0.0, \"#d28b88\"],  # 深落日粉\n",
    "    [0.5, \"#e8e8e8\"],  # 灰米白\n",
    "    [1.0, \"#6f918b\"]   # 冬日丛林绿\n",
    "]\n",
    "\n",
    "# 添加热力图\n",
    "fig.add_trace(\n",
    "    go.Heatmap(\n",
    "        z=heatmap_data.values,\n",
    "        x=heatmap_data.columns,\n",
    "        y=heatmap_data.index,\n",
    "        colorscale=custom_colors,\n",
    "        zmin=-2, zmax=2,\n",
    "        colorbar=dict(title=\"Δ A Stocking\")\n",
    "    ),\n",
    "    row=1, col=1\n",
    ")\n",
    "\n",
    "# 添加标准差“脉搏图”\n",
    "fig.add_trace(\n",
    "    go.Scatter(\n",
    "        x=std_data['account_id'],\n",
    "        y=std_data['change_a_stocking'],\n",
    "        mode='lines+markers',\n",
    "        line=dict(color='#5a7f7a', width=2),\n",
    "        marker=dict(size=6),\n",
    "        name='Std Dev'\n",
    "    ),\n",
    "    row=2, col=1\n",
    ")\n",
    "\n",
    "# 布局调整\n",
    "fig.update_layout(\n",
    "    height=600,\n",
    "    title=\"Change in A Stocking with Account Pulse (Std Dev)\",\n",
    "    font=dict(family=\"Courier New\", size=12),\n",
    "    margin=dict(t=60, l=60, r=40, b=60)\n",
    ")\n",
    "\n",
    "fig.update_yaxes(title_text=\"Std Dev\", row=2, col=1)\n",
    "fig.update_xaxes(title_text=\"Week Rolling\", row=1, col=1)\n",
    "\n",
    "fig.show()\n"
   ]
  },
  {
   "cell_type": "code",
   "execution_count": 15,
   "id": "d1a21104",
   "metadata": {},
   "outputs": [
    {
     "data": {
      "application/vnd.plotly.v1+json": {
       "config": {
        "plotlyServerURL": "https://plot.ly"
       },
       "data": [
        {
         "colorscale": [
          [
           0,
           "#d28b88"
          ],
          [
           0.5,
           "#e8e8e8"
          ],
          [
           1,
           "#6f918b"
          ]
         ],
         "showscale": false,
         "type": "heatmap",
         "x": {
          "bdata": "AQIDBAUGBwgJCgsMDQ4PEBESExQVFhcYGRobHB0eHyAhIiMkJSYnKCkqKywtLi8wMTIzNA==",
          "dtype": "i1"
         },
         "xaxis": "x",
         "y": [
          "acct6"
         ],
         "yaxis": "y",
         "z": [
          [
           -0.15,
           -0.36,
           0.35,
           -0.22,
           -0.7,
           0.99,
           0.81,
           0.47,
           0.03,
           -0.56,
           -1.1,
           1.26,
           -0.29,
           0,
           -0.58,
           0.02,
           -0.1,
           0.38,
           -0.89,
           -1.21,
           -0.74,
           0.87,
           1.21,
           -0.1,
           0.5,
           0.27,
           -0.66,
           1.03,
           -0.5,
           -0.12,
           0.09,
           -0.76,
           -0.58,
           1.21,
           -1.03,
           0.05,
           -0.7,
           -0.39,
           -0.61,
           0.07,
           0.86,
           -0.58,
           -0.12,
           0.09,
           0.16,
           1.06,
           0.53,
           -1.02,
           -0.47,
           0.06,
           0.01,
           -1.01
          ]
         ],
         "zmax": 2,
         "zmin": -2
        },
        {
         "line": {
          "color": "#6f918b"
         },
         "marker": {
          "size": 4
         },
         "mode": "lines+markers",
         "showlegend": false,
         "type": "scatter",
         "x": {
          "bdata": "AQIDBAUGBwgJCgsMDQ4PEBESExQVFhcYGRobHB0eHyAhIiMkJSYnKCkqKywtLi8wMTIzNA==",
          "dtype": "i1"
         },
         "xaxis": "x2",
         "y": {
          "bdata": "MzMzMzMzw78K16NwPQrXv2ZmZmZmZtY/KVyPwvUozL9mZmZmZmbmv65H4XoUru8/7FG4HoXr6T8UrkfhehTeP7gehetRuJ4/7FG4HoXr4b+amZmZmZnxvylcj8L1KPQ/j8L1KFyP0r8AAAAAAAAAgI/C9Shcj+K/exSuR+F6lD+amZmZmZm5v1K4HoXrUdg/exSuR+F67L9cj8L1KFzzv65H4XoUrue/16NwPQrX6z9cj8L1KFzzP5qZmZmZmbm/AAAAAAAA4D9I4XoUrkfRPx+F61G4HuW/exSuR+F68D8AAAAAAADgv7gehetRuL6/CtejcD0Ktz9SuB6F61Hov4/C9Shcj+K/XI/C9Shc8z97FK5H4Xrwv5qZmZmZmak/ZmZmZmZm5r/2KFyPwvXYv4XrUbgeheO/7FG4HoXrsT+F61G4HoXrP4/C9Shcj+K/uB6F61G4vr8K16NwPQq3P3sUrkfhesQ/9ihcj8L18D/2KFyPwvXgP1K4HoXrUfC/FK5H4XoU3r+4HoXrUbiuP3sUrkfheoQ/KVyPwvUo8L8=",
          "dtype": "f8"
         },
         "yaxis": "y2"
        },
        {
         "line": {
          "color": "#888"
         },
         "mode": "lines+text",
         "showlegend": false,
         "text": [
          "0.56",
          "0.29",
          "0.41",
          "0.23",
          "0.30",
          "0.48",
          "0.24",
          "0.48",
          "0.37",
          "0.24",
          "0.36",
          "0.40",
          "0.36",
          "0.14",
          "0.23",
          "0.28",
          "0.29",
          "0.36",
          "0.32",
          "0.17",
          "0.34",
          "0.36",
          "0.36",
          "0.41",
          "0.38",
          "0.35",
          "0.29",
          "0.13",
          "0.34",
          "0.32",
          "0.33",
          "0.17",
          "0.19",
          "0.41",
          "0.30",
          "0.37",
          "0.30",
          "0.30",
          "0.39",
          "0.25",
          "0.31",
          "0.25",
          "0.26",
          "0.27",
          "0.32",
          "0.25",
          "0.43",
          "0.21",
          "0.28",
          "0.26",
          "0.44",
          "0.32"
         ],
         "textfont": {
          "size": 9
         },
         "textposition": "top center",
         "type": "scatter",
         "x": {
          "bdata": "AQIDBAUGBwgJCgsMDQ4PEBESExQVFhcYGRobHB0eHyAhIiMkJSYnKCkqKywtLi8wMTIzNA==",
          "dtype": "i1"
         },
         "xaxis": "x3",
         "y": {
          "bdata": "7FG4HoXr4T+PwvUoXI/SPz0K16NwPdo/cT0K16NwzT8zMzMzMzPTP7gehetRuN4/uB6F61G4zj+4HoXrUbjeP65H4XoUrtc/uB6F61G4zj8K16NwPQrXP5qZmZmZmdk/CtejcD0K1z/sUbgehevBP3E9CtejcM0/7FG4HoXr0T+PwvUoXI/SPwrXo3A9Ctc/exSuR+F61D/D9Shcj8LFP8P1KFyPwtU/CtejcD0K1z8K16NwPQrXPz0K16NwPdo/UrgehetR2D9mZmZmZmbWP4/C9Shcj9I/pHA9CtejwD/D9Shcj8LVP3sUrkfhetQ/H4XrUbge1T/D9Shcj8LFP1K4HoXrUcg/PQrXo3A92j8zMzMzMzPTP65H4XoUrtc/MzMzMzMz0z8zMzMzMzPTP/YoXI/C9dg/AAAAAAAA0D/Xo3A9CtfTPwAAAAAAANA/pHA9Ctej0D9I4XoUrkfRP3sUrkfhetQ/AAAAAAAA0D+F61G4HoXbP+F6FK5H4co/7FG4HoXr0T+kcD0K16PQPylcj8L1KNw/exSuR+F61D8=",
          "dtype": "f8"
         },
         "yaxis": "y3"
        },
        {
         "colorscale": [
          [
           0,
           "#d28b88"
          ],
          [
           0.5,
           "#e8e8e8"
          ],
          [
           1,
           "#6f918b"
          ]
         ],
         "showscale": false,
         "type": "heatmap",
         "x": {
          "bdata": "AQIDBAUGBwgJCgsMDQ4PEBESExQVFhcYGRobHB0eHyAhIiMkJSYnKCkqKywtLi8wMTIzNA==",
          "dtype": "i1"
         },
         "xaxis": "x4",
         "y": [
          "acct2"
         ],
         "yaxis": "y4",
         "z": [
          [
           -1.42,
           0.85,
           0.6,
           0.52,
           -0.56,
           -0.34,
           0.6,
           1.05,
           0.41,
           0.46,
           0.14,
           -1.03,
           -0.15,
           0.92,
           -0.17,
           -0.71,
           -0.16,
           0.64,
           -1.45,
           -0.82,
           0.48,
           0.17,
           0.44,
           -0.32,
           0.15,
           -0.54,
           -1.32,
           0.19,
           0.22,
           0.32,
           0.8,
           -0.29,
           -0.94,
           -0.23,
           -0.04,
           -0.94,
           1.29,
           -0.21,
           0.49,
           0.4,
           0.65,
           -0.17,
           0.17,
           -0.13,
           -0.58,
           0.64,
           0.04,
           -1.32,
           0.93,
           -1.23,
           0.84,
           1.08
          ]
         ],
         "zmax": 2,
         "zmin": -2
        },
        {
         "line": {
          "color": "#6f918b"
         },
         "marker": {
          "size": 4
         },
         "mode": "lines+markers",
         "showlegend": false,
         "type": "scatter",
         "x": {
          "bdata": "AQIDBAUGBwgJCgsMDQ4PEBESExQVFhcYGRobHB0eHyAhIiMkJSYnKCkqKywtLi8wMTIzNA==",
          "dtype": "i1"
         },
         "xaxis": "x5",
         "y": {
          "bdata": "uB6F61G49r8zMzMzMzPrPzMzMzMzM+M/pHA9Ctej4D/sUbgehevhv8P1KFyPwtW/MzMzMzMz4z/NzMzMzMzwPz0K16NwPdo/cT0K16Nw3T/sUbgehevBP3sUrkfhevC/MzMzMzMzw79xPQrXo3DtP8P1KFyPwsW/uB6F61G45r97FK5H4XrEv3sUrkfheuQ/MzMzMzMz9789CtejcD3qv7gehetRuN4/w/UoXI/CxT8pXI/C9SjcP3sUrkfhetS/MzMzMzMzwz9I4XoUrkfhvx+F61G4HvW/UrgehetRyD8pXI/C9SjMP3sUrkfhetQ/mpmZmZmZ6T+PwvUoXI/SvxSuR+F6FO6/cT0K16Nwzb97FK5H4XqkvxSuR+F6FO6/pHA9Ctej9D/hehSuR+HKv1yPwvUoXN8/mpmZmZmZ2T/NzMzMzMzkP8P1KFyPwsW/w/UoXI/CxT+kcD0K16PAv4/C9Shcj+K/exSuR+F65D97FK5H4XqkPx+F61G4HvW/w/UoXI/C7T+uR+F6FK7zv+F6FK5H4eo/SOF6FK5H8T8=",
          "dtype": "f8"
         },
         "yaxis": "y5"
        },
        {
         "line": {
          "color": "#888"
         },
         "mode": "lines+text",
         "showlegend": false,
         "text": [
          "0.28",
          "0.37",
          "0.35",
          "0.29",
          "0.22",
          "0.15",
          "0.26",
          "0.39",
          "0.32",
          "0.18",
          "0.32",
          "0.34",
          "0.21",
          "0.32",
          "0.31",
          "0.19",
          "0.34",
          "0.36",
          "0.41",
          "0.41",
          "0.16",
          "0.21",
          "0.35",
          "0.35",
          "0.35",
          "0.69",
          "0.36",
          "0.41",
          "0.40",
          "0.37",
          "0.27",
          "0.38",
          "0.22",
          "0.28",
          "0.25",
          "0.31",
          "0.53",
          "0.11",
          "0.37",
          "0.14",
          "0.25",
          "0.41",
          "0.31",
          "0.19",
          "0.23",
          "0.37",
          "0.23",
          "0.32",
          "0.30",
          "0.23",
          "0.51",
          "0.36"
         ],
         "textfont": {
          "size": 9
         },
         "textposition": "top center",
         "type": "scatter",
         "x": {
          "bdata": "AQIDBAUGBwgJCgsMDQ4PEBESExQVFhcYGRobHB0eHyAhIiMkJSYnKCkqKywtLi8wMTIzNA==",
          "dtype": "i1"
         },
         "xaxis": "x6",
         "y": {
          "bdata": "7FG4HoXr0T+uR+F6FK7XP2ZmZmZmZtY/j8L1KFyP0j8pXI/C9SjMPzMzMzMzM8M/pHA9Ctej0D/2KFyPwvXYP3sUrkfhetQ/CtejcD0Kxz97FK5H4XrUP8P1KFyPwtU/4XoUrkfhyj97FK5H4XrUP9ejcD0K19M/UrgehetRyD/D9Shcj8LVPwrXo3A9Ctc/PQrXo3A92j89CtejcD3aP3sUrkfhesQ/4XoUrkfhyj9mZmZmZmbWP2ZmZmZmZtY/ZmZmZmZm1j8UrkfhehTmPwrXo3A9Ctc/PQrXo3A92j+amZmZmZnZP65H4XoUrtc/SOF6FK5H0T9SuB6F61HYPylcj8L1KMw/7FG4HoXr0T8AAAAAAADQP9ejcD0K19M/9ihcj8L14D8pXI/C9Si8P65H4XoUrtc/7FG4HoXrwT8AAAAAAADQPz0K16NwPdo/16NwPQrX0z9SuB6F61HIP3E9CtejcM0/rkfhehSu1z9xPQrXo3DNP3sUrkfhetQ/MzMzMzMz0z9xPQrXo3DNP1K4HoXrUeA/CtejcD0K1z8=",
          "dtype": "f8"
         },
         "yaxis": "y6"
        },
        {
         "colorscale": [
          [
           0,
           "#d28b88"
          ],
          [
           0.5,
           "#e8e8e8"
          ],
          [
           1,
           "#6f918b"
          ]
         ],
         "showscale": false,
         "type": "heatmap",
         "x": {
          "bdata": "AQIDBAUGBwgJCgsMDQ4PEBESExQVFhcYGRobHB0eHyAhIiMkJSYnKCkqKywtLi8wMTIzNA==",
          "dtype": "i1"
         },
         "xaxis": "x7",
         "y": [
          "acct3"
         ],
         "yaxis": "y7",
         "z": [
          [
           1.58,
           0.57,
           -0.86,
           -1.04,
           -1.44,
           -1.12,
           -1.04,
           0.41,
           -0.76,
           0.2,
           0.97,
           -1.13,
           0.36,
           -0.29,
           -1.16,
           0.94,
           0.61,
           0.61,
           -0.04,
           1.01,
           -0.47,
           -0.27,
           0.02,
           0.43,
           0.98,
           -0.16,
           -0.39,
           0.74,
           -0.64,
           0.82,
           0.75,
           0.01,
           0.72,
           0.17,
           -1.25,
           1.19,
           0.11,
           0.43,
           0.11,
           0.83,
           0.13,
           -0.96,
           1.43,
           -0.29,
           -0.44,
           1.19,
           1.09,
           0.56,
           -0.03,
           0.1,
           -0.1,
           -0.87
          ]
         ],
         "zmax": 2,
         "zmin": -2
        },
        {
         "line": {
          "color": "#6f918b"
         },
         "marker": {
          "size": 4
         },
         "mode": "lines+markers",
         "showlegend": false,
         "type": "scatter",
         "x": {
          "bdata": "AQIDBAUGBwgJCgsMDQ4PEBESExQVFhcYGRobHB0eHyAhIiMkJSYnKCkqKywtLi8wMTIzNA==",
          "dtype": "i1"
         },
         "xaxis": "x8",
         "y": {
          "bdata": "SOF6FK5H+T89CtejcD3iP4XrUbgeheu/pHA9Ctej8L8K16NwPQr3v+xRuB6F6/G/pHA9Ctej8L89CtejcD3aP1K4HoXrUei/mpmZmZmZyT8K16NwPQrvPxSuR+F6FPK/CtejcD0K1z+PwvUoXI/Sv4/C9Shcj/K/FK5H4XoU7j+F61G4HoXjP4XrUbgeheM/exSuR+F6pL8pXI/C9SjwPxSuR+F6FN6/SOF6FK5H0b97FK5H4XqUP4XrUbgehds/XI/C9Shc7z97FK5H4XrEv/YoXI/C9di/rkfhehSu5z97FK5H4Xrkvz0K16NwPeo/AAAAAAAA6D97FK5H4XqEPwrXo3A9Cuc/w/UoXI/CxT8AAAAAAAD0vwrXo3A9CvM/KVyPwvUovD+F61G4HoXbPylcj8L1KLw/j8L1KFyP6j+kcD0K16PAP7gehetRuO6/4XoUrkfh9j+PwvUoXI/Svylcj8L1KNy/CtejcD0K8z9xPQrXo3DxP+xRuB6F6+E/uB6F61G4nr+amZmZmZm5P5qZmZmZmbm/16NwPQrX678=",
          "dtype": "f8"
         },
         "yaxis": "y8"
        },
        {
         "line": {
          "color": "#888"
         },
         "mode": "lines+text",
         "showlegend": false,
         "text": [
          "0.42",
          "0.38",
          "0.36",
          "0.36",
          "0.30",
          "0.21",
          "0.31",
          "0.23",
          "0.40",
          "0.29",
          "0.22",
          "0.27",
          "0.34",
          "0.24",
          "0.22",
          "0.32",
          "0.32",
          "0.25",
          "0.25",
          "0.32",
          "0.16",
          "0.16",
          "0.23",
          "0.28",
          "0.33",
          "0.45",
          "0.39",
          "0.28",
          "0.30",
          "0.20",
          "0.30",
          "0.27",
          "0.33",
          "0.22",
          "0.35",
          "0.45",
          "0.29",
          "0.34",
          "0.37",
          "0.26",
          "0.32",
          "0.30",
          "0.31",
          "0.22",
          "0.30",
          "0.35",
          "0.45",
          "0.40",
          "0.52",
          "0.22",
          "0.39",
          "0.32"
         ],
         "textfont": {
          "size": 9
         },
         "textposition": "top center",
         "type": "scatter",
         "x": {
          "bdata": "AQIDBAUGBwgJCgsMDQ4PEBESExQVFhcYGRobHB0eHyAhIiMkJSYnKCkqKywtLi8wMTIzNA==",
          "dtype": "i1"
         },
         "xaxis": "x9",
         "y": {
          "bdata": "4XoUrkfh2j9SuB6F61HYPwrXo3A9Ctc/CtejcD0K1z8zMzMzMzPTP+F6FK5H4co/16NwPQrX0z9xPQrXo3DNP5qZmZmZmdk/j8L1KFyP0j8pXI/C9SjMP0jhehSuR9E/w/UoXI/C1T+4HoXrUbjOPylcj8L1KMw/exSuR+F61D97FK5H4XrUPwAAAAAAANA/AAAAAAAA0D97FK5H4XrUP3sUrkfhesQ/exSuR+F6xD9xPQrXo3DNP+xRuB6F69E/H4XrUbge1T/NzMzMzMzcP/YoXI/C9dg/7FG4HoXr0T8zMzMzMzPTP5qZmZmZmck/MzMzMzMz0z9I4XoUrkfRPx+F61G4HtU/KVyPwvUozD9mZmZmZmbWP83MzMzMzNw/j8L1KFyP0j/D9Shcj8LVP65H4XoUrtc/pHA9Ctej0D97FK5H4XrUPzMzMzMzM9M/16NwPQrX0z8pXI/C9SjMPzMzMzMzM9M/ZmZmZmZm1j/NzMzMzMzcP5qZmZmZmdk/pHA9Ctej4D8pXI/C9SjMP/YoXI/C9dg/exSuR+F61D8=",
          "dtype": "f8"
         },
         "yaxis": "y9"
        },
        {
         "colorscale": [
          [
           0,
           "#d28b88"
          ],
          [
           0.5,
           "#e8e8e8"
          ],
          [
           1,
           "#6f918b"
          ]
         ],
         "showscale": false,
         "type": "heatmap",
         "x": {
          "bdata": "AQIDBAUGBwgJCgsMDQ4PEBESExQVFhcYGRobHB0eHyAhIiMkJSYnKCkqKywtLi8wMTIzNA==",
          "dtype": "i1"
         },
         "xaxis": "x10",
         "y": [
          "acct9"
         ],
         "yaxis": "y10",
         "z": [
          [
           -0.51,
           -0.48,
           -0.48,
           -1.32,
           0.31,
           0.59,
           -0.36,
           0.04,
           0.13,
           0.36,
           0.54,
           0.08,
           -1.16,
           -0.33,
           -0.07,
           -0.18,
           0.32,
           -0.21,
           0.27,
           0.11,
           0.59,
           0.17,
           0.69,
           -0.59,
           -0.28,
           -0.8,
           -0.03,
           0.7,
           -0.15,
           0.9,
           -0.18,
           0.99,
           -0.24,
           -0.89,
           0.01,
           -0.53,
           -0.22,
           -0.1,
           0.37,
           -0.32,
           -0.93,
           0.37,
           0.1,
           -1.1,
           -0.06,
           -0.01,
           -0.64,
           0.61,
           -0.61,
           0.02,
           0.69,
           -0.87
          ]
         ],
         "zmax": 2,
         "zmin": -2
        },
        {
         "line": {
          "color": "#6f918b"
         },
         "marker": {
          "size": 4
         },
         "mode": "lines+markers",
         "showlegend": false,
         "type": "scatter",
         "x": {
          "bdata": "AQIDBAUGBwgJCgsMDQ4PEBESExQVFhcYGRobHB0eHyAhIiMkJSYnKCkqKywtLi8wMTIzNA==",
          "dtype": "i1"
         },
         "xaxis": "x11",
         "y": {
          "bdata": "UrgehetR4L+4HoXrUbjev7gehetRuN6/H4XrUbge9b/Xo3A9CtfTP+F6FK5H4eI/CtejcD0K1797FK5H4XqkP6RwPQrXo8A/CtejcD0K1z9I4XoUrkfhP3sUrkfherQ/j8L1KFyP8r8fhetRuB7Vv+xRuB6F67G/CtejcD0Kx797FK5H4XrUP+F6FK5H4cq/SOF6FK5H0T8pXI/C9Si8P+F6FK5H4eI/w/UoXI/CxT8UrkfhehTmP+F6FK5H4eK/7FG4HoXr0b+amZmZmZnpv7gehetRuJ6/ZmZmZmZm5j8zMzMzMzPDv83MzMzMzOw/CtejcD0Kx7+uR+F6FK7vP7gehetRuM6/exSuR+F67L97FK5H4XqEP/YoXI/C9eC/KVyPwvUozL+amZmZmZm5v65H4XoUrtc/exSuR+F61L/D9Shcj8Ltv65H4XoUrtc/mpmZmZmZuT+amZmZmZnxv7gehetRuK6/exSuR+F6hL97FK5H4Xrkv4XrUbgeheM/hetRuB6F4797FK5H4XqUPxSuR+F6FOY/16NwPQrX678=",
          "dtype": "f8"
         },
         "yaxis": "y11"
        },
        {
         "line": {
          "color": "#888"
         },
         "mode": "lines+text",
         "showlegend": false,
         "text": [
          "0.14",
          "0.34",
          "0.30",
          "0.36",
          "0.32",
          "0.44",
          "0.31",
          "0.26",
          "0.31",
          "0.35",
          "0.30",
          "0.30",
          "0.23",
          "0.23",
          "0.16",
          "0.47",
          "0.18",
          "0.23",
          "0.23",
          "0.39",
          "0.27",
          "0.42",
          "0.23",
          "0.33",
          "0.22",
          "0.51",
          "0.18",
          "0.33",
          "0.36",
          "0.34",
          "0.28",
          "0.29",
          "0.30",
          "0.29",
          "0.40",
          "0.52",
          "0.24",
          "0.16",
          "0.29",
          "0.56",
          "0.22",
          "0.46",
          "0.47",
          "0.24",
          "0.36",
          "0.46",
          "0.26",
          "0.28",
          "0.24",
          "0.20",
          "0.24",
          "0.18"
         ],
         "textfont": {
          "size": 9
         },
         "textposition": "top center",
         "type": "scatter",
         "x": {
          "bdata": "AQIDBAUGBwgJCgsMDQ4PEBESExQVFhcYGRobHB0eHyAhIiMkJSYnKCkqKywtLi8wMTIzNA==",
          "dtype": "i1"
         },
         "xaxis": "x12",
         "y": {
          "bdata": "7FG4HoXrwT/D9Shcj8LVPzMzMzMzM9M/CtejcD0K1z97FK5H4XrUPylcj8L1KNw/16NwPQrX0z+kcD0K16PQP9ejcD0K19M/ZmZmZmZm1j8zMzMzMzPTPzMzMzMzM9M/cT0K16NwzT9xPQrXo3DNP3sUrkfhesQ/FK5H4XoU3j8K16NwPQrHP3E9CtejcM0/cT0K16NwzT/2KFyPwvXYP0jhehSuR9E/4XoUrkfh2j9xPQrXo3DNPx+F61G4HtU/KVyPwvUozD9SuB6F61HgPwrXo3A9Csc/H4XrUbge1T8K16NwPQrXP8P1KFyPwtU/7FG4HoXr0T+PwvUoXI/SPzMzMzMzM9M/j8L1KFyP0j+amZmZmZnZP6RwPQrXo+A/uB6F61G4zj97FK5H4XrEP4/C9Shcj9I/7FG4HoXr4T8pXI/C9SjMP3E9CtejcN0/FK5H4XoU3j+4HoXrUbjOPwrXo3A9Ctc/cT0K16Nw3T+kcD0K16PQP+xRuB6F69E/uB6F61G4zj+amZmZmZnJP7gehetRuM4/CtejcD0Kxz8=",
          "dtype": "f8"
         },
         "yaxis": "y12"
        },
        {
         "colorscale": [
          [
           0,
           "#d28b88"
          ],
          [
           0.5,
           "#e8e8e8"
          ],
          [
           1,
           "#6f918b"
          ]
         ],
         "showscale": false,
         "type": "heatmap",
         "x": {
          "bdata": "AQIDBAUGBwgJCgsMDQ4PEBESExQVFhcYGRobHB0eHyAhIiMkJSYnKCkqKywtLi8wMTIzNA==",
          "dtype": "i1"
         },
         "xaxis": "x13",
         "y": [
          "acct7"
         ],
         "yaxis": "y13",
         "z": [
          [
           0.95,
           1.05,
           0.92,
           1.02,
           0.37,
           0.31,
           -0.85,
           0.25,
           -0.46,
           0.06,
           0.43,
           -0.44,
           -0.8,
           -0.76,
           0.62,
           -1.04,
           0.57,
           -0.58,
           -0.17,
           -0.54,
           0.17,
           -0.08,
           0.59,
           0.26,
           -0.76,
           0.74,
           0.59,
           -0.03,
           1.15,
           1,
           0.35,
           0.68,
           0.46,
           -0.25,
           0.16,
           0.3,
           -0.98,
           0.68,
           1.28,
           -0.75,
           0.48,
           -0.57,
           0.09,
           0.76,
           -0.66,
           0.44,
           0.87,
           0.13,
           -0.72,
           -0.24,
           0.55,
           0.8
          ]
         ],
         "zmax": 2,
         "zmin": -2
        },
        {
         "line": {
          "color": "#6f918b"
         },
         "marker": {
          "size": 4
         },
         "mode": "lines+markers",
         "showlegend": false,
         "type": "scatter",
         "x": {
          "bdata": "AQIDBAUGBwgJCgsMDQ4PEBESExQVFhcYGRobHB0eHyAhIiMkJSYnKCkqKywtLi8wMTIzNA==",
          "dtype": "i1"
         },
         "xaxis": "x14",
         "y": {
          "bdata": "ZmZmZmZm7j/NzMzMzMzwP3E9CtejcO0/UrgehetR8D+uR+F6FK7XP9ejcD0K19M/MzMzMzMz678AAAAAAADQP3E9CtejcN2/uB6F61G4rj+F61G4HoXbPylcj8L1KNy/mpmZmZmZ6b9SuB6F61Hov9ejcD0K1+M/pHA9Ctej8L89CtejcD3iP4/C9Shcj+K/w/UoXI/Cxb9I4XoUrkfhv8P1KFyPwsU/exSuR+F6tL/hehSuR+HiP6RwPQrXo9A/UrgehetR6L+uR+F6FK7nP+F6FK5H4eI/uB6F61G4nr9mZmZmZmbyPwAAAAAAAPA/ZmZmZmZm1j/D9Shcj8LlP3E9CtejcN0/AAAAAAAA0L97FK5H4XrEPzMzMzMzM9M/XI/C9Shc77/D9Shcj8LlP3sUrkfhevQ/AAAAAAAA6L+4HoXrUbjePz0K16NwPeK/CtejcD0Ktz9SuB6F61HoPx+F61G4HuW/KVyPwvUo3D/Xo3A9CtfrP6RwPQrXo8A/CtejcD0K57+4HoXrUbjOv5qZmZmZmeE/mpmZmZmZ6T8=",
          "dtype": "f8"
         },
         "yaxis": "y14"
        },
        {
         "line": {
          "color": "#888"
         },
         "mode": "lines+text",
         "showlegend": false,
         "text": [
          "0.16",
          "0.37",
          "0.36",
          "0.52",
          "0.27",
          "0.32",
          "0.32",
          "0.46",
          "0.29",
          "0.33",
          "0.36",
          "0.32",
          "0.26",
          "0.32",
          "0.41",
          "0.20",
          "0.31",
          "0.23",
          "0.42",
          "0.15",
          "0.24",
          "0.34",
          "0.46",
          "0.29",
          "0.24",
          "0.49",
          "0.16",
          "0.08",
          "0.34",
          "0.25",
          "0.20",
          "0.37",
          "0.32",
          "0.24",
          "0.17",
          "0.39",
          "0.37",
          "0.29",
          "0.48",
          "0.19",
          "0.15",
          "0.23",
          "0.30",
          "0.32",
          "0.28",
          "0.34",
          "0.17",
          "0.44",
          "0.29",
          "0.41",
          "0.33",
          "0.35"
         ],
         "textfont": {
          "size": 9
         },
         "textposition": "top center",
         "type": "scatter",
         "x": {
          "bdata": "AQIDBAUGBwgJCgsMDQ4PEBESExQVFhcYGRobHB0eHyAhIiMkJSYnKCkqKywtLi8wMTIzNA==",
          "dtype": "i1"
         },
         "xaxis": "x15",
         "y": {
          "bdata": "exSuR+F6xD+uR+F6FK7XPwrXo3A9Ctc/pHA9Ctej4D9I4XoUrkfRP3sUrkfhetQ/exSuR+F61D9xPQrXo3DdP4/C9Shcj9I/H4XrUbge1T8K16NwPQrXP3sUrkfhetQ/pHA9Ctej0D97FK5H4XrUPz0K16NwPdo/mpmZmZmZyT/Xo3A9CtfTP3E9CtejcM0/4XoUrkfh2j8zMzMzMzPDP7gehetRuM4/w/UoXI/C1T9xPQrXo3DdP4/C9Shcj9I/uB6F61G4zj9cj8L1KFzfP3sUrkfhesQ/exSuR+F6tD/D9Shcj8LVPwAAAAAAANA/mpmZmZmZyT+uR+F6FK7XP3sUrkfhetQ/uB6F61G4zj/D9Shcj8LFP/YoXI/C9dg/rkfhehSu1z+PwvUoXI/SP7gehetRuN4/UrgehetRyD8zMzMzMzPDP3E9CtejcM0/MzMzMzMz0z97FK5H4XrUP+xRuB6F69E/w/UoXI/C1T/D9Shcj8LFPylcj8L1KNw/j8L1KFyP0j89CtejcD3aPx+F61G4HtU/ZmZmZmZm1j8=",
          "dtype": "f8"
         },
         "yaxis": "y15"
        },
        {
         "colorscale": [
          [
           0,
           "#d28b88"
          ],
          [
           0.5,
           "#e8e8e8"
          ],
          [
           1,
           "#6f918b"
          ]
         ],
         "showscale": false,
         "type": "heatmap",
         "x": {
          "bdata": "AQIDBAUGBwgJCgsMDQ4PEBESExQVFhcYGRobHB0eHyAhIiMkJSYnKCkqKywtLi8wMTIzNA==",
          "dtype": "i1"
         },
         "xaxis": "x16",
         "y": [
          "acct8"
         ],
         "yaxis": "y16",
         "z": [
          [
           -0.54,
           -0.08,
           0.72,
           0.59,
           0.24,
           -0.02,
           0.24,
           0.15,
           -1.02,
           -0.31,
           -0.56,
           -0.62,
           1,
           -0.41,
           1,
           -0.22,
           0.09,
           0.56,
           0.38,
           0.31,
           0.44,
           0.79,
           -0.35,
           0.65,
           1.44,
           -0.04,
           -0.51,
           0.13,
           -0.87,
           -0.84,
           -0.39,
           0.05,
           1.22,
           0.59,
           0.41,
           0.14,
           0.05,
           -0.63,
           1.15,
           -0.71,
           0.64,
           0.57,
           -0.17,
           0.49,
           -0.08,
           0.75,
           0.47,
           -0.59,
           0.03,
           -0.07,
           0.53,
           -1.22
          ]
         ],
         "zmax": 2,
         "zmin": -2
        },
        {
         "line": {
          "color": "#6f918b"
         },
         "marker": {
          "size": 4
         },
         "mode": "lines+markers",
         "showlegend": false,
         "type": "scatter",
         "x": {
          "bdata": "AQIDBAUGBwgJCgsMDQ4PEBESExQVFhcYGRobHB0eHyAhIiMkJSYnKCkqKywtLi8wMTIzNA==",
          "dtype": "i1"
         },
         "xaxis": "x17",
         "y": {
          "bdata": "SOF6FK5H4b97FK5H4Xq0vwrXo3A9Cuc/4XoUrkfh4j+4HoXrUbjOP3sUrkfhepS/uB6F61G4zj8zMzMzMzPDP1K4HoXrUfC/16NwPQrX07/sUbgehevhv9ejcD0K1+O/AAAAAAAA8D89CtejcD3avwAAAAAAAPA/KVyPwvUozL8K16NwPQq3P+xRuB6F6+E/UrgehetR2D/Xo3A9CtfTPylcj8L1KNw/SOF6FK5H6T9mZmZmZmbWv83MzMzMzOQ/CtejcD0K9z97FK5H4Xqkv1K4HoXrUeC/pHA9CtejwD/Xo3A9Ctfrv+F6FK5H4eq/9ihcj8L12L+amZmZmZmpP4XrUbgehfM/4XoUrkfh4j89CtejcD3aP+xRuB6F68E/mpmZmZmZqT8pXI/C9Sjkv2ZmZmZmZvI/uB6F61G45r97FK5H4XrkPz0K16NwPeI/w/UoXI/Cxb9cj8L1KFzfP3sUrkfherS/AAAAAAAA6D8UrkfhehTeP+F6FK5H4eK/uB6F61G4nj/sUbgeheuxv/YoXI/C9eA/hetRuB6F878=",
          "dtype": "f8"
         },
         "yaxis": "y17"
        },
        {
         "line": {
          "color": "#888"
         },
         "mode": "lines+text",
         "showlegend": false,
         "text": [
          "0.45",
          "0.44",
          "0.24",
          "0.34",
          "0.35",
          "0.33",
          "0.24",
          "0.23",
          "0.30",
          "0.42",
          "0.35",
          "0.26",
          "0.38",
          "0.02",
          "0.41",
          "0.13",
          "0.26",
          "0.19",
          "0.17",
          "0.42",
          "0.25",
          "0.33",
          "0.30",
          "0.35",
          "0.31",
          "0.17",
          "0.40",
          "0.25",
          "0.14",
          "0.26",
          "0.45",
          "0.39",
          "0.27",
          "0.27",
          "0.27",
          "0.51",
          "0.34",
          "0.34",
          "0.40",
          "0.32",
          "0.27",
          "0.28",
          "0.29",
          "0.30",
          "0.37",
          "0.31",
          "0.37",
          "0.29",
          "0.31",
          "0.10",
          "0.39",
          "0.33"
         ],
         "textfont": {
          "size": 9
         },
         "textposition": "top center",
         "type": "scatter",
         "x": {
          "bdata": "AQIDBAUGBwgJCgsMDQ4PEBESExQVFhcYGRobHB0eHyAhIiMkJSYnKCkqKywtLi8wMTIzNA==",
          "dtype": "i1"
         },
         "xaxis": "x18",
         "y": {
          "bdata": "zczMzMzM3D8pXI/C9SjcP7gehetRuM4/w/UoXI/C1T9mZmZmZmbWPx+F61G4HtU/uB6F61G4zj9xPQrXo3DNPzMzMzMzM9M/4XoUrkfh2j9mZmZmZmbWP6RwPQrXo9A/UrgehetR2D97FK5H4XqUPz0K16NwPdo/pHA9CtejwD+kcD0K16PQP1K4HoXrUcg/w/UoXI/CxT/hehSuR+HaPwAAAAAAANA/H4XrUbge1T8zMzMzMzPTP2ZmZmZmZtY/16NwPQrX0z/D9Shcj8LFP5qZmZmZmdk/AAAAAAAA0D/sUbgehevBP6RwPQrXo9A/zczMzMzM3D/2KFyPwvXYP0jhehSuR9E/SOF6FK5H0T9I4XoUrkfRP1K4HoXrUeA/w/UoXI/C1T/D9Shcj8LVP5qZmZmZmdk/exSuR+F61D9I4XoUrkfRP+xRuB6F69E/j8L1KFyP0j8zMzMzMzPTP65H4XoUrtc/16NwPQrX0z+uR+F6FK7XP4/C9Shcj9I/16NwPQrX0z+amZmZmZm5P/YoXI/C9dg/H4XrUbge1T8=",
          "dtype": "f8"
         },
         "yaxis": "y18"
        },
        {
         "colorscale": [
          [
           0,
           "#d28b88"
          ],
          [
           0.5,
           "#e8e8e8"
          ],
          [
           1,
           "#6f918b"
          ]
         ],
         "showscale": false,
         "type": "heatmap",
         "x": {
          "bdata": "AQIDBAUGBwgJCgsMDQ4PEBESExQVFhcYGRobHB0eHyAhIiMkJSYnKCkqKywtLi8wMTIzNA==",
          "dtype": "i1"
         },
         "xaxis": "x19",
         "y": [
          "acct1"
         ],
         "yaxis": "y19",
         "z": [
          [
           -0.46,
           0.8,
           0.35,
           -0.24,
           -0.6,
           -0.61,
           -0.88,
           0.66,
           -0.22,
           0.29,
           -1.06,
           0.7,
           0.62,
           -0.45,
           -0.07,
           -0.58,
           -0.31,
           0.03,
           -0.71,
           -0.43,
           0.24,
           0.02,
           -0.47,
           -0.18,
           -0.1,
           0.22,
           -0.26,
           0.25,
           0.42,
           -1.18,
           0.64,
           -1.08,
           -0.69,
           1.55,
           0.63,
           0.45,
           -0.36,
           -0.96,
           -0.1,
           -0.1,
           -1.07,
           0.13,
           -1.21,
           1.28,
           -0.72,
           0.23,
           -0.13,
           -0.33,
           0.16,
           -0.24,
           0.46,
           0.61
          ]
         ],
         "zmax": 2,
         "zmin": -2
        },
        {
         "line": {
          "color": "#6f918b"
         },
         "marker": {
          "size": 4
         },
         "mode": "lines+markers",
         "showlegend": false,
         "type": "scatter",
         "x": {
          "bdata": "AQIDBAUGBwgJCgsMDQ4PEBESExQVFhcYGRobHB0eHyAhIiMkJSYnKCkqKywtLi8wMTIzNA==",
          "dtype": "i1"
         },
         "xaxis": "x20",
         "y": {
          "bdata": "cT0K16Nw3b+amZmZmZnpP2ZmZmZmZtY/uB6F61G4zr8zMzMzMzPjv4XrUbgeheO/KVyPwvUo7L8fhetRuB7lPylcj8L1KMy/j8L1KFyP0j/2KFyPwvXwv2ZmZmZmZuY/16NwPQrX4z/NzMzMzMzcv+xRuB6F67G/j8L1KFyP4r/Xo3A9CtfTv7gehetRuJ4/uB6F61G45r+F61G4HoXbv7gehetRuM4/exSuR+F6lD8UrkfhehTevwrXo3A9Cse/mpmZmZmZub8pXI/C9SjMP6RwPQrXo9C/AAAAAAAA0D/hehSuR+HaP+F6FK5H4fK/exSuR+F65D9I4XoUrkfxvxSuR+F6FOa/zczMzMzM+D8pXI/C9SjkP83MzMzMzNw/CtejcD0K17+4HoXrUbjuv5qZmZmZmbm/mpmZmZmZub8fhetRuB7xv6RwPQrXo8A/XI/C9Shc8797FK5H4Xr0PwrXo3A9Cue/cT0K16NwzT+kcD0K16PAvx+F61G4HtW/exSuR+F6xD+4HoXrUbjOv3E9CtejcN0/hetRuB6F4z8=",
          "dtype": "f8"
         },
         "yaxis": "y20"
        },
        {
         "line": {
          "color": "#888"
         },
         "mode": "lines+text",
         "showlegend": false,
         "text": [
          "0.37",
          "0.32",
          "0.29",
          "0.27",
          "0.15",
          "0.23",
          "0.25",
          "0.41",
          "0.33",
          "0.12",
          "0.33",
          "0.26",
          "0.23",
          "0.36",
          "0.40",
          "0.39",
          "0.22",
          "0.27",
          "0.33",
          "0.40",
          "0.25",
          "0.28",
          "0.19",
          "0.18",
          "0.38",
          "0.44",
          "0.29",
          "0.40",
          "0.34",
          "0.24",
          "0.34",
          "0.45",
          "0.30",
          "0.46",
          "0.04",
          "0.38",
          "0.31",
          "0.27",
          "0.31",
          "0.10",
          "0.28",
          "0.34",
          "0.45",
          "0.25",
          "0.22",
          "0.25",
          "0.39",
          "0.33",
          "0.25",
          "0.35",
          "0.31",
          "0.40"
         ],
         "textfont": {
          "size": 9
         },
         "textposition": "top center",
         "type": "scatter",
         "x": {
          "bdata": "AQIDBAUGBwgJCgsMDQ4PEBESExQVFhcYGRobHB0eHyAhIiMkJSYnKCkqKywtLi8wMTIzNA==",
          "dtype": "i1"
         },
         "xaxis": "x21",
         "y": {
          "bdata": "rkfhehSu1z97FK5H4XrUP4/C9Shcj9I/SOF6FK5H0T8zMzMzMzPDP3E9CtejcM0/AAAAAAAA0D89CtejcD3aPx+F61G4HtU/uB6F61G4vj8fhetRuB7VP6RwPQrXo9A/cT0K16NwzT8K16NwPQrXP5qZmZmZmdk/9ihcj8L12D8pXI/C9SjMP0jhehSuR9E/H4XrUbge1T+amZmZmZnZPwAAAAAAANA/7FG4HoXr0T9SuB6F61HIPwrXo3A9Csc/UrgehetR2D8pXI/C9SjcP4/C9Shcj9I/mpmZmZmZ2T/D9Shcj8LVP7gehetRuM4/w/UoXI/C1T/NzMzMzMzcPzMzMzMzM9M/cT0K16Nw3T97FK5H4XqkP1K4HoXrUdg/16NwPQrX0z9I4XoUrkfRP9ejcD0K19M/mpmZmZmZuT/sUbgehevRP8P1KFyPwtU/zczMzMzM3D8AAAAAAADQPylcj8L1KMw/AAAAAAAA0D/2KFyPwvXYPx+F61G4HtU/AAAAAAAA0D9mZmZmZmbWP9ejcD0K19M/mpmZmZmZ2T8=",
          "dtype": "f8"
         },
         "yaxis": "y21"
        },
        {
         "colorscale": [
          [
           0,
           "#d28b88"
          ],
          [
           0.5,
           "#e8e8e8"
          ],
          [
           1,
           "#6f918b"
          ]
         ],
         "showscale": false,
         "type": "heatmap",
         "x": {
          "bdata": "AQIDBAUGBwgJCgsMDQ4PEBESExQVFhcYGRobHB0eHyAhIiMkJSYnKCkqKywtLi8wMTIzNA==",
          "dtype": "i1"
         },
         "xaxis": "x22",
         "y": [
          "acct5"
         ],
         "yaxis": "y22",
         "z": [
          [
           -0.3,
           0.33,
           -0.16,
           0.18,
           -0.34,
           -0.02,
           0.39,
           0.02,
           -1.1,
           1.41,
           0.54,
           0.05,
           -0.5,
           0.25,
           0.08,
           0.21,
           0.42,
           0.79,
           -0.77,
           -0.49,
           -0.29,
           0.62,
           -1.04,
           0.49,
           0.2,
           0.94,
           -0.14,
           0.55,
           -0.68,
           0.32,
           -0.47,
           -0.26,
           0.44,
           -0.39,
           -0.75,
           0.02,
           -0.03,
           0.46,
           0,
           0.61,
           -1.12,
           0.2,
           -0.57,
           0.79,
           0,
           -0.08,
           -0.09,
           1.23,
           -0.66,
           0.22,
           -0.1,
           0.21
          ]
         ],
         "zmax": 2,
         "zmin": -2
        },
        {
         "line": {
          "color": "#6f918b"
         },
         "marker": {
          "size": 4
         },
         "mode": "lines+markers",
         "showlegend": false,
         "type": "scatter",
         "x": {
          "bdata": "AQIDBAUGBwgJCgsMDQ4PEBESExQVFhcYGRobHB0eHyAhIiMkJSYnKCkqKywtLi8wMTIzNA==",
          "dtype": "i1"
         },
         "xaxis": "x23",
         "y": {
          "bdata": "MzMzMzMz078fhetRuB7VP3sUrkfhesS/CtejcD0Kxz/D9Shcj8LVv3sUrkfhepS/9ihcj8L12D97FK5H4XqUP5qZmZmZmfG/j8L1KFyP9j9I4XoUrkfhP5qZmZmZmak/AAAAAAAA4L8AAAAAAADQP3sUrkfherQ/4XoUrkfhyj/hehSuR+HaP0jhehSuR+k/pHA9Ctej6L9cj8L1KFzfv4/C9Shcj9K/16NwPQrX4z+kcD0K16Pwv1yPwvUoXN8/mpmZmZmZyT8UrkfhehTuP+xRuB6F68G/mpmZmZmZ4T/D9Shcj8Llv3sUrkfhetQ/FK5H4XoU3r+kcD0K16PQvylcj8L1KNw/9ihcj8L12L8AAAAAAADov3sUrkfhepQ/uB6F61G4nr9xPQrXo3DdPwAAAAAAAAAAhetRuB6F4z/sUbgehevxv5qZmZmZmck/PQrXo3A94r9I4XoUrkfpPwAAAAAAAAAAexSuR+F6tL8K16NwPQq3v65H4XoUrvM/H4XrUbge5b8pXI/C9SjMP5qZmZmZmbm/4XoUrkfhyj8=",
          "dtype": "f8"
         },
         "yaxis": "y23"
        },
        {
         "line": {
          "color": "#888"
         },
         "mode": "lines+text",
         "showlegend": false,
         "text": [
          "0.31",
          "0.37",
          "0.35",
          "0.32",
          "0.22",
          "0.35",
          "0.49",
          "0.43",
          "0.46",
          "0.25",
          "0.20",
          "0.29",
          "0.31",
          "0.41",
          "0.13",
          "0.45",
          "0.28",
          "0.26",
          "0.20",
          "0.13",
          "0.38",
          "0.31",
          "0.17",
          "0.17",
          "0.27",
          "0.47",
          "0.27",
          "0.15",
          "0.28",
          "0.27",
          "0.03",
          "0.29",
          "0.28",
          "0.37",
          "0.48",
          "0.41",
          "0.27",
          "0.19",
          "0.56",
          "0.31",
          "0.30",
          "0.30",
          "0.32",
          "0.29",
          "0.24",
          "0.25",
          "0.30",
          "0.25",
          "0.23",
          "0.31",
          "0.27",
          "0.45"
         ],
         "textfont": {
          "size": 9
         },
         "textposition": "top center",
         "type": "scatter",
         "x": {
          "bdata": "AQIDBAUGBwgJCgsMDQ4PEBESExQVFhcYGRobHB0eHyAhIiMkJSYnKCkqKywtLi8wMTIzNA==",
          "dtype": "i1"
         },
         "xaxis": "x24",
         "y": {
          "bdata": "16NwPQrX0z+uR+F6FK7XP2ZmZmZmZtY/exSuR+F61D8pXI/C9SjMP2ZmZmZmZtY/XI/C9Shc3z+F61G4HoXbP3E9CtejcN0/AAAAAAAA0D+amZmZmZnJP4/C9Shcj9I/16NwPQrX0z89CtejcD3aP6RwPQrXo8A/zczMzMzM3D/sUbgehevRP6RwPQrXo9A/mpmZmZmZyT+kcD0K16PAP1K4HoXrUdg/16NwPQrX0z/D9Shcj8LFP8P1KFyPwsU/SOF6FK5H0T8UrkfhehTeP0jhehSuR9E/MzMzMzMzwz/sUbgehevRP0jhehSuR9E/uB6F61G4nj+PwvUoXI/SP+xRuB6F69E/rkfhehSu1z+4HoXrUbjePz0K16NwPdo/SOF6FK5H0T9SuB6F61HIP+xRuB6F6+E/16NwPQrX0z8zMzMzMzPTPzMzMzMzM9M/exSuR+F61D+PwvUoXI/SP7gehetRuM4/AAAAAAAA0D8zMzMzMzPTPwAAAAAAANA/cT0K16NwzT/Xo3A9CtfTP0jhehSuR9E/zczMzMzM3D8=",
          "dtype": "f8"
         },
         "yaxis": "y24"
        },
        {
         "colorscale": [
          [
           0,
           "#d28b88"
          ],
          [
           0.5,
           "#e8e8e8"
          ],
          [
           1,
           "#6f918b"
          ]
         ],
         "showscale": false,
         "type": "heatmap",
         "x": {
          "bdata": "AQIDBAUGBwgJCgsMDQ4PEBESExQVFhcYGRobHB0eHyAhIiMkJSYnKCkqKywtLi8wMTIzNA==",
          "dtype": "i1"
         },
         "xaxis": "x25",
         "y": [
          "acct4"
         ],
         "yaxis": "y25",
         "z": [
          [
           -0.19,
           0.1,
           0.31,
           -0.14,
           -0.17,
           0.74,
           -0.44,
           -0.3,
           0.24,
           0.91,
           -0.63,
           0.58,
           0.18,
           -0.98,
           -0.1,
           0.6,
           -0.21,
           -0.33,
           0.01,
           -0.64,
           -0.55,
           -0.92,
           -0.49,
           -1.04,
           -0.56,
           0.71,
           -1.38,
           -0.55,
           0.97,
           -0.11,
           0.45,
           -0.84,
           -0.59,
           -0.96,
           -0.31,
           -0.37,
           -0.54,
           -0.95,
           -0.91,
           -0.21,
           -0.47,
           -0.4,
           0.09,
           1,
           -0.66,
           0.5,
           0.62,
           -0.96,
           0.14,
           0.54,
           -1.44,
           -0.55
          ]
         ],
         "zmax": 2,
         "zmin": -2
        },
        {
         "line": {
          "color": "#6f918b"
         },
         "marker": {
          "size": 4
         },
         "mode": "lines+markers",
         "showlegend": false,
         "type": "scatter",
         "x": {
          "bdata": "AQIDBAUGBwgJCgsMDQ4PEBESExQVFhcYGRobHB0eHyAhIiMkJSYnKCkqKywtLi8wMTIzNA==",
          "dtype": "i1"
         },
         "xaxis": "x26",
         "y": {
          "bdata": "UrgehetRyL+amZmZmZm5P9ejcD0K19M/7FG4HoXrwb/D9Shcj8LFv65H4XoUruc/KVyPwvUo3L8zMzMzMzPTv7gehetRuM4/H4XrUbge7T8pXI/C9Sjkv4/C9Shcj+I/CtejcD0Kxz9cj8L1KFzvv5qZmZmZmbm/MzMzMzMz4z/hehSuR+HKvx+F61G4HtW/exSuR+F6hD97FK5H4Xrkv5qZmZmZmeG/cT0K16Nw7b9cj8L1KFzfv6RwPQrXo/C/7FG4HoXr4b+4HoXrUbjmPxSuR+F6FPa/mpmZmZmZ4b8K16NwPQrvPylcj8L1KLy/zczMzMzM3D/hehSuR+Hqv+F6FK5H4eK/uB6F61G47r/Xo3A9CtfTv65H4XoUrte/SOF6FK5H4b9mZmZmZmbuvx+F61G4Hu2/4XoUrkfhyr8UrkfhehTev5qZmZmZmdm/CtejcD0Ktz8AAAAAAADwPx+F61G4HuW/AAAAAAAA4D/Xo3A9CtfjP7gehetRuO6/7FG4HoXrwT9I4XoUrkfhPwrXo3A9Cve/mpmZmZmZ4b8=",
          "dtype": "f8"
         },
         "yaxis": "y26"
        },
        {
         "line": {
          "color": "#888"
         },
         "mode": "lines+text",
         "showlegend": false,
         "text": [
          "0.36",
          "0.38",
          "0.25",
          "0.24",
          "0.27",
          "0.07",
          "0.15",
          "0.44",
          "0.46",
          "0.28",
          "0.36",
          "0.33",
          "0.61",
          "0.41",
          "0.29",
          "0.20",
          "0.14",
          "0.32",
          "0.22",
          "0.16",
          "0.24",
          "0.19",
          "0.47",
          "0.39",
          "0.30",
          "0.45",
          "0.31",
          "0.21",
          "0.45",
          "0.35",
          "0.20",
          "0.28",
          "0.21",
          "0.16",
          "0.39",
          "0.49",
          "0.16",
          "0.36",
          "0.23",
          "0.25",
          "0.24",
          "0.21",
          "0.30",
          "0.22",
          "0.33",
          "0.29",
          "0.28",
          "0.21",
          "0.24",
          "0.38",
          "0.35",
          "0.20"
         ],
         "textfont": {
          "size": 9
         },
         "textposition": "top center",
         "type": "scatter",
         "x": {
          "bdata": "AQIDBAUGBwgJCgsMDQ4PEBESExQVFhcYGRobHB0eHyAhIiMkJSYnKCkqKywtLi8wMTIzNA==",
          "dtype": "i1"
         },
         "xaxis": "x27",
         "y": {
          "bdata": "CtejcD0K1z9SuB6F61HYPwAAAAAAANA/uB6F61G4zj9I4XoUrkfRP+xRuB6F67E/MzMzMzMzwz8pXI/C9SjcP3E9CtejcN0/7FG4HoXr0T8K16NwPQrXPx+F61G4HtU/hetRuB6F4z89CtejcD3aP4/C9Shcj9I/mpmZmZmZyT/sUbgehevBP3sUrkfhetQ/KVyPwvUozD97FK5H4XrEP7gehetRuM4/UrgehetRyD8UrkfhehTeP/YoXI/C9dg/MzMzMzMz0z/NzMzMzMzcP9ejcD0K19M/4XoUrkfhyj/NzMzMzMzcP2ZmZmZmZtY/mpmZmZmZyT/sUbgehevRP+F6FK5H4co/exSuR+F6xD/2KFyPwvXYP1yPwvUoXN8/exSuR+F6xD8K16NwPQrXP3E9CtejcM0/AAAAAAAA0D+4HoXrUbjOP+F6FK5H4co/MzMzMzMz0z8pXI/C9SjMPx+F61G4HtU/j8L1KFyP0j/sUbgehevRP+F6FK5H4co/uB6F61G4zj9SuB6F61HYP2ZmZmZmZtY/mpmZmZmZyT8=",
          "dtype": "f8"
         },
         "yaxis": "y27"
        },
        {
         "colorscale": [
          [
           0,
           "#d28b88"
          ],
          [
           0.5,
           "#e8e8e8"
          ],
          [
           1,
           "#6f918b"
          ]
         ],
         "showscale": false,
         "type": "heatmap",
         "x": {
          "bdata": "AQIDBAUGBwgJCgsMDQ4PEBESExQVFhcYGRobHB0eHyAhIiMkJSYnKCkqKywtLi8wMTIzNA==",
          "dtype": "i1"
         },
         "xaxis": "x28",
         "y": [
          "acct10"
         ],
         "yaxis": "y28",
         "z": [
          [
           0.87,
           0.41,
           1.18,
           -0.35,
           -0.95,
           -0.14,
           -1.06,
           0.1,
           0.05,
           0.75,
           -0.03,
           0.81,
           -0.38,
           0.94,
           1.14,
           -0.25,
           -0.21,
           0.98,
           -0.75,
           -0.07,
           0.2,
           -0.54,
           -0.13,
           -0.21,
           -1.14,
           -0.45,
           0.94,
           0.18,
           1.39,
           0.02,
           -0.21,
           0.33,
           -0.23,
           -1.04,
           -0.03,
           -1.16,
           0.86,
           -0.03,
           -0.76,
           -0.96,
           0.65,
           0.16,
           -0.63,
           0.81,
           -0.93,
           0.47,
           0.89,
           -0.04,
           -0.57,
           -0.54,
           -0.19,
           -0.45
          ]
         ],
         "zmax": 2,
         "zmin": -2
        },
        {
         "line": {
          "color": "#6f918b"
         },
         "marker": {
          "size": 4
         },
         "mode": "lines+markers",
         "showlegend": false,
         "type": "scatter",
         "x": {
          "bdata": "AQIDBAUGBwgJCgsMDQ4PEBESExQVFhcYGRobHB0eHyAhIiMkJSYnKCkqKywtLi8wMTIzNA==",
          "dtype": "i1"
         },
         "xaxis": "x29",
         "y": {
          "bdata": "16NwPQrX6z89CtejcD3aP+F6FK5H4fI/ZmZmZmZm1r9mZmZmZmbuv+xRuB6F68G/9ihcj8L18L+amZmZmZm5P5qZmZmZmak/AAAAAAAA6D+4HoXrUbiev+xRuB6F6+k/UrgehetR2L8UrkfhehTuPz0K16NwPfI/AAAAAAAA0L/hehSuR+HKv1yPwvUoXO8/AAAAAAAA6L/sUbgeheuxv5qZmZmZmck/SOF6FK5H4b+kcD0K16PAv+F6FK5H4cq/PQrXo3A98r/NzMzMzMzcvxSuR+F6FO4/CtejcD0Kxz89CtejcD32P3sUrkfhepQ/4XoUrkfhyr8fhetRuB7VP3E9CtejcM2/pHA9Ctej8L+4HoXrUbiev4/C9Shcj/K/hetRuB6F6z+4HoXrUbiev1K4HoXrUei/uB6F61G47r/NzMzMzMzkP3sUrkfhesQ/KVyPwvUo5L/sUbgehevpP8P1KFyPwu2/FK5H4XoU3j97FK5H4XrsP3sUrkfheqS/PQrXo3A94r9I4XoUrkfhv1K4HoXrUci/zczMzMzM3L8=",
          "dtype": "f8"
         },
         "yaxis": "y29"
        },
        {
         "line": {
          "color": "#888"
         },
         "mode": "lines+text",
         "showlegend": false,
         "text": [
          "0.26",
          "0.32",
          "0.32",
          "0.30",
          "0.34",
          "0.42",
          "0.39",
          "0.15",
          "0.04",
          "0.39",
          "0.16",
          "0.28",
          "0.18",
          "0.12",
          "0.35",
          "0.38",
          "0.24",
          "0.04",
          "0.25",
          "0.34",
          "0.15",
          "0.32",
          "0.30",
          "0.36",
          "0.31",
          "0.20",
          "0.42",
          "0.28",
          "0.30",
          "0.21",
          "0.26",
          "0.21",
          "0.28",
          "0.47",
          "0.16",
          "0.14",
          "0.45",
          "0.28",
          "0.23",
          "0.40",
          "0.24",
          "0.48",
          "0.37",
          "0.25",
          "0.52",
          "0.24",
          "0.37",
          "0.33",
          "0.43",
          "0.46",
          "0.30",
          "0.22"
         ],
         "textfont": {
          "size": 9
         },
         "textposition": "top center",
         "type": "scatter",
         "x": {
          "bdata": "AQIDBAUGBwgJCgsMDQ4PEBESExQVFhcYGRobHB0eHyAhIiMkJSYnKCkqKywtLi8wMTIzNA==",
          "dtype": "i1"
         },
         "xaxis": "x30",
         "y": {
          "bdata": "pHA9Ctej0D97FK5H4XrUP3sUrkfhetQ/MzMzMzMz0z/D9Shcj8LVP+F6FK5H4do/9ihcj8L12D8zMzMzMzPDP3sUrkfheqQ/9ihcj8L12D97FK5H4XrEP+xRuB6F69E/CtejcD0Kxz+4HoXrUbi+P2ZmZmZmZtY/UrgehetR2D+4HoXrUbjOP3sUrkfheqQ/AAAAAAAA0D/D9Shcj8LVPzMzMzMzM8M/exSuR+F61D8zMzMzMzPTPwrXo3A9Ctc/16NwPQrX0z+amZmZmZnJP+F6FK5H4do/7FG4HoXr0T8zMzMzMzPTP+F6FK5H4co/pHA9Ctej0D/hehSuR+HKP+xRuB6F69E/FK5H4XoU3j97FK5H4XrEP+xRuB6F68E/zczMzMzM3D/sUbgehevRP3E9CtejcM0/mpmZmZmZ2T+4HoXrUbjOP7gehetRuN4/rkfhehSu1z8AAAAAAADQP6RwPQrXo+A/uB6F61G4zj+uR+F6FK7XPx+F61G4HtU/hetRuB6F2z9xPQrXo3DdPzMzMzMzM9M/KVyPwvUozD8=",
          "dtype": "f8"
         },
         "yaxis": "y30"
        }
       ],
       "layout": {
        "annotations": [
         {
          "font": {
           "size": 16
          },
          "showarrow": false,
          "text": "acct6",
          "x": 0.14333333333333334,
          "xanchor": "center",
          "xref": "paper",
          "y": 0.9999999999999999,
          "yanchor": "bottom",
          "yref": "paper"
         },
         {
          "font": {
           "size": 16
          },
          "showarrow": false,
          "text": "acct6",
          "x": 0.5,
          "xanchor": "center",
          "xref": "paper",
          "y": 0.9999999999999999,
          "yanchor": "bottom",
          "yref": "paper"
         },
         {
          "font": {
           "size": 16
          },
          "showarrow": false,
          "text": "acct6",
          "x": 0.8566666666666667,
          "xanchor": "center",
          "xref": "paper",
          "y": 0.9999999999999999,
          "yanchor": "bottom",
          "yref": "paper"
         },
         {
          "font": {
           "size": 16
          },
          "showarrow": false,
          "text": "acct2",
          "x": 0.14333333333333334,
          "xanchor": "center",
          "xref": "paper",
          "y": 0.8969999999999999,
          "yanchor": "bottom",
          "yref": "paper"
         },
         {
          "font": {
           "size": 16
          },
          "showarrow": false,
          "text": "acct2",
          "x": 0.5,
          "xanchor": "center",
          "xref": "paper",
          "y": 0.8969999999999999,
          "yanchor": "bottom",
          "yref": "paper"
         },
         {
          "font": {
           "size": 16
          },
          "showarrow": false,
          "text": "acct2",
          "x": 0.8566666666666667,
          "xanchor": "center",
          "xref": "paper",
          "y": 0.8969999999999999,
          "yanchor": "bottom",
          "yref": "paper"
         },
         {
          "font": {
           "size": 16
          },
          "showarrow": false,
          "text": "acct3",
          "x": 0.14333333333333334,
          "xanchor": "center",
          "xref": "paper",
          "y": 0.7939999999999999,
          "yanchor": "bottom",
          "yref": "paper"
         },
         {
          "font": {
           "size": 16
          },
          "showarrow": false,
          "text": "acct3",
          "x": 0.5,
          "xanchor": "center",
          "xref": "paper",
          "y": 0.7939999999999999,
          "yanchor": "bottom",
          "yref": "paper"
         },
         {
          "font": {
           "size": 16
          },
          "showarrow": false,
          "text": "acct3",
          "x": 0.8566666666666667,
          "xanchor": "center",
          "xref": "paper",
          "y": 0.7939999999999999,
          "yanchor": "bottom",
          "yref": "paper"
         },
         {
          "font": {
           "size": 16
          },
          "showarrow": false,
          "text": "acct9",
          "x": 0.14333333333333334,
          "xanchor": "center",
          "xref": "paper",
          "y": 0.6909999999999998,
          "yanchor": "bottom",
          "yref": "paper"
         },
         {
          "font": {
           "size": 16
          },
          "showarrow": false,
          "text": "acct9",
          "x": 0.5,
          "xanchor": "center",
          "xref": "paper",
          "y": 0.6909999999999998,
          "yanchor": "bottom",
          "yref": "paper"
         },
         {
          "font": {
           "size": 16
          },
          "showarrow": false,
          "text": "acct9",
          "x": 0.8566666666666667,
          "xanchor": "center",
          "xref": "paper",
          "y": 0.6909999999999998,
          "yanchor": "bottom",
          "yref": "paper"
         },
         {
          "font": {
           "size": 16
          },
          "showarrow": false,
          "text": "acct7",
          "x": 0.14333333333333334,
          "xanchor": "center",
          "xref": "paper",
          "y": 0.588,
          "yanchor": "bottom",
          "yref": "paper"
         },
         {
          "font": {
           "size": 16
          },
          "showarrow": false,
          "text": "acct7",
          "x": 0.5,
          "xanchor": "center",
          "xref": "paper",
          "y": 0.588,
          "yanchor": "bottom",
          "yref": "paper"
         },
         {
          "font": {
           "size": 16
          },
          "showarrow": false,
          "text": "acct7",
          "x": 0.8566666666666667,
          "xanchor": "center",
          "xref": "paper",
          "y": 0.588,
          "yanchor": "bottom",
          "yref": "paper"
         },
         {
          "font": {
           "size": 16
          },
          "showarrow": false,
          "text": "acct8",
          "x": 0.14333333333333334,
          "xanchor": "center",
          "xref": "paper",
          "y": 0.485,
          "yanchor": "bottom",
          "yref": "paper"
         },
         {
          "font": {
           "size": 16
          },
          "showarrow": false,
          "text": "acct8",
          "x": 0.5,
          "xanchor": "center",
          "xref": "paper",
          "y": 0.485,
          "yanchor": "bottom",
          "yref": "paper"
         },
         {
          "font": {
           "size": 16
          },
          "showarrow": false,
          "text": "acct8",
          "x": 0.8566666666666667,
          "xanchor": "center",
          "xref": "paper",
          "y": 0.485,
          "yanchor": "bottom",
          "yref": "paper"
         },
         {
          "font": {
           "size": 16
          },
          "showarrow": false,
          "text": "acct1",
          "x": 0.14333333333333334,
          "xanchor": "center",
          "xref": "paper",
          "y": 0.38199999999999995,
          "yanchor": "bottom",
          "yref": "paper"
         },
         {
          "font": {
           "size": 16
          },
          "showarrow": false,
          "text": "acct1",
          "x": 0.5,
          "xanchor": "center",
          "xref": "paper",
          "y": 0.38199999999999995,
          "yanchor": "bottom",
          "yref": "paper"
         },
         {
          "font": {
           "size": 16
          },
          "showarrow": false,
          "text": "acct1",
          "x": 0.8566666666666667,
          "xanchor": "center",
          "xref": "paper",
          "y": 0.38199999999999995,
          "yanchor": "bottom",
          "yref": "paper"
         },
         {
          "font": {
           "size": 16
          },
          "showarrow": false,
          "text": "acct5",
          "x": 0.14333333333333334,
          "xanchor": "center",
          "xref": "paper",
          "y": 0.27899999999999997,
          "yanchor": "bottom",
          "yref": "paper"
         },
         {
          "font": {
           "size": 16
          },
          "showarrow": false,
          "text": "acct5",
          "x": 0.5,
          "xanchor": "center",
          "xref": "paper",
          "y": 0.27899999999999997,
          "yanchor": "bottom",
          "yref": "paper"
         },
         {
          "font": {
           "size": 16
          },
          "showarrow": false,
          "text": "acct5",
          "x": 0.8566666666666667,
          "xanchor": "center",
          "xref": "paper",
          "y": 0.27899999999999997,
          "yanchor": "bottom",
          "yref": "paper"
         },
         {
          "font": {
           "size": 16
          },
          "showarrow": false,
          "text": "acct4",
          "x": 0.14333333333333334,
          "xanchor": "center",
          "xref": "paper",
          "y": 0.176,
          "yanchor": "bottom",
          "yref": "paper"
         },
         {
          "font": {
           "size": 16
          },
          "showarrow": false,
          "text": "acct4",
          "x": 0.5,
          "xanchor": "center",
          "xref": "paper",
          "y": 0.176,
          "yanchor": "bottom",
          "yref": "paper"
         },
         {
          "font": {
           "size": 16
          },
          "showarrow": false,
          "text": "acct4",
          "x": 0.8566666666666667,
          "xanchor": "center",
          "xref": "paper",
          "y": 0.176,
          "yanchor": "bottom",
          "yref": "paper"
         },
         {
          "font": {
           "size": 16
          },
          "showarrow": false,
          "text": "acct10",
          "x": 0.14333333333333334,
          "xanchor": "center",
          "xref": "paper",
          "y": 0.073,
          "yanchor": "bottom",
          "yref": "paper"
         },
         {
          "font": {
           "size": 16
          },
          "showarrow": false,
          "text": "acct10",
          "x": 0.5,
          "xanchor": "center",
          "xref": "paper",
          "y": 0.073,
          "yanchor": "bottom",
          "yref": "paper"
         },
         {
          "font": {
           "size": 16
          },
          "showarrow": false,
          "text": "acct10",
          "x": 0.8566666666666667,
          "xanchor": "center",
          "xref": "paper",
          "y": 0.073,
          "yanchor": "bottom",
          "yref": "paper"
         },
         {
          "font": {
           "size": 16
          },
          "showarrow": false,
          "text": "Stocking Change Heatmap",
          "x": 0.14333333333333334,
          "xanchor": "center",
          "xref": "paper",
          "y": 0.9999999999999999,
          "yanchor": "bottom",
          "yref": "paper"
         },
         {
          "font": {
           "size": 16
          },
          "showarrow": false,
          "text": "Stocking Change Line",
          "x": 0.5,
          "xanchor": "center",
          "xref": "paper",
          "y": 0.9999999999999999,
          "yanchor": "bottom",
          "yref": "paper"
         },
         {
          "font": {
           "size": 16
          },
          "showarrow": false,
          "text": "Volatility Line",
          "x": 0.8566666666666667,
          "xanchor": "center",
          "xref": "paper",
          "y": 0.9999999999999999,
          "yanchor": "bottom",
          "yref": "paper"
         }
        ],
        "font": {
         "family": "Courier New",
         "size": 10
        },
        "height": 2200,
        "margin": {
         "b": 40,
         "l": 40,
         "r": 40,
         "t": 60
        },
        "template": {
         "data": {
          "bar": [
           {
            "error_x": {
             "color": "#2a3f5f"
            },
            "error_y": {
             "color": "#2a3f5f"
            },
            "marker": {
             "line": {
              "color": "#E5ECF6",
              "width": 0.5
             },
             "pattern": {
              "fillmode": "overlay",
              "size": 10,
              "solidity": 0.2
             }
            },
            "type": "bar"
           }
          ],
          "barpolar": [
           {
            "marker": {
             "line": {
              "color": "#E5ECF6",
              "width": 0.5
             },
             "pattern": {
              "fillmode": "overlay",
              "size": 10,
              "solidity": 0.2
             }
            },
            "type": "barpolar"
           }
          ],
          "carpet": [
           {
            "aaxis": {
             "endlinecolor": "#2a3f5f",
             "gridcolor": "white",
             "linecolor": "white",
             "minorgridcolor": "white",
             "startlinecolor": "#2a3f5f"
            },
            "baxis": {
             "endlinecolor": "#2a3f5f",
             "gridcolor": "white",
             "linecolor": "white",
             "minorgridcolor": "white",
             "startlinecolor": "#2a3f5f"
            },
            "type": "carpet"
           }
          ],
          "choropleth": [
           {
            "colorbar": {
             "outlinewidth": 0,
             "ticks": ""
            },
            "type": "choropleth"
           }
          ],
          "contour": [
           {
            "colorbar": {
             "outlinewidth": 0,
             "ticks": ""
            },
            "colorscale": [
             [
              0,
              "#0d0887"
             ],
             [
              0.1111111111111111,
              "#46039f"
             ],
             [
              0.2222222222222222,
              "#7201a8"
             ],
             [
              0.3333333333333333,
              "#9c179e"
             ],
             [
              0.4444444444444444,
              "#bd3786"
             ],
             [
              0.5555555555555556,
              "#d8576b"
             ],
             [
              0.6666666666666666,
              "#ed7953"
             ],
             [
              0.7777777777777778,
              "#fb9f3a"
             ],
             [
              0.8888888888888888,
              "#fdca26"
             ],
             [
              1,
              "#f0f921"
             ]
            ],
            "type": "contour"
           }
          ],
          "contourcarpet": [
           {
            "colorbar": {
             "outlinewidth": 0,
             "ticks": ""
            },
            "type": "contourcarpet"
           }
          ],
          "heatmap": [
           {
            "colorbar": {
             "outlinewidth": 0,
             "ticks": ""
            },
            "colorscale": [
             [
              0,
              "#0d0887"
             ],
             [
              0.1111111111111111,
              "#46039f"
             ],
             [
              0.2222222222222222,
              "#7201a8"
             ],
             [
              0.3333333333333333,
              "#9c179e"
             ],
             [
              0.4444444444444444,
              "#bd3786"
             ],
             [
              0.5555555555555556,
              "#d8576b"
             ],
             [
              0.6666666666666666,
              "#ed7953"
             ],
             [
              0.7777777777777778,
              "#fb9f3a"
             ],
             [
              0.8888888888888888,
              "#fdca26"
             ],
             [
              1,
              "#f0f921"
             ]
            ],
            "type": "heatmap"
           }
          ],
          "histogram": [
           {
            "marker": {
             "pattern": {
              "fillmode": "overlay",
              "size": 10,
              "solidity": 0.2
             }
            },
            "type": "histogram"
           }
          ],
          "histogram2d": [
           {
            "colorbar": {
             "outlinewidth": 0,
             "ticks": ""
            },
            "colorscale": [
             [
              0,
              "#0d0887"
             ],
             [
              0.1111111111111111,
              "#46039f"
             ],
             [
              0.2222222222222222,
              "#7201a8"
             ],
             [
              0.3333333333333333,
              "#9c179e"
             ],
             [
              0.4444444444444444,
              "#bd3786"
             ],
             [
              0.5555555555555556,
              "#d8576b"
             ],
             [
              0.6666666666666666,
              "#ed7953"
             ],
             [
              0.7777777777777778,
              "#fb9f3a"
             ],
             [
              0.8888888888888888,
              "#fdca26"
             ],
             [
              1,
              "#f0f921"
             ]
            ],
            "type": "histogram2d"
           }
          ],
          "histogram2dcontour": [
           {
            "colorbar": {
             "outlinewidth": 0,
             "ticks": ""
            },
            "colorscale": [
             [
              0,
              "#0d0887"
             ],
             [
              0.1111111111111111,
              "#46039f"
             ],
             [
              0.2222222222222222,
              "#7201a8"
             ],
             [
              0.3333333333333333,
              "#9c179e"
             ],
             [
              0.4444444444444444,
              "#bd3786"
             ],
             [
              0.5555555555555556,
              "#d8576b"
             ],
             [
              0.6666666666666666,
              "#ed7953"
             ],
             [
              0.7777777777777778,
              "#fb9f3a"
             ],
             [
              0.8888888888888888,
              "#fdca26"
             ],
             [
              1,
              "#f0f921"
             ]
            ],
            "type": "histogram2dcontour"
           }
          ],
          "mesh3d": [
           {
            "colorbar": {
             "outlinewidth": 0,
             "ticks": ""
            },
            "type": "mesh3d"
           }
          ],
          "parcoords": [
           {
            "line": {
             "colorbar": {
              "outlinewidth": 0,
              "ticks": ""
             }
            },
            "type": "parcoords"
           }
          ],
          "pie": [
           {
            "automargin": true,
            "type": "pie"
           }
          ],
          "scatter": [
           {
            "fillpattern": {
             "fillmode": "overlay",
             "size": 10,
             "solidity": 0.2
            },
            "type": "scatter"
           }
          ],
          "scatter3d": [
           {
            "line": {
             "colorbar": {
              "outlinewidth": 0,
              "ticks": ""
             }
            },
            "marker": {
             "colorbar": {
              "outlinewidth": 0,
              "ticks": ""
             }
            },
            "type": "scatter3d"
           }
          ],
          "scattercarpet": [
           {
            "marker": {
             "colorbar": {
              "outlinewidth": 0,
              "ticks": ""
             }
            },
            "type": "scattercarpet"
           }
          ],
          "scattergeo": [
           {
            "marker": {
             "colorbar": {
              "outlinewidth": 0,
              "ticks": ""
             }
            },
            "type": "scattergeo"
           }
          ],
          "scattergl": [
           {
            "marker": {
             "colorbar": {
              "outlinewidth": 0,
              "ticks": ""
             }
            },
            "type": "scattergl"
           }
          ],
          "scattermap": [
           {
            "marker": {
             "colorbar": {
              "outlinewidth": 0,
              "ticks": ""
             }
            },
            "type": "scattermap"
           }
          ],
          "scattermapbox": [
           {
            "marker": {
             "colorbar": {
              "outlinewidth": 0,
              "ticks": ""
             }
            },
            "type": "scattermapbox"
           }
          ],
          "scatterpolar": [
           {
            "marker": {
             "colorbar": {
              "outlinewidth": 0,
              "ticks": ""
             }
            },
            "type": "scatterpolar"
           }
          ],
          "scatterpolargl": [
           {
            "marker": {
             "colorbar": {
              "outlinewidth": 0,
              "ticks": ""
             }
            },
            "type": "scatterpolargl"
           }
          ],
          "scatterternary": [
           {
            "marker": {
             "colorbar": {
              "outlinewidth": 0,
              "ticks": ""
             }
            },
            "type": "scatterternary"
           }
          ],
          "surface": [
           {
            "colorbar": {
             "outlinewidth": 0,
             "ticks": ""
            },
            "colorscale": [
             [
              0,
              "#0d0887"
             ],
             [
              0.1111111111111111,
              "#46039f"
             ],
             [
              0.2222222222222222,
              "#7201a8"
             ],
             [
              0.3333333333333333,
              "#9c179e"
             ],
             [
              0.4444444444444444,
              "#bd3786"
             ],
             [
              0.5555555555555556,
              "#d8576b"
             ],
             [
              0.6666666666666666,
              "#ed7953"
             ],
             [
              0.7777777777777778,
              "#fb9f3a"
             ],
             [
              0.8888888888888888,
              "#fdca26"
             ],
             [
              1,
              "#f0f921"
             ]
            ],
            "type": "surface"
           }
          ],
          "table": [
           {
            "cells": {
             "fill": {
              "color": "#EBF0F8"
             },
             "line": {
              "color": "white"
             }
            },
            "header": {
             "fill": {
              "color": "#C8D4E3"
             },
             "line": {
              "color": "white"
             }
            },
            "type": "table"
           }
          ]
         },
         "layout": {
          "annotationdefaults": {
           "arrowcolor": "#2a3f5f",
           "arrowhead": 0,
           "arrowwidth": 1
          },
          "autotypenumbers": "strict",
          "coloraxis": {
           "colorbar": {
            "outlinewidth": 0,
            "ticks": ""
           }
          },
          "colorscale": {
           "diverging": [
            [
             0,
             "#8e0152"
            ],
            [
             0.1,
             "#c51b7d"
            ],
            [
             0.2,
             "#de77ae"
            ],
            [
             0.3,
             "#f1b6da"
            ],
            [
             0.4,
             "#fde0ef"
            ],
            [
             0.5,
             "#f7f7f7"
            ],
            [
             0.6,
             "#e6f5d0"
            ],
            [
             0.7,
             "#b8e186"
            ],
            [
             0.8,
             "#7fbc41"
            ],
            [
             0.9,
             "#4d9221"
            ],
            [
             1,
             "#276419"
            ]
           ],
           "sequential": [
            [
             0,
             "#0d0887"
            ],
            [
             0.1111111111111111,
             "#46039f"
            ],
            [
             0.2222222222222222,
             "#7201a8"
            ],
            [
             0.3333333333333333,
             "#9c179e"
            ],
            [
             0.4444444444444444,
             "#bd3786"
            ],
            [
             0.5555555555555556,
             "#d8576b"
            ],
            [
             0.6666666666666666,
             "#ed7953"
            ],
            [
             0.7777777777777778,
             "#fb9f3a"
            ],
            [
             0.8888888888888888,
             "#fdca26"
            ],
            [
             1,
             "#f0f921"
            ]
           ],
           "sequentialminus": [
            [
             0,
             "#0d0887"
            ],
            [
             0.1111111111111111,
             "#46039f"
            ],
            [
             0.2222222222222222,
             "#7201a8"
            ],
            [
             0.3333333333333333,
             "#9c179e"
            ],
            [
             0.4444444444444444,
             "#bd3786"
            ],
            [
             0.5555555555555556,
             "#d8576b"
            ],
            [
             0.6666666666666666,
             "#ed7953"
            ],
            [
             0.7777777777777778,
             "#fb9f3a"
            ],
            [
             0.8888888888888888,
             "#fdca26"
            ],
            [
             1,
             "#f0f921"
            ]
           ]
          },
          "colorway": [
           "#636efa",
           "#EF553B",
           "#00cc96",
           "#ab63fa",
           "#FFA15A",
           "#19d3f3",
           "#FF6692",
           "#B6E880",
           "#FF97FF",
           "#FECB52"
          ],
          "font": {
           "color": "#2a3f5f"
          },
          "geo": {
           "bgcolor": "white",
           "lakecolor": "white",
           "landcolor": "#E5ECF6",
           "showlakes": true,
           "showland": true,
           "subunitcolor": "white"
          },
          "hoverlabel": {
           "align": "left"
          },
          "hovermode": "closest",
          "mapbox": {
           "style": "light"
          },
          "paper_bgcolor": "white",
          "plot_bgcolor": "#E5ECF6",
          "polar": {
           "angularaxis": {
            "gridcolor": "white",
            "linecolor": "white",
            "ticks": ""
           },
           "bgcolor": "#E5ECF6",
           "radialaxis": {
            "gridcolor": "white",
            "linecolor": "white",
            "ticks": ""
           }
          },
          "scene": {
           "xaxis": {
            "backgroundcolor": "#E5ECF6",
            "gridcolor": "white",
            "gridwidth": 2,
            "linecolor": "white",
            "showbackground": true,
            "ticks": "",
            "zerolinecolor": "white"
           },
           "yaxis": {
            "backgroundcolor": "#E5ECF6",
            "gridcolor": "white",
            "gridwidth": 2,
            "linecolor": "white",
            "showbackground": true,
            "ticks": "",
            "zerolinecolor": "white"
           },
           "zaxis": {
            "backgroundcolor": "#E5ECF6",
            "gridcolor": "white",
            "gridwidth": 2,
            "linecolor": "white",
            "showbackground": true,
            "ticks": "",
            "zerolinecolor": "white"
           }
          },
          "shapedefaults": {
           "line": {
            "color": "#2a3f5f"
           }
          },
          "ternary": {
           "aaxis": {
            "gridcolor": "white",
            "linecolor": "white",
            "ticks": ""
           },
           "baxis": {
            "gridcolor": "white",
            "linecolor": "white",
            "ticks": ""
           },
           "bgcolor": "#E5ECF6",
           "caxis": {
            "gridcolor": "white",
            "linecolor": "white",
            "ticks": ""
           }
          },
          "title": {
           "x": 0.05
          },
          "xaxis": {
           "automargin": true,
           "gridcolor": "white",
           "linecolor": "white",
           "ticks": "",
           "title": {
            "standoff": 15
           },
           "zerolinecolor": "white",
           "zerolinewidth": 2
          },
          "yaxis": {
           "automargin": true,
           "gridcolor": "white",
           "linecolor": "white",
           "ticks": "",
           "title": {
            "standoff": 15
           },
           "zerolinecolor": "white",
           "zerolinewidth": 2
          }
         }
        },
        "title": {
         "text": "Top 10 Accounts: Row-wise Heatmap, Stocking Change Line, and Volatility Line"
        },
        "width": 1400,
        "xaxis": {
         "anchor": "y",
         "domain": [
          0,
          0.2866666666666667
         ]
        },
        "xaxis10": {
         "anchor": "y10",
         "domain": [
          0,
          0.2866666666666667
         ]
        },
        "xaxis11": {
         "anchor": "y11",
         "domain": [
          0.3566666666666667,
          0.6433333333333333
         ]
        },
        "xaxis12": {
         "anchor": "y12",
         "domain": [
          0.7133333333333334,
          1
         ]
        },
        "xaxis13": {
         "anchor": "y13",
         "domain": [
          0,
          0.2866666666666667
         ]
        },
        "xaxis14": {
         "anchor": "y14",
         "domain": [
          0.3566666666666667,
          0.6433333333333333
         ]
        },
        "xaxis15": {
         "anchor": "y15",
         "domain": [
          0.7133333333333334,
          1
         ]
        },
        "xaxis16": {
         "anchor": "y16",
         "domain": [
          0,
          0.2866666666666667
         ]
        },
        "xaxis17": {
         "anchor": "y17",
         "domain": [
          0.3566666666666667,
          0.6433333333333333
         ]
        },
        "xaxis18": {
         "anchor": "y18",
         "domain": [
          0.7133333333333334,
          1
         ]
        },
        "xaxis19": {
         "anchor": "y19",
         "domain": [
          0,
          0.2866666666666667
         ]
        },
        "xaxis2": {
         "anchor": "y2",
         "domain": [
          0.3566666666666667,
          0.6433333333333333
         ]
        },
        "xaxis20": {
         "anchor": "y20",
         "domain": [
          0.3566666666666667,
          0.6433333333333333
         ]
        },
        "xaxis21": {
         "anchor": "y21",
         "domain": [
          0.7133333333333334,
          1
         ]
        },
        "xaxis22": {
         "anchor": "y22",
         "domain": [
          0,
          0.2866666666666667
         ]
        },
        "xaxis23": {
         "anchor": "y23",
         "domain": [
          0.3566666666666667,
          0.6433333333333333
         ]
        },
        "xaxis24": {
         "anchor": "y24",
         "domain": [
          0.7133333333333334,
          1
         ]
        },
        "xaxis25": {
         "anchor": "y25",
         "domain": [
          0,
          0.2866666666666667
         ]
        },
        "xaxis26": {
         "anchor": "y26",
         "domain": [
          0.3566666666666667,
          0.6433333333333333
         ]
        },
        "xaxis27": {
         "anchor": "y27",
         "domain": [
          0.7133333333333334,
          1
         ]
        },
        "xaxis28": {
         "anchor": "y28",
         "domain": [
          0,
          0.2866666666666667
         ]
        },
        "xaxis29": {
         "anchor": "y29",
         "domain": [
          0.3566666666666667,
          0.6433333333333333
         ]
        },
        "xaxis3": {
         "anchor": "y3",
         "domain": [
          0.7133333333333334,
          1
         ]
        },
        "xaxis30": {
         "anchor": "y30",
         "domain": [
          0.7133333333333334,
          1
         ]
        },
        "xaxis4": {
         "anchor": "y4",
         "domain": [
          0,
          0.2866666666666667
         ]
        },
        "xaxis5": {
         "anchor": "y5",
         "domain": [
          0.3566666666666667,
          0.6433333333333333
         ]
        },
        "xaxis6": {
         "anchor": "y6",
         "domain": [
          0.7133333333333334,
          1
         ]
        },
        "xaxis7": {
         "anchor": "y7",
         "domain": [
          0,
          0.2866666666666667
         ]
        },
        "xaxis8": {
         "anchor": "y8",
         "domain": [
          0.3566666666666667,
          0.6433333333333333
         ]
        },
        "xaxis9": {
         "anchor": "y9",
         "domain": [
          0.7133333333333334,
          1
         ]
        },
        "yaxis": {
         "anchor": "x",
         "domain": [
          0.9269999999999999,
          0.9999999999999999
         ]
        },
        "yaxis10": {
         "anchor": "x10",
         "domain": [
          0.6179999999999999,
          0.6909999999999998
         ]
        },
        "yaxis11": {
         "anchor": "x11",
         "domain": [
          0.6179999999999999,
          0.6909999999999998
         ]
        },
        "yaxis12": {
         "anchor": "x12",
         "domain": [
          0.6179999999999999,
          0.6909999999999998
         ]
        },
        "yaxis13": {
         "anchor": "x13",
         "domain": [
          0.515,
          0.588
         ]
        },
        "yaxis14": {
         "anchor": "x14",
         "domain": [
          0.515,
          0.588
         ]
        },
        "yaxis15": {
         "anchor": "x15",
         "domain": [
          0.515,
          0.588
         ]
        },
        "yaxis16": {
         "anchor": "x16",
         "domain": [
          0.412,
          0.485
         ]
        },
        "yaxis17": {
         "anchor": "x17",
         "domain": [
          0.412,
          0.485
         ]
        },
        "yaxis18": {
         "anchor": "x18",
         "domain": [
          0.412,
          0.485
         ]
        },
        "yaxis19": {
         "anchor": "x19",
         "domain": [
          0.30899999999999994,
          0.38199999999999995
         ]
        },
        "yaxis2": {
         "anchor": "x2",
         "domain": [
          0.9269999999999999,
          0.9999999999999999
         ]
        },
        "yaxis20": {
         "anchor": "x20",
         "domain": [
          0.30899999999999994,
          0.38199999999999995
         ]
        },
        "yaxis21": {
         "anchor": "x21",
         "domain": [
          0.30899999999999994,
          0.38199999999999995
         ]
        },
        "yaxis22": {
         "anchor": "x22",
         "domain": [
          0.206,
          0.27899999999999997
         ]
        },
        "yaxis23": {
         "anchor": "x23",
         "domain": [
          0.206,
          0.27899999999999997
         ]
        },
        "yaxis24": {
         "anchor": "x24",
         "domain": [
          0.206,
          0.27899999999999997
         ]
        },
        "yaxis25": {
         "anchor": "x25",
         "domain": [
          0.103,
          0.176
         ]
        },
        "yaxis26": {
         "anchor": "x26",
         "domain": [
          0.103,
          0.176
         ]
        },
        "yaxis27": {
         "anchor": "x27",
         "domain": [
          0.103,
          0.176
         ]
        },
        "yaxis28": {
         "anchor": "x28",
         "domain": [
          0,
          0.073
         ]
        },
        "yaxis29": {
         "anchor": "x29",
         "domain": [
          0,
          0.073
         ]
        },
        "yaxis3": {
         "anchor": "x3",
         "domain": [
          0.9269999999999999,
          0.9999999999999999
         ]
        },
        "yaxis30": {
         "anchor": "x30",
         "domain": [
          0,
          0.073
         ]
        },
        "yaxis4": {
         "anchor": "x4",
         "domain": [
          0.824,
          0.8969999999999999
         ]
        },
        "yaxis5": {
         "anchor": "x5",
         "domain": [
          0.824,
          0.8969999999999999
         ]
        },
        "yaxis6": {
         "anchor": "x6",
         "domain": [
          0.824,
          0.8969999999999999
         ]
        },
        "yaxis7": {
         "anchor": "x7",
         "domain": [
          0.721,
          0.7939999999999999
         ]
        },
        "yaxis8": {
         "anchor": "x8",
         "domain": [
          0.721,
          0.7939999999999999
         ]
        },
        "yaxis9": {
         "anchor": "x9",
         "domain": [
          0.721,
          0.7939999999999999
         ]
        }
       }
      }
     },
     "metadata": {},
     "output_type": "display_data"
    }
   ],
   "source": [
    "import pandas as pd\n",
    "import numpy as np\n",
    "import plotly.graph_objects as go\n",
    "from plotly.subplots import make_subplots\n",
    "\n",
    "# 模拟数据（10个账户 × 52周）\n",
    "np.random.seed(42)\n",
    "accounts = [f'acct{i}' for i in range(1, 11)]\n",
    "weeks = list(range(1, 53))\n",
    "data = []\n",
    "\n",
    "for acct in accounts:\n",
    "    base = np.random.uniform(-1, 1, 52)\n",
    "    volatility = np.round(np.abs(np.random.normal(loc=0.3, scale=0.1, size=52)), 2)\n",
    "    for i, week in enumerate(weeks):\n",
    "        data.append({\n",
    "            'account_id': acct,\n",
    "            'rolling_week': week,\n",
    "            'stocking_change': np.round(base[i] + np.random.normal(0, 0.3), 2),\n",
    "            'stocking_change_volatility': volatility[i]\n",
    "        })\n",
    "\n",
    "df = pd.DataFrame(data)\n",
    "\n",
    "# 选出代表性账户（按波动平均排序）\n",
    "top_accounts = (\n",
    "    df.groupby('account_id')['stocking_change_volatility']\n",
    "    .mean()\n",
    "    .sort_values(ascending=False)\n",
    "    .head(10)\n",
    "    .index\n",
    ")\n",
    "\n",
    "df_top = df[df['account_id'].isin(top_accounts)]\n",
    "heatmap_data = df_top.pivot(index='account_id', columns='rolling_week', values='stocking_change')\n",
    "\n",
    "# 创建子图：每个账户占一行，每行3列（heatmap + 折线 + volatility）\n",
    "fig = make_subplots(\n",
    "    rows=10, cols=3,\n",
    "    shared_xaxes=False,\n",
    "    subplot_titles=[f\"{acct}\" for acct in top_accounts for _ in range(3)],\n",
    "    horizontal_spacing=0.07,\n",
    "    vertical_spacing=0.03,\n",
    "    column_titles=[\"Stocking Change Heatmap\", \"Stocking Change Line\", \"Volatility Line\"]\n",
    ")\n",
    "\n",
    "for i, acct in enumerate(top_accounts, start=1):\n",
    "    df_sub = df_top[df_top['account_id'] == acct]\n",
    "\n",
    "    # 热力图（单行52格）\n",
    "    fig.add_trace(\n",
    "        go.Heatmap(\n",
    "            z=[df_sub['stocking_change'].values],\n",
    "            x=df_sub['rolling_week'],\n",
    "            y=[acct],\n",
    "            colorscale=[\n",
    "                [0.0, \"#d28b88\"],\n",
    "                [0.5, \"#e8e8e8\"],\n",
    "                [1.0, \"#6f918b\"]\n",
    "            ],\n",
    "            zmin=-2, zmax=2,\n",
    "            showscale=False\n",
    "        ),\n",
    "        row=i, col=1\n",
    "    )\n",
    "\n",
    "    # 折线图：stocking_change\n",
    "    fig.add_trace(\n",
    "        go.Scatter(\n",
    "            x=df_sub['rolling_week'],\n",
    "            y=df_sub['stocking_change'],\n",
    "            mode='lines+markers',\n",
    "            line=dict(color=\"#6f918b\"),\n",
    "            marker=dict(size=4),\n",
    "            showlegend=False\n",
    "        ),\n",
    "        row=i, col=2\n",
    "    )\n",
    "\n",
    "    # 折线图：volatility + 标注\n",
    "    fig.add_trace(\n",
    "        go.Scatter(\n",
    "            x=df_sub['rolling_week'],\n",
    "            y=df_sub['stocking_change_volatility'],\n",
    "            mode='lines+text',\n",
    "            text=[f\"{v:.2f}\" for v in df_sub['stocking_change_volatility']],\n",
    "            textposition=\"top center\",\n",
    "            textfont=dict(size=9),\n",
    "            line=dict(color=\"#888\"),\n",
    "            showlegend=False\n",
    "        ),\n",
    "        row=i, col=3\n",
    "    )\n",
    "\n",
    "fig.update_layout(\n",
    "    height=2200,\n",
    "    width=1400,\n",
    "    title=\"Top 10 Accounts: Row-wise Heatmap, Stocking Change Line, and Volatility Line\",\n",
    "    font=dict(family=\"Courier New\", size=10),\n",
    "    margin=dict(t=60, l=40, r=40, b=40)\n",
    ")\n",
    "\n",
    "\n",
    "fig.show()\n"
   ]
  },
  {
   "cell_type": "code",
   "execution_count": 16,
   "id": "f2786155",
   "metadata": {},
   "outputs": [
    {
     "data": {
      "application/vnd.plotly.v1+json": {
       "config": {
        "plotlyServerURL": "https://plot.ly"
       },
       "data": [
        {
         "colorscale": [
          [
           0,
           "#d28b88"
          ],
          [
           0.5,
           "#e8e8e8"
          ],
          [
           1,
           "#6f918b"
          ]
         ],
         "showscale": false,
         "type": "heatmap",
         "x": {
          "bdata": "AQIDBAUGBwgJCgsMDQ4PEBESExQVFhcYGRobHB0eHyAhIiMkJSYnKCkqKywtLi8wMTIzNA==",
          "dtype": "i1"
         },
         "xaxis": "x",
         "y": [
          "acct1"
         ],
         "yaxis": "y",
         "z": [
          [
           -0.46,
           0.8,
           0.35,
           -0.24,
           -0.6,
           -0.61,
           -0.88,
           0.66,
           -0.22,
           0.29,
           -1.06,
           0.7,
           0.62,
           -0.45,
           -0.07,
           -0.58,
           -0.31,
           0.03,
           -0.71,
           -0.43,
           0.24,
           0.02,
           -0.47,
           -0.18,
           -0.1,
           0.22,
           -0.26,
           0.25,
           0.42,
           -1.18,
           0.64,
           -1.08,
           -0.69,
           1.55,
           0.63,
           0.45,
           -0.36,
           -0.96,
           -0.1,
           -0.1,
           -1.07,
           0.13,
           -1.21,
           1.28,
           -0.72,
           0.23,
           -0.13,
           -0.33,
           0.16,
           -0.24,
           0.46,
           0.61
          ]
         ],
         "zmax": 2,
         "zmin": -2
        },
        {
         "line": {
          "color": "#6f918b"
         },
         "marker": {
          "size": 4
         },
         "mode": "lines+markers",
         "showlegend": false,
         "type": "scatter",
         "x": {
          "bdata": "AQIDBAUGBwgJCgsMDQ4PEBESExQVFhcYGRobHB0eHyAhIiMkJSYnKCkqKywtLi8wMTIzNA==",
          "dtype": "i1"
         },
         "xaxis": "x2",
         "y": {
          "bdata": "cT0K16Nw3b+amZmZmZnpP2ZmZmZmZtY/uB6F61G4zr8zMzMzMzPjv4XrUbgeheO/KVyPwvUo7L8fhetRuB7lPylcj8L1KMy/j8L1KFyP0j/2KFyPwvXwv2ZmZmZmZuY/16NwPQrX4z/NzMzMzMzcv+xRuB6F67G/j8L1KFyP4r/Xo3A9CtfTv7gehetRuJ4/uB6F61G45r+F61G4HoXbv7gehetRuM4/exSuR+F6lD8UrkfhehTevwrXo3A9Cse/mpmZmZmZub8pXI/C9SjMP6RwPQrXo9C/AAAAAAAA0D/hehSuR+HaP+F6FK5H4fK/exSuR+F65D9I4XoUrkfxvxSuR+F6FOa/zczMzMzM+D8pXI/C9SjkP83MzMzMzNw/CtejcD0K17+4HoXrUbjuv5qZmZmZmbm/mpmZmZmZub8fhetRuB7xv6RwPQrXo8A/XI/C9Shc8797FK5H4Xr0PwrXo3A9Cue/cT0K16NwzT+kcD0K16PAvx+F61G4HtW/exSuR+F6xD+4HoXrUbjOv3E9CtejcN0/hetRuB6F4z8=",
          "dtype": "f8"
         },
         "yaxis": "y2"
        },
        {
         "line": {
          "color": "#888"
         },
         "mode": "lines+text",
         "showlegend": false,
         "text": [
          "0.37",
          "0.32",
          "0.29",
          "0.27",
          "0.15",
          "0.23",
          "0.25",
          "0.41",
          "0.33",
          "0.12",
          "0.33",
          "0.26",
          "0.23",
          "0.36",
          "0.40",
          "0.39",
          "0.22",
          "0.27",
          "0.33",
          "0.40",
          "0.25",
          "0.28",
          "0.19",
          "0.18",
          "0.38",
          "0.44",
          "0.29",
          "0.40",
          "0.34",
          "0.24",
          "0.34",
          "0.45",
          "0.30",
          "0.46",
          "0.04",
          "0.38",
          "0.31",
          "0.27",
          "0.31",
          "0.10",
          "0.28",
          "0.34",
          "0.45",
          "0.25",
          "0.22",
          "0.25",
          "0.39",
          "0.33",
          "0.25",
          "0.35",
          "0.31",
          "0.40"
         ],
         "textfont": {
          "size": 9
         },
         "textposition": "top center",
         "type": "scatter",
         "x": {
          "bdata": "AQIDBAUGBwgJCgsMDQ4PEBESExQVFhcYGRobHB0eHyAhIiMkJSYnKCkqKywtLi8wMTIzNA==",
          "dtype": "i1"
         },
         "xaxis": "x2",
         "y": {
          "bdata": "rkfhehSu1z97FK5H4XrUP4/C9Shcj9I/SOF6FK5H0T8zMzMzMzPDP3E9CtejcM0/AAAAAAAA0D89CtejcD3aPx+F61G4HtU/uB6F61G4vj8fhetRuB7VP6RwPQrXo9A/cT0K16NwzT8K16NwPQrXP5qZmZmZmdk/9ihcj8L12D8pXI/C9SjMP0jhehSuR9E/H4XrUbge1T+amZmZmZnZPwAAAAAAANA/7FG4HoXr0T9SuB6F61HIPwrXo3A9Csc/UrgehetR2D8pXI/C9SjcP4/C9Shcj9I/mpmZmZmZ2T/D9Shcj8LVP7gehetRuM4/w/UoXI/C1T/NzMzMzMzcPzMzMzMzM9M/cT0K16Nw3T97FK5H4XqkP1K4HoXrUdg/16NwPQrX0z9I4XoUrkfRP9ejcD0K19M/mpmZmZmZuT/sUbgehevRP8P1KFyPwtU/zczMzMzM3D8AAAAAAADQPylcj8L1KMw/AAAAAAAA0D/2KFyPwvXYPx+F61G4HtU/AAAAAAAA0D9mZmZmZmbWP9ejcD0K19M/mpmZmZmZ2T8=",
          "dtype": "f8"
         },
         "yaxis": "y2"
        },
        {
         "colorscale": [
          [
           0,
           "#d28b88"
          ],
          [
           0.5,
           "#e8e8e8"
          ],
          [
           1,
           "#6f918b"
          ]
         ],
         "showscale": false,
         "type": "heatmap",
         "x": {
          "bdata": "AQIDBAUGBwgJCgsMDQ4PEBESExQVFhcYGRobHB0eHyAhIiMkJSYnKCkqKywtLi8wMTIzNA==",
          "dtype": "i1"
         },
         "xaxis": "x3",
         "y": [
          "acct2"
         ],
         "yaxis": "y3",
         "z": [
          [
           -1.42,
           0.85,
           0.6,
           0.52,
           -0.56,
           -0.34,
           0.6,
           1.05,
           0.41,
           0.46,
           0.14,
           -1.03,
           -0.15,
           0.92,
           -0.17,
           -0.71,
           -0.16,
           0.64,
           -1.45,
           -0.82,
           0.48,
           0.17,
           0.44,
           -0.32,
           0.15,
           -0.54,
           -1.32,
           0.19,
           0.22,
           0.32,
           0.8,
           -0.29,
           -0.94,
           -0.23,
           -0.04,
           -0.94,
           1.29,
           -0.21,
           0.49,
           0.4,
           0.65,
           -0.17,
           0.17,
           -0.13,
           -0.58,
           0.64,
           0.04,
           -1.32,
           0.93,
           -1.23,
           0.84,
           1.08
          ]
         ],
         "zmax": 2,
         "zmin": -2
        },
        {
         "line": {
          "color": "#6f918b"
         },
         "marker": {
          "size": 4
         },
         "mode": "lines+markers",
         "showlegend": false,
         "type": "scatter",
         "x": {
          "bdata": "AQIDBAUGBwgJCgsMDQ4PEBESExQVFhcYGRobHB0eHyAhIiMkJSYnKCkqKywtLi8wMTIzNA==",
          "dtype": "i1"
         },
         "xaxis": "x4",
         "y": {
          "bdata": "uB6F61G49r8zMzMzMzPrPzMzMzMzM+M/pHA9Ctej4D/sUbgehevhv8P1KFyPwtW/MzMzMzMz4z/NzMzMzMzwPz0K16NwPdo/cT0K16Nw3T/sUbgehevBP3sUrkfhevC/MzMzMzMzw79xPQrXo3DtP8P1KFyPwsW/uB6F61G45r97FK5H4XrEv3sUrkfheuQ/MzMzMzMz9789CtejcD3qv7gehetRuN4/w/UoXI/CxT8pXI/C9SjcP3sUrkfhetS/MzMzMzMzwz9I4XoUrkfhvx+F61G4HvW/UrgehetRyD8pXI/C9SjMP3sUrkfhetQ/mpmZmZmZ6T+PwvUoXI/SvxSuR+F6FO6/cT0K16Nwzb97FK5H4XqkvxSuR+F6FO6/pHA9Ctej9D/hehSuR+HKv1yPwvUoXN8/mpmZmZmZ2T/NzMzMzMzkP8P1KFyPwsW/w/UoXI/CxT+kcD0K16PAv4/C9Shcj+K/exSuR+F65D97FK5H4XqkPx+F61G4HvW/w/UoXI/C7T+uR+F6FK7zv+F6FK5H4eo/SOF6FK5H8T8=",
          "dtype": "f8"
         },
         "yaxis": "y4"
        },
        {
         "line": {
          "color": "#888"
         },
         "mode": "lines+text",
         "showlegend": false,
         "text": [
          "0.28",
          "0.37",
          "0.35",
          "0.29",
          "0.22",
          "0.15",
          "0.26",
          "0.39",
          "0.32",
          "0.18",
          "0.32",
          "0.34",
          "0.21",
          "0.32",
          "0.31",
          "0.19",
          "0.34",
          "0.36",
          "0.41",
          "0.41",
          "0.16",
          "0.21",
          "0.35",
          "0.35",
          "0.35",
          "0.69",
          "0.36",
          "0.41",
          "0.40",
          "0.37",
          "0.27",
          "0.38",
          "0.22",
          "0.28",
          "0.25",
          "0.31",
          "0.53",
          "0.11",
          "0.37",
          "0.14",
          "0.25",
          "0.41",
          "0.31",
          "0.19",
          "0.23",
          "0.37",
          "0.23",
          "0.32",
          "0.30",
          "0.23",
          "0.51",
          "0.36"
         ],
         "textfont": {
          "size": 9
         },
         "textposition": "top center",
         "type": "scatter",
         "x": {
          "bdata": "AQIDBAUGBwgJCgsMDQ4PEBESExQVFhcYGRobHB0eHyAhIiMkJSYnKCkqKywtLi8wMTIzNA==",
          "dtype": "i1"
         },
         "xaxis": "x4",
         "y": {
          "bdata": "7FG4HoXr0T+uR+F6FK7XP2ZmZmZmZtY/j8L1KFyP0j8pXI/C9SjMPzMzMzMzM8M/pHA9Ctej0D/2KFyPwvXYP3sUrkfhetQ/CtejcD0Kxz97FK5H4XrUP8P1KFyPwtU/4XoUrkfhyj97FK5H4XrUP9ejcD0K19M/UrgehetRyD/D9Shcj8LVPwrXo3A9Ctc/PQrXo3A92j89CtejcD3aP3sUrkfhesQ/4XoUrkfhyj9mZmZmZmbWP2ZmZmZmZtY/ZmZmZmZm1j8UrkfhehTmPwrXo3A9Ctc/PQrXo3A92j+amZmZmZnZP65H4XoUrtc/SOF6FK5H0T9SuB6F61HYPylcj8L1KMw/7FG4HoXr0T8AAAAAAADQP9ejcD0K19M/9ihcj8L14D8pXI/C9Si8P65H4XoUrtc/7FG4HoXrwT8AAAAAAADQPz0K16NwPdo/16NwPQrX0z9SuB6F61HIP3E9CtejcM0/rkfhehSu1z9xPQrXo3DNP3sUrkfhetQ/MzMzMzMz0z9xPQrXo3DNP1K4HoXrUeA/CtejcD0K1z8=",
          "dtype": "f8"
         },
         "yaxis": "y4"
        },
        {
         "colorscale": [
          [
           0,
           "#d28b88"
          ],
          [
           0.5,
           "#e8e8e8"
          ],
          [
           1,
           "#6f918b"
          ]
         ],
         "showscale": false,
         "type": "heatmap",
         "x": {
          "bdata": "AQIDBAUGBwgJCgsMDQ4PEBESExQVFhcYGRobHB0eHyAhIiMkJSYnKCkqKywtLi8wMTIzNA==",
          "dtype": "i1"
         },
         "xaxis": "x5",
         "y": [
          "acct3"
         ],
         "yaxis": "y5",
         "z": [
          [
           1.58,
           0.57,
           -0.86,
           -1.04,
           -1.44,
           -1.12,
           -1.04,
           0.41,
           -0.76,
           0.2,
           0.97,
           -1.13,
           0.36,
           -0.29,
           -1.16,
           0.94,
           0.61,
           0.61,
           -0.04,
           1.01,
           -0.47,
           -0.27,
           0.02,
           0.43,
           0.98,
           -0.16,
           -0.39,
           0.74,
           -0.64,
           0.82,
           0.75,
           0.01,
           0.72,
           0.17,
           -1.25,
           1.19,
           0.11,
           0.43,
           0.11,
           0.83,
           0.13,
           -0.96,
           1.43,
           -0.29,
           -0.44,
           1.19,
           1.09,
           0.56,
           -0.03,
           0.1,
           -0.1,
           -0.87
          ]
         ],
         "zmax": 2,
         "zmin": -2
        },
        {
         "line": {
          "color": "#6f918b"
         },
         "marker": {
          "size": 4
         },
         "mode": "lines+markers",
         "showlegend": false,
         "type": "scatter",
         "x": {
          "bdata": "AQIDBAUGBwgJCgsMDQ4PEBESExQVFhcYGRobHB0eHyAhIiMkJSYnKCkqKywtLi8wMTIzNA==",
          "dtype": "i1"
         },
         "xaxis": "x6",
         "y": {
          "bdata": "SOF6FK5H+T89CtejcD3iP4XrUbgeheu/pHA9Ctej8L8K16NwPQr3v+xRuB6F6/G/pHA9Ctej8L89CtejcD3aP1K4HoXrUei/mpmZmZmZyT8K16NwPQrvPxSuR+F6FPK/CtejcD0K1z+PwvUoXI/Sv4/C9Shcj/K/FK5H4XoU7j+F61G4HoXjP4XrUbgeheM/exSuR+F6pL8pXI/C9SjwPxSuR+F6FN6/SOF6FK5H0b97FK5H4XqUP4XrUbgehds/XI/C9Shc7z97FK5H4XrEv/YoXI/C9di/rkfhehSu5z97FK5H4Xrkvz0K16NwPeo/AAAAAAAA6D97FK5H4XqEPwrXo3A9Cuc/w/UoXI/CxT8AAAAAAAD0vwrXo3A9CvM/KVyPwvUovD+F61G4HoXbPylcj8L1KLw/j8L1KFyP6j+kcD0K16PAP7gehetRuO6/4XoUrkfh9j+PwvUoXI/Svylcj8L1KNy/CtejcD0K8z9xPQrXo3DxP+xRuB6F6+E/uB6F61G4nr+amZmZmZm5P5qZmZmZmbm/16NwPQrX678=",
          "dtype": "f8"
         },
         "yaxis": "y6"
        },
        {
         "line": {
          "color": "#888"
         },
         "mode": "lines+text",
         "showlegend": false,
         "text": [
          "0.42",
          "0.38",
          "0.36",
          "0.36",
          "0.30",
          "0.21",
          "0.31",
          "0.23",
          "0.40",
          "0.29",
          "0.22",
          "0.27",
          "0.34",
          "0.24",
          "0.22",
          "0.32",
          "0.32",
          "0.25",
          "0.25",
          "0.32",
          "0.16",
          "0.16",
          "0.23",
          "0.28",
          "0.33",
          "0.45",
          "0.39",
          "0.28",
          "0.30",
          "0.20",
          "0.30",
          "0.27",
          "0.33",
          "0.22",
          "0.35",
          "0.45",
          "0.29",
          "0.34",
          "0.37",
          "0.26",
          "0.32",
          "0.30",
          "0.31",
          "0.22",
          "0.30",
          "0.35",
          "0.45",
          "0.40",
          "0.52",
          "0.22",
          "0.39",
          "0.32"
         ],
         "textfont": {
          "size": 9
         },
         "textposition": "top center",
         "type": "scatter",
         "x": {
          "bdata": "AQIDBAUGBwgJCgsMDQ4PEBESExQVFhcYGRobHB0eHyAhIiMkJSYnKCkqKywtLi8wMTIzNA==",
          "dtype": "i1"
         },
         "xaxis": "x6",
         "y": {
          "bdata": "4XoUrkfh2j9SuB6F61HYPwrXo3A9Ctc/CtejcD0K1z8zMzMzMzPTP+F6FK5H4co/16NwPQrX0z9xPQrXo3DNP5qZmZmZmdk/j8L1KFyP0j8pXI/C9SjMP0jhehSuR9E/w/UoXI/C1T+4HoXrUbjOPylcj8L1KMw/exSuR+F61D97FK5H4XrUPwAAAAAAANA/AAAAAAAA0D97FK5H4XrUP3sUrkfhesQ/exSuR+F6xD9xPQrXo3DNP+xRuB6F69E/H4XrUbge1T/NzMzMzMzcP/YoXI/C9dg/7FG4HoXr0T8zMzMzMzPTP5qZmZmZmck/MzMzMzMz0z9I4XoUrkfRPx+F61G4HtU/KVyPwvUozD9mZmZmZmbWP83MzMzMzNw/j8L1KFyP0j/D9Shcj8LVP65H4XoUrtc/pHA9Ctej0D97FK5H4XrUPzMzMzMzM9M/16NwPQrX0z8pXI/C9SjMPzMzMzMzM9M/ZmZmZmZm1j/NzMzMzMzcP5qZmZmZmdk/pHA9Ctej4D8pXI/C9SjMP/YoXI/C9dg/exSuR+F61D8=",
          "dtype": "f8"
         },
         "yaxis": "y6"
        },
        {
         "colorscale": [
          [
           0,
           "#d28b88"
          ],
          [
           0.5,
           "#e8e8e8"
          ],
          [
           1,
           "#6f918b"
          ]
         ],
         "showscale": false,
         "type": "heatmap",
         "x": {
          "bdata": "AQIDBAUGBwgJCgsMDQ4PEBESExQVFhcYGRobHB0eHyAhIiMkJSYnKCkqKywtLi8wMTIzNA==",
          "dtype": "i1"
         },
         "xaxis": "x7",
         "y": [
          "acct4"
         ],
         "yaxis": "y7",
         "z": [
          [
           -0.19,
           0.1,
           0.31,
           -0.14,
           -0.17,
           0.74,
           -0.44,
           -0.3,
           0.24,
           0.91,
           -0.63,
           0.58,
           0.18,
           -0.98,
           -0.1,
           0.6,
           -0.21,
           -0.33,
           0.01,
           -0.64,
           -0.55,
           -0.92,
           -0.49,
           -1.04,
           -0.56,
           0.71,
           -1.38,
           -0.55,
           0.97,
           -0.11,
           0.45,
           -0.84,
           -0.59,
           -0.96,
           -0.31,
           -0.37,
           -0.54,
           -0.95,
           -0.91,
           -0.21,
           -0.47,
           -0.4,
           0.09,
           1,
           -0.66,
           0.5,
           0.62,
           -0.96,
           0.14,
           0.54,
           -1.44,
           -0.55
          ]
         ],
         "zmax": 2,
         "zmin": -2
        },
        {
         "line": {
          "color": "#6f918b"
         },
         "marker": {
          "size": 4
         },
         "mode": "lines+markers",
         "showlegend": false,
         "type": "scatter",
         "x": {
          "bdata": "AQIDBAUGBwgJCgsMDQ4PEBESExQVFhcYGRobHB0eHyAhIiMkJSYnKCkqKywtLi8wMTIzNA==",
          "dtype": "i1"
         },
         "xaxis": "x8",
         "y": {
          "bdata": "UrgehetRyL+amZmZmZm5P9ejcD0K19M/7FG4HoXrwb/D9Shcj8LFv65H4XoUruc/KVyPwvUo3L8zMzMzMzPTv7gehetRuM4/H4XrUbge7T8pXI/C9Sjkv4/C9Shcj+I/CtejcD0Kxz9cj8L1KFzvv5qZmZmZmbm/MzMzMzMz4z/hehSuR+HKvx+F61G4HtW/exSuR+F6hD97FK5H4Xrkv5qZmZmZmeG/cT0K16Nw7b9cj8L1KFzfv6RwPQrXo/C/7FG4HoXr4b+4HoXrUbjmPxSuR+F6FPa/mpmZmZmZ4b8K16NwPQrvPylcj8L1KLy/zczMzMzM3D/hehSuR+Hqv+F6FK5H4eK/uB6F61G47r/Xo3A9CtfTv65H4XoUrte/SOF6FK5H4b9mZmZmZmbuvx+F61G4Hu2/4XoUrkfhyr8UrkfhehTev5qZmZmZmdm/CtejcD0Ktz8AAAAAAADwPx+F61G4HuW/AAAAAAAA4D/Xo3A9CtfjP7gehetRuO6/7FG4HoXrwT9I4XoUrkfhPwrXo3A9Cve/mpmZmZmZ4b8=",
          "dtype": "f8"
         },
         "yaxis": "y8"
        },
        {
         "line": {
          "color": "#888"
         },
         "mode": "lines+text",
         "showlegend": false,
         "text": [
          "0.36",
          "0.38",
          "0.25",
          "0.24",
          "0.27",
          "0.07",
          "0.15",
          "0.44",
          "0.46",
          "0.28",
          "0.36",
          "0.33",
          "0.61",
          "0.41",
          "0.29",
          "0.20",
          "0.14",
          "0.32",
          "0.22",
          "0.16",
          "0.24",
          "0.19",
          "0.47",
          "0.39",
          "0.30",
          "0.45",
          "0.31",
          "0.21",
          "0.45",
          "0.35",
          "0.20",
          "0.28",
          "0.21",
          "0.16",
          "0.39",
          "0.49",
          "0.16",
          "0.36",
          "0.23",
          "0.25",
          "0.24",
          "0.21",
          "0.30",
          "0.22",
          "0.33",
          "0.29",
          "0.28",
          "0.21",
          "0.24",
          "0.38",
          "0.35",
          "0.20"
         ],
         "textfont": {
          "size": 9
         },
         "textposition": "top center",
         "type": "scatter",
         "x": {
          "bdata": "AQIDBAUGBwgJCgsMDQ4PEBESExQVFhcYGRobHB0eHyAhIiMkJSYnKCkqKywtLi8wMTIzNA==",
          "dtype": "i1"
         },
         "xaxis": "x8",
         "y": {
          "bdata": "CtejcD0K1z9SuB6F61HYPwAAAAAAANA/uB6F61G4zj9I4XoUrkfRP+xRuB6F67E/MzMzMzMzwz8pXI/C9SjcP3E9CtejcN0/7FG4HoXr0T8K16NwPQrXPx+F61G4HtU/hetRuB6F4z89CtejcD3aP4/C9Shcj9I/mpmZmZmZyT/sUbgehevBP3sUrkfhetQ/KVyPwvUozD97FK5H4XrEP7gehetRuM4/UrgehetRyD8UrkfhehTeP/YoXI/C9dg/MzMzMzMz0z/NzMzMzMzcP9ejcD0K19M/4XoUrkfhyj/NzMzMzMzcP2ZmZmZmZtY/mpmZmZmZyT/sUbgehevRP+F6FK5H4co/exSuR+F6xD/2KFyPwvXYP1yPwvUoXN8/exSuR+F6xD8K16NwPQrXP3E9CtejcM0/AAAAAAAA0D+4HoXrUbjOP+F6FK5H4co/MzMzMzMz0z8pXI/C9SjMPx+F61G4HtU/j8L1KFyP0j/sUbgehevRP+F6FK5H4co/uB6F61G4zj9SuB6F61HYP2ZmZmZmZtY/mpmZmZmZyT8=",
          "dtype": "f8"
         },
         "yaxis": "y8"
        },
        {
         "colorscale": [
          [
           0,
           "#d28b88"
          ],
          [
           0.5,
           "#e8e8e8"
          ],
          [
           1,
           "#6f918b"
          ]
         ],
         "showscale": false,
         "type": "heatmap",
         "x": {
          "bdata": "AQIDBAUGBwgJCgsMDQ4PEBESExQVFhcYGRobHB0eHyAhIiMkJSYnKCkqKywtLi8wMTIzNA==",
          "dtype": "i1"
         },
         "xaxis": "x9",
         "y": [
          "acct5"
         ],
         "yaxis": "y9",
         "z": [
          [
           -0.3,
           0.33,
           -0.16,
           0.18,
           -0.34,
           -0.02,
           0.39,
           0.02,
           -1.1,
           1.41,
           0.54,
           0.05,
           -0.5,
           0.25,
           0.08,
           0.21,
           0.42,
           0.79,
           -0.77,
           -0.49,
           -0.29,
           0.62,
           -1.04,
           0.49,
           0.2,
           0.94,
           -0.14,
           0.55,
           -0.68,
           0.32,
           -0.47,
           -0.26,
           0.44,
           -0.39,
           -0.75,
           0.02,
           -0.03,
           0.46,
           0,
           0.61,
           -1.12,
           0.2,
           -0.57,
           0.79,
           0,
           -0.08,
           -0.09,
           1.23,
           -0.66,
           0.22,
           -0.1,
           0.21
          ]
         ],
         "zmax": 2,
         "zmin": -2
        },
        {
         "line": {
          "color": "#6f918b"
         },
         "marker": {
          "size": 4
         },
         "mode": "lines+markers",
         "showlegend": false,
         "type": "scatter",
         "x": {
          "bdata": "AQIDBAUGBwgJCgsMDQ4PEBESExQVFhcYGRobHB0eHyAhIiMkJSYnKCkqKywtLi8wMTIzNA==",
          "dtype": "i1"
         },
         "xaxis": "x10",
         "y": {
          "bdata": "MzMzMzMz078fhetRuB7VP3sUrkfhesS/CtejcD0Kxz/D9Shcj8LVv3sUrkfhepS/9ihcj8L12D97FK5H4XqUP5qZmZmZmfG/j8L1KFyP9j9I4XoUrkfhP5qZmZmZmak/AAAAAAAA4L8AAAAAAADQP3sUrkfherQ/4XoUrkfhyj/hehSuR+HaP0jhehSuR+k/pHA9Ctej6L9cj8L1KFzfv4/C9Shcj9K/16NwPQrX4z+kcD0K16Pwv1yPwvUoXN8/mpmZmZmZyT8UrkfhehTuP+xRuB6F68G/mpmZmZmZ4T/D9Shcj8Llv3sUrkfhetQ/FK5H4XoU3r+kcD0K16PQvylcj8L1KNw/9ihcj8L12L8AAAAAAADov3sUrkfhepQ/uB6F61G4nr9xPQrXo3DdPwAAAAAAAAAAhetRuB6F4z/sUbgehevxv5qZmZmZmck/PQrXo3A94r9I4XoUrkfpPwAAAAAAAAAAexSuR+F6tL8K16NwPQq3v65H4XoUrvM/H4XrUbge5b8pXI/C9SjMP5qZmZmZmbm/4XoUrkfhyj8=",
          "dtype": "f8"
         },
         "yaxis": "y10"
        },
        {
         "line": {
          "color": "#888"
         },
         "mode": "lines+text",
         "showlegend": false,
         "text": [
          "0.31",
          "0.37",
          "0.35",
          "0.32",
          "0.22",
          "0.35",
          "0.49",
          "0.43",
          "0.46",
          "0.25",
          "0.20",
          "0.29",
          "0.31",
          "0.41",
          "0.13",
          "0.45",
          "0.28",
          "0.26",
          "0.20",
          "0.13",
          "0.38",
          "0.31",
          "0.17",
          "0.17",
          "0.27",
          "0.47",
          "0.27",
          "0.15",
          "0.28",
          "0.27",
          "0.03",
          "0.29",
          "0.28",
          "0.37",
          "0.48",
          "0.41",
          "0.27",
          "0.19",
          "0.56",
          "0.31",
          "0.30",
          "0.30",
          "0.32",
          "0.29",
          "0.24",
          "0.25",
          "0.30",
          "0.25",
          "0.23",
          "0.31",
          "0.27",
          "0.45"
         ],
         "textfont": {
          "size": 9
         },
         "textposition": "top center",
         "type": "scatter",
         "x": {
          "bdata": "AQIDBAUGBwgJCgsMDQ4PEBESExQVFhcYGRobHB0eHyAhIiMkJSYnKCkqKywtLi8wMTIzNA==",
          "dtype": "i1"
         },
         "xaxis": "x10",
         "y": {
          "bdata": "16NwPQrX0z+uR+F6FK7XP2ZmZmZmZtY/exSuR+F61D8pXI/C9SjMP2ZmZmZmZtY/XI/C9Shc3z+F61G4HoXbP3E9CtejcN0/AAAAAAAA0D+amZmZmZnJP4/C9Shcj9I/16NwPQrX0z89CtejcD3aP6RwPQrXo8A/zczMzMzM3D/sUbgehevRP6RwPQrXo9A/mpmZmZmZyT+kcD0K16PAP1K4HoXrUdg/16NwPQrX0z/D9Shcj8LFP8P1KFyPwsU/SOF6FK5H0T8UrkfhehTeP0jhehSuR9E/MzMzMzMzwz/sUbgehevRP0jhehSuR9E/uB6F61G4nj+PwvUoXI/SP+xRuB6F69E/rkfhehSu1z+4HoXrUbjePz0K16NwPdo/SOF6FK5H0T9SuB6F61HIP+xRuB6F6+E/16NwPQrX0z8zMzMzMzPTPzMzMzMzM9M/exSuR+F61D+PwvUoXI/SP7gehetRuM4/AAAAAAAA0D8zMzMzMzPTPwAAAAAAANA/cT0K16NwzT/Xo3A9CtfTP0jhehSuR9E/zczMzMzM3D8=",
          "dtype": "f8"
         },
         "yaxis": "y10"
        },
        {
         "colorscale": [
          [
           0,
           "#d28b88"
          ],
          [
           0.5,
           "#e8e8e8"
          ],
          [
           1,
           "#6f918b"
          ]
         ],
         "showscale": false,
         "type": "heatmap",
         "x": {
          "bdata": "AQIDBAUGBwgJCgsMDQ4PEBESExQVFhcYGRobHB0eHyAhIiMkJSYnKCkqKywtLi8wMTIzNA==",
          "dtype": "i1"
         },
         "xaxis": "x11",
         "y": [
          "acct6"
         ],
         "yaxis": "y11",
         "z": [
          [
           -0.15,
           -0.36,
           0.35,
           -0.22,
           -0.7,
           0.99,
           0.81,
           0.47,
           0.03,
           -0.56,
           -1.1,
           1.26,
           -0.29,
           0,
           -0.58,
           0.02,
           -0.1,
           0.38,
           -0.89,
           -1.21,
           -0.74,
           0.87,
           1.21,
           -0.1,
           0.5,
           0.27,
           -0.66,
           1.03,
           -0.5,
           -0.12,
           0.09,
           -0.76,
           -0.58,
           1.21,
           -1.03,
           0.05,
           -0.7,
           -0.39,
           -0.61,
           0.07,
           0.86,
           -0.58,
           -0.12,
           0.09,
           0.16,
           1.06,
           0.53,
           -1.02,
           -0.47,
           0.06,
           0.01,
           -1.01
          ]
         ],
         "zmax": 2,
         "zmin": -2
        },
        {
         "line": {
          "color": "#6f918b"
         },
         "marker": {
          "size": 4
         },
         "mode": "lines+markers",
         "showlegend": false,
         "type": "scatter",
         "x": {
          "bdata": "AQIDBAUGBwgJCgsMDQ4PEBESExQVFhcYGRobHB0eHyAhIiMkJSYnKCkqKywtLi8wMTIzNA==",
          "dtype": "i1"
         },
         "xaxis": "x12",
         "y": {
          "bdata": "MzMzMzMzw78K16NwPQrXv2ZmZmZmZtY/KVyPwvUozL9mZmZmZmbmv65H4XoUru8/7FG4HoXr6T8UrkfhehTeP7gehetRuJ4/7FG4HoXr4b+amZmZmZnxvylcj8L1KPQ/j8L1KFyP0r8AAAAAAAAAgI/C9Shcj+K/exSuR+F6lD+amZmZmZm5v1K4HoXrUdg/exSuR+F67L9cj8L1KFzzv65H4XoUrue/16NwPQrX6z9cj8L1KFzzP5qZmZmZmbm/AAAAAAAA4D9I4XoUrkfRPx+F61G4HuW/exSuR+F68D8AAAAAAADgv7gehetRuL6/CtejcD0Ktz9SuB6F61Hov4/C9Shcj+K/XI/C9Shc8z97FK5H4Xrwv5qZmZmZmak/ZmZmZmZm5r/2KFyPwvXYv4XrUbgeheO/7FG4HoXrsT+F61G4HoXrP4/C9Shcj+K/uB6F61G4vr8K16NwPQq3P3sUrkfhesQ/9ihcj8L18D/2KFyPwvXgP1K4HoXrUfC/FK5H4XoU3r+4HoXrUbiuP3sUrkfheoQ/KVyPwvUo8L8=",
          "dtype": "f8"
         },
         "yaxis": "y12"
        },
        {
         "line": {
          "color": "#888"
         },
         "mode": "lines+text",
         "showlegend": false,
         "text": [
          "0.56",
          "0.29",
          "0.41",
          "0.23",
          "0.30",
          "0.48",
          "0.24",
          "0.48",
          "0.37",
          "0.24",
          "0.36",
          "0.40",
          "0.36",
          "0.14",
          "0.23",
          "0.28",
          "0.29",
          "0.36",
          "0.32",
          "0.17",
          "0.34",
          "0.36",
          "0.36",
          "0.41",
          "0.38",
          "0.35",
          "0.29",
          "0.13",
          "0.34",
          "0.32",
          "0.33",
          "0.17",
          "0.19",
          "0.41",
          "0.30",
          "0.37",
          "0.30",
          "0.30",
          "0.39",
          "0.25",
          "0.31",
          "0.25",
          "0.26",
          "0.27",
          "0.32",
          "0.25",
          "0.43",
          "0.21",
          "0.28",
          "0.26",
          "0.44",
          "0.32"
         ],
         "textfont": {
          "size": 9
         },
         "textposition": "top center",
         "type": "scatter",
         "x": {
          "bdata": "AQIDBAUGBwgJCgsMDQ4PEBESExQVFhcYGRobHB0eHyAhIiMkJSYnKCkqKywtLi8wMTIzNA==",
          "dtype": "i1"
         },
         "xaxis": "x12",
         "y": {
          "bdata": "7FG4HoXr4T+PwvUoXI/SPz0K16NwPdo/cT0K16NwzT8zMzMzMzPTP7gehetRuN4/uB6F61G4zj+4HoXrUbjeP65H4XoUrtc/uB6F61G4zj8K16NwPQrXP5qZmZmZmdk/CtejcD0K1z/sUbgehevBP3E9CtejcM0/7FG4HoXr0T+PwvUoXI/SPwrXo3A9Ctc/exSuR+F61D/D9Shcj8LFP8P1KFyPwtU/CtejcD0K1z8K16NwPQrXPz0K16NwPdo/UrgehetR2D9mZmZmZmbWP4/C9Shcj9I/pHA9CtejwD/D9Shcj8LVP3sUrkfhetQ/H4XrUbge1T/D9Shcj8LFP1K4HoXrUcg/PQrXo3A92j8zMzMzMzPTP65H4XoUrtc/MzMzMzMz0z8zMzMzMzPTP/YoXI/C9dg/AAAAAAAA0D/Xo3A9CtfTPwAAAAAAANA/pHA9Ctej0D9I4XoUrkfRP3sUrkfhetQ/AAAAAAAA0D+F61G4HoXbP+F6FK5H4co/7FG4HoXr0T+kcD0K16PQPylcj8L1KNw/exSuR+F61D8=",
          "dtype": "f8"
         },
         "yaxis": "y12"
        },
        {
         "colorscale": [
          [
           0,
           "#d28b88"
          ],
          [
           0.5,
           "#e8e8e8"
          ],
          [
           1,
           "#6f918b"
          ]
         ],
         "showscale": false,
         "type": "heatmap",
         "x": {
          "bdata": "AQIDBAUGBwgJCgsMDQ4PEBESExQVFhcYGRobHB0eHyAhIiMkJSYnKCkqKywtLi8wMTIzNA==",
          "dtype": "i1"
         },
         "xaxis": "x13",
         "y": [
          "acct7"
         ],
         "yaxis": "y13",
         "z": [
          [
           0.95,
           1.05,
           0.92,
           1.02,
           0.37,
           0.31,
           -0.85,
           0.25,
           -0.46,
           0.06,
           0.43,
           -0.44,
           -0.8,
           -0.76,
           0.62,
           -1.04,
           0.57,
           -0.58,
           -0.17,
           -0.54,
           0.17,
           -0.08,
           0.59,
           0.26,
           -0.76,
           0.74,
           0.59,
           -0.03,
           1.15,
           1,
           0.35,
           0.68,
           0.46,
           -0.25,
           0.16,
           0.3,
           -0.98,
           0.68,
           1.28,
           -0.75,
           0.48,
           -0.57,
           0.09,
           0.76,
           -0.66,
           0.44,
           0.87,
           0.13,
           -0.72,
           -0.24,
           0.55,
           0.8
          ]
         ],
         "zmax": 2,
         "zmin": -2
        },
        {
         "line": {
          "color": "#6f918b"
         },
         "marker": {
          "size": 4
         },
         "mode": "lines+markers",
         "showlegend": false,
         "type": "scatter",
         "x": {
          "bdata": "AQIDBAUGBwgJCgsMDQ4PEBESExQVFhcYGRobHB0eHyAhIiMkJSYnKCkqKywtLi8wMTIzNA==",
          "dtype": "i1"
         },
         "xaxis": "x14",
         "y": {
          "bdata": "ZmZmZmZm7j/NzMzMzMzwP3E9CtejcO0/UrgehetR8D+uR+F6FK7XP9ejcD0K19M/MzMzMzMz678AAAAAAADQP3E9CtejcN2/uB6F61G4rj+F61G4HoXbPylcj8L1KNy/mpmZmZmZ6b9SuB6F61Hov9ejcD0K1+M/pHA9Ctej8L89CtejcD3iP4/C9Shcj+K/w/UoXI/Cxb9I4XoUrkfhv8P1KFyPwsU/exSuR+F6tL/hehSuR+HiP6RwPQrXo9A/UrgehetR6L+uR+F6FK7nP+F6FK5H4eI/uB6F61G4nr9mZmZmZmbyPwAAAAAAAPA/ZmZmZmZm1j/D9Shcj8LlP3E9CtejcN0/AAAAAAAA0L97FK5H4XrEPzMzMzMzM9M/XI/C9Shc77/D9Shcj8LlP3sUrkfhevQ/AAAAAAAA6L+4HoXrUbjePz0K16NwPeK/CtejcD0Ktz9SuB6F61HoPx+F61G4HuW/KVyPwvUo3D/Xo3A9CtfrP6RwPQrXo8A/CtejcD0K57+4HoXrUbjOv5qZmZmZmeE/mpmZmZmZ6T8=",
          "dtype": "f8"
         },
         "yaxis": "y14"
        },
        {
         "line": {
          "color": "#888"
         },
         "mode": "lines+text",
         "showlegend": false,
         "text": [
          "0.16",
          "0.37",
          "0.36",
          "0.52",
          "0.27",
          "0.32",
          "0.32",
          "0.46",
          "0.29",
          "0.33",
          "0.36",
          "0.32",
          "0.26",
          "0.32",
          "0.41",
          "0.20",
          "0.31",
          "0.23",
          "0.42",
          "0.15",
          "0.24",
          "0.34",
          "0.46",
          "0.29",
          "0.24",
          "0.49",
          "0.16",
          "0.08",
          "0.34",
          "0.25",
          "0.20",
          "0.37",
          "0.32",
          "0.24",
          "0.17",
          "0.39",
          "0.37",
          "0.29",
          "0.48",
          "0.19",
          "0.15",
          "0.23",
          "0.30",
          "0.32",
          "0.28",
          "0.34",
          "0.17",
          "0.44",
          "0.29",
          "0.41",
          "0.33",
          "0.35"
         ],
         "textfont": {
          "size": 9
         },
         "textposition": "top center",
         "type": "scatter",
         "x": {
          "bdata": "AQIDBAUGBwgJCgsMDQ4PEBESExQVFhcYGRobHB0eHyAhIiMkJSYnKCkqKywtLi8wMTIzNA==",
          "dtype": "i1"
         },
         "xaxis": "x14",
         "y": {
          "bdata": "exSuR+F6xD+uR+F6FK7XPwrXo3A9Ctc/pHA9Ctej4D9I4XoUrkfRP3sUrkfhetQ/exSuR+F61D9xPQrXo3DdP4/C9Shcj9I/H4XrUbge1T8K16NwPQrXP3sUrkfhetQ/pHA9Ctej0D97FK5H4XrUPz0K16NwPdo/mpmZmZmZyT/Xo3A9CtfTP3E9CtejcM0/4XoUrkfh2j8zMzMzMzPDP7gehetRuM4/w/UoXI/C1T9xPQrXo3DdP4/C9Shcj9I/uB6F61G4zj9cj8L1KFzfP3sUrkfhesQ/exSuR+F6tD/D9Shcj8LVPwAAAAAAANA/mpmZmZmZyT+uR+F6FK7XP3sUrkfhetQ/uB6F61G4zj/D9Shcj8LFP/YoXI/C9dg/rkfhehSu1z+PwvUoXI/SP7gehetRuN4/UrgehetRyD8zMzMzMzPDP3E9CtejcM0/MzMzMzMz0z97FK5H4XrUP+xRuB6F69E/w/UoXI/C1T/D9Shcj8LFPylcj8L1KNw/j8L1KFyP0j89CtejcD3aPx+F61G4HtU/ZmZmZmZm1j8=",
          "dtype": "f8"
         },
         "yaxis": "y14"
        },
        {
         "colorscale": [
          [
           0,
           "#d28b88"
          ],
          [
           0.5,
           "#e8e8e8"
          ],
          [
           1,
           "#6f918b"
          ]
         ],
         "showscale": false,
         "type": "heatmap",
         "x": {
          "bdata": "AQIDBAUGBwgJCgsMDQ4PEBESExQVFhcYGRobHB0eHyAhIiMkJSYnKCkqKywtLi8wMTIzNA==",
          "dtype": "i1"
         },
         "xaxis": "x15",
         "y": [
          "acct8"
         ],
         "yaxis": "y15",
         "z": [
          [
           -0.54,
           -0.08,
           0.72,
           0.59,
           0.24,
           -0.02,
           0.24,
           0.15,
           -1.02,
           -0.31,
           -0.56,
           -0.62,
           1,
           -0.41,
           1,
           -0.22,
           0.09,
           0.56,
           0.38,
           0.31,
           0.44,
           0.79,
           -0.35,
           0.65,
           1.44,
           -0.04,
           -0.51,
           0.13,
           -0.87,
           -0.84,
           -0.39,
           0.05,
           1.22,
           0.59,
           0.41,
           0.14,
           0.05,
           -0.63,
           1.15,
           -0.71,
           0.64,
           0.57,
           -0.17,
           0.49,
           -0.08,
           0.75,
           0.47,
           -0.59,
           0.03,
           -0.07,
           0.53,
           -1.22
          ]
         ],
         "zmax": 2,
         "zmin": -2
        },
        {
         "line": {
          "color": "#6f918b"
         },
         "marker": {
          "size": 4
         },
         "mode": "lines+markers",
         "showlegend": false,
         "type": "scatter",
         "x": {
          "bdata": "AQIDBAUGBwgJCgsMDQ4PEBESExQVFhcYGRobHB0eHyAhIiMkJSYnKCkqKywtLi8wMTIzNA==",
          "dtype": "i1"
         },
         "xaxis": "x16",
         "y": {
          "bdata": "SOF6FK5H4b97FK5H4Xq0vwrXo3A9Cuc/4XoUrkfh4j+4HoXrUbjOP3sUrkfhepS/uB6F61G4zj8zMzMzMzPDP1K4HoXrUfC/16NwPQrX07/sUbgehevhv9ejcD0K1+O/AAAAAAAA8D89CtejcD3avwAAAAAAAPA/KVyPwvUozL8K16NwPQq3P+xRuB6F6+E/UrgehetR2D/Xo3A9CtfTPylcj8L1KNw/SOF6FK5H6T9mZmZmZmbWv83MzMzMzOQ/CtejcD0K9z97FK5H4Xqkv1K4HoXrUeC/pHA9CtejwD/Xo3A9Ctfrv+F6FK5H4eq/9ihcj8L12L+amZmZmZmpP4XrUbgehfM/4XoUrkfh4j89CtejcD3aP+xRuB6F68E/mpmZmZmZqT8pXI/C9Sjkv2ZmZmZmZvI/uB6F61G45r97FK5H4XrkPz0K16NwPeI/w/UoXI/Cxb9cj8L1KFzfP3sUrkfherS/AAAAAAAA6D8UrkfhehTeP+F6FK5H4eK/uB6F61G4nj/sUbgeheuxv/YoXI/C9eA/hetRuB6F878=",
          "dtype": "f8"
         },
         "yaxis": "y16"
        },
        {
         "line": {
          "color": "#888"
         },
         "mode": "lines+text",
         "showlegend": false,
         "text": [
          "0.45",
          "0.44",
          "0.24",
          "0.34",
          "0.35",
          "0.33",
          "0.24",
          "0.23",
          "0.30",
          "0.42",
          "0.35",
          "0.26",
          "0.38",
          "0.02",
          "0.41",
          "0.13",
          "0.26",
          "0.19",
          "0.17",
          "0.42",
          "0.25",
          "0.33",
          "0.30",
          "0.35",
          "0.31",
          "0.17",
          "0.40",
          "0.25",
          "0.14",
          "0.26",
          "0.45",
          "0.39",
          "0.27",
          "0.27",
          "0.27",
          "0.51",
          "0.34",
          "0.34",
          "0.40",
          "0.32",
          "0.27",
          "0.28",
          "0.29",
          "0.30",
          "0.37",
          "0.31",
          "0.37",
          "0.29",
          "0.31",
          "0.10",
          "0.39",
          "0.33"
         ],
         "textfont": {
          "size": 9
         },
         "textposition": "top center",
         "type": "scatter",
         "x": {
          "bdata": "AQIDBAUGBwgJCgsMDQ4PEBESExQVFhcYGRobHB0eHyAhIiMkJSYnKCkqKywtLi8wMTIzNA==",
          "dtype": "i1"
         },
         "xaxis": "x16",
         "y": {
          "bdata": "zczMzMzM3D8pXI/C9SjcP7gehetRuM4/w/UoXI/C1T9mZmZmZmbWPx+F61G4HtU/uB6F61G4zj9xPQrXo3DNPzMzMzMzM9M/4XoUrkfh2j9mZmZmZmbWP6RwPQrXo9A/UrgehetR2D97FK5H4XqUPz0K16NwPdo/pHA9CtejwD+kcD0K16PQP1K4HoXrUcg/w/UoXI/CxT/hehSuR+HaPwAAAAAAANA/H4XrUbge1T8zMzMzMzPTP2ZmZmZmZtY/16NwPQrX0z/D9Shcj8LFP5qZmZmZmdk/AAAAAAAA0D/sUbgehevBP6RwPQrXo9A/zczMzMzM3D/2KFyPwvXYP0jhehSuR9E/SOF6FK5H0T9I4XoUrkfRP1K4HoXrUeA/w/UoXI/C1T/D9Shcj8LVP5qZmZmZmdk/exSuR+F61D9I4XoUrkfRP+xRuB6F69E/j8L1KFyP0j8zMzMzMzPTP65H4XoUrtc/16NwPQrX0z+uR+F6FK7XP4/C9Shcj9I/16NwPQrX0z+amZmZmZm5P/YoXI/C9dg/H4XrUbge1T8=",
          "dtype": "f8"
         },
         "yaxis": "y16"
        },
        {
         "colorscale": [
          [
           0,
           "#d28b88"
          ],
          [
           0.5,
           "#e8e8e8"
          ],
          [
           1,
           "#6f918b"
          ]
         ],
         "showscale": false,
         "type": "heatmap",
         "x": {
          "bdata": "AQIDBAUGBwgJCgsMDQ4PEBESExQVFhcYGRobHB0eHyAhIiMkJSYnKCkqKywtLi8wMTIzNA==",
          "dtype": "i1"
         },
         "xaxis": "x17",
         "y": [
          "acct9"
         ],
         "yaxis": "y17",
         "z": [
          [
           -0.51,
           -0.48,
           -0.48,
           -1.32,
           0.31,
           0.59,
           -0.36,
           0.04,
           0.13,
           0.36,
           0.54,
           0.08,
           -1.16,
           -0.33,
           -0.07,
           -0.18,
           0.32,
           -0.21,
           0.27,
           0.11,
           0.59,
           0.17,
           0.69,
           -0.59,
           -0.28,
           -0.8,
           -0.03,
           0.7,
           -0.15,
           0.9,
           -0.18,
           0.99,
           -0.24,
           -0.89,
           0.01,
           -0.53,
           -0.22,
           -0.1,
           0.37,
           -0.32,
           -0.93,
           0.37,
           0.1,
           -1.1,
           -0.06,
           -0.01,
           -0.64,
           0.61,
           -0.61,
           0.02,
           0.69,
           -0.87
          ]
         ],
         "zmax": 2,
         "zmin": -2
        },
        {
         "line": {
          "color": "#6f918b"
         },
         "marker": {
          "size": 4
         },
         "mode": "lines+markers",
         "showlegend": false,
         "type": "scatter",
         "x": {
          "bdata": "AQIDBAUGBwgJCgsMDQ4PEBESExQVFhcYGRobHB0eHyAhIiMkJSYnKCkqKywtLi8wMTIzNA==",
          "dtype": "i1"
         },
         "xaxis": "x18",
         "y": {
          "bdata": "UrgehetR4L+4HoXrUbjev7gehetRuN6/H4XrUbge9b/Xo3A9CtfTP+F6FK5H4eI/CtejcD0K1797FK5H4XqkP6RwPQrXo8A/CtejcD0K1z9I4XoUrkfhP3sUrkfherQ/j8L1KFyP8r8fhetRuB7Vv+xRuB6F67G/CtejcD0Kx797FK5H4XrUP+F6FK5H4cq/SOF6FK5H0T8pXI/C9Si8P+F6FK5H4eI/w/UoXI/CxT8UrkfhehTmP+F6FK5H4eK/7FG4HoXr0b+amZmZmZnpv7gehetRuJ6/ZmZmZmZm5j8zMzMzMzPDv83MzMzMzOw/CtejcD0Kx7+uR+F6FK7vP7gehetRuM6/exSuR+F67L97FK5H4XqEP/YoXI/C9eC/KVyPwvUozL+amZmZmZm5v65H4XoUrtc/exSuR+F61L/D9Shcj8Ltv65H4XoUrtc/mpmZmZmZuT+amZmZmZnxv7gehetRuK6/exSuR+F6hL97FK5H4Xrkv4XrUbgeheM/hetRuB6F4797FK5H4XqUPxSuR+F6FOY/16NwPQrX678=",
          "dtype": "f8"
         },
         "yaxis": "y18"
        },
        {
         "line": {
          "color": "#888"
         },
         "mode": "lines+text",
         "showlegend": false,
         "text": [
          "0.14",
          "0.34",
          "0.30",
          "0.36",
          "0.32",
          "0.44",
          "0.31",
          "0.26",
          "0.31",
          "0.35",
          "0.30",
          "0.30",
          "0.23",
          "0.23",
          "0.16",
          "0.47",
          "0.18",
          "0.23",
          "0.23",
          "0.39",
          "0.27",
          "0.42",
          "0.23",
          "0.33",
          "0.22",
          "0.51",
          "0.18",
          "0.33",
          "0.36",
          "0.34",
          "0.28",
          "0.29",
          "0.30",
          "0.29",
          "0.40",
          "0.52",
          "0.24",
          "0.16",
          "0.29",
          "0.56",
          "0.22",
          "0.46",
          "0.47",
          "0.24",
          "0.36",
          "0.46",
          "0.26",
          "0.28",
          "0.24",
          "0.20",
          "0.24",
          "0.18"
         ],
         "textfont": {
          "size": 9
         },
         "textposition": "top center",
         "type": "scatter",
         "x": {
          "bdata": "AQIDBAUGBwgJCgsMDQ4PEBESExQVFhcYGRobHB0eHyAhIiMkJSYnKCkqKywtLi8wMTIzNA==",
          "dtype": "i1"
         },
         "xaxis": "x18",
         "y": {
          "bdata": "7FG4HoXrwT/D9Shcj8LVPzMzMzMzM9M/CtejcD0K1z97FK5H4XrUPylcj8L1KNw/16NwPQrX0z+kcD0K16PQP9ejcD0K19M/ZmZmZmZm1j8zMzMzMzPTPzMzMzMzM9M/cT0K16NwzT9xPQrXo3DNP3sUrkfhesQ/FK5H4XoU3j8K16NwPQrHP3E9CtejcM0/cT0K16NwzT/2KFyPwvXYP0jhehSuR9E/4XoUrkfh2j9xPQrXo3DNPx+F61G4HtU/KVyPwvUozD9SuB6F61HgPwrXo3A9Csc/H4XrUbge1T8K16NwPQrXP8P1KFyPwtU/7FG4HoXr0T+PwvUoXI/SPzMzMzMzM9M/j8L1KFyP0j+amZmZmZnZP6RwPQrXo+A/uB6F61G4zj97FK5H4XrEP4/C9Shcj9I/7FG4HoXr4T8pXI/C9SjMP3E9CtejcN0/FK5H4XoU3j+4HoXrUbjOPwrXo3A9Ctc/cT0K16Nw3T+kcD0K16PQP+xRuB6F69E/uB6F61G4zj+amZmZmZnJP7gehetRuM4/CtejcD0Kxz8=",
          "dtype": "f8"
         },
         "yaxis": "y18"
        },
        {
         "colorscale": [
          [
           0,
           "#d28b88"
          ],
          [
           0.5,
           "#e8e8e8"
          ],
          [
           1,
           "#6f918b"
          ]
         ],
         "showscale": false,
         "type": "heatmap",
         "x": {
          "bdata": "AQIDBAUGBwgJCgsMDQ4PEBESExQVFhcYGRobHB0eHyAhIiMkJSYnKCkqKywtLi8wMTIzNA==",
          "dtype": "i1"
         },
         "xaxis": "x19",
         "y": [
          "acct10"
         ],
         "yaxis": "y19",
         "z": [
          [
           0.87,
           0.41,
           1.18,
           -0.35,
           -0.95,
           -0.14,
           -1.06,
           0.1,
           0.05,
           0.75,
           -0.03,
           0.81,
           -0.38,
           0.94,
           1.14,
           -0.25,
           -0.21,
           0.98,
           -0.75,
           -0.07,
           0.2,
           -0.54,
           -0.13,
           -0.21,
           -1.14,
           -0.45,
           0.94,
           0.18,
           1.39,
           0.02,
           -0.21,
           0.33,
           -0.23,
           -1.04,
           -0.03,
           -1.16,
           0.86,
           -0.03,
           -0.76,
           -0.96,
           0.65,
           0.16,
           -0.63,
           0.81,
           -0.93,
           0.47,
           0.89,
           -0.04,
           -0.57,
           -0.54,
           -0.19,
           -0.45
          ]
         ],
         "zmax": 2,
         "zmin": -2
        },
        {
         "line": {
          "color": "#6f918b"
         },
         "marker": {
          "size": 4
         },
         "mode": "lines+markers",
         "showlegend": false,
         "type": "scatter",
         "x": {
          "bdata": "AQIDBAUGBwgJCgsMDQ4PEBESExQVFhcYGRobHB0eHyAhIiMkJSYnKCkqKywtLi8wMTIzNA==",
          "dtype": "i1"
         },
         "xaxis": "x20",
         "y": {
          "bdata": "16NwPQrX6z89CtejcD3aP+F6FK5H4fI/ZmZmZmZm1r9mZmZmZmbuv+xRuB6F68G/9ihcj8L18L+amZmZmZm5P5qZmZmZmak/AAAAAAAA6D+4HoXrUbiev+xRuB6F6+k/UrgehetR2L8UrkfhehTuPz0K16NwPfI/AAAAAAAA0L/hehSuR+HKv1yPwvUoXO8/AAAAAAAA6L/sUbgeheuxv5qZmZmZmck/SOF6FK5H4b+kcD0K16PAv+F6FK5H4cq/PQrXo3A98r/NzMzMzMzcvxSuR+F6FO4/CtejcD0Kxz89CtejcD32P3sUrkfhepQ/4XoUrkfhyr8fhetRuB7VP3E9CtejcM2/pHA9Ctej8L+4HoXrUbiev4/C9Shcj/K/hetRuB6F6z+4HoXrUbiev1K4HoXrUei/uB6F61G47r/NzMzMzMzkP3sUrkfhesQ/KVyPwvUo5L/sUbgehevpP8P1KFyPwu2/FK5H4XoU3j97FK5H4XrsP3sUrkfheqS/PQrXo3A94r9I4XoUrkfhv1K4HoXrUci/zczMzMzM3L8=",
          "dtype": "f8"
         },
         "yaxis": "y20"
        },
        {
         "line": {
          "color": "#888"
         },
         "mode": "lines+text",
         "showlegend": false,
         "text": [
          "0.26",
          "0.32",
          "0.32",
          "0.30",
          "0.34",
          "0.42",
          "0.39",
          "0.15",
          "0.04",
          "0.39",
          "0.16",
          "0.28",
          "0.18",
          "0.12",
          "0.35",
          "0.38",
          "0.24",
          "0.04",
          "0.25",
          "0.34",
          "0.15",
          "0.32",
          "0.30",
          "0.36",
          "0.31",
          "0.20",
          "0.42",
          "0.28",
          "0.30",
          "0.21",
          "0.26",
          "0.21",
          "0.28",
          "0.47",
          "0.16",
          "0.14",
          "0.45",
          "0.28",
          "0.23",
          "0.40",
          "0.24",
          "0.48",
          "0.37",
          "0.25",
          "0.52",
          "0.24",
          "0.37",
          "0.33",
          "0.43",
          "0.46",
          "0.30",
          "0.22"
         ],
         "textfont": {
          "size": 9
         },
         "textposition": "top center",
         "type": "scatter",
         "x": {
          "bdata": "AQIDBAUGBwgJCgsMDQ4PEBESExQVFhcYGRobHB0eHyAhIiMkJSYnKCkqKywtLi8wMTIzNA==",
          "dtype": "i1"
         },
         "xaxis": "x20",
         "y": {
          "bdata": "pHA9Ctej0D97FK5H4XrUP3sUrkfhetQ/MzMzMzMz0z/D9Shcj8LVP+F6FK5H4do/9ihcj8L12D8zMzMzMzPDP3sUrkfheqQ/9ihcj8L12D97FK5H4XrEP+xRuB6F69E/CtejcD0Kxz+4HoXrUbi+P2ZmZmZmZtY/UrgehetR2D+4HoXrUbjOP3sUrkfheqQ/AAAAAAAA0D/D9Shcj8LVPzMzMzMzM8M/exSuR+F61D8zMzMzMzPTPwrXo3A9Ctc/16NwPQrX0z+amZmZmZnJP+F6FK5H4do/7FG4HoXr0T8zMzMzMzPTP+F6FK5H4co/pHA9Ctej0D/hehSuR+HKP+xRuB6F69E/FK5H4XoU3j97FK5H4XrEP+xRuB6F68E/zczMzMzM3D/sUbgehevRP3E9CtejcM0/mpmZmZmZ2T+4HoXrUbjOP7gehetRuN4/rkfhehSu1z8AAAAAAADQP6RwPQrXo+A/uB6F61G4zj+uR+F6FK7XPx+F61G4HtU/hetRuB6F2z9xPQrXo3DdPzMzMzMzM9M/KVyPwvUozD8=",
          "dtype": "f8"
         },
         "yaxis": "y20"
        }
       ],
       "layout": {
        "annotations": [
         {
          "font": {
           "size": 16
          },
          "showarrow": false,
          "text": "Stocking Change Heatmap",
          "x": 0.23249999999999998,
          "xanchor": "center",
          "xref": "paper",
          "y": 0.9999999999999999,
          "yanchor": "bottom",
          "yref": "paper"
         },
         {
          "font": {
           "size": 16
          },
          "showarrow": false,
          "text": "Stocking Change + Volatility",
          "x": 0.7674999999999998,
          "xanchor": "center",
          "xref": "paper",
          "y": 0.9999999999999999,
          "yanchor": "bottom",
          "yref": "paper"
         }
        ],
        "font": {
         "family": "Courier New",
         "size": 10
        },
        "height": 2200,
        "template": {
         "data": {
          "bar": [
           {
            "error_x": {
             "color": "#2a3f5f"
            },
            "error_y": {
             "color": "#2a3f5f"
            },
            "marker": {
             "line": {
              "color": "#E5ECF6",
              "width": 0.5
             },
             "pattern": {
              "fillmode": "overlay",
              "size": 10,
              "solidity": 0.2
             }
            },
            "type": "bar"
           }
          ],
          "barpolar": [
           {
            "marker": {
             "line": {
              "color": "#E5ECF6",
              "width": 0.5
             },
             "pattern": {
              "fillmode": "overlay",
              "size": 10,
              "solidity": 0.2
             }
            },
            "type": "barpolar"
           }
          ],
          "carpet": [
           {
            "aaxis": {
             "endlinecolor": "#2a3f5f",
             "gridcolor": "white",
             "linecolor": "white",
             "minorgridcolor": "white",
             "startlinecolor": "#2a3f5f"
            },
            "baxis": {
             "endlinecolor": "#2a3f5f",
             "gridcolor": "white",
             "linecolor": "white",
             "minorgridcolor": "white",
             "startlinecolor": "#2a3f5f"
            },
            "type": "carpet"
           }
          ],
          "choropleth": [
           {
            "colorbar": {
             "outlinewidth": 0,
             "ticks": ""
            },
            "type": "choropleth"
           }
          ],
          "contour": [
           {
            "colorbar": {
             "outlinewidth": 0,
             "ticks": ""
            },
            "colorscale": [
             [
              0,
              "#0d0887"
             ],
             [
              0.1111111111111111,
              "#46039f"
             ],
             [
              0.2222222222222222,
              "#7201a8"
             ],
             [
              0.3333333333333333,
              "#9c179e"
             ],
             [
              0.4444444444444444,
              "#bd3786"
             ],
             [
              0.5555555555555556,
              "#d8576b"
             ],
             [
              0.6666666666666666,
              "#ed7953"
             ],
             [
              0.7777777777777778,
              "#fb9f3a"
             ],
             [
              0.8888888888888888,
              "#fdca26"
             ],
             [
              1,
              "#f0f921"
             ]
            ],
            "type": "contour"
           }
          ],
          "contourcarpet": [
           {
            "colorbar": {
             "outlinewidth": 0,
             "ticks": ""
            },
            "type": "contourcarpet"
           }
          ],
          "heatmap": [
           {
            "colorbar": {
             "outlinewidth": 0,
             "ticks": ""
            },
            "colorscale": [
             [
              0,
              "#0d0887"
             ],
             [
              0.1111111111111111,
              "#46039f"
             ],
             [
              0.2222222222222222,
              "#7201a8"
             ],
             [
              0.3333333333333333,
              "#9c179e"
             ],
             [
              0.4444444444444444,
              "#bd3786"
             ],
             [
              0.5555555555555556,
              "#d8576b"
             ],
             [
              0.6666666666666666,
              "#ed7953"
             ],
             [
              0.7777777777777778,
              "#fb9f3a"
             ],
             [
              0.8888888888888888,
              "#fdca26"
             ],
             [
              1,
              "#f0f921"
             ]
            ],
            "type": "heatmap"
           }
          ],
          "histogram": [
           {
            "marker": {
             "pattern": {
              "fillmode": "overlay",
              "size": 10,
              "solidity": 0.2
             }
            },
            "type": "histogram"
           }
          ],
          "histogram2d": [
           {
            "colorbar": {
             "outlinewidth": 0,
             "ticks": ""
            },
            "colorscale": [
             [
              0,
              "#0d0887"
             ],
             [
              0.1111111111111111,
              "#46039f"
             ],
             [
              0.2222222222222222,
              "#7201a8"
             ],
             [
              0.3333333333333333,
              "#9c179e"
             ],
             [
              0.4444444444444444,
              "#bd3786"
             ],
             [
              0.5555555555555556,
              "#d8576b"
             ],
             [
              0.6666666666666666,
              "#ed7953"
             ],
             [
              0.7777777777777778,
              "#fb9f3a"
             ],
             [
              0.8888888888888888,
              "#fdca26"
             ],
             [
              1,
              "#f0f921"
             ]
            ],
            "type": "histogram2d"
           }
          ],
          "histogram2dcontour": [
           {
            "colorbar": {
             "outlinewidth": 0,
             "ticks": ""
            },
            "colorscale": [
             [
              0,
              "#0d0887"
             ],
             [
              0.1111111111111111,
              "#46039f"
             ],
             [
              0.2222222222222222,
              "#7201a8"
             ],
             [
              0.3333333333333333,
              "#9c179e"
             ],
             [
              0.4444444444444444,
              "#bd3786"
             ],
             [
              0.5555555555555556,
              "#d8576b"
             ],
             [
              0.6666666666666666,
              "#ed7953"
             ],
             [
              0.7777777777777778,
              "#fb9f3a"
             ],
             [
              0.8888888888888888,
              "#fdca26"
             ],
             [
              1,
              "#f0f921"
             ]
            ],
            "type": "histogram2dcontour"
           }
          ],
          "mesh3d": [
           {
            "colorbar": {
             "outlinewidth": 0,
             "ticks": ""
            },
            "type": "mesh3d"
           }
          ],
          "parcoords": [
           {
            "line": {
             "colorbar": {
              "outlinewidth": 0,
              "ticks": ""
             }
            },
            "type": "parcoords"
           }
          ],
          "pie": [
           {
            "automargin": true,
            "type": "pie"
           }
          ],
          "scatter": [
           {
            "fillpattern": {
             "fillmode": "overlay",
             "size": 10,
             "solidity": 0.2
            },
            "type": "scatter"
           }
          ],
          "scatter3d": [
           {
            "line": {
             "colorbar": {
              "outlinewidth": 0,
              "ticks": ""
             }
            },
            "marker": {
             "colorbar": {
              "outlinewidth": 0,
              "ticks": ""
             }
            },
            "type": "scatter3d"
           }
          ],
          "scattercarpet": [
           {
            "marker": {
             "colorbar": {
              "outlinewidth": 0,
              "ticks": ""
             }
            },
            "type": "scattercarpet"
           }
          ],
          "scattergeo": [
           {
            "marker": {
             "colorbar": {
              "outlinewidth": 0,
              "ticks": ""
             }
            },
            "type": "scattergeo"
           }
          ],
          "scattergl": [
           {
            "marker": {
             "colorbar": {
              "outlinewidth": 0,
              "ticks": ""
             }
            },
            "type": "scattergl"
           }
          ],
          "scattermap": [
           {
            "marker": {
             "colorbar": {
              "outlinewidth": 0,
              "ticks": ""
             }
            },
            "type": "scattermap"
           }
          ],
          "scattermapbox": [
           {
            "marker": {
             "colorbar": {
              "outlinewidth": 0,
              "ticks": ""
             }
            },
            "type": "scattermapbox"
           }
          ],
          "scatterpolar": [
           {
            "marker": {
             "colorbar": {
              "outlinewidth": 0,
              "ticks": ""
             }
            },
            "type": "scatterpolar"
           }
          ],
          "scatterpolargl": [
           {
            "marker": {
             "colorbar": {
              "outlinewidth": 0,
              "ticks": ""
             }
            },
            "type": "scatterpolargl"
           }
          ],
          "scatterternary": [
           {
            "marker": {
             "colorbar": {
              "outlinewidth": 0,
              "ticks": ""
             }
            },
            "type": "scatterternary"
           }
          ],
          "surface": [
           {
            "colorbar": {
             "outlinewidth": 0,
             "ticks": ""
            },
            "colorscale": [
             [
              0,
              "#0d0887"
             ],
             [
              0.1111111111111111,
              "#46039f"
             ],
             [
              0.2222222222222222,
              "#7201a8"
             ],
             [
              0.3333333333333333,
              "#9c179e"
             ],
             [
              0.4444444444444444,
              "#bd3786"
             ],
             [
              0.5555555555555556,
              "#d8576b"
             ],
             [
              0.6666666666666666,
              "#ed7953"
             ],
             [
              0.7777777777777778,
              "#fb9f3a"
             ],
             [
              0.8888888888888888,
              "#fdca26"
             ],
             [
              1,
              "#f0f921"
             ]
            ],
            "type": "surface"
           }
          ],
          "table": [
           {
            "cells": {
             "fill": {
              "color": "#EBF0F8"
             },
             "line": {
              "color": "white"
             }
            },
            "header": {
             "fill": {
              "color": "#C8D4E3"
             },
             "line": {
              "color": "white"
             }
            },
            "type": "table"
           }
          ]
         },
         "layout": {
          "annotationdefaults": {
           "arrowcolor": "#2a3f5f",
           "arrowhead": 0,
           "arrowwidth": 1
          },
          "autotypenumbers": "strict",
          "coloraxis": {
           "colorbar": {
            "outlinewidth": 0,
            "ticks": ""
           }
          },
          "colorscale": {
           "diverging": [
            [
             0,
             "#8e0152"
            ],
            [
             0.1,
             "#c51b7d"
            ],
            [
             0.2,
             "#de77ae"
            ],
            [
             0.3,
             "#f1b6da"
            ],
            [
             0.4,
             "#fde0ef"
            ],
            [
             0.5,
             "#f7f7f7"
            ],
            [
             0.6,
             "#e6f5d0"
            ],
            [
             0.7,
             "#b8e186"
            ],
            [
             0.8,
             "#7fbc41"
            ],
            [
             0.9,
             "#4d9221"
            ],
            [
             1,
             "#276419"
            ]
           ],
           "sequential": [
            [
             0,
             "#0d0887"
            ],
            [
             0.1111111111111111,
             "#46039f"
            ],
            [
             0.2222222222222222,
             "#7201a8"
            ],
            [
             0.3333333333333333,
             "#9c179e"
            ],
            [
             0.4444444444444444,
             "#bd3786"
            ],
            [
             0.5555555555555556,
             "#d8576b"
            ],
            [
             0.6666666666666666,
             "#ed7953"
            ],
            [
             0.7777777777777778,
             "#fb9f3a"
            ],
            [
             0.8888888888888888,
             "#fdca26"
            ],
            [
             1,
             "#f0f921"
            ]
           ],
           "sequentialminus": [
            [
             0,
             "#0d0887"
            ],
            [
             0.1111111111111111,
             "#46039f"
            ],
            [
             0.2222222222222222,
             "#7201a8"
            ],
            [
             0.3333333333333333,
             "#9c179e"
            ],
            [
             0.4444444444444444,
             "#bd3786"
            ],
            [
             0.5555555555555556,
             "#d8576b"
            ],
            [
             0.6666666666666666,
             "#ed7953"
            ],
            [
             0.7777777777777778,
             "#fb9f3a"
            ],
            [
             0.8888888888888888,
             "#fdca26"
            ],
            [
             1,
             "#f0f921"
            ]
           ]
          },
          "colorway": [
           "#636efa",
           "#EF553B",
           "#00cc96",
           "#ab63fa",
           "#FFA15A",
           "#19d3f3",
           "#FF6692",
           "#B6E880",
           "#FF97FF",
           "#FECB52"
          ],
          "font": {
           "color": "#2a3f5f"
          },
          "geo": {
           "bgcolor": "white",
           "lakecolor": "white",
           "landcolor": "#E5ECF6",
           "showlakes": true,
           "showland": true,
           "subunitcolor": "white"
          },
          "hoverlabel": {
           "align": "left"
          },
          "hovermode": "closest",
          "mapbox": {
           "style": "light"
          },
          "paper_bgcolor": "white",
          "plot_bgcolor": "#E5ECF6",
          "polar": {
           "angularaxis": {
            "gridcolor": "white",
            "linecolor": "white",
            "ticks": ""
           },
           "bgcolor": "#E5ECF6",
           "radialaxis": {
            "gridcolor": "white",
            "linecolor": "white",
            "ticks": ""
           }
          },
          "scene": {
           "xaxis": {
            "backgroundcolor": "#E5ECF6",
            "gridcolor": "white",
            "gridwidth": 2,
            "linecolor": "white",
            "showbackground": true,
            "ticks": "",
            "zerolinecolor": "white"
           },
           "yaxis": {
            "backgroundcolor": "#E5ECF6",
            "gridcolor": "white",
            "gridwidth": 2,
            "linecolor": "white",
            "showbackground": true,
            "ticks": "",
            "zerolinecolor": "white"
           },
           "zaxis": {
            "backgroundcolor": "#E5ECF6",
            "gridcolor": "white",
            "gridwidth": 2,
            "linecolor": "white",
            "showbackground": true,
            "ticks": "",
            "zerolinecolor": "white"
           }
          },
          "shapedefaults": {
           "line": {
            "color": "#2a3f5f"
           }
          },
          "ternary": {
           "aaxis": {
            "gridcolor": "white",
            "linecolor": "white",
            "ticks": ""
           },
           "baxis": {
            "gridcolor": "white",
            "linecolor": "white",
            "ticks": ""
           },
           "bgcolor": "#E5ECF6",
           "caxis": {
            "gridcolor": "white",
            "linecolor": "white",
            "ticks": ""
           }
          },
          "title": {
           "x": 0.05
          },
          "xaxis": {
           "automargin": true,
           "gridcolor": "white",
           "linecolor": "white",
           "ticks": "",
           "title": {
            "standoff": 15
           },
           "zerolinecolor": "white",
           "zerolinewidth": 2
          },
          "yaxis": {
           "automargin": true,
           "gridcolor": "white",
           "linecolor": "white",
           "ticks": "",
           "title": {
            "standoff": 15
           },
           "zerolinecolor": "white",
           "zerolinewidth": 2
          }
         }
        },
        "title": {
         "text": "Top 10 Accounts: Shared X-axis View with Heatmap and Volatility"
        },
        "width": 1200,
        "xaxis": {
         "anchor": "y",
         "domain": [
          0,
          0.46499999999999997
         ],
         "matches": "x19",
         "showticklabels": false
        },
        "xaxis10": {
         "anchor": "y10",
         "domain": [
          0.5349999999999999,
          0.9999999999999999
         ],
         "matches": "x20",
         "showticklabels": false
        },
        "xaxis11": {
         "anchor": "y11",
         "domain": [
          0,
          0.46499999999999997
         ],
         "matches": "x19",
         "showticklabels": false
        },
        "xaxis12": {
         "anchor": "y12",
         "domain": [
          0.5349999999999999,
          0.9999999999999999
         ],
         "matches": "x20",
         "showticklabels": false
        },
        "xaxis13": {
         "anchor": "y13",
         "domain": [
          0,
          0.46499999999999997
         ],
         "matches": "x19",
         "showticklabels": false
        },
        "xaxis14": {
         "anchor": "y14",
         "domain": [
          0.5349999999999999,
          0.9999999999999999
         ],
         "matches": "x20",
         "showticklabels": false
        },
        "xaxis15": {
         "anchor": "y15",
         "domain": [
          0,
          0.46499999999999997
         ],
         "matches": "x19",
         "showticklabels": false
        },
        "xaxis16": {
         "anchor": "y16",
         "domain": [
          0.5349999999999999,
          0.9999999999999999
         ],
         "matches": "x20",
         "showticklabels": false
        },
        "xaxis17": {
         "anchor": "y17",
         "domain": [
          0,
          0.46499999999999997
         ],
         "matches": "x19",
         "showticklabels": false
        },
        "xaxis18": {
         "anchor": "y18",
         "domain": [
          0.5349999999999999,
          0.9999999999999999
         ],
         "matches": "x20",
         "showticklabels": false
        },
        "xaxis19": {
         "anchor": "y19",
         "domain": [
          0,
          0.46499999999999997
         ]
        },
        "xaxis2": {
         "anchor": "y2",
         "domain": [
          0.5349999999999999,
          0.9999999999999999
         ],
         "matches": "x20",
         "showticklabels": false
        },
        "xaxis20": {
         "anchor": "y20",
         "domain": [
          0.5349999999999999,
          0.9999999999999999
         ]
        },
        "xaxis3": {
         "anchor": "y3",
         "domain": [
          0,
          0.46499999999999997
         ],
         "matches": "x19",
         "showticklabels": false
        },
        "xaxis4": {
         "anchor": "y4",
         "domain": [
          0.5349999999999999,
          0.9999999999999999
         ],
         "matches": "x20",
         "showticklabels": false
        },
        "xaxis5": {
         "anchor": "y5",
         "domain": [
          0,
          0.46499999999999997
         ],
         "matches": "x19",
         "showticklabels": false
        },
        "xaxis6": {
         "anchor": "y6",
         "domain": [
          0.5349999999999999,
          0.9999999999999999
         ],
         "matches": "x20",
         "showticklabels": false
        },
        "xaxis7": {
         "anchor": "y7",
         "domain": [
          0,
          0.46499999999999997
         ],
         "matches": "x19",
         "showticklabels": false
        },
        "xaxis8": {
         "anchor": "y8",
         "domain": [
          0.5349999999999999,
          0.9999999999999999
         ],
         "matches": "x20",
         "showticklabels": false
        },
        "xaxis9": {
         "anchor": "y9",
         "domain": [
          0,
          0.46499999999999997
         ],
         "matches": "x19",
         "showticklabels": false
        },
        "yaxis": {
         "anchor": "x",
         "domain": [
          0.9269999999999999,
          0.9999999999999999
         ]
        },
        "yaxis10": {
         "anchor": "x10",
         "domain": [
          0.515,
          0.588
         ]
        },
        "yaxis11": {
         "anchor": "x11",
         "domain": [
          0.412,
          0.485
         ]
        },
        "yaxis12": {
         "anchor": "x12",
         "domain": [
          0.412,
          0.485
         ]
        },
        "yaxis13": {
         "anchor": "x13",
         "domain": [
          0.30899999999999994,
          0.38199999999999995
         ]
        },
        "yaxis14": {
         "anchor": "x14",
         "domain": [
          0.30899999999999994,
          0.38199999999999995
         ]
        },
        "yaxis15": {
         "anchor": "x15",
         "domain": [
          0.206,
          0.27899999999999997
         ]
        },
        "yaxis16": {
         "anchor": "x16",
         "domain": [
          0.206,
          0.27899999999999997
         ]
        },
        "yaxis17": {
         "anchor": "x17",
         "domain": [
          0.103,
          0.176
         ]
        },
        "yaxis18": {
         "anchor": "x18",
         "domain": [
          0.103,
          0.176
         ]
        },
        "yaxis19": {
         "anchor": "x19",
         "domain": [
          0,
          0.073
         ]
        },
        "yaxis2": {
         "anchor": "x2",
         "domain": [
          0.9269999999999999,
          0.9999999999999999
         ]
        },
        "yaxis20": {
         "anchor": "x20",
         "domain": [
          0,
          0.073
         ]
        },
        "yaxis3": {
         "anchor": "x3",
         "domain": [
          0.824,
          0.8969999999999999
         ]
        },
        "yaxis4": {
         "anchor": "x4",
         "domain": [
          0.824,
          0.8969999999999999
         ]
        },
        "yaxis5": {
         "anchor": "x5",
         "domain": [
          0.721,
          0.7939999999999999
         ]
        },
        "yaxis6": {
         "anchor": "x6",
         "domain": [
          0.721,
          0.7939999999999999
         ]
        },
        "yaxis7": {
         "anchor": "x7",
         "domain": [
          0.6179999999999999,
          0.6909999999999998
         ]
        },
        "yaxis8": {
         "anchor": "x8",
         "domain": [
          0.6179999999999999,
          0.6909999999999998
         ]
        },
        "yaxis9": {
         "anchor": "x9",
         "domain": [
          0.515,
          0.588
         ]
        }
       }
      }
     },
     "metadata": {},
     "output_type": "display_data"
    }
   ],
   "source": [
    "# 创建subplot：10行2列，共用x轴\n",
    "from plotly.subplots import make_subplots\n",
    "import plotly.graph_objects as go\n",
    "\n",
    "top_accounts = df_top['account_id'].unique()\n",
    "fig = make_subplots(\n",
    "    rows=10, cols=2,\n",
    "    shared_xaxes=True,\n",
    "    horizontal_spacing=0.07,\n",
    "    vertical_spacing=0.03,\n",
    "    column_titles=[\"Stocking Change Heatmap\", \"Stocking Change + Volatility\"]\n",
    ")\n",
    "\n",
    "for i, acct in enumerate(top_accounts, start=1):\n",
    "    sub = df_top[df_top['account_id'] == acct]\n",
    "\n",
    "    # 左图：heatmap\n",
    "    fig.add_trace(\n",
    "        go.Heatmap(\n",
    "            z=[sub['stocking_change'].values],\n",
    "            x=sub['rolling_week'],\n",
    "            y=[acct],\n",
    "            zmin=-2, zmax=2,\n",
    "            showscale=False,\n",
    "            colorscale=[[0.0, \"#d28b88\"], [0.5, \"#e8e8e8\"], [1.0, \"#6f918b\"]]\n",
    "        ),\n",
    "        row=i, col=1\n",
    "    )\n",
    "\n",
    "    # 右图：折线 + 脉搏值\n",
    "    fig.add_trace(\n",
    "        go.Scatter(\n",
    "            x=sub['rolling_week'], y=sub['stocking_change'],\n",
    "            mode='lines+markers', line=dict(color=\"#6f918b\"),\n",
    "            marker=dict(size=4), showlegend=False\n",
    "        ),\n",
    "        row=i, col=2\n",
    "    )\n",
    "\n",
    "    fig.add_trace(\n",
    "        go.Scatter(\n",
    "            x=sub['rolling_week'], y=sub['stocking_change_volatility'],\n",
    "            mode='lines+text',\n",
    "            text=[f\"{v:.2f}\" for v in sub['stocking_change_volatility']],\n",
    "            textposition=\"top center\", textfont=dict(size=9),\n",
    "            line=dict(color=\"#888\"), showlegend=False\n",
    "        ),\n",
    "        row=i, col=2\n",
    "    )\n",
    "\n",
    "fig.update_layout(\n",
    "    height=2200, width=1200,\n",
    "    title=\"Top 10 Accounts: Shared X-axis View with Heatmap and Volatility\",\n",
    "    font=dict(family=\"Courier New\", size=10)\n",
    ")\n",
    "\n",
    "fig.show()\n"
   ]
  },
  {
   "cell_type": "code",
   "execution_count": 18,
   "id": "23639210",
   "metadata": {},
   "outputs": [
    {
     "data": {
      "application/vnd.plotly.v1+json": {
       "config": {
        "plotlyServerURL": "https://plot.ly"
       },
       "data": [
        {
         "colorscale": [
          [
           0,
           "#d28b88"
          ],
          [
           0.5,
           "#e8e8e8"
          ],
          [
           1,
           "#6f918b"
          ]
         ],
         "showscale": false,
         "type": "heatmap",
         "x": {
          "bdata": "AQIDBAUGBwgJCgsMDQ4PEBESExQVFhcYGRobHB0eHyAhIiMkJSYnKCkqKywtLi8wMTIzNA==",
          "dtype": "i1"
         },
         "xaxis": "x",
         "y": [
          "acct6"
         ],
         "yaxis": "y",
         "z": [
          [
           -0.15,
           -0.36,
           0.35,
           -0.22,
           -0.7,
           0.99,
           0.81,
           0.47,
           0.03,
           -0.56,
           -1.1,
           1.26,
           -0.29,
           0,
           -0.58,
           0.02,
           -0.1,
           0.38,
           -0.89,
           -1.21,
           -0.74,
           0.87,
           1.21,
           -0.1,
           0.5,
           0.27,
           -0.66,
           1.03,
           -0.5,
           -0.12,
           0.09,
           -0.76,
           -0.58,
           1.21,
           -1.03,
           0.05,
           -0.7,
           -0.39,
           -0.61,
           0.07,
           0.86,
           -0.58,
           -0.12,
           0.09,
           0.16,
           1.06,
           0.53,
           -1.02,
           -0.47,
           0.06,
           0.01,
           -1.01
          ]
         ],
         "zmax": 2,
         "zmin": -2
        },
        {
         "line": {
          "color": "#6f918b"
         },
         "marker": {
          "size": 4
         },
         "mode": "lines+markers",
         "showlegend": false,
         "type": "scatter",
         "x": {
          "bdata": "AQIDBAUGBwgJCgsMDQ4PEBESExQVFhcYGRobHB0eHyAhIiMkJSYnKCkqKywtLi8wMTIzNA==",
          "dtype": "i1"
         },
         "xaxis": "x2",
         "y": {
          "bdata": "MzMzMzMzw78K16NwPQrXv2ZmZmZmZtY/KVyPwvUozL9mZmZmZmbmv65H4XoUru8/7FG4HoXr6T8UrkfhehTeP7gehetRuJ4/7FG4HoXr4b+amZmZmZnxvylcj8L1KPQ/j8L1KFyP0r8AAAAAAAAAgI/C9Shcj+K/exSuR+F6lD+amZmZmZm5v1K4HoXrUdg/exSuR+F67L9cj8L1KFzzv65H4XoUrue/16NwPQrX6z9cj8L1KFzzP5qZmZmZmbm/AAAAAAAA4D9I4XoUrkfRPx+F61G4HuW/exSuR+F68D8AAAAAAADgv7gehetRuL6/CtejcD0Ktz9SuB6F61Hov4/C9Shcj+K/XI/C9Shc8z97FK5H4Xrwv5qZmZmZmak/ZmZmZmZm5r/2KFyPwvXYv4XrUbgeheO/7FG4HoXrsT+F61G4HoXrP4/C9Shcj+K/uB6F61G4vr8K16NwPQq3P3sUrkfhesQ/9ihcj8L18D/2KFyPwvXgP1K4HoXrUfC/FK5H4XoU3r+4HoXrUbiuP3sUrkfheoQ/KVyPwvUo8L8=",
          "dtype": "f8"
         },
         "yaxis": "y2"
        },
        {
         "line": {
          "color": "#888"
         },
         "mode": "lines+text",
         "showlegend": false,
         "text": [
          "0.56",
          "0.29",
          "0.41",
          "0.23",
          "0.30",
          "0.48",
          "0.24",
          "0.48",
          "0.37",
          "0.24",
          "0.36",
          "0.40",
          "0.36",
          "0.14",
          "0.23",
          "0.28",
          "0.29",
          "0.36",
          "0.32",
          "0.17",
          "0.34",
          "0.36",
          "0.36",
          "0.41",
          "0.38",
          "0.35",
          "0.29",
          "0.13",
          "0.34",
          "0.32",
          "0.33",
          "0.17",
          "0.19",
          "0.41",
          "0.30",
          "0.37",
          "0.30",
          "0.30",
          "0.39",
          "0.25",
          "0.31",
          "0.25",
          "0.26",
          "0.27",
          "0.32",
          "0.25",
          "0.43",
          "0.21",
          "0.28",
          "0.26",
          "0.44",
          "0.32"
         ],
         "textfont": {
          "size": 9
         },
         "textposition": "top center",
         "type": "scatter",
         "x": {
          "bdata": "AQIDBAUGBwgJCgsMDQ4PEBESExQVFhcYGRobHB0eHyAhIiMkJSYnKCkqKywtLi8wMTIzNA==",
          "dtype": "i1"
         },
         "xaxis": "x3",
         "y": {
          "bdata": "7FG4HoXr4T+PwvUoXI/SPz0K16NwPdo/cT0K16NwzT8zMzMzMzPTP7gehetRuN4/uB6F61G4zj+4HoXrUbjeP65H4XoUrtc/uB6F61G4zj8K16NwPQrXP5qZmZmZmdk/CtejcD0K1z/sUbgehevBP3E9CtejcM0/7FG4HoXr0T+PwvUoXI/SPwrXo3A9Ctc/exSuR+F61D/D9Shcj8LFP8P1KFyPwtU/CtejcD0K1z8K16NwPQrXPz0K16NwPdo/UrgehetR2D9mZmZmZmbWP4/C9Shcj9I/pHA9CtejwD/D9Shcj8LVP3sUrkfhetQ/H4XrUbge1T/D9Shcj8LFP1K4HoXrUcg/PQrXo3A92j8zMzMzMzPTP65H4XoUrtc/MzMzMzMz0z8zMzMzMzPTP/YoXI/C9dg/AAAAAAAA0D/Xo3A9CtfTPwAAAAAAANA/pHA9Ctej0D9I4XoUrkfRP3sUrkfhetQ/AAAAAAAA0D+F61G4HoXbP+F6FK5H4co/7FG4HoXr0T+kcD0K16PQPylcj8L1KNw/exSuR+F61D8=",
          "dtype": "f8"
         },
         "yaxis": "y3"
        },
        {
         "colorscale": [
          [
           0,
           "#d28b88"
          ],
          [
           0.5,
           "#e8e8e8"
          ],
          [
           1,
           "#6f918b"
          ]
         ],
         "showscale": false,
         "type": "heatmap",
         "x": {
          "bdata": "AQIDBAUGBwgJCgsMDQ4PEBESExQVFhcYGRobHB0eHyAhIiMkJSYnKCkqKywtLi8wMTIzNA==",
          "dtype": "i1"
         },
         "xaxis": "x4",
         "y": [
          "acct2"
         ],
         "yaxis": "y4",
         "z": [
          [
           -1.42,
           0.85,
           0.6,
           0.52,
           -0.56,
           -0.34,
           0.6,
           1.05,
           0.41,
           0.46,
           0.14,
           -1.03,
           -0.15,
           0.92,
           -0.17,
           -0.71,
           -0.16,
           0.64,
           -1.45,
           -0.82,
           0.48,
           0.17,
           0.44,
           -0.32,
           0.15,
           -0.54,
           -1.32,
           0.19,
           0.22,
           0.32,
           0.8,
           -0.29,
           -0.94,
           -0.23,
           -0.04,
           -0.94,
           1.29,
           -0.21,
           0.49,
           0.4,
           0.65,
           -0.17,
           0.17,
           -0.13,
           -0.58,
           0.64,
           0.04,
           -1.32,
           0.93,
           -1.23,
           0.84,
           1.08
          ]
         ],
         "zmax": 2,
         "zmin": -2
        },
        {
         "line": {
          "color": "#6f918b"
         },
         "marker": {
          "size": 4
         },
         "mode": "lines+markers",
         "showlegend": false,
         "type": "scatter",
         "x": {
          "bdata": "AQIDBAUGBwgJCgsMDQ4PEBESExQVFhcYGRobHB0eHyAhIiMkJSYnKCkqKywtLi8wMTIzNA==",
          "dtype": "i1"
         },
         "xaxis": "x5",
         "y": {
          "bdata": "uB6F61G49r8zMzMzMzPrPzMzMzMzM+M/pHA9Ctej4D/sUbgehevhv8P1KFyPwtW/MzMzMzMz4z/NzMzMzMzwPz0K16NwPdo/cT0K16Nw3T/sUbgehevBP3sUrkfhevC/MzMzMzMzw79xPQrXo3DtP8P1KFyPwsW/uB6F61G45r97FK5H4XrEv3sUrkfheuQ/MzMzMzMz9789CtejcD3qv7gehetRuN4/w/UoXI/CxT8pXI/C9SjcP3sUrkfhetS/MzMzMzMzwz9I4XoUrkfhvx+F61G4HvW/UrgehetRyD8pXI/C9SjMP3sUrkfhetQ/mpmZmZmZ6T+PwvUoXI/SvxSuR+F6FO6/cT0K16Nwzb97FK5H4XqkvxSuR+F6FO6/pHA9Ctej9D/hehSuR+HKv1yPwvUoXN8/mpmZmZmZ2T/NzMzMzMzkP8P1KFyPwsW/w/UoXI/CxT+kcD0K16PAv4/C9Shcj+K/exSuR+F65D97FK5H4XqkPx+F61G4HvW/w/UoXI/C7T+uR+F6FK7zv+F6FK5H4eo/SOF6FK5H8T8=",
          "dtype": "f8"
         },
         "yaxis": "y5"
        },
        {
         "line": {
          "color": "#888"
         },
         "mode": "lines+text",
         "showlegend": false,
         "text": [
          "0.28",
          "0.37",
          "0.35",
          "0.29",
          "0.22",
          "0.15",
          "0.26",
          "0.39",
          "0.32",
          "0.18",
          "0.32",
          "0.34",
          "0.21",
          "0.32",
          "0.31",
          "0.19",
          "0.34",
          "0.36",
          "0.41",
          "0.41",
          "0.16",
          "0.21",
          "0.35",
          "0.35",
          "0.35",
          "0.69",
          "0.36",
          "0.41",
          "0.40",
          "0.37",
          "0.27",
          "0.38",
          "0.22",
          "0.28",
          "0.25",
          "0.31",
          "0.53",
          "0.11",
          "0.37",
          "0.14",
          "0.25",
          "0.41",
          "0.31",
          "0.19",
          "0.23",
          "0.37",
          "0.23",
          "0.32",
          "0.30",
          "0.23",
          "0.51",
          "0.36"
         ],
         "textfont": {
          "size": 9
         },
         "textposition": "top center",
         "type": "scatter",
         "x": {
          "bdata": "AQIDBAUGBwgJCgsMDQ4PEBESExQVFhcYGRobHB0eHyAhIiMkJSYnKCkqKywtLi8wMTIzNA==",
          "dtype": "i1"
         },
         "xaxis": "x6",
         "y": {
          "bdata": "7FG4HoXr0T+uR+F6FK7XP2ZmZmZmZtY/j8L1KFyP0j8pXI/C9SjMPzMzMzMzM8M/pHA9Ctej0D/2KFyPwvXYP3sUrkfhetQ/CtejcD0Kxz97FK5H4XrUP8P1KFyPwtU/4XoUrkfhyj97FK5H4XrUP9ejcD0K19M/UrgehetRyD/D9Shcj8LVPwrXo3A9Ctc/PQrXo3A92j89CtejcD3aP3sUrkfhesQ/4XoUrkfhyj9mZmZmZmbWP2ZmZmZmZtY/ZmZmZmZm1j8UrkfhehTmPwrXo3A9Ctc/PQrXo3A92j+amZmZmZnZP65H4XoUrtc/SOF6FK5H0T9SuB6F61HYPylcj8L1KMw/7FG4HoXr0T8AAAAAAADQP9ejcD0K19M/9ihcj8L14D8pXI/C9Si8P65H4XoUrtc/7FG4HoXrwT8AAAAAAADQPz0K16NwPdo/16NwPQrX0z9SuB6F61HIP3E9CtejcM0/rkfhehSu1z9xPQrXo3DNP3sUrkfhetQ/MzMzMzMz0z9xPQrXo3DNP1K4HoXrUeA/CtejcD0K1z8=",
          "dtype": "f8"
         },
         "yaxis": "y6"
        },
        {
         "colorscale": [
          [
           0,
           "#d28b88"
          ],
          [
           0.5,
           "#e8e8e8"
          ],
          [
           1,
           "#6f918b"
          ]
         ],
         "showscale": false,
         "type": "heatmap",
         "x": {
          "bdata": "AQIDBAUGBwgJCgsMDQ4PEBESExQVFhcYGRobHB0eHyAhIiMkJSYnKCkqKywtLi8wMTIzNA==",
          "dtype": "i1"
         },
         "xaxis": "x7",
         "y": [
          "acct3"
         ],
         "yaxis": "y7",
         "z": [
          [
           1.58,
           0.57,
           -0.86,
           -1.04,
           -1.44,
           -1.12,
           -1.04,
           0.41,
           -0.76,
           0.2,
           0.97,
           -1.13,
           0.36,
           -0.29,
           -1.16,
           0.94,
           0.61,
           0.61,
           -0.04,
           1.01,
           -0.47,
           -0.27,
           0.02,
           0.43,
           0.98,
           -0.16,
           -0.39,
           0.74,
           -0.64,
           0.82,
           0.75,
           0.01,
           0.72,
           0.17,
           -1.25,
           1.19,
           0.11,
           0.43,
           0.11,
           0.83,
           0.13,
           -0.96,
           1.43,
           -0.29,
           -0.44,
           1.19,
           1.09,
           0.56,
           -0.03,
           0.1,
           -0.1,
           -0.87
          ]
         ],
         "zmax": 2,
         "zmin": -2
        },
        {
         "line": {
          "color": "#6f918b"
         },
         "marker": {
          "size": 4
         },
         "mode": "lines+markers",
         "showlegend": false,
         "type": "scatter",
         "x": {
          "bdata": "AQIDBAUGBwgJCgsMDQ4PEBESExQVFhcYGRobHB0eHyAhIiMkJSYnKCkqKywtLi8wMTIzNA==",
          "dtype": "i1"
         },
         "xaxis": "x8",
         "y": {
          "bdata": "SOF6FK5H+T89CtejcD3iP4XrUbgeheu/pHA9Ctej8L8K16NwPQr3v+xRuB6F6/G/pHA9Ctej8L89CtejcD3aP1K4HoXrUei/mpmZmZmZyT8K16NwPQrvPxSuR+F6FPK/CtejcD0K1z+PwvUoXI/Sv4/C9Shcj/K/FK5H4XoU7j+F61G4HoXjP4XrUbgeheM/exSuR+F6pL8pXI/C9SjwPxSuR+F6FN6/SOF6FK5H0b97FK5H4XqUP4XrUbgehds/XI/C9Shc7z97FK5H4XrEv/YoXI/C9di/rkfhehSu5z97FK5H4Xrkvz0K16NwPeo/AAAAAAAA6D97FK5H4XqEPwrXo3A9Cuc/w/UoXI/CxT8AAAAAAAD0vwrXo3A9CvM/KVyPwvUovD+F61G4HoXbPylcj8L1KLw/j8L1KFyP6j+kcD0K16PAP7gehetRuO6/4XoUrkfh9j+PwvUoXI/Svylcj8L1KNy/CtejcD0K8z9xPQrXo3DxP+xRuB6F6+E/uB6F61G4nr+amZmZmZm5P5qZmZmZmbm/16NwPQrX678=",
          "dtype": "f8"
         },
         "yaxis": "y8"
        },
        {
         "line": {
          "color": "#888"
         },
         "mode": "lines+text",
         "showlegend": false,
         "text": [
          "0.42",
          "0.38",
          "0.36",
          "0.36",
          "0.30",
          "0.21",
          "0.31",
          "0.23",
          "0.40",
          "0.29",
          "0.22",
          "0.27",
          "0.34",
          "0.24",
          "0.22",
          "0.32",
          "0.32",
          "0.25",
          "0.25",
          "0.32",
          "0.16",
          "0.16",
          "0.23",
          "0.28",
          "0.33",
          "0.45",
          "0.39",
          "0.28",
          "0.30",
          "0.20",
          "0.30",
          "0.27",
          "0.33",
          "0.22",
          "0.35",
          "0.45",
          "0.29",
          "0.34",
          "0.37",
          "0.26",
          "0.32",
          "0.30",
          "0.31",
          "0.22",
          "0.30",
          "0.35",
          "0.45",
          "0.40",
          "0.52",
          "0.22",
          "0.39",
          "0.32"
         ],
         "textfont": {
          "size": 9
         },
         "textposition": "top center",
         "type": "scatter",
         "x": {
          "bdata": "AQIDBAUGBwgJCgsMDQ4PEBESExQVFhcYGRobHB0eHyAhIiMkJSYnKCkqKywtLi8wMTIzNA==",
          "dtype": "i1"
         },
         "xaxis": "x9",
         "y": {
          "bdata": "4XoUrkfh2j9SuB6F61HYPwrXo3A9Ctc/CtejcD0K1z8zMzMzMzPTP+F6FK5H4co/16NwPQrX0z9xPQrXo3DNP5qZmZmZmdk/j8L1KFyP0j8pXI/C9SjMP0jhehSuR9E/w/UoXI/C1T+4HoXrUbjOPylcj8L1KMw/exSuR+F61D97FK5H4XrUPwAAAAAAANA/AAAAAAAA0D97FK5H4XrUP3sUrkfhesQ/exSuR+F6xD9xPQrXo3DNP+xRuB6F69E/H4XrUbge1T/NzMzMzMzcP/YoXI/C9dg/7FG4HoXr0T8zMzMzMzPTP5qZmZmZmck/MzMzMzMz0z9I4XoUrkfRPx+F61G4HtU/KVyPwvUozD9mZmZmZmbWP83MzMzMzNw/j8L1KFyP0j/D9Shcj8LVP65H4XoUrtc/pHA9Ctej0D97FK5H4XrUPzMzMzMzM9M/16NwPQrX0z8pXI/C9SjMPzMzMzMzM9M/ZmZmZmZm1j/NzMzMzMzcP5qZmZmZmdk/pHA9Ctej4D8pXI/C9SjMP/YoXI/C9dg/exSuR+F61D8=",
          "dtype": "f8"
         },
         "yaxis": "y9"
        },
        {
         "colorscale": [
          [
           0,
           "#d28b88"
          ],
          [
           0.5,
           "#e8e8e8"
          ],
          [
           1,
           "#6f918b"
          ]
         ],
         "showscale": false,
         "type": "heatmap",
         "x": {
          "bdata": "AQIDBAUGBwgJCgsMDQ4PEBESExQVFhcYGRobHB0eHyAhIiMkJSYnKCkqKywtLi8wMTIzNA==",
          "dtype": "i1"
         },
         "xaxis": "x10",
         "y": [
          "acct9"
         ],
         "yaxis": "y10",
         "z": [
          [
           -0.51,
           -0.48,
           -0.48,
           -1.32,
           0.31,
           0.59,
           -0.36,
           0.04,
           0.13,
           0.36,
           0.54,
           0.08,
           -1.16,
           -0.33,
           -0.07,
           -0.18,
           0.32,
           -0.21,
           0.27,
           0.11,
           0.59,
           0.17,
           0.69,
           -0.59,
           -0.28,
           -0.8,
           -0.03,
           0.7,
           -0.15,
           0.9,
           -0.18,
           0.99,
           -0.24,
           -0.89,
           0.01,
           -0.53,
           -0.22,
           -0.1,
           0.37,
           -0.32,
           -0.93,
           0.37,
           0.1,
           -1.1,
           -0.06,
           -0.01,
           -0.64,
           0.61,
           -0.61,
           0.02,
           0.69,
           -0.87
          ]
         ],
         "zmax": 2,
         "zmin": -2
        },
        {
         "line": {
          "color": "#6f918b"
         },
         "marker": {
          "size": 4
         },
         "mode": "lines+markers",
         "showlegend": false,
         "type": "scatter",
         "x": {
          "bdata": "AQIDBAUGBwgJCgsMDQ4PEBESExQVFhcYGRobHB0eHyAhIiMkJSYnKCkqKywtLi8wMTIzNA==",
          "dtype": "i1"
         },
         "xaxis": "x11",
         "y": {
          "bdata": "UrgehetR4L+4HoXrUbjev7gehetRuN6/H4XrUbge9b/Xo3A9CtfTP+F6FK5H4eI/CtejcD0K1797FK5H4XqkP6RwPQrXo8A/CtejcD0K1z9I4XoUrkfhP3sUrkfherQ/j8L1KFyP8r8fhetRuB7Vv+xRuB6F67G/CtejcD0Kx797FK5H4XrUP+F6FK5H4cq/SOF6FK5H0T8pXI/C9Si8P+F6FK5H4eI/w/UoXI/CxT8UrkfhehTmP+F6FK5H4eK/7FG4HoXr0b+amZmZmZnpv7gehetRuJ6/ZmZmZmZm5j8zMzMzMzPDv83MzMzMzOw/CtejcD0Kx7+uR+F6FK7vP7gehetRuM6/exSuR+F67L97FK5H4XqEP/YoXI/C9eC/KVyPwvUozL+amZmZmZm5v65H4XoUrtc/exSuR+F61L/D9Shcj8Ltv65H4XoUrtc/mpmZmZmZuT+amZmZmZnxv7gehetRuK6/exSuR+F6hL97FK5H4Xrkv4XrUbgeheM/hetRuB6F4797FK5H4XqUPxSuR+F6FOY/16NwPQrX678=",
          "dtype": "f8"
         },
         "yaxis": "y11"
        },
        {
         "line": {
          "color": "#888"
         },
         "mode": "lines+text",
         "showlegend": false,
         "text": [
          "0.14",
          "0.34",
          "0.30",
          "0.36",
          "0.32",
          "0.44",
          "0.31",
          "0.26",
          "0.31",
          "0.35",
          "0.30",
          "0.30",
          "0.23",
          "0.23",
          "0.16",
          "0.47",
          "0.18",
          "0.23",
          "0.23",
          "0.39",
          "0.27",
          "0.42",
          "0.23",
          "0.33",
          "0.22",
          "0.51",
          "0.18",
          "0.33",
          "0.36",
          "0.34",
          "0.28",
          "0.29",
          "0.30",
          "0.29",
          "0.40",
          "0.52",
          "0.24",
          "0.16",
          "0.29",
          "0.56",
          "0.22",
          "0.46",
          "0.47",
          "0.24",
          "0.36",
          "0.46",
          "0.26",
          "0.28",
          "0.24",
          "0.20",
          "0.24",
          "0.18"
         ],
         "textfont": {
          "size": 9
         },
         "textposition": "top center",
         "type": "scatter",
         "x": {
          "bdata": "AQIDBAUGBwgJCgsMDQ4PEBESExQVFhcYGRobHB0eHyAhIiMkJSYnKCkqKywtLi8wMTIzNA==",
          "dtype": "i1"
         },
         "xaxis": "x12",
         "y": {
          "bdata": "7FG4HoXrwT/D9Shcj8LVPzMzMzMzM9M/CtejcD0K1z97FK5H4XrUPylcj8L1KNw/16NwPQrX0z+kcD0K16PQP9ejcD0K19M/ZmZmZmZm1j8zMzMzMzPTPzMzMzMzM9M/cT0K16NwzT9xPQrXo3DNP3sUrkfhesQ/FK5H4XoU3j8K16NwPQrHP3E9CtejcM0/cT0K16NwzT/2KFyPwvXYP0jhehSuR9E/4XoUrkfh2j9xPQrXo3DNPx+F61G4HtU/KVyPwvUozD9SuB6F61HgPwrXo3A9Csc/H4XrUbge1T8K16NwPQrXP8P1KFyPwtU/7FG4HoXr0T+PwvUoXI/SPzMzMzMzM9M/j8L1KFyP0j+amZmZmZnZP6RwPQrXo+A/uB6F61G4zj97FK5H4XrEP4/C9Shcj9I/7FG4HoXr4T8pXI/C9SjMP3E9CtejcN0/FK5H4XoU3j+4HoXrUbjOPwrXo3A9Ctc/cT0K16Nw3T+kcD0K16PQP+xRuB6F69E/uB6F61G4zj+amZmZmZnJP7gehetRuM4/CtejcD0Kxz8=",
          "dtype": "f8"
         },
         "yaxis": "y12"
        },
        {
         "colorscale": [
          [
           0,
           "#d28b88"
          ],
          [
           0.5,
           "#e8e8e8"
          ],
          [
           1,
           "#6f918b"
          ]
         ],
         "showscale": false,
         "type": "heatmap",
         "x": {
          "bdata": "AQIDBAUGBwgJCgsMDQ4PEBESExQVFhcYGRobHB0eHyAhIiMkJSYnKCkqKywtLi8wMTIzNA==",
          "dtype": "i1"
         },
         "xaxis": "x13",
         "y": [
          "acct7"
         ],
         "yaxis": "y13",
         "z": [
          [
           0.95,
           1.05,
           0.92,
           1.02,
           0.37,
           0.31,
           -0.85,
           0.25,
           -0.46,
           0.06,
           0.43,
           -0.44,
           -0.8,
           -0.76,
           0.62,
           -1.04,
           0.57,
           -0.58,
           -0.17,
           -0.54,
           0.17,
           -0.08,
           0.59,
           0.26,
           -0.76,
           0.74,
           0.59,
           -0.03,
           1.15,
           1,
           0.35,
           0.68,
           0.46,
           -0.25,
           0.16,
           0.3,
           -0.98,
           0.68,
           1.28,
           -0.75,
           0.48,
           -0.57,
           0.09,
           0.76,
           -0.66,
           0.44,
           0.87,
           0.13,
           -0.72,
           -0.24,
           0.55,
           0.8
          ]
         ],
         "zmax": 2,
         "zmin": -2
        },
        {
         "line": {
          "color": "#6f918b"
         },
         "marker": {
          "size": 4
         },
         "mode": "lines+markers",
         "showlegend": false,
         "type": "scatter",
         "x": {
          "bdata": "AQIDBAUGBwgJCgsMDQ4PEBESExQVFhcYGRobHB0eHyAhIiMkJSYnKCkqKywtLi8wMTIzNA==",
          "dtype": "i1"
         },
         "xaxis": "x14",
         "y": {
          "bdata": "ZmZmZmZm7j/NzMzMzMzwP3E9CtejcO0/UrgehetR8D+uR+F6FK7XP9ejcD0K19M/MzMzMzMz678AAAAAAADQP3E9CtejcN2/uB6F61G4rj+F61G4HoXbPylcj8L1KNy/mpmZmZmZ6b9SuB6F61Hov9ejcD0K1+M/pHA9Ctej8L89CtejcD3iP4/C9Shcj+K/w/UoXI/Cxb9I4XoUrkfhv8P1KFyPwsU/exSuR+F6tL/hehSuR+HiP6RwPQrXo9A/UrgehetR6L+uR+F6FK7nP+F6FK5H4eI/uB6F61G4nr9mZmZmZmbyPwAAAAAAAPA/ZmZmZmZm1j/D9Shcj8LlP3E9CtejcN0/AAAAAAAA0L97FK5H4XrEPzMzMzMzM9M/XI/C9Shc77/D9Shcj8LlP3sUrkfhevQ/AAAAAAAA6L+4HoXrUbjePz0K16NwPeK/CtejcD0Ktz9SuB6F61HoPx+F61G4HuW/KVyPwvUo3D/Xo3A9CtfrP6RwPQrXo8A/CtejcD0K57+4HoXrUbjOv5qZmZmZmeE/mpmZmZmZ6T8=",
          "dtype": "f8"
         },
         "yaxis": "y14"
        },
        {
         "line": {
          "color": "#888"
         },
         "mode": "lines+text",
         "showlegend": false,
         "text": [
          "0.16",
          "0.37",
          "0.36",
          "0.52",
          "0.27",
          "0.32",
          "0.32",
          "0.46",
          "0.29",
          "0.33",
          "0.36",
          "0.32",
          "0.26",
          "0.32",
          "0.41",
          "0.20",
          "0.31",
          "0.23",
          "0.42",
          "0.15",
          "0.24",
          "0.34",
          "0.46",
          "0.29",
          "0.24",
          "0.49",
          "0.16",
          "0.08",
          "0.34",
          "0.25",
          "0.20",
          "0.37",
          "0.32",
          "0.24",
          "0.17",
          "0.39",
          "0.37",
          "0.29",
          "0.48",
          "0.19",
          "0.15",
          "0.23",
          "0.30",
          "0.32",
          "0.28",
          "0.34",
          "0.17",
          "0.44",
          "0.29",
          "0.41",
          "0.33",
          "0.35"
         ],
         "textfont": {
          "size": 9
         },
         "textposition": "top center",
         "type": "scatter",
         "x": {
          "bdata": "AQIDBAUGBwgJCgsMDQ4PEBESExQVFhcYGRobHB0eHyAhIiMkJSYnKCkqKywtLi8wMTIzNA==",
          "dtype": "i1"
         },
         "xaxis": "x15",
         "y": {
          "bdata": "exSuR+F6xD+uR+F6FK7XPwrXo3A9Ctc/pHA9Ctej4D9I4XoUrkfRP3sUrkfhetQ/exSuR+F61D9xPQrXo3DdP4/C9Shcj9I/H4XrUbge1T8K16NwPQrXP3sUrkfhetQ/pHA9Ctej0D97FK5H4XrUPz0K16NwPdo/mpmZmZmZyT/Xo3A9CtfTP3E9CtejcM0/4XoUrkfh2j8zMzMzMzPDP7gehetRuM4/w/UoXI/C1T9xPQrXo3DdP4/C9Shcj9I/uB6F61G4zj9cj8L1KFzfP3sUrkfhesQ/exSuR+F6tD/D9Shcj8LVPwAAAAAAANA/mpmZmZmZyT+uR+F6FK7XP3sUrkfhetQ/uB6F61G4zj/D9Shcj8LFP/YoXI/C9dg/rkfhehSu1z+PwvUoXI/SP7gehetRuN4/UrgehetRyD8zMzMzMzPDP3E9CtejcM0/MzMzMzMz0z97FK5H4XrUP+xRuB6F69E/w/UoXI/C1T/D9Shcj8LFPylcj8L1KNw/j8L1KFyP0j89CtejcD3aPx+F61G4HtU/ZmZmZmZm1j8=",
          "dtype": "f8"
         },
         "yaxis": "y15"
        },
        {
         "colorscale": [
          [
           0,
           "#d28b88"
          ],
          [
           0.5,
           "#e8e8e8"
          ],
          [
           1,
           "#6f918b"
          ]
         ],
         "showscale": false,
         "type": "heatmap",
         "x": {
          "bdata": "AQIDBAUGBwgJCgsMDQ4PEBESExQVFhcYGRobHB0eHyAhIiMkJSYnKCkqKywtLi8wMTIzNA==",
          "dtype": "i1"
         },
         "xaxis": "x16",
         "y": [
          "acct8"
         ],
         "yaxis": "y16",
         "z": [
          [
           -0.54,
           -0.08,
           0.72,
           0.59,
           0.24,
           -0.02,
           0.24,
           0.15,
           -1.02,
           -0.31,
           -0.56,
           -0.62,
           1,
           -0.41,
           1,
           -0.22,
           0.09,
           0.56,
           0.38,
           0.31,
           0.44,
           0.79,
           -0.35,
           0.65,
           1.44,
           -0.04,
           -0.51,
           0.13,
           -0.87,
           -0.84,
           -0.39,
           0.05,
           1.22,
           0.59,
           0.41,
           0.14,
           0.05,
           -0.63,
           1.15,
           -0.71,
           0.64,
           0.57,
           -0.17,
           0.49,
           -0.08,
           0.75,
           0.47,
           -0.59,
           0.03,
           -0.07,
           0.53,
           -1.22
          ]
         ],
         "zmax": 2,
         "zmin": -2
        },
        {
         "line": {
          "color": "#6f918b"
         },
         "marker": {
          "size": 4
         },
         "mode": "lines+markers",
         "showlegend": false,
         "type": "scatter",
         "x": {
          "bdata": "AQIDBAUGBwgJCgsMDQ4PEBESExQVFhcYGRobHB0eHyAhIiMkJSYnKCkqKywtLi8wMTIzNA==",
          "dtype": "i1"
         },
         "xaxis": "x17",
         "y": {
          "bdata": "SOF6FK5H4b97FK5H4Xq0vwrXo3A9Cuc/4XoUrkfh4j+4HoXrUbjOP3sUrkfhepS/uB6F61G4zj8zMzMzMzPDP1K4HoXrUfC/16NwPQrX07/sUbgehevhv9ejcD0K1+O/AAAAAAAA8D89CtejcD3avwAAAAAAAPA/KVyPwvUozL8K16NwPQq3P+xRuB6F6+E/UrgehetR2D/Xo3A9CtfTPylcj8L1KNw/SOF6FK5H6T9mZmZmZmbWv83MzMzMzOQ/CtejcD0K9z97FK5H4Xqkv1K4HoXrUeC/pHA9CtejwD/Xo3A9Ctfrv+F6FK5H4eq/9ihcj8L12L+amZmZmZmpP4XrUbgehfM/4XoUrkfh4j89CtejcD3aP+xRuB6F68E/mpmZmZmZqT8pXI/C9Sjkv2ZmZmZmZvI/uB6F61G45r97FK5H4XrkPz0K16NwPeI/w/UoXI/Cxb9cj8L1KFzfP3sUrkfherS/AAAAAAAA6D8UrkfhehTeP+F6FK5H4eK/uB6F61G4nj/sUbgeheuxv/YoXI/C9eA/hetRuB6F878=",
          "dtype": "f8"
         },
         "yaxis": "y17"
        },
        {
         "line": {
          "color": "#888"
         },
         "mode": "lines+text",
         "showlegend": false,
         "text": [
          "0.45",
          "0.44",
          "0.24",
          "0.34",
          "0.35",
          "0.33",
          "0.24",
          "0.23",
          "0.30",
          "0.42",
          "0.35",
          "0.26",
          "0.38",
          "0.02",
          "0.41",
          "0.13",
          "0.26",
          "0.19",
          "0.17",
          "0.42",
          "0.25",
          "0.33",
          "0.30",
          "0.35",
          "0.31",
          "0.17",
          "0.40",
          "0.25",
          "0.14",
          "0.26",
          "0.45",
          "0.39",
          "0.27",
          "0.27",
          "0.27",
          "0.51",
          "0.34",
          "0.34",
          "0.40",
          "0.32",
          "0.27",
          "0.28",
          "0.29",
          "0.30",
          "0.37",
          "0.31",
          "0.37",
          "0.29",
          "0.31",
          "0.10",
          "0.39",
          "0.33"
         ],
         "textfont": {
          "size": 9
         },
         "textposition": "top center",
         "type": "scatter",
         "x": {
          "bdata": "AQIDBAUGBwgJCgsMDQ4PEBESExQVFhcYGRobHB0eHyAhIiMkJSYnKCkqKywtLi8wMTIzNA==",
          "dtype": "i1"
         },
         "xaxis": "x18",
         "y": {
          "bdata": "zczMzMzM3D8pXI/C9SjcP7gehetRuM4/w/UoXI/C1T9mZmZmZmbWPx+F61G4HtU/uB6F61G4zj9xPQrXo3DNPzMzMzMzM9M/4XoUrkfh2j9mZmZmZmbWP6RwPQrXo9A/UrgehetR2D97FK5H4XqUPz0K16NwPdo/pHA9CtejwD+kcD0K16PQP1K4HoXrUcg/w/UoXI/CxT/hehSuR+HaPwAAAAAAANA/H4XrUbge1T8zMzMzMzPTP2ZmZmZmZtY/16NwPQrX0z/D9Shcj8LFP5qZmZmZmdk/AAAAAAAA0D/sUbgehevBP6RwPQrXo9A/zczMzMzM3D/2KFyPwvXYP0jhehSuR9E/SOF6FK5H0T9I4XoUrkfRP1K4HoXrUeA/w/UoXI/C1T/D9Shcj8LVP5qZmZmZmdk/exSuR+F61D9I4XoUrkfRP+xRuB6F69E/j8L1KFyP0j8zMzMzMzPTP65H4XoUrtc/16NwPQrX0z+uR+F6FK7XP4/C9Shcj9I/16NwPQrX0z+amZmZmZm5P/YoXI/C9dg/H4XrUbge1T8=",
          "dtype": "f8"
         },
         "yaxis": "y18"
        },
        {
         "colorscale": [
          [
           0,
           "#d28b88"
          ],
          [
           0.5,
           "#e8e8e8"
          ],
          [
           1,
           "#6f918b"
          ]
         ],
         "showscale": false,
         "type": "heatmap",
         "x": {
          "bdata": "AQIDBAUGBwgJCgsMDQ4PEBESExQVFhcYGRobHB0eHyAhIiMkJSYnKCkqKywtLi8wMTIzNA==",
          "dtype": "i1"
         },
         "xaxis": "x19",
         "y": [
          "acct1"
         ],
         "yaxis": "y19",
         "z": [
          [
           -0.46,
           0.8,
           0.35,
           -0.24,
           -0.6,
           -0.61,
           -0.88,
           0.66,
           -0.22,
           0.29,
           -1.06,
           0.7,
           0.62,
           -0.45,
           -0.07,
           -0.58,
           -0.31,
           0.03,
           -0.71,
           -0.43,
           0.24,
           0.02,
           -0.47,
           -0.18,
           -0.1,
           0.22,
           -0.26,
           0.25,
           0.42,
           -1.18,
           0.64,
           -1.08,
           -0.69,
           1.55,
           0.63,
           0.45,
           -0.36,
           -0.96,
           -0.1,
           -0.1,
           -1.07,
           0.13,
           -1.21,
           1.28,
           -0.72,
           0.23,
           -0.13,
           -0.33,
           0.16,
           -0.24,
           0.46,
           0.61
          ]
         ],
         "zmax": 2,
         "zmin": -2
        },
        {
         "line": {
          "color": "#6f918b"
         },
         "marker": {
          "size": 4
         },
         "mode": "lines+markers",
         "showlegend": false,
         "type": "scatter",
         "x": {
          "bdata": "AQIDBAUGBwgJCgsMDQ4PEBESExQVFhcYGRobHB0eHyAhIiMkJSYnKCkqKywtLi8wMTIzNA==",
          "dtype": "i1"
         },
         "xaxis": "x20",
         "y": {
          "bdata": "cT0K16Nw3b+amZmZmZnpP2ZmZmZmZtY/uB6F61G4zr8zMzMzMzPjv4XrUbgeheO/KVyPwvUo7L8fhetRuB7lPylcj8L1KMy/j8L1KFyP0j/2KFyPwvXwv2ZmZmZmZuY/16NwPQrX4z/NzMzMzMzcv+xRuB6F67G/j8L1KFyP4r/Xo3A9CtfTv7gehetRuJ4/uB6F61G45r+F61G4HoXbv7gehetRuM4/exSuR+F6lD8UrkfhehTevwrXo3A9Cse/mpmZmZmZub8pXI/C9SjMP6RwPQrXo9C/AAAAAAAA0D/hehSuR+HaP+F6FK5H4fK/exSuR+F65D9I4XoUrkfxvxSuR+F6FOa/zczMzMzM+D8pXI/C9SjkP83MzMzMzNw/CtejcD0K17+4HoXrUbjuv5qZmZmZmbm/mpmZmZmZub8fhetRuB7xv6RwPQrXo8A/XI/C9Shc8797FK5H4Xr0PwrXo3A9Cue/cT0K16NwzT+kcD0K16PAvx+F61G4HtW/exSuR+F6xD+4HoXrUbjOv3E9CtejcN0/hetRuB6F4z8=",
          "dtype": "f8"
         },
         "yaxis": "y20"
        },
        {
         "line": {
          "color": "#888"
         },
         "mode": "lines+text",
         "showlegend": false,
         "text": [
          "0.37",
          "0.32",
          "0.29",
          "0.27",
          "0.15",
          "0.23",
          "0.25",
          "0.41",
          "0.33",
          "0.12",
          "0.33",
          "0.26",
          "0.23",
          "0.36",
          "0.40",
          "0.39",
          "0.22",
          "0.27",
          "0.33",
          "0.40",
          "0.25",
          "0.28",
          "0.19",
          "0.18",
          "0.38",
          "0.44",
          "0.29",
          "0.40",
          "0.34",
          "0.24",
          "0.34",
          "0.45",
          "0.30",
          "0.46",
          "0.04",
          "0.38",
          "0.31",
          "0.27",
          "0.31",
          "0.10",
          "0.28",
          "0.34",
          "0.45",
          "0.25",
          "0.22",
          "0.25",
          "0.39",
          "0.33",
          "0.25",
          "0.35",
          "0.31",
          "0.40"
         ],
         "textfont": {
          "size": 9
         },
         "textposition": "top center",
         "type": "scatter",
         "x": {
          "bdata": "AQIDBAUGBwgJCgsMDQ4PEBESExQVFhcYGRobHB0eHyAhIiMkJSYnKCkqKywtLi8wMTIzNA==",
          "dtype": "i1"
         },
         "xaxis": "x21",
         "y": {
          "bdata": "rkfhehSu1z97FK5H4XrUP4/C9Shcj9I/SOF6FK5H0T8zMzMzMzPDP3E9CtejcM0/AAAAAAAA0D89CtejcD3aPx+F61G4HtU/uB6F61G4vj8fhetRuB7VP6RwPQrXo9A/cT0K16NwzT8K16NwPQrXP5qZmZmZmdk/9ihcj8L12D8pXI/C9SjMP0jhehSuR9E/H4XrUbge1T+amZmZmZnZPwAAAAAAANA/7FG4HoXr0T9SuB6F61HIPwrXo3A9Csc/UrgehetR2D8pXI/C9SjcP4/C9Shcj9I/mpmZmZmZ2T/D9Shcj8LVP7gehetRuM4/w/UoXI/C1T/NzMzMzMzcPzMzMzMzM9M/cT0K16Nw3T97FK5H4XqkP1K4HoXrUdg/16NwPQrX0z9I4XoUrkfRP9ejcD0K19M/mpmZmZmZuT/sUbgehevRP8P1KFyPwtU/zczMzMzM3D8AAAAAAADQPylcj8L1KMw/AAAAAAAA0D/2KFyPwvXYPx+F61G4HtU/AAAAAAAA0D9mZmZmZmbWP9ejcD0K19M/mpmZmZmZ2T8=",
          "dtype": "f8"
         },
         "yaxis": "y21"
        },
        {
         "colorscale": [
          [
           0,
           "#d28b88"
          ],
          [
           0.5,
           "#e8e8e8"
          ],
          [
           1,
           "#6f918b"
          ]
         ],
         "showscale": false,
         "type": "heatmap",
         "x": {
          "bdata": "AQIDBAUGBwgJCgsMDQ4PEBESExQVFhcYGRobHB0eHyAhIiMkJSYnKCkqKywtLi8wMTIzNA==",
          "dtype": "i1"
         },
         "xaxis": "x22",
         "y": [
          "acct5"
         ],
         "yaxis": "y22",
         "z": [
          [
           -0.3,
           0.33,
           -0.16,
           0.18,
           -0.34,
           -0.02,
           0.39,
           0.02,
           -1.1,
           1.41,
           0.54,
           0.05,
           -0.5,
           0.25,
           0.08,
           0.21,
           0.42,
           0.79,
           -0.77,
           -0.49,
           -0.29,
           0.62,
           -1.04,
           0.49,
           0.2,
           0.94,
           -0.14,
           0.55,
           -0.68,
           0.32,
           -0.47,
           -0.26,
           0.44,
           -0.39,
           -0.75,
           0.02,
           -0.03,
           0.46,
           0,
           0.61,
           -1.12,
           0.2,
           -0.57,
           0.79,
           0,
           -0.08,
           -0.09,
           1.23,
           -0.66,
           0.22,
           -0.1,
           0.21
          ]
         ],
         "zmax": 2,
         "zmin": -2
        },
        {
         "line": {
          "color": "#6f918b"
         },
         "marker": {
          "size": 4
         },
         "mode": "lines+markers",
         "showlegend": false,
         "type": "scatter",
         "x": {
          "bdata": "AQIDBAUGBwgJCgsMDQ4PEBESExQVFhcYGRobHB0eHyAhIiMkJSYnKCkqKywtLi8wMTIzNA==",
          "dtype": "i1"
         },
         "xaxis": "x23",
         "y": {
          "bdata": "MzMzMzMz078fhetRuB7VP3sUrkfhesS/CtejcD0Kxz/D9Shcj8LVv3sUrkfhepS/9ihcj8L12D97FK5H4XqUP5qZmZmZmfG/j8L1KFyP9j9I4XoUrkfhP5qZmZmZmak/AAAAAAAA4L8AAAAAAADQP3sUrkfherQ/4XoUrkfhyj/hehSuR+HaP0jhehSuR+k/pHA9Ctej6L9cj8L1KFzfv4/C9Shcj9K/16NwPQrX4z+kcD0K16Pwv1yPwvUoXN8/mpmZmZmZyT8UrkfhehTuP+xRuB6F68G/mpmZmZmZ4T/D9Shcj8Llv3sUrkfhetQ/FK5H4XoU3r+kcD0K16PQvylcj8L1KNw/9ihcj8L12L8AAAAAAADov3sUrkfhepQ/uB6F61G4nr9xPQrXo3DdPwAAAAAAAAAAhetRuB6F4z/sUbgehevxv5qZmZmZmck/PQrXo3A94r9I4XoUrkfpPwAAAAAAAAAAexSuR+F6tL8K16NwPQq3v65H4XoUrvM/H4XrUbge5b8pXI/C9SjMP5qZmZmZmbm/4XoUrkfhyj8=",
          "dtype": "f8"
         },
         "yaxis": "y23"
        },
        {
         "line": {
          "color": "#888"
         },
         "mode": "lines+text",
         "showlegend": false,
         "text": [
          "0.31",
          "0.37",
          "0.35",
          "0.32",
          "0.22",
          "0.35",
          "0.49",
          "0.43",
          "0.46",
          "0.25",
          "0.20",
          "0.29",
          "0.31",
          "0.41",
          "0.13",
          "0.45",
          "0.28",
          "0.26",
          "0.20",
          "0.13",
          "0.38",
          "0.31",
          "0.17",
          "0.17",
          "0.27",
          "0.47",
          "0.27",
          "0.15",
          "0.28",
          "0.27",
          "0.03",
          "0.29",
          "0.28",
          "0.37",
          "0.48",
          "0.41",
          "0.27",
          "0.19",
          "0.56",
          "0.31",
          "0.30",
          "0.30",
          "0.32",
          "0.29",
          "0.24",
          "0.25",
          "0.30",
          "0.25",
          "0.23",
          "0.31",
          "0.27",
          "0.45"
         ],
         "textfont": {
          "size": 9
         },
         "textposition": "top center",
         "type": "scatter",
         "x": {
          "bdata": "AQIDBAUGBwgJCgsMDQ4PEBESExQVFhcYGRobHB0eHyAhIiMkJSYnKCkqKywtLi8wMTIzNA==",
          "dtype": "i1"
         },
         "xaxis": "x24",
         "y": {
          "bdata": "16NwPQrX0z+uR+F6FK7XP2ZmZmZmZtY/exSuR+F61D8pXI/C9SjMP2ZmZmZmZtY/XI/C9Shc3z+F61G4HoXbP3E9CtejcN0/AAAAAAAA0D+amZmZmZnJP4/C9Shcj9I/16NwPQrX0z89CtejcD3aP6RwPQrXo8A/zczMzMzM3D/sUbgehevRP6RwPQrXo9A/mpmZmZmZyT+kcD0K16PAP1K4HoXrUdg/16NwPQrX0z/D9Shcj8LFP8P1KFyPwsU/SOF6FK5H0T8UrkfhehTeP0jhehSuR9E/MzMzMzMzwz/sUbgehevRP0jhehSuR9E/uB6F61G4nj+PwvUoXI/SP+xRuB6F69E/rkfhehSu1z+4HoXrUbjePz0K16NwPdo/SOF6FK5H0T9SuB6F61HIP+xRuB6F6+E/16NwPQrX0z8zMzMzMzPTPzMzMzMzM9M/exSuR+F61D+PwvUoXI/SP7gehetRuM4/AAAAAAAA0D8zMzMzMzPTPwAAAAAAANA/cT0K16NwzT/Xo3A9CtfTP0jhehSuR9E/zczMzMzM3D8=",
          "dtype": "f8"
         },
         "yaxis": "y24"
        },
        {
         "colorscale": [
          [
           0,
           "#d28b88"
          ],
          [
           0.5,
           "#e8e8e8"
          ],
          [
           1,
           "#6f918b"
          ]
         ],
         "showscale": false,
         "type": "heatmap",
         "x": {
          "bdata": "AQIDBAUGBwgJCgsMDQ4PEBESExQVFhcYGRobHB0eHyAhIiMkJSYnKCkqKywtLi8wMTIzNA==",
          "dtype": "i1"
         },
         "xaxis": "x25",
         "y": [
          "acct4"
         ],
         "yaxis": "y25",
         "z": [
          [
           -0.19,
           0.1,
           0.31,
           -0.14,
           -0.17,
           0.74,
           -0.44,
           -0.3,
           0.24,
           0.91,
           -0.63,
           0.58,
           0.18,
           -0.98,
           -0.1,
           0.6,
           -0.21,
           -0.33,
           0.01,
           -0.64,
           -0.55,
           -0.92,
           -0.49,
           -1.04,
           -0.56,
           0.71,
           -1.38,
           -0.55,
           0.97,
           -0.11,
           0.45,
           -0.84,
           -0.59,
           -0.96,
           -0.31,
           -0.37,
           -0.54,
           -0.95,
           -0.91,
           -0.21,
           -0.47,
           -0.4,
           0.09,
           1,
           -0.66,
           0.5,
           0.62,
           -0.96,
           0.14,
           0.54,
           -1.44,
           -0.55
          ]
         ],
         "zmax": 2,
         "zmin": -2
        },
        {
         "line": {
          "color": "#6f918b"
         },
         "marker": {
          "size": 4
         },
         "mode": "lines+markers",
         "showlegend": false,
         "type": "scatter",
         "x": {
          "bdata": "AQIDBAUGBwgJCgsMDQ4PEBESExQVFhcYGRobHB0eHyAhIiMkJSYnKCkqKywtLi8wMTIzNA==",
          "dtype": "i1"
         },
         "xaxis": "x26",
         "y": {
          "bdata": "UrgehetRyL+amZmZmZm5P9ejcD0K19M/7FG4HoXrwb/D9Shcj8LFv65H4XoUruc/KVyPwvUo3L8zMzMzMzPTv7gehetRuM4/H4XrUbge7T8pXI/C9Sjkv4/C9Shcj+I/CtejcD0Kxz9cj8L1KFzvv5qZmZmZmbm/MzMzMzMz4z/hehSuR+HKvx+F61G4HtW/exSuR+F6hD97FK5H4Xrkv5qZmZmZmeG/cT0K16Nw7b9cj8L1KFzfv6RwPQrXo/C/7FG4HoXr4b+4HoXrUbjmPxSuR+F6FPa/mpmZmZmZ4b8K16NwPQrvPylcj8L1KLy/zczMzMzM3D/hehSuR+Hqv+F6FK5H4eK/uB6F61G47r/Xo3A9CtfTv65H4XoUrte/SOF6FK5H4b9mZmZmZmbuvx+F61G4Hu2/4XoUrkfhyr8UrkfhehTev5qZmZmZmdm/CtejcD0Ktz8AAAAAAADwPx+F61G4HuW/AAAAAAAA4D/Xo3A9CtfjP7gehetRuO6/7FG4HoXrwT9I4XoUrkfhPwrXo3A9Cve/mpmZmZmZ4b8=",
          "dtype": "f8"
         },
         "yaxis": "y26"
        },
        {
         "line": {
          "color": "#888"
         },
         "mode": "lines+text",
         "showlegend": false,
         "text": [
          "0.36",
          "0.38",
          "0.25",
          "0.24",
          "0.27",
          "0.07",
          "0.15",
          "0.44",
          "0.46",
          "0.28",
          "0.36",
          "0.33",
          "0.61",
          "0.41",
          "0.29",
          "0.20",
          "0.14",
          "0.32",
          "0.22",
          "0.16",
          "0.24",
          "0.19",
          "0.47",
          "0.39",
          "0.30",
          "0.45",
          "0.31",
          "0.21",
          "0.45",
          "0.35",
          "0.20",
          "0.28",
          "0.21",
          "0.16",
          "0.39",
          "0.49",
          "0.16",
          "0.36",
          "0.23",
          "0.25",
          "0.24",
          "0.21",
          "0.30",
          "0.22",
          "0.33",
          "0.29",
          "0.28",
          "0.21",
          "0.24",
          "0.38",
          "0.35",
          "0.20"
         ],
         "textfont": {
          "size": 9
         },
         "textposition": "top center",
         "type": "scatter",
         "x": {
          "bdata": "AQIDBAUGBwgJCgsMDQ4PEBESExQVFhcYGRobHB0eHyAhIiMkJSYnKCkqKywtLi8wMTIzNA==",
          "dtype": "i1"
         },
         "xaxis": "x27",
         "y": {
          "bdata": "CtejcD0K1z9SuB6F61HYPwAAAAAAANA/uB6F61G4zj9I4XoUrkfRP+xRuB6F67E/MzMzMzMzwz8pXI/C9SjcP3E9CtejcN0/7FG4HoXr0T8K16NwPQrXPx+F61G4HtU/hetRuB6F4z89CtejcD3aP4/C9Shcj9I/mpmZmZmZyT/sUbgehevBP3sUrkfhetQ/KVyPwvUozD97FK5H4XrEP7gehetRuM4/UrgehetRyD8UrkfhehTeP/YoXI/C9dg/MzMzMzMz0z/NzMzMzMzcP9ejcD0K19M/4XoUrkfhyj/NzMzMzMzcP2ZmZmZmZtY/mpmZmZmZyT/sUbgehevRP+F6FK5H4co/exSuR+F6xD/2KFyPwvXYP1yPwvUoXN8/exSuR+F6xD8K16NwPQrXP3E9CtejcM0/AAAAAAAA0D+4HoXrUbjOP+F6FK5H4co/MzMzMzMz0z8pXI/C9SjMPx+F61G4HtU/j8L1KFyP0j/sUbgehevRP+F6FK5H4co/uB6F61G4zj9SuB6F61HYP2ZmZmZmZtY/mpmZmZmZyT8=",
          "dtype": "f8"
         },
         "yaxis": "y27"
        },
        {
         "colorscale": [
          [
           0,
           "#d28b88"
          ],
          [
           0.5,
           "#e8e8e8"
          ],
          [
           1,
           "#6f918b"
          ]
         ],
         "showscale": false,
         "type": "heatmap",
         "x": {
          "bdata": "AQIDBAUGBwgJCgsMDQ4PEBESExQVFhcYGRobHB0eHyAhIiMkJSYnKCkqKywtLi8wMTIzNA==",
          "dtype": "i1"
         },
         "xaxis": "x28",
         "y": [
          "acct10"
         ],
         "yaxis": "y28",
         "z": [
          [
           0.87,
           0.41,
           1.18,
           -0.35,
           -0.95,
           -0.14,
           -1.06,
           0.1,
           0.05,
           0.75,
           -0.03,
           0.81,
           -0.38,
           0.94,
           1.14,
           -0.25,
           -0.21,
           0.98,
           -0.75,
           -0.07,
           0.2,
           -0.54,
           -0.13,
           -0.21,
           -1.14,
           -0.45,
           0.94,
           0.18,
           1.39,
           0.02,
           -0.21,
           0.33,
           -0.23,
           -1.04,
           -0.03,
           -1.16,
           0.86,
           -0.03,
           -0.76,
           -0.96,
           0.65,
           0.16,
           -0.63,
           0.81,
           -0.93,
           0.47,
           0.89,
           -0.04,
           -0.57,
           -0.54,
           -0.19,
           -0.45
          ]
         ],
         "zmax": 2,
         "zmin": -2
        },
        {
         "line": {
          "color": "#6f918b"
         },
         "marker": {
          "size": 4
         },
         "mode": "lines+markers",
         "showlegend": false,
         "type": "scatter",
         "x": {
          "bdata": "AQIDBAUGBwgJCgsMDQ4PEBESExQVFhcYGRobHB0eHyAhIiMkJSYnKCkqKywtLi8wMTIzNA==",
          "dtype": "i1"
         },
         "xaxis": "x29",
         "y": {
          "bdata": "16NwPQrX6z89CtejcD3aP+F6FK5H4fI/ZmZmZmZm1r9mZmZmZmbuv+xRuB6F68G/9ihcj8L18L+amZmZmZm5P5qZmZmZmak/AAAAAAAA6D+4HoXrUbiev+xRuB6F6+k/UrgehetR2L8UrkfhehTuPz0K16NwPfI/AAAAAAAA0L/hehSuR+HKv1yPwvUoXO8/AAAAAAAA6L/sUbgeheuxv5qZmZmZmck/SOF6FK5H4b+kcD0K16PAv+F6FK5H4cq/PQrXo3A98r/NzMzMzMzcvxSuR+F6FO4/CtejcD0Kxz89CtejcD32P3sUrkfhepQ/4XoUrkfhyr8fhetRuB7VP3E9CtejcM2/pHA9Ctej8L+4HoXrUbiev4/C9Shcj/K/hetRuB6F6z+4HoXrUbiev1K4HoXrUei/uB6F61G47r/NzMzMzMzkP3sUrkfhesQ/KVyPwvUo5L/sUbgehevpP8P1KFyPwu2/FK5H4XoU3j97FK5H4XrsP3sUrkfheqS/PQrXo3A94r9I4XoUrkfhv1K4HoXrUci/zczMzMzM3L8=",
          "dtype": "f8"
         },
         "yaxis": "y29"
        },
        {
         "line": {
          "color": "#888"
         },
         "mode": "lines+text",
         "showlegend": false,
         "text": [
          "0.26",
          "0.32",
          "0.32",
          "0.30",
          "0.34",
          "0.42",
          "0.39",
          "0.15",
          "0.04",
          "0.39",
          "0.16",
          "0.28",
          "0.18",
          "0.12",
          "0.35",
          "0.38",
          "0.24",
          "0.04",
          "0.25",
          "0.34",
          "0.15",
          "0.32",
          "0.30",
          "0.36",
          "0.31",
          "0.20",
          "0.42",
          "0.28",
          "0.30",
          "0.21",
          "0.26",
          "0.21",
          "0.28",
          "0.47",
          "0.16",
          "0.14",
          "0.45",
          "0.28",
          "0.23",
          "0.40",
          "0.24",
          "0.48",
          "0.37",
          "0.25",
          "0.52",
          "0.24",
          "0.37",
          "0.33",
          "0.43",
          "0.46",
          "0.30",
          "0.22"
         ],
         "textfont": {
          "size": 9
         },
         "textposition": "top center",
         "type": "scatter",
         "x": {
          "bdata": "AQIDBAUGBwgJCgsMDQ4PEBESExQVFhcYGRobHB0eHyAhIiMkJSYnKCkqKywtLi8wMTIzNA==",
          "dtype": "i1"
         },
         "xaxis": "x30",
         "y": {
          "bdata": "pHA9Ctej0D97FK5H4XrUP3sUrkfhetQ/MzMzMzMz0z/D9Shcj8LVP+F6FK5H4do/9ihcj8L12D8zMzMzMzPDP3sUrkfheqQ/9ihcj8L12D97FK5H4XrEP+xRuB6F69E/CtejcD0Kxz+4HoXrUbi+P2ZmZmZmZtY/UrgehetR2D+4HoXrUbjOP3sUrkfheqQ/AAAAAAAA0D/D9Shcj8LVPzMzMzMzM8M/exSuR+F61D8zMzMzMzPTPwrXo3A9Ctc/16NwPQrX0z+amZmZmZnJP+F6FK5H4do/7FG4HoXr0T8zMzMzMzPTP+F6FK5H4co/pHA9Ctej0D/hehSuR+HKP+xRuB6F69E/FK5H4XoU3j97FK5H4XrEP+xRuB6F68E/zczMzMzM3D/sUbgehevRP3E9CtejcM0/mpmZmZmZ2T+4HoXrUbjOP7gehetRuN4/rkfhehSu1z8AAAAAAADQP6RwPQrXo+A/uB6F61G4zj+uR+F6FK7XPx+F61G4HtU/hetRuB6F2z9xPQrXo3DdPzMzMzMzM9M/KVyPwvUozD8=",
          "dtype": "f8"
         },
         "yaxis": "y30"
        }
       ],
       "layout": {
        "annotations": [
         {
          "font": {
           "size": 16
          },
          "showarrow": false,
          "text": "acct6",
          "x": 0.14333333333333334,
          "xanchor": "center",
          "xref": "paper",
          "y": 0.9999999999999999,
          "yanchor": "bottom",
          "yref": "paper"
         },
         {
          "font": {
           "size": 16
          },
          "showarrow": false,
          "text": "acct6",
          "x": 0.5,
          "xanchor": "center",
          "xref": "paper",
          "y": 0.9999999999999999,
          "yanchor": "bottom",
          "yref": "paper"
         },
         {
          "font": {
           "size": 16
          },
          "showarrow": false,
          "text": "acct6",
          "x": 0.8566666666666667,
          "xanchor": "center",
          "xref": "paper",
          "y": 0.9999999999999999,
          "yanchor": "bottom",
          "yref": "paper"
         },
         {
          "font": {
           "size": 16
          },
          "showarrow": false,
          "text": "acct2",
          "x": 0.14333333333333334,
          "xanchor": "center",
          "xref": "paper",
          "y": 0.8969999999999999,
          "yanchor": "bottom",
          "yref": "paper"
         },
         {
          "font": {
           "size": 16
          },
          "showarrow": false,
          "text": "acct2",
          "x": 0.5,
          "xanchor": "center",
          "xref": "paper",
          "y": 0.8969999999999999,
          "yanchor": "bottom",
          "yref": "paper"
         },
         {
          "font": {
           "size": 16
          },
          "showarrow": false,
          "text": "acct2",
          "x": 0.8566666666666667,
          "xanchor": "center",
          "xref": "paper",
          "y": 0.8969999999999999,
          "yanchor": "bottom",
          "yref": "paper"
         },
         {
          "font": {
           "size": 16
          },
          "showarrow": false,
          "text": "acct3",
          "x": 0.14333333333333334,
          "xanchor": "center",
          "xref": "paper",
          "y": 0.7939999999999999,
          "yanchor": "bottom",
          "yref": "paper"
         },
         {
          "font": {
           "size": 16
          },
          "showarrow": false,
          "text": "acct3",
          "x": 0.5,
          "xanchor": "center",
          "xref": "paper",
          "y": 0.7939999999999999,
          "yanchor": "bottom",
          "yref": "paper"
         },
         {
          "font": {
           "size": 16
          },
          "showarrow": false,
          "text": "acct3",
          "x": 0.8566666666666667,
          "xanchor": "center",
          "xref": "paper",
          "y": 0.7939999999999999,
          "yanchor": "bottom",
          "yref": "paper"
         },
         {
          "font": {
           "size": 16
          },
          "showarrow": false,
          "text": "acct9",
          "x": 0.14333333333333334,
          "xanchor": "center",
          "xref": "paper",
          "y": 0.6909999999999998,
          "yanchor": "bottom",
          "yref": "paper"
         },
         {
          "font": {
           "size": 16
          },
          "showarrow": false,
          "text": "acct9",
          "x": 0.5,
          "xanchor": "center",
          "xref": "paper",
          "y": 0.6909999999999998,
          "yanchor": "bottom",
          "yref": "paper"
         },
         {
          "font": {
           "size": 16
          },
          "showarrow": false,
          "text": "acct9",
          "x": 0.8566666666666667,
          "xanchor": "center",
          "xref": "paper",
          "y": 0.6909999999999998,
          "yanchor": "bottom",
          "yref": "paper"
         },
         {
          "font": {
           "size": 16
          },
          "showarrow": false,
          "text": "acct7",
          "x": 0.14333333333333334,
          "xanchor": "center",
          "xref": "paper",
          "y": 0.588,
          "yanchor": "bottom",
          "yref": "paper"
         },
         {
          "font": {
           "size": 16
          },
          "showarrow": false,
          "text": "acct7",
          "x": 0.5,
          "xanchor": "center",
          "xref": "paper",
          "y": 0.588,
          "yanchor": "bottom",
          "yref": "paper"
         },
         {
          "font": {
           "size": 16
          },
          "showarrow": false,
          "text": "acct7",
          "x": 0.8566666666666667,
          "xanchor": "center",
          "xref": "paper",
          "y": 0.588,
          "yanchor": "bottom",
          "yref": "paper"
         },
         {
          "font": {
           "size": 16
          },
          "showarrow": false,
          "text": "acct8",
          "x": 0.14333333333333334,
          "xanchor": "center",
          "xref": "paper",
          "y": 0.485,
          "yanchor": "bottom",
          "yref": "paper"
         },
         {
          "font": {
           "size": 16
          },
          "showarrow": false,
          "text": "acct8",
          "x": 0.5,
          "xanchor": "center",
          "xref": "paper",
          "y": 0.485,
          "yanchor": "bottom",
          "yref": "paper"
         },
         {
          "font": {
           "size": 16
          },
          "showarrow": false,
          "text": "acct8",
          "x": 0.8566666666666667,
          "xanchor": "center",
          "xref": "paper",
          "y": 0.485,
          "yanchor": "bottom",
          "yref": "paper"
         },
         {
          "font": {
           "size": 16
          },
          "showarrow": false,
          "text": "acct1",
          "x": 0.14333333333333334,
          "xanchor": "center",
          "xref": "paper",
          "y": 0.38199999999999995,
          "yanchor": "bottom",
          "yref": "paper"
         },
         {
          "font": {
           "size": 16
          },
          "showarrow": false,
          "text": "acct1",
          "x": 0.5,
          "xanchor": "center",
          "xref": "paper",
          "y": 0.38199999999999995,
          "yanchor": "bottom",
          "yref": "paper"
         },
         {
          "font": {
           "size": 16
          },
          "showarrow": false,
          "text": "acct1",
          "x": 0.8566666666666667,
          "xanchor": "center",
          "xref": "paper",
          "y": 0.38199999999999995,
          "yanchor": "bottom",
          "yref": "paper"
         },
         {
          "font": {
           "size": 16
          },
          "showarrow": false,
          "text": "acct5",
          "x": 0.14333333333333334,
          "xanchor": "center",
          "xref": "paper",
          "y": 0.27899999999999997,
          "yanchor": "bottom",
          "yref": "paper"
         },
         {
          "font": {
           "size": 16
          },
          "showarrow": false,
          "text": "acct5",
          "x": 0.5,
          "xanchor": "center",
          "xref": "paper",
          "y": 0.27899999999999997,
          "yanchor": "bottom",
          "yref": "paper"
         },
         {
          "font": {
           "size": 16
          },
          "showarrow": false,
          "text": "acct5",
          "x": 0.8566666666666667,
          "xanchor": "center",
          "xref": "paper",
          "y": 0.27899999999999997,
          "yanchor": "bottom",
          "yref": "paper"
         },
         {
          "font": {
           "size": 16
          },
          "showarrow": false,
          "text": "acct4",
          "x": 0.14333333333333334,
          "xanchor": "center",
          "xref": "paper",
          "y": 0.176,
          "yanchor": "bottom",
          "yref": "paper"
         },
         {
          "font": {
           "size": 16
          },
          "showarrow": false,
          "text": "acct4",
          "x": 0.5,
          "xanchor": "center",
          "xref": "paper",
          "y": 0.176,
          "yanchor": "bottom",
          "yref": "paper"
         },
         {
          "font": {
           "size": 16
          },
          "showarrow": false,
          "text": "acct4",
          "x": 0.8566666666666667,
          "xanchor": "center",
          "xref": "paper",
          "y": 0.176,
          "yanchor": "bottom",
          "yref": "paper"
         },
         {
          "font": {
           "size": 16
          },
          "showarrow": false,
          "text": "acct10",
          "x": 0.14333333333333334,
          "xanchor": "center",
          "xref": "paper",
          "y": 0.073,
          "yanchor": "bottom",
          "yref": "paper"
         },
         {
          "font": {
           "size": 16
          },
          "showarrow": false,
          "text": "acct10",
          "x": 0.5,
          "xanchor": "center",
          "xref": "paper",
          "y": 0.073,
          "yanchor": "bottom",
          "yref": "paper"
         },
         {
          "font": {
           "size": 16
          },
          "showarrow": false,
          "text": "acct10",
          "x": 0.8566666666666667,
          "xanchor": "center",
          "xref": "paper",
          "y": 0.073,
          "yanchor": "bottom",
          "yref": "paper"
         },
         {
          "font": {
           "size": 16
          },
          "showarrow": false,
          "text": "Stocking Change Heatmap",
          "x": 0.14333333333333334,
          "xanchor": "center",
          "xref": "paper",
          "y": 0.9999999999999999,
          "yanchor": "bottom",
          "yref": "paper"
         },
         {
          "font": {
           "size": 16
          },
          "showarrow": false,
          "text": "Stocking Change Line",
          "x": 0.5,
          "xanchor": "center",
          "xref": "paper",
          "y": 0.9999999999999999,
          "yanchor": "bottom",
          "yref": "paper"
         },
         {
          "font": {
           "size": 16
          },
          "showarrow": false,
          "text": "Volatility Line",
          "x": 0.8566666666666667,
          "xanchor": "center",
          "xref": "paper",
          "y": 0.9999999999999999,
          "yanchor": "bottom",
          "yref": "paper"
         }
        ],
        "font": {
         "family": "Courier New",
         "size": 10
        },
        "height": 2200,
        "margin": {
         "b": 40,
         "l": 40,
         "r": 40,
         "t": 60
        },
        "template": {
         "data": {
          "bar": [
           {
            "error_x": {
             "color": "#2a3f5f"
            },
            "error_y": {
             "color": "#2a3f5f"
            },
            "marker": {
             "line": {
              "color": "#E5ECF6",
              "width": 0.5
             },
             "pattern": {
              "fillmode": "overlay",
              "size": 10,
              "solidity": 0.2
             }
            },
            "type": "bar"
           }
          ],
          "barpolar": [
           {
            "marker": {
             "line": {
              "color": "#E5ECF6",
              "width": 0.5
             },
             "pattern": {
              "fillmode": "overlay",
              "size": 10,
              "solidity": 0.2
             }
            },
            "type": "barpolar"
           }
          ],
          "carpet": [
           {
            "aaxis": {
             "endlinecolor": "#2a3f5f",
             "gridcolor": "white",
             "linecolor": "white",
             "minorgridcolor": "white",
             "startlinecolor": "#2a3f5f"
            },
            "baxis": {
             "endlinecolor": "#2a3f5f",
             "gridcolor": "white",
             "linecolor": "white",
             "minorgridcolor": "white",
             "startlinecolor": "#2a3f5f"
            },
            "type": "carpet"
           }
          ],
          "choropleth": [
           {
            "colorbar": {
             "outlinewidth": 0,
             "ticks": ""
            },
            "type": "choropleth"
           }
          ],
          "contour": [
           {
            "colorbar": {
             "outlinewidth": 0,
             "ticks": ""
            },
            "colorscale": [
             [
              0,
              "#0d0887"
             ],
             [
              0.1111111111111111,
              "#46039f"
             ],
             [
              0.2222222222222222,
              "#7201a8"
             ],
             [
              0.3333333333333333,
              "#9c179e"
             ],
             [
              0.4444444444444444,
              "#bd3786"
             ],
             [
              0.5555555555555556,
              "#d8576b"
             ],
             [
              0.6666666666666666,
              "#ed7953"
             ],
             [
              0.7777777777777778,
              "#fb9f3a"
             ],
             [
              0.8888888888888888,
              "#fdca26"
             ],
             [
              1,
              "#f0f921"
             ]
            ],
            "type": "contour"
           }
          ],
          "contourcarpet": [
           {
            "colorbar": {
             "outlinewidth": 0,
             "ticks": ""
            },
            "type": "contourcarpet"
           }
          ],
          "heatmap": [
           {
            "colorbar": {
             "outlinewidth": 0,
             "ticks": ""
            },
            "colorscale": [
             [
              0,
              "#0d0887"
             ],
             [
              0.1111111111111111,
              "#46039f"
             ],
             [
              0.2222222222222222,
              "#7201a8"
             ],
             [
              0.3333333333333333,
              "#9c179e"
             ],
             [
              0.4444444444444444,
              "#bd3786"
             ],
             [
              0.5555555555555556,
              "#d8576b"
             ],
             [
              0.6666666666666666,
              "#ed7953"
             ],
             [
              0.7777777777777778,
              "#fb9f3a"
             ],
             [
              0.8888888888888888,
              "#fdca26"
             ],
             [
              1,
              "#f0f921"
             ]
            ],
            "type": "heatmap"
           }
          ],
          "histogram": [
           {
            "marker": {
             "pattern": {
              "fillmode": "overlay",
              "size": 10,
              "solidity": 0.2
             }
            },
            "type": "histogram"
           }
          ],
          "histogram2d": [
           {
            "colorbar": {
             "outlinewidth": 0,
             "ticks": ""
            },
            "colorscale": [
             [
              0,
              "#0d0887"
             ],
             [
              0.1111111111111111,
              "#46039f"
             ],
             [
              0.2222222222222222,
              "#7201a8"
             ],
             [
              0.3333333333333333,
              "#9c179e"
             ],
             [
              0.4444444444444444,
              "#bd3786"
             ],
             [
              0.5555555555555556,
              "#d8576b"
             ],
             [
              0.6666666666666666,
              "#ed7953"
             ],
             [
              0.7777777777777778,
              "#fb9f3a"
             ],
             [
              0.8888888888888888,
              "#fdca26"
             ],
             [
              1,
              "#f0f921"
             ]
            ],
            "type": "histogram2d"
           }
          ],
          "histogram2dcontour": [
           {
            "colorbar": {
             "outlinewidth": 0,
             "ticks": ""
            },
            "colorscale": [
             [
              0,
              "#0d0887"
             ],
             [
              0.1111111111111111,
              "#46039f"
             ],
             [
              0.2222222222222222,
              "#7201a8"
             ],
             [
              0.3333333333333333,
              "#9c179e"
             ],
             [
              0.4444444444444444,
              "#bd3786"
             ],
             [
              0.5555555555555556,
              "#d8576b"
             ],
             [
              0.6666666666666666,
              "#ed7953"
             ],
             [
              0.7777777777777778,
              "#fb9f3a"
             ],
             [
              0.8888888888888888,
              "#fdca26"
             ],
             [
              1,
              "#f0f921"
             ]
            ],
            "type": "histogram2dcontour"
           }
          ],
          "mesh3d": [
           {
            "colorbar": {
             "outlinewidth": 0,
             "ticks": ""
            },
            "type": "mesh3d"
           }
          ],
          "parcoords": [
           {
            "line": {
             "colorbar": {
              "outlinewidth": 0,
              "ticks": ""
             }
            },
            "type": "parcoords"
           }
          ],
          "pie": [
           {
            "automargin": true,
            "type": "pie"
           }
          ],
          "scatter": [
           {
            "fillpattern": {
             "fillmode": "overlay",
             "size": 10,
             "solidity": 0.2
            },
            "type": "scatter"
           }
          ],
          "scatter3d": [
           {
            "line": {
             "colorbar": {
              "outlinewidth": 0,
              "ticks": ""
             }
            },
            "marker": {
             "colorbar": {
              "outlinewidth": 0,
              "ticks": ""
             }
            },
            "type": "scatter3d"
           }
          ],
          "scattercarpet": [
           {
            "marker": {
             "colorbar": {
              "outlinewidth": 0,
              "ticks": ""
             }
            },
            "type": "scattercarpet"
           }
          ],
          "scattergeo": [
           {
            "marker": {
             "colorbar": {
              "outlinewidth": 0,
              "ticks": ""
             }
            },
            "type": "scattergeo"
           }
          ],
          "scattergl": [
           {
            "marker": {
             "colorbar": {
              "outlinewidth": 0,
              "ticks": ""
             }
            },
            "type": "scattergl"
           }
          ],
          "scattermap": [
           {
            "marker": {
             "colorbar": {
              "outlinewidth": 0,
              "ticks": ""
             }
            },
            "type": "scattermap"
           }
          ],
          "scattermapbox": [
           {
            "marker": {
             "colorbar": {
              "outlinewidth": 0,
              "ticks": ""
             }
            },
            "type": "scattermapbox"
           }
          ],
          "scatterpolar": [
           {
            "marker": {
             "colorbar": {
              "outlinewidth": 0,
              "ticks": ""
             }
            },
            "type": "scatterpolar"
           }
          ],
          "scatterpolargl": [
           {
            "marker": {
             "colorbar": {
              "outlinewidth": 0,
              "ticks": ""
             }
            },
            "type": "scatterpolargl"
           }
          ],
          "scatterternary": [
           {
            "marker": {
             "colorbar": {
              "outlinewidth": 0,
              "ticks": ""
             }
            },
            "type": "scatterternary"
           }
          ],
          "surface": [
           {
            "colorbar": {
             "outlinewidth": 0,
             "ticks": ""
            },
            "colorscale": [
             [
              0,
              "#0d0887"
             ],
             [
              0.1111111111111111,
              "#46039f"
             ],
             [
              0.2222222222222222,
              "#7201a8"
             ],
             [
              0.3333333333333333,
              "#9c179e"
             ],
             [
              0.4444444444444444,
              "#bd3786"
             ],
             [
              0.5555555555555556,
              "#d8576b"
             ],
             [
              0.6666666666666666,
              "#ed7953"
             ],
             [
              0.7777777777777778,
              "#fb9f3a"
             ],
             [
              0.8888888888888888,
              "#fdca26"
             ],
             [
              1,
              "#f0f921"
             ]
            ],
            "type": "surface"
           }
          ],
          "table": [
           {
            "cells": {
             "fill": {
              "color": "#EBF0F8"
             },
             "line": {
              "color": "white"
             }
            },
            "header": {
             "fill": {
              "color": "#C8D4E3"
             },
             "line": {
              "color": "white"
             }
            },
            "type": "table"
           }
          ]
         },
         "layout": {
          "annotationdefaults": {
           "arrowcolor": "#2a3f5f",
           "arrowhead": 0,
           "arrowwidth": 1
          },
          "autotypenumbers": "strict",
          "coloraxis": {
           "colorbar": {
            "outlinewidth": 0,
            "ticks": ""
           }
          },
          "colorscale": {
           "diverging": [
            [
             0,
             "#8e0152"
            ],
            [
             0.1,
             "#c51b7d"
            ],
            [
             0.2,
             "#de77ae"
            ],
            [
             0.3,
             "#f1b6da"
            ],
            [
             0.4,
             "#fde0ef"
            ],
            [
             0.5,
             "#f7f7f7"
            ],
            [
             0.6,
             "#e6f5d0"
            ],
            [
             0.7,
             "#b8e186"
            ],
            [
             0.8,
             "#7fbc41"
            ],
            [
             0.9,
             "#4d9221"
            ],
            [
             1,
             "#276419"
            ]
           ],
           "sequential": [
            [
             0,
             "#0d0887"
            ],
            [
             0.1111111111111111,
             "#46039f"
            ],
            [
             0.2222222222222222,
             "#7201a8"
            ],
            [
             0.3333333333333333,
             "#9c179e"
            ],
            [
             0.4444444444444444,
             "#bd3786"
            ],
            [
             0.5555555555555556,
             "#d8576b"
            ],
            [
             0.6666666666666666,
             "#ed7953"
            ],
            [
             0.7777777777777778,
             "#fb9f3a"
            ],
            [
             0.8888888888888888,
             "#fdca26"
            ],
            [
             1,
             "#f0f921"
            ]
           ],
           "sequentialminus": [
            [
             0,
             "#0d0887"
            ],
            [
             0.1111111111111111,
             "#46039f"
            ],
            [
             0.2222222222222222,
             "#7201a8"
            ],
            [
             0.3333333333333333,
             "#9c179e"
            ],
            [
             0.4444444444444444,
             "#bd3786"
            ],
            [
             0.5555555555555556,
             "#d8576b"
            ],
            [
             0.6666666666666666,
             "#ed7953"
            ],
            [
             0.7777777777777778,
             "#fb9f3a"
            ],
            [
             0.8888888888888888,
             "#fdca26"
            ],
            [
             1,
             "#f0f921"
            ]
           ]
          },
          "colorway": [
           "#636efa",
           "#EF553B",
           "#00cc96",
           "#ab63fa",
           "#FFA15A",
           "#19d3f3",
           "#FF6692",
           "#B6E880",
           "#FF97FF",
           "#FECB52"
          ],
          "font": {
           "color": "#2a3f5f"
          },
          "geo": {
           "bgcolor": "white",
           "lakecolor": "white",
           "landcolor": "#E5ECF6",
           "showlakes": true,
           "showland": true,
           "subunitcolor": "white"
          },
          "hoverlabel": {
           "align": "left"
          },
          "hovermode": "closest",
          "mapbox": {
           "style": "light"
          },
          "paper_bgcolor": "white",
          "plot_bgcolor": "#E5ECF6",
          "polar": {
           "angularaxis": {
            "gridcolor": "white",
            "linecolor": "white",
            "ticks": ""
           },
           "bgcolor": "#E5ECF6",
           "radialaxis": {
            "gridcolor": "white",
            "linecolor": "white",
            "ticks": ""
           }
          },
          "scene": {
           "xaxis": {
            "backgroundcolor": "#E5ECF6",
            "gridcolor": "white",
            "gridwidth": 2,
            "linecolor": "white",
            "showbackground": true,
            "ticks": "",
            "zerolinecolor": "white"
           },
           "yaxis": {
            "backgroundcolor": "#E5ECF6",
            "gridcolor": "white",
            "gridwidth": 2,
            "linecolor": "white",
            "showbackground": true,
            "ticks": "",
            "zerolinecolor": "white"
           },
           "zaxis": {
            "backgroundcolor": "#E5ECF6",
            "gridcolor": "white",
            "gridwidth": 2,
            "linecolor": "white",
            "showbackground": true,
            "ticks": "",
            "zerolinecolor": "white"
           }
          },
          "shapedefaults": {
           "line": {
            "color": "#2a3f5f"
           }
          },
          "ternary": {
           "aaxis": {
            "gridcolor": "white",
            "linecolor": "white",
            "ticks": ""
           },
           "baxis": {
            "gridcolor": "white",
            "linecolor": "white",
            "ticks": ""
           },
           "bgcolor": "#E5ECF6",
           "caxis": {
            "gridcolor": "white",
            "linecolor": "white",
            "ticks": ""
           }
          },
          "title": {
           "x": 0.05
          },
          "xaxis": {
           "automargin": true,
           "gridcolor": "white",
           "linecolor": "white",
           "ticks": "",
           "title": {
            "standoff": 15
           },
           "zerolinecolor": "white",
           "zerolinewidth": 2
          },
          "yaxis": {
           "automargin": true,
           "gridcolor": "white",
           "linecolor": "white",
           "ticks": "",
           "title": {
            "standoff": 15
           },
           "zerolinecolor": "white",
           "zerolinewidth": 2
          }
         }
        },
        "title": {
         "text": "Top 10 Accounts: Row-wise Heatmap, Stocking Change Line, and Volatility Line"
        },
        "width": 1400,
        "xaxis": {
         "anchor": "y",
         "domain": [
          0,
          0.2866666666666667
         ]
        },
        "xaxis10": {
         "anchor": "y10",
         "domain": [
          0,
          0.2866666666666667
         ]
        },
        "xaxis11": {
         "anchor": "y11",
         "domain": [
          0.3566666666666667,
          0.6433333333333333
         ]
        },
        "xaxis12": {
         "anchor": "y12",
         "domain": [
          0.7133333333333334,
          1
         ]
        },
        "xaxis13": {
         "anchor": "y13",
         "domain": [
          0,
          0.2866666666666667
         ]
        },
        "xaxis14": {
         "anchor": "y14",
         "domain": [
          0.3566666666666667,
          0.6433333333333333
         ]
        },
        "xaxis15": {
         "anchor": "y15",
         "domain": [
          0.7133333333333334,
          1
         ]
        },
        "xaxis16": {
         "anchor": "y16",
         "domain": [
          0,
          0.2866666666666667
         ]
        },
        "xaxis17": {
         "anchor": "y17",
         "domain": [
          0.3566666666666667,
          0.6433333333333333
         ]
        },
        "xaxis18": {
         "anchor": "y18",
         "domain": [
          0.7133333333333334,
          1
         ]
        },
        "xaxis19": {
         "anchor": "y19",
         "domain": [
          0,
          0.2866666666666667
         ]
        },
        "xaxis2": {
         "anchor": "y2",
         "domain": [
          0.3566666666666667,
          0.6433333333333333
         ]
        },
        "xaxis20": {
         "anchor": "y20",
         "domain": [
          0.3566666666666667,
          0.6433333333333333
         ]
        },
        "xaxis21": {
         "anchor": "y21",
         "domain": [
          0.7133333333333334,
          1
         ]
        },
        "xaxis22": {
         "anchor": "y22",
         "domain": [
          0,
          0.2866666666666667
         ]
        },
        "xaxis23": {
         "anchor": "y23",
         "domain": [
          0.3566666666666667,
          0.6433333333333333
         ]
        },
        "xaxis24": {
         "anchor": "y24",
         "domain": [
          0.7133333333333334,
          1
         ]
        },
        "xaxis25": {
         "anchor": "y25",
         "domain": [
          0,
          0.2866666666666667
         ]
        },
        "xaxis26": {
         "anchor": "y26",
         "domain": [
          0.3566666666666667,
          0.6433333333333333
         ]
        },
        "xaxis27": {
         "anchor": "y27",
         "domain": [
          0.7133333333333334,
          1
         ]
        },
        "xaxis28": {
         "anchor": "y28",
         "domain": [
          0,
          0.2866666666666667
         ]
        },
        "xaxis29": {
         "anchor": "y29",
         "domain": [
          0.3566666666666667,
          0.6433333333333333
         ]
        },
        "xaxis3": {
         "anchor": "y3",
         "domain": [
          0.7133333333333334,
          1
         ]
        },
        "xaxis30": {
         "anchor": "y30",
         "domain": [
          0.7133333333333334,
          1
         ]
        },
        "xaxis4": {
         "anchor": "y4",
         "domain": [
          0,
          0.2866666666666667
         ]
        },
        "xaxis5": {
         "anchor": "y5",
         "domain": [
          0.3566666666666667,
          0.6433333333333333
         ]
        },
        "xaxis6": {
         "anchor": "y6",
         "domain": [
          0.7133333333333334,
          1
         ]
        },
        "xaxis7": {
         "anchor": "y7",
         "domain": [
          0,
          0.2866666666666667
         ]
        },
        "xaxis8": {
         "anchor": "y8",
         "domain": [
          0.3566666666666667,
          0.6433333333333333
         ]
        },
        "xaxis9": {
         "anchor": "y9",
         "domain": [
          0.7133333333333334,
          1
         ]
        },
        "yaxis": {
         "anchor": "x",
         "domain": [
          0.9269999999999999,
          0.9999999999999999
         ]
        },
        "yaxis10": {
         "anchor": "x10",
         "domain": [
          0.6179999999999999,
          0.6909999999999998
         ]
        },
        "yaxis11": {
         "anchor": "x11",
         "domain": [
          0.6179999999999999,
          0.6909999999999998
         ]
        },
        "yaxis12": {
         "anchor": "x12",
         "domain": [
          0.6179999999999999,
          0.6909999999999998
         ]
        },
        "yaxis13": {
         "anchor": "x13",
         "domain": [
          0.515,
          0.588
         ]
        },
        "yaxis14": {
         "anchor": "x14",
         "domain": [
          0.515,
          0.588
         ]
        },
        "yaxis15": {
         "anchor": "x15",
         "domain": [
          0.515,
          0.588
         ]
        },
        "yaxis16": {
         "anchor": "x16",
         "domain": [
          0.412,
          0.485
         ]
        },
        "yaxis17": {
         "anchor": "x17",
         "domain": [
          0.412,
          0.485
         ]
        },
        "yaxis18": {
         "anchor": "x18",
         "domain": [
          0.412,
          0.485
         ]
        },
        "yaxis19": {
         "anchor": "x19",
         "domain": [
          0.30899999999999994,
          0.38199999999999995
         ]
        },
        "yaxis2": {
         "anchor": "x2",
         "domain": [
          0.9269999999999999,
          0.9999999999999999
         ]
        },
        "yaxis20": {
         "anchor": "x20",
         "domain": [
          0.30899999999999994,
          0.38199999999999995
         ]
        },
        "yaxis21": {
         "anchor": "x21",
         "domain": [
          0.30899999999999994,
          0.38199999999999995
         ]
        },
        "yaxis22": {
         "anchor": "x22",
         "domain": [
          0.206,
          0.27899999999999997
         ]
        },
        "yaxis23": {
         "anchor": "x23",
         "domain": [
          0.206,
          0.27899999999999997
         ]
        },
        "yaxis24": {
         "anchor": "x24",
         "domain": [
          0.206,
          0.27899999999999997
         ]
        },
        "yaxis25": {
         "anchor": "x25",
         "domain": [
          0.103,
          0.176
         ]
        },
        "yaxis26": {
         "anchor": "x26",
         "domain": [
          0.103,
          0.176
         ]
        },
        "yaxis27": {
         "anchor": "x27",
         "domain": [
          0.103,
          0.176
         ]
        },
        "yaxis28": {
         "anchor": "x28",
         "domain": [
          0,
          0.073
         ]
        },
        "yaxis29": {
         "anchor": "x29",
         "domain": [
          0,
          0.073
         ]
        },
        "yaxis3": {
         "anchor": "x3",
         "domain": [
          0.9269999999999999,
          0.9999999999999999
         ]
        },
        "yaxis30": {
         "anchor": "x30",
         "domain": [
          0,
          0.073
         ]
        },
        "yaxis4": {
         "anchor": "x4",
         "domain": [
          0.824,
          0.8969999999999999
         ]
        },
        "yaxis5": {
         "anchor": "x5",
         "domain": [
          0.824,
          0.8969999999999999
         ]
        },
        "yaxis6": {
         "anchor": "x6",
         "domain": [
          0.824,
          0.8969999999999999
         ]
        },
        "yaxis7": {
         "anchor": "x7",
         "domain": [
          0.721,
          0.7939999999999999
         ]
        },
        "yaxis8": {
         "anchor": "x8",
         "domain": [
          0.721,
          0.7939999999999999
         ]
        },
        "yaxis9": {
         "anchor": "x9",
         "domain": [
          0.721,
          0.7939999999999999
         ]
        }
       }
      }
     },
     "metadata": {},
     "output_type": "display_data"
    }
   ],
   "source": [
    "import pandas as pd\n",
    "import numpy as np\n",
    "import plotly.graph_objects as go\n",
    "from plotly.subplots import make_subplots\n",
    "\n",
    "# 模拟数据（10个账户 × 52周）\n",
    "np.random.seed(42)\n",
    "accounts = [f'acct{i}' for i in range(1, 11)]\n",
    "weeks = list(range(1, 53))\n",
    "data = []\n",
    "\n",
    "for acct in accounts:\n",
    "    base = np.random.uniform(-1, 1, 52)\n",
    "    volatility = np.round(np.abs(np.random.normal(loc=0.3, scale=0.1, size=52)), 2)\n",
    "    for i, week in enumerate(weeks):\n",
    "        data.append({\n",
    "            'account_id': acct,\n",
    "            'rolling_week': week,\n",
    "            'stocking_change': np.round(base[i] + np.random.normal(0, 0.3), 2),\n",
    "            'stocking_change_volatility': volatility[i]\n",
    "        })\n",
    "\n",
    "df = pd.DataFrame(data)\n",
    "\n",
    "# 选出代表性账户（按波动平均排序）\n",
    "top_accounts = (\n",
    "    df.groupby('account_id')['stocking_change_volatility']\n",
    "    .mean()\n",
    "    .sort_values(ascending=False)\n",
    "    .head(10)\n",
    "    .index\n",
    ")\n",
    "\n",
    "df_top = df[df['account_id'].isin(top_accounts)]\n",
    "heatmap_data = df_top.pivot(index='account_id', columns='rolling_week', values='stocking_change')\n",
    "\n",
    "# 创建子图：每个账户占一行，每行3列（heatmap + 折线 + volatility）\n",
    "fig = make_subplots(\n",
    "    rows=10, cols=3,\n",
    "    shared_xaxes=False,\n",
    "    subplot_titles=[f\"{acct}\" for acct in top_accounts for _ in range(3)],\n",
    "    horizontal_spacing=0.07,\n",
    "    vertical_spacing=0.03,\n",
    "    column_titles=[\"Stocking Change Heatmap\", \"Stocking Change Line\", \"Volatility Line\"]\n",
    ")\n",
    "\n",
    "for i, acct in enumerate(top_accounts, start=1):\n",
    "    df_sub = df_top[df_top['account_id'] == acct]\n",
    "\n",
    "    # 热力图（单行52格）\n",
    "    fig.add_trace(\n",
    "        go.Heatmap(\n",
    "            z=[df_sub['stocking_change'].values],\n",
    "            x=df_sub['rolling_week'],\n",
    "            y=[acct],\n",
    "            colorscale=[\n",
    "                [0.0, \"#d28b88\"],\n",
    "                [0.5, \"#e8e8e8\"],\n",
    "                [1.0, \"#6f918b\"]\n",
    "            ],\n",
    "            zmin=-2, zmax=2,\n",
    "            showscale=False\n",
    "        ),\n",
    "        row=i, col=1\n",
    "    )\n",
    "\n",
    "    # 折线图：stocking_change\n",
    "    fig.add_trace(\n",
    "        go.Scatter(\n",
    "            x=df_sub['rolling_week'],\n",
    "            y=df_sub['stocking_change'],\n",
    "            mode='lines+markers',\n",
    "            line=dict(color=\"#6f918b\"),\n",
    "            marker=dict(size=4),\n",
    "            showlegend=False\n",
    "        ),\n",
    "        row=i, col=2\n",
    "    )\n",
    "\n",
    "    # 折线图：volatility + 标注\n",
    "    fig.add_trace(\n",
    "        go.Scatter(\n",
    "            x=df_sub['rolling_week'],\n",
    "            y=df_sub['stocking_change_volatility'],\n",
    "            mode='lines+text',\n",
    "            text=[f\"{v:.2f}\" for v in df_sub['stocking_change_volatility']],\n",
    "            textposition=\"top center\",\n",
    "            textfont=dict(size=9),\n",
    "            line=dict(color=\"#888\"),\n",
    "            showlegend=False\n",
    "        ),\n",
    "        row=i, col=3\n",
    "    )\n",
    "\n",
    "fig.update_layout(\n",
    "    height=2200,\n",
    "    width=1400,\n",
    "    title=\"Top 10 Accounts: Row-wise Heatmap, Stocking Change Line, and Volatility Line\",\n",
    "    font=dict(family=\"Courier New\", size=10),\n",
    "    margin=dict(t=60, l=40, r=40, b=40)\n",
    ")\n",
    "\n",
    "fig.show()\n"
   ]
  },
  {
   "cell_type": "code",
   "execution_count": 19,
   "id": "944c135a",
   "metadata": {},
   "outputs": [
    {
     "data": {
      "application/vnd.plotly.v1+json": {
       "config": {
        "plotlyServerURL": "https://plot.ly"
       },
       "data": [
        {
         "colorbar": {
          "title": {
           "text": "Stocking Change"
          }
         },
         "colorscale": [
          [
           0,
           "#d28b88"
          ],
          [
           0.5,
           "#e8e8e8"
          ],
          [
           1,
           "#6f918b"
          ]
         ],
         "type": "heatmap",
         "x": {
          "bdata": "AQIDBAUGBwgJCgsMDQ4PEBESExQVFhcYGRobHB0eHyAhIiMkJSYnKCkqKywtLi8wMTIzNA==",
          "dtype": "i1"
         },
         "xaxis": "x",
         "y": [
          "acct1",
          "acct10",
          "acct2",
          "acct3",
          "acct4",
          "acct5",
          "acct6",
          "acct7",
          "acct8",
          "acct9"
         ],
         "yaxis": "y",
         "z": {
          "bdata": "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",
          "dtype": "f8",
          "shape": "10, 52"
         },
         "zmax": 2,
         "zmin": -2
        },
        {
         "mode": "lines+markers",
         "name": "acct1 Change",
         "type": "scatter",
         "x": {
          "bdata": "AQIDBAUGBwgJCgsMDQ4PEBESExQVFhcYGRobHB0eHyAhIiMkJSYnKCkqKywtLi8wMTIzNA==",
          "dtype": "i1"
         },
         "xaxis": "x2",
         "y": {
          "bdata": "cT0K16Nw3b+amZmZmZnpP2ZmZmZmZtY/uB6F61G4zr8zMzMzMzPjv4XrUbgeheO/KVyPwvUo7L8fhetRuB7lPylcj8L1KMy/j8L1KFyP0j/2KFyPwvXwv2ZmZmZmZuY/16NwPQrX4z/NzMzMzMzcv+xRuB6F67G/j8L1KFyP4r/Xo3A9CtfTv7gehetRuJ4/uB6F61G45r+F61G4HoXbv7gehetRuM4/exSuR+F6lD8UrkfhehTevwrXo3A9Cse/mpmZmZmZub8pXI/C9SjMP6RwPQrXo9C/AAAAAAAA0D/hehSuR+HaP+F6FK5H4fK/exSuR+F65D9I4XoUrkfxvxSuR+F6FOa/zczMzMzM+D8pXI/C9SjkP83MzMzMzNw/CtejcD0K17+4HoXrUbjuv5qZmZmZmbm/mpmZmZmZub8fhetRuB7xv6RwPQrXo8A/XI/C9Shc8797FK5H4Xr0PwrXo3A9Cue/cT0K16NwzT+kcD0K16PAvx+F61G4HtW/exSuR+F6xD+4HoXrUbjOv3E9CtejcN0/hetRuB6F4z8=",
          "dtype": "f8"
         },
         "yaxis": "y2"
        },
        {
         "line": {
          "color": "gray",
          "dash": "dot"
         },
         "mode": "lines+text",
         "name": "acct1 Volatility",
         "text": [
          "0.37",
          "0.32",
          "0.29",
          "0.27",
          "0.15",
          "0.23",
          "0.25",
          "0.41",
          "0.33",
          "0.12",
          "0.33",
          "0.26",
          "0.23",
          "0.36",
          "0.40",
          "0.39",
          "0.22",
          "0.27",
          "0.33",
          "0.40",
          "0.25",
          "0.28",
          "0.19",
          "0.18",
          "0.38",
          "0.44",
          "0.29",
          "0.40",
          "0.34",
          "0.24",
          "0.34",
          "0.45",
          "0.30",
          "0.46",
          "0.04",
          "0.38",
          "0.31",
          "0.27",
          "0.31",
          "0.10",
          "0.28",
          "0.34",
          "0.45",
          "0.25",
          "0.22",
          "0.25",
          "0.39",
          "0.33",
          "0.25",
          "0.35",
          "0.31",
          "0.40"
         ],
         "textfont": {
          "size": 9
         },
         "textposition": "top center",
         "type": "scatter",
         "x": {
          "bdata": "AQIDBAUGBwgJCgsMDQ4PEBESExQVFhcYGRobHB0eHyAhIiMkJSYnKCkqKywtLi8wMTIzNA==",
          "dtype": "i1"
         },
         "xaxis": "x2",
         "y": {
          "bdata": "rkfhehSu1z97FK5H4XrUP4/C9Shcj9I/SOF6FK5H0T8zMzMzMzPDP3E9CtejcM0/AAAAAAAA0D89CtejcD3aPx+F61G4HtU/uB6F61G4vj8fhetRuB7VP6RwPQrXo9A/cT0K16NwzT8K16NwPQrXP5qZmZmZmdk/9ihcj8L12D8pXI/C9SjMP0jhehSuR9E/H4XrUbge1T+amZmZmZnZPwAAAAAAANA/7FG4HoXr0T9SuB6F61HIPwrXo3A9Csc/UrgehetR2D8pXI/C9SjcP4/C9Shcj9I/mpmZmZmZ2T/D9Shcj8LVP7gehetRuM4/w/UoXI/C1T/NzMzMzMzcPzMzMzMzM9M/cT0K16Nw3T97FK5H4XqkP1K4HoXrUdg/16NwPQrX0z9I4XoUrkfRP9ejcD0K19M/mpmZmZmZuT/sUbgehevRP8P1KFyPwtU/zczMzMzM3D8AAAAAAADQPylcj8L1KMw/AAAAAAAA0D/2KFyPwvXYPx+F61G4HtU/AAAAAAAA0D9mZmZmZmbWP9ejcD0K19M/mpmZmZmZ2T8=",
          "dtype": "f8"
         },
         "yaxis": "y2"
        },
        {
         "mode": "lines+markers",
         "name": "acct10 Change",
         "type": "scatter",
         "x": {
          "bdata": "AQIDBAUGBwgJCgsMDQ4PEBESExQVFhcYGRobHB0eHyAhIiMkJSYnKCkqKywtLi8wMTIzNA==",
          "dtype": "i1"
         },
         "xaxis": "x2",
         "y": {
          "bdata": "16NwPQrX6z89CtejcD3aP+F6FK5H4fI/ZmZmZmZm1r9mZmZmZmbuv+xRuB6F68G/9ihcj8L18L+amZmZmZm5P5qZmZmZmak/AAAAAAAA6D+4HoXrUbiev+xRuB6F6+k/UrgehetR2L8UrkfhehTuPz0K16NwPfI/AAAAAAAA0L/hehSuR+HKv1yPwvUoXO8/AAAAAAAA6L/sUbgeheuxv5qZmZmZmck/SOF6FK5H4b+kcD0K16PAv+F6FK5H4cq/PQrXo3A98r/NzMzMzMzcvxSuR+F6FO4/CtejcD0Kxz89CtejcD32P3sUrkfhepQ/4XoUrkfhyr8fhetRuB7VP3E9CtejcM2/pHA9Ctej8L+4HoXrUbiev4/C9Shcj/K/hetRuB6F6z+4HoXrUbiev1K4HoXrUei/uB6F61G47r/NzMzMzMzkP3sUrkfhesQ/KVyPwvUo5L/sUbgehevpP8P1KFyPwu2/FK5H4XoU3j97FK5H4XrsP3sUrkfheqS/PQrXo3A94r9I4XoUrkfhv1K4HoXrUci/zczMzMzM3L8=",
          "dtype": "f8"
         },
         "yaxis": "y2"
        },
        {
         "line": {
          "color": "gray",
          "dash": "dot"
         },
         "mode": "lines+text",
         "name": "acct10 Volatility",
         "text": [
          "0.26",
          "0.32",
          "0.32",
          "0.30",
          "0.34",
          "0.42",
          "0.39",
          "0.15",
          "0.04",
          "0.39",
          "0.16",
          "0.28",
          "0.18",
          "0.12",
          "0.35",
          "0.38",
          "0.24",
          "0.04",
          "0.25",
          "0.34",
          "0.15",
          "0.32",
          "0.30",
          "0.36",
          "0.31",
          "0.20",
          "0.42",
          "0.28",
          "0.30",
          "0.21",
          "0.26",
          "0.21",
          "0.28",
          "0.47",
          "0.16",
          "0.14",
          "0.45",
          "0.28",
          "0.23",
          "0.40",
          "0.24",
          "0.48",
          "0.37",
          "0.25",
          "0.52",
          "0.24",
          "0.37",
          "0.33",
          "0.43",
          "0.46",
          "0.30",
          "0.22"
         ],
         "textfont": {
          "size": 9
         },
         "textposition": "top center",
         "type": "scatter",
         "x": {
          "bdata": "AQIDBAUGBwgJCgsMDQ4PEBESExQVFhcYGRobHB0eHyAhIiMkJSYnKCkqKywtLi8wMTIzNA==",
          "dtype": "i1"
         },
         "xaxis": "x2",
         "y": {
          "bdata": "pHA9Ctej0D97FK5H4XrUP3sUrkfhetQ/MzMzMzMz0z/D9Shcj8LVP+F6FK5H4do/9ihcj8L12D8zMzMzMzPDP3sUrkfheqQ/9ihcj8L12D97FK5H4XrEP+xRuB6F69E/CtejcD0Kxz+4HoXrUbi+P2ZmZmZmZtY/UrgehetR2D+4HoXrUbjOP3sUrkfheqQ/AAAAAAAA0D/D9Shcj8LVPzMzMzMzM8M/exSuR+F61D8zMzMzMzPTPwrXo3A9Ctc/16NwPQrX0z+amZmZmZnJP+F6FK5H4do/7FG4HoXr0T8zMzMzMzPTP+F6FK5H4co/pHA9Ctej0D/hehSuR+HKP+xRuB6F69E/FK5H4XoU3j97FK5H4XrEP+xRuB6F68E/zczMzMzM3D/sUbgehevRP3E9CtejcM0/mpmZmZmZ2T+4HoXrUbjOP7gehetRuN4/rkfhehSu1z8AAAAAAADQP6RwPQrXo+A/uB6F61G4zj+uR+F6FK7XPx+F61G4HtU/hetRuB6F2z9xPQrXo3DdPzMzMzMzM9M/KVyPwvUozD8=",
          "dtype": "f8"
         },
         "yaxis": "y2"
        },
        {
         "mode": "lines+markers",
         "name": "acct2 Change",
         "type": "scatter",
         "x": {
          "bdata": "AQIDBAUGBwgJCgsMDQ4PEBESExQVFhcYGRobHB0eHyAhIiMkJSYnKCkqKywtLi8wMTIzNA==",
          "dtype": "i1"
         },
         "xaxis": "x2",
         "y": {
          "bdata": "uB6F61G49r8zMzMzMzPrPzMzMzMzM+M/pHA9Ctej4D/sUbgehevhv8P1KFyPwtW/MzMzMzMz4z/NzMzMzMzwPz0K16NwPdo/cT0K16Nw3T/sUbgehevBP3sUrkfhevC/MzMzMzMzw79xPQrXo3DtP8P1KFyPwsW/uB6F61G45r97FK5H4XrEv3sUrkfheuQ/MzMzMzMz9789CtejcD3qv7gehetRuN4/w/UoXI/CxT8pXI/C9SjcP3sUrkfhetS/MzMzMzMzwz9I4XoUrkfhvx+F61G4HvW/UrgehetRyD8pXI/C9SjMP3sUrkfhetQ/mpmZmZmZ6T+PwvUoXI/SvxSuR+F6FO6/cT0K16Nwzb97FK5H4XqkvxSuR+F6FO6/pHA9Ctej9D/hehSuR+HKv1yPwvUoXN8/mpmZmZmZ2T/NzMzMzMzkP8P1KFyPwsW/w/UoXI/CxT+kcD0K16PAv4/C9Shcj+K/exSuR+F65D97FK5H4XqkPx+F61G4HvW/w/UoXI/C7T+uR+F6FK7zv+F6FK5H4eo/SOF6FK5H8T8=",
          "dtype": "f8"
         },
         "yaxis": "y2"
        },
        {
         "line": {
          "color": "gray",
          "dash": "dot"
         },
         "mode": "lines+text",
         "name": "acct2 Volatility",
         "text": [
          "0.28",
          "0.37",
          "0.35",
          "0.29",
          "0.22",
          "0.15",
          "0.26",
          "0.39",
          "0.32",
          "0.18",
          "0.32",
          "0.34",
          "0.21",
          "0.32",
          "0.31",
          "0.19",
          "0.34",
          "0.36",
          "0.41",
          "0.41",
          "0.16",
          "0.21",
          "0.35",
          "0.35",
          "0.35",
          "0.69",
          "0.36",
          "0.41",
          "0.40",
          "0.37",
          "0.27",
          "0.38",
          "0.22",
          "0.28",
          "0.25",
          "0.31",
          "0.53",
          "0.11",
          "0.37",
          "0.14",
          "0.25",
          "0.41",
          "0.31",
          "0.19",
          "0.23",
          "0.37",
          "0.23",
          "0.32",
          "0.30",
          "0.23",
          "0.51",
          "0.36"
         ],
         "textfont": {
          "size": 9
         },
         "textposition": "top center",
         "type": "scatter",
         "x": {
          "bdata": "AQIDBAUGBwgJCgsMDQ4PEBESExQVFhcYGRobHB0eHyAhIiMkJSYnKCkqKywtLi8wMTIzNA==",
          "dtype": "i1"
         },
         "xaxis": "x2",
         "y": {
          "bdata": "7FG4HoXr0T+uR+F6FK7XP2ZmZmZmZtY/j8L1KFyP0j8pXI/C9SjMPzMzMzMzM8M/pHA9Ctej0D/2KFyPwvXYP3sUrkfhetQ/CtejcD0Kxz97FK5H4XrUP8P1KFyPwtU/4XoUrkfhyj97FK5H4XrUP9ejcD0K19M/UrgehetRyD/D9Shcj8LVPwrXo3A9Ctc/PQrXo3A92j89CtejcD3aP3sUrkfhesQ/4XoUrkfhyj9mZmZmZmbWP2ZmZmZmZtY/ZmZmZmZm1j8UrkfhehTmPwrXo3A9Ctc/PQrXo3A92j+amZmZmZnZP65H4XoUrtc/SOF6FK5H0T9SuB6F61HYPylcj8L1KMw/7FG4HoXr0T8AAAAAAADQP9ejcD0K19M/9ihcj8L14D8pXI/C9Si8P65H4XoUrtc/7FG4HoXrwT8AAAAAAADQPz0K16NwPdo/16NwPQrX0z9SuB6F61HIP3E9CtejcM0/rkfhehSu1z9xPQrXo3DNP3sUrkfhetQ/MzMzMzMz0z9xPQrXo3DNP1K4HoXrUeA/CtejcD0K1z8=",
          "dtype": "f8"
         },
         "yaxis": "y2"
        },
        {
         "mode": "lines+markers",
         "name": "acct3 Change",
         "type": "scatter",
         "x": {
          "bdata": "AQIDBAUGBwgJCgsMDQ4PEBESExQVFhcYGRobHB0eHyAhIiMkJSYnKCkqKywtLi8wMTIzNA==",
          "dtype": "i1"
         },
         "xaxis": "x2",
         "y": {
          "bdata": "SOF6FK5H+T89CtejcD3iP4XrUbgeheu/pHA9Ctej8L8K16NwPQr3v+xRuB6F6/G/pHA9Ctej8L89CtejcD3aP1K4HoXrUei/mpmZmZmZyT8K16NwPQrvPxSuR+F6FPK/CtejcD0K1z+PwvUoXI/Sv4/C9Shcj/K/FK5H4XoU7j+F61G4HoXjP4XrUbgeheM/exSuR+F6pL8pXI/C9SjwPxSuR+F6FN6/SOF6FK5H0b97FK5H4XqUP4XrUbgehds/XI/C9Shc7z97FK5H4XrEv/YoXI/C9di/rkfhehSu5z97FK5H4Xrkvz0K16NwPeo/AAAAAAAA6D97FK5H4XqEPwrXo3A9Cuc/w/UoXI/CxT8AAAAAAAD0vwrXo3A9CvM/KVyPwvUovD+F61G4HoXbPylcj8L1KLw/j8L1KFyP6j+kcD0K16PAP7gehetRuO6/4XoUrkfh9j+PwvUoXI/Svylcj8L1KNy/CtejcD0K8z9xPQrXo3DxP+xRuB6F6+E/uB6F61G4nr+amZmZmZm5P5qZmZmZmbm/16NwPQrX678=",
          "dtype": "f8"
         },
         "yaxis": "y2"
        },
        {
         "line": {
          "color": "gray",
          "dash": "dot"
         },
         "mode": "lines+text",
         "name": "acct3 Volatility",
         "text": [
          "0.42",
          "0.38",
          "0.36",
          "0.36",
          "0.30",
          "0.21",
          "0.31",
          "0.23",
          "0.40",
          "0.29",
          "0.22",
          "0.27",
          "0.34",
          "0.24",
          "0.22",
          "0.32",
          "0.32",
          "0.25",
          "0.25",
          "0.32",
          "0.16",
          "0.16",
          "0.23",
          "0.28",
          "0.33",
          "0.45",
          "0.39",
          "0.28",
          "0.30",
          "0.20",
          "0.30",
          "0.27",
          "0.33",
          "0.22",
          "0.35",
          "0.45",
          "0.29",
          "0.34",
          "0.37",
          "0.26",
          "0.32",
          "0.30",
          "0.31",
          "0.22",
          "0.30",
          "0.35",
          "0.45",
          "0.40",
          "0.52",
          "0.22",
          "0.39",
          "0.32"
         ],
         "textfont": {
          "size": 9
         },
         "textposition": "top center",
         "type": "scatter",
         "x": {
          "bdata": "AQIDBAUGBwgJCgsMDQ4PEBESExQVFhcYGRobHB0eHyAhIiMkJSYnKCkqKywtLi8wMTIzNA==",
          "dtype": "i1"
         },
         "xaxis": "x2",
         "y": {
          "bdata": "4XoUrkfh2j9SuB6F61HYPwrXo3A9Ctc/CtejcD0K1z8zMzMzMzPTP+F6FK5H4co/16NwPQrX0z9xPQrXo3DNP5qZmZmZmdk/j8L1KFyP0j8pXI/C9SjMP0jhehSuR9E/w/UoXI/C1T+4HoXrUbjOPylcj8L1KMw/exSuR+F61D97FK5H4XrUPwAAAAAAANA/AAAAAAAA0D97FK5H4XrUP3sUrkfhesQ/exSuR+F6xD9xPQrXo3DNP+xRuB6F69E/H4XrUbge1T/NzMzMzMzcP/YoXI/C9dg/7FG4HoXr0T8zMzMzMzPTP5qZmZmZmck/MzMzMzMz0z9I4XoUrkfRPx+F61G4HtU/KVyPwvUozD9mZmZmZmbWP83MzMzMzNw/j8L1KFyP0j/D9Shcj8LVP65H4XoUrtc/pHA9Ctej0D97FK5H4XrUPzMzMzMzM9M/16NwPQrX0z8pXI/C9SjMPzMzMzMzM9M/ZmZmZmZm1j/NzMzMzMzcP5qZmZmZmdk/pHA9Ctej4D8pXI/C9SjMP/YoXI/C9dg/exSuR+F61D8=",
          "dtype": "f8"
         },
         "yaxis": "y2"
        },
        {
         "mode": "lines+markers",
         "name": "acct4 Change",
         "type": "scatter",
         "x": {
          "bdata": "AQIDBAUGBwgJCgsMDQ4PEBESExQVFhcYGRobHB0eHyAhIiMkJSYnKCkqKywtLi8wMTIzNA==",
          "dtype": "i1"
         },
         "xaxis": "x2",
         "y": {
          "bdata": "UrgehetRyL+amZmZmZm5P9ejcD0K19M/7FG4HoXrwb/D9Shcj8LFv65H4XoUruc/KVyPwvUo3L8zMzMzMzPTv7gehetRuM4/H4XrUbge7T8pXI/C9Sjkv4/C9Shcj+I/CtejcD0Kxz9cj8L1KFzvv5qZmZmZmbm/MzMzMzMz4z/hehSuR+HKvx+F61G4HtW/exSuR+F6hD97FK5H4Xrkv5qZmZmZmeG/cT0K16Nw7b9cj8L1KFzfv6RwPQrXo/C/7FG4HoXr4b+4HoXrUbjmPxSuR+F6FPa/mpmZmZmZ4b8K16NwPQrvPylcj8L1KLy/zczMzMzM3D/hehSuR+Hqv+F6FK5H4eK/uB6F61G47r/Xo3A9CtfTv65H4XoUrte/SOF6FK5H4b9mZmZmZmbuvx+F61G4Hu2/4XoUrkfhyr8UrkfhehTev5qZmZmZmdm/CtejcD0Ktz8AAAAAAADwPx+F61G4HuW/AAAAAAAA4D/Xo3A9CtfjP7gehetRuO6/7FG4HoXrwT9I4XoUrkfhPwrXo3A9Cve/mpmZmZmZ4b8=",
          "dtype": "f8"
         },
         "yaxis": "y2"
        },
        {
         "line": {
          "color": "gray",
          "dash": "dot"
         },
         "mode": "lines+text",
         "name": "acct4 Volatility",
         "text": [
          "0.36",
          "0.38",
          "0.25",
          "0.24",
          "0.27",
          "0.07",
          "0.15",
          "0.44",
          "0.46",
          "0.28",
          "0.36",
          "0.33",
          "0.61",
          "0.41",
          "0.29",
          "0.20",
          "0.14",
          "0.32",
          "0.22",
          "0.16",
          "0.24",
          "0.19",
          "0.47",
          "0.39",
          "0.30",
          "0.45",
          "0.31",
          "0.21",
          "0.45",
          "0.35",
          "0.20",
          "0.28",
          "0.21",
          "0.16",
          "0.39",
          "0.49",
          "0.16",
          "0.36",
          "0.23",
          "0.25",
          "0.24",
          "0.21",
          "0.30",
          "0.22",
          "0.33",
          "0.29",
          "0.28",
          "0.21",
          "0.24",
          "0.38",
          "0.35",
          "0.20"
         ],
         "textfont": {
          "size": 9
         },
         "textposition": "top center",
         "type": "scatter",
         "x": {
          "bdata": "AQIDBAUGBwgJCgsMDQ4PEBESExQVFhcYGRobHB0eHyAhIiMkJSYnKCkqKywtLi8wMTIzNA==",
          "dtype": "i1"
         },
         "xaxis": "x2",
         "y": {
          "bdata": "CtejcD0K1z9SuB6F61HYPwAAAAAAANA/uB6F61G4zj9I4XoUrkfRP+xRuB6F67E/MzMzMzMzwz8pXI/C9SjcP3E9CtejcN0/7FG4HoXr0T8K16NwPQrXPx+F61G4HtU/hetRuB6F4z89CtejcD3aP4/C9Shcj9I/mpmZmZmZyT/sUbgehevBP3sUrkfhetQ/KVyPwvUozD97FK5H4XrEP7gehetRuM4/UrgehetRyD8UrkfhehTeP/YoXI/C9dg/MzMzMzMz0z/NzMzMzMzcP9ejcD0K19M/4XoUrkfhyj/NzMzMzMzcP2ZmZmZmZtY/mpmZmZmZyT/sUbgehevRP+F6FK5H4co/exSuR+F6xD/2KFyPwvXYP1yPwvUoXN8/exSuR+F6xD8K16NwPQrXP3E9CtejcM0/AAAAAAAA0D+4HoXrUbjOP+F6FK5H4co/MzMzMzMz0z8pXI/C9SjMPx+F61G4HtU/j8L1KFyP0j/sUbgehevRP+F6FK5H4co/uB6F61G4zj9SuB6F61HYP2ZmZmZmZtY/mpmZmZmZyT8=",
          "dtype": "f8"
         },
         "yaxis": "y2"
        },
        {
         "mode": "lines+markers",
         "name": "acct5 Change",
         "type": "scatter",
         "x": {
          "bdata": "AQIDBAUGBwgJCgsMDQ4PEBESExQVFhcYGRobHB0eHyAhIiMkJSYnKCkqKywtLi8wMTIzNA==",
          "dtype": "i1"
         },
         "xaxis": "x2",
         "y": {
          "bdata": "MzMzMzMz078fhetRuB7VP3sUrkfhesS/CtejcD0Kxz/D9Shcj8LVv3sUrkfhepS/9ihcj8L12D97FK5H4XqUP5qZmZmZmfG/j8L1KFyP9j9I4XoUrkfhP5qZmZmZmak/AAAAAAAA4L8AAAAAAADQP3sUrkfherQ/4XoUrkfhyj/hehSuR+HaP0jhehSuR+k/pHA9Ctej6L9cj8L1KFzfv4/C9Shcj9K/16NwPQrX4z+kcD0K16Pwv1yPwvUoXN8/mpmZmZmZyT8UrkfhehTuP+xRuB6F68G/mpmZmZmZ4T/D9Shcj8Llv3sUrkfhetQ/FK5H4XoU3r+kcD0K16PQvylcj8L1KNw/9ihcj8L12L8AAAAAAADov3sUrkfhepQ/uB6F61G4nr9xPQrXo3DdPwAAAAAAAAAAhetRuB6F4z/sUbgehevxv5qZmZmZmck/PQrXo3A94r9I4XoUrkfpPwAAAAAAAAAAexSuR+F6tL8K16NwPQq3v65H4XoUrvM/H4XrUbge5b8pXI/C9SjMP5qZmZmZmbm/4XoUrkfhyj8=",
          "dtype": "f8"
         },
         "yaxis": "y2"
        },
        {
         "line": {
          "color": "gray",
          "dash": "dot"
         },
         "mode": "lines+text",
         "name": "acct5 Volatility",
         "text": [
          "0.31",
          "0.37",
          "0.35",
          "0.32",
          "0.22",
          "0.35",
          "0.49",
          "0.43",
          "0.46",
          "0.25",
          "0.20",
          "0.29",
          "0.31",
          "0.41",
          "0.13",
          "0.45",
          "0.28",
          "0.26",
          "0.20",
          "0.13",
          "0.38",
          "0.31",
          "0.17",
          "0.17",
          "0.27",
          "0.47",
          "0.27",
          "0.15",
          "0.28",
          "0.27",
          "0.03",
          "0.29",
          "0.28",
          "0.37",
          "0.48",
          "0.41",
          "0.27",
          "0.19",
          "0.56",
          "0.31",
          "0.30",
          "0.30",
          "0.32",
          "0.29",
          "0.24",
          "0.25",
          "0.30",
          "0.25",
          "0.23",
          "0.31",
          "0.27",
          "0.45"
         ],
         "textfont": {
          "size": 9
         },
         "textposition": "top center",
         "type": "scatter",
         "x": {
          "bdata": "AQIDBAUGBwgJCgsMDQ4PEBESExQVFhcYGRobHB0eHyAhIiMkJSYnKCkqKywtLi8wMTIzNA==",
          "dtype": "i1"
         },
         "xaxis": "x2",
         "y": {
          "bdata": "16NwPQrX0z+uR+F6FK7XP2ZmZmZmZtY/exSuR+F61D8pXI/C9SjMP2ZmZmZmZtY/XI/C9Shc3z+F61G4HoXbP3E9CtejcN0/AAAAAAAA0D+amZmZmZnJP4/C9Shcj9I/16NwPQrX0z89CtejcD3aP6RwPQrXo8A/zczMzMzM3D/sUbgehevRP6RwPQrXo9A/mpmZmZmZyT+kcD0K16PAP1K4HoXrUdg/16NwPQrX0z/D9Shcj8LFP8P1KFyPwsU/SOF6FK5H0T8UrkfhehTeP0jhehSuR9E/MzMzMzMzwz/sUbgehevRP0jhehSuR9E/uB6F61G4nj+PwvUoXI/SP+xRuB6F69E/rkfhehSu1z+4HoXrUbjePz0K16NwPdo/SOF6FK5H0T9SuB6F61HIP+xRuB6F6+E/16NwPQrX0z8zMzMzMzPTPzMzMzMzM9M/exSuR+F61D+PwvUoXI/SP7gehetRuM4/AAAAAAAA0D8zMzMzMzPTPwAAAAAAANA/cT0K16NwzT/Xo3A9CtfTP0jhehSuR9E/zczMzMzM3D8=",
          "dtype": "f8"
         },
         "yaxis": "y2"
        },
        {
         "mode": "lines+markers",
         "name": "acct6 Change",
         "type": "scatter",
         "x": {
          "bdata": "AQIDBAUGBwgJCgsMDQ4PEBESExQVFhcYGRobHB0eHyAhIiMkJSYnKCkqKywtLi8wMTIzNA==",
          "dtype": "i1"
         },
         "xaxis": "x2",
         "y": {
          "bdata": "MzMzMzMzw78K16NwPQrXv2ZmZmZmZtY/KVyPwvUozL9mZmZmZmbmv65H4XoUru8/7FG4HoXr6T8UrkfhehTeP7gehetRuJ4/7FG4HoXr4b+amZmZmZnxvylcj8L1KPQ/j8L1KFyP0r8AAAAAAAAAgI/C9Shcj+K/exSuR+F6lD+amZmZmZm5v1K4HoXrUdg/exSuR+F67L9cj8L1KFzzv65H4XoUrue/16NwPQrX6z9cj8L1KFzzP5qZmZmZmbm/AAAAAAAA4D9I4XoUrkfRPx+F61G4HuW/exSuR+F68D8AAAAAAADgv7gehetRuL6/CtejcD0Ktz9SuB6F61Hov4/C9Shcj+K/XI/C9Shc8z97FK5H4Xrwv5qZmZmZmak/ZmZmZmZm5r/2KFyPwvXYv4XrUbgeheO/7FG4HoXrsT+F61G4HoXrP4/C9Shcj+K/uB6F61G4vr8K16NwPQq3P3sUrkfhesQ/9ihcj8L18D/2KFyPwvXgP1K4HoXrUfC/FK5H4XoU3r+4HoXrUbiuP3sUrkfheoQ/KVyPwvUo8L8=",
          "dtype": "f8"
         },
         "yaxis": "y2"
        },
        {
         "line": {
          "color": "gray",
          "dash": "dot"
         },
         "mode": "lines+text",
         "name": "acct6 Volatility",
         "text": [
          "0.56",
          "0.29",
          "0.41",
          "0.23",
          "0.30",
          "0.48",
          "0.24",
          "0.48",
          "0.37",
          "0.24",
          "0.36",
          "0.40",
          "0.36",
          "0.14",
          "0.23",
          "0.28",
          "0.29",
          "0.36",
          "0.32",
          "0.17",
          "0.34",
          "0.36",
          "0.36",
          "0.41",
          "0.38",
          "0.35",
          "0.29",
          "0.13",
          "0.34",
          "0.32",
          "0.33",
          "0.17",
          "0.19",
          "0.41",
          "0.30",
          "0.37",
          "0.30",
          "0.30",
          "0.39",
          "0.25",
          "0.31",
          "0.25",
          "0.26",
          "0.27",
          "0.32",
          "0.25",
          "0.43",
          "0.21",
          "0.28",
          "0.26",
          "0.44",
          "0.32"
         ],
         "textfont": {
          "size": 9
         },
         "textposition": "top center",
         "type": "scatter",
         "x": {
          "bdata": "AQIDBAUGBwgJCgsMDQ4PEBESExQVFhcYGRobHB0eHyAhIiMkJSYnKCkqKywtLi8wMTIzNA==",
          "dtype": "i1"
         },
         "xaxis": "x2",
         "y": {
          "bdata": "7FG4HoXr4T+PwvUoXI/SPz0K16NwPdo/cT0K16NwzT8zMzMzMzPTP7gehetRuN4/uB6F61G4zj+4HoXrUbjeP65H4XoUrtc/uB6F61G4zj8K16NwPQrXP5qZmZmZmdk/CtejcD0K1z/sUbgehevBP3E9CtejcM0/7FG4HoXr0T+PwvUoXI/SPwrXo3A9Ctc/exSuR+F61D/D9Shcj8LFP8P1KFyPwtU/CtejcD0K1z8K16NwPQrXPz0K16NwPdo/UrgehetR2D9mZmZmZmbWP4/C9Shcj9I/pHA9CtejwD/D9Shcj8LVP3sUrkfhetQ/H4XrUbge1T/D9Shcj8LFP1K4HoXrUcg/PQrXo3A92j8zMzMzMzPTP65H4XoUrtc/MzMzMzMz0z8zMzMzMzPTP/YoXI/C9dg/AAAAAAAA0D/Xo3A9CtfTPwAAAAAAANA/pHA9Ctej0D9I4XoUrkfRP3sUrkfhetQ/AAAAAAAA0D+F61G4HoXbP+F6FK5H4co/7FG4HoXr0T+kcD0K16PQPylcj8L1KNw/exSuR+F61D8=",
          "dtype": "f8"
         },
         "yaxis": "y2"
        },
        {
         "mode": "lines+markers",
         "name": "acct7 Change",
         "type": "scatter",
         "x": {
          "bdata": "AQIDBAUGBwgJCgsMDQ4PEBESExQVFhcYGRobHB0eHyAhIiMkJSYnKCkqKywtLi8wMTIzNA==",
          "dtype": "i1"
         },
         "xaxis": "x2",
         "y": {
          "bdata": "ZmZmZmZm7j/NzMzMzMzwP3E9CtejcO0/UrgehetR8D+uR+F6FK7XP9ejcD0K19M/MzMzMzMz678AAAAAAADQP3E9CtejcN2/uB6F61G4rj+F61G4HoXbPylcj8L1KNy/mpmZmZmZ6b9SuB6F61Hov9ejcD0K1+M/pHA9Ctej8L89CtejcD3iP4/C9Shcj+K/w/UoXI/Cxb9I4XoUrkfhv8P1KFyPwsU/exSuR+F6tL/hehSuR+HiP6RwPQrXo9A/UrgehetR6L+uR+F6FK7nP+F6FK5H4eI/uB6F61G4nr9mZmZmZmbyPwAAAAAAAPA/ZmZmZmZm1j/D9Shcj8LlP3E9CtejcN0/AAAAAAAA0L97FK5H4XrEPzMzMzMzM9M/XI/C9Shc77/D9Shcj8LlP3sUrkfhevQ/AAAAAAAA6L+4HoXrUbjePz0K16NwPeK/CtejcD0Ktz9SuB6F61HoPx+F61G4HuW/KVyPwvUo3D/Xo3A9CtfrP6RwPQrXo8A/CtejcD0K57+4HoXrUbjOv5qZmZmZmeE/mpmZmZmZ6T8=",
          "dtype": "f8"
         },
         "yaxis": "y2"
        },
        {
         "line": {
          "color": "gray",
          "dash": "dot"
         },
         "mode": "lines+text",
         "name": "acct7 Volatility",
         "text": [
          "0.16",
          "0.37",
          "0.36",
          "0.52",
          "0.27",
          "0.32",
          "0.32",
          "0.46",
          "0.29",
          "0.33",
          "0.36",
          "0.32",
          "0.26",
          "0.32",
          "0.41",
          "0.20",
          "0.31",
          "0.23",
          "0.42",
          "0.15",
          "0.24",
          "0.34",
          "0.46",
          "0.29",
          "0.24",
          "0.49",
          "0.16",
          "0.08",
          "0.34",
          "0.25",
          "0.20",
          "0.37",
          "0.32",
          "0.24",
          "0.17",
          "0.39",
          "0.37",
          "0.29",
          "0.48",
          "0.19",
          "0.15",
          "0.23",
          "0.30",
          "0.32",
          "0.28",
          "0.34",
          "0.17",
          "0.44",
          "0.29",
          "0.41",
          "0.33",
          "0.35"
         ],
         "textfont": {
          "size": 9
         },
         "textposition": "top center",
         "type": "scatter",
         "x": {
          "bdata": "AQIDBAUGBwgJCgsMDQ4PEBESExQVFhcYGRobHB0eHyAhIiMkJSYnKCkqKywtLi8wMTIzNA==",
          "dtype": "i1"
         },
         "xaxis": "x2",
         "y": {
          "bdata": "exSuR+F6xD+uR+F6FK7XPwrXo3A9Ctc/pHA9Ctej4D9I4XoUrkfRP3sUrkfhetQ/exSuR+F61D9xPQrXo3DdP4/C9Shcj9I/H4XrUbge1T8K16NwPQrXP3sUrkfhetQ/pHA9Ctej0D97FK5H4XrUPz0K16NwPdo/mpmZmZmZyT/Xo3A9CtfTP3E9CtejcM0/4XoUrkfh2j8zMzMzMzPDP7gehetRuM4/w/UoXI/C1T9xPQrXo3DdP4/C9Shcj9I/uB6F61G4zj9cj8L1KFzfP3sUrkfhesQ/exSuR+F6tD/D9Shcj8LVPwAAAAAAANA/mpmZmZmZyT+uR+F6FK7XP3sUrkfhetQ/uB6F61G4zj/D9Shcj8LFP/YoXI/C9dg/rkfhehSu1z+PwvUoXI/SP7gehetRuN4/UrgehetRyD8zMzMzMzPDP3E9CtejcM0/MzMzMzMz0z97FK5H4XrUP+xRuB6F69E/w/UoXI/C1T/D9Shcj8LFPylcj8L1KNw/j8L1KFyP0j89CtejcD3aPx+F61G4HtU/ZmZmZmZm1j8=",
          "dtype": "f8"
         },
         "yaxis": "y2"
        },
        {
         "mode": "lines+markers",
         "name": "acct8 Change",
         "type": "scatter",
         "x": {
          "bdata": "AQIDBAUGBwgJCgsMDQ4PEBESExQVFhcYGRobHB0eHyAhIiMkJSYnKCkqKywtLi8wMTIzNA==",
          "dtype": "i1"
         },
         "xaxis": "x2",
         "y": {
          "bdata": "SOF6FK5H4b97FK5H4Xq0vwrXo3A9Cuc/4XoUrkfh4j+4HoXrUbjOP3sUrkfhepS/uB6F61G4zj8zMzMzMzPDP1K4HoXrUfC/16NwPQrX07/sUbgehevhv9ejcD0K1+O/AAAAAAAA8D89CtejcD3avwAAAAAAAPA/KVyPwvUozL8K16NwPQq3P+xRuB6F6+E/UrgehetR2D/Xo3A9CtfTPylcj8L1KNw/SOF6FK5H6T9mZmZmZmbWv83MzMzMzOQ/CtejcD0K9z97FK5H4Xqkv1K4HoXrUeC/pHA9CtejwD/Xo3A9Ctfrv+F6FK5H4eq/9ihcj8L12L+amZmZmZmpP4XrUbgehfM/4XoUrkfh4j89CtejcD3aP+xRuB6F68E/mpmZmZmZqT8pXI/C9Sjkv2ZmZmZmZvI/uB6F61G45r97FK5H4XrkPz0K16NwPeI/w/UoXI/Cxb9cj8L1KFzfP3sUrkfherS/AAAAAAAA6D8UrkfhehTeP+F6FK5H4eK/uB6F61G4nj/sUbgeheuxv/YoXI/C9eA/hetRuB6F878=",
          "dtype": "f8"
         },
         "yaxis": "y2"
        },
        {
         "line": {
          "color": "gray",
          "dash": "dot"
         },
         "mode": "lines+text",
         "name": "acct8 Volatility",
         "text": [
          "0.45",
          "0.44",
          "0.24",
          "0.34",
          "0.35",
          "0.33",
          "0.24",
          "0.23",
          "0.30",
          "0.42",
          "0.35",
          "0.26",
          "0.38",
          "0.02",
          "0.41",
          "0.13",
          "0.26",
          "0.19",
          "0.17",
          "0.42",
          "0.25",
          "0.33",
          "0.30",
          "0.35",
          "0.31",
          "0.17",
          "0.40",
          "0.25",
          "0.14",
          "0.26",
          "0.45",
          "0.39",
          "0.27",
          "0.27",
          "0.27",
          "0.51",
          "0.34",
          "0.34",
          "0.40",
          "0.32",
          "0.27",
          "0.28",
          "0.29",
          "0.30",
          "0.37",
          "0.31",
          "0.37",
          "0.29",
          "0.31",
          "0.10",
          "0.39",
          "0.33"
         ],
         "textfont": {
          "size": 9
         },
         "textposition": "top center",
         "type": "scatter",
         "x": {
          "bdata": "AQIDBAUGBwgJCgsMDQ4PEBESExQVFhcYGRobHB0eHyAhIiMkJSYnKCkqKywtLi8wMTIzNA==",
          "dtype": "i1"
         },
         "xaxis": "x2",
         "y": {
          "bdata": "zczMzMzM3D8pXI/C9SjcP7gehetRuM4/w/UoXI/C1T9mZmZmZmbWPx+F61G4HtU/uB6F61G4zj9xPQrXo3DNPzMzMzMzM9M/4XoUrkfh2j9mZmZmZmbWP6RwPQrXo9A/UrgehetR2D97FK5H4XqUPz0K16NwPdo/pHA9CtejwD+kcD0K16PQP1K4HoXrUcg/w/UoXI/CxT/hehSuR+HaPwAAAAAAANA/H4XrUbge1T8zMzMzMzPTP2ZmZmZmZtY/16NwPQrX0z/D9Shcj8LFP5qZmZmZmdk/AAAAAAAA0D/sUbgehevBP6RwPQrXo9A/zczMzMzM3D/2KFyPwvXYP0jhehSuR9E/SOF6FK5H0T9I4XoUrkfRP1K4HoXrUeA/w/UoXI/C1T/D9Shcj8LVP5qZmZmZmdk/exSuR+F61D9I4XoUrkfRP+xRuB6F69E/j8L1KFyP0j8zMzMzMzPTP65H4XoUrtc/16NwPQrX0z+uR+F6FK7XP4/C9Shcj9I/16NwPQrX0z+amZmZmZm5P/YoXI/C9dg/H4XrUbge1T8=",
          "dtype": "f8"
         },
         "yaxis": "y2"
        },
        {
         "mode": "lines+markers",
         "name": "acct9 Change",
         "type": "scatter",
         "x": {
          "bdata": "AQIDBAUGBwgJCgsMDQ4PEBESExQVFhcYGRobHB0eHyAhIiMkJSYnKCkqKywtLi8wMTIzNA==",
          "dtype": "i1"
         },
         "xaxis": "x2",
         "y": {
          "bdata": "UrgehetR4L+4HoXrUbjev7gehetRuN6/H4XrUbge9b/Xo3A9CtfTP+F6FK5H4eI/CtejcD0K1797FK5H4XqkP6RwPQrXo8A/CtejcD0K1z9I4XoUrkfhP3sUrkfherQ/j8L1KFyP8r8fhetRuB7Vv+xRuB6F67G/CtejcD0Kx797FK5H4XrUP+F6FK5H4cq/SOF6FK5H0T8pXI/C9Si8P+F6FK5H4eI/w/UoXI/CxT8UrkfhehTmP+F6FK5H4eK/7FG4HoXr0b+amZmZmZnpv7gehetRuJ6/ZmZmZmZm5j8zMzMzMzPDv83MzMzMzOw/CtejcD0Kx7+uR+F6FK7vP7gehetRuM6/exSuR+F67L97FK5H4XqEP/YoXI/C9eC/KVyPwvUozL+amZmZmZm5v65H4XoUrtc/exSuR+F61L/D9Shcj8Ltv65H4XoUrtc/mpmZmZmZuT+amZmZmZnxv7gehetRuK6/exSuR+F6hL97FK5H4Xrkv4XrUbgeheM/hetRuB6F4797FK5H4XqUPxSuR+F6FOY/16NwPQrX678=",
          "dtype": "f8"
         },
         "yaxis": "y2"
        },
        {
         "line": {
          "color": "gray",
          "dash": "dot"
         },
         "mode": "lines+text",
         "name": "acct9 Volatility",
         "text": [
          "0.14",
          "0.34",
          "0.30",
          "0.36",
          "0.32",
          "0.44",
          "0.31",
          "0.26",
          "0.31",
          "0.35",
          "0.30",
          "0.30",
          "0.23",
          "0.23",
          "0.16",
          "0.47",
          "0.18",
          "0.23",
          "0.23",
          "0.39",
          "0.27",
          "0.42",
          "0.23",
          "0.33",
          "0.22",
          "0.51",
          "0.18",
          "0.33",
          "0.36",
          "0.34",
          "0.28",
          "0.29",
          "0.30",
          "0.29",
          "0.40",
          "0.52",
          "0.24",
          "0.16",
          "0.29",
          "0.56",
          "0.22",
          "0.46",
          "0.47",
          "0.24",
          "0.36",
          "0.46",
          "0.26",
          "0.28",
          "0.24",
          "0.20",
          "0.24",
          "0.18"
         ],
         "textfont": {
          "size": 9
         },
         "textposition": "top center",
         "type": "scatter",
         "x": {
          "bdata": "AQIDBAUGBwgJCgsMDQ4PEBESExQVFhcYGRobHB0eHyAhIiMkJSYnKCkqKywtLi8wMTIzNA==",
          "dtype": "i1"
         },
         "xaxis": "x2",
         "y": {
          "bdata": "7FG4HoXrwT/D9Shcj8LVPzMzMzMzM9M/CtejcD0K1z97FK5H4XrUPylcj8L1KNw/16NwPQrX0z+kcD0K16PQP9ejcD0K19M/ZmZmZmZm1j8zMzMzMzPTPzMzMzMzM9M/cT0K16NwzT9xPQrXo3DNP3sUrkfhesQ/FK5H4XoU3j8K16NwPQrHP3E9CtejcM0/cT0K16NwzT/2KFyPwvXYP0jhehSuR9E/4XoUrkfh2j9xPQrXo3DNPx+F61G4HtU/KVyPwvUozD9SuB6F61HgPwrXo3A9Csc/H4XrUbge1T8K16NwPQrXP8P1KFyPwtU/7FG4HoXr0T+PwvUoXI/SPzMzMzMzM9M/j8L1KFyP0j+amZmZmZnZP6RwPQrXo+A/uB6F61G4zj97FK5H4XrEP4/C9Shcj9I/7FG4HoXr4T8pXI/C9SjMP3E9CtejcN0/FK5H4XoU3j+4HoXrUbjOPwrXo3A9Ctc/cT0K16Nw3T+kcD0K16PQP+xRuB6F69E/uB6F61G4zj+amZmZmZnJP7gehetRuM4/CtejcD0Kxz8=",
          "dtype": "f8"
         },
         "yaxis": "y2"
        }
       ],
       "layout": {
        "annotations": [
         {
          "font": {
           "size": 16
          },
          "showarrow": false,
          "text": "Stocking Change Heatmap (All Accounts)",
          "x": 0.5,
          "xanchor": "center",
          "xref": "paper",
          "y": 1,
          "yanchor": "bottom",
          "yref": "paper"
         },
         {
          "font": {
           "size": 16
          },
          "showarrow": false,
          "text": "Stocking Change & Volatility Lines",
          "x": 0.5,
          "xanchor": "center",
          "xref": "paper",
          "y": 0.45,
          "yanchor": "bottom",
          "yref": "paper"
         }
        ],
        "font": {
         "family": "Courier New",
         "size": 10
        },
        "height": 900,
        "template": {
         "data": {
          "bar": [
           {
            "error_x": {
             "color": "#2a3f5f"
            },
            "error_y": {
             "color": "#2a3f5f"
            },
            "marker": {
             "line": {
              "color": "#E5ECF6",
              "width": 0.5
             },
             "pattern": {
              "fillmode": "overlay",
              "size": 10,
              "solidity": 0.2
             }
            },
            "type": "bar"
           }
          ],
          "barpolar": [
           {
            "marker": {
             "line": {
              "color": "#E5ECF6",
              "width": 0.5
             },
             "pattern": {
              "fillmode": "overlay",
              "size": 10,
              "solidity": 0.2
             }
            },
            "type": "barpolar"
           }
          ],
          "carpet": [
           {
            "aaxis": {
             "endlinecolor": "#2a3f5f",
             "gridcolor": "white",
             "linecolor": "white",
             "minorgridcolor": "white",
             "startlinecolor": "#2a3f5f"
            },
            "baxis": {
             "endlinecolor": "#2a3f5f",
             "gridcolor": "white",
             "linecolor": "white",
             "minorgridcolor": "white",
             "startlinecolor": "#2a3f5f"
            },
            "type": "carpet"
           }
          ],
          "choropleth": [
           {
            "colorbar": {
             "outlinewidth": 0,
             "ticks": ""
            },
            "type": "choropleth"
           }
          ],
          "contour": [
           {
            "colorbar": {
             "outlinewidth": 0,
             "ticks": ""
            },
            "colorscale": [
             [
              0,
              "#0d0887"
             ],
             [
              0.1111111111111111,
              "#46039f"
             ],
             [
              0.2222222222222222,
              "#7201a8"
             ],
             [
              0.3333333333333333,
              "#9c179e"
             ],
             [
              0.4444444444444444,
              "#bd3786"
             ],
             [
              0.5555555555555556,
              "#d8576b"
             ],
             [
              0.6666666666666666,
              "#ed7953"
             ],
             [
              0.7777777777777778,
              "#fb9f3a"
             ],
             [
              0.8888888888888888,
              "#fdca26"
             ],
             [
              1,
              "#f0f921"
             ]
            ],
            "type": "contour"
           }
          ],
          "contourcarpet": [
           {
            "colorbar": {
             "outlinewidth": 0,
             "ticks": ""
            },
            "type": "contourcarpet"
           }
          ],
          "heatmap": [
           {
            "colorbar": {
             "outlinewidth": 0,
             "ticks": ""
            },
            "colorscale": [
             [
              0,
              "#0d0887"
             ],
             [
              0.1111111111111111,
              "#46039f"
             ],
             [
              0.2222222222222222,
              "#7201a8"
             ],
             [
              0.3333333333333333,
              "#9c179e"
             ],
             [
              0.4444444444444444,
              "#bd3786"
             ],
             [
              0.5555555555555556,
              "#d8576b"
             ],
             [
              0.6666666666666666,
              "#ed7953"
             ],
             [
              0.7777777777777778,
              "#fb9f3a"
             ],
             [
              0.8888888888888888,
              "#fdca26"
             ],
             [
              1,
              "#f0f921"
             ]
            ],
            "type": "heatmap"
           }
          ],
          "histogram": [
           {
            "marker": {
             "pattern": {
              "fillmode": "overlay",
              "size": 10,
              "solidity": 0.2
             }
            },
            "type": "histogram"
           }
          ],
          "histogram2d": [
           {
            "colorbar": {
             "outlinewidth": 0,
             "ticks": ""
            },
            "colorscale": [
             [
              0,
              "#0d0887"
             ],
             [
              0.1111111111111111,
              "#46039f"
             ],
             [
              0.2222222222222222,
              "#7201a8"
             ],
             [
              0.3333333333333333,
              "#9c179e"
             ],
             [
              0.4444444444444444,
              "#bd3786"
             ],
             [
              0.5555555555555556,
              "#d8576b"
             ],
             [
              0.6666666666666666,
              "#ed7953"
             ],
             [
              0.7777777777777778,
              "#fb9f3a"
             ],
             [
              0.8888888888888888,
              "#fdca26"
             ],
             [
              1,
              "#f0f921"
             ]
            ],
            "type": "histogram2d"
           }
          ],
          "histogram2dcontour": [
           {
            "colorbar": {
             "outlinewidth": 0,
             "ticks": ""
            },
            "colorscale": [
             [
              0,
              "#0d0887"
             ],
             [
              0.1111111111111111,
              "#46039f"
             ],
             [
              0.2222222222222222,
              "#7201a8"
             ],
             [
              0.3333333333333333,
              "#9c179e"
             ],
             [
              0.4444444444444444,
              "#bd3786"
             ],
             [
              0.5555555555555556,
              "#d8576b"
             ],
             [
              0.6666666666666666,
              "#ed7953"
             ],
             [
              0.7777777777777778,
              "#fb9f3a"
             ],
             [
              0.8888888888888888,
              "#fdca26"
             ],
             [
              1,
              "#f0f921"
             ]
            ],
            "type": "histogram2dcontour"
           }
          ],
          "mesh3d": [
           {
            "colorbar": {
             "outlinewidth": 0,
             "ticks": ""
            },
            "type": "mesh3d"
           }
          ],
          "parcoords": [
           {
            "line": {
             "colorbar": {
              "outlinewidth": 0,
              "ticks": ""
             }
            },
            "type": "parcoords"
           }
          ],
          "pie": [
           {
            "automargin": true,
            "type": "pie"
           }
          ],
          "scatter": [
           {
            "fillpattern": {
             "fillmode": "overlay",
             "size": 10,
             "solidity": 0.2
            },
            "type": "scatter"
           }
          ],
          "scatter3d": [
           {
            "line": {
             "colorbar": {
              "outlinewidth": 0,
              "ticks": ""
             }
            },
            "marker": {
             "colorbar": {
              "outlinewidth": 0,
              "ticks": ""
             }
            },
            "type": "scatter3d"
           }
          ],
          "scattercarpet": [
           {
            "marker": {
             "colorbar": {
              "outlinewidth": 0,
              "ticks": ""
             }
            },
            "type": "scattercarpet"
           }
          ],
          "scattergeo": [
           {
            "marker": {
             "colorbar": {
              "outlinewidth": 0,
              "ticks": ""
             }
            },
            "type": "scattergeo"
           }
          ],
          "scattergl": [
           {
            "marker": {
             "colorbar": {
              "outlinewidth": 0,
              "ticks": ""
             }
            },
            "type": "scattergl"
           }
          ],
          "scattermap": [
           {
            "marker": {
             "colorbar": {
              "outlinewidth": 0,
              "ticks": ""
             }
            },
            "type": "scattermap"
           }
          ],
          "scattermapbox": [
           {
            "marker": {
             "colorbar": {
              "outlinewidth": 0,
              "ticks": ""
             }
            },
            "type": "scattermapbox"
           }
          ],
          "scatterpolar": [
           {
            "marker": {
             "colorbar": {
              "outlinewidth": 0,
              "ticks": ""
             }
            },
            "type": "scatterpolar"
           }
          ],
          "scatterpolargl": [
           {
            "marker": {
             "colorbar": {
              "outlinewidth": 0,
              "ticks": ""
             }
            },
            "type": "scatterpolargl"
           }
          ],
          "scatterternary": [
           {
            "marker": {
             "colorbar": {
              "outlinewidth": 0,
              "ticks": ""
             }
            },
            "type": "scatterternary"
           }
          ],
          "surface": [
           {
            "colorbar": {
             "outlinewidth": 0,
             "ticks": ""
            },
            "colorscale": [
             [
              0,
              "#0d0887"
             ],
             [
              0.1111111111111111,
              "#46039f"
             ],
             [
              0.2222222222222222,
              "#7201a8"
             ],
             [
              0.3333333333333333,
              "#9c179e"
             ],
             [
              0.4444444444444444,
              "#bd3786"
             ],
             [
              0.5555555555555556,
              "#d8576b"
             ],
             [
              0.6666666666666666,
              "#ed7953"
             ],
             [
              0.7777777777777778,
              "#fb9f3a"
             ],
             [
              0.8888888888888888,
              "#fdca26"
             ],
             [
              1,
              "#f0f921"
             ]
            ],
            "type": "surface"
           }
          ],
          "table": [
           {
            "cells": {
             "fill": {
              "color": "#EBF0F8"
             },
             "line": {
              "color": "white"
             }
            },
            "header": {
             "fill": {
              "color": "#C8D4E3"
             },
             "line": {
              "color": "white"
             }
            },
            "type": "table"
           }
          ]
         },
         "layout": {
          "annotationdefaults": {
           "arrowcolor": "#2a3f5f",
           "arrowhead": 0,
           "arrowwidth": 1
          },
          "autotypenumbers": "strict",
          "coloraxis": {
           "colorbar": {
            "outlinewidth": 0,
            "ticks": ""
           }
          },
          "colorscale": {
           "diverging": [
            [
             0,
             "#8e0152"
            ],
            [
             0.1,
             "#c51b7d"
            ],
            [
             0.2,
             "#de77ae"
            ],
            [
             0.3,
             "#f1b6da"
            ],
            [
             0.4,
             "#fde0ef"
            ],
            [
             0.5,
             "#f7f7f7"
            ],
            [
             0.6,
             "#e6f5d0"
            ],
            [
             0.7,
             "#b8e186"
            ],
            [
             0.8,
             "#7fbc41"
            ],
            [
             0.9,
             "#4d9221"
            ],
            [
             1,
             "#276419"
            ]
           ],
           "sequential": [
            [
             0,
             "#0d0887"
            ],
            [
             0.1111111111111111,
             "#46039f"
            ],
            [
             0.2222222222222222,
             "#7201a8"
            ],
            [
             0.3333333333333333,
             "#9c179e"
            ],
            [
             0.4444444444444444,
             "#bd3786"
            ],
            [
             0.5555555555555556,
             "#d8576b"
            ],
            [
             0.6666666666666666,
             "#ed7953"
            ],
            [
             0.7777777777777778,
             "#fb9f3a"
            ],
            [
             0.8888888888888888,
             "#fdca26"
            ],
            [
             1,
             "#f0f921"
            ]
           ],
           "sequentialminus": [
            [
             0,
             "#0d0887"
            ],
            [
             0.1111111111111111,
             "#46039f"
            ],
            [
             0.2222222222222222,
             "#7201a8"
            ],
            [
             0.3333333333333333,
             "#9c179e"
            ],
            [
             0.4444444444444444,
             "#bd3786"
            ],
            [
             0.5555555555555556,
             "#d8576b"
            ],
            [
             0.6666666666666666,
             "#ed7953"
            ],
            [
             0.7777777777777778,
             "#fb9f3a"
            ],
            [
             0.8888888888888888,
             "#fdca26"
            ],
            [
             1,
             "#f0f921"
            ]
           ]
          },
          "colorway": [
           "#636efa",
           "#EF553B",
           "#00cc96",
           "#ab63fa",
           "#FFA15A",
           "#19d3f3",
           "#FF6692",
           "#B6E880",
           "#FF97FF",
           "#FECB52"
          ],
          "font": {
           "color": "#2a3f5f"
          },
          "geo": {
           "bgcolor": "white",
           "lakecolor": "white",
           "landcolor": "#E5ECF6",
           "showlakes": true,
           "showland": true,
           "subunitcolor": "white"
          },
          "hoverlabel": {
           "align": "left"
          },
          "hovermode": "closest",
          "mapbox": {
           "style": "light"
          },
          "paper_bgcolor": "white",
          "plot_bgcolor": "#E5ECF6",
          "polar": {
           "angularaxis": {
            "gridcolor": "white",
            "linecolor": "white",
            "ticks": ""
           },
           "bgcolor": "#E5ECF6",
           "radialaxis": {
            "gridcolor": "white",
            "linecolor": "white",
            "ticks": ""
           }
          },
          "scene": {
           "xaxis": {
            "backgroundcolor": "#E5ECF6",
            "gridcolor": "white",
            "gridwidth": 2,
            "linecolor": "white",
            "showbackground": true,
            "ticks": "",
            "zerolinecolor": "white"
           },
           "yaxis": {
            "backgroundcolor": "#E5ECF6",
            "gridcolor": "white",
            "gridwidth": 2,
            "linecolor": "white",
            "showbackground": true,
            "ticks": "",
            "zerolinecolor": "white"
           },
           "zaxis": {
            "backgroundcolor": "#E5ECF6",
            "gridcolor": "white",
            "gridwidth": 2,
            "linecolor": "white",
            "showbackground": true,
            "ticks": "",
            "zerolinecolor": "white"
           }
          },
          "shapedefaults": {
           "line": {
            "color": "#2a3f5f"
           }
          },
          "ternary": {
           "aaxis": {
            "gridcolor": "white",
            "linecolor": "white",
            "ticks": ""
           },
           "baxis": {
            "gridcolor": "white",
            "linecolor": "white",
            "ticks": ""
           },
           "bgcolor": "#E5ECF6",
           "caxis": {
            "gridcolor": "white",
            "linecolor": "white",
            "ticks": ""
           }
          },
          "title": {
           "x": 0.05
          },
          "xaxis": {
           "automargin": true,
           "gridcolor": "white",
           "linecolor": "white",
           "ticks": "",
           "title": {
            "standoff": 15
           },
           "zerolinecolor": "white",
           "zerolinewidth": 2
          },
          "yaxis": {
           "automargin": true,
           "gridcolor": "white",
           "linecolor": "white",
           "ticks": "",
           "title": {
            "standoff": 15
           },
           "zerolinecolor": "white",
           "zerolinewidth": 2
          }
         }
        },
        "title": {
         "text": "Combined Heatmap + Stocking Change and Volatility Trends"
        },
        "width": 1200,
        "xaxis": {
         "anchor": "y",
         "domain": [
          0,
          1
         ],
         "matches": "x2",
         "showticklabels": false
        },
        "xaxis2": {
         "anchor": "y2",
         "domain": [
          0,
          1
         ]
        },
        "yaxis": {
         "anchor": "x",
         "domain": [
          0.55,
          1
         ]
        },
        "yaxis2": {
         "anchor": "x2",
         "domain": [
          0,
          0.45
         ]
        }
       }
      }
     },
     "metadata": {},
     "output_type": "display_data"
    }
   ],
   "source": [
    "# 假设 df_top 已存在，含 account_id, rolling_week, stocking_change, stocking_change_volatility\n",
    "from plotly.subplots import make_subplots\n",
    "import plotly.graph_objects as go\n",
    "\n",
    "heatmap_data = df_top.pivot(index='account_id', columns='rolling_week', values='stocking_change')\n",
    "top_accounts = heatmap_data.index\n",
    "\n",
    "fig = make_subplots(\n",
    "    rows=2, cols=1,\n",
    "    shared_xaxes=True,\n",
    "    vertical_spacing=0.1,\n",
    "    row_heights=[0.5, 0.5],\n",
    "    subplot_titles=[\"Stocking Change Heatmap (All Accounts)\", \"Stocking Change & Volatility Lines\"]\n",
    ")\n",
    "\n",
    "# Heatmap\n",
    "fig.add_trace(\n",
    "    go.Heatmap(\n",
    "        z=heatmap_data.values,\n",
    "        x=heatmap_data.columns,\n",
    "        y=heatmap_data.index,\n",
    "        colorscale=[[0.0, \"#d28b88\"], [0.5, \"#e8e8e8\"], [1.0, \"#6f918b\"]],\n",
    "        zmin=-2, zmax=2,\n",
    "        colorbar=dict(title=\"Stocking Change\")\n",
    "    ),\n",
    "    row=1, col=1\n",
    ")\n",
    "\n",
    "# Line + Volatility\n",
    "for acct in top_accounts:\n",
    "    sub = df_top[df_top['account_id'] == acct]\n",
    "    \n",
    "    fig.add_trace(\n",
    "        go.Scatter(\n",
    "            x=sub['rolling_week'], y=sub['stocking_change'],\n",
    "            mode='lines+markers', name=f\"{acct} Change\"\n",
    "        ),\n",
    "        row=2, col=1\n",
    "    )\n",
    "    \n",
    "    fig.add_trace(\n",
    "        go.Scatter(\n",
    "            x=sub['rolling_week'], y=sub['stocking_change_volatility'],\n",
    "            mode='lines+text',\n",
    "            name=f\"{acct} Volatility\",\n",
    "            line=dict(dash='dot', color='gray'),\n",
    "            text=[f\"{v:.2f}\" for v in sub['stocking_change_volatility']],\n",
    "            textposition=\"top center\", textfont=dict(size=9)\n",
    "        ),\n",
    "        row=2, col=1\n",
    "    )\n",
    "\n",
    "fig.update_layout(\n",
    "    height=900, width=1200,\n",
    "    title=\"Combined Heatmap + Stocking Change and Volatility Trends\",\n",
    "    font=dict(family=\"Courier New\", size=10)\n",
    ")\n",
    "\n",
    "fig.show()\n"
   ]
  },
  {
   "cell_type": "code",
   "execution_count": 20,
   "id": "088a0a7b",
   "metadata": {},
   "outputs": [
    {
     "data": {
      "application/vnd.plotly.v1+json": {
       "config": {
        "plotlyServerURL": "https://plot.ly"
       },
       "data": [
        {
         "colorbar": {
          "title": {
           "text": "Stocking Change"
          }
         },
         "colorscale": [
          [
           0,
           "#d28b88"
          ],
          [
           0.5,
           "#e8e8e8"
          ],
          [
           1,
           "#6f918b"
          ]
         ],
         "type": "heatmap",
         "x": {
          "bdata": "AQIDBAUGBwgJCgsMDQ4PEBESExQVFhcYGRobHB0eHyAhIiMkJSYnKCkqKywtLi8wMTIzNA==",
          "dtype": "i1"
         },
         "xaxis": "x",
         "y": [
          "acct1",
          "acct10",
          "acct2",
          "acct3",
          "acct4",
          "acct5",
          "acct6",
          "acct7",
          "acct8",
          "acct9"
         ],
         "yaxis": "y",
         "z": {
          "bdata": "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",
          "dtype": "f8",
          "shape": "10, 52"
         },
         "zmax": 2,
         "zmin": -2
        },
        {
         "marker": {
          "color": "#6f918b"
         },
         "orientation": "h",
         "text": [
          "0.62",
          "0.68",
          "0.71",
          "0.78",
          "0.61",
          "0.55",
          "0.67",
          "0.64",
          "0.61",
          "0.54"
         ],
         "textposition": "outside",
         "type": "bar",
         "x": {
          "bdata": "xwGGSqbr4z9fkx5UbLzlPzPJSaxW2+Y/TkyChar86D9pBDtSepvjPzNakmawuuE/TegLJhpJ5T9/u6QTnWXkP77DTWgccOM/NwcI8ZRm4T8=",
          "dtype": "f8"
         },
         "xaxis": "x2",
         "y": [
          "acct1",
          "acct10",
          "acct2",
          "acct3",
          "acct4",
          "acct5",
          "acct6",
          "acct7",
          "acct8",
          "acct9"
         ],
         "yaxis": "y2"
        }
       ],
       "layout": {
        "annotations": [
         {
          "font": {
           "size": 16
          },
          "showarrow": false,
          "text": "Stocking Change Heatmap",
          "x": 0.2125,
          "xanchor": "center",
          "xref": "paper",
          "y": 1,
          "yanchor": "bottom",
          "yref": "paper"
         },
         {
          "font": {
           "size": 16
          },
          "showarrow": false,
          "text": "Stocking Change Volatility (Std Dev)",
          "x": 0.7875,
          "xanchor": "center",
          "xref": "paper",
          "y": 1,
          "yanchor": "bottom",
          "yref": "paper"
         }
        ],
        "font": {
         "family": "Courier New",
         "size": 11
        },
        "height": 600,
        "template": {
         "data": {
          "bar": [
           {
            "error_x": {
             "color": "#2a3f5f"
            },
            "error_y": {
             "color": "#2a3f5f"
            },
            "marker": {
             "line": {
              "color": "#E5ECF6",
              "width": 0.5
             },
             "pattern": {
              "fillmode": "overlay",
              "size": 10,
              "solidity": 0.2
             }
            },
            "type": "bar"
           }
          ],
          "barpolar": [
           {
            "marker": {
             "line": {
              "color": "#E5ECF6",
              "width": 0.5
             },
             "pattern": {
              "fillmode": "overlay",
              "size": 10,
              "solidity": 0.2
             }
            },
            "type": "barpolar"
           }
          ],
          "carpet": [
           {
            "aaxis": {
             "endlinecolor": "#2a3f5f",
             "gridcolor": "white",
             "linecolor": "white",
             "minorgridcolor": "white",
             "startlinecolor": "#2a3f5f"
            },
            "baxis": {
             "endlinecolor": "#2a3f5f",
             "gridcolor": "white",
             "linecolor": "white",
             "minorgridcolor": "white",
             "startlinecolor": "#2a3f5f"
            },
            "type": "carpet"
           }
          ],
          "choropleth": [
           {
            "colorbar": {
             "outlinewidth": 0,
             "ticks": ""
            },
            "type": "choropleth"
           }
          ],
          "contour": [
           {
            "colorbar": {
             "outlinewidth": 0,
             "ticks": ""
            },
            "colorscale": [
             [
              0,
              "#0d0887"
             ],
             [
              0.1111111111111111,
              "#46039f"
             ],
             [
              0.2222222222222222,
              "#7201a8"
             ],
             [
              0.3333333333333333,
              "#9c179e"
             ],
             [
              0.4444444444444444,
              "#bd3786"
             ],
             [
              0.5555555555555556,
              "#d8576b"
             ],
             [
              0.6666666666666666,
              "#ed7953"
             ],
             [
              0.7777777777777778,
              "#fb9f3a"
             ],
             [
              0.8888888888888888,
              "#fdca26"
             ],
             [
              1,
              "#f0f921"
             ]
            ],
            "type": "contour"
           }
          ],
          "contourcarpet": [
           {
            "colorbar": {
             "outlinewidth": 0,
             "ticks": ""
            },
            "type": "contourcarpet"
           }
          ],
          "heatmap": [
           {
            "colorbar": {
             "outlinewidth": 0,
             "ticks": ""
            },
            "colorscale": [
             [
              0,
              "#0d0887"
             ],
             [
              0.1111111111111111,
              "#46039f"
             ],
             [
              0.2222222222222222,
              "#7201a8"
             ],
             [
              0.3333333333333333,
              "#9c179e"
             ],
             [
              0.4444444444444444,
              "#bd3786"
             ],
             [
              0.5555555555555556,
              "#d8576b"
             ],
             [
              0.6666666666666666,
              "#ed7953"
             ],
             [
              0.7777777777777778,
              "#fb9f3a"
             ],
             [
              0.8888888888888888,
              "#fdca26"
             ],
             [
              1,
              "#f0f921"
             ]
            ],
            "type": "heatmap"
           }
          ],
          "histogram": [
           {
            "marker": {
             "pattern": {
              "fillmode": "overlay",
              "size": 10,
              "solidity": 0.2
             }
            },
            "type": "histogram"
           }
          ],
          "histogram2d": [
           {
            "colorbar": {
             "outlinewidth": 0,
             "ticks": ""
            },
            "colorscale": [
             [
              0,
              "#0d0887"
             ],
             [
              0.1111111111111111,
              "#46039f"
             ],
             [
              0.2222222222222222,
              "#7201a8"
             ],
             [
              0.3333333333333333,
              "#9c179e"
             ],
             [
              0.4444444444444444,
              "#bd3786"
             ],
             [
              0.5555555555555556,
              "#d8576b"
             ],
             [
              0.6666666666666666,
              "#ed7953"
             ],
             [
              0.7777777777777778,
              "#fb9f3a"
             ],
             [
              0.8888888888888888,
              "#fdca26"
             ],
             [
              1,
              "#f0f921"
             ]
            ],
            "type": "histogram2d"
           }
          ],
          "histogram2dcontour": [
           {
            "colorbar": {
             "outlinewidth": 0,
             "ticks": ""
            },
            "colorscale": [
             [
              0,
              "#0d0887"
             ],
             [
              0.1111111111111111,
              "#46039f"
             ],
             [
              0.2222222222222222,
              "#7201a8"
             ],
             [
              0.3333333333333333,
              "#9c179e"
             ],
             [
              0.4444444444444444,
              "#bd3786"
             ],
             [
              0.5555555555555556,
              "#d8576b"
             ],
             [
              0.6666666666666666,
              "#ed7953"
             ],
             [
              0.7777777777777778,
              "#fb9f3a"
             ],
             [
              0.8888888888888888,
              "#fdca26"
             ],
             [
              1,
              "#f0f921"
             ]
            ],
            "type": "histogram2dcontour"
           }
          ],
          "mesh3d": [
           {
            "colorbar": {
             "outlinewidth": 0,
             "ticks": ""
            },
            "type": "mesh3d"
           }
          ],
          "parcoords": [
           {
            "line": {
             "colorbar": {
              "outlinewidth": 0,
              "ticks": ""
             }
            },
            "type": "parcoords"
           }
          ],
          "pie": [
           {
            "automargin": true,
            "type": "pie"
           }
          ],
          "scatter": [
           {
            "fillpattern": {
             "fillmode": "overlay",
             "size": 10,
             "solidity": 0.2
            },
            "type": "scatter"
           }
          ],
          "scatter3d": [
           {
            "line": {
             "colorbar": {
              "outlinewidth": 0,
              "ticks": ""
             }
            },
            "marker": {
             "colorbar": {
              "outlinewidth": 0,
              "ticks": ""
             }
            },
            "type": "scatter3d"
           }
          ],
          "scattercarpet": [
           {
            "marker": {
             "colorbar": {
              "outlinewidth": 0,
              "ticks": ""
             }
            },
            "type": "scattercarpet"
           }
          ],
          "scattergeo": [
           {
            "marker": {
             "colorbar": {
              "outlinewidth": 0,
              "ticks": ""
             }
            },
            "type": "scattergeo"
           }
          ],
          "scattergl": [
           {
            "marker": {
             "colorbar": {
              "outlinewidth": 0,
              "ticks": ""
             }
            },
            "type": "scattergl"
           }
          ],
          "scattermap": [
           {
            "marker": {
             "colorbar": {
              "outlinewidth": 0,
              "ticks": ""
             }
            },
            "type": "scattermap"
           }
          ],
          "scattermapbox": [
           {
            "marker": {
             "colorbar": {
              "outlinewidth": 0,
              "ticks": ""
             }
            },
            "type": "scattermapbox"
           }
          ],
          "scatterpolar": [
           {
            "marker": {
             "colorbar": {
              "outlinewidth": 0,
              "ticks": ""
             }
            },
            "type": "scatterpolar"
           }
          ],
          "scatterpolargl": [
           {
            "marker": {
             "colorbar": {
              "outlinewidth": 0,
              "ticks": ""
             }
            },
            "type": "scatterpolargl"
           }
          ],
          "scatterternary": [
           {
            "marker": {
             "colorbar": {
              "outlinewidth": 0,
              "ticks": ""
             }
            },
            "type": "scatterternary"
           }
          ],
          "surface": [
           {
            "colorbar": {
             "outlinewidth": 0,
             "ticks": ""
            },
            "colorscale": [
             [
              0,
              "#0d0887"
             ],
             [
              0.1111111111111111,
              "#46039f"
             ],
             [
              0.2222222222222222,
              "#7201a8"
             ],
             [
              0.3333333333333333,
              "#9c179e"
             ],
             [
              0.4444444444444444,
              "#bd3786"
             ],
             [
              0.5555555555555556,
              "#d8576b"
             ],
             [
              0.6666666666666666,
              "#ed7953"
             ],
             [
              0.7777777777777778,
              "#fb9f3a"
             ],
             [
              0.8888888888888888,
              "#fdca26"
             ],
             [
              1,
              "#f0f921"
             ]
            ],
            "type": "surface"
           }
          ],
          "table": [
           {
            "cells": {
             "fill": {
              "color": "#EBF0F8"
             },
             "line": {
              "color": "white"
             }
            },
            "header": {
             "fill": {
              "color": "#C8D4E3"
             },
             "line": {
              "color": "white"
             }
            },
            "type": "table"
           }
          ]
         },
         "layout": {
          "annotationdefaults": {
           "arrowcolor": "#2a3f5f",
           "arrowhead": 0,
           "arrowwidth": 1
          },
          "autotypenumbers": "strict",
          "coloraxis": {
           "colorbar": {
            "outlinewidth": 0,
            "ticks": ""
           }
          },
          "colorscale": {
           "diverging": [
            [
             0,
             "#8e0152"
            ],
            [
             0.1,
             "#c51b7d"
            ],
            [
             0.2,
             "#de77ae"
            ],
            [
             0.3,
             "#f1b6da"
            ],
            [
             0.4,
             "#fde0ef"
            ],
            [
             0.5,
             "#f7f7f7"
            ],
            [
             0.6,
             "#e6f5d0"
            ],
            [
             0.7,
             "#b8e186"
            ],
            [
             0.8,
             "#7fbc41"
            ],
            [
             0.9,
             "#4d9221"
            ],
            [
             1,
             "#276419"
            ]
           ],
           "sequential": [
            [
             0,
             "#0d0887"
            ],
            [
             0.1111111111111111,
             "#46039f"
            ],
            [
             0.2222222222222222,
             "#7201a8"
            ],
            [
             0.3333333333333333,
             "#9c179e"
            ],
            [
             0.4444444444444444,
             "#bd3786"
            ],
            [
             0.5555555555555556,
             "#d8576b"
            ],
            [
             0.6666666666666666,
             "#ed7953"
            ],
            [
             0.7777777777777778,
             "#fb9f3a"
            ],
            [
             0.8888888888888888,
             "#fdca26"
            ],
            [
             1,
             "#f0f921"
            ]
           ],
           "sequentialminus": [
            [
             0,
             "#0d0887"
            ],
            [
             0.1111111111111111,
             "#46039f"
            ],
            [
             0.2222222222222222,
             "#7201a8"
            ],
            [
             0.3333333333333333,
             "#9c179e"
            ],
            [
             0.4444444444444444,
             "#bd3786"
            ],
            [
             0.5555555555555556,
             "#d8576b"
            ],
            [
             0.6666666666666666,
             "#ed7953"
            ],
            [
             0.7777777777777778,
             "#fb9f3a"
            ],
            [
             0.8888888888888888,
             "#fdca26"
            ],
            [
             1,
             "#f0f921"
            ]
           ]
          },
          "colorway": [
           "#636efa",
           "#EF553B",
           "#00cc96",
           "#ab63fa",
           "#FFA15A",
           "#19d3f3",
           "#FF6692",
           "#B6E880",
           "#FF97FF",
           "#FECB52"
          ],
          "font": {
           "color": "#2a3f5f"
          },
          "geo": {
           "bgcolor": "white",
           "lakecolor": "white",
           "landcolor": "#E5ECF6",
           "showlakes": true,
           "showland": true,
           "subunitcolor": "white"
          },
          "hoverlabel": {
           "align": "left"
          },
          "hovermode": "closest",
          "mapbox": {
           "style": "light"
          },
          "paper_bgcolor": "white",
          "plot_bgcolor": "#E5ECF6",
          "polar": {
           "angularaxis": {
            "gridcolor": "white",
            "linecolor": "white",
            "ticks": ""
           },
           "bgcolor": "#E5ECF6",
           "radialaxis": {
            "gridcolor": "white",
            "linecolor": "white",
            "ticks": ""
           }
          },
          "scene": {
           "xaxis": {
            "backgroundcolor": "#E5ECF6",
            "gridcolor": "white",
            "gridwidth": 2,
            "linecolor": "white",
            "showbackground": true,
            "ticks": "",
            "zerolinecolor": "white"
           },
           "yaxis": {
            "backgroundcolor": "#E5ECF6",
            "gridcolor": "white",
            "gridwidth": 2,
            "linecolor": "white",
            "showbackground": true,
            "ticks": "",
            "zerolinecolor": "white"
           },
           "zaxis": {
            "backgroundcolor": "#E5ECF6",
            "gridcolor": "white",
            "gridwidth": 2,
            "linecolor": "white",
            "showbackground": true,
            "ticks": "",
            "zerolinecolor": "white"
           }
          },
          "shapedefaults": {
           "line": {
            "color": "#2a3f5f"
           }
          },
          "ternary": {
           "aaxis": {
            "gridcolor": "white",
            "linecolor": "white",
            "ticks": ""
           },
           "baxis": {
            "gridcolor": "white",
            "linecolor": "white",
            "ticks": ""
           },
           "bgcolor": "#E5ECF6",
           "caxis": {
            "gridcolor": "white",
            "linecolor": "white",
            "ticks": ""
           }
          },
          "title": {
           "x": 0.05
          },
          "xaxis": {
           "automargin": true,
           "gridcolor": "white",
           "linecolor": "white",
           "ticks": "",
           "title": {
            "standoff": 15
           },
           "zerolinecolor": "white",
           "zerolinewidth": 2
          },
          "yaxis": {
           "automargin": true,
           "gridcolor": "white",
           "linecolor": "white",
           "ticks": "",
           "title": {
            "standoff": 15
           },
           "zerolinecolor": "white",
           "zerolinewidth": 2
          }
         }
        },
        "title": {
         "text": "Stocking Change Volatility: Heatmap and Standard Deviation"
        },
        "width": 1100,
        "xaxis": {
         "anchor": "y",
         "domain": [
          0,
          0.425
         ]
        },
        "xaxis2": {
         "anchor": "y2",
         "domain": [
          0.575,
          1
         ]
        },
        "yaxis": {
         "anchor": "x",
         "domain": [
          0,
          1
         ]
        },
        "yaxis2": {
         "anchor": "x2",
         "domain": [
          0,
          1
         ]
        }
       }
      }
     },
     "metadata": {},
     "output_type": "display_data"
    }
   ],
   "source": [
    "# 假设 df_top 是你的 top 10 帐户的数据，包括 'account_id', 'rolling_week', 'stocking_change'\n",
    "from plotly.subplots import make_subplots\n",
    "import plotly.graph_objects as go\n",
    "\n",
    "heatmap_data = df_top.pivot(index='account_id', columns='rolling_week', values='stocking_change')\n",
    "\n",
    "std_df = (\n",
    "    df_top.groupby('account_id')['stocking_change']\n",
    "    .std()\n",
    "    .reset_index()\n",
    "    .rename(columns={'stocking_change': 'stocking_std'})\n",
    ")\n",
    "\n",
    "fig = make_subplots(\n",
    "    rows=1, cols=2,\n",
    "    column_titles=[\"Stocking Change Heatmap\", \"Stocking Change Volatility (Std Dev)\"],\n",
    "    horizontal_spacing=0.15\n",
    ")\n",
    "\n",
    "fig.add_trace(\n",
    "    go.Heatmap(\n",
    "        z=heatmap_data.values,\n",
    "        x=heatmap_data.columns,\n",
    "        y=heatmap_data.index,\n",
    "        colorscale=[[0.0, \"#d28b88\"], [0.5, \"#e8e8e8\"], [1.0, \"#6f918b\"]],\n",
    "        zmin=-2, zmax=2,\n",
    "        colorbar=dict(title=\"Stocking Change\")\n",
    "    ),\n",
    "    row=1, col=1\n",
    ")\n",
    "\n",
    "fig.add_trace(\n",
    "    go.Bar(\n",
    "        x=std_df['stocking_std'],\n",
    "        y=std_df['account_id'],\n",
    "        orientation='h',\n",
    "        marker=dict(color=\"#6f918b\"),\n",
    "        text=[f\"{v:.2f}\" for v in std_df['stocking_std']],\n",
    "        textposition=\"outside\"\n",
    "    ),\n",
    "    row=1, col=2\n",
    ")\n",
    "\n",
    "fig.update_layout(\n",
    "    height=600,\n",
    "    width=1100,\n",
    "    title=\"Stocking Change Volatility: Heatmap and Standard Deviation\",\n",
    "    font=dict(family=\"Courier New\", size=11)\n",
    ")\n",
    "\n",
    "fig.show()\n"
   ]
  },
  {
   "cell_type": "code",
   "execution_count": 22,
   "id": "902b7cc3",
   "metadata": {},
   "outputs": [
    {
     "data": {
      "application/vnd.plotly.v1+json": {
       "config": {
        "plotlyServerURL": "https://plot.ly"
       },
       "data": [
        {
         "colorscale": [
          [
           0,
           "#d28b88"
          ],
          [
           0.5,
           "#e8e8e8"
          ],
          [
           1,
           "#6f918b"
          ]
         ],
         "showscale": false,
         "type": "heatmap",
         "x": {
          "bdata": "AQIDBAUGBwgJCgsMDQ4PEBESExQVFhcYGRobHB0eHyAhIiMkJSYnKCkqKywtLi8wMTIzNA==",
          "dtype": "i1"
         },
         "xaxis": "x",
         "y": [
          "acct6"
         ],
         "yaxis": "y",
         "z": [
          [
           -0.15,
           -0.36,
           0.35,
           -0.22,
           -0.7,
           0.99,
           0.81,
           0.47,
           0.03,
           -0.56,
           -1.1,
           1.26,
           -0.29,
           0,
           -0.58,
           0.02,
           -0.1,
           0.38,
           -0.89,
           -1.21,
           -0.74,
           0.87,
           1.21,
           -0.1,
           0.5,
           0.27,
           -0.66,
           1.03,
           -0.5,
           -0.12,
           0.09,
           -0.76,
           -0.58,
           1.21,
           -1.03,
           0.05,
           -0.7,
           -0.39,
           -0.61,
           0.07,
           0.86,
           -0.58,
           -0.12,
           0.09,
           0.16,
           1.06,
           0.53,
           -1.02,
           -0.47,
           0.06,
           0.01,
           -1.01
          ]
         ],
         "zmax": 2,
         "zmin": -2
        },
        {
         "line": {
          "color": "#6f918b"
         },
         "mode": "lines",
         "showlegend": false,
         "type": "scatter",
         "x": {
          "bdata": "AQIDBAUGBwgJCgsMDQ4PEBESExQVFhcYGRobHB0eHyAhIiMkJSYnKCkqKywtLi8wMTIzNA==",
          "dtype": "i1"
         },
         "xaxis": "x2",
         "y": {
          "bdata": "MzMzMzMzw78K16NwPQrXv2ZmZmZmZtY/KVyPwvUozL9mZmZmZmbmv65H4XoUru8/7FG4HoXr6T8UrkfhehTeP7gehetRuJ4/7FG4HoXr4b+amZmZmZnxvylcj8L1KPQ/j8L1KFyP0r8AAAAAAAAAgI/C9Shcj+K/exSuR+F6lD+amZmZmZm5v1K4HoXrUdg/exSuR+F67L9cj8L1KFzzv65H4XoUrue/16NwPQrX6z9cj8L1KFzzP5qZmZmZmbm/AAAAAAAA4D9I4XoUrkfRPx+F61G4HuW/exSuR+F68D8AAAAAAADgv7gehetRuL6/CtejcD0Ktz9SuB6F61Hov4/C9Shcj+K/XI/C9Shc8z97FK5H4Xrwv5qZmZmZmak/ZmZmZmZm5r/2KFyPwvXYv4XrUbgeheO/7FG4HoXrsT+F61G4HoXrP4/C9Shcj+K/uB6F61G4vr8K16NwPQq3P3sUrkfhesQ/9ihcj8L18D/2KFyPwvXgP1K4HoXrUfC/FK5H4XoU3r+4HoXrUbiuP3sUrkfheoQ/KVyPwvUo8L8=",
          "dtype": "f8"
         },
         "yaxis": "y2"
        },
        {
         "marker": {
          "color": "#6f918b"
         },
         "orientation": "h",
         "showlegend": false,
         "text": [
          "0.67"
         ],
         "textposition": "outside",
         "type": "bar",
         "x": [
          0.6651736014457669
         ],
         "xaxis": "x3",
         "y": [
          "acct6"
         ],
         "yaxis": "y3"
        },
        {
         "colorscale": [
          [
           0,
           "#d28b88"
          ],
          [
           0.5,
           "#e8e8e8"
          ],
          [
           1,
           "#6f918b"
          ]
         ],
         "showscale": false,
         "type": "heatmap",
         "x": {
          "bdata": "AQIDBAUGBwgJCgsMDQ4PEBESExQVFhcYGRobHB0eHyAhIiMkJSYnKCkqKywtLi8wMTIzNA==",
          "dtype": "i1"
         },
         "xaxis": "x4",
         "y": [
          "acct2"
         ],
         "yaxis": "y4",
         "z": [
          [
           -1.42,
           0.85,
           0.6,
           0.52,
           -0.56,
           -0.34,
           0.6,
           1.05,
           0.41,
           0.46,
           0.14,
           -1.03,
           -0.15,
           0.92,
           -0.17,
           -0.71,
           -0.16,
           0.64,
           -1.45,
           -0.82,
           0.48,
           0.17,
           0.44,
           -0.32,
           0.15,
           -0.54,
           -1.32,
           0.19,
           0.22,
           0.32,
           0.8,
           -0.29,
           -0.94,
           -0.23,
           -0.04,
           -0.94,
           1.29,
           -0.21,
           0.49,
           0.4,
           0.65,
           -0.17,
           0.17,
           -0.13,
           -0.58,
           0.64,
           0.04,
           -1.32,
           0.93,
           -1.23,
           0.84,
           1.08
          ]
         ],
         "zmax": 2,
         "zmin": -2
        },
        {
         "line": {
          "color": "#6f918b"
         },
         "mode": "lines",
         "showlegend": false,
         "type": "scatter",
         "x": {
          "bdata": "AQIDBAUGBwgJCgsMDQ4PEBESExQVFhcYGRobHB0eHyAhIiMkJSYnKCkqKywtLi8wMTIzNA==",
          "dtype": "i1"
         },
         "xaxis": "x5",
         "y": {
          "bdata": "uB6F61G49r8zMzMzMzPrPzMzMzMzM+M/pHA9Ctej4D/sUbgehevhv8P1KFyPwtW/MzMzMzMz4z/NzMzMzMzwPz0K16NwPdo/cT0K16Nw3T/sUbgehevBP3sUrkfhevC/MzMzMzMzw79xPQrXo3DtP8P1KFyPwsW/uB6F61G45r97FK5H4XrEv3sUrkfheuQ/MzMzMzMz9789CtejcD3qv7gehetRuN4/w/UoXI/CxT8pXI/C9SjcP3sUrkfhetS/MzMzMzMzwz9I4XoUrkfhvx+F61G4HvW/UrgehetRyD8pXI/C9SjMP3sUrkfhetQ/mpmZmZmZ6T+PwvUoXI/SvxSuR+F6FO6/cT0K16Nwzb97FK5H4XqkvxSuR+F6FO6/pHA9Ctej9D/hehSuR+HKv1yPwvUoXN8/mpmZmZmZ2T/NzMzMzMzkP8P1KFyPwsW/w/UoXI/CxT+kcD0K16PAv4/C9Shcj+K/exSuR+F65D97FK5H4XqkPx+F61G4HvW/w/UoXI/C7T+uR+F6FK7zv+F6FK5H4eo/SOF6FK5H8T8=",
          "dtype": "f8"
         },
         "yaxis": "y5"
        },
        {
         "marker": {
          "color": "#6f918b"
         },
         "orientation": "h",
         "showlegend": false,
         "text": [
          "0.71"
         ],
         "textposition": "outside",
         "type": "bar",
         "x": [
          0.7142747273449345
         ],
         "xaxis": "x6",
         "y": [
          "acct2"
         ],
         "yaxis": "y6"
        },
        {
         "colorscale": [
          [
           0,
           "#d28b88"
          ],
          [
           0.5,
           "#e8e8e8"
          ],
          [
           1,
           "#6f918b"
          ]
         ],
         "showscale": false,
         "type": "heatmap",
         "x": {
          "bdata": "AQIDBAUGBwgJCgsMDQ4PEBESExQVFhcYGRobHB0eHyAhIiMkJSYnKCkqKywtLi8wMTIzNA==",
          "dtype": "i1"
         },
         "xaxis": "x7",
         "y": [
          "acct3"
         ],
         "yaxis": "y7",
         "z": [
          [
           1.58,
           0.57,
           -0.86,
           -1.04,
           -1.44,
           -1.12,
           -1.04,
           0.41,
           -0.76,
           0.2,
           0.97,
           -1.13,
           0.36,
           -0.29,
           -1.16,
           0.94,
           0.61,
           0.61,
           -0.04,
           1.01,
           -0.47,
           -0.27,
           0.02,
           0.43,
           0.98,
           -0.16,
           -0.39,
           0.74,
           -0.64,
           0.82,
           0.75,
           0.01,
           0.72,
           0.17,
           -1.25,
           1.19,
           0.11,
           0.43,
           0.11,
           0.83,
           0.13,
           -0.96,
           1.43,
           -0.29,
           -0.44,
           1.19,
           1.09,
           0.56,
           -0.03,
           0.1,
           -0.1,
           -0.87
          ]
         ],
         "zmax": 2,
         "zmin": -2
        },
        {
         "line": {
          "color": "#6f918b"
         },
         "mode": "lines",
         "showlegend": false,
         "type": "scatter",
         "x": {
          "bdata": "AQIDBAUGBwgJCgsMDQ4PEBESExQVFhcYGRobHB0eHyAhIiMkJSYnKCkqKywtLi8wMTIzNA==",
          "dtype": "i1"
         },
         "xaxis": "x8",
         "y": {
          "bdata": "SOF6FK5H+T89CtejcD3iP4XrUbgeheu/pHA9Ctej8L8K16NwPQr3v+xRuB6F6/G/pHA9Ctej8L89CtejcD3aP1K4HoXrUei/mpmZmZmZyT8K16NwPQrvPxSuR+F6FPK/CtejcD0K1z+PwvUoXI/Sv4/C9Shcj/K/FK5H4XoU7j+F61G4HoXjP4XrUbgeheM/exSuR+F6pL8pXI/C9SjwPxSuR+F6FN6/SOF6FK5H0b97FK5H4XqUP4XrUbgehds/XI/C9Shc7z97FK5H4XrEv/YoXI/C9di/rkfhehSu5z97FK5H4Xrkvz0K16NwPeo/AAAAAAAA6D97FK5H4XqEPwrXo3A9Cuc/w/UoXI/CxT8AAAAAAAD0vwrXo3A9CvM/KVyPwvUovD+F61G4HoXbPylcj8L1KLw/j8L1KFyP6j+kcD0K16PAP7gehetRuO6/4XoUrkfh9j+PwvUoXI/Svylcj8L1KNy/CtejcD0K8z9xPQrXo3DxP+xRuB6F6+E/uB6F61G4nr+amZmZmZm5P5qZmZmZmbm/16NwPQrX678=",
          "dtype": "f8"
         },
         "yaxis": "y8"
        },
        {
         "marker": {
          "color": "#6f918b"
         },
         "orientation": "h",
         "showlegend": false,
         "text": [
          "0.78"
         ],
         "textposition": "outside",
         "type": "bar",
         "x": [
          0.7808430297467426
         ],
         "xaxis": "x9",
         "y": [
          "acct3"
         ],
         "yaxis": "y9"
        },
        {
         "colorscale": [
          [
           0,
           "#d28b88"
          ],
          [
           0.5,
           "#e8e8e8"
          ],
          [
           1,
           "#6f918b"
          ]
         ],
         "showscale": false,
         "type": "heatmap",
         "x": {
          "bdata": "AQIDBAUGBwgJCgsMDQ4PEBESExQVFhcYGRobHB0eHyAhIiMkJSYnKCkqKywtLi8wMTIzNA==",
          "dtype": "i1"
         },
         "xaxis": "x10",
         "y": [
          "acct9"
         ],
         "yaxis": "y10",
         "z": [
          [
           -0.51,
           -0.48,
           -0.48,
           -1.32,
           0.31,
           0.59,
           -0.36,
           0.04,
           0.13,
           0.36,
           0.54,
           0.08,
           -1.16,
           -0.33,
           -0.07,
           -0.18,
           0.32,
           -0.21,
           0.27,
           0.11,
           0.59,
           0.17,
           0.69,
           -0.59,
           -0.28,
           -0.8,
           -0.03,
           0.7,
           -0.15,
           0.9,
           -0.18,
           0.99,
           -0.24,
           -0.89,
           0.01,
           -0.53,
           -0.22,
           -0.1,
           0.37,
           -0.32,
           -0.93,
           0.37,
           0.1,
           -1.1,
           -0.06,
           -0.01,
           -0.64,
           0.61,
           -0.61,
           0.02,
           0.69,
           -0.87
          ]
         ],
         "zmax": 2,
         "zmin": -2
        },
        {
         "line": {
          "color": "#6f918b"
         },
         "mode": "lines",
         "showlegend": false,
         "type": "scatter",
         "x": {
          "bdata": "AQIDBAUGBwgJCgsMDQ4PEBESExQVFhcYGRobHB0eHyAhIiMkJSYnKCkqKywtLi8wMTIzNA==",
          "dtype": "i1"
         },
         "xaxis": "x11",
         "y": {
          "bdata": "UrgehetR4L+4HoXrUbjev7gehetRuN6/H4XrUbge9b/Xo3A9CtfTP+F6FK5H4eI/CtejcD0K1797FK5H4XqkP6RwPQrXo8A/CtejcD0K1z9I4XoUrkfhP3sUrkfherQ/j8L1KFyP8r8fhetRuB7Vv+xRuB6F67G/CtejcD0Kx797FK5H4XrUP+F6FK5H4cq/SOF6FK5H0T8pXI/C9Si8P+F6FK5H4eI/w/UoXI/CxT8UrkfhehTmP+F6FK5H4eK/7FG4HoXr0b+amZmZmZnpv7gehetRuJ6/ZmZmZmZm5j8zMzMzMzPDv83MzMzMzOw/CtejcD0Kx7+uR+F6FK7vP7gehetRuM6/exSuR+F67L97FK5H4XqEP/YoXI/C9eC/KVyPwvUozL+amZmZmZm5v65H4XoUrtc/exSuR+F61L/D9Shcj8Ltv65H4XoUrtc/mpmZmZmZuT+amZmZmZnxv7gehetRuK6/exSuR+F6hL97FK5H4Xrkv4XrUbgeheM/hetRuB6F4797FK5H4XqUPxSuR+F6FOY/16NwPQrX678=",
          "dtype": "f8"
         },
         "yaxis": "y11"
        },
        {
         "marker": {
          "color": "#6f918b"
         },
         "orientation": "h",
         "showlegend": false,
         "text": [
          "0.54"
         ],
         "textposition": "outside",
         "type": "bar",
         "x": [
          0.5437721927303077
         ],
         "xaxis": "x12",
         "y": [
          "acct9"
         ],
         "yaxis": "y12"
        },
        {
         "colorscale": [
          [
           0,
           "#d28b88"
          ],
          [
           0.5,
           "#e8e8e8"
          ],
          [
           1,
           "#6f918b"
          ]
         ],
         "showscale": false,
         "type": "heatmap",
         "x": {
          "bdata": "AQIDBAUGBwgJCgsMDQ4PEBESExQVFhcYGRobHB0eHyAhIiMkJSYnKCkqKywtLi8wMTIzNA==",
          "dtype": "i1"
         },
         "xaxis": "x13",
         "y": [
          "acct7"
         ],
         "yaxis": "y13",
         "z": [
          [
           0.95,
           1.05,
           0.92,
           1.02,
           0.37,
           0.31,
           -0.85,
           0.25,
           -0.46,
           0.06,
           0.43,
           -0.44,
           -0.8,
           -0.76,
           0.62,
           -1.04,
           0.57,
           -0.58,
           -0.17,
           -0.54,
           0.17,
           -0.08,
           0.59,
           0.26,
           -0.76,
           0.74,
           0.59,
           -0.03,
           1.15,
           1,
           0.35,
           0.68,
           0.46,
           -0.25,
           0.16,
           0.3,
           -0.98,
           0.68,
           1.28,
           -0.75,
           0.48,
           -0.57,
           0.09,
           0.76,
           -0.66,
           0.44,
           0.87,
           0.13,
           -0.72,
           -0.24,
           0.55,
           0.8
          ]
         ],
         "zmax": 2,
         "zmin": -2
        },
        {
         "line": {
          "color": "#6f918b"
         },
         "mode": "lines",
         "showlegend": false,
         "type": "scatter",
         "x": {
          "bdata": "AQIDBAUGBwgJCgsMDQ4PEBESExQVFhcYGRobHB0eHyAhIiMkJSYnKCkqKywtLi8wMTIzNA==",
          "dtype": "i1"
         },
         "xaxis": "x14",
         "y": {
          "bdata": "ZmZmZmZm7j/NzMzMzMzwP3E9CtejcO0/UrgehetR8D+uR+F6FK7XP9ejcD0K19M/MzMzMzMz678AAAAAAADQP3E9CtejcN2/uB6F61G4rj+F61G4HoXbPylcj8L1KNy/mpmZmZmZ6b9SuB6F61Hov9ejcD0K1+M/pHA9Ctej8L89CtejcD3iP4/C9Shcj+K/w/UoXI/Cxb9I4XoUrkfhv8P1KFyPwsU/exSuR+F6tL/hehSuR+HiP6RwPQrXo9A/UrgehetR6L+uR+F6FK7nP+F6FK5H4eI/uB6F61G4nr9mZmZmZmbyPwAAAAAAAPA/ZmZmZmZm1j/D9Shcj8LlP3E9CtejcN0/AAAAAAAA0L97FK5H4XrEPzMzMzMzM9M/XI/C9Shc77/D9Shcj8LlP3sUrkfhevQ/AAAAAAAA6L+4HoXrUbjePz0K16NwPeK/CtejcD0Ktz9SuB6F61HoPx+F61G4HuW/KVyPwvUo3D/Xo3A9CtfrP6RwPQrXo8A/CtejcD0K57+4HoXrUbjOv5qZmZmZmeE/mpmZmZmZ6T8=",
          "dtype": "f8"
         },
         "yaxis": "y14"
        },
        {
         "marker": {
          "color": "#6f918b"
         },
         "orientation": "h",
         "showlegend": false,
         "text": [
          "0.64"
         ],
         "textposition": "outside",
         "type": "bar",
         "x": [
          0.6374040015851817
         ],
         "xaxis": "x15",
         "y": [
          "acct7"
         ],
         "yaxis": "y15"
        },
        {
         "colorscale": [
          [
           0,
           "#d28b88"
          ],
          [
           0.5,
           "#e8e8e8"
          ],
          [
           1,
           "#6f918b"
          ]
         ],
         "showscale": false,
         "type": "heatmap",
         "x": {
          "bdata": "AQIDBAUGBwgJCgsMDQ4PEBESExQVFhcYGRobHB0eHyAhIiMkJSYnKCkqKywtLi8wMTIzNA==",
          "dtype": "i1"
         },
         "xaxis": "x16",
         "y": [
          "acct8"
         ],
         "yaxis": "y16",
         "z": [
          [
           -0.54,
           -0.08,
           0.72,
           0.59,
           0.24,
           -0.02,
           0.24,
           0.15,
           -1.02,
           -0.31,
           -0.56,
           -0.62,
           1,
           -0.41,
           1,
           -0.22,
           0.09,
           0.56,
           0.38,
           0.31,
           0.44,
           0.79,
           -0.35,
           0.65,
           1.44,
           -0.04,
           -0.51,
           0.13,
           -0.87,
           -0.84,
           -0.39,
           0.05,
           1.22,
           0.59,
           0.41,
           0.14,
           0.05,
           -0.63,
           1.15,
           -0.71,
           0.64,
           0.57,
           -0.17,
           0.49,
           -0.08,
           0.75,
           0.47,
           -0.59,
           0.03,
           -0.07,
           0.53,
           -1.22
          ]
         ],
         "zmax": 2,
         "zmin": -2
        },
        {
         "line": {
          "color": "#6f918b"
         },
         "mode": "lines",
         "showlegend": false,
         "type": "scatter",
         "x": {
          "bdata": "AQIDBAUGBwgJCgsMDQ4PEBESExQVFhcYGRobHB0eHyAhIiMkJSYnKCkqKywtLi8wMTIzNA==",
          "dtype": "i1"
         },
         "xaxis": "x17",
         "y": {
          "bdata": "SOF6FK5H4b97FK5H4Xq0vwrXo3A9Cuc/4XoUrkfh4j+4HoXrUbjOP3sUrkfhepS/uB6F61G4zj8zMzMzMzPDP1K4HoXrUfC/16NwPQrX07/sUbgehevhv9ejcD0K1+O/AAAAAAAA8D89CtejcD3avwAAAAAAAPA/KVyPwvUozL8K16NwPQq3P+xRuB6F6+E/UrgehetR2D/Xo3A9CtfTPylcj8L1KNw/SOF6FK5H6T9mZmZmZmbWv83MzMzMzOQ/CtejcD0K9z97FK5H4Xqkv1K4HoXrUeC/pHA9CtejwD/Xo3A9Ctfrv+F6FK5H4eq/9ihcj8L12L+amZmZmZmpP4XrUbgehfM/4XoUrkfh4j89CtejcD3aP+xRuB6F68E/mpmZmZmZqT8pXI/C9Sjkv2ZmZmZmZvI/uB6F61G45r97FK5H4XrkPz0K16NwPeI/w/UoXI/Cxb9cj8L1KFzfP3sUrkfherS/AAAAAAAA6D8UrkfhehTeP+F6FK5H4eK/uB6F61G4nj/sUbgeheuxv/YoXI/C9eA/hetRuB6F878=",
          "dtype": "f8"
         },
         "yaxis": "y17"
        },
        {
         "marker": {
          "color": "#6f918b"
         },
         "orientation": "h",
         "showlegend": false,
         "text": [
          "0.61"
         ],
         "textposition": "outside",
         "type": "bar",
         "x": [
          0.6074354207213373
         ],
         "xaxis": "x18",
         "y": [
          "acct8"
         ],
         "yaxis": "y18"
        },
        {
         "colorscale": [
          [
           0,
           "#d28b88"
          ],
          [
           0.5,
           "#e8e8e8"
          ],
          [
           1,
           "#6f918b"
          ]
         ],
         "showscale": false,
         "type": "heatmap",
         "x": {
          "bdata": "AQIDBAUGBwgJCgsMDQ4PEBESExQVFhcYGRobHB0eHyAhIiMkJSYnKCkqKywtLi8wMTIzNA==",
          "dtype": "i1"
         },
         "xaxis": "x19",
         "y": [
          "acct1"
         ],
         "yaxis": "y19",
         "z": [
          [
           -0.46,
           0.8,
           0.35,
           -0.24,
           -0.6,
           -0.61,
           -0.88,
           0.66,
           -0.22,
           0.29,
           -1.06,
           0.7,
           0.62,
           -0.45,
           -0.07,
           -0.58,
           -0.31,
           0.03,
           -0.71,
           -0.43,
           0.24,
           0.02,
           -0.47,
           -0.18,
           -0.1,
           0.22,
           -0.26,
           0.25,
           0.42,
           -1.18,
           0.64,
           -1.08,
           -0.69,
           1.55,
           0.63,
           0.45,
           -0.36,
           -0.96,
           -0.1,
           -0.1,
           -1.07,
           0.13,
           -1.21,
           1.28,
           -0.72,
           0.23,
           -0.13,
           -0.33,
           0.16,
           -0.24,
           0.46,
           0.61
          ]
         ],
         "zmax": 2,
         "zmin": -2
        },
        {
         "line": {
          "color": "#6f918b"
         },
         "mode": "lines",
         "showlegend": false,
         "type": "scatter",
         "x": {
          "bdata": "AQIDBAUGBwgJCgsMDQ4PEBESExQVFhcYGRobHB0eHyAhIiMkJSYnKCkqKywtLi8wMTIzNA==",
          "dtype": "i1"
         },
         "xaxis": "x20",
         "y": {
          "bdata": "cT0K16Nw3b+amZmZmZnpP2ZmZmZmZtY/uB6F61G4zr8zMzMzMzPjv4XrUbgeheO/KVyPwvUo7L8fhetRuB7lPylcj8L1KMy/j8L1KFyP0j/2KFyPwvXwv2ZmZmZmZuY/16NwPQrX4z/NzMzMzMzcv+xRuB6F67G/j8L1KFyP4r/Xo3A9CtfTv7gehetRuJ4/uB6F61G45r+F61G4HoXbv7gehetRuM4/exSuR+F6lD8UrkfhehTevwrXo3A9Cse/mpmZmZmZub8pXI/C9SjMP6RwPQrXo9C/AAAAAAAA0D/hehSuR+HaP+F6FK5H4fK/exSuR+F65D9I4XoUrkfxvxSuR+F6FOa/zczMzMzM+D8pXI/C9SjkP83MzMzMzNw/CtejcD0K17+4HoXrUbjuv5qZmZmZmbm/mpmZmZmZub8fhetRuB7xv6RwPQrXo8A/XI/C9Shc8797FK5H4Xr0PwrXo3A9Cue/cT0K16NwzT+kcD0K16PAvx+F61G4HtW/exSuR+F6xD+4HoXrUbjOv3E9CtejcN0/hetRuB6F4z8=",
          "dtype": "f8"
         },
         "yaxis": "y20"
        },
        {
         "marker": {
          "color": "#6f918b"
         },
         "orientation": "h",
         "showlegend": false,
         "text": [
          "0.62"
         ],
         "textposition": "outside",
         "type": "bar",
         "x": [
          0.6225158172165316
         ],
         "xaxis": "x21",
         "y": [
          "acct1"
         ],
         "yaxis": "y21"
        },
        {
         "colorscale": [
          [
           0,
           "#d28b88"
          ],
          [
           0.5,
           "#e8e8e8"
          ],
          [
           1,
           "#6f918b"
          ]
         ],
         "showscale": false,
         "type": "heatmap",
         "x": {
          "bdata": "AQIDBAUGBwgJCgsMDQ4PEBESExQVFhcYGRobHB0eHyAhIiMkJSYnKCkqKywtLi8wMTIzNA==",
          "dtype": "i1"
         },
         "xaxis": "x22",
         "y": [
          "acct5"
         ],
         "yaxis": "y22",
         "z": [
          [
           -0.3,
           0.33,
           -0.16,
           0.18,
           -0.34,
           -0.02,
           0.39,
           0.02,
           -1.1,
           1.41,
           0.54,
           0.05,
           -0.5,
           0.25,
           0.08,
           0.21,
           0.42,
           0.79,
           -0.77,
           -0.49,
           -0.29,
           0.62,
           -1.04,
           0.49,
           0.2,
           0.94,
           -0.14,
           0.55,
           -0.68,
           0.32,
           -0.47,
           -0.26,
           0.44,
           -0.39,
           -0.75,
           0.02,
           -0.03,
           0.46,
           0,
           0.61,
           -1.12,
           0.2,
           -0.57,
           0.79,
           0,
           -0.08,
           -0.09,
           1.23,
           -0.66,
           0.22,
           -0.1,
           0.21
          ]
         ],
         "zmax": 2,
         "zmin": -2
        },
        {
         "line": {
          "color": "#6f918b"
         },
         "mode": "lines",
         "showlegend": false,
         "type": "scatter",
         "x": {
          "bdata": "AQIDBAUGBwgJCgsMDQ4PEBESExQVFhcYGRobHB0eHyAhIiMkJSYnKCkqKywtLi8wMTIzNA==",
          "dtype": "i1"
         },
         "xaxis": "x23",
         "y": {
          "bdata": "MzMzMzMz078fhetRuB7VP3sUrkfhesS/CtejcD0Kxz/D9Shcj8LVv3sUrkfhepS/9ihcj8L12D97FK5H4XqUP5qZmZmZmfG/j8L1KFyP9j9I4XoUrkfhP5qZmZmZmak/AAAAAAAA4L8AAAAAAADQP3sUrkfherQ/4XoUrkfhyj/hehSuR+HaP0jhehSuR+k/pHA9Ctej6L9cj8L1KFzfv4/C9Shcj9K/16NwPQrX4z+kcD0K16Pwv1yPwvUoXN8/mpmZmZmZyT8UrkfhehTuP+xRuB6F68G/mpmZmZmZ4T/D9Shcj8Llv3sUrkfhetQ/FK5H4XoU3r+kcD0K16PQvylcj8L1KNw/9ihcj8L12L8AAAAAAADov3sUrkfhepQ/uB6F61G4nr9xPQrXo3DdPwAAAAAAAAAAhetRuB6F4z/sUbgehevxv5qZmZmZmck/PQrXo3A94r9I4XoUrkfpPwAAAAAAAAAAexSuR+F6tL8K16NwPQq3v65H4XoUrvM/H4XrUbge5b8pXI/C9SjMP5qZmZmZmbm/4XoUrkfhyj8=",
          "dtype": "f8"
         },
         "yaxis": "y23"
        },
        {
         "marker": {
          "color": "#6f918b"
         },
         "orientation": "h",
         "showlegend": false,
         "text": [
          "0.55"
         ],
         "textposition": "outside",
         "type": "bar",
         "x": [
          0.5540391925195024
         ],
         "xaxis": "x24",
         "y": [
          "acct5"
         ],
         "yaxis": "y24"
        },
        {
         "colorscale": [
          [
           0,
           "#d28b88"
          ],
          [
           0.5,
           "#e8e8e8"
          ],
          [
           1,
           "#6f918b"
          ]
         ],
         "showscale": false,
         "type": "heatmap",
         "x": {
          "bdata": "AQIDBAUGBwgJCgsMDQ4PEBESExQVFhcYGRobHB0eHyAhIiMkJSYnKCkqKywtLi8wMTIzNA==",
          "dtype": "i1"
         },
         "xaxis": "x25",
         "y": [
          "acct4"
         ],
         "yaxis": "y25",
         "z": [
          [
           -0.19,
           0.1,
           0.31,
           -0.14,
           -0.17,
           0.74,
           -0.44,
           -0.3,
           0.24,
           0.91,
           -0.63,
           0.58,
           0.18,
           -0.98,
           -0.1,
           0.6,
           -0.21,
           -0.33,
           0.01,
           -0.64,
           -0.55,
           -0.92,
           -0.49,
           -1.04,
           -0.56,
           0.71,
           -1.38,
           -0.55,
           0.97,
           -0.11,
           0.45,
           -0.84,
           -0.59,
           -0.96,
           -0.31,
           -0.37,
           -0.54,
           -0.95,
           -0.91,
           -0.21,
           -0.47,
           -0.4,
           0.09,
           1,
           -0.66,
           0.5,
           0.62,
           -0.96,
           0.14,
           0.54,
           -1.44,
           -0.55
          ]
         ],
         "zmax": 2,
         "zmin": -2
        },
        {
         "line": {
          "color": "#6f918b"
         },
         "mode": "lines",
         "showlegend": false,
         "type": "scatter",
         "x": {
          "bdata": "AQIDBAUGBwgJCgsMDQ4PEBESExQVFhcYGRobHB0eHyAhIiMkJSYnKCkqKywtLi8wMTIzNA==",
          "dtype": "i1"
         },
         "xaxis": "x26",
         "y": {
          "bdata": "UrgehetRyL+amZmZmZm5P9ejcD0K19M/7FG4HoXrwb/D9Shcj8LFv65H4XoUruc/KVyPwvUo3L8zMzMzMzPTv7gehetRuM4/H4XrUbge7T8pXI/C9Sjkv4/C9Shcj+I/CtejcD0Kxz9cj8L1KFzvv5qZmZmZmbm/MzMzMzMz4z/hehSuR+HKvx+F61G4HtW/exSuR+F6hD97FK5H4Xrkv5qZmZmZmeG/cT0K16Nw7b9cj8L1KFzfv6RwPQrXo/C/7FG4HoXr4b+4HoXrUbjmPxSuR+F6FPa/mpmZmZmZ4b8K16NwPQrvPylcj8L1KLy/zczMzMzM3D/hehSuR+Hqv+F6FK5H4eK/uB6F61G47r/Xo3A9CtfTv65H4XoUrte/SOF6FK5H4b9mZmZmZmbuvx+F61G4Hu2/4XoUrkfhyr8UrkfhehTev5qZmZmZmdm/CtejcD0Ktz8AAAAAAADwPx+F61G4HuW/AAAAAAAA4D/Xo3A9CtfjP7gehetRuO6/7FG4HoXrwT9I4XoUrkfhPwrXo3A9Cve/mpmZmZmZ4b8=",
          "dtype": "f8"
         },
         "yaxis": "y26"
        },
        {
         "marker": {
          "color": "#6f918b"
         },
         "orientation": "h",
         "showlegend": false,
         "text": [
          "0.61"
         ],
         "textposition": "outside",
         "type": "bar",
         "x": [
          0.6127292257371099
         ],
         "xaxis": "x27",
         "y": [
          "acct4"
         ],
         "yaxis": "y27"
        },
        {
         "colorscale": [
          [
           0,
           "#d28b88"
          ],
          [
           0.5,
           "#e8e8e8"
          ],
          [
           1,
           "#6f918b"
          ]
         ],
         "showscale": false,
         "type": "heatmap",
         "x": {
          "bdata": "AQIDBAUGBwgJCgsMDQ4PEBESExQVFhcYGRobHB0eHyAhIiMkJSYnKCkqKywtLi8wMTIzNA==",
          "dtype": "i1"
         },
         "xaxis": "x28",
         "y": [
          "acct10"
         ],
         "yaxis": "y28",
         "z": [
          [
           0.87,
           0.41,
           1.18,
           -0.35,
           -0.95,
           -0.14,
           -1.06,
           0.1,
           0.05,
           0.75,
           -0.03,
           0.81,
           -0.38,
           0.94,
           1.14,
           -0.25,
           -0.21,
           0.98,
           -0.75,
           -0.07,
           0.2,
           -0.54,
           -0.13,
           -0.21,
           -1.14,
           -0.45,
           0.94,
           0.18,
           1.39,
           0.02,
           -0.21,
           0.33,
           -0.23,
           -1.04,
           -0.03,
           -1.16,
           0.86,
           -0.03,
           -0.76,
           -0.96,
           0.65,
           0.16,
           -0.63,
           0.81,
           -0.93,
           0.47,
           0.89,
           -0.04,
           -0.57,
           -0.54,
           -0.19,
           -0.45
          ]
         ],
         "zmax": 2,
         "zmin": -2
        },
        {
         "line": {
          "color": "#6f918b"
         },
         "mode": "lines",
         "showlegend": false,
         "type": "scatter",
         "x": {
          "bdata": "AQIDBAUGBwgJCgsMDQ4PEBESExQVFhcYGRobHB0eHyAhIiMkJSYnKCkqKywtLi8wMTIzNA==",
          "dtype": "i1"
         },
         "xaxis": "x29",
         "y": {
          "bdata": "16NwPQrX6z89CtejcD3aP+F6FK5H4fI/ZmZmZmZm1r9mZmZmZmbuv+xRuB6F68G/9ihcj8L18L+amZmZmZm5P5qZmZmZmak/AAAAAAAA6D+4HoXrUbiev+xRuB6F6+k/UrgehetR2L8UrkfhehTuPz0K16NwPfI/AAAAAAAA0L/hehSuR+HKv1yPwvUoXO8/AAAAAAAA6L/sUbgeheuxv5qZmZmZmck/SOF6FK5H4b+kcD0K16PAv+F6FK5H4cq/PQrXo3A98r/NzMzMzMzcvxSuR+F6FO4/CtejcD0Kxz89CtejcD32P3sUrkfhepQ/4XoUrkfhyr8fhetRuB7VP3E9CtejcM2/pHA9Ctej8L+4HoXrUbiev4/C9Shcj/K/hetRuB6F6z+4HoXrUbiev1K4HoXrUei/uB6F61G47r/NzMzMzMzkP3sUrkfhesQ/KVyPwvUo5L/sUbgehevpP8P1KFyPwu2/FK5H4XoU3j97FK5H4XrsP3sUrkfheqS/PQrXo3A94r9I4XoUrkfhv1K4HoXrUci/zczMzMzM3L8=",
          "dtype": "f8"
         },
         "yaxis": "y29"
        },
        {
         "marker": {
          "color": "#6f918b"
         },
         "orientation": "h",
         "showlegend": false,
         "text": [
          "0.68"
         ],
         "textposition": "outside",
         "type": "bar",
         "x": [
          0.6792508738477457
         ],
         "xaxis": "x30",
         "y": [
          "acct10"
         ],
         "yaxis": "y30"
        }
       ],
       "layout": {
        "annotations": [
         {
          "font": {
           "size": 16
          },
          "showarrow": false,
          "text": "Stocking Change Heatmap",
          "x": 0.14333333333333334,
          "xanchor": "center",
          "xref": "paper",
          "y": 0.9999999999999999,
          "yanchor": "bottom",
          "yref": "paper"
         },
         {
          "font": {
           "size": 16
          },
          "showarrow": false,
          "text": "Stocking Change Line",
          "x": 0.5,
          "xanchor": "center",
          "xref": "paper",
          "y": 0.9999999999999999,
          "yanchor": "bottom",
          "yref": "paper"
         },
         {
          "font": {
           "size": 16
          },
          "showarrow": false,
          "text": "Volatility (Std Dev)",
          "x": 0.8566666666666667,
          "xanchor": "center",
          "xref": "paper",
          "y": 0.9999999999999999,
          "yanchor": "bottom",
          "yref": "paper"
         }
        ],
        "font": {
         "family": "Courier New",
         "size": 10
        },
        "height": 2200,
        "margin": {
         "b": 40,
         "l": 40,
         "r": 40,
         "t": 60
        },
        "template": {
         "data": {
          "bar": [
           {
            "error_x": {
             "color": "#2a3f5f"
            },
            "error_y": {
             "color": "#2a3f5f"
            },
            "marker": {
             "line": {
              "color": "#E5ECF6",
              "width": 0.5
             },
             "pattern": {
              "fillmode": "overlay",
              "size": 10,
              "solidity": 0.2
             }
            },
            "type": "bar"
           }
          ],
          "barpolar": [
           {
            "marker": {
             "line": {
              "color": "#E5ECF6",
              "width": 0.5
             },
             "pattern": {
              "fillmode": "overlay",
              "size": 10,
              "solidity": 0.2
             }
            },
            "type": "barpolar"
           }
          ],
          "carpet": [
           {
            "aaxis": {
             "endlinecolor": "#2a3f5f",
             "gridcolor": "white",
             "linecolor": "white",
             "minorgridcolor": "white",
             "startlinecolor": "#2a3f5f"
            },
            "baxis": {
             "endlinecolor": "#2a3f5f",
             "gridcolor": "white",
             "linecolor": "white",
             "minorgridcolor": "white",
             "startlinecolor": "#2a3f5f"
            },
            "type": "carpet"
           }
          ],
          "choropleth": [
           {
            "colorbar": {
             "outlinewidth": 0,
             "ticks": ""
            },
            "type": "choropleth"
           }
          ],
          "contour": [
           {
            "colorbar": {
             "outlinewidth": 0,
             "ticks": ""
            },
            "colorscale": [
             [
              0,
              "#0d0887"
             ],
             [
              0.1111111111111111,
              "#46039f"
             ],
             [
              0.2222222222222222,
              "#7201a8"
             ],
             [
              0.3333333333333333,
              "#9c179e"
             ],
             [
              0.4444444444444444,
              "#bd3786"
             ],
             [
              0.5555555555555556,
              "#d8576b"
             ],
             [
              0.6666666666666666,
              "#ed7953"
             ],
             [
              0.7777777777777778,
              "#fb9f3a"
             ],
             [
              0.8888888888888888,
              "#fdca26"
             ],
             [
              1,
              "#f0f921"
             ]
            ],
            "type": "contour"
           }
          ],
          "contourcarpet": [
           {
            "colorbar": {
             "outlinewidth": 0,
             "ticks": ""
            },
            "type": "contourcarpet"
           }
          ],
          "heatmap": [
           {
            "colorbar": {
             "outlinewidth": 0,
             "ticks": ""
            },
            "colorscale": [
             [
              0,
              "#0d0887"
             ],
             [
              0.1111111111111111,
              "#46039f"
             ],
             [
              0.2222222222222222,
              "#7201a8"
             ],
             [
              0.3333333333333333,
              "#9c179e"
             ],
             [
              0.4444444444444444,
              "#bd3786"
             ],
             [
              0.5555555555555556,
              "#d8576b"
             ],
             [
              0.6666666666666666,
              "#ed7953"
             ],
             [
              0.7777777777777778,
              "#fb9f3a"
             ],
             [
              0.8888888888888888,
              "#fdca26"
             ],
             [
              1,
              "#f0f921"
             ]
            ],
            "type": "heatmap"
           }
          ],
          "histogram": [
           {
            "marker": {
             "pattern": {
              "fillmode": "overlay",
              "size": 10,
              "solidity": 0.2
             }
            },
            "type": "histogram"
           }
          ],
          "histogram2d": [
           {
            "colorbar": {
             "outlinewidth": 0,
             "ticks": ""
            },
            "colorscale": [
             [
              0,
              "#0d0887"
             ],
             [
              0.1111111111111111,
              "#46039f"
             ],
             [
              0.2222222222222222,
              "#7201a8"
             ],
             [
              0.3333333333333333,
              "#9c179e"
             ],
             [
              0.4444444444444444,
              "#bd3786"
             ],
             [
              0.5555555555555556,
              "#d8576b"
             ],
             [
              0.6666666666666666,
              "#ed7953"
             ],
             [
              0.7777777777777778,
              "#fb9f3a"
             ],
             [
              0.8888888888888888,
              "#fdca26"
             ],
             [
              1,
              "#f0f921"
             ]
            ],
            "type": "histogram2d"
           }
          ],
          "histogram2dcontour": [
           {
            "colorbar": {
             "outlinewidth": 0,
             "ticks": ""
            },
            "colorscale": [
             [
              0,
              "#0d0887"
             ],
             [
              0.1111111111111111,
              "#46039f"
             ],
             [
              0.2222222222222222,
              "#7201a8"
             ],
             [
              0.3333333333333333,
              "#9c179e"
             ],
             [
              0.4444444444444444,
              "#bd3786"
             ],
             [
              0.5555555555555556,
              "#d8576b"
             ],
             [
              0.6666666666666666,
              "#ed7953"
             ],
             [
              0.7777777777777778,
              "#fb9f3a"
             ],
             [
              0.8888888888888888,
              "#fdca26"
             ],
             [
              1,
              "#f0f921"
             ]
            ],
            "type": "histogram2dcontour"
           }
          ],
          "mesh3d": [
           {
            "colorbar": {
             "outlinewidth": 0,
             "ticks": ""
            },
            "type": "mesh3d"
           }
          ],
          "parcoords": [
           {
            "line": {
             "colorbar": {
              "outlinewidth": 0,
              "ticks": ""
             }
            },
            "type": "parcoords"
           }
          ],
          "pie": [
           {
            "automargin": true,
            "type": "pie"
           }
          ],
          "scatter": [
           {
            "fillpattern": {
             "fillmode": "overlay",
             "size": 10,
             "solidity": 0.2
            },
            "type": "scatter"
           }
          ],
          "scatter3d": [
           {
            "line": {
             "colorbar": {
              "outlinewidth": 0,
              "ticks": ""
             }
            },
            "marker": {
             "colorbar": {
              "outlinewidth": 0,
              "ticks": ""
             }
            },
            "type": "scatter3d"
           }
          ],
          "scattercarpet": [
           {
            "marker": {
             "colorbar": {
              "outlinewidth": 0,
              "ticks": ""
             }
            },
            "type": "scattercarpet"
           }
          ],
          "scattergeo": [
           {
            "marker": {
             "colorbar": {
              "outlinewidth": 0,
              "ticks": ""
             }
            },
            "type": "scattergeo"
           }
          ],
          "scattergl": [
           {
            "marker": {
             "colorbar": {
              "outlinewidth": 0,
              "ticks": ""
             }
            },
            "type": "scattergl"
           }
          ],
          "scattermap": [
           {
            "marker": {
             "colorbar": {
              "outlinewidth": 0,
              "ticks": ""
             }
            },
            "type": "scattermap"
           }
          ],
          "scattermapbox": [
           {
            "marker": {
             "colorbar": {
              "outlinewidth": 0,
              "ticks": ""
             }
            },
            "type": "scattermapbox"
           }
          ],
          "scatterpolar": [
           {
            "marker": {
             "colorbar": {
              "outlinewidth": 0,
              "ticks": ""
             }
            },
            "type": "scatterpolar"
           }
          ],
          "scatterpolargl": [
           {
            "marker": {
             "colorbar": {
              "outlinewidth": 0,
              "ticks": ""
             }
            },
            "type": "scatterpolargl"
           }
          ],
          "scatterternary": [
           {
            "marker": {
             "colorbar": {
              "outlinewidth": 0,
              "ticks": ""
             }
            },
            "type": "scatterternary"
           }
          ],
          "surface": [
           {
            "colorbar": {
             "outlinewidth": 0,
             "ticks": ""
            },
            "colorscale": [
             [
              0,
              "#0d0887"
             ],
             [
              0.1111111111111111,
              "#46039f"
             ],
             [
              0.2222222222222222,
              "#7201a8"
             ],
             [
              0.3333333333333333,
              "#9c179e"
             ],
             [
              0.4444444444444444,
              "#bd3786"
             ],
             [
              0.5555555555555556,
              "#d8576b"
             ],
             [
              0.6666666666666666,
              "#ed7953"
             ],
             [
              0.7777777777777778,
              "#fb9f3a"
             ],
             [
              0.8888888888888888,
              "#fdca26"
             ],
             [
              1,
              "#f0f921"
             ]
            ],
            "type": "surface"
           }
          ],
          "table": [
           {
            "cells": {
             "fill": {
              "color": "#EBF0F8"
             },
             "line": {
              "color": "white"
             }
            },
            "header": {
             "fill": {
              "color": "#C8D4E3"
             },
             "line": {
              "color": "white"
             }
            },
            "type": "table"
           }
          ]
         },
         "layout": {
          "annotationdefaults": {
           "arrowcolor": "#2a3f5f",
           "arrowhead": 0,
           "arrowwidth": 1
          },
          "autotypenumbers": "strict",
          "coloraxis": {
           "colorbar": {
            "outlinewidth": 0,
            "ticks": ""
           }
          },
          "colorscale": {
           "diverging": [
            [
             0,
             "#8e0152"
            ],
            [
             0.1,
             "#c51b7d"
            ],
            [
             0.2,
             "#de77ae"
            ],
            [
             0.3,
             "#f1b6da"
            ],
            [
             0.4,
             "#fde0ef"
            ],
            [
             0.5,
             "#f7f7f7"
            ],
            [
             0.6,
             "#e6f5d0"
            ],
            [
             0.7,
             "#b8e186"
            ],
            [
             0.8,
             "#7fbc41"
            ],
            [
             0.9,
             "#4d9221"
            ],
            [
             1,
             "#276419"
            ]
           ],
           "sequential": [
            [
             0,
             "#0d0887"
            ],
            [
             0.1111111111111111,
             "#46039f"
            ],
            [
             0.2222222222222222,
             "#7201a8"
            ],
            [
             0.3333333333333333,
             "#9c179e"
            ],
            [
             0.4444444444444444,
             "#bd3786"
            ],
            [
             0.5555555555555556,
             "#d8576b"
            ],
            [
             0.6666666666666666,
             "#ed7953"
            ],
            [
             0.7777777777777778,
             "#fb9f3a"
            ],
            [
             0.8888888888888888,
             "#fdca26"
            ],
            [
             1,
             "#f0f921"
            ]
           ],
           "sequentialminus": [
            [
             0,
             "#0d0887"
            ],
            [
             0.1111111111111111,
             "#46039f"
            ],
            [
             0.2222222222222222,
             "#7201a8"
            ],
            [
             0.3333333333333333,
             "#9c179e"
            ],
            [
             0.4444444444444444,
             "#bd3786"
            ],
            [
             0.5555555555555556,
             "#d8576b"
            ],
            [
             0.6666666666666666,
             "#ed7953"
            ],
            [
             0.7777777777777778,
             "#fb9f3a"
            ],
            [
             0.8888888888888888,
             "#fdca26"
            ],
            [
             1,
             "#f0f921"
            ]
           ]
          },
          "colorway": [
           "#636efa",
           "#EF553B",
           "#00cc96",
           "#ab63fa",
           "#FFA15A",
           "#19d3f3",
           "#FF6692",
           "#B6E880",
           "#FF97FF",
           "#FECB52"
          ],
          "font": {
           "color": "#2a3f5f"
          },
          "geo": {
           "bgcolor": "white",
           "lakecolor": "white",
           "landcolor": "#E5ECF6",
           "showlakes": true,
           "showland": true,
           "subunitcolor": "white"
          },
          "hoverlabel": {
           "align": "left"
          },
          "hovermode": "closest",
          "mapbox": {
           "style": "light"
          },
          "paper_bgcolor": "white",
          "plot_bgcolor": "#E5ECF6",
          "polar": {
           "angularaxis": {
            "gridcolor": "white",
            "linecolor": "white",
            "ticks": ""
           },
           "bgcolor": "#E5ECF6",
           "radialaxis": {
            "gridcolor": "white",
            "linecolor": "white",
            "ticks": ""
           }
          },
          "scene": {
           "xaxis": {
            "backgroundcolor": "#E5ECF6",
            "gridcolor": "white",
            "gridwidth": 2,
            "linecolor": "white",
            "showbackground": true,
            "ticks": "",
            "zerolinecolor": "white"
           },
           "yaxis": {
            "backgroundcolor": "#E5ECF6",
            "gridcolor": "white",
            "gridwidth": 2,
            "linecolor": "white",
            "showbackground": true,
            "ticks": "",
            "zerolinecolor": "white"
           },
           "zaxis": {
            "backgroundcolor": "#E5ECF6",
            "gridcolor": "white",
            "gridwidth": 2,
            "linecolor": "white",
            "showbackground": true,
            "ticks": "",
            "zerolinecolor": "white"
           }
          },
          "shapedefaults": {
           "line": {
            "color": "#2a3f5f"
           }
          },
          "ternary": {
           "aaxis": {
            "gridcolor": "white",
            "linecolor": "white",
            "ticks": ""
           },
           "baxis": {
            "gridcolor": "white",
            "linecolor": "white",
            "ticks": ""
           },
           "bgcolor": "#E5ECF6",
           "caxis": {
            "gridcolor": "white",
            "linecolor": "white",
            "ticks": ""
           }
          },
          "title": {
           "x": 0.05
          },
          "xaxis": {
           "automargin": true,
           "gridcolor": "white",
           "linecolor": "white",
           "ticks": "",
           "title": {
            "standoff": 15
           },
           "zerolinecolor": "white",
           "zerolinewidth": 2
          },
          "yaxis": {
           "automargin": true,
           "gridcolor": "white",
           "linecolor": "white",
           "ticks": "",
           "title": {
            "standoff": 15
           },
           "zerolinecolor": "white",
           "zerolinewidth": 2
          }
         }
        },
        "title": {
         "text": "Top 10 Accounts: Heatmap + Trendline + Std Dev Volatility"
        },
        "width": 1400,
        "xaxis": {
         "anchor": "y",
         "domain": [
          0,
          0.2866666666666667
         ]
        },
        "xaxis10": {
         "anchor": "y10",
         "domain": [
          0,
          0.2866666666666667
         ]
        },
        "xaxis11": {
         "anchor": "y11",
         "domain": [
          0.3566666666666667,
          0.6433333333333333
         ]
        },
        "xaxis12": {
         "anchor": "y12",
         "domain": [
          0.7133333333333334,
          1
         ]
        },
        "xaxis13": {
         "anchor": "y13",
         "domain": [
          0,
          0.2866666666666667
         ]
        },
        "xaxis14": {
         "anchor": "y14",
         "domain": [
          0.3566666666666667,
          0.6433333333333333
         ]
        },
        "xaxis15": {
         "anchor": "y15",
         "domain": [
          0.7133333333333334,
          1
         ]
        },
        "xaxis16": {
         "anchor": "y16",
         "domain": [
          0,
          0.2866666666666667
         ]
        },
        "xaxis17": {
         "anchor": "y17",
         "domain": [
          0.3566666666666667,
          0.6433333333333333
         ]
        },
        "xaxis18": {
         "anchor": "y18",
         "domain": [
          0.7133333333333334,
          1
         ]
        },
        "xaxis19": {
         "anchor": "y19",
         "domain": [
          0,
          0.2866666666666667
         ]
        },
        "xaxis2": {
         "anchor": "y2",
         "domain": [
          0.3566666666666667,
          0.6433333333333333
         ]
        },
        "xaxis20": {
         "anchor": "y20",
         "domain": [
          0.3566666666666667,
          0.6433333333333333
         ]
        },
        "xaxis21": {
         "anchor": "y21",
         "domain": [
          0.7133333333333334,
          1
         ]
        },
        "xaxis22": {
         "anchor": "y22",
         "domain": [
          0,
          0.2866666666666667
         ]
        },
        "xaxis23": {
         "anchor": "y23",
         "domain": [
          0.3566666666666667,
          0.6433333333333333
         ]
        },
        "xaxis24": {
         "anchor": "y24",
         "domain": [
          0.7133333333333334,
          1
         ]
        },
        "xaxis25": {
         "anchor": "y25",
         "domain": [
          0,
          0.2866666666666667
         ]
        },
        "xaxis26": {
         "anchor": "y26",
         "domain": [
          0.3566666666666667,
          0.6433333333333333
         ]
        },
        "xaxis27": {
         "anchor": "y27",
         "domain": [
          0.7133333333333334,
          1
         ]
        },
        "xaxis28": {
         "anchor": "y28",
         "domain": [
          0,
          0.2866666666666667
         ]
        },
        "xaxis29": {
         "anchor": "y29",
         "domain": [
          0.3566666666666667,
          0.6433333333333333
         ]
        },
        "xaxis3": {
         "anchor": "y3",
         "domain": [
          0.7133333333333334,
          1
         ]
        },
        "xaxis30": {
         "anchor": "y30",
         "domain": [
          0.7133333333333334,
          1
         ]
        },
        "xaxis4": {
         "anchor": "y4",
         "domain": [
          0,
          0.2866666666666667
         ]
        },
        "xaxis5": {
         "anchor": "y5",
         "domain": [
          0.3566666666666667,
          0.6433333333333333
         ]
        },
        "xaxis6": {
         "anchor": "y6",
         "domain": [
          0.7133333333333334,
          1
         ]
        },
        "xaxis7": {
         "anchor": "y7",
         "domain": [
          0,
          0.2866666666666667
         ]
        },
        "xaxis8": {
         "anchor": "y8",
         "domain": [
          0.3566666666666667,
          0.6433333333333333
         ]
        },
        "xaxis9": {
         "anchor": "y9",
         "domain": [
          0.7133333333333334,
          1
         ]
        },
        "yaxis": {
         "anchor": "x",
         "domain": [
          0.9269999999999999,
          0.9999999999999999
         ]
        },
        "yaxis10": {
         "anchor": "x10",
         "domain": [
          0.6179999999999999,
          0.6909999999999998
         ]
        },
        "yaxis11": {
         "anchor": "x11",
         "domain": [
          0.6179999999999999,
          0.6909999999999998
         ]
        },
        "yaxis12": {
         "anchor": "x12",
         "domain": [
          0.6179999999999999,
          0.6909999999999998
         ]
        },
        "yaxis13": {
         "anchor": "x13",
         "domain": [
          0.515,
          0.588
         ]
        },
        "yaxis14": {
         "anchor": "x14",
         "domain": [
          0.515,
          0.588
         ]
        },
        "yaxis15": {
         "anchor": "x15",
         "domain": [
          0.515,
          0.588
         ]
        },
        "yaxis16": {
         "anchor": "x16",
         "domain": [
          0.412,
          0.485
         ]
        },
        "yaxis17": {
         "anchor": "x17",
         "domain": [
          0.412,
          0.485
         ]
        },
        "yaxis18": {
         "anchor": "x18",
         "domain": [
          0.412,
          0.485
         ]
        },
        "yaxis19": {
         "anchor": "x19",
         "domain": [
          0.30899999999999994,
          0.38199999999999995
         ]
        },
        "yaxis2": {
         "anchor": "x2",
         "domain": [
          0.9269999999999999,
          0.9999999999999999
         ]
        },
        "yaxis20": {
         "anchor": "x20",
         "domain": [
          0.30899999999999994,
          0.38199999999999995
         ]
        },
        "yaxis21": {
         "anchor": "x21",
         "domain": [
          0.30899999999999994,
          0.38199999999999995
         ]
        },
        "yaxis22": {
         "anchor": "x22",
         "domain": [
          0.206,
          0.27899999999999997
         ]
        },
        "yaxis23": {
         "anchor": "x23",
         "domain": [
          0.206,
          0.27899999999999997
         ]
        },
        "yaxis24": {
         "anchor": "x24",
         "domain": [
          0.206,
          0.27899999999999997
         ]
        },
        "yaxis25": {
         "anchor": "x25",
         "domain": [
          0.103,
          0.176
         ]
        },
        "yaxis26": {
         "anchor": "x26",
         "domain": [
          0.103,
          0.176
         ]
        },
        "yaxis27": {
         "anchor": "x27",
         "domain": [
          0.103,
          0.176
         ]
        },
        "yaxis28": {
         "anchor": "x28",
         "domain": [
          0,
          0.073
         ]
        },
        "yaxis29": {
         "anchor": "x29",
         "domain": [
          0,
          0.073
         ]
        },
        "yaxis3": {
         "anchor": "x3",
         "domain": [
          0.9269999999999999,
          0.9999999999999999
         ]
        },
        "yaxis30": {
         "anchor": "x30",
         "domain": [
          0,
          0.073
         ]
        },
        "yaxis4": {
         "anchor": "x4",
         "domain": [
          0.824,
          0.8969999999999999
         ]
        },
        "yaxis5": {
         "anchor": "x5",
         "domain": [
          0.824,
          0.8969999999999999
         ]
        },
        "yaxis6": {
         "anchor": "x6",
         "domain": [
          0.824,
          0.8969999999999999
         ]
        },
        "yaxis7": {
         "anchor": "x7",
         "domain": [
          0.721,
          0.7939999999999999
         ]
        },
        "yaxis8": {
         "anchor": "x8",
         "domain": [
          0.721,
          0.7939999999999999
         ]
        },
        "yaxis9": {
         "anchor": "x9",
         "domain": [
          0.721,
          0.7939999999999999
         ]
        }
       }
      }
     },
     "metadata": {},
     "output_type": "display_data"
    }
   ],
   "source": [
    "import pandas as pd\n",
    "import numpy as np\n",
    "import plotly.graph_objects as go\n",
    "from plotly.subplots import make_subplots\n",
    "\n",
    "# 模拟数据（10个账户 × 52周）\n",
    "np.random.seed(42)\n",
    "accounts = [f'acct{i}' for i in range(1, 11)]\n",
    "weeks = list(range(1, 53))\n",
    "data = []\n",
    "\n",
    "for acct in accounts:\n",
    "    base = np.random.uniform(-1, 1, 52)\n",
    "    volatility = np.round(np.abs(np.random.normal(loc=0.3, scale=0.1, size=52)), 2)\n",
    "    for i, week in enumerate(weeks):\n",
    "        data.append({\n",
    "            'account_id': acct,\n",
    "            'rolling_week': week,\n",
    "            'stocking_change': np.round(base[i] + np.random.normal(0, 0.3), 2),\n",
    "            'stocking_change_volatility': volatility[i]\n",
    "        })\n",
    "\n",
    "df = pd.DataFrame(data)\n",
    "\n",
    "# 选出代表性账户（按波动平均排序）\n",
    "top_accounts = (\n",
    "    df.groupby('account_id')['stocking_change_volatility']\n",
    "    .mean()\n",
    "    .sort_values(ascending=False)\n",
    "    .head(10)\n",
    "    .index\n",
    ")\n",
    "\n",
    "df_top = df[df['account_id'].isin(top_accounts)]\n",
    "heatmap_data = df_top.pivot(index='account_id', columns='rolling_week', values='stocking_change')\n",
    "std_df = df_top.groupby('account_id')['stocking_change'].std().reset_index(name='stocking_std')\n",
    "\n",
    "# 创建子图：3列（Heatmap + Line Chart + Std Dev Bar），每行是一个 account\n",
    "fig = make_subplots(\n",
    "    rows=10, cols=3,\n",
    "    shared_xaxes=False,\n",
    "    vertical_spacing=0.03,\n",
    "    horizontal_spacing=0.07,\n",
    "    column_titles=[\"Stocking Change Heatmap\", \"Stocking Change Line\", \"Volatility (Std Dev)\"]\n",
    ")\n",
    "\n",
    "for i, acct in enumerate(top_accounts, start=1):\n",
    "    df_sub = df_top[df_top['account_id'] == acct]\n",
    "    std_val = std_df[std_df['account_id'] == acct]['stocking_std'].values[0]\n",
    "\n",
    "    # Heatmap：单行\n",
    "    fig.add_trace(\n",
    "        go.Heatmap(\n",
    "            z=[df_sub['stocking_change'].values],\n",
    "            x=df_sub['rolling_week'],\n",
    "            y=[acct],\n",
    "            colorscale=[[0.0, \"#d28b88\"], [0.5, \"#e8e8e8\"], [1.0, \"#6f918b\"]],\n",
    "            zmin=-2, zmax=2,\n",
    "            showscale=False\n",
    "        ),\n",
    "        row=i, col=1\n",
    "    )\n",
    "\n",
    "    # 折线图（sparkline）\n",
    "    fig.add_trace(\n",
    "        go.Scatter(\n",
    "            x=df_sub['rolling_week'],\n",
    "            y=df_sub['stocking_change'],\n",
    "            mode='lines',\n",
    "            line=dict(color=\"#6f918b\"),\n",
    "            showlegend=False\n",
    "        ),\n",
    "        row=i, col=2\n",
    "    )\n",
    "\n",
    "    # Bar 图（标准差）\n",
    "    fig.add_trace(\n",
    "        go.Bar(\n",
    "            x=[std_val],\n",
    "            y=[acct],\n",
    "            orientation='h',\n",
    "            marker=dict(color=\"#6f918b\"),\n",
    "            text=[f\"{std_val:.2f}\"],\n",
    "            textposition=\"outside\",\n",
    "            showlegend=False\n",
    "        ),\n",
    "        row=i, col=3\n",
    "    )\n",
    "\n",
    "fig.update_layout(\n",
    "    height=2200,\n",
    "    width=1400,\n",
    "    title=\"Top 10 Accounts: Heatmap + Trendline + Std Dev Volatility\",\n",
    "    font=dict(family=\"Courier New\", size=10),\n",
    "    margin=dict(t=60, l=40, r=40, b=40)\n",
    ")\n",
    "\n",
    "fig.show()\n"
   ]
  },
  {
   "cell_type": "code",
   "execution_count": 46,
   "id": "26915a93",
   "metadata": {},
   "outputs": [
    {
     "data": {
      "application/vnd.plotly.v1+json": {
       "config": {
        "plotlyServerURL": "https://plot.ly"
       },
       "data": [
        {
         "colorbar": {
          "len": 0.5,
          "orientation": "h",
          "thickness": 12,
          "title": {
           "side": "right",
           "text": "Stocking Change"
          },
          "x": 0.15,
          "y": -0.3
         },
         "colorscale": [
          [
           0,
           "#dca3a3"
          ],
          [
           0.5,
           "#f0efef"
          ],
          [
           1,
           "#94b8a3"
          ]
         ],
         "type": "heatmap",
         "x": {
          "bdata": "AQIDBAUGBwgJCgsMDQ4PEBESExQVFhcYGRobHB0eHyAhIiMkJSYnKCkqKywtLi8wMTIzNA==",
          "dtype": "i1"
         },
         "xaxis": "x",
         "y": [
          "acct1",
          "acct10",
          "acct2",
          "acct3",
          "acct4",
          "acct5",
          "acct6",
          "acct7",
          "acct8",
          "acct9"
         ],
         "yaxis": "y",
         "z": {
          "bdata": "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",
          "dtype": "f8",
          "shape": "10, 52"
         },
         "zmax": 2,
         "zmin": -2
        },
        {
         "marker": {
          "color": "#748d83"
         },
         "orientation": "h",
         "text": [
          "0.62",
          "0.68",
          "0.71",
          "0.78",
          "0.61",
          "0.55",
          "0.67",
          "0.64",
          "0.61",
          "0.54"
         ],
         "textposition": "outside",
         "type": "bar",
         "x": {
          "bdata": "xwGGSqbr4z9fkx5UbLzlPzPJSaxW2+Y/TkyChar86D9pBDtSepvjPzNakmawuuE/TegLJhpJ5T9/u6QTnWXkP77DTWgccOM/NwcI8ZRm4T8=",
          "dtype": "f8"
         },
         "xaxis": "x2",
         "y": [
          "acct1",
          "acct10",
          "acct2",
          "acct3",
          "acct4",
          "acct5",
          "acct6",
          "acct7",
          "acct8",
          "acct9"
         ],
         "yaxis": "y2"
        }
       ],
       "layout": {
        "annotations": [
         {
          "font": {
           "size": 16
          },
          "showarrow": false,
          "text": "Stocking Change Heatmap",
          "x": 0.3375,
          "xanchor": "center",
          "xref": "paper",
          "y": 1,
          "yanchor": "bottom",
          "yref": "paper"
         },
         {
          "font": {
           "size": 16
          },
          "showarrow": false,
          "text": "Stocking Change Volatility (Std Dev)",
          "x": 0.8875,
          "xanchor": "center",
          "xref": "paper",
          "y": 1,
          "yanchor": "bottom",
          "yref": "paper"
         }
        ],
        "font": {
         "family": "Courier New",
         "size": 11
        },
        "height": 320,
        "margin": {
         "b": 40,
         "l": 40,
         "r": 40,
         "t": 40
        },
        "paper_bgcolor": "white",
        "plot_bgcolor": "white",
        "template": {
         "data": {
          "bar": [
           {
            "error_x": {
             "color": "#2a3f5f"
            },
            "error_y": {
             "color": "#2a3f5f"
            },
            "marker": {
             "line": {
              "color": "#E5ECF6",
              "width": 0.5
             },
             "pattern": {
              "fillmode": "overlay",
              "size": 10,
              "solidity": 0.2
             }
            },
            "type": "bar"
           }
          ],
          "barpolar": [
           {
            "marker": {
             "line": {
              "color": "#E5ECF6",
              "width": 0.5
             },
             "pattern": {
              "fillmode": "overlay",
              "size": 10,
              "solidity": 0.2
             }
            },
            "type": "barpolar"
           }
          ],
          "carpet": [
           {
            "aaxis": {
             "endlinecolor": "#2a3f5f",
             "gridcolor": "white",
             "linecolor": "white",
             "minorgridcolor": "white",
             "startlinecolor": "#2a3f5f"
            },
            "baxis": {
             "endlinecolor": "#2a3f5f",
             "gridcolor": "white",
             "linecolor": "white",
             "minorgridcolor": "white",
             "startlinecolor": "#2a3f5f"
            },
            "type": "carpet"
           }
          ],
          "choropleth": [
           {
            "colorbar": {
             "outlinewidth": 0,
             "ticks": ""
            },
            "type": "choropleth"
           }
          ],
          "contour": [
           {
            "colorbar": {
             "outlinewidth": 0,
             "ticks": ""
            },
            "colorscale": [
             [
              0,
              "#0d0887"
             ],
             [
              0.1111111111111111,
              "#46039f"
             ],
             [
              0.2222222222222222,
              "#7201a8"
             ],
             [
              0.3333333333333333,
              "#9c179e"
             ],
             [
              0.4444444444444444,
              "#bd3786"
             ],
             [
              0.5555555555555556,
              "#d8576b"
             ],
             [
              0.6666666666666666,
              "#ed7953"
             ],
             [
              0.7777777777777778,
              "#fb9f3a"
             ],
             [
              0.8888888888888888,
              "#fdca26"
             ],
             [
              1,
              "#f0f921"
             ]
            ],
            "type": "contour"
           }
          ],
          "contourcarpet": [
           {
            "colorbar": {
             "outlinewidth": 0,
             "ticks": ""
            },
            "type": "contourcarpet"
           }
          ],
          "heatmap": [
           {
            "colorbar": {
             "outlinewidth": 0,
             "ticks": ""
            },
            "colorscale": [
             [
              0,
              "#0d0887"
             ],
             [
              0.1111111111111111,
              "#46039f"
             ],
             [
              0.2222222222222222,
              "#7201a8"
             ],
             [
              0.3333333333333333,
              "#9c179e"
             ],
             [
              0.4444444444444444,
              "#bd3786"
             ],
             [
              0.5555555555555556,
              "#d8576b"
             ],
             [
              0.6666666666666666,
              "#ed7953"
             ],
             [
              0.7777777777777778,
              "#fb9f3a"
             ],
             [
              0.8888888888888888,
              "#fdca26"
             ],
             [
              1,
              "#f0f921"
             ]
            ],
            "type": "heatmap"
           }
          ],
          "histogram": [
           {
            "marker": {
             "pattern": {
              "fillmode": "overlay",
              "size": 10,
              "solidity": 0.2
             }
            },
            "type": "histogram"
           }
          ],
          "histogram2d": [
           {
            "colorbar": {
             "outlinewidth": 0,
             "ticks": ""
            },
            "colorscale": [
             [
              0,
              "#0d0887"
             ],
             [
              0.1111111111111111,
              "#46039f"
             ],
             [
              0.2222222222222222,
              "#7201a8"
             ],
             [
              0.3333333333333333,
              "#9c179e"
             ],
             [
              0.4444444444444444,
              "#bd3786"
             ],
             [
              0.5555555555555556,
              "#d8576b"
             ],
             [
              0.6666666666666666,
              "#ed7953"
             ],
             [
              0.7777777777777778,
              "#fb9f3a"
             ],
             [
              0.8888888888888888,
              "#fdca26"
             ],
             [
              1,
              "#f0f921"
             ]
            ],
            "type": "histogram2d"
           }
          ],
          "histogram2dcontour": [
           {
            "colorbar": {
             "outlinewidth": 0,
             "ticks": ""
            },
            "colorscale": [
             [
              0,
              "#0d0887"
             ],
             [
              0.1111111111111111,
              "#46039f"
             ],
             [
              0.2222222222222222,
              "#7201a8"
             ],
             [
              0.3333333333333333,
              "#9c179e"
             ],
             [
              0.4444444444444444,
              "#bd3786"
             ],
             [
              0.5555555555555556,
              "#d8576b"
             ],
             [
              0.6666666666666666,
              "#ed7953"
             ],
             [
              0.7777777777777778,
              "#fb9f3a"
             ],
             [
              0.8888888888888888,
              "#fdca26"
             ],
             [
              1,
              "#f0f921"
             ]
            ],
            "type": "histogram2dcontour"
           }
          ],
          "mesh3d": [
           {
            "colorbar": {
             "outlinewidth": 0,
             "ticks": ""
            },
            "type": "mesh3d"
           }
          ],
          "parcoords": [
           {
            "line": {
             "colorbar": {
              "outlinewidth": 0,
              "ticks": ""
             }
            },
            "type": "parcoords"
           }
          ],
          "pie": [
           {
            "automargin": true,
            "type": "pie"
           }
          ],
          "scatter": [
           {
            "fillpattern": {
             "fillmode": "overlay",
             "size": 10,
             "solidity": 0.2
            },
            "type": "scatter"
           }
          ],
          "scatter3d": [
           {
            "line": {
             "colorbar": {
              "outlinewidth": 0,
              "ticks": ""
             }
            },
            "marker": {
             "colorbar": {
              "outlinewidth": 0,
              "ticks": ""
             }
            },
            "type": "scatter3d"
           }
          ],
          "scattercarpet": [
           {
            "marker": {
             "colorbar": {
              "outlinewidth": 0,
              "ticks": ""
             }
            },
            "type": "scattercarpet"
           }
          ],
          "scattergeo": [
           {
            "marker": {
             "colorbar": {
              "outlinewidth": 0,
              "ticks": ""
             }
            },
            "type": "scattergeo"
           }
          ],
          "scattergl": [
           {
            "marker": {
             "colorbar": {
              "outlinewidth": 0,
              "ticks": ""
             }
            },
            "type": "scattergl"
           }
          ],
          "scattermap": [
           {
            "marker": {
             "colorbar": {
              "outlinewidth": 0,
              "ticks": ""
             }
            },
            "type": "scattermap"
           }
          ],
          "scattermapbox": [
           {
            "marker": {
             "colorbar": {
              "outlinewidth": 0,
              "ticks": ""
             }
            },
            "type": "scattermapbox"
           }
          ],
          "scatterpolar": [
           {
            "marker": {
             "colorbar": {
              "outlinewidth": 0,
              "ticks": ""
             }
            },
            "type": "scatterpolar"
           }
          ],
          "scatterpolargl": [
           {
            "marker": {
             "colorbar": {
              "outlinewidth": 0,
              "ticks": ""
             }
            },
            "type": "scatterpolargl"
           }
          ],
          "scatterternary": [
           {
            "marker": {
             "colorbar": {
              "outlinewidth": 0,
              "ticks": ""
             }
            },
            "type": "scatterternary"
           }
          ],
          "surface": [
           {
            "colorbar": {
             "outlinewidth": 0,
             "ticks": ""
            },
            "colorscale": [
             [
              0,
              "#0d0887"
             ],
             [
              0.1111111111111111,
              "#46039f"
             ],
             [
              0.2222222222222222,
              "#7201a8"
             ],
             [
              0.3333333333333333,
              "#9c179e"
             ],
             [
              0.4444444444444444,
              "#bd3786"
             ],
             [
              0.5555555555555556,
              "#d8576b"
             ],
             [
              0.6666666666666666,
              "#ed7953"
             ],
             [
              0.7777777777777778,
              "#fb9f3a"
             ],
             [
              0.8888888888888888,
              "#fdca26"
             ],
             [
              1,
              "#f0f921"
             ]
            ],
            "type": "surface"
           }
          ],
          "table": [
           {
            "cells": {
             "fill": {
              "color": "#EBF0F8"
             },
             "line": {
              "color": "white"
             }
            },
            "header": {
             "fill": {
              "color": "#C8D4E3"
             },
             "line": {
              "color": "white"
             }
            },
            "type": "table"
           }
          ]
         },
         "layout": {
          "annotationdefaults": {
           "arrowcolor": "#2a3f5f",
           "arrowhead": 0,
           "arrowwidth": 1
          },
          "autotypenumbers": "strict",
          "coloraxis": {
           "colorbar": {
            "outlinewidth": 0,
            "ticks": ""
           }
          },
          "colorscale": {
           "diverging": [
            [
             0,
             "#8e0152"
            ],
            [
             0.1,
             "#c51b7d"
            ],
            [
             0.2,
             "#de77ae"
            ],
            [
             0.3,
             "#f1b6da"
            ],
            [
             0.4,
             "#fde0ef"
            ],
            [
             0.5,
             "#f7f7f7"
            ],
            [
             0.6,
             "#e6f5d0"
            ],
            [
             0.7,
             "#b8e186"
            ],
            [
             0.8,
             "#7fbc41"
            ],
            [
             0.9,
             "#4d9221"
            ],
            [
             1,
             "#276419"
            ]
           ],
           "sequential": [
            [
             0,
             "#0d0887"
            ],
            [
             0.1111111111111111,
             "#46039f"
            ],
            [
             0.2222222222222222,
             "#7201a8"
            ],
            [
             0.3333333333333333,
             "#9c179e"
            ],
            [
             0.4444444444444444,
             "#bd3786"
            ],
            [
             0.5555555555555556,
             "#d8576b"
            ],
            [
             0.6666666666666666,
             "#ed7953"
            ],
            [
             0.7777777777777778,
             "#fb9f3a"
            ],
            [
             0.8888888888888888,
             "#fdca26"
            ],
            [
             1,
             "#f0f921"
            ]
           ],
           "sequentialminus": [
            [
             0,
             "#0d0887"
            ],
            [
             0.1111111111111111,
             "#46039f"
            ],
            [
             0.2222222222222222,
             "#7201a8"
            ],
            [
             0.3333333333333333,
             "#9c179e"
            ],
            [
             0.4444444444444444,
             "#bd3786"
            ],
            [
             0.5555555555555556,
             "#d8576b"
            ],
            [
             0.6666666666666666,
             "#ed7953"
            ],
            [
             0.7777777777777778,
             "#fb9f3a"
            ],
            [
             0.8888888888888888,
             "#fdca26"
            ],
            [
             1,
             "#f0f921"
            ]
           ]
          },
          "colorway": [
           "#636efa",
           "#EF553B",
           "#00cc96",
           "#ab63fa",
           "#FFA15A",
           "#19d3f3",
           "#FF6692",
           "#B6E880",
           "#FF97FF",
           "#FECB52"
          ],
          "font": {
           "color": "#2a3f5f"
          },
          "geo": {
           "bgcolor": "white",
           "lakecolor": "white",
           "landcolor": "#E5ECF6",
           "showlakes": true,
           "showland": true,
           "subunitcolor": "white"
          },
          "hoverlabel": {
           "align": "left"
          },
          "hovermode": "closest",
          "mapbox": {
           "style": "light"
          },
          "paper_bgcolor": "white",
          "plot_bgcolor": "#E5ECF6",
          "polar": {
           "angularaxis": {
            "gridcolor": "white",
            "linecolor": "white",
            "ticks": ""
           },
           "bgcolor": "#E5ECF6",
           "radialaxis": {
            "gridcolor": "white",
            "linecolor": "white",
            "ticks": ""
           }
          },
          "scene": {
           "xaxis": {
            "backgroundcolor": "#E5ECF6",
            "gridcolor": "white",
            "gridwidth": 2,
            "linecolor": "white",
            "showbackground": true,
            "ticks": "",
            "zerolinecolor": "white"
           },
           "yaxis": {
            "backgroundcolor": "#E5ECF6",
            "gridcolor": "white",
            "gridwidth": 2,
            "linecolor": "white",
            "showbackground": true,
            "ticks": "",
            "zerolinecolor": "white"
           },
           "zaxis": {
            "backgroundcolor": "#E5ECF6",
            "gridcolor": "white",
            "gridwidth": 2,
            "linecolor": "white",
            "showbackground": true,
            "ticks": "",
            "zerolinecolor": "white"
           }
          },
          "shapedefaults": {
           "line": {
            "color": "#2a3f5f"
           }
          },
          "ternary": {
           "aaxis": {
            "gridcolor": "white",
            "linecolor": "white",
            "ticks": ""
           },
           "baxis": {
            "gridcolor": "white",
            "linecolor": "white",
            "ticks": ""
           },
           "bgcolor": "#E5ECF6",
           "caxis": {
            "gridcolor": "white",
            "linecolor": "white",
            "ticks": ""
           }
          },
          "title": {
           "x": 0.05
          },
          "xaxis": {
           "automargin": true,
           "gridcolor": "white",
           "linecolor": "white",
           "ticks": "",
           "title": {
            "standoff": 15
           },
           "zerolinecolor": "white",
           "zerolinewidth": 2
          },
          "yaxis": {
           "automargin": true,
           "gridcolor": "white",
           "linecolor": "white",
           "ticks": "",
           "title": {
            "standoff": 15
           },
           "zerolinecolor": "white",
           "zerolinewidth": 2
          }
         }
        },
        "title": {
         "text": "Stocking Change Volatility: Heatmap and Standard Deviation (White Background)"
        },
        "width": 800,
        "xaxis": {
         "anchor": "y",
         "domain": [
          0,
          0.675
         ]
        },
        "xaxis2": {
         "anchor": "y2",
         "domain": [
          0.775,
          1
         ]
        },
        "yaxis": {
         "anchor": "x",
         "domain": [
          0,
          1
         ]
        },
        "yaxis2": {
         "anchor": "x2",
         "domain": [
          0,
          1
         ]
        }
       }
      }
     },
     "metadata": {},
     "output_type": "display_data"
    }
   ],
   "source": [
    "import pandas as pd\n",
    "import numpy as np\n",
    "import plotly.graph_objects as go\n",
    "from plotly.subplots import make_subplots\n",
    "\n",
    "# 模拟数据（10个账户 × 52周）\n",
    "np.random.seed(42)\n",
    "accounts = [f'acct{i}' for i in range(1, 11)]\n",
    "weeks = list(range(1, 53))\n",
    "data = []\n",
    "\n",
    "for acct in accounts:\n",
    "    base = np.random.uniform(-1, 1, 52)\n",
    "    volatility = np.round(np.abs(np.random.normal(loc=0.3, scale=0.1, size=52)), 2)\n",
    "    for i, week in enumerate(weeks):\n",
    "        data.append({\n",
    "            'account_id': acct,\n",
    "            'rolling_week': week,\n",
    "            'stocking_change': np.round(base[i] + np.random.normal(0, 0.3), 2),\n",
    "            'stocking_change_volatility': volatility[i]\n",
    "        })\n",
    "\n",
    "df = pd.DataFrame(data)\n",
    "\n",
    "# 选出代表性账户（按波动平均排序）\n",
    "top_accounts = (\n",
    "    df.groupby('account_id')['stocking_change_volatility']\n",
    "    .mean()\n",
    "    .sort_values(ascending=False)\n",
    "    .head(10)\n",
    "    .index\n",
    ")\n",
    "\n",
    "df_top = df[df['account_id'].isin(top_accounts)]\n",
    "heatmap_data = df_top.pivot(index='account_id', columns='rolling_week', values='stocking_change')\n",
    "std_df = df_top.groupby('account_id')['stocking_change'].std().reset_index(name='stocking_std')\n",
    "\n",
    "\n",
    "fig = make_subplots(\n",
    "    rows=1, cols=2,\n",
    "    column_widths=[3/4, 1/4],\n",
    "    column_titles=[\"Stocking Change Heatmap\", \"Stocking Change Volatility (Std Dev)\"],\n",
    "    horizontal_spacing=0.1\n",
    ")\n",
    "\n",
    "fig.add_trace(\n",
    "    go.Heatmap(\n",
    "        z=heatmap_data.values,\n",
    "        x=heatmap_data.columns,\n",
    "        y=heatmap_data.index,\n",
    "        colorscale=[\n",
    "            [0.0, \"#dca3a3\"],   # muted rose\n",
    "            [0.5, \"#f0efef\"],   # warm neutral\n",
    "            [1.0, \"#94b8a3\"]    # eucalyptus green\n",
    "        ],\n",
    "        zmin=-2, zmax=2,\n",
    "        colorbar=dict(\n",
    "        title=\"Stocking Change\",\n",
    "        orientation='h',\n",
    "        x=0.15,      # 居中偏左些，避免压到右图\n",
    "        y=-0.3,\n",
    "        len=0.5,\n",
    "        thickness=12,\n",
    "        title_side='right'\n",
    "    )\n",
    "    ),\n",
    "    row=1, col=1\n",
    ")\n",
    "\n",
    "fig.add_trace(\n",
    "    go.Bar(\n",
    "        x=std_df['stocking_std'],\n",
    "        y=std_df['account_id'],\n",
    "        orientation='h',\n",
    "        marker=dict(color=\"#748d83\"),  # 更沉稳的灰绿\n",
    "        text=[f\"{v:.2f}\" for v in std_df['stocking_std']],\n",
    "        textposition=\"outside\"\n",
    "    ),\n",
    "    row=1, col=2\n",
    ")\n",
    "\n",
    "fig.update_layout(\n",
    "    height=320,\n",
    "    width=800,\n",
    "    title=\"Stocking Change Volatility: Heatmap and Standard Deviation (White Background)\",\n",
    "    font=dict(family=\"Courier New\", size=11),\n",
    "    margin=dict(t=40, l=40, r=40, b=40),\n",
    "    plot_bgcolor='white',\n",
    "    paper_bgcolor='white'\n",
    ")\n",
    "\n",
    "\n",
    "fig.show()\n"
   ]
  },
  {
   "cell_type": "code",
   "execution_count": 77,
   "id": "d0447f86",
   "metadata": {},
   "outputs": [
    {
     "data": {
      "application/vnd.plotly.v1+json": {
       "config": {
        "plotlyServerURL": "https://plot.ly"
       },
       "data": [
        {
         "colorbar": {
          "len": 0.35,
          "orientation": "h",
          "thickness": 12,
          "title": {
           "side": "right",
           "text": "Stocking Change"
          },
          "x": 0.25,
          "y": -0.3
         },
         "colorscale": [
          [
           0,
           "#dca3a3"
          ],
          [
           0.5,
           "#f0efef"
          ],
          [
           1,
           "#94b8a3"
          ]
         ],
         "type": "heatmap",
         "x": {
          "bdata": "AQIDBAUGBwgJCgsMDQ4PEBESExQVFhcYGRobHB0eHyAhIiMkJSYnKCkqKywtLi8wMTIzNA==",
          "dtype": "i1"
         },
         "xaxis": "x",
         "y": [
          "acct1",
          "acct10",
          "acct2",
          "acct3",
          "acct4",
          "acct5",
          "acct6",
          "acct7",
          "acct8",
          "acct9"
         ],
         "yaxis": "y",
         "z": {
          "bdata": "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",
          "dtype": "f8",
          "shape": "10, 52"
         },
         "zmax": 2,
         "zmin": -2
        },
        {
         "colorbar": {
          "len": 0.25,
          "orientation": "h",
          "thickness": 12,
          "title": {
           "side": "right",
           "text": "volitility"
          },
          "x": 0.85,
          "y": -0.3
         },
         "colorscale": [
          [
           0,
           "#4a6c68"
          ],
          [
           0.5,
           "#e2e2e2"
          ],
          [
           1,
           "#c4716c"
          ]
         ],
         "showscale": true,
         "type": "heatmap",
         "x": [
          "Volatility"
         ],
         "xaxis": "x2",
         "y": [
          "acct1",
          "acct10",
          "acct2",
          "acct3",
          "acct4",
          "acct5",
          "acct6",
          "acct7",
          "acct8",
          "acct9"
         ],
         "yaxis": "y2",
         "z": {
          "bdata": "BlfVRFOB5D+b+0z6uJbjP5gvWM3HD+U/2xeoOybY5j8/AU/cTPrjPwC2HsmnOOQ/cbir7I9T4j8ZZhHxPjXlP2l1WdEcFOQ/4gAYe/aL4T8=",
          "dtype": "f8",
          "shape": "10, 1"
         },
         "zmax": 0.7138854184311144,
         "zmin": 0
        }
       ],
       "layout": {
        "font": {
         "family": "Courier New",
         "size": 8
        },
        "height": 360,
        "margin": {
         "b": 80,
         "l": 40,
         "r": 40,
         "t": 40
        },
        "paper_bgcolor": "white",
        "plot_bgcolor": "white",
        "template": {
         "data": {
          "bar": [
           {
            "error_x": {
             "color": "#2a3f5f"
            },
            "error_y": {
             "color": "#2a3f5f"
            },
            "marker": {
             "line": {
              "color": "#E5ECF6",
              "width": 0.5
             },
             "pattern": {
              "fillmode": "overlay",
              "size": 10,
              "solidity": 0.2
             }
            },
            "type": "bar"
           }
          ],
          "barpolar": [
           {
            "marker": {
             "line": {
              "color": "#E5ECF6",
              "width": 0.5
             },
             "pattern": {
              "fillmode": "overlay",
              "size": 10,
              "solidity": 0.2
             }
            },
            "type": "barpolar"
           }
          ],
          "carpet": [
           {
            "aaxis": {
             "endlinecolor": "#2a3f5f",
             "gridcolor": "white",
             "linecolor": "white",
             "minorgridcolor": "white",
             "startlinecolor": "#2a3f5f"
            },
            "baxis": {
             "endlinecolor": "#2a3f5f",
             "gridcolor": "white",
             "linecolor": "white",
             "minorgridcolor": "white",
             "startlinecolor": "#2a3f5f"
            },
            "type": "carpet"
           }
          ],
          "choropleth": [
           {
            "colorbar": {
             "outlinewidth": 0,
             "ticks": ""
            },
            "type": "choropleth"
           }
          ],
          "contour": [
           {
            "colorbar": {
             "outlinewidth": 0,
             "ticks": ""
            },
            "colorscale": [
             [
              0,
              "#0d0887"
             ],
             [
              0.1111111111111111,
              "#46039f"
             ],
             [
              0.2222222222222222,
              "#7201a8"
             ],
             [
              0.3333333333333333,
              "#9c179e"
             ],
             [
              0.4444444444444444,
              "#bd3786"
             ],
             [
              0.5555555555555556,
              "#d8576b"
             ],
             [
              0.6666666666666666,
              "#ed7953"
             ],
             [
              0.7777777777777778,
              "#fb9f3a"
             ],
             [
              0.8888888888888888,
              "#fdca26"
             ],
             [
              1,
              "#f0f921"
             ]
            ],
            "type": "contour"
           }
          ],
          "contourcarpet": [
           {
            "colorbar": {
             "outlinewidth": 0,
             "ticks": ""
            },
            "type": "contourcarpet"
           }
          ],
          "heatmap": [
           {
            "colorbar": {
             "outlinewidth": 0,
             "ticks": ""
            },
            "colorscale": [
             [
              0,
              "#0d0887"
             ],
             [
              0.1111111111111111,
              "#46039f"
             ],
             [
              0.2222222222222222,
              "#7201a8"
             ],
             [
              0.3333333333333333,
              "#9c179e"
             ],
             [
              0.4444444444444444,
              "#bd3786"
             ],
             [
              0.5555555555555556,
              "#d8576b"
             ],
             [
              0.6666666666666666,
              "#ed7953"
             ],
             [
              0.7777777777777778,
              "#fb9f3a"
             ],
             [
              0.8888888888888888,
              "#fdca26"
             ],
             [
              1,
              "#f0f921"
             ]
            ],
            "type": "heatmap"
           }
          ],
          "histogram": [
           {
            "marker": {
             "pattern": {
              "fillmode": "overlay",
              "size": 10,
              "solidity": 0.2
             }
            },
            "type": "histogram"
           }
          ],
          "histogram2d": [
           {
            "colorbar": {
             "outlinewidth": 0,
             "ticks": ""
            },
            "colorscale": [
             [
              0,
              "#0d0887"
             ],
             [
              0.1111111111111111,
              "#46039f"
             ],
             [
              0.2222222222222222,
              "#7201a8"
             ],
             [
              0.3333333333333333,
              "#9c179e"
             ],
             [
              0.4444444444444444,
              "#bd3786"
             ],
             [
              0.5555555555555556,
              "#d8576b"
             ],
             [
              0.6666666666666666,
              "#ed7953"
             ],
             [
              0.7777777777777778,
              "#fb9f3a"
             ],
             [
              0.8888888888888888,
              "#fdca26"
             ],
             [
              1,
              "#f0f921"
             ]
            ],
            "type": "histogram2d"
           }
          ],
          "histogram2dcontour": [
           {
            "colorbar": {
             "outlinewidth": 0,
             "ticks": ""
            },
            "colorscale": [
             [
              0,
              "#0d0887"
             ],
             [
              0.1111111111111111,
              "#46039f"
             ],
             [
              0.2222222222222222,
              "#7201a8"
             ],
             [
              0.3333333333333333,
              "#9c179e"
             ],
             [
              0.4444444444444444,
              "#bd3786"
             ],
             [
              0.5555555555555556,
              "#d8576b"
             ],
             [
              0.6666666666666666,
              "#ed7953"
             ],
             [
              0.7777777777777778,
              "#fb9f3a"
             ],
             [
              0.8888888888888888,
              "#fdca26"
             ],
             [
              1,
              "#f0f921"
             ]
            ],
            "type": "histogram2dcontour"
           }
          ],
          "mesh3d": [
           {
            "colorbar": {
             "outlinewidth": 0,
             "ticks": ""
            },
            "type": "mesh3d"
           }
          ],
          "parcoords": [
           {
            "line": {
             "colorbar": {
              "outlinewidth": 0,
              "ticks": ""
             }
            },
            "type": "parcoords"
           }
          ],
          "pie": [
           {
            "automargin": true,
            "type": "pie"
           }
          ],
          "scatter": [
           {
            "fillpattern": {
             "fillmode": "overlay",
             "size": 10,
             "solidity": 0.2
            },
            "type": "scatter"
           }
          ],
          "scatter3d": [
           {
            "line": {
             "colorbar": {
              "outlinewidth": 0,
              "ticks": ""
             }
            },
            "marker": {
             "colorbar": {
              "outlinewidth": 0,
              "ticks": ""
             }
            },
            "type": "scatter3d"
           }
          ],
          "scattercarpet": [
           {
            "marker": {
             "colorbar": {
              "outlinewidth": 0,
              "ticks": ""
             }
            },
            "type": "scattercarpet"
           }
          ],
          "scattergeo": [
           {
            "marker": {
             "colorbar": {
              "outlinewidth": 0,
              "ticks": ""
             }
            },
            "type": "scattergeo"
           }
          ],
          "scattergl": [
           {
            "marker": {
             "colorbar": {
              "outlinewidth": 0,
              "ticks": ""
             }
            },
            "type": "scattergl"
           }
          ],
          "scattermap": [
           {
            "marker": {
             "colorbar": {
              "outlinewidth": 0,
              "ticks": ""
             }
            },
            "type": "scattermap"
           }
          ],
          "scattermapbox": [
           {
            "marker": {
             "colorbar": {
              "outlinewidth": 0,
              "ticks": ""
             }
            },
            "type": "scattermapbox"
           }
          ],
          "scatterpolar": [
           {
            "marker": {
             "colorbar": {
              "outlinewidth": 0,
              "ticks": ""
             }
            },
            "type": "scatterpolar"
           }
          ],
          "scatterpolargl": [
           {
            "marker": {
             "colorbar": {
              "outlinewidth": 0,
              "ticks": ""
             }
            },
            "type": "scatterpolargl"
           }
          ],
          "scatterternary": [
           {
            "marker": {
             "colorbar": {
              "outlinewidth": 0,
              "ticks": ""
             }
            },
            "type": "scatterternary"
           }
          ],
          "surface": [
           {
            "colorbar": {
             "outlinewidth": 0,
             "ticks": ""
            },
            "colorscale": [
             [
              0,
              "#0d0887"
             ],
             [
              0.1111111111111111,
              "#46039f"
             ],
             [
              0.2222222222222222,
              "#7201a8"
             ],
             [
              0.3333333333333333,
              "#9c179e"
             ],
             [
              0.4444444444444444,
              "#bd3786"
             ],
             [
              0.5555555555555556,
              "#d8576b"
             ],
             [
              0.6666666666666666,
              "#ed7953"
             ],
             [
              0.7777777777777778,
              "#fb9f3a"
             ],
             [
              0.8888888888888888,
              "#fdca26"
             ],
             [
              1,
              "#f0f921"
             ]
            ],
            "type": "surface"
           }
          ],
          "table": [
           {
            "cells": {
             "fill": {
              "color": "#EBF0F8"
             },
             "line": {
              "color": "white"
             }
            },
            "header": {
             "fill": {
              "color": "#C8D4E3"
             },
             "line": {
              "color": "white"
             }
            },
            "type": "table"
           }
          ]
         },
         "layout": {
          "annotationdefaults": {
           "arrowcolor": "#2a3f5f",
           "arrowhead": 0,
           "arrowwidth": 1
          },
          "autotypenumbers": "strict",
          "coloraxis": {
           "colorbar": {
            "outlinewidth": 0,
            "ticks": ""
           }
          },
          "colorscale": {
           "diverging": [
            [
             0,
             "#8e0152"
            ],
            [
             0.1,
             "#c51b7d"
            ],
            [
             0.2,
             "#de77ae"
            ],
            [
             0.3,
             "#f1b6da"
            ],
            [
             0.4,
             "#fde0ef"
            ],
            [
             0.5,
             "#f7f7f7"
            ],
            [
             0.6,
             "#e6f5d0"
            ],
            [
             0.7,
             "#b8e186"
            ],
            [
             0.8,
             "#7fbc41"
            ],
            [
             0.9,
             "#4d9221"
            ],
            [
             1,
             "#276419"
            ]
           ],
           "sequential": [
            [
             0,
             "#0d0887"
            ],
            [
             0.1111111111111111,
             "#46039f"
            ],
            [
             0.2222222222222222,
             "#7201a8"
            ],
            [
             0.3333333333333333,
             "#9c179e"
            ],
            [
             0.4444444444444444,
             "#bd3786"
            ],
            [
             0.5555555555555556,
             "#d8576b"
            ],
            [
             0.6666666666666666,
             "#ed7953"
            ],
            [
             0.7777777777777778,
             "#fb9f3a"
            ],
            [
             0.8888888888888888,
             "#fdca26"
            ],
            [
             1,
             "#f0f921"
            ]
           ],
           "sequentialminus": [
            [
             0,
             "#0d0887"
            ],
            [
             0.1111111111111111,
             "#46039f"
            ],
            [
             0.2222222222222222,
             "#7201a8"
            ],
            [
             0.3333333333333333,
             "#9c179e"
            ],
            [
             0.4444444444444444,
             "#bd3786"
            ],
            [
             0.5555555555555556,
             "#d8576b"
            ],
            [
             0.6666666666666666,
             "#ed7953"
            ],
            [
             0.7777777777777778,
             "#fb9f3a"
            ],
            [
             0.8888888888888888,
             "#fdca26"
            ],
            [
             1,
             "#f0f921"
            ]
           ]
          },
          "colorway": [
           "#636efa",
           "#EF553B",
           "#00cc96",
           "#ab63fa",
           "#FFA15A",
           "#19d3f3",
           "#FF6692",
           "#B6E880",
           "#FF97FF",
           "#FECB52"
          ],
          "font": {
           "color": "#2a3f5f"
          },
          "geo": {
           "bgcolor": "white",
           "lakecolor": "white",
           "landcolor": "#E5ECF6",
           "showlakes": true,
           "showland": true,
           "subunitcolor": "white"
          },
          "hoverlabel": {
           "align": "left"
          },
          "hovermode": "closest",
          "mapbox": {
           "style": "light"
          },
          "paper_bgcolor": "white",
          "plot_bgcolor": "#E5ECF6",
          "polar": {
           "angularaxis": {
            "gridcolor": "white",
            "linecolor": "white",
            "ticks": ""
           },
           "bgcolor": "#E5ECF6",
           "radialaxis": {
            "gridcolor": "white",
            "linecolor": "white",
            "ticks": ""
           }
          },
          "scene": {
           "xaxis": {
            "backgroundcolor": "#E5ECF6",
            "gridcolor": "white",
            "gridwidth": 2,
            "linecolor": "white",
            "showbackground": true,
            "ticks": "",
            "zerolinecolor": "white"
           },
           "yaxis": {
            "backgroundcolor": "#E5ECF6",
            "gridcolor": "white",
            "gridwidth": 2,
            "linecolor": "white",
            "showbackground": true,
            "ticks": "",
            "zerolinecolor": "white"
           },
           "zaxis": {
            "backgroundcolor": "#E5ECF6",
            "gridcolor": "white",
            "gridwidth": 2,
            "linecolor": "white",
            "showbackground": true,
            "ticks": "",
            "zerolinecolor": "white"
           }
          },
          "shapedefaults": {
           "line": {
            "color": "#2a3f5f"
           }
          },
          "ternary": {
           "aaxis": {
            "gridcolor": "white",
            "linecolor": "white",
            "ticks": ""
           },
           "baxis": {
            "gridcolor": "white",
            "linecolor": "white",
            "ticks": ""
           },
           "bgcolor": "#E5ECF6",
           "caxis": {
            "gridcolor": "white",
            "linecolor": "white",
            "ticks": ""
           }
          },
          "title": {
           "x": 0.05
          },
          "xaxis": {
           "automargin": true,
           "gridcolor": "white",
           "linecolor": "white",
           "ticks": "",
           "title": {
            "standoff": 15
           },
           "zerolinecolor": "white",
           "zerolinewidth": 2
          },
          "yaxis": {
           "automargin": true,
           "gridcolor": "white",
           "linecolor": "white",
           "ticks": "",
           "title": {
            "standoff": 15
           },
           "zerolinecolor": "white",
           "zerolinewidth": 2
          }
         }
        },
        "title": {
         "text": "Stocking Change and Volatility Heatmap (Top 10 Accounts)"
        },
        "width": 800,
        "xaxis": {
         "anchor": "y",
         "domain": [
          0,
          0.873
         ]
        },
        "xaxis2": {
         "anchor": "y2",
         "domain": [
          0.903,
          1
         ]
        },
        "yaxis": {
         "anchor": "x",
         "domain": [
          0,
          1
         ]
        },
        "yaxis2": {
         "anchor": "x2",
         "domain": [
          0,
          1
         ]
        }
       }
      }
     },
     "metadata": {},
     "output_type": "display_data"
    }
   ],
   "source": [
    "import pandas as pd\n",
    "import numpy as np\n",
    "import plotly.graph_objects as go\n",
    "from plotly.subplots import make_subplots\n",
    "\n",
    "# 模拟数据（10个账户 × 52周）\n",
    "np.random.seed(42)\n",
    "accounts = [f'acct{i}' for i in range(1, 11)]\n",
    "weeks = list(range(1, 53))\n",
    "data = []\n",
    "\n",
    "for acct in accounts:\n",
    "    base = np.random.uniform(-1, 1, 52)\n",
    "    for i, week in enumerate(weeks):\n",
    "        data.append({\n",
    "            'account_id': acct,\n",
    "            'rolling_week': week,\n",
    "            'stocking_change': np.round(base[i] + np.random.normal(0, 0.3), 2),\n",
    "        })\n",
    "\n",
    "df = pd.DataFrame(data)\n",
    "\n",
    "# 选出代表账户（按标准差排序）\n",
    "top_accounts = (\n",
    "    df.groupby('account_id')['stocking_change']\n",
    "    .std()\n",
    "    .sort_values(ascending=False)\n",
    "    .head(10)\n",
    "    .index\n",
    ")\n",
    "\n",
    "df_top = df[df['account_id'].isin(top_accounts)]\n",
    "\n",
    "# Heatmap 数据（stocking_change over weeks）\n",
    "heatmap_data = df_top.pivot(index='account_id', columns='rolling_week', values='stocking_change')\n",
    "\n",
    "# Volatility 数据（每个账户一个标准差）\n",
    "std_df = (\n",
    "    df_top.groupby('account_id')['stocking_change']\n",
    "    .std()\n",
    "    .reset_index(name='stocking_std')\n",
    "    .set_index('account_id')\n",
    ")\n",
    "std_heatmap_data = std_df.rename(columns={'stocking_std': 'Volatility'})\n",
    "\n",
    "# 创建子图：左 stocking change heatmap，右 volatility heatmap\n",
    "fig = make_subplots(\n",
    "    rows=1, cols=2,\n",
    "    column_widths=[9/10, 1/10],\n",
    "    #column_titles=[\"Stocking Change Heatmap\", \"Volatility (Std Dev) Heatmap\"],\n",
    "    horizontal_spacing=0.03\n",
    ")\n",
    "\n",
    "# 左边 Heatmap（stocking_change）\n",
    "fig.add_trace(\n",
    "    go.Heatmap(\n",
    "        z=heatmap_data.values,\n",
    "        x=heatmap_data.columns,\n",
    "        y=heatmap_data.index,\n",
    "        colorscale=[\n",
    "            [0.0, \"#dca3a3\"],   # muted rose\n",
    "            [0.5, \"#f0efef\"],   # warm neutral\n",
    "            [1.0, \"#94b8a3\"]    # eucalyptus green\n",
    "        ],\n",
    "        zmin=-2, zmax=2,\n",
    "colorbar=dict(\n",
    "        title=\"Stocking Change\",\n",
    "        orientation='h',\n",
    "        x=0.25,      # 居中偏左些，避免压到右图\n",
    "        y=-0.3,\n",
    "        len=0.35,\n",
    "        thickness=12,\n",
    "        title_side='right'\n",
    "    )\n",
    "    ),\n",
    "    row=1, col=1\n",
    ")\n",
    "\n",
    "# 右边 Heatmap（Volatility）\n",
    "fig.add_trace(\n",
    "    go.Heatmap(\n",
    "        z=std_heatmap_data.values,\n",
    "        x=std_heatmap_data.columns,\n",
    "        y=std_heatmap_data.index,\n",
    "        #colorscale=[[0.0, \"#f2dede\"], [0.5, \"#fdfdfd\"], [1.0, \"#b2c7bf\"]],\n",
    "        colorscale=[\n",
    "            [0.0, \"#4a6c68\"],  # deeper muted rose\n",
    "            [0.5, \"#e2e2e2\"],  # soft gray\n",
    "            [1.0, \"#c4716c\"]   # winter jungle green\n",
    "        ],\n",
    "        zmin=0,\n",
    "        zmax=std_df['stocking_std'].max(),\n",
    "        showscale=True,\n",
    "        colorbar=dict(\n",
    "        title=\"volitility\",\n",
    "        orientation='h',\n",
    "        x=0.85,      # 居中偏左些，避免压到右图\n",
    "        y=-0.3,\n",
    "        len=0.25,\n",
    "        thickness=12,\n",
    "        title_side='right'\n",
    "    )\n",
    "    ),\n",
    "    row=1, col=2\n",
    ")\n",
    "\n",
    "# 布局设置\n",
    "fig.update_layout(\n",
    "    height=360,\n",
    "    width=800,\n",
    "    title=\"Stocking Change and Volatility Heatmap (Top 10 Accounts)\",\n",
    "    font=dict(family=\"Courier New\", size=8),\n",
    "    margin=dict(t=40, l=40, r=40, b=80),\n",
    "    plot_bgcolor='white',\n",
    "    paper_bgcolor='white'\n",
    ")\n",
    "\n",
    "fig.show()\n"
   ]
  },
  {
   "cell_type": "code",
   "execution_count": 134,
   "id": "039ef45a",
   "metadata": {},
   "outputs": [
    {
     "data": {
      "application/vnd.plotly.v1+json": {
       "config": {
        "plotlyServerURL": "https://plot.ly"
       },
       "data": [
        {
         "colorbar": {
          "len": 0.35,
          "orientation": "h",
          "thickness": 12,
          "title": {
           "side": "right",
           "text": "Stocking Change"
          },
          "x": 0.25,
          "y": -0.3
         },
         "colorscale": [
          [
           0,
           "#dca3a3"
          ],
          [
           0.5,
           "#f0efef"
          ],
          [
           1,
           "#94b8a3"
          ]
         ],
         "type": "heatmap",
         "x": {
          "bdata": "AQIDBAUGBwgJCgsMDQ4PEBESExQVFhcYGRobHB0eHyAhIiMkJSYnKCkqKywtLi8wMTIzNA==",
          "dtype": "i1"
         },
         "xaxis": "x",
         "y": [
          "acct1",
          "acct10",
          "acct2",
          "acct3",
          "acct4",
          "acct5",
          "acct6",
          "acct7",
          "acct8",
          "acct9"
         ],
         "yaxis": "y",
         "z": {
          "bdata": "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",
          "dtype": "f8",
          "shape": "10, 52"
         },
         "zmax": 2,
         "zmin": -2
        },
        {
         "colorbar": {
          "len": 0.3,
          "orientation": "h",
          "thickness": 12,
          "title": {
           "side": "right",
           "text": "Volatility"
          },
          "x": 0.85,
          "y": -0.3
         },
         "colorscale": [
          [
           0,
           "#c4716c"
          ],
          [
           0.5,
           "#e2e2e2"
          ],
          [
           1,
           "#4a6c68"
          ]
         ],
         "showscale": true,
         "type": "heatmap",
         "x": [
          "Volatility"
         ],
         "xaxis": "x2",
         "y": [
          "acct1",
          "acct10",
          "acct2",
          "acct3",
          "acct4",
          "acct5",
          "acct6",
          "acct7",
          "acct8",
          "acct9"
         ],
         "yaxis": "y2",
         "z": {
          "bdata": "43xEJbRY5T/3ExuN3abjP3sWkiPIOeU/sYL0wuKV5T8jmwkdxenhP80OM8OQZ+c/tEgJ5DuE5D8HZzhkm9bmP1yhuV3PWeM/skrgEBjy4z8=",
          "dtype": "f8",
          "shape": "10, 1"
         },
         "zmax": 0.7313922703255799,
         "zmin": 0
        }
       ],
       "layout": {
        "font": {
         "family": "Courier New",
         "size": 8
        },
        "height": 300,
        "margin": {
         "b": 80,
         "l": 40,
         "r": 40,
         "t": 40
        },
        "paper_bgcolor": "white",
        "plot_bgcolor": "white",
        "template": {
         "data": {
          "bar": [
           {
            "error_x": {
             "color": "#2a3f5f"
            },
            "error_y": {
             "color": "#2a3f5f"
            },
            "marker": {
             "line": {
              "color": "#E5ECF6",
              "width": 0.5
             },
             "pattern": {
              "fillmode": "overlay",
              "size": 10,
              "solidity": 0.2
             }
            },
            "type": "bar"
           }
          ],
          "barpolar": [
           {
            "marker": {
             "line": {
              "color": "#E5ECF6",
              "width": 0.5
             },
             "pattern": {
              "fillmode": "overlay",
              "size": 10,
              "solidity": 0.2
             }
            },
            "type": "barpolar"
           }
          ],
          "carpet": [
           {
            "aaxis": {
             "endlinecolor": "#2a3f5f",
             "gridcolor": "white",
             "linecolor": "white",
             "minorgridcolor": "white",
             "startlinecolor": "#2a3f5f"
            },
            "baxis": {
             "endlinecolor": "#2a3f5f",
             "gridcolor": "white",
             "linecolor": "white",
             "minorgridcolor": "white",
             "startlinecolor": "#2a3f5f"
            },
            "type": "carpet"
           }
          ],
          "choropleth": [
           {
            "colorbar": {
             "outlinewidth": 0,
             "ticks": ""
            },
            "type": "choropleth"
           }
          ],
          "contour": [
           {
            "colorbar": {
             "outlinewidth": 0,
             "ticks": ""
            },
            "colorscale": [
             [
              0,
              "#0d0887"
             ],
             [
              0.1111111111111111,
              "#46039f"
             ],
             [
              0.2222222222222222,
              "#7201a8"
             ],
             [
              0.3333333333333333,
              "#9c179e"
             ],
             [
              0.4444444444444444,
              "#bd3786"
             ],
             [
              0.5555555555555556,
              "#d8576b"
             ],
             [
              0.6666666666666666,
              "#ed7953"
             ],
             [
              0.7777777777777778,
              "#fb9f3a"
             ],
             [
              0.8888888888888888,
              "#fdca26"
             ],
             [
              1,
              "#f0f921"
             ]
            ],
            "type": "contour"
           }
          ],
          "contourcarpet": [
           {
            "colorbar": {
             "outlinewidth": 0,
             "ticks": ""
            },
            "type": "contourcarpet"
           }
          ],
          "heatmap": [
           {
            "colorbar": {
             "outlinewidth": 0,
             "ticks": ""
            },
            "colorscale": [
             [
              0,
              "#0d0887"
             ],
             [
              0.1111111111111111,
              "#46039f"
             ],
             [
              0.2222222222222222,
              "#7201a8"
             ],
             [
              0.3333333333333333,
              "#9c179e"
             ],
             [
              0.4444444444444444,
              "#bd3786"
             ],
             [
              0.5555555555555556,
              "#d8576b"
             ],
             [
              0.6666666666666666,
              "#ed7953"
             ],
             [
              0.7777777777777778,
              "#fb9f3a"
             ],
             [
              0.8888888888888888,
              "#fdca26"
             ],
             [
              1,
              "#f0f921"
             ]
            ],
            "type": "heatmap"
           }
          ],
          "histogram": [
           {
            "marker": {
             "pattern": {
              "fillmode": "overlay",
              "size": 10,
              "solidity": 0.2
             }
            },
            "type": "histogram"
           }
          ],
          "histogram2d": [
           {
            "colorbar": {
             "outlinewidth": 0,
             "ticks": ""
            },
            "colorscale": [
             [
              0,
              "#0d0887"
             ],
             [
              0.1111111111111111,
              "#46039f"
             ],
             [
              0.2222222222222222,
              "#7201a8"
             ],
             [
              0.3333333333333333,
              "#9c179e"
             ],
             [
              0.4444444444444444,
              "#bd3786"
             ],
             [
              0.5555555555555556,
              "#d8576b"
             ],
             [
              0.6666666666666666,
              "#ed7953"
             ],
             [
              0.7777777777777778,
              "#fb9f3a"
             ],
             [
              0.8888888888888888,
              "#fdca26"
             ],
             [
              1,
              "#f0f921"
             ]
            ],
            "type": "histogram2d"
           }
          ],
          "histogram2dcontour": [
           {
            "colorbar": {
             "outlinewidth": 0,
             "ticks": ""
            },
            "colorscale": [
             [
              0,
              "#0d0887"
             ],
             [
              0.1111111111111111,
              "#46039f"
             ],
             [
              0.2222222222222222,
              "#7201a8"
             ],
             [
              0.3333333333333333,
              "#9c179e"
             ],
             [
              0.4444444444444444,
              "#bd3786"
             ],
             [
              0.5555555555555556,
              "#d8576b"
             ],
             [
              0.6666666666666666,
              "#ed7953"
             ],
             [
              0.7777777777777778,
              "#fb9f3a"
             ],
             [
              0.8888888888888888,
              "#fdca26"
             ],
             [
              1,
              "#f0f921"
             ]
            ],
            "type": "histogram2dcontour"
           }
          ],
          "mesh3d": [
           {
            "colorbar": {
             "outlinewidth": 0,
             "ticks": ""
            },
            "type": "mesh3d"
           }
          ],
          "parcoords": [
           {
            "line": {
             "colorbar": {
              "outlinewidth": 0,
              "ticks": ""
             }
            },
            "type": "parcoords"
           }
          ],
          "pie": [
           {
            "automargin": true,
            "type": "pie"
           }
          ],
          "scatter": [
           {
            "fillpattern": {
             "fillmode": "overlay",
             "size": 10,
             "solidity": 0.2
            },
            "type": "scatter"
           }
          ],
          "scatter3d": [
           {
            "line": {
             "colorbar": {
              "outlinewidth": 0,
              "ticks": ""
             }
            },
            "marker": {
             "colorbar": {
              "outlinewidth": 0,
              "ticks": ""
             }
            },
            "type": "scatter3d"
           }
          ],
          "scattercarpet": [
           {
            "marker": {
             "colorbar": {
              "outlinewidth": 0,
              "ticks": ""
             }
            },
            "type": "scattercarpet"
           }
          ],
          "scattergeo": [
           {
            "marker": {
             "colorbar": {
              "outlinewidth": 0,
              "ticks": ""
             }
            },
            "type": "scattergeo"
           }
          ],
          "scattergl": [
           {
            "marker": {
             "colorbar": {
              "outlinewidth": 0,
              "ticks": ""
             }
            },
            "type": "scattergl"
           }
          ],
          "scattermap": [
           {
            "marker": {
             "colorbar": {
              "outlinewidth": 0,
              "ticks": ""
             }
            },
            "type": "scattermap"
           }
          ],
          "scattermapbox": [
           {
            "marker": {
             "colorbar": {
              "outlinewidth": 0,
              "ticks": ""
             }
            },
            "type": "scattermapbox"
           }
          ],
          "scatterpolar": [
           {
            "marker": {
             "colorbar": {
              "outlinewidth": 0,
              "ticks": ""
             }
            },
            "type": "scatterpolar"
           }
          ],
          "scatterpolargl": [
           {
            "marker": {
             "colorbar": {
              "outlinewidth": 0,
              "ticks": ""
             }
            },
            "type": "scatterpolargl"
           }
          ],
          "scatterternary": [
           {
            "marker": {
             "colorbar": {
              "outlinewidth": 0,
              "ticks": ""
             }
            },
            "type": "scatterternary"
           }
          ],
          "surface": [
           {
            "colorbar": {
             "outlinewidth": 0,
             "ticks": ""
            },
            "colorscale": [
             [
              0,
              "#0d0887"
             ],
             [
              0.1111111111111111,
              "#46039f"
             ],
             [
              0.2222222222222222,
              "#7201a8"
             ],
             [
              0.3333333333333333,
              "#9c179e"
             ],
             [
              0.4444444444444444,
              "#bd3786"
             ],
             [
              0.5555555555555556,
              "#d8576b"
             ],
             [
              0.6666666666666666,
              "#ed7953"
             ],
             [
              0.7777777777777778,
              "#fb9f3a"
             ],
             [
              0.8888888888888888,
              "#fdca26"
             ],
             [
              1,
              "#f0f921"
             ]
            ],
            "type": "surface"
           }
          ],
          "table": [
           {
            "cells": {
             "fill": {
              "color": "#EBF0F8"
             },
             "line": {
              "color": "white"
             }
            },
            "header": {
             "fill": {
              "color": "#C8D4E3"
             },
             "line": {
              "color": "white"
             }
            },
            "type": "table"
           }
          ]
         },
         "layout": {
          "annotationdefaults": {
           "arrowcolor": "#2a3f5f",
           "arrowhead": 0,
           "arrowwidth": 1
          },
          "autotypenumbers": "strict",
          "coloraxis": {
           "colorbar": {
            "outlinewidth": 0,
            "ticks": ""
           }
          },
          "colorscale": {
           "diverging": [
            [
             0,
             "#8e0152"
            ],
            [
             0.1,
             "#c51b7d"
            ],
            [
             0.2,
             "#de77ae"
            ],
            [
             0.3,
             "#f1b6da"
            ],
            [
             0.4,
             "#fde0ef"
            ],
            [
             0.5,
             "#f7f7f7"
            ],
            [
             0.6,
             "#e6f5d0"
            ],
            [
             0.7,
             "#b8e186"
            ],
            [
             0.8,
             "#7fbc41"
            ],
            [
             0.9,
             "#4d9221"
            ],
            [
             1,
             "#276419"
            ]
           ],
           "sequential": [
            [
             0,
             "#0d0887"
            ],
            [
             0.1111111111111111,
             "#46039f"
            ],
            [
             0.2222222222222222,
             "#7201a8"
            ],
            [
             0.3333333333333333,
             "#9c179e"
            ],
            [
             0.4444444444444444,
             "#bd3786"
            ],
            [
             0.5555555555555556,
             "#d8576b"
            ],
            [
             0.6666666666666666,
             "#ed7953"
            ],
            [
             0.7777777777777778,
             "#fb9f3a"
            ],
            [
             0.8888888888888888,
             "#fdca26"
            ],
            [
             1,
             "#f0f921"
            ]
           ],
           "sequentialminus": [
            [
             0,
             "#0d0887"
            ],
            [
             0.1111111111111111,
             "#46039f"
            ],
            [
             0.2222222222222222,
             "#7201a8"
            ],
            [
             0.3333333333333333,
             "#9c179e"
            ],
            [
             0.4444444444444444,
             "#bd3786"
            ],
            [
             0.5555555555555556,
             "#d8576b"
            ],
            [
             0.6666666666666666,
             "#ed7953"
            ],
            [
             0.7777777777777778,
             "#fb9f3a"
            ],
            [
             0.8888888888888888,
             "#fdca26"
            ],
            [
             1,
             "#f0f921"
            ]
           ]
          },
          "colorway": [
           "#636efa",
           "#EF553B",
           "#00cc96",
           "#ab63fa",
           "#FFA15A",
           "#19d3f3",
           "#FF6692",
           "#B6E880",
           "#FF97FF",
           "#FECB52"
          ],
          "font": {
           "color": "#2a3f5f"
          },
          "geo": {
           "bgcolor": "white",
           "lakecolor": "white",
           "landcolor": "#E5ECF6",
           "showlakes": true,
           "showland": true,
           "subunitcolor": "white"
          },
          "hoverlabel": {
           "align": "left"
          },
          "hovermode": "closest",
          "mapbox": {
           "style": "light"
          },
          "paper_bgcolor": "white",
          "plot_bgcolor": "#E5ECF6",
          "polar": {
           "angularaxis": {
            "gridcolor": "white",
            "linecolor": "white",
            "ticks": ""
           },
           "bgcolor": "#E5ECF6",
           "radialaxis": {
            "gridcolor": "white",
            "linecolor": "white",
            "ticks": ""
           }
          },
          "scene": {
           "xaxis": {
            "backgroundcolor": "#E5ECF6",
            "gridcolor": "white",
            "gridwidth": 2,
            "linecolor": "white",
            "showbackground": true,
            "ticks": "",
            "zerolinecolor": "white"
           },
           "yaxis": {
            "backgroundcolor": "#E5ECF6",
            "gridcolor": "white",
            "gridwidth": 2,
            "linecolor": "white",
            "showbackground": true,
            "ticks": "",
            "zerolinecolor": "white"
           },
           "zaxis": {
            "backgroundcolor": "#E5ECF6",
            "gridcolor": "white",
            "gridwidth": 2,
            "linecolor": "white",
            "showbackground": true,
            "ticks": "",
            "zerolinecolor": "white"
           }
          },
          "shapedefaults": {
           "line": {
            "color": "#2a3f5f"
           }
          },
          "ternary": {
           "aaxis": {
            "gridcolor": "white",
            "linecolor": "white",
            "ticks": ""
           },
           "baxis": {
            "gridcolor": "white",
            "linecolor": "white",
            "ticks": ""
           },
           "bgcolor": "#E5ECF6",
           "caxis": {
            "gridcolor": "white",
            "linecolor": "white",
            "ticks": ""
           }
          },
          "title": {
           "x": 0.05
          },
          "xaxis": {
           "automargin": true,
           "gridcolor": "white",
           "linecolor": "white",
           "ticks": "",
           "title": {
            "standoff": 15
           },
           "zerolinecolor": "white",
           "zerolinewidth": 2
          },
          "yaxis": {
           "automargin": true,
           "gridcolor": "white",
           "linecolor": "white",
           "ticks": "",
           "title": {
            "standoff": 15
           },
           "zerolinecolor": "white",
           "zerolinewidth": 2
          }
         }
        },
        "title": {
         "text": "Stocking Change and Volatility Heatmap (Top 10 Accounts)"
        },
        "width": 600,
        "xaxis": {
         "anchor": "y",
         "domain": [
          0,
          0.9215
         ]
        },
        "xaxis2": {
         "anchor": "y2",
         "domain": [
          0.9515,
          1
         ]
        },
        "yaxis": {
         "anchor": "x",
         "domain": [
          0,
          1
         ]
        },
        "yaxis2": {
         "anchor": "x2",
         "domain": [
          0,
          1
         ],
         "showticklabels": false
        }
       }
      }
     },
     "metadata": {},
     "output_type": "display_data"
    }
   ],
   "source": [
    "# 生成只在左侧 heatmap 显示账户名的版本，右侧 volatility heatmap 不显示 yticklabels\n",
    "\n",
    "# 创建子图\n",
    "fig = make_subplots(\n",
    "    rows=1, cols=2,\n",
    "    column_widths=[19/20, 1/20],\n",
    "    horizontal_spacing=0.03\n",
    ")\n",
    "\n",
    "# 左边 Heatmap（stocking_change）\n",
    "fig.add_trace(\n",
    "    go.Heatmap(\n",
    "        z=heatmap_data.values,\n",
    "        x=heatmap_data.columns,\n",
    "        y=heatmap_data.index,\n",
    "        colorscale=[\n",
    "            [0.0, \"#dca3a3\"],\n",
    "            [0.5, \"#f0efef\"],\n",
    "            [1.0, \"#94b8a3\"]\n",
    "        ],\n",
    "        zmin=-2, zmax=2,\n",
    "        colorbar=dict(\n",
    "            title=\"Stocking Change\",\n",
    "            orientation='h',\n",
    "            x=0.25,\n",
    "            y=-0.3,\n",
    "            len=0.35,\n",
    "            thickness=12,\n",
    "            title_side='right'\n",
    "        )\n",
    "    ),\n",
    "    row=1, col=1\n",
    ")\n",
    "\n",
    "# 右边 Heatmap（Volatility）隐藏 yticks\n",
    "fig.add_trace(\n",
    "    go.Heatmap(\n",
    "        z=std_heatmap_data.values,\n",
    "        x=std_heatmap_data.columns,\n",
    "        y=std_heatmap_data.index,\n",
    "        colorscale=[\n",
    "            [0.0, \"#c4716c\"],\n",
    "            [0.5, \"#e2e2e2\"],\n",
    "            [1.0, \"#4a6c68\"]\n",
    "        ],\n",
    "        zmin=0,\n",
    "        zmax=std_df['stocking_std'].max(),\n",
    "        showscale=True,\n",
    "        colorbar=dict(\n",
    "            title=\"Volatility\",\n",
    "            orientation='h',\n",
    "            x=0.85,\n",
    "            y=-0.3,\n",
    "            len=0.3,\n",
    "            thickness=12,\n",
    "            title_side='right'\n",
    "        )\n",
    "    ),\n",
    "    row=1, col=2\n",
    ")\n",
    "\n",
    "\n",
    "# 更新布局隐藏右侧 y 轴 ticklabel\n",
    "fig.update_layout(\n",
    "    height=300,\n",
    "    width=600,\n",
    "    title=\"Stocking Change and Volatility Heatmap (Top 10 Accounts)\",\n",
    "    font=dict(family=\"Courier New\", size=8),\n",
    "    margin=dict(t=40, l=40, r=40, b=80),\n",
    "    plot_bgcolor='white',\n",
    "    paper_bgcolor='white'\n",
    ")\n",
    "\n",
    "# 隐藏右图 yaxis tick labels\n",
    "fig.update_yaxes(showticklabels=False, row=1, col=2)\n",
    "\n",
    "fig.show()\n"
   ]
  },
  {
   "cell_type": "code",
   "execution_count": 109,
   "id": "150f5a4f",
   "metadata": {},
   "outputs": [
    {
     "data": {
      "application/vnd.plotly.v1+json": {
       "config": {
        "plotlyServerURL": "https://plot.ly"
       },
       "data": [
        {
         "colorbar": {
          "len": 0.35,
          "orientation": "h",
          "thickness": 12,
          "title": {
           "text": "Stocking Change"
          },
          "x": 0.25,
          "y": -0.3
         },
         "colorscale": [
          [
           0,
           "#dca3a3"
          ],
          [
           0.5,
           "#f0efef"
          ],
          [
           1,
           "#94b8a3"
          ]
         ],
         "type": "heatmap",
         "x": {
          "bdata": "AQIDBAUGBwgJCgsMDQ4PEBESExQVFhcYGRobHB0eHyAhIiMkJSYnKCkqKywtLi8wMTIzNA==",
          "dtype": "i1"
         },
         "xaxis": "x",
         "y": [
          "acct1",
          "acct10",
          "acct2",
          "acct3",
          "acct4",
          "acct5",
          "acct6",
          "acct7",
          "acct8",
          "acct9"
         ],
         "yaxis": "y",
         "z": {
          "bdata": "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",
          "dtype": "f8",
          "shape": "10, 52"
         },
         "zmax": 2,
         "zmin": -2
        },
        {
         "marker": {
          "color": "#000000",
          "size": 8,
          "symbol": "circle-open"
         },
         "mode": "markers",
         "name": "Adopting B",
         "showlegend": false,
         "type": "scatter",
         "x": {
          "bdata": "CyYZHyMOIhgRJw==",
          "dtype": "i1"
         },
         "xaxis": "x",
         "y": [
          "acct1",
          "acct10",
          "acct2",
          "acct3",
          "acct4",
          "acct5",
          "acct6",
          "acct7",
          "acct8",
          "acct9"
         ],
         "yaxis": "y"
        },
        {
         "colorbar": {
          "len": 0.3,
          "orientation": "h",
          "thickness": 12,
          "title": {
           "text": "Volatility"
          },
          "x": 0.85,
          "y": -0.3
         },
         "colorscale": [
          [
           0,
           "#c4716c"
          ],
          [
           0.5,
           "#e2e2e2"
          ],
          [
           1,
           "#4a6c68"
          ]
         ],
         "type": "heatmap",
         "x": [
          "Volatility"
         ],
         "xaxis": "x2",
         "y": [
          "acct1",
          "acct10",
          "acct2",
          "acct3",
          "acct4",
          "acct5",
          "acct6",
          "acct7",
          "acct8",
          "acct9"
         ],
         "yaxis": "y2",
         "z": {
          "bdata": "43xEJbRY5T/3ExuN3abjP3sWkiPIOeU/sYL0wuKV5T8jmwkdxenhP80OM8OQZ+c/tEgJ5DuE5D8HZzhkm9bmP1yhuV3PWeM/skrgEBjy4z8=",
          "dtype": "f8",
          "shape": "10, 1"
         },
         "zmax": 0.7313922703255799,
         "zmin": 0
        }
       ],
       "layout": {
        "font": {
         "family": "Courier New",
         "size": 8
        },
        "height": 360,
        "margin": {
         "b": 80,
         "l": 40,
         "r": 40,
         "t": 40
        },
        "paper_bgcolor": "white",
        "plot_bgcolor": "white",
        "template": {
         "data": {
          "bar": [
           {
            "error_x": {
             "color": "#2a3f5f"
            },
            "error_y": {
             "color": "#2a3f5f"
            },
            "marker": {
             "line": {
              "color": "#E5ECF6",
              "width": 0.5
             },
             "pattern": {
              "fillmode": "overlay",
              "size": 10,
              "solidity": 0.2
             }
            },
            "type": "bar"
           }
          ],
          "barpolar": [
           {
            "marker": {
             "line": {
              "color": "#E5ECF6",
              "width": 0.5
             },
             "pattern": {
              "fillmode": "overlay",
              "size": 10,
              "solidity": 0.2
             }
            },
            "type": "barpolar"
           }
          ],
          "carpet": [
           {
            "aaxis": {
             "endlinecolor": "#2a3f5f",
             "gridcolor": "white",
             "linecolor": "white",
             "minorgridcolor": "white",
             "startlinecolor": "#2a3f5f"
            },
            "baxis": {
             "endlinecolor": "#2a3f5f",
             "gridcolor": "white",
             "linecolor": "white",
             "minorgridcolor": "white",
             "startlinecolor": "#2a3f5f"
            },
            "type": "carpet"
           }
          ],
          "choropleth": [
           {
            "colorbar": {
             "outlinewidth": 0,
             "ticks": ""
            },
            "type": "choropleth"
           }
          ],
          "contour": [
           {
            "colorbar": {
             "outlinewidth": 0,
             "ticks": ""
            },
            "colorscale": [
             [
              0,
              "#0d0887"
             ],
             [
              0.1111111111111111,
              "#46039f"
             ],
             [
              0.2222222222222222,
              "#7201a8"
             ],
             [
              0.3333333333333333,
              "#9c179e"
             ],
             [
              0.4444444444444444,
              "#bd3786"
             ],
             [
              0.5555555555555556,
              "#d8576b"
             ],
             [
              0.6666666666666666,
              "#ed7953"
             ],
             [
              0.7777777777777778,
              "#fb9f3a"
             ],
             [
              0.8888888888888888,
              "#fdca26"
             ],
             [
              1,
              "#f0f921"
             ]
            ],
            "type": "contour"
           }
          ],
          "contourcarpet": [
           {
            "colorbar": {
             "outlinewidth": 0,
             "ticks": ""
            },
            "type": "contourcarpet"
           }
          ],
          "heatmap": [
           {
            "colorbar": {
             "outlinewidth": 0,
             "ticks": ""
            },
            "colorscale": [
             [
              0,
              "#0d0887"
             ],
             [
              0.1111111111111111,
              "#46039f"
             ],
             [
              0.2222222222222222,
              "#7201a8"
             ],
             [
              0.3333333333333333,
              "#9c179e"
             ],
             [
              0.4444444444444444,
              "#bd3786"
             ],
             [
              0.5555555555555556,
              "#d8576b"
             ],
             [
              0.6666666666666666,
              "#ed7953"
             ],
             [
              0.7777777777777778,
              "#fb9f3a"
             ],
             [
              0.8888888888888888,
              "#fdca26"
             ],
             [
              1,
              "#f0f921"
             ]
            ],
            "type": "heatmap"
           }
          ],
          "histogram": [
           {
            "marker": {
             "pattern": {
              "fillmode": "overlay",
              "size": 10,
              "solidity": 0.2
             }
            },
            "type": "histogram"
           }
          ],
          "histogram2d": [
           {
            "colorbar": {
             "outlinewidth": 0,
             "ticks": ""
            },
            "colorscale": [
             [
              0,
              "#0d0887"
             ],
             [
              0.1111111111111111,
              "#46039f"
             ],
             [
              0.2222222222222222,
              "#7201a8"
             ],
             [
              0.3333333333333333,
              "#9c179e"
             ],
             [
              0.4444444444444444,
              "#bd3786"
             ],
             [
              0.5555555555555556,
              "#d8576b"
             ],
             [
              0.6666666666666666,
              "#ed7953"
             ],
             [
              0.7777777777777778,
              "#fb9f3a"
             ],
             [
              0.8888888888888888,
              "#fdca26"
             ],
             [
              1,
              "#f0f921"
             ]
            ],
            "type": "histogram2d"
           }
          ],
          "histogram2dcontour": [
           {
            "colorbar": {
             "outlinewidth": 0,
             "ticks": ""
            },
            "colorscale": [
             [
              0,
              "#0d0887"
             ],
             [
              0.1111111111111111,
              "#46039f"
             ],
             [
              0.2222222222222222,
              "#7201a8"
             ],
             [
              0.3333333333333333,
              "#9c179e"
             ],
             [
              0.4444444444444444,
              "#bd3786"
             ],
             [
              0.5555555555555556,
              "#d8576b"
             ],
             [
              0.6666666666666666,
              "#ed7953"
             ],
             [
              0.7777777777777778,
              "#fb9f3a"
             ],
             [
              0.8888888888888888,
              "#fdca26"
             ],
             [
              1,
              "#f0f921"
             ]
            ],
            "type": "histogram2dcontour"
           }
          ],
          "mesh3d": [
           {
            "colorbar": {
             "outlinewidth": 0,
             "ticks": ""
            },
            "type": "mesh3d"
           }
          ],
          "parcoords": [
           {
            "line": {
             "colorbar": {
              "outlinewidth": 0,
              "ticks": ""
             }
            },
            "type": "parcoords"
           }
          ],
          "pie": [
           {
            "automargin": true,
            "type": "pie"
           }
          ],
          "scatter": [
           {
            "fillpattern": {
             "fillmode": "overlay",
             "size": 10,
             "solidity": 0.2
            },
            "type": "scatter"
           }
          ],
          "scatter3d": [
           {
            "line": {
             "colorbar": {
              "outlinewidth": 0,
              "ticks": ""
             }
            },
            "marker": {
             "colorbar": {
              "outlinewidth": 0,
              "ticks": ""
             }
            },
            "type": "scatter3d"
           }
          ],
          "scattercarpet": [
           {
            "marker": {
             "colorbar": {
              "outlinewidth": 0,
              "ticks": ""
             }
            },
            "type": "scattercarpet"
           }
          ],
          "scattergeo": [
           {
            "marker": {
             "colorbar": {
              "outlinewidth": 0,
              "ticks": ""
             }
            },
            "type": "scattergeo"
           }
          ],
          "scattergl": [
           {
            "marker": {
             "colorbar": {
              "outlinewidth": 0,
              "ticks": ""
             }
            },
            "type": "scattergl"
           }
          ],
          "scattermap": [
           {
            "marker": {
             "colorbar": {
              "outlinewidth": 0,
              "ticks": ""
             }
            },
            "type": "scattermap"
           }
          ],
          "scattermapbox": [
           {
            "marker": {
             "colorbar": {
              "outlinewidth": 0,
              "ticks": ""
             }
            },
            "type": "scattermapbox"
           }
          ],
          "scatterpolar": [
           {
            "marker": {
             "colorbar": {
              "outlinewidth": 0,
              "ticks": ""
             }
            },
            "type": "scatterpolar"
           }
          ],
          "scatterpolargl": [
           {
            "marker": {
             "colorbar": {
              "outlinewidth": 0,
              "ticks": ""
             }
            },
            "type": "scatterpolargl"
           }
          ],
          "scatterternary": [
           {
            "marker": {
             "colorbar": {
              "outlinewidth": 0,
              "ticks": ""
             }
            },
            "type": "scatterternary"
           }
          ],
          "surface": [
           {
            "colorbar": {
             "outlinewidth": 0,
             "ticks": ""
            },
            "colorscale": [
             [
              0,
              "#0d0887"
             ],
             [
              0.1111111111111111,
              "#46039f"
             ],
             [
              0.2222222222222222,
              "#7201a8"
             ],
             [
              0.3333333333333333,
              "#9c179e"
             ],
             [
              0.4444444444444444,
              "#bd3786"
             ],
             [
              0.5555555555555556,
              "#d8576b"
             ],
             [
              0.6666666666666666,
              "#ed7953"
             ],
             [
              0.7777777777777778,
              "#fb9f3a"
             ],
             [
              0.8888888888888888,
              "#fdca26"
             ],
             [
              1,
              "#f0f921"
             ]
            ],
            "type": "surface"
           }
          ],
          "table": [
           {
            "cells": {
             "fill": {
              "color": "#EBF0F8"
             },
             "line": {
              "color": "white"
             }
            },
            "header": {
             "fill": {
              "color": "#C8D4E3"
             },
             "line": {
              "color": "white"
             }
            },
            "type": "table"
           }
          ]
         },
         "layout": {
          "annotationdefaults": {
           "arrowcolor": "#2a3f5f",
           "arrowhead": 0,
           "arrowwidth": 1
          },
          "autotypenumbers": "strict",
          "coloraxis": {
           "colorbar": {
            "outlinewidth": 0,
            "ticks": ""
           }
          },
          "colorscale": {
           "diverging": [
            [
             0,
             "#8e0152"
            ],
            [
             0.1,
             "#c51b7d"
            ],
            [
             0.2,
             "#de77ae"
            ],
            [
             0.3,
             "#f1b6da"
            ],
            [
             0.4,
             "#fde0ef"
            ],
            [
             0.5,
             "#f7f7f7"
            ],
            [
             0.6,
             "#e6f5d0"
            ],
            [
             0.7,
             "#b8e186"
            ],
            [
             0.8,
             "#7fbc41"
            ],
            [
             0.9,
             "#4d9221"
            ],
            [
             1,
             "#276419"
            ]
           ],
           "sequential": [
            [
             0,
             "#0d0887"
            ],
            [
             0.1111111111111111,
             "#46039f"
            ],
            [
             0.2222222222222222,
             "#7201a8"
            ],
            [
             0.3333333333333333,
             "#9c179e"
            ],
            [
             0.4444444444444444,
             "#bd3786"
            ],
            [
             0.5555555555555556,
             "#d8576b"
            ],
            [
             0.6666666666666666,
             "#ed7953"
            ],
            [
             0.7777777777777778,
             "#fb9f3a"
            ],
            [
             0.8888888888888888,
             "#fdca26"
            ],
            [
             1,
             "#f0f921"
            ]
           ],
           "sequentialminus": [
            [
             0,
             "#0d0887"
            ],
            [
             0.1111111111111111,
             "#46039f"
            ],
            [
             0.2222222222222222,
             "#7201a8"
            ],
            [
             0.3333333333333333,
             "#9c179e"
            ],
            [
             0.4444444444444444,
             "#bd3786"
            ],
            [
             0.5555555555555556,
             "#d8576b"
            ],
            [
             0.6666666666666666,
             "#ed7953"
            ],
            [
             0.7777777777777778,
             "#fb9f3a"
            ],
            [
             0.8888888888888888,
             "#fdca26"
            ],
            [
             1,
             "#f0f921"
            ]
           ]
          },
          "colorway": [
           "#636efa",
           "#EF553B",
           "#00cc96",
           "#ab63fa",
           "#FFA15A",
           "#19d3f3",
           "#FF6692",
           "#B6E880",
           "#FF97FF",
           "#FECB52"
          ],
          "font": {
           "color": "#2a3f5f"
          },
          "geo": {
           "bgcolor": "white",
           "lakecolor": "white",
           "landcolor": "#E5ECF6",
           "showlakes": true,
           "showland": true,
           "subunitcolor": "white"
          },
          "hoverlabel": {
           "align": "left"
          },
          "hovermode": "closest",
          "mapbox": {
           "style": "light"
          },
          "paper_bgcolor": "white",
          "plot_bgcolor": "#E5ECF6",
          "polar": {
           "angularaxis": {
            "gridcolor": "white",
            "linecolor": "white",
            "ticks": ""
           },
           "bgcolor": "#E5ECF6",
           "radialaxis": {
            "gridcolor": "white",
            "linecolor": "white",
            "ticks": ""
           }
          },
          "scene": {
           "xaxis": {
            "backgroundcolor": "#E5ECF6",
            "gridcolor": "white",
            "gridwidth": 2,
            "linecolor": "white",
            "showbackground": true,
            "ticks": "",
            "zerolinecolor": "white"
           },
           "yaxis": {
            "backgroundcolor": "#E5ECF6",
            "gridcolor": "white",
            "gridwidth": 2,
            "linecolor": "white",
            "showbackground": true,
            "ticks": "",
            "zerolinecolor": "white"
           },
           "zaxis": {
            "backgroundcolor": "#E5ECF6",
            "gridcolor": "white",
            "gridwidth": 2,
            "linecolor": "white",
            "showbackground": true,
            "ticks": "",
            "zerolinecolor": "white"
           }
          },
          "shapedefaults": {
           "line": {
            "color": "#2a3f5f"
           }
          },
          "ternary": {
           "aaxis": {
            "gridcolor": "white",
            "linecolor": "white",
            "ticks": ""
           },
           "baxis": {
            "gridcolor": "white",
            "linecolor": "white",
            "ticks": ""
           },
           "bgcolor": "#E5ECF6",
           "caxis": {
            "gridcolor": "white",
            "linecolor": "white",
            "ticks": ""
           }
          },
          "title": {
           "x": 0.05
          },
          "xaxis": {
           "automargin": true,
           "gridcolor": "white",
           "linecolor": "white",
           "ticks": "",
           "title": {
            "standoff": 15
           },
           "zerolinecolor": "white",
           "zerolinewidth": 2
          },
          "yaxis": {
           "automargin": true,
           "gridcolor": "white",
           "linecolor": "white",
           "ticks": "",
           "title": {
            "standoff": 15
           },
           "zerolinecolor": "white",
           "zerolinewidth": 2
          }
         }
        },
        "title": {
         "text": "Stocking Change and Volatility Heatmap (Top 10 Accounts)"
        },
        "width": 800,
        "xaxis": {
         "anchor": "y",
         "domain": [
          0,
          0.873
         ]
        },
        "xaxis2": {
         "anchor": "y2",
         "domain": [
          0.903,
          1
         ]
        },
        "yaxis": {
         "anchor": "x",
         "domain": [
          0,
          1
         ]
        },
        "yaxis2": {
         "anchor": "x2",
         "domain": [
          0,
          1
         ],
         "showticklabels": false
        }
       }
      }
     },
     "metadata": {},
     "output_type": "display_data"
    }
   ],
   "source": [
    "import pandas as pd\n",
    "import numpy as np\n",
    "import plotly.graph_objects as go\n",
    "from plotly.subplots import make_subplots\n",
    "\n",
    "# 模拟数据：10 个账户 × 52 周\n",
    "np.random.seed(42)\n",
    "accounts = [f'acct{i}' for i in range(1, 11)]\n",
    "weeks = list(range(1, 53))\n",
    "data = []\n",
    "\n",
    "for acct in accounts:\n",
    "    base = np.random.uniform(-1, 1, 52)\n",
    "    adopting_b_window = np.random.randint(10, 40)\n",
    "    for i, week in enumerate(weeks):\n",
    "        data.append({\n",
    "            'account_id': acct,\n",
    "            'rolling_week': week,\n",
    "            'stocking_change': np.round(base[i] + np.random.normal(0, 0.3), 2),\n",
    "            'adopting_b_window': adopting_b_window\n",
    "        })\n",
    "\n",
    "df = pd.DataFrame(data)\n",
    "\n",
    "# 选出标准差最大的10个账户\n",
    "top_accounts = (\n",
    "    df.groupby('account_id')['stocking_change']\n",
    "    .std()\n",
    "    .sort_values(ascending=False)\n",
    "    .head(10)\n",
    "    .index\n",
    ")\n",
    "\n",
    "df_top = df[df['account_id'].isin(top_accounts)]\n",
    "\n",
    "# 热力图数据：账户 × 周数\n",
    "heatmap_data = df_top.pivot(index='account_id', columns='rolling_week', values='stocking_change')\n",
    "\n",
    "# Volatility 数据\n",
    "std_df = (\n",
    "    df_top.groupby('account_id')['stocking_change']\n",
    "    .std()\n",
    "    .reset_index(name='stocking_std')\n",
    "    .set_index('account_id')\n",
    ")\n",
    "std_heatmap_data = std_df.rename(columns={'stocking_std': 'Volatility'})\n",
    "\n",
    "# 每个账户的adopting_b_window\n",
    "adopt_df = df_top.groupby('account_id')['adopting_b_window'].first().reset_index()\n",
    "\n",
    "# 创建子图\n",
    "fig = make_subplots(\n",
    "    rows=1, cols=2,\n",
    "    column_widths=[9/10, 1/10],\n",
    "    horizontal_spacing=0.03\n",
    ")\n",
    "\n",
    "# 左侧 heatmap：stocking change\n",
    "fig.add_trace(\n",
    "    go.Heatmap(\n",
    "        z=heatmap_data.values,\n",
    "        x=heatmap_data.columns,\n",
    "        y=heatmap_data.index,\n",
    "        colorscale=[[0.0, \"#dca3a3\"], [0.5, \"#f0efef\"], [1.0, \"#94b8a3\"]],\n",
    "        zmin=-2, zmax=2,\n",
    "        colorbar=dict(\n",
    "            title=\"Stocking Change\",\n",
    "            orientation='h',\n",
    "            x=0.25,\n",
    "            y=-0.3,\n",
    "            len=0.35,\n",
    "            thickness=12\n",
    "        )\n",
    "    ),\n",
    "    row=1, col=1\n",
    ")\n",
    "\n",
    "# 添加转换点标记：黑色 x 点\n",
    "fig.add_trace(\n",
    "    go.Scatter(\n",
    "        x=adopt_df['adopting_b_window'],\n",
    "        y=adopt_df['account_id'],\n",
    "        mode='markers',\n",
    "        marker=dict(color='#000000', symbol='circle-open', size=8),\n",
    "        name='Adopting B',\n",
    "        showlegend=False\n",
    "    ),\n",
    "    row=1, col=1\n",
    ")\n",
    "\n",
    "# 右侧 heatmap：volatility\n",
    "fig.add_trace(\n",
    "    go.Heatmap(\n",
    "        z=std_heatmap_data.values,\n",
    "        x=std_heatmap_data.columns,\n",
    "        y=std_heatmap_data.index,\n",
    "        colorscale=[[0.0, \"#c4716c\"], [0.5, \"#e2e2e2\"], [1.0, \"#4a6c68\"]],\n",
    "        zmin=0,\n",
    "        zmax=std_df['stocking_std'].max(),\n",
    "        colorbar=dict(\n",
    "            title=\"Volatility\",\n",
    "            orientation='h',\n",
    "            x=0.85,\n",
    "            y=-0.3,\n",
    "            len=0.3,\n",
    "            thickness=12\n",
    "        )\n",
    "    ),\n",
    "    row=1, col=2\n",
    ")\n",
    "\n",
    "# 布局设置\n",
    "fig.update_layout(\n",
    "    height=360,\n",
    "    width=800,\n",
    "    title=\"Stocking Change and Volatility Heatmap (Top 10 Accounts)\",\n",
    "    font=dict(family=\"Courier New\", size=8),\n",
    "    margin=dict(t=40, l=40, r=40, b=80),\n",
    "    plot_bgcolor='white',\n",
    "    paper_bgcolor='white'\n",
    ")\n",
    "\n",
    "# 隐藏右侧 y 轴 tick\n",
    "fig.update_yaxes(showticklabels=False, row=1, col=2)\n",
    "\n",
    "fig.show()\n"
   ]
  },
  {
   "cell_type": "code",
   "execution_count": 114,
   "id": "2619b18a",
   "metadata": {},
   "outputs": [
    {
     "data": {
      "application/vnd.plotly.v1+json": {
       "config": {
        "plotlyServerURL": "https://plot.ly"
       },
       "data": [
        {
         "line": {
          "color": "#d87567",
          "width": 2
         },
         "mode": "lines",
         "name": "acct5",
         "showlegend": false,
         "type": "scatter",
         "x": {
          "bdata": "AQIDBAUGBwgJCgsMDQ4PEBESExQVFhcYGRobHB0eHyAhIiMkJSYnKCkqKywtLi8wMTIzNA==",
          "dtype": "i1"
         },
         "y": {
          "bdata": "UrgehetRyD8AAAAAAADgP7gehetRuM6/hetRuB6F4z/D9Shcj8Lxv3E9CtejcOW/exSuR+F65D+PwvUoXI/iP3sUrkfheoQ/9ihcj8L12D/NzMzMzMzcvwAAAAAAAOi/16NwPQrX0z97FK5H4XrUv83MzMzMzNw/UrgehetR8L8fhetRuB7xPxSuR+F6FPY/9ihcj8L12L+4HoXrUbi+v5qZmZmZmcm/rkfhehSu7z+F61G4HoXbPx+F61G4HuW/9ihcj8L19D97FK5H4XrwP3sUrkfheuQ/XI/C9Shc3z8fhetRuB7VP2ZmZmZmZtY/FK5H4XoU8j9mZmZmZmbmP+F6FK5H4eq/KVyPwvUo+L97FK5H4XqkP+xRuB6F6+k/cT0K16Nw9T+uR+F6FK7nv3E9CtejcM0/UrgehetR2L8zMzMzMzPjPwAAAAAAAOA/pHA9CtejwD/hehSuR+HKPz0K16NwPeq/exSuR+F6xD+4HoXrUbj2v+F6FK5H4fI/ZmZmZmZm1j+4HoXrUbjyP6RwPQrXo+g/hetRuB6F4z8=",
          "dtype": "f8"
         }
        },
        {
         "line": {
          "color": "#d87567",
          "width": 2
         },
         "mode": "lines",
         "name": "acct7",
         "showlegend": false,
         "type": "scatter",
         "x": {
          "bdata": "AQIDBAUGBwgJCgsMDQ4PEBESExQVFhcYGRobHB0eHyAhIiMkJSYnKCkqKywtLi8wMTIzNA==",
          "dtype": "i1"
         },
         "y": {
          "bdata": "KVyPwvUoAkCF61G4HoUDQHsUrkfhehBA9ihcj8L1CEBI4XoUrkcPQNejcD0K1wVAFK5H4XoUCkAfhetRuB4LQHE9CtejcAlAAAAAAAAADECamZmZmZkFQD0K16NwPQZAhetRuB6FCUDhehSuR+EOQHE9CtejcBJAhetRuB6F/z+kcD0K16MRQHE9CtejcA9AcT0K16Nw+T8pXI/C9SgAQArXo3A9Cg9AAAAAAAAADkAzMzMzMzMPQAAAAAAAAAZA7FG4HoXrCUCamZmZmZkBQB+F61G4Hv0/MzMzMzMzAUDhehSuR+EOQB+F61G4HgtAexSuR+F6CkCF61G4HoUDQOxRuB6F6wtAzczMzMzMBkCamZmZmZkLQClcj8L1KApAj8L1KFyPBEA9CtejcD0GQNejcD0K1wVACtejcD0KC0AK16NwPQoFQArXo3A9CgFArkfhehSuD0DhehSuR+ECQBSuR+F6FAxA4XoUrkfhDEBxPQrXo3ALQFK4HoXrUQBA4XoUrkfhDECkcD0K16MKQOxRuB6F6wdAmpmZmZmZAUA=",
          "dtype": "f8"
         }
        },
        {
         "line": {
          "color": "#d87567",
          "width": 2
         },
         "mode": "lines",
         "name": "acct3",
         "showlegend": false,
         "type": "scatter",
         "x": {
          "bdata": "AQIDBAUGBwgJCgsMDQ4PEBESExQVFhcYGRobHB0eHyAhIiMkJSYnKCkqKywtLi8wMTIzNA==",
          "dtype": "i1"
         },
         "y": {
          "bdata": "16NwPQrXFkAAAAAAAAAVQEjhehSuRxlA9ihcj8L1FkDNzMzMzMwRQK5H4XoUrhlAwvUoXI/CFEBxPQrXo3AcQI/C9ShcjxtA9ihcj8L1G0B7FK5H4XoWQKRwPQrXoxRAcT0K16NwHUCF61G4HoUWQJqZmZmZmRtAH4XrUbgeG0C4HoXrUbgcQNejcD0K1xVAMzMzMzMzFkAfhetRuB4aQFyPwvUoXBZAZmZmZmZmFEAAAAAAAAAYQK5H4XoUrhtAcT0K16NwGUCPwvUoXI8ZQGZmZmZmZhRArkfhehSuGEA+CtejcD0cQM3MzMzMzBdAMzMzMzMzF0BSuB6F61EdQIXrUbgehRhA16NwPQrXGUAzMzMzMzMZQOF6FK5H4RVAMzMzMzMzF0AzMzMzMzMbQOxRuB6F6xlAcT0K16NwGEDNzMzMzMwaQD0K16NwPRhAAAAAAAAAGEBI4XoUrkcbQIXrUbgehRtAH4XrUbgeGkAK16NwPQobQEjhehSuRxtAH4XrUbgeGECkcD0K16MXQKRwPQrXoxVAzczMzMzMGkA=",
          "dtype": "f8"
         }
        },
        {
         "line": {
          "color": "#d87567",
          "width": 2
         },
         "mode": "lines",
         "name": "acct1",
         "showlegend": false,
         "type": "scatter",
         "x": {
          "bdata": "AQIDBAUGBwgJCgsMDQ4PEBESExQVFhcYGRobHB0eHyAhIiMkJSYnKCkqKywtLi8wMTIzNA==",
          "dtype": "i1"
         },
         "y": {
          "bdata": "7FG4HoXrIUAzMzMzM7MjQOF6FK5HYSJAmpmZmZkZI0CamZmZmRkhQLgehetROCJAZmZmZmZmIEBxPQrXo3AkQK5H4XoUriJA4XoUrkfhIkBcj8L1KFweQFK4HoXrUSRAUrgehevRIkAK16NwPYogQDMzMzMzsyBAj8L1KFyPIEBI4XoUrkcgQB+F61G4niFASOF6FK5HIkAUrkfhepQhQFyPwvUo3CJAKVyPwvWoIECPwvUoXI8hQB+F61G4niFAuB6F61G4IUDXo3A9CtcjQClcj8L1qCBAmpmZmZmZIUCamZmZmRkjQOxRuB6F6yBAexSuR+F6IUCPwvUoXA8hQBSuR+F6FB5AcT0K16NwJEDNzMzMzEwjQDMzMzMzsyNA16NwPQrXIECamZmZmZkgQGZmZmZm5iFAmpmZmZmZIUD2KFyPwnUgQI/C9ShcjyJAuB6F61E4IUB7FK5H4fojQLgehetROCFACtejcD0KIkBmZmZmZmYgQDMzMzMzMyJAw/UoXI9CIkCamZmZmRkhQM3MzMzMTCRAUrgehetRI0A=",
          "dtype": "f8"
         }
        },
        {
         "line": {
          "color": "#d87567",
          "width": 2
         },
         "mode": "lines",
         "name": "acct2",
         "showlegend": false,
         "type": "scatter",
         "x": {
          "bdata": "AQIDBAUGBwgJCgsMDQ4PEBESExQVFhcYGRobHB0eHyAhIiMkJSYnKCkqKywtLi8wMTIzNA==",
          "dtype": "i1"
         },
         "y": {
          "bdata": "MzMzMzMzKEA9CtejcL0nQHE9CtejcCdAXI/C9ShcKEDhehSuR+EmQHE9CtejcCdA7FG4HoXrKUCPwvUoXI8mQFK4HoXr0SZA4XoUrkfhJkAAAAAAAAAqQAAAAAAAACdAXI/C9ShcKEB7FK5H4XolQDMzMzMzMydAj8L1KFyPJ0BI4XoUrkcnQPYoXI/CdShAw/UoXI/CKEDNzMzMzEwqQOF6FK5H4SZAXI/C9SjcJkDNzMzMzMwlQBSuR+F6lCdAhetRuB4FKUCamZmZmRknQKRwPQrXoyZAPQrXo3C9J0AfhetRuB4nQM3MzMzMTClA9ihcj8L1KEBcj8L1KNwlQB+F61G4nipAXI/C9SjcJ0DXo3A9ClcqQBSuR+F6FCdArkfhehSuJUAzMzMzM7MmQAAAAAAAAClAexSuR+F6KUDhehSuR2EoQFyPwvUoXChAMzMzMzOzJ0D2KFyPwnUoQAAAAAAAgCVAhetRuB4FJ0AAAAAAAIAnQI/C9ShcDylAmpmZmZmZKEDC9Shcj0IqQD0K16NwPSlAUrgehetRKUA=",
          "dtype": "f8"
         }
        },
        {
         "line": {
          "color": "#d87567",
          "width": 2
         },
         "mode": "lines",
         "name": "acct6",
         "showlegend": false,
         "type": "scatter",
         "x": {
          "bdata": "AQIDBAUGBwgJCgsMDQ4PEBESExQVFhcYGRobHB0eHyAhIiMkJSYnKCkqKywtLi8wMTIzNA==",
          "dtype": "i1"
         },
         "y": {
          "bdata": "UrgehesRMED2KFyPwnUuQFyPwvUoXC9AZmZmZmZmLkBSuB6F61EuQGZmZmZm5i9AH4XrUbgeLUDXo3A9ClcuQGZmZmZm5itAzczMzMzMLUB7FK5H4fouQKRwPQrXoyxA7FG4HoVrLkAUrkfhehQtQNejcD0KVy1AXI/C9ShcLUApXI/C9SgsQEjhehSuxy1AexSuR+F6LkCuR+F6FK4tQGZmZmZmZixAw/UoXI9CLUCF61G4HoUrQKRwPQrXIy9A16NwPQrXKkDNzMzMzMwuQNejcD0KFzBAmpmZmZkZLkDXo3A9CtcvQJqZmZmZGS1AmpmZmZmZLkDNzMzMzMwtQDMzMzMzMy9A4XoUrkdhLEBSuB6F69EtQAAAAAAAgC1AzczMzMxML0DsUbgehesuQClcj8L1qC5AhetRuB6FK0CkcD0K16MvQEjhehSuxytAUrgehetRLUA9CtejcD0sQArXo3A9Ci5AMzMzMzMzLUAUrkfhepQtQIXrUbgehS9AhetRuB4FLkCuR+F6FC4tQNejcD0K1yxAH4XrUbgeLUA=",
          "dtype": "f8"
         }
        },
        {
         "line": {
          "color": "#d87567",
          "width": 2
         },
         "mode": "lines",
         "name": "acct9",
         "showlegend": false,
         "type": "scatter",
         "x": {
          "bdata": "AQIDBAUGBwgJCgsMDQ4PEBESExQVFhcYGRobHB0eHyAhIiMkJSYnKCkqKywtLi8wMTIzNA==",
          "dtype": "i1"
         },
         "y": {
          "bdata": "16NwPQrXMUCuR+F6FO4xQB+F61G4XjJAPQrXo3A9M0AfhetRuJ4xQClcj8L1aDFAhetRuB6FMUAUrkfhehQzQMP1KFyPwjJAMzMzMzMzMkBI4XoUrkcyQM3MzMzMjDJAhetRuB5FMUAfhetRuN4yQD0K16NwvTFAzczMzMzMMUApXI/C9agxQOF6FK5H4TFAXI/C9SgcMUAfhetRuF4yQOxRuB6F6zBApHA9CtdjMkCuR+F6FG4xQD0K16NwfTFAhetRuB7FMUAzMzMzM/MxQOxRuB6FazJAZmZmZmZmMUAK16NwPcoyQM3MzMzMDDJAMzMzMzPzMUDNzMzMzEwzQPYoXI/CNTJAAAAAAABAMkDXo3A9ChcxQBSuR+F61DFAUrgeheuRMUC4HoXrUbgwQKRwPQrXYzJACtejcD1KMkBI4XoUrkcyQHE9CtejsDJAw/UoXI9CMUApXI/C9agxQMP1KFyPwjJArkfhehTuMUDNzMzMzAwyQClcj8L1KDFAXI/C9ShcMUBI4XoUrkcyQOF6FK5HYTNAcT0K16MwMkA=",
          "dtype": "f8"
         }
        },
        {
         "line": {
          "color": "#d87567",
          "width": 2
         },
         "mode": "lines",
         "name": "acct10",
         "showlegend": false,
         "type": "scatter",
         "x": {
          "bdata": "AQIDBAUGBwgJCgsMDQ4PEBESExQVFhcYGRobHB0eHyAhIiMkJSYnKCkqKywtLi8wMTIzNA==",
          "dtype": "i1"
         },
         "y": {
          "bdata": "AAAAAABANUAUrkfhehQ1QK5H4XoU7jNAuB6F61G4NEBxPQrXo/A0QKRwPQrXozVA7FG4HoUrNEDD9Shcj0I1QNejcD0KVzRAPQrXo3C9NUApXI/C9eg0QM3MzMzMzDRAUrgehevRNEAK16NwPYo1QNejcD0K1zNAuB6F61E4NEA9CtejcP00QK5H4XoU7jNAH4XrUbjeNEAUrkfhelQ1QOF6FK5H4TRASOF6FK5HNUBcj8L1KFw2QK5H4XoUbjVA9ihcj8K1NEAzMzMzM/M1QM3MzMzMDDZAFK5H4XqUNUApXI/C9Wg0QK5H4XoU7jRAzczMzMzMNUCuR+F6FK40QI/C9ShczzVAAAAAAACANEBmZmZmZmY0QHsUrkfhOjVA4XoUrkfhM0CPwvUoXA82QArXo3A9ijVAmpmZmZlZNUDNzMzMzAw1QBSuR+F6lDRAKVyPwvUoNUCPwvUoXE81QHsUrkfh+jRAhetRuB6FNEBI4XoUrkc1QArXo3A9ijRAAAAAAAAANkBSuB6F69E1QGZmZmZmJjVA16NwPQrXNEA=",
          "dtype": "f8"
         }
        },
        {
         "line": {
          "color": "#d87567",
          "width": 2
         },
         "mode": "lines",
         "name": "acct8",
         "showlegend": false,
         "type": "scatter",
         "x": {
          "bdata": "AQIDBAUGBwgJCgsMDQ4PEBESExQVFhcYGRobHB0eHyAhIiMkJSYnKCkqKywtLi8wMTIzNA==",
          "dtype": "i1"
         },
         "y": {
          "bdata": "j8L1KFwPOUDXo3A9Cpc3QM3MzMzMzDdAexSuR+H6OECPwvUoXM83QEjhehSuRzdAAAAAAADAOEDhehSuR2E3QB+F61G4XjhA9ihcj8J1N0D2KFyPwvU2QLgehetR+DdAPQrXo3A9OEA9CtejcL03QB+F61G4njdAFK5H4XpUN0DhehSuRyE4QBSuR+F6lDhAMzMzMzMzOECPwvUoXA84QI/C9ShcjzhA4XoUrkdhOEApXI/C9Sg3QK5H4XoULjdAZmZmZmYmN0B7FK5H4fo3QLgehetReDdA4XoUrkchOUBSuB6F6xE3QDMzMzMzczhAj8L1KFxPOEB7FK5H4bo3QMP1KFyPgjhACtejcD1KOEAUrkfhepQ3QMP1KFyPwjhA16NwPQoXOEBcj8L1KBw4QJqZmZmZ2TdAexSuR+H6N0AfhetRuJ44QHE9CtejsDZAw/UoXI9CN0AfhetRuF43QI/C9ShcjzhAPQrXo3B9N0DNzMzMzMw4QClcj8L1KDhAcT0K16NwOEC4HoXrUbg4QD0K16NwvThAcT0K16NwOEA=",
          "dtype": "f8"
         }
        },
        {
         "line": {
          "color": "#d87567",
          "width": 2
         },
         "mode": "lines",
         "name": "acct4",
         "showlegend": false,
         "type": "scatter",
         "x": {
          "bdata": "AQIDBAUGBwgJCgsMDQ4PEBESExQVFhcYGRobHB0eHyAhIiMkJSYnKCkqKywtLi8wMTIzNA==",
          "dtype": "i1"
         },
         "y": {
          "bdata": "w/UoXI8COkAAAAAAAEA8QNejcD0KVztApHA9CtfjOkA9CtejcP07QArXo3A9ijtAmpmZmZmZOkA9CtejcL06QK5H4XoUbjpAPQrXo3B9OkCamZmZmRk6QEjhehSuBztAuB6F61H4OkCF61G4HkU7QIXrUbgehTpAhetRuB5FO0CPwvUoXM86QJqZmZmZWTpAAAAAAADAOkD2KFyPwnU7QIXrUbgexTpAuB6F61G4O0BxPQrXo/A5QClcj8L16DpAAAAAAACAO0DsUbgehas6QOF6FK5HoTpAUrgehesRO0AAAAAAAEA7QClcj8L16DtAw/UoXI+COkAzMzMzM3M6QClcj8L1KDtArkfhehRuO0AfhetRuB47QKRwPQrXYzpA9ihcj8J1O0B7FK5H4To7QOF6FK5HoTpAuB6F61E4O0AK16NwPQo7QFyPwvUoHDtAPQrXo3D9OkC4HoXrUXg6QIXrUbgeRTpAXI/C9SgcOkAzMzMzM/M7QPYoXI/CdTtAuB6F61G4OkCPwvUoXA88QArXo3A9yjtAAAAAAABAO0A=",
          "dtype": "f8"
         }
        }
       ],
       "layout": {
        "font": {
         "family": "Courier New",
         "size": 10
        },
        "height": 420,
        "margin": {
         "b": 40,
         "l": 80,
         "r": 30,
         "t": 50
        },
        "paper_bgcolor": "white",
        "plot_bgcolor": "white",
        "shapes": [
         {
          "layer": "below",
          "line": {
           "color": "#dddddd",
           "dash": "dot",
           "width": 1
          },
          "type": "line",
          "x0": 1,
          "x1": 52,
          "y0": -1,
          "y1": -1
         },
         {
          "layer": "below",
          "line": {
           "color": "#dddddd",
           "dash": "dot",
           "width": 1
          },
          "type": "line",
          "x0": 1,
          "x1": 52,
          "y0": 0,
          "y1": 0
         },
         {
          "layer": "below",
          "line": {
           "color": "#dddddd",
           "dash": "dot",
           "width": 1
          },
          "type": "line",
          "x0": 1,
          "x1": 52,
          "y0": 1,
          "y1": 1
         },
         {
          "layer": "below",
          "line": {
           "color": "#dddddd",
           "dash": "dot",
           "width": 1
          },
          "type": "line",
          "x0": 1,
          "x1": 52,
          "y0": 2,
          "y1": 2
         },
         {
          "layer": "below",
          "line": {
           "color": "#dddddd",
           "dash": "dot",
           "width": 1
          },
          "type": "line",
          "x0": 1,
          "x1": 52,
          "y0": 3,
          "y1": 3
         },
         {
          "layer": "below",
          "line": {
           "color": "#dddddd",
           "dash": "dot",
           "width": 1
          },
          "type": "line",
          "x0": 1,
          "x1": 52,
          "y0": 4,
          "y1": 4
         },
         {
          "layer": "below",
          "line": {
           "color": "#dddddd",
           "dash": "dot",
           "width": 1
          },
          "type": "line",
          "x0": 1,
          "x1": 52,
          "y0": 5,
          "y1": 5
         },
         {
          "layer": "below",
          "line": {
           "color": "#dddddd",
           "dash": "dot",
           "width": 1
          },
          "type": "line",
          "x0": 1,
          "x1": 52,
          "y0": 6,
          "y1": 6
         },
         {
          "layer": "below",
          "line": {
           "color": "#dddddd",
           "dash": "dot",
           "width": 1
          },
          "type": "line",
          "x0": 1,
          "x1": 52,
          "y0": 7,
          "y1": 7
         },
         {
          "layer": "below",
          "line": {
           "color": "#dddddd",
           "dash": "dot",
           "width": 1
          },
          "type": "line",
          "x0": 1,
          "x1": 52,
          "y0": 8,
          "y1": 8
         },
         {
          "layer": "below",
          "line": {
           "color": "#dddddd",
           "dash": "dot",
           "width": 1
          },
          "type": "line",
          "x0": 1,
          "x1": 52,
          "y0": 9,
          "y1": 9
         },
         {
          "layer": "below",
          "line": {
           "color": "#dddddd",
           "dash": "dot",
           "width": 1
          },
          "type": "line",
          "x0": 1,
          "x1": 52,
          "y0": 10,
          "y1": 10
         },
         {
          "layer": "below",
          "line": {
           "color": "#dddddd",
           "dash": "dot",
           "width": 1
          },
          "type": "line",
          "x0": 1,
          "x1": 52,
          "y0": 11,
          "y1": 11
         },
         {
          "layer": "below",
          "line": {
           "color": "#dddddd",
           "dash": "dot",
           "width": 1
          },
          "type": "line",
          "x0": 1,
          "x1": 52,
          "y0": 12,
          "y1": 12
         },
         {
          "layer": "below",
          "line": {
           "color": "#dddddd",
           "dash": "dot",
           "width": 1
          },
          "type": "line",
          "x0": 1,
          "x1": 52,
          "y0": 13,
          "y1": 13
         },
         {
          "layer": "below",
          "line": {
           "color": "#dddddd",
           "dash": "dot",
           "width": 1
          },
          "type": "line",
          "x0": 1,
          "x1": 52,
          "y0": 14,
          "y1": 14
         },
         {
          "layer": "below",
          "line": {
           "color": "#dddddd",
           "dash": "dot",
           "width": 1
          },
          "type": "line",
          "x0": 1,
          "x1": 52,
          "y0": 15,
          "y1": 15
         },
         {
          "layer": "below",
          "line": {
           "color": "#dddddd",
           "dash": "dot",
           "width": 1
          },
          "type": "line",
          "x0": 1,
          "x1": 52,
          "y0": 16,
          "y1": 16
         },
         {
          "layer": "below",
          "line": {
           "color": "#dddddd",
           "dash": "dot",
           "width": 1
          },
          "type": "line",
          "x0": 1,
          "x1": 52,
          "y0": 17,
          "y1": 17
         },
         {
          "layer": "below",
          "line": {
           "color": "#dddddd",
           "dash": "dot",
           "width": 1
          },
          "type": "line",
          "x0": 1,
          "x1": 52,
          "y0": 18,
          "y1": 18
         },
         {
          "layer": "below",
          "line": {
           "color": "#dddddd",
           "dash": "dot",
           "width": 1
          },
          "type": "line",
          "x0": 1,
          "x1": 52,
          "y0": 19,
          "y1": 19
         },
         {
          "layer": "below",
          "line": {
           "color": "#dddddd",
           "dash": "dot",
           "width": 1
          },
          "type": "line",
          "x0": 1,
          "x1": 52,
          "y0": 20,
          "y1": 20
         },
         {
          "layer": "below",
          "line": {
           "color": "#dddddd",
           "dash": "dot",
           "width": 1
          },
          "type": "line",
          "x0": 1,
          "x1": 52,
          "y0": 21,
          "y1": 21
         },
         {
          "layer": "below",
          "line": {
           "color": "#dddddd",
           "dash": "dot",
           "width": 1
          },
          "type": "line",
          "x0": 1,
          "x1": 52,
          "y0": 22,
          "y1": 22
         },
         {
          "layer": "below",
          "line": {
           "color": "#dddddd",
           "dash": "dot",
           "width": 1
          },
          "type": "line",
          "x0": 1,
          "x1": 52,
          "y0": 23,
          "y1": 23
         },
         {
          "layer": "below",
          "line": {
           "color": "#dddddd",
           "dash": "dot",
           "width": 1
          },
          "type": "line",
          "x0": 1,
          "x1": 52,
          "y0": 24,
          "y1": 24
         },
         {
          "layer": "below",
          "line": {
           "color": "#dddddd",
           "dash": "dot",
           "width": 1
          },
          "type": "line",
          "x0": 1,
          "x1": 52,
          "y0": 25,
          "y1": 25
         },
         {
          "layer": "below",
          "line": {
           "color": "#dddddd",
           "dash": "dot",
           "width": 1
          },
          "type": "line",
          "x0": 1,
          "x1": 52,
          "y0": 26,
          "y1": 26
         },
         {
          "layer": "below",
          "line": {
           "color": "#dddddd",
           "dash": "dot",
           "width": 1
          },
          "type": "line",
          "x0": 1,
          "x1": 52,
          "y0": 27,
          "y1": 27
         },
         {
          "layer": "below",
          "line": {
           "color": "#dddddd",
           "dash": "dot",
           "width": 1
          },
          "type": "line",
          "x0": 1,
          "x1": 52,
          "y0": 28,
          "y1": 28
         }
        ],
        "template": {
         "data": {
          "bar": [
           {
            "error_x": {
             "color": "#2a3f5f"
            },
            "error_y": {
             "color": "#2a3f5f"
            },
            "marker": {
             "line": {
              "color": "#E5ECF6",
              "width": 0.5
             },
             "pattern": {
              "fillmode": "overlay",
              "size": 10,
              "solidity": 0.2
             }
            },
            "type": "bar"
           }
          ],
          "barpolar": [
           {
            "marker": {
             "line": {
              "color": "#E5ECF6",
              "width": 0.5
             },
             "pattern": {
              "fillmode": "overlay",
              "size": 10,
              "solidity": 0.2
             }
            },
            "type": "barpolar"
           }
          ],
          "carpet": [
           {
            "aaxis": {
             "endlinecolor": "#2a3f5f",
             "gridcolor": "white",
             "linecolor": "white",
             "minorgridcolor": "white",
             "startlinecolor": "#2a3f5f"
            },
            "baxis": {
             "endlinecolor": "#2a3f5f",
             "gridcolor": "white",
             "linecolor": "white",
             "minorgridcolor": "white",
             "startlinecolor": "#2a3f5f"
            },
            "type": "carpet"
           }
          ],
          "choropleth": [
           {
            "colorbar": {
             "outlinewidth": 0,
             "ticks": ""
            },
            "type": "choropleth"
           }
          ],
          "contour": [
           {
            "colorbar": {
             "outlinewidth": 0,
             "ticks": ""
            },
            "colorscale": [
             [
              0,
              "#0d0887"
             ],
             [
              0.1111111111111111,
              "#46039f"
             ],
             [
              0.2222222222222222,
              "#7201a8"
             ],
             [
              0.3333333333333333,
              "#9c179e"
             ],
             [
              0.4444444444444444,
              "#bd3786"
             ],
             [
              0.5555555555555556,
              "#d8576b"
             ],
             [
              0.6666666666666666,
              "#ed7953"
             ],
             [
              0.7777777777777778,
              "#fb9f3a"
             ],
             [
              0.8888888888888888,
              "#fdca26"
             ],
             [
              1,
              "#f0f921"
             ]
            ],
            "type": "contour"
           }
          ],
          "contourcarpet": [
           {
            "colorbar": {
             "outlinewidth": 0,
             "ticks": ""
            },
            "type": "contourcarpet"
           }
          ],
          "heatmap": [
           {
            "colorbar": {
             "outlinewidth": 0,
             "ticks": ""
            },
            "colorscale": [
             [
              0,
              "#0d0887"
             ],
             [
              0.1111111111111111,
              "#46039f"
             ],
             [
              0.2222222222222222,
              "#7201a8"
             ],
             [
              0.3333333333333333,
              "#9c179e"
             ],
             [
              0.4444444444444444,
              "#bd3786"
             ],
             [
              0.5555555555555556,
              "#d8576b"
             ],
             [
              0.6666666666666666,
              "#ed7953"
             ],
             [
              0.7777777777777778,
              "#fb9f3a"
             ],
             [
              0.8888888888888888,
              "#fdca26"
             ],
             [
              1,
              "#f0f921"
             ]
            ],
            "type": "heatmap"
           }
          ],
          "histogram": [
           {
            "marker": {
             "pattern": {
              "fillmode": "overlay",
              "size": 10,
              "solidity": 0.2
             }
            },
            "type": "histogram"
           }
          ],
          "histogram2d": [
           {
            "colorbar": {
             "outlinewidth": 0,
             "ticks": ""
            },
            "colorscale": [
             [
              0,
              "#0d0887"
             ],
             [
              0.1111111111111111,
              "#46039f"
             ],
             [
              0.2222222222222222,
              "#7201a8"
             ],
             [
              0.3333333333333333,
              "#9c179e"
             ],
             [
              0.4444444444444444,
              "#bd3786"
             ],
             [
              0.5555555555555556,
              "#d8576b"
             ],
             [
              0.6666666666666666,
              "#ed7953"
             ],
             [
              0.7777777777777778,
              "#fb9f3a"
             ],
             [
              0.8888888888888888,
              "#fdca26"
             ],
             [
              1,
              "#f0f921"
             ]
            ],
            "type": "histogram2d"
           }
          ],
          "histogram2dcontour": [
           {
            "colorbar": {
             "outlinewidth": 0,
             "ticks": ""
            },
            "colorscale": [
             [
              0,
              "#0d0887"
             ],
             [
              0.1111111111111111,
              "#46039f"
             ],
             [
              0.2222222222222222,
              "#7201a8"
             ],
             [
              0.3333333333333333,
              "#9c179e"
             ],
             [
              0.4444444444444444,
              "#bd3786"
             ],
             [
              0.5555555555555556,
              "#d8576b"
             ],
             [
              0.6666666666666666,
              "#ed7953"
             ],
             [
              0.7777777777777778,
              "#fb9f3a"
             ],
             [
              0.8888888888888888,
              "#fdca26"
             ],
             [
              1,
              "#f0f921"
             ]
            ],
            "type": "histogram2dcontour"
           }
          ],
          "mesh3d": [
           {
            "colorbar": {
             "outlinewidth": 0,
             "ticks": ""
            },
            "type": "mesh3d"
           }
          ],
          "parcoords": [
           {
            "line": {
             "colorbar": {
              "outlinewidth": 0,
              "ticks": ""
             }
            },
            "type": "parcoords"
           }
          ],
          "pie": [
           {
            "automargin": true,
            "type": "pie"
           }
          ],
          "scatter": [
           {
            "fillpattern": {
             "fillmode": "overlay",
             "size": 10,
             "solidity": 0.2
            },
            "type": "scatter"
           }
          ],
          "scatter3d": [
           {
            "line": {
             "colorbar": {
              "outlinewidth": 0,
              "ticks": ""
             }
            },
            "marker": {
             "colorbar": {
              "outlinewidth": 0,
              "ticks": ""
             }
            },
            "type": "scatter3d"
           }
          ],
          "scattercarpet": [
           {
            "marker": {
             "colorbar": {
              "outlinewidth": 0,
              "ticks": ""
             }
            },
            "type": "scattercarpet"
           }
          ],
          "scattergeo": [
           {
            "marker": {
             "colorbar": {
              "outlinewidth": 0,
              "ticks": ""
             }
            },
            "type": "scattergeo"
           }
          ],
          "scattergl": [
           {
            "marker": {
             "colorbar": {
              "outlinewidth": 0,
              "ticks": ""
             }
            },
            "type": "scattergl"
           }
          ],
          "scattermap": [
           {
            "marker": {
             "colorbar": {
              "outlinewidth": 0,
              "ticks": ""
             }
            },
            "type": "scattermap"
           }
          ],
          "scattermapbox": [
           {
            "marker": {
             "colorbar": {
              "outlinewidth": 0,
              "ticks": ""
             }
            },
            "type": "scattermapbox"
           }
          ],
          "scatterpolar": [
           {
            "marker": {
             "colorbar": {
              "outlinewidth": 0,
              "ticks": ""
             }
            },
            "type": "scatterpolar"
           }
          ],
          "scatterpolargl": [
           {
            "marker": {
             "colorbar": {
              "outlinewidth": 0,
              "ticks": ""
             }
            },
            "type": "scatterpolargl"
           }
          ],
          "scatterternary": [
           {
            "marker": {
             "colorbar": {
              "outlinewidth": 0,
              "ticks": ""
             }
            },
            "type": "scatterternary"
           }
          ],
          "surface": [
           {
            "colorbar": {
             "outlinewidth": 0,
             "ticks": ""
            },
            "colorscale": [
             [
              0,
              "#0d0887"
             ],
             [
              0.1111111111111111,
              "#46039f"
             ],
             [
              0.2222222222222222,
              "#7201a8"
             ],
             [
              0.3333333333333333,
              "#9c179e"
             ],
             [
              0.4444444444444444,
              "#bd3786"
             ],
             [
              0.5555555555555556,
              "#d8576b"
             ],
             [
              0.6666666666666666,
              "#ed7953"
             ],
             [
              0.7777777777777778,
              "#fb9f3a"
             ],
             [
              0.8888888888888888,
              "#fdca26"
             ],
             [
              1,
              "#f0f921"
             ]
            ],
            "type": "surface"
           }
          ],
          "table": [
           {
            "cells": {
             "fill": {
              "color": "#EBF0F8"
             },
             "line": {
              "color": "white"
             }
            },
            "header": {
             "fill": {
              "color": "#C8D4E3"
             },
             "line": {
              "color": "white"
             }
            },
            "type": "table"
           }
          ]
         },
         "layout": {
          "annotationdefaults": {
           "arrowcolor": "#2a3f5f",
           "arrowhead": 0,
           "arrowwidth": 1
          },
          "autotypenumbers": "strict",
          "coloraxis": {
           "colorbar": {
            "outlinewidth": 0,
            "ticks": ""
           }
          },
          "colorscale": {
           "diverging": [
            [
             0,
             "#8e0152"
            ],
            [
             0.1,
             "#c51b7d"
            ],
            [
             0.2,
             "#de77ae"
            ],
            [
             0.3,
             "#f1b6da"
            ],
            [
             0.4,
             "#fde0ef"
            ],
            [
             0.5,
             "#f7f7f7"
            ],
            [
             0.6,
             "#e6f5d0"
            ],
            [
             0.7,
             "#b8e186"
            ],
            [
             0.8,
             "#7fbc41"
            ],
            [
             0.9,
             "#4d9221"
            ],
            [
             1,
             "#276419"
            ]
           ],
           "sequential": [
            [
             0,
             "#0d0887"
            ],
            [
             0.1111111111111111,
             "#46039f"
            ],
            [
             0.2222222222222222,
             "#7201a8"
            ],
            [
             0.3333333333333333,
             "#9c179e"
            ],
            [
             0.4444444444444444,
             "#bd3786"
            ],
            [
             0.5555555555555556,
             "#d8576b"
            ],
            [
             0.6666666666666666,
             "#ed7953"
            ],
            [
             0.7777777777777778,
             "#fb9f3a"
            ],
            [
             0.8888888888888888,
             "#fdca26"
            ],
            [
             1,
             "#f0f921"
            ]
           ],
           "sequentialminus": [
            [
             0,
             "#0d0887"
            ],
            [
             0.1111111111111111,
             "#46039f"
            ],
            [
             0.2222222222222222,
             "#7201a8"
            ],
            [
             0.3333333333333333,
             "#9c179e"
            ],
            [
             0.4444444444444444,
             "#bd3786"
            ],
            [
             0.5555555555555556,
             "#d8576b"
            ],
            [
             0.6666666666666666,
             "#ed7953"
            ],
            [
             0.7777777777777778,
             "#fb9f3a"
            ],
            [
             0.8888888888888888,
             "#fdca26"
            ],
            [
             1,
             "#f0f921"
            ]
           ]
          },
          "colorway": [
           "#636efa",
           "#EF553B",
           "#00cc96",
           "#ab63fa",
           "#FFA15A",
           "#19d3f3",
           "#FF6692",
           "#B6E880",
           "#FF97FF",
           "#FECB52"
          ],
          "font": {
           "color": "#2a3f5f"
          },
          "geo": {
           "bgcolor": "white",
           "lakecolor": "white",
           "landcolor": "#E5ECF6",
           "showlakes": true,
           "showland": true,
           "subunitcolor": "white"
          },
          "hoverlabel": {
           "align": "left"
          },
          "hovermode": "closest",
          "mapbox": {
           "style": "light"
          },
          "paper_bgcolor": "white",
          "plot_bgcolor": "#E5ECF6",
          "polar": {
           "angularaxis": {
            "gridcolor": "white",
            "linecolor": "white",
            "ticks": ""
           },
           "bgcolor": "#E5ECF6",
           "radialaxis": {
            "gridcolor": "white",
            "linecolor": "white",
            "ticks": ""
           }
          },
          "scene": {
           "xaxis": {
            "backgroundcolor": "#E5ECF6",
            "gridcolor": "white",
            "gridwidth": 2,
            "linecolor": "white",
            "showbackground": true,
            "ticks": "",
            "zerolinecolor": "white"
           },
           "yaxis": {
            "backgroundcolor": "#E5ECF6",
            "gridcolor": "white",
            "gridwidth": 2,
            "linecolor": "white",
            "showbackground": true,
            "ticks": "",
            "zerolinecolor": "white"
           },
           "zaxis": {
            "backgroundcolor": "#E5ECF6",
            "gridcolor": "white",
            "gridwidth": 2,
            "linecolor": "white",
            "showbackground": true,
            "ticks": "",
            "zerolinecolor": "white"
           }
          },
          "shapedefaults": {
           "line": {
            "color": "#2a3f5f"
           }
          },
          "ternary": {
           "aaxis": {
            "gridcolor": "white",
            "linecolor": "white",
            "ticks": ""
           },
           "baxis": {
            "gridcolor": "white",
            "linecolor": "white",
            "ticks": ""
           },
           "bgcolor": "#E5ECF6",
           "caxis": {
            "gridcolor": "white",
            "linecolor": "white",
            "ticks": ""
           }
          },
          "title": {
           "x": 0.05
          },
          "xaxis": {
           "automargin": true,
           "gridcolor": "white",
           "linecolor": "white",
           "ticks": "",
           "title": {
            "standoff": 15
           },
           "zerolinecolor": "white",
           "zerolinewidth": 2
          },
          "yaxis": {
           "automargin": true,
           "gridcolor": "white",
           "linecolor": "white",
           "ticks": "",
           "title": {
            "standoff": 15
           },
           "zerolinecolor": "white",
           "zerolinewidth": 2
          }
         }
        },
        "title": {
         "text": "Stocking Change as ECG-style Pulse Lines (Top 10 Accounts)"
        },
        "width": 900,
        "xaxis": {
         "title": {
          "text": "Rolling Week"
         }
        },
        "yaxis": {
         "ticktext": [
          "acct5",
          "acct7",
          "acct3",
          "acct1",
          "acct2",
          "acct6",
          "acct9",
          "acct10",
          "acct8",
          "acct4"
         ],
         "tickvals": [
          0,
          3,
          6,
          9,
          12,
          15,
          18,
          21,
          24,
          27
         ],
         "title": {
          "text": "Account ID"
         }
        }
       }
      }
     },
     "metadata": {},
     "output_type": "display_data"
    }
   ],
   "source": [
    "import pandas as pd\n",
    "import numpy as np\n",
    "import plotly.graph_objects as go\n",
    "\n",
    "# 模拟数据\n",
    "np.random.seed(42)\n",
    "accounts = [f'acct{i}' for i in range(1, 11)]\n",
    "weeks = list(range(1, 53))\n",
    "data = []\n",
    "\n",
    "for acct in accounts:\n",
    "    base = np.random.uniform(-1, 1, 52)\n",
    "    adopting_b_window = np.random.randint(10, 40)\n",
    "    for i, week in enumerate(weeks):\n",
    "        data.append({\n",
    "            'account_id': acct,\n",
    "            'rolling_week': week,\n",
    "            'stocking_change': np.round(base[i] + np.random.normal(0, 0.3), 2),\n",
    "            'adopting_b_window': adopting_b_window\n",
    "        })\n",
    "\n",
    "df = pd.DataFrame(data)\n",
    "\n",
    "# 选出代表账户\n",
    "top_accounts = (\n",
    "    df.groupby('account_id')['stocking_change']\n",
    "    .std()\n",
    "    .sort_values(ascending=False)\n",
    "    .head(10)\n",
    "    .index\n",
    ")\n",
    "df_top = df[df['account_id'].isin(top_accounts)]\n",
    "\n",
    "# 画图\n",
    "fig = go.Figure()\n",
    "row_gap = 3  # 控制行间距\n",
    "\n",
    "# 添加背景虚线（心电网格感）\n",
    "for i in range(len(top_accounts)):\n",
    "    y_base = i * row_gap\n",
    "    for offset in [-1, 0, 1]:\n",
    "        fig.add_shape(\n",
    "            type=\"line\",\n",
    "            x0=1, x1=52,\n",
    "            y0=y_base + offset,\n",
    "            y1=y_base + offset,\n",
    "            line=dict(color=\"#dddddd\", width=1, dash=\"dot\"),\n",
    "            layer=\"below\"\n",
    "        )\n",
    "\n",
    "# 添加每条脉动线\n",
    "for i, acct in enumerate(top_accounts):\n",
    "    df_acct = df_top[df_top['account_id'] == acct].sort_values('rolling_week')\n",
    "    y_vals = df_acct['stocking_change'].values + i * row_gap\n",
    "    fig.add_trace(go.Scatter(\n",
    "        x=df_acct['rolling_week'],\n",
    "        y=y_vals,\n",
    "        mode='lines',\n",
    "        line=dict(color=\"#d87567\", width=2),  # 落日红偏棕柔和\n",
    "        name=acct,\n",
    "        showlegend=False\n",
    "    ))\n",
    "\n",
    "# 布局美化\n",
    "fig.update_layout(\n",
    "    height=420,\n",
    "    width=900,\n",
    "    title=\"Stocking Change as ECG-style Pulse Lines (Top 10 Accounts)\",\n",
    "    xaxis_title=\"Rolling Week\",\n",
    "    yaxis=dict(\n",
    "        tickvals=[i * row_gap for i in range(len(top_accounts))],\n",
    "        ticktext=top_accounts,\n",
    "        title=\"Account ID\"\n",
    "    ),\n",
    "    font=dict(family=\"Courier New\", size=10),\n",
    "    plot_bgcolor='white',\n",
    "    paper_bgcolor='white',\n",
    "    margin=dict(t=50, l=80, r=30, b=40)\n",
    ")\n",
    "\n",
    "fig.show()\n"
   ]
  },
  {
   "cell_type": "code",
   "execution_count": 132,
   "id": "11c8c9fe",
   "metadata": {},
   "outputs": [
    {
     "data": {
      "application/vnd.plotly.v1+json": {
       "config": {
        "plotlyServerURL": "https://plot.ly"
       },
       "data": [
        {
         "colorbar": {
          "len": 0.35,
          "orientation": "h",
          "thickness": 10,
          "title": {
           "text": "Change"
          },
          "x": 0.26,
          "y": -0.25
         },
         "colorscale": [
          [
           0,
           "#dca3a3"
          ],
          [
           0.5,
           "#f0efef"
          ],
          [
           1,
           "#94b8a3"
          ]
         ],
         "type": "heatmap",
         "x": {
          "bdata": "AQIDBAUGBwgJCgsMDQ4PEBESExQVFhcYGRobHB0eHyAhIiMkJSYnKCkqKywtLi8wMTIzNA==",
          "dtype": "i1"
         },
         "xaxis": "x",
         "y": [
          "acct1",
          "acct10",
          "acct2",
          "acct3",
          "acct4",
          "acct5",
          "acct6",
          "acct7",
          "acct8",
          "acct9"
         ],
         "yaxis": "y",
         "z": {
          "bdata": "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",
          "dtype": "f8",
          "shape": "10, 52"
         },
         "zmax": 2,
         "zmin": -2
        },
        {
         "colorbar": {
          "len": 0.3,
          "orientation": "h",
          "thickness": 10,
          "title": {
           "text": "Std Dev"
          },
          "x": 0.88,
          "y": -0.25
         },
         "colorscale": [
          [
           0,
           "#c4716c"
          ],
          [
           0.5,
           "#e2e2e2"
          ],
          [
           1,
           "#4a6c68"
          ]
         ],
         "type": "heatmap",
         "x": [
          "Volatility"
         ],
         "xaxis": "x3",
         "y": [
          "acct1",
          "acct10",
          "acct2",
          "acct3",
          "acct4",
          "acct5",
          "acct6",
          "acct7",
          "acct8",
          "acct9"
         ],
         "yaxis": "y3",
         "z": {
          "bdata": "43xEJbRY5T/3ExuN3abjP3sWkiPIOeU/sYL0wuKV5T8jmwkdxenhP80OM8OQZ+c/tEgJ5DuE5D8HZzhkm9bmP1yhuV3PWeM/skrgEBjy4z8=",
          "dtype": "f8",
          "shape": "10, 1"
         },
         "zmax": 0.7313922703255799,
         "zmin": 0
        }
       ],
       "layout": {
        "font": {
         "family": "Courier New",
         "size": 8
        },
        "height": 300,
        "margin": {
         "b": 60,
         "l": 50,
         "r": 40,
         "t": 60
        },
        "paper_bgcolor": "white",
        "plot_bgcolor": "white",
        "template": {
         "data": {
          "bar": [
           {
            "error_x": {
             "color": "#2a3f5f"
            },
            "error_y": {
             "color": "#2a3f5f"
            },
            "marker": {
             "line": {
              "color": "#E5ECF6",
              "width": 0.5
             },
             "pattern": {
              "fillmode": "overlay",
              "size": 10,
              "solidity": 0.2
             }
            },
            "type": "bar"
           }
          ],
          "barpolar": [
           {
            "marker": {
             "line": {
              "color": "#E5ECF6",
              "width": 0.5
             },
             "pattern": {
              "fillmode": "overlay",
              "size": 10,
              "solidity": 0.2
             }
            },
            "type": "barpolar"
           }
          ],
          "carpet": [
           {
            "aaxis": {
             "endlinecolor": "#2a3f5f",
             "gridcolor": "white",
             "linecolor": "white",
             "minorgridcolor": "white",
             "startlinecolor": "#2a3f5f"
            },
            "baxis": {
             "endlinecolor": "#2a3f5f",
             "gridcolor": "white",
             "linecolor": "white",
             "minorgridcolor": "white",
             "startlinecolor": "#2a3f5f"
            },
            "type": "carpet"
           }
          ],
          "choropleth": [
           {
            "colorbar": {
             "outlinewidth": 0,
             "ticks": ""
            },
            "type": "choropleth"
           }
          ],
          "contour": [
           {
            "colorbar": {
             "outlinewidth": 0,
             "ticks": ""
            },
            "colorscale": [
             [
              0,
              "#0d0887"
             ],
             [
              0.1111111111111111,
              "#46039f"
             ],
             [
              0.2222222222222222,
              "#7201a8"
             ],
             [
              0.3333333333333333,
              "#9c179e"
             ],
             [
              0.4444444444444444,
              "#bd3786"
             ],
             [
              0.5555555555555556,
              "#d8576b"
             ],
             [
              0.6666666666666666,
              "#ed7953"
             ],
             [
              0.7777777777777778,
              "#fb9f3a"
             ],
             [
              0.8888888888888888,
              "#fdca26"
             ],
             [
              1,
              "#f0f921"
             ]
            ],
            "type": "contour"
           }
          ],
          "contourcarpet": [
           {
            "colorbar": {
             "outlinewidth": 0,
             "ticks": ""
            },
            "type": "contourcarpet"
           }
          ],
          "heatmap": [
           {
            "colorbar": {
             "outlinewidth": 0,
             "ticks": ""
            },
            "colorscale": [
             [
              0,
              "#0d0887"
             ],
             [
              0.1111111111111111,
              "#46039f"
             ],
             [
              0.2222222222222222,
              "#7201a8"
             ],
             [
              0.3333333333333333,
              "#9c179e"
             ],
             [
              0.4444444444444444,
              "#bd3786"
             ],
             [
              0.5555555555555556,
              "#d8576b"
             ],
             [
              0.6666666666666666,
              "#ed7953"
             ],
             [
              0.7777777777777778,
              "#fb9f3a"
             ],
             [
              0.8888888888888888,
              "#fdca26"
             ],
             [
              1,
              "#f0f921"
             ]
            ],
            "type": "heatmap"
           }
          ],
          "histogram": [
           {
            "marker": {
             "pattern": {
              "fillmode": "overlay",
              "size": 10,
              "solidity": 0.2
             }
            },
            "type": "histogram"
           }
          ],
          "histogram2d": [
           {
            "colorbar": {
             "outlinewidth": 0,
             "ticks": ""
            },
            "colorscale": [
             [
              0,
              "#0d0887"
             ],
             [
              0.1111111111111111,
              "#46039f"
             ],
             [
              0.2222222222222222,
              "#7201a8"
             ],
             [
              0.3333333333333333,
              "#9c179e"
             ],
             [
              0.4444444444444444,
              "#bd3786"
             ],
             [
              0.5555555555555556,
              "#d8576b"
             ],
             [
              0.6666666666666666,
              "#ed7953"
             ],
             [
              0.7777777777777778,
              "#fb9f3a"
             ],
             [
              0.8888888888888888,
              "#fdca26"
             ],
             [
              1,
              "#f0f921"
             ]
            ],
            "type": "histogram2d"
           }
          ],
          "histogram2dcontour": [
           {
            "colorbar": {
             "outlinewidth": 0,
             "ticks": ""
            },
            "colorscale": [
             [
              0,
              "#0d0887"
             ],
             [
              0.1111111111111111,
              "#46039f"
             ],
             [
              0.2222222222222222,
              "#7201a8"
             ],
             [
              0.3333333333333333,
              "#9c179e"
             ],
             [
              0.4444444444444444,
              "#bd3786"
             ],
             [
              0.5555555555555556,
              "#d8576b"
             ],
             [
              0.6666666666666666,
              "#ed7953"
             ],
             [
              0.7777777777777778,
              "#fb9f3a"
             ],
             [
              0.8888888888888888,
              "#fdca26"
             ],
             [
              1,
              "#f0f921"
             ]
            ],
            "type": "histogram2dcontour"
           }
          ],
          "mesh3d": [
           {
            "colorbar": {
             "outlinewidth": 0,
             "ticks": ""
            },
            "type": "mesh3d"
           }
          ],
          "parcoords": [
           {
            "line": {
             "colorbar": {
              "outlinewidth": 0,
              "ticks": ""
             }
            },
            "type": "parcoords"
           }
          ],
          "pie": [
           {
            "automargin": true,
            "type": "pie"
           }
          ],
          "scatter": [
           {
            "fillpattern": {
             "fillmode": "overlay",
             "size": 10,
             "solidity": 0.2
            },
            "type": "scatter"
           }
          ],
          "scatter3d": [
           {
            "line": {
             "colorbar": {
              "outlinewidth": 0,
              "ticks": ""
             }
            },
            "marker": {
             "colorbar": {
              "outlinewidth": 0,
              "ticks": ""
             }
            },
            "type": "scatter3d"
           }
          ],
          "scattercarpet": [
           {
            "marker": {
             "colorbar": {
              "outlinewidth": 0,
              "ticks": ""
             }
            },
            "type": "scattercarpet"
           }
          ],
          "scattergeo": [
           {
            "marker": {
             "colorbar": {
              "outlinewidth": 0,
              "ticks": ""
             }
            },
            "type": "scattergeo"
           }
          ],
          "scattergl": [
           {
            "marker": {
             "colorbar": {
              "outlinewidth": 0,
              "ticks": ""
             }
            },
            "type": "scattergl"
           }
          ],
          "scattermap": [
           {
            "marker": {
             "colorbar": {
              "outlinewidth": 0,
              "ticks": ""
             }
            },
            "type": "scattermap"
           }
          ],
          "scattermapbox": [
           {
            "marker": {
             "colorbar": {
              "outlinewidth": 0,
              "ticks": ""
             }
            },
            "type": "scattermapbox"
           }
          ],
          "scatterpolar": [
           {
            "marker": {
             "colorbar": {
              "outlinewidth": 0,
              "ticks": ""
             }
            },
            "type": "scatterpolar"
           }
          ],
          "scatterpolargl": [
           {
            "marker": {
             "colorbar": {
              "outlinewidth": 0,
              "ticks": ""
             }
            },
            "type": "scatterpolargl"
           }
          ],
          "scatterternary": [
           {
            "marker": {
             "colorbar": {
              "outlinewidth": 0,
              "ticks": ""
             }
            },
            "type": "scatterternary"
           }
          ],
          "surface": [
           {
            "colorbar": {
             "outlinewidth": 0,
             "ticks": ""
            },
            "colorscale": [
             [
              0,
              "#0d0887"
             ],
             [
              0.1111111111111111,
              "#46039f"
             ],
             [
              0.2222222222222222,
              "#7201a8"
             ],
             [
              0.3333333333333333,
              "#9c179e"
             ],
             [
              0.4444444444444444,
              "#bd3786"
             ],
             [
              0.5555555555555556,
              "#d8576b"
             ],
             [
              0.6666666666666666,
              "#ed7953"
             ],
             [
              0.7777777777777778,
              "#fb9f3a"
             ],
             [
              0.8888888888888888,
              "#fdca26"
             ],
             [
              1,
              "#f0f921"
             ]
            ],
            "type": "surface"
           }
          ],
          "table": [
           {
            "cells": {
             "fill": {
              "color": "#EBF0F8"
             },
             "line": {
              "color": "white"
             }
            },
            "header": {
             "fill": {
              "color": "#C8D4E3"
             },
             "line": {
              "color": "white"
             }
            },
            "type": "table"
           }
          ]
         },
         "layout": {
          "annotationdefaults": {
           "arrowcolor": "#2a3f5f",
           "arrowhead": 0,
           "arrowwidth": 1
          },
          "autotypenumbers": "strict",
          "coloraxis": {
           "colorbar": {
            "outlinewidth": 0,
            "ticks": ""
           }
          },
          "colorscale": {
           "diverging": [
            [
             0,
             "#8e0152"
            ],
            [
             0.1,
             "#c51b7d"
            ],
            [
             0.2,
             "#de77ae"
            ],
            [
             0.3,
             "#f1b6da"
            ],
            [
             0.4,
             "#fde0ef"
            ],
            [
             0.5,
             "#f7f7f7"
            ],
            [
             0.6,
             "#e6f5d0"
            ],
            [
             0.7,
             "#b8e186"
            ],
            [
             0.8,
             "#7fbc41"
            ],
            [
             0.9,
             "#4d9221"
            ],
            [
             1,
             "#276419"
            ]
           ],
           "sequential": [
            [
             0,
             "#0d0887"
            ],
            [
             0.1111111111111111,
             "#46039f"
            ],
            [
             0.2222222222222222,
             "#7201a8"
            ],
            [
             0.3333333333333333,
             "#9c179e"
            ],
            [
             0.4444444444444444,
             "#bd3786"
            ],
            [
             0.5555555555555556,
             "#d8576b"
            ],
            [
             0.6666666666666666,
             "#ed7953"
            ],
            [
             0.7777777777777778,
             "#fb9f3a"
            ],
            [
             0.8888888888888888,
             "#fdca26"
            ],
            [
             1,
             "#f0f921"
            ]
           ],
           "sequentialminus": [
            [
             0,
             "#0d0887"
            ],
            [
             0.1111111111111111,
             "#46039f"
            ],
            [
             0.2222222222222222,
             "#7201a8"
            ],
            [
             0.3333333333333333,
             "#9c179e"
            ],
            [
             0.4444444444444444,
             "#bd3786"
            ],
            [
             0.5555555555555556,
             "#d8576b"
            ],
            [
             0.6666666666666666,
             "#ed7953"
            ],
            [
             0.7777777777777778,
             "#fb9f3a"
            ],
            [
             0.8888888888888888,
             "#fdca26"
            ],
            [
             1,
             "#f0f921"
            ]
           ]
          },
          "colorway": [
           "#636efa",
           "#EF553B",
           "#00cc96",
           "#ab63fa",
           "#FFA15A",
           "#19d3f3",
           "#FF6692",
           "#B6E880",
           "#FF97FF",
           "#FECB52"
          ],
          "font": {
           "color": "#2a3f5f"
          },
          "geo": {
           "bgcolor": "white",
           "lakecolor": "white",
           "landcolor": "#E5ECF6",
           "showlakes": true,
           "showland": true,
           "subunitcolor": "white"
          },
          "hoverlabel": {
           "align": "left"
          },
          "hovermode": "closest",
          "mapbox": {
           "style": "light"
          },
          "paper_bgcolor": "white",
          "plot_bgcolor": "#E5ECF6",
          "polar": {
           "angularaxis": {
            "gridcolor": "white",
            "linecolor": "white",
            "ticks": ""
           },
           "bgcolor": "#E5ECF6",
           "radialaxis": {
            "gridcolor": "white",
            "linecolor": "white",
            "ticks": ""
           }
          },
          "scene": {
           "xaxis": {
            "backgroundcolor": "#E5ECF6",
            "gridcolor": "white",
            "gridwidth": 2,
            "linecolor": "white",
            "showbackground": true,
            "ticks": "",
            "zerolinecolor": "white"
           },
           "yaxis": {
            "backgroundcolor": "#E5ECF6",
            "gridcolor": "white",
            "gridwidth": 2,
            "linecolor": "white",
            "showbackground": true,
            "ticks": "",
            "zerolinecolor": "white"
           },
           "zaxis": {
            "backgroundcolor": "#E5ECF6",
            "gridcolor": "white",
            "gridwidth": 2,
            "linecolor": "white",
            "showbackground": true,
            "ticks": "",
            "zerolinecolor": "white"
           }
          },
          "shapedefaults": {
           "line": {
            "color": "#2a3f5f"
           }
          },
          "ternary": {
           "aaxis": {
            "gridcolor": "white",
            "linecolor": "white",
            "ticks": ""
           },
           "baxis": {
            "gridcolor": "white",
            "linecolor": "white",
            "ticks": ""
           },
           "bgcolor": "#E5ECF6",
           "caxis": {
            "gridcolor": "white",
            "linecolor": "white",
            "ticks": ""
           }
          },
          "title": {
           "x": 0.05
          },
          "xaxis": {
           "automargin": true,
           "gridcolor": "white",
           "linecolor": "white",
           "ticks": "",
           "title": {
            "standoff": 15
           },
           "zerolinecolor": "white",
           "zerolinewidth": 2
          },
          "yaxis": {
           "automargin": true,
           "gridcolor": "white",
           "linecolor": "white",
           "ticks": "",
           "title": {
            "standoff": 15
           },
           "zerolinecolor": "white",
           "zerolinewidth": 2
          }
         }
        },
        "title": {
         "text": "Combined View: Stocking Change, Pulse Line, and Volatility"
        },
        "width": 800,
        "xaxis": {
         "anchor": "y",
         "domain": [
          0,
          0.705
         ]
        },
        "xaxis2": {
         "anchor": "y2",
         "domain": [
          0.735,
          0.923
         ]
        },
        "xaxis3": {
         "anchor": "y3",
         "domain": [
          0.9530000000000001,
          1
         ]
        },
        "yaxis": {
         "anchor": "x",
         "domain": [
          0,
          1
         ]
        },
        "yaxis2": {
         "anchor": "x2",
         "domain": [
          0,
          1
         ]
        },
        "yaxis3": {
         "anchor": "x3",
         "domain": [
          0,
          1
         ],
         "showticklabels": false
        }
       }
      }
     },
     "metadata": {},
     "output_type": "display_data"
    }
   ],
   "source": [
    "import pandas as pd\n",
    "import numpy as np\n",
    "import plotly.graph_objects as go\n",
    "from plotly.subplots import make_subplots\n",
    "\n",
    "# 模拟数据\n",
    "np.random.seed(42)\n",
    "accounts = [f'acct{i}' for i in range(1, 11)]\n",
    "weeks = list(range(1, 53))\n",
    "data = []\n",
    "\n",
    "for acct in accounts:\n",
    "    base = np.random.uniform(-1, 1, 52)\n",
    "    adopting_b_window = np.random.randint(10, 40)\n",
    "    for i, week in enumerate(weeks):\n",
    "        data.append({\n",
    "            'account_id': acct,\n",
    "            'rolling_week': week,\n",
    "            'stocking_change': np.round(base[i] + np.random.normal(0, 0.3), 2),\n",
    "            'adopting_b_window': adopting_b_window\n",
    "        })\n",
    "\n",
    "df = pd.DataFrame(data)\n",
    "\n",
    "# 选 top 10 volatility accounts\n",
    "top_accounts = (\n",
    "    df.groupby('account_id')['stocking_change']\n",
    "    .std()\n",
    "    .sort_values(ascending=False)\n",
    "    .head(10)\n",
    "    .index\n",
    ")\n",
    "df_top = df[df['account_id'].isin(top_accounts)]\n",
    "\n",
    "# 准备数据\n",
    "heatmap_data = df_top.pivot(index='account_id', columns='rolling_week', values='stocking_change')\n",
    "std_df = (\n",
    "    df_top.groupby('account_id')['stocking_change']\n",
    "    .std()\n",
    "    .reset_index(name='stocking_std')\n",
    "    .set_index('account_id')\n",
    ")\n",
    "std_heatmap_data = std_df.rename(columns={'stocking_std': 'Volatility'})\n",
    "\n",
    "# 创建图\n",
    "fig = make_subplots(\n",
    "    rows=1, cols=3,\n",
    "    column_widths=[0.75, 0.2, 0.05],\n",
    "    horizontal_spacing=0.03,\n",
    "    #subplot_titles=[\"Stocking Change Heatmap\", \"Pulse Lines\", \"Volatility\"]\n",
    ")\n",
    "\n",
    "# 左：stocking change heatmap\n",
    "fig.add_trace(\n",
    "    go.Heatmap(\n",
    "        z=heatmap_data.values,\n",
    "        x=heatmap_data.columns,\n",
    "        y=heatmap_data.index,\n",
    "        colorscale=[[0.0, \"#dca3a3\"], [0.5, \"#f0efef\"], [1.0, \"#94b8a3\"]],\n",
    "        zmin=-2, zmax=2,\n",
    "        colorbar=dict(title=\"Change\", orientation='h', x=0.26, y=-0.25, len=0.35, thickness=10)\n",
    "    ),\n",
    "    row=1, col=1\n",
    ")\n",
    "\n",
    "# # 中：心电图风格折线图\n",
    "# row_gap = 3\n",
    "# for i, acct in enumerate(top_accounts):\n",
    "#     df_acct = df_top[df_top['account_id'] == acct].sort_values('rolling_week')\n",
    "#     y_vals = df_acct['stocking_change'].values + i * row_gap\n",
    "#     # 背景虚线\n",
    "#     for offset in [-1, 0, 1]:\n",
    "#         fig.add_shape(\n",
    "#             type=\"line\",\n",
    "#             x0=1, x1=52,\n",
    "#             y0=i * row_gap + offset,\n",
    "#             y1=i * row_gap + offset,\n",
    "#             line=dict(color=\"#dddddd\", width=1, dash=\"dot\"),\n",
    "#             xref='x2', yref='y2'\n",
    "#         )\n",
    "#     # 折线\n",
    "#     fig.add_trace(go.Scatter(\n",
    "#         x=df_acct['rolling_week'],\n",
    "#         y=y_vals,\n",
    "#         mode='lines',\n",
    "#         line=dict(color=\"#d87567\", width=2),\n",
    "#         showlegend=False\n",
    "#     ), row=1, col=2)\n",
    "\n",
    "# 右：volatility heatmap\n",
    "fig.add_trace(\n",
    "    go.Heatmap(\n",
    "        z=std_heatmap_data.values,\n",
    "        x=std_heatmap_data.columns,\n",
    "        y=std_heatmap_data.index,\n",
    "        colorscale=[[0.0, \"#c4716c\"], [0.5, \"#e2e2e2\"], [1.0, \"#4a6c68\"]],\n",
    "        zmin=0,\n",
    "        zmax=std_df['stocking_std'].max(),\n",
    "        colorbar=dict(title=\"Std Dev\", orientation='h', x=0.88, y=-0.25, len=0.3, thickness=10)\n",
    "    ),\n",
    "    row=1, col=3\n",
    ")\n",
    "\n",
    "# 布局\n",
    "fig.update_layout(\n",
    "    height=300,\n",
    "    width=800,\n",
    "    font=dict(family=\"Courier New\", size=8),\n",
    "    title=\"Combined View: Stocking Change, Pulse Line, and Volatility\",\n",
    "    margin=dict(t=60, l=50, r=40, b=60),\n",
    "    plot_bgcolor='white',\n",
    "    paper_bgcolor='white'\n",
    ")\n",
    "\n",
    "# 去掉最右 y 轴 tick\n",
    "fig.update_yaxes(showticklabels=False, row=1, col=3)\n",
    "\n",
    "fig.show()\n"
   ]
  },
  {
   "cell_type": "code",
   "execution_count": 145,
   "id": "bfd2e6e0",
   "metadata": {},
   "outputs": [
    {
     "data": {
      "application/vnd.plotly.v1+json": {
       "config": {
        "plotlyServerURL": "https://plot.ly"
       },
       "data": [
        {
         "colorbar": {
          "len": 0.35,
          "orientation": "h",
          "thickness": 12,
          "title": {
           "side": "right",
           "text": "Stocking Change"
          },
          "x": 0.25,
          "y": -0.3
         },
         "colorscale": [
          [
           0,
           "#dca3a3"
          ],
          [
           0.5,
           "#f0efef"
          ],
          [
           1,
           "#94b8a3"
          ]
         ],
         "type": "heatmap",
         "x": {
          "bdata": "AQIDBAUGBwgJCgsMDQ4PEBESExQVFhcYGRobHB0eHyAhIiMkJSYnKCkqKywtLi8wMTIzNA==",
          "dtype": "i1"
         },
         "xaxis": "x",
         "y": [
          "acct1",
          "acct10",
          "acct2",
          "acct3",
          "acct4",
          "acct5",
          "acct6",
          "acct7",
          "acct8",
          "acct9"
         ],
         "yaxis": "y",
         "z": {
          "bdata": "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",
          "dtype": "f8",
          "shape": "10, 52"
         },
         "zmax": 2,
         "zmin": -2
        },
        {
         "colorbar": {
          "len": 0.3,
          "orientation": "h",
          "thickness": 12,
          "title": {
           "side": "right",
           "text": "Volatility"
          },
          "x": 0.85,
          "y": -0.3
         },
         "colorscale": [
          [
           0,
           "#c4716c"
          ],
          [
           0.5,
           "#e2e2e2"
          ],
          [
           1,
           "#4a6c68"
          ]
         ],
         "showscale": true,
         "type": "heatmap",
         "x": [
          "Volatility"
         ],
         "xaxis": "x2",
         "y": [
          "acct1",
          "acct10",
          "acct2",
          "acct3",
          "acct4",
          "acct5",
          "acct6",
          "acct7",
          "acct8",
          "acct9"
         ],
         "yaxis": "y2",
         "z": {
          "bdata": "43xEJbRY5T/3ExuN3abjP3sWkiPIOeU/sYL0wuKV5T8jmwkdxenhP80OM8OQZ+c/tEgJ5DuE5D8HZzhkm9bmP1yhuV3PWeM/skrgEBjy4z8=",
          "dtype": "f8",
          "shape": "10, 1"
         },
         "zmax": 0.7313922703255799,
         "zmin": 0
        }
       ],
       "layout": {
        "font": {
         "family": "Courier New",
         "size": 8
        },
        "height": 300,
        "margin": {
         "b": 80,
         "l": 40,
         "r": 40,
         "t": 40
        },
        "paper_bgcolor": "white",
        "plot_bgcolor": "white",
        "template": {
         "data": {
          "bar": [
           {
            "error_x": {
             "color": "#2a3f5f"
            },
            "error_y": {
             "color": "#2a3f5f"
            },
            "marker": {
             "line": {
              "color": "#E5ECF6",
              "width": 0.5
             },
             "pattern": {
              "fillmode": "overlay",
              "size": 10,
              "solidity": 0.2
             }
            },
            "type": "bar"
           }
          ],
          "barpolar": [
           {
            "marker": {
             "line": {
              "color": "#E5ECF6",
              "width": 0.5
             },
             "pattern": {
              "fillmode": "overlay",
              "size": 10,
              "solidity": 0.2
             }
            },
            "type": "barpolar"
           }
          ],
          "carpet": [
           {
            "aaxis": {
             "endlinecolor": "#2a3f5f",
             "gridcolor": "white",
             "linecolor": "white",
             "minorgridcolor": "white",
             "startlinecolor": "#2a3f5f"
            },
            "baxis": {
             "endlinecolor": "#2a3f5f",
             "gridcolor": "white",
             "linecolor": "white",
             "minorgridcolor": "white",
             "startlinecolor": "#2a3f5f"
            },
            "type": "carpet"
           }
          ],
          "choropleth": [
           {
            "colorbar": {
             "outlinewidth": 0,
             "ticks": ""
            },
            "type": "choropleth"
           }
          ],
          "contour": [
           {
            "colorbar": {
             "outlinewidth": 0,
             "ticks": ""
            },
            "colorscale": [
             [
              0,
              "#0d0887"
             ],
             [
              0.1111111111111111,
              "#46039f"
             ],
             [
              0.2222222222222222,
              "#7201a8"
             ],
             [
              0.3333333333333333,
              "#9c179e"
             ],
             [
              0.4444444444444444,
              "#bd3786"
             ],
             [
              0.5555555555555556,
              "#d8576b"
             ],
             [
              0.6666666666666666,
              "#ed7953"
             ],
             [
              0.7777777777777778,
              "#fb9f3a"
             ],
             [
              0.8888888888888888,
              "#fdca26"
             ],
             [
              1,
              "#f0f921"
             ]
            ],
            "type": "contour"
           }
          ],
          "contourcarpet": [
           {
            "colorbar": {
             "outlinewidth": 0,
             "ticks": ""
            },
            "type": "contourcarpet"
           }
          ],
          "heatmap": [
           {
            "colorbar": {
             "outlinewidth": 0,
             "ticks": ""
            },
            "colorscale": [
             [
              0,
              "#0d0887"
             ],
             [
              0.1111111111111111,
              "#46039f"
             ],
             [
              0.2222222222222222,
              "#7201a8"
             ],
             [
              0.3333333333333333,
              "#9c179e"
             ],
             [
              0.4444444444444444,
              "#bd3786"
             ],
             [
              0.5555555555555556,
              "#d8576b"
             ],
             [
              0.6666666666666666,
              "#ed7953"
             ],
             [
              0.7777777777777778,
              "#fb9f3a"
             ],
             [
              0.8888888888888888,
              "#fdca26"
             ],
             [
              1,
              "#f0f921"
             ]
            ],
            "type": "heatmap"
           }
          ],
          "histogram": [
           {
            "marker": {
             "pattern": {
              "fillmode": "overlay",
              "size": 10,
              "solidity": 0.2
             }
            },
            "type": "histogram"
           }
          ],
          "histogram2d": [
           {
            "colorbar": {
             "outlinewidth": 0,
             "ticks": ""
            },
            "colorscale": [
             [
              0,
              "#0d0887"
             ],
             [
              0.1111111111111111,
              "#46039f"
             ],
             [
              0.2222222222222222,
              "#7201a8"
             ],
             [
              0.3333333333333333,
              "#9c179e"
             ],
             [
              0.4444444444444444,
              "#bd3786"
             ],
             [
              0.5555555555555556,
              "#d8576b"
             ],
             [
              0.6666666666666666,
              "#ed7953"
             ],
             [
              0.7777777777777778,
              "#fb9f3a"
             ],
             [
              0.8888888888888888,
              "#fdca26"
             ],
             [
              1,
              "#f0f921"
             ]
            ],
            "type": "histogram2d"
           }
          ],
          "histogram2dcontour": [
           {
            "colorbar": {
             "outlinewidth": 0,
             "ticks": ""
            },
            "colorscale": [
             [
              0,
              "#0d0887"
             ],
             [
              0.1111111111111111,
              "#46039f"
             ],
             [
              0.2222222222222222,
              "#7201a8"
             ],
             [
              0.3333333333333333,
              "#9c179e"
             ],
             [
              0.4444444444444444,
              "#bd3786"
             ],
             [
              0.5555555555555556,
              "#d8576b"
             ],
             [
              0.6666666666666666,
              "#ed7953"
             ],
             [
              0.7777777777777778,
              "#fb9f3a"
             ],
             [
              0.8888888888888888,
              "#fdca26"
             ],
             [
              1,
              "#f0f921"
             ]
            ],
            "type": "histogram2dcontour"
           }
          ],
          "mesh3d": [
           {
            "colorbar": {
             "outlinewidth": 0,
             "ticks": ""
            },
            "type": "mesh3d"
           }
          ],
          "parcoords": [
           {
            "line": {
             "colorbar": {
              "outlinewidth": 0,
              "ticks": ""
             }
            },
            "type": "parcoords"
           }
          ],
          "pie": [
           {
            "automargin": true,
            "type": "pie"
           }
          ],
          "scatter": [
           {
            "fillpattern": {
             "fillmode": "overlay",
             "size": 10,
             "solidity": 0.2
            },
            "type": "scatter"
           }
          ],
          "scatter3d": [
           {
            "line": {
             "colorbar": {
              "outlinewidth": 0,
              "ticks": ""
             }
            },
            "marker": {
             "colorbar": {
              "outlinewidth": 0,
              "ticks": ""
             }
            },
            "type": "scatter3d"
           }
          ],
          "scattercarpet": [
           {
            "marker": {
             "colorbar": {
              "outlinewidth": 0,
              "ticks": ""
             }
            },
            "type": "scattercarpet"
           }
          ],
          "scattergeo": [
           {
            "marker": {
             "colorbar": {
              "outlinewidth": 0,
              "ticks": ""
             }
            },
            "type": "scattergeo"
           }
          ],
          "scattergl": [
           {
            "marker": {
             "colorbar": {
              "outlinewidth": 0,
              "ticks": ""
             }
            },
            "type": "scattergl"
           }
          ],
          "scattermap": [
           {
            "marker": {
             "colorbar": {
              "outlinewidth": 0,
              "ticks": ""
             }
            },
            "type": "scattermap"
           }
          ],
          "scattermapbox": [
           {
            "marker": {
             "colorbar": {
              "outlinewidth": 0,
              "ticks": ""
             }
            },
            "type": "scattermapbox"
           }
          ],
          "scatterpolar": [
           {
            "marker": {
             "colorbar": {
              "outlinewidth": 0,
              "ticks": ""
             }
            },
            "type": "scatterpolar"
           }
          ],
          "scatterpolargl": [
           {
            "marker": {
             "colorbar": {
              "outlinewidth": 0,
              "ticks": ""
             }
            },
            "type": "scatterpolargl"
           }
          ],
          "scatterternary": [
           {
            "marker": {
             "colorbar": {
              "outlinewidth": 0,
              "ticks": ""
             }
            },
            "type": "scatterternary"
           }
          ],
          "surface": [
           {
            "colorbar": {
             "outlinewidth": 0,
             "ticks": ""
            },
            "colorscale": [
             [
              0,
              "#0d0887"
             ],
             [
              0.1111111111111111,
              "#46039f"
             ],
             [
              0.2222222222222222,
              "#7201a8"
             ],
             [
              0.3333333333333333,
              "#9c179e"
             ],
             [
              0.4444444444444444,
              "#bd3786"
             ],
             [
              0.5555555555555556,
              "#d8576b"
             ],
             [
              0.6666666666666666,
              "#ed7953"
             ],
             [
              0.7777777777777778,
              "#fb9f3a"
             ],
             [
              0.8888888888888888,
              "#fdca26"
             ],
             [
              1,
              "#f0f921"
             ]
            ],
            "type": "surface"
           }
          ],
          "table": [
           {
            "cells": {
             "fill": {
              "color": "#EBF0F8"
             },
             "line": {
              "color": "white"
             }
            },
            "header": {
             "fill": {
              "color": "#C8D4E3"
             },
             "line": {
              "color": "white"
             }
            },
            "type": "table"
           }
          ]
         },
         "layout": {
          "annotationdefaults": {
           "arrowcolor": "#2a3f5f",
           "arrowhead": 0,
           "arrowwidth": 1
          },
          "autotypenumbers": "strict",
          "coloraxis": {
           "colorbar": {
            "outlinewidth": 0,
            "ticks": ""
           }
          },
          "colorscale": {
           "diverging": [
            [
             0,
             "#8e0152"
            ],
            [
             0.1,
             "#c51b7d"
            ],
            [
             0.2,
             "#de77ae"
            ],
            [
             0.3,
             "#f1b6da"
            ],
            [
             0.4,
             "#fde0ef"
            ],
            [
             0.5,
             "#f7f7f7"
            ],
            [
             0.6,
             "#e6f5d0"
            ],
            [
             0.7,
             "#b8e186"
            ],
            [
             0.8,
             "#7fbc41"
            ],
            [
             0.9,
             "#4d9221"
            ],
            [
             1,
             "#276419"
            ]
           ],
           "sequential": [
            [
             0,
             "#0d0887"
            ],
            [
             0.1111111111111111,
             "#46039f"
            ],
            [
             0.2222222222222222,
             "#7201a8"
            ],
            [
             0.3333333333333333,
             "#9c179e"
            ],
            [
             0.4444444444444444,
             "#bd3786"
            ],
            [
             0.5555555555555556,
             "#d8576b"
            ],
            [
             0.6666666666666666,
             "#ed7953"
            ],
            [
             0.7777777777777778,
             "#fb9f3a"
            ],
            [
             0.8888888888888888,
             "#fdca26"
            ],
            [
             1,
             "#f0f921"
            ]
           ],
           "sequentialminus": [
            [
             0,
             "#0d0887"
            ],
            [
             0.1111111111111111,
             "#46039f"
            ],
            [
             0.2222222222222222,
             "#7201a8"
            ],
            [
             0.3333333333333333,
             "#9c179e"
            ],
            [
             0.4444444444444444,
             "#bd3786"
            ],
            [
             0.5555555555555556,
             "#d8576b"
            ],
            [
             0.6666666666666666,
             "#ed7953"
            ],
            [
             0.7777777777777778,
             "#fb9f3a"
            ],
            [
             0.8888888888888888,
             "#fdca26"
            ],
            [
             1,
             "#f0f921"
            ]
           ]
          },
          "colorway": [
           "#636efa",
           "#EF553B",
           "#00cc96",
           "#ab63fa",
           "#FFA15A",
           "#19d3f3",
           "#FF6692",
           "#B6E880",
           "#FF97FF",
           "#FECB52"
          ],
          "font": {
           "color": "#2a3f5f"
          },
          "geo": {
           "bgcolor": "white",
           "lakecolor": "white",
           "landcolor": "#E5ECF6",
           "showlakes": true,
           "showland": true,
           "subunitcolor": "white"
          },
          "hoverlabel": {
           "align": "left"
          },
          "hovermode": "closest",
          "mapbox": {
           "style": "light"
          },
          "paper_bgcolor": "white",
          "plot_bgcolor": "#E5ECF6",
          "polar": {
           "angularaxis": {
            "gridcolor": "white",
            "linecolor": "white",
            "ticks": ""
           },
           "bgcolor": "#E5ECF6",
           "radialaxis": {
            "gridcolor": "white",
            "linecolor": "white",
            "ticks": ""
           }
          },
          "scene": {
           "xaxis": {
            "backgroundcolor": "#E5ECF6",
            "gridcolor": "white",
            "gridwidth": 2,
            "linecolor": "white",
            "showbackground": true,
            "ticks": "",
            "zerolinecolor": "white"
           },
           "yaxis": {
            "backgroundcolor": "#E5ECF6",
            "gridcolor": "white",
            "gridwidth": 2,
            "linecolor": "white",
            "showbackground": true,
            "ticks": "",
            "zerolinecolor": "white"
           },
           "zaxis": {
            "backgroundcolor": "#E5ECF6",
            "gridcolor": "white",
            "gridwidth": 2,
            "linecolor": "white",
            "showbackground": true,
            "ticks": "",
            "zerolinecolor": "white"
           }
          },
          "shapedefaults": {
           "line": {
            "color": "#2a3f5f"
           }
          },
          "ternary": {
           "aaxis": {
            "gridcolor": "white",
            "linecolor": "white",
            "ticks": ""
           },
           "baxis": {
            "gridcolor": "white",
            "linecolor": "white",
            "ticks": ""
           },
           "bgcolor": "#E5ECF6",
           "caxis": {
            "gridcolor": "white",
            "linecolor": "white",
            "ticks": ""
           }
          },
          "title": {
           "x": 0.05
          },
          "xaxis": {
           "automargin": true,
           "gridcolor": "white",
           "linecolor": "white",
           "ticks": "",
           "title": {
            "standoff": 15
           },
           "zerolinecolor": "white",
           "zerolinewidth": 2
          },
          "yaxis": {
           "automargin": true,
           "gridcolor": "white",
           "linecolor": "white",
           "ticks": "",
           "title": {
            "standoff": 15
           },
           "zerolinecolor": "white",
           "zerolinewidth": 2
          }
         }
        },
        "title": {
         "text": "Stocking Change and Volatility Heatmap (Top 10 Accounts)"
        },
        "width": 600,
        "xaxis": {
         "anchor": "y",
         "domain": [
          0,
          0.9215
         ]
        },
        "xaxis2": {
         "anchor": "y2",
         "domain": [
          0.9515,
          1
         ]
        },
        "yaxis": {
         "anchor": "x",
         "domain": [
          0,
          1
         ]
        },
        "yaxis2": {
         "anchor": "x2",
         "domain": [
          0,
          1
         ],
         "showticklabels": false
        }
       }
      }
     },
     "metadata": {},
     "output_type": "display_data"
    }
   ],
   "source": [
    "# 生成只在左侧 heatmap 显示账户名的版本，右侧 volatility heatmap 不显示 yticklabels\n",
    "\n",
    "# 创建子图\n",
    "fig = make_subplots(\n",
    "    rows=1, cols=2,\n",
    "    column_widths=[19/20, 1/20],\n",
    "    horizontal_spacing=0.03\n",
    ")\n",
    "\n",
    "# Notre Dame 主题配色（深蓝、金色、米色）\n",
    "stocking_colorscale = [\n",
    "    [0.0, \"#0C2340\"],  # Notre Dame blue\n",
    "    [0.5, \"#f0e8d9\"],  # beige/cream\n",
    "    [1.0, \"#C99700\"]   # Notre Dame gold\n",
    "]\n",
    "volatility_colorscale = [\n",
    "    [0.0, \"#002855\"],  # darker blue\n",
    "    [0.5, \"#dcd2c3\"],\n",
    "    [1.0, \"#ae8f00\"]\n",
    "]\n",
    "\n",
    "\n",
    "# 左边 Heatmap（stocking_change）\n",
    "fig.add_trace(\n",
    "    go.Heatmap(\n",
    "        z=heatmap_data.values,\n",
    "        x=heatmap_data.columns,\n",
    "        y=heatmap_data.index,\n",
    "        colorscale=[\n",
    "            [0.0, \"#dca3a3\"],\n",
    "            [0.5, \"#f0efef\"],\n",
    "            [1.0, \"#94b8a3\"]\n",
    "        ],\n",
    "        zmin=-2, zmax=2,\n",
    "        colorbar=dict(\n",
    "            title=\"Stocking Change\",\n",
    "            orientation='h',\n",
    "            x=0.25,\n",
    "            y=-0.3,\n",
    "            len=0.35,\n",
    "            thickness=12,\n",
    "            title_side='right'\n",
    "        )\n",
    "    ),\n",
    "    row=1, col=1\n",
    ")\n",
    "\n",
    "# 右边 Heatmap（Volatility）隐藏 yticks\n",
    "fig.add_trace(\n",
    "    go.Heatmap(\n",
    "        z=std_heatmap_data.values,\n",
    "        x=std_heatmap_data.columns,\n",
    "        y=std_heatmap_data.index,\n",
    "        colorscale=[\n",
    "            [0.0, \"#c4716c\"],\n",
    "            [0.5, \"#e2e2e2\"],\n",
    "            [1.0, \"#4a6c68\"]\n",
    "        ],\n",
    "        zmin=0,\n",
    "        zmax=std_df['stocking_std'].max(),\n",
    "        showscale=True,\n",
    "        colorbar=dict(\n",
    "            title=\"Volatility\",\n",
    "            orientation='h',\n",
    "            x=0.85,\n",
    "            y=-0.3,\n",
    "            len=0.3,\n",
    "            thickness=12,\n",
    "            title_side='right'\n",
    "        )\n",
    "    ),\n",
    "    row=1, col=2\n",
    ")\n",
    "\n",
    "\n",
    "# 更新布局隐藏右侧 y 轴 ticklabel\n",
    "fig.update_layout(\n",
    "    height=300,\n",
    "    width=600,\n",
    "    title=\"Stocking Change and Volatility Heatmap (Top 10 Accounts)\",\n",
    "    font=dict(family=\"Courier New\", size=8),\n",
    "    margin=dict(t=40, l=40, r=40, b=80),\n",
    "    plot_bgcolor='white',\n",
    "    paper_bgcolor='white'\n",
    ")\n",
    "\n",
    "# 隐藏右图 yaxis tick labels\n",
    "fig.update_yaxes(showticklabels=False, row=1, col=2)\n",
    "\n",
    "fig.show()\n"
   ]
  },
  {
   "cell_type": "code",
   "execution_count": 148,
   "id": "6c15e3e6",
   "metadata": {},
   "outputs": [
    {
     "data": {
      "application/vnd.plotly.v1+json": {
       "config": {
        "plotlyServerURL": "https://plot.ly"
       },
       "data": [
        {
         "dimensions": [
          {
           "label": "Stocking Change",
           "values": [
            "Low",
            "High",
            "Low",
            "High",
            "Medium",
            "High",
            "Low",
            "High",
            "Medium",
            "Medium"
           ]
          },
          {
           "label": "Volatility",
           "values": [
            "Medium",
            "Low",
            "Medium",
            "High",
            "Low",
            "High",
            "Medium",
            "High",
            "Low",
            "Low"
           ]
          },
          {
           "label": "B Adoption Timing",
           "values": [
            "Early",
            "Late",
            "Late",
            "Late",
            "Late",
            "Early",
            "Late",
            "Early",
            "Early",
            "Late"
           ]
          }
         ],
         "domain": {
          "x": [
           0,
           1
          ],
          "y": [
           0,
           1
          ]
         },
         "name": "",
         "type": "parcats"
        }
       ],
       "layout": {
        "legend": {
         "tracegroupgap": 0
        },
        "template": {
         "data": {
          "bar": [
           {
            "error_x": {
             "color": "#2a3f5f"
            },
            "error_y": {
             "color": "#2a3f5f"
            },
            "marker": {
             "line": {
              "color": "#E5ECF6",
              "width": 0.5
             },
             "pattern": {
              "fillmode": "overlay",
              "size": 10,
              "solidity": 0.2
             }
            },
            "type": "bar"
           }
          ],
          "barpolar": [
           {
            "marker": {
             "line": {
              "color": "#E5ECF6",
              "width": 0.5
             },
             "pattern": {
              "fillmode": "overlay",
              "size": 10,
              "solidity": 0.2
             }
            },
            "type": "barpolar"
           }
          ],
          "carpet": [
           {
            "aaxis": {
             "endlinecolor": "#2a3f5f",
             "gridcolor": "white",
             "linecolor": "white",
             "minorgridcolor": "white",
             "startlinecolor": "#2a3f5f"
            },
            "baxis": {
             "endlinecolor": "#2a3f5f",
             "gridcolor": "white",
             "linecolor": "white",
             "minorgridcolor": "white",
             "startlinecolor": "#2a3f5f"
            },
            "type": "carpet"
           }
          ],
          "choropleth": [
           {
            "colorbar": {
             "outlinewidth": 0,
             "ticks": ""
            },
            "type": "choropleth"
           }
          ],
          "contour": [
           {
            "colorbar": {
             "outlinewidth": 0,
             "ticks": ""
            },
            "colorscale": [
             [
              0,
              "#0d0887"
             ],
             [
              0.1111111111111111,
              "#46039f"
             ],
             [
              0.2222222222222222,
              "#7201a8"
             ],
             [
              0.3333333333333333,
              "#9c179e"
             ],
             [
              0.4444444444444444,
              "#bd3786"
             ],
             [
              0.5555555555555556,
              "#d8576b"
             ],
             [
              0.6666666666666666,
              "#ed7953"
             ],
             [
              0.7777777777777778,
              "#fb9f3a"
             ],
             [
              0.8888888888888888,
              "#fdca26"
             ],
             [
              1,
              "#f0f921"
             ]
            ],
            "type": "contour"
           }
          ],
          "contourcarpet": [
           {
            "colorbar": {
             "outlinewidth": 0,
             "ticks": ""
            },
            "type": "contourcarpet"
           }
          ],
          "heatmap": [
           {
            "colorbar": {
             "outlinewidth": 0,
             "ticks": ""
            },
            "colorscale": [
             [
              0,
              "#0d0887"
             ],
             [
              0.1111111111111111,
              "#46039f"
             ],
             [
              0.2222222222222222,
              "#7201a8"
             ],
             [
              0.3333333333333333,
              "#9c179e"
             ],
             [
              0.4444444444444444,
              "#bd3786"
             ],
             [
              0.5555555555555556,
              "#d8576b"
             ],
             [
              0.6666666666666666,
              "#ed7953"
             ],
             [
              0.7777777777777778,
              "#fb9f3a"
             ],
             [
              0.8888888888888888,
              "#fdca26"
             ],
             [
              1,
              "#f0f921"
             ]
            ],
            "type": "heatmap"
           }
          ],
          "histogram": [
           {
            "marker": {
             "pattern": {
              "fillmode": "overlay",
              "size": 10,
              "solidity": 0.2
             }
            },
            "type": "histogram"
           }
          ],
          "histogram2d": [
           {
            "colorbar": {
             "outlinewidth": 0,
             "ticks": ""
            },
            "colorscale": [
             [
              0,
              "#0d0887"
             ],
             [
              0.1111111111111111,
              "#46039f"
             ],
             [
              0.2222222222222222,
              "#7201a8"
             ],
             [
              0.3333333333333333,
              "#9c179e"
             ],
             [
              0.4444444444444444,
              "#bd3786"
             ],
             [
              0.5555555555555556,
              "#d8576b"
             ],
             [
              0.6666666666666666,
              "#ed7953"
             ],
             [
              0.7777777777777778,
              "#fb9f3a"
             ],
             [
              0.8888888888888888,
              "#fdca26"
             ],
             [
              1,
              "#f0f921"
             ]
            ],
            "type": "histogram2d"
           }
          ],
          "histogram2dcontour": [
           {
            "colorbar": {
             "outlinewidth": 0,
             "ticks": ""
            },
            "colorscale": [
             [
              0,
              "#0d0887"
             ],
             [
              0.1111111111111111,
              "#46039f"
             ],
             [
              0.2222222222222222,
              "#7201a8"
             ],
             [
              0.3333333333333333,
              "#9c179e"
             ],
             [
              0.4444444444444444,
              "#bd3786"
             ],
             [
              0.5555555555555556,
              "#d8576b"
             ],
             [
              0.6666666666666666,
              "#ed7953"
             ],
             [
              0.7777777777777778,
              "#fb9f3a"
             ],
             [
              0.8888888888888888,
              "#fdca26"
             ],
             [
              1,
              "#f0f921"
             ]
            ],
            "type": "histogram2dcontour"
           }
          ],
          "mesh3d": [
           {
            "colorbar": {
             "outlinewidth": 0,
             "ticks": ""
            },
            "type": "mesh3d"
           }
          ],
          "parcoords": [
           {
            "line": {
             "colorbar": {
              "outlinewidth": 0,
              "ticks": ""
             }
            },
            "type": "parcoords"
           }
          ],
          "pie": [
           {
            "automargin": true,
            "type": "pie"
           }
          ],
          "scatter": [
           {
            "fillpattern": {
             "fillmode": "overlay",
             "size": 10,
             "solidity": 0.2
            },
            "type": "scatter"
           }
          ],
          "scatter3d": [
           {
            "line": {
             "colorbar": {
              "outlinewidth": 0,
              "ticks": ""
             }
            },
            "marker": {
             "colorbar": {
              "outlinewidth": 0,
              "ticks": ""
             }
            },
            "type": "scatter3d"
           }
          ],
          "scattercarpet": [
           {
            "marker": {
             "colorbar": {
              "outlinewidth": 0,
              "ticks": ""
             }
            },
            "type": "scattercarpet"
           }
          ],
          "scattergeo": [
           {
            "marker": {
             "colorbar": {
              "outlinewidth": 0,
              "ticks": ""
             }
            },
            "type": "scattergeo"
           }
          ],
          "scattergl": [
           {
            "marker": {
             "colorbar": {
              "outlinewidth": 0,
              "ticks": ""
             }
            },
            "type": "scattergl"
           }
          ],
          "scattermap": [
           {
            "marker": {
             "colorbar": {
              "outlinewidth": 0,
              "ticks": ""
             }
            },
            "type": "scattermap"
           }
          ],
          "scattermapbox": [
           {
            "marker": {
             "colorbar": {
              "outlinewidth": 0,
              "ticks": ""
             }
            },
            "type": "scattermapbox"
           }
          ],
          "scatterpolar": [
           {
            "marker": {
             "colorbar": {
              "outlinewidth": 0,
              "ticks": ""
             }
            },
            "type": "scatterpolar"
           }
          ],
          "scatterpolargl": [
           {
            "marker": {
             "colorbar": {
              "outlinewidth": 0,
              "ticks": ""
             }
            },
            "type": "scatterpolargl"
           }
          ],
          "scatterternary": [
           {
            "marker": {
             "colorbar": {
              "outlinewidth": 0,
              "ticks": ""
             }
            },
            "type": "scatterternary"
           }
          ],
          "surface": [
           {
            "colorbar": {
             "outlinewidth": 0,
             "ticks": ""
            },
            "colorscale": [
             [
              0,
              "#0d0887"
             ],
             [
              0.1111111111111111,
              "#46039f"
             ],
             [
              0.2222222222222222,
              "#7201a8"
             ],
             [
              0.3333333333333333,
              "#9c179e"
             ],
             [
              0.4444444444444444,
              "#bd3786"
             ],
             [
              0.5555555555555556,
              "#d8576b"
             ],
             [
              0.6666666666666666,
              "#ed7953"
             ],
             [
              0.7777777777777778,
              "#fb9f3a"
             ],
             [
              0.8888888888888888,
              "#fdca26"
             ],
             [
              1,
              "#f0f921"
             ]
            ],
            "type": "surface"
           }
          ],
          "table": [
           {
            "cells": {
             "fill": {
              "color": "#EBF0F8"
             },
             "line": {
              "color": "white"
             }
            },
            "header": {
             "fill": {
              "color": "#C8D4E3"
             },
             "line": {
              "color": "white"
             }
            },
            "type": "table"
           }
          ]
         },
         "layout": {
          "annotationdefaults": {
           "arrowcolor": "#2a3f5f",
           "arrowhead": 0,
           "arrowwidth": 1
          },
          "autotypenumbers": "strict",
          "coloraxis": {
           "colorbar": {
            "outlinewidth": 0,
            "ticks": ""
           }
          },
          "colorscale": {
           "diverging": [
            [
             0,
             "#8e0152"
            ],
            [
             0.1,
             "#c51b7d"
            ],
            [
             0.2,
             "#de77ae"
            ],
            [
             0.3,
             "#f1b6da"
            ],
            [
             0.4,
             "#fde0ef"
            ],
            [
             0.5,
             "#f7f7f7"
            ],
            [
             0.6,
             "#e6f5d0"
            ],
            [
             0.7,
             "#b8e186"
            ],
            [
             0.8,
             "#7fbc41"
            ],
            [
             0.9,
             "#4d9221"
            ],
            [
             1,
             "#276419"
            ]
           ],
           "sequential": [
            [
             0,
             "#0d0887"
            ],
            [
             0.1111111111111111,
             "#46039f"
            ],
            [
             0.2222222222222222,
             "#7201a8"
            ],
            [
             0.3333333333333333,
             "#9c179e"
            ],
            [
             0.4444444444444444,
             "#bd3786"
            ],
            [
             0.5555555555555556,
             "#d8576b"
            ],
            [
             0.6666666666666666,
             "#ed7953"
            ],
            [
             0.7777777777777778,
             "#fb9f3a"
            ],
            [
             0.8888888888888888,
             "#fdca26"
            ],
            [
             1,
             "#f0f921"
            ]
           ],
           "sequentialminus": [
            [
             0,
             "#0d0887"
            ],
            [
             0.1111111111111111,
             "#46039f"
            ],
            [
             0.2222222222222222,
             "#7201a8"
            ],
            [
             0.3333333333333333,
             "#9c179e"
            ],
            [
             0.4444444444444444,
             "#bd3786"
            ],
            [
             0.5555555555555556,
             "#d8576b"
            ],
            [
             0.6666666666666666,
             "#ed7953"
            ],
            [
             0.7777777777777778,
             "#fb9f3a"
            ],
            [
             0.8888888888888888,
             "#fdca26"
            ],
            [
             1,
             "#f0f921"
            ]
           ]
          },
          "colorway": [
           "#636efa",
           "#EF553B",
           "#00cc96",
           "#ab63fa",
           "#FFA15A",
           "#19d3f3",
           "#FF6692",
           "#B6E880",
           "#FF97FF",
           "#FECB52"
          ],
          "font": {
           "color": "#2a3f5f"
          },
          "geo": {
           "bgcolor": "white",
           "lakecolor": "white",
           "landcolor": "#E5ECF6",
           "showlakes": true,
           "showland": true,
           "subunitcolor": "white"
          },
          "hoverlabel": {
           "align": "left"
          },
          "hovermode": "closest",
          "mapbox": {
           "style": "light"
          },
          "paper_bgcolor": "white",
          "plot_bgcolor": "#E5ECF6",
          "polar": {
           "angularaxis": {
            "gridcolor": "white",
            "linecolor": "white",
            "ticks": ""
           },
           "bgcolor": "#E5ECF6",
           "radialaxis": {
            "gridcolor": "white",
            "linecolor": "white",
            "ticks": ""
           }
          },
          "scene": {
           "xaxis": {
            "backgroundcolor": "#E5ECF6",
            "gridcolor": "white",
            "gridwidth": 2,
            "linecolor": "white",
            "showbackground": true,
            "ticks": "",
            "zerolinecolor": "white"
           },
           "yaxis": {
            "backgroundcolor": "#E5ECF6",
            "gridcolor": "white",
            "gridwidth": 2,
            "linecolor": "white",
            "showbackground": true,
            "ticks": "",
            "zerolinecolor": "white"
           },
           "zaxis": {
            "backgroundcolor": "#E5ECF6",
            "gridcolor": "white",
            "gridwidth": 2,
            "linecolor": "white",
            "showbackground": true,
            "ticks": "",
            "zerolinecolor": "white"
           }
          },
          "shapedefaults": {
           "line": {
            "color": "#2a3f5f"
           }
          },
          "ternary": {
           "aaxis": {
            "gridcolor": "white",
            "linecolor": "white",
            "ticks": ""
           },
           "baxis": {
            "gridcolor": "white",
            "linecolor": "white",
            "ticks": ""
           },
           "bgcolor": "#E5ECF6",
           "caxis": {
            "gridcolor": "white",
            "linecolor": "white",
            "ticks": ""
           }
          },
          "title": {
           "x": 0.05
          },
          "xaxis": {
           "automargin": true,
           "gridcolor": "white",
           "linecolor": "white",
           "ticks": "",
           "title": {
            "standoff": 15
           },
           "zerolinecolor": "white",
           "zerolinewidth": 2
          },
          "yaxis": {
           "automargin": true,
           "gridcolor": "white",
           "linecolor": "white",
           "ticks": "",
           "title": {
            "standoff": 15
           },
           "zerolinecolor": "white",
           "zerolinewidth": 2
          }
         }
        },
        "title": {
         "text": "Conversion Patterns Across Stocking Change, Volatility, and B Adoption Timing"
        }
       }
      }
     },
     "metadata": {},
     "output_type": "display_data"
    }
   ],
   "source": [
    "import pandas as pd\n",
    "import numpy as np\n",
    "import plotly.express as px\n",
    "\n",
    "# 模拟数据\n",
    "np.random.seed(42)\n",
    "accounts = [f'acct{i}' for i in range(1, 11)]\n",
    "weeks = list(range(1, 53))\n",
    "data = []\n",
    "\n",
    "for acct in accounts:\n",
    "    base = np.random.uniform(-1, 1, 52)\n",
    "    adopting_b_week = np.random.randint(10, 40)\n",
    "    for i, week in enumerate(weeks):\n",
    "        data.append({\n",
    "            'account_id': acct,\n",
    "            'rolling_week': week,\n",
    "            'stocking_change': np.round(base[i] + np.random.normal(0, 0.3), 2),\n",
    "            'adopting_b_week': adopting_b_week\n",
    "        })\n",
    "\n",
    "df = pd.DataFrame(data)\n",
    "\n",
    "# 聚合每个账户的统计信息\n",
    "summary = df.groupby('account_id').agg({\n",
    "    'stocking_change': ['std', 'mean'],\n",
    "    'adopting_b_week': 'first'\n",
    "}).reset_index()\n",
    "\n",
    "summary.columns = ['account_id', 'volatility', 'avg_stocking_change', 'adopting_b_week']\n",
    "\n",
    "# 将连续变量离散化为分类变量\n",
    "summary['volatility_level'] = pd.qcut(summary['volatility'], q=3, labels=['Low', 'Medium', 'High'])\n",
    "summary['stocking_change_level'] = pd.qcut(summary['avg_stocking_change'], q=3, labels=['Low', 'Medium', 'High'])\n",
    "summary['b_adopted'] = summary['adopting_b_week'].apply(lambda x: 'Early' if x < 25 else 'Late')\n",
    "\n",
    "# 构建并行分类图\n",
    "fig = px.parallel_categories(\n",
    "    summary,\n",
    "    dimensions=['stocking_change_level', 'volatility_level', 'b_adopted'],\n",
    "    labels={\n",
    "        'stocking_change_level': 'Stocking Change',\n",
    "        'volatility_level': 'Volatility',\n",
    "        'b_adopted': 'B Adoption Timing'\n",
    "    },\n",
    "    title='Conversion Patterns Across Stocking Change, Volatility, and B Adoption Timing'\n",
    ")\n",
    "fig.show()\n",
    "\n",
    "# fig.write_html(\"/mnt/data/parallel_categories_b_wine.html\")\n",
    "# \"/mnt/data/parallel_categories_b_wine.html\"\n"
   ]
  },
  {
   "cell_type": "code",
   "execution_count": 149,
   "id": "fac96312",
   "metadata": {},
   "outputs": [
    {
     "data": {
      "application/vnd.plotly.v1+json": {
       "config": {
        "plotlyServerURL": "https://plot.ly"
       },
       "data": [
        {
         "dimensions": [
          {
           "label": "Stocking Change",
           "values": [
            "Medium",
            "High",
            "Medium",
            "High",
            "Low",
            "Medium",
            "Low",
            "High",
            "Medium",
            "High",
            "Low",
            "High",
            "High",
            "Low",
            "Low",
            "Low",
            "Low",
            "Medium",
            "Medium",
            "Medium",
            "High",
            "Low",
            "Medium",
            "Medium",
            "Medium",
            "High",
            "Low",
            "Medium",
            "High",
            "Low",
            "Medium",
            "Low",
            "Low",
            "High",
            "High",
            "High",
            "Low",
            "Low",
            "Medium",
            "Medium",
            "Low",
            "Medium",
            "Low",
            "High",
            "Low",
            "Medium",
            "Low",
            "Medium",
            "Medium",
            "Low",
            "High",
            "High",
            "Medium",
            "Medium",
            "Low",
            "Medium",
            "Low",
            "Low",
            "High",
            "Low",
            "Low",
            "Low",
            "High",
            "Low",
            "Medium",
            "Low",
            "Low",
            "Medium",
            "Low",
            "Medium",
            "High",
            "High",
            "Low",
            "Low",
            "Low",
            "Medium",
            "High",
            "Low",
            "Low",
            "Medium",
            "Low",
            "High",
            "High",
            "Low",
            "High",
            "Medium",
            "High",
            "Low",
            "Low",
            "Low",
            "High",
            "High",
            "Medium",
            "Medium",
            "Medium",
            "Medium",
            "Low",
            "Low",
            "Medium",
            "High",
            "Medium",
            "High",
            "High",
            "High",
            "Low",
            "Low",
            "Medium",
            "Medium",
            "Low",
            "High",
            "Low",
            "High",
            "High",
            "High",
            "Low",
            "Low",
            "High",
            "Low",
            "High",
            "High",
            "High",
            "Low",
            "Low",
            "High",
            "Low",
            "Low",
            "Medium",
            "High",
            "High",
            "High",
            "Low",
            "Medium",
            "High",
            "Medium",
            "Medium",
            "High",
            "Medium",
            "High",
            "Medium",
            "Low",
            "Medium",
            "High",
            "High",
            "Medium",
            "High",
            "Medium",
            "Medium",
            "High",
            "High",
            "High",
            "High",
            "High",
            "Medium",
            "Medium",
            "Low",
            "High",
            "Low",
            "High",
            "Medium",
            "Medium",
            "High",
            "High",
            "Low",
            "Medium",
            "Low",
            "Low",
            "Low",
            "Medium",
            "Medium",
            "Medium",
            "Low",
            "Medium",
            "Medium",
            "Low",
            "Medium",
            "High",
            "Medium",
            "High",
            "Low",
            "Medium",
            "High",
            "Low",
            "Low",
            "Medium",
            "Medium",
            "High",
            "Low",
            "Low",
            "Medium",
            "High",
            "Medium",
            "Low",
            "High",
            "Medium",
            "Low",
            "Medium",
            "Medium",
            "Medium",
            "Medium",
            "Low",
            "Low",
            "Low",
            "High",
            "High",
            "Low",
            "High",
            "High",
            "Medium",
            "Medium",
            "High",
            "Medium",
            "High",
            "Low",
            "Low",
            "High",
            "High",
            "Medium",
            "High",
            "Low",
            "Low",
            "Medium",
            "Low",
            "High",
            "Low",
            "High",
            "High",
            "Low",
            "Medium",
            "Medium",
            "High",
            "High",
            "Low",
            "High",
            "High",
            "High",
            "High",
            "Medium",
            "Medium",
            "High",
            "High",
            "Low",
            "Low",
            "Medium",
            "High",
            "High",
            "Low",
            "Medium",
            "Low",
            "High",
            "High",
            "Medium",
            "Medium",
            "Low",
            "Medium",
            "Low",
            "High",
            "Medium",
            "High",
            "High",
            "High",
            "High",
            "Medium",
            "High",
            "Medium",
            "Medium",
            "High",
            "Low",
            "Medium",
            "Low",
            "Medium",
            "High",
            "Low",
            "Medium",
            "Low",
            "Low",
            "Low",
            "Low",
            "Medium",
            "Medium",
            "Medium",
            "Low",
            "Low",
            "Low",
            "High",
            "Low",
            "High",
            "High",
            "Medium",
            "High",
            "Low",
            "Medium",
            "Medium",
            "High",
            "Low",
            "Medium",
            "Medium",
            "High",
            "High",
            "Medium",
            "Low",
            "High",
            "Low",
            "Low",
            "Low",
            "Medium",
            "Low",
            "Medium",
            "High",
            "Medium",
            "Low",
            "Low",
            "Low",
            "Low",
            "Low",
            "High",
            "Medium",
            "High",
            "Medium",
            "Medium",
            "High",
            "Medium",
            "High",
            "Low",
            "Medium",
            "Medium",
            "High",
            "High",
            "Low",
            "High",
            "High",
            "Low",
            "Low",
            "High",
            "High",
            "High",
            "Medium",
            "Medium",
            "Low",
            "Low",
            "Low",
            "High",
            "High",
            "Medium",
            "Low",
            "High",
            "Medium",
            "High",
            "Medium",
            "Low",
            "Medium",
            "Medium",
            "High",
            "Low",
            "Low",
            "High",
            "Low",
            "High",
            "High",
            "High",
            "Low",
            "High",
            "Medium",
            "Medium",
            "Low",
            "High",
            "Low",
            "Medium",
            "High",
            "Medium",
            "Low",
            "High",
            "Low",
            "High",
            "Low",
            "Low",
            "Medium",
            "Medium",
            "Medium",
            "Low",
            "Low",
            "Medium",
            "High",
            "Medium",
            "Medium",
            "High",
            "High",
            "Low",
            "Low",
            "Low",
            "Medium",
            "Low",
            "High",
            "Low",
            "High",
            "Medium",
            "Medium",
            "High",
            "Medium",
            "Low",
            "High",
            "Medium",
            "Medium",
            "Medium",
            "Medium",
            "High",
            "Low",
            "Low",
            "Low",
            "High",
            "Low",
            "High",
            "Medium",
            "High",
            "High",
            "High",
            "High",
            "Medium",
            "Medium",
            "High",
            "High",
            "Low",
            "Low",
            "Low",
            "High",
            "High",
            "Medium",
            "Medium",
            "High",
            "Low",
            "High",
            "Medium",
            "Medium",
            "Low",
            "Medium",
            "Low",
            "High",
            "Low",
            "High",
            "Low",
            "Low",
            "Medium",
            "Medium",
            "High",
            "Low",
            "High",
            "Medium",
            "Medium",
            "High",
            "Medium",
            "Medium",
            "Low",
            "Medium",
            "Low",
            "Low",
            "High",
            "Medium",
            "Medium",
            "High",
            "Low",
            "Low",
            "High",
            "Medium",
            "Medium",
            "Low",
            "Low",
            "Medium",
            "High",
            "Medium",
            "Medium",
            "Medium",
            "Low",
            "Low",
            "Medium",
            "High",
            "Low",
            "Medium",
            "Low",
            "High",
            "Medium",
            "Medium",
            "Medium",
            "High",
            "Low",
            "Low",
            "Medium",
            "Low",
            "Medium",
            "Medium",
            "Medium",
            "Medium",
            "High",
            "High",
            "Low",
            "High",
            "High",
            "High",
            "Low",
            "Medium",
            "High",
            "Low",
            "High",
            "Low",
            "Low",
            "Medium",
            "Low",
            "High",
            "High",
            "Medium",
            "Medium",
            "Low",
            "Medium",
            "Medium",
            "Medium",
            "Low",
            "Medium",
            "Low",
            "High",
            "High",
            "Medium",
            "Medium"
           ]
          },
          {
           "label": "Rolling Week",
           "values": [
            "1",
            "2",
            "3",
            "4",
            "5",
            "6",
            "7",
            "8",
            "9",
            "10",
            "11",
            "12",
            "13",
            "14",
            "15",
            "16",
            "17",
            "18",
            "19",
            "20",
            "21",
            "22",
            "23",
            "24",
            "25",
            "26",
            "27",
            "28",
            "29",
            "30",
            "31",
            "32",
            "33",
            "34",
            "35",
            "36",
            "37",
            "38",
            "39",
            "40",
            "41",
            "42",
            "43",
            "44",
            "45",
            "46",
            "47",
            "48",
            "49",
            "50",
            "51",
            "52",
            "1",
            "2",
            "3",
            "4",
            "5",
            "6",
            "7",
            "8",
            "9",
            "10",
            "11",
            "12",
            "13",
            "14",
            "15",
            "16",
            "17",
            "18",
            "19",
            "20",
            "21",
            "22",
            "23",
            "24",
            "25",
            "26",
            "27",
            "28",
            "29",
            "30",
            "31",
            "32",
            "33",
            "34",
            "35",
            "36",
            "37",
            "38",
            "39",
            "40",
            "41",
            "42",
            "43",
            "44",
            "45",
            "46",
            "47",
            "48",
            "49",
            "50",
            "51",
            "52",
            "1",
            "2",
            "3",
            "4",
            "5",
            "6",
            "7",
            "8",
            "9",
            "10",
            "11",
            "12",
            "13",
            "14",
            "15",
            "16",
            "17",
            "18",
            "19",
            "20",
            "21",
            "22",
            "23",
            "24",
            "25",
            "26",
            "27",
            "28",
            "29",
            "30",
            "31",
            "32",
            "33",
            "34",
            "35",
            "36",
            "37",
            "38",
            "39",
            "40",
            "41",
            "42",
            "43",
            "44",
            "45",
            "46",
            "47",
            "48",
            "49",
            "50",
            "51",
            "52",
            "1",
            "2",
            "3",
            "4",
            "5",
            "6",
            "7",
            "8",
            "9",
            "10",
            "11",
            "12",
            "13",
            "14",
            "15",
            "16",
            "17",
            "18",
            "19",
            "20",
            "21",
            "22",
            "23",
            "24",
            "25",
            "26",
            "27",
            "28",
            "29",
            "30",
            "31",
            "32",
            "33",
            "34",
            "35",
            "36",
            "37",
            "38",
            "39",
            "40",
            "41",
            "42",
            "43",
            "44",
            "45",
            "46",
            "47",
            "48",
            "49",
            "50",
            "51",
            "52",
            "1",
            "2",
            "3",
            "4",
            "5",
            "6",
            "7",
            "8",
            "9",
            "10",
            "11",
            "12",
            "13",
            "14",
            "15",
            "16",
            "17",
            "18",
            "19",
            "20",
            "21",
            "22",
            "23",
            "24",
            "25",
            "26",
            "27",
            "28",
            "29",
            "30",
            "31",
            "32",
            "33",
            "34",
            "35",
            "36",
            "37",
            "38",
            "39",
            "40",
            "41",
            "42",
            "43",
            "44",
            "45",
            "46",
            "47",
            "48",
            "49",
            "50",
            "51",
            "52",
            "1",
            "2",
            "3",
            "4",
            "5",
            "6",
            "7",
            "8",
            "9",
            "10",
            "11",
            "12",
            "13",
            "14",
            "15",
            "16",
            "17",
            "18",
            "19",
            "20",
            "21",
            "22",
            "23",
            "24",
            "25",
            "26",
            "27",
            "28",
            "29",
            "30",
            "31",
            "32",
            "33",
            "34",
            "35",
            "36",
            "37",
            "38",
            "39",
            "40",
            "41",
            "42",
            "43",
            "44",
            "45",
            "46",
            "47",
            "48",
            "49",
            "50",
            "51",
            "52",
            "1",
            "2",
            "3",
            "4",
            "5",
            "6",
            "7",
            "8",
            "9",
            "10",
            "11",
            "12",
            "13",
            "14",
            "15",
            "16",
            "17",
            "18",
            "19",
            "20",
            "21",
            "22",
            "23",
            "24",
            "25",
            "26",
            "27",
            "28",
            "29",
            "30",
            "31",
            "32",
            "33",
            "34",
            "35",
            "36",
            "37",
            "38",
            "39",
            "40",
            "41",
            "42",
            "43",
            "44",
            "45",
            "46",
            "47",
            "48",
            "49",
            "50",
            "51",
            "52",
            "1",
            "2",
            "3",
            "4",
            "5",
            "6",
            "7",
            "8",
            "9",
            "10",
            "11",
            "12",
            "13",
            "14",
            "15",
            "16",
            "17",
            "18",
            "19",
            "20",
            "21",
            "22",
            "23",
            "24",
            "25",
            "26",
            "27",
            "28",
            "29",
            "30",
            "31",
            "32",
            "33",
            "34",
            "35",
            "36",
            "37",
            "38",
            "39",
            "40",
            "41",
            "42",
            "43",
            "44",
            "45",
            "46",
            "47",
            "48",
            "49",
            "50",
            "51",
            "52",
            "1",
            "2",
            "3",
            "4",
            "5",
            "6",
            "7",
            "8",
            "9",
            "10",
            "11",
            "12",
            "13",
            "14",
            "15",
            "16",
            "17",
            "18",
            "19",
            "20",
            "21",
            "22",
            "23",
            "24",
            "25",
            "26",
            "27",
            "28",
            "29",
            "30",
            "31",
            "32",
            "33",
            "34",
            "35",
            "36",
            "37",
            "38",
            "39",
            "40",
            "41",
            "42",
            "43",
            "44",
            "45",
            "46",
            "47",
            "48",
            "49",
            "50",
            "51",
            "52",
            "1",
            "2",
            "3",
            "4",
            "5",
            "6",
            "7",
            "8",
            "9",
            "10",
            "11",
            "12",
            "13",
            "14",
            "15",
            "16",
            "17",
            "18",
            "19",
            "20",
            "21",
            "22",
            "23",
            "24",
            "25",
            "26",
            "27",
            "28",
            "29",
            "30",
            "31",
            "32",
            "33",
            "34",
            "35",
            "36",
            "37",
            "38",
            "39",
            "40",
            "41",
            "42",
            "43",
            "44",
            "45",
            "46",
            "47",
            "48",
            "49",
            "50",
            "51",
            "52"
           ]
          },
          {
           "label": "Volatility",
           "values": [
            "Medium",
            "Medium",
            "Medium",
            "Medium",
            "Medium",
            "Medium",
            "Medium",
            "Medium",
            "Medium",
            "Medium",
            "Medium",
            "Medium",
            "Medium",
            "Medium",
            "Medium",
            "Medium",
            "Medium",
            "Medium",
            "Medium",
            "Medium",
            "Medium",
            "Medium",
            "Medium",
            "Medium",
            "Medium",
            "Medium",
            "Medium",
            "Medium",
            "Medium",
            "Medium",
            "Medium",
            "Medium",
            "Medium",
            "Medium",
            "Medium",
            "Medium",
            "Medium",
            "Medium",
            "Medium",
            "Medium",
            "Medium",
            "Medium",
            "Medium",
            "Medium",
            "Medium",
            "Medium",
            "Medium",
            "Medium",
            "Medium",
            "Medium",
            "Medium",
            "Medium",
            "Medium",
            "Medium",
            "Medium",
            "Medium",
            "Medium",
            "Medium",
            "Medium",
            "Medium",
            "Medium",
            "Medium",
            "Medium",
            "Medium",
            "Medium",
            "Medium",
            "Medium",
            "Medium",
            "Medium",
            "Medium",
            "Medium",
            "Medium",
            "Medium",
            "Medium",
            "Medium",
            "Medium",
            "Medium",
            "Medium",
            "Medium",
            "Medium",
            "Medium",
            "Medium",
            "Medium",
            "Medium",
            "Medium",
            "Medium",
            "Medium",
            "Medium",
            "Medium",
            "Medium",
            "Medium",
            "Medium",
            "Medium",
            "Medium",
            "Medium",
            "Medium",
            "Medium",
            "Medium",
            "Medium",
            "Medium",
            "Medium",
            "Medium",
            "Medium",
            "Medium",
            "High",
            "High",
            "High",
            "High",
            "High",
            "High",
            "High",
            "High",
            "High",
            "High",
            "High",
            "High",
            "High",
            "High",
            "High",
            "High",
            "High",
            "High",
            "High",
            "High",
            "High",
            "High",
            "High",
            "High",
            "High",
            "High",
            "High",
            "High",
            "High",
            "High",
            "High",
            "High",
            "High",
            "High",
            "High",
            "High",
            "High",
            "High",
            "High",
            "High",
            "High",
            "High",
            "High",
            "High",
            "High",
            "High",
            "High",
            "High",
            "High",
            "High",
            "High",
            "High",
            "Low",
            "Low",
            "Low",
            "Low",
            "Low",
            "Low",
            "Low",
            "Low",
            "Low",
            "Low",
            "Low",
            "Low",
            "Low",
            "Low",
            "Low",
            "Low",
            "Low",
            "Low",
            "Low",
            "Low",
            "Low",
            "Low",
            "Low",
            "Low",
            "Low",
            "Low",
            "Low",
            "Low",
            "Low",
            "Low",
            "Low",
            "Low",
            "Low",
            "Low",
            "Low",
            "Low",
            "Low",
            "Low",
            "Low",
            "Low",
            "Low",
            "Low",
            "Low",
            "Low",
            "Low",
            "Low",
            "Low",
            "Low",
            "Low",
            "Low",
            "Low",
            "Low",
            "High",
            "High",
            "High",
            "High",
            "High",
            "High",
            "High",
            "High",
            "High",
            "High",
            "High",
            "High",
            "High",
            "High",
            "High",
            "High",
            "High",
            "High",
            "High",
            "High",
            "High",
            "High",
            "High",
            "High",
            "High",
            "High",
            "High",
            "High",
            "High",
            "High",
            "High",
            "High",
            "High",
            "High",
            "High",
            "High",
            "High",
            "High",
            "High",
            "High",
            "High",
            "High",
            "High",
            "High",
            "High",
            "High",
            "High",
            "High",
            "High",
            "High",
            "High",
            "High",
            "Medium",
            "Medium",
            "Medium",
            "Medium",
            "Medium",
            "Medium",
            "Medium",
            "Medium",
            "Medium",
            "Medium",
            "Medium",
            "Medium",
            "Medium",
            "Medium",
            "Medium",
            "Medium",
            "Medium",
            "Medium",
            "Medium",
            "Medium",
            "Medium",
            "Medium",
            "Medium",
            "Medium",
            "Medium",
            "Medium",
            "Medium",
            "Medium",
            "Medium",
            "Medium",
            "Medium",
            "Medium",
            "Medium",
            "Medium",
            "Medium",
            "Medium",
            "Medium",
            "Medium",
            "Medium",
            "Medium",
            "Medium",
            "Medium",
            "Medium",
            "Medium",
            "Medium",
            "Medium",
            "Medium",
            "Medium",
            "Medium",
            "Medium",
            "Medium",
            "Medium",
            "High",
            "High",
            "High",
            "High",
            "High",
            "High",
            "High",
            "High",
            "High",
            "High",
            "High",
            "High",
            "High",
            "High",
            "High",
            "High",
            "High",
            "High",
            "High",
            "High",
            "High",
            "High",
            "High",
            "High",
            "High",
            "High",
            "High",
            "High",
            "High",
            "High",
            "High",
            "High",
            "High",
            "High",
            "High",
            "High",
            "High",
            "High",
            "High",
            "High",
            "High",
            "High",
            "High",
            "High",
            "High",
            "High",
            "High",
            "High",
            "High",
            "High",
            "High",
            "High",
            "Low",
            "Low",
            "Low",
            "Low",
            "Low",
            "Low",
            "Low",
            "Low",
            "Low",
            "Low",
            "Low",
            "Low",
            "Low",
            "Low",
            "Low",
            "Low",
            "Low",
            "Low",
            "Low",
            "Low",
            "Low",
            "Low",
            "Low",
            "Low",
            "Low",
            "Low",
            "Low",
            "Low",
            "Low",
            "Low",
            "Low",
            "Low",
            "Low",
            "Low",
            "Low",
            "Low",
            "Low",
            "Low",
            "Low",
            "Low",
            "Low",
            "Low",
            "Low",
            "Low",
            "Low",
            "Low",
            "Low",
            "Low",
            "Low",
            "Low",
            "Low",
            "Low",
            "Low",
            "Low",
            "Low",
            "Low",
            "Low",
            "Low",
            "Low",
            "Low",
            "Low",
            "Low",
            "Low",
            "Low",
            "Low",
            "Low",
            "Low",
            "Low",
            "Low",
            "Low",
            "Low",
            "Low",
            "Low",
            "Low",
            "Low",
            "Low",
            "Low",
            "Low",
            "Low",
            "Low",
            "Low",
            "Low",
            "Low",
            "Low",
            "Low",
            "Low",
            "Low",
            "Low",
            "Low",
            "Low",
            "Low",
            "Low",
            "Low",
            "Low",
            "Low",
            "Low",
            "Low",
            "Low",
            "Low",
            "Low",
            "Low",
            "Low",
            "Low",
            "Low",
            "Low",
            "Low",
            "Low",
            "Low",
            "Low",
            "Low",
            "Low",
            "Low",
            "Low",
            "Low",
            "Low",
            "Low",
            "Low",
            "Low",
            "Low",
            "Low",
            "Low",
            "Low",
            "Low",
            "Low",
            "Low",
            "Low",
            "Low",
            "Low",
            "Low",
            "Low",
            "Low",
            "Low",
            "Low",
            "Low",
            "Low",
            "Low",
            "Low",
            "Low",
            "Low",
            "Low",
            "Low",
            "Low",
            "Low",
            "Low",
            "Low",
            "Low",
            "Low",
            "Low",
            "Low",
            "Low",
            "Low",
            "Low",
            "Low",
            "Low",
            "Low",
            "Low"
           ]
          },
          {
           "label": "B Adoption Timing",
           "values": [
            "Early",
            "Early",
            "Early",
            "Early",
            "Early",
            "Early",
            "Early",
            "Early",
            "Early",
            "Early",
            "Early",
            "Early",
            "Early",
            "Early",
            "Early",
            "Early",
            "Early",
            "Early",
            "Early",
            "Early",
            "Early",
            "Early",
            "Early",
            "Early",
            "Early",
            "Early",
            "Early",
            "Early",
            "Early",
            "Early",
            "Early",
            "Early",
            "Early",
            "Early",
            "Early",
            "Early",
            "Early",
            "Early",
            "Early",
            "Early",
            "Early",
            "Early",
            "Early",
            "Early",
            "Early",
            "Early",
            "Early",
            "Early",
            "Early",
            "Early",
            "Early",
            "Early",
            "Late",
            "Late",
            "Late",
            "Late",
            "Late",
            "Late",
            "Late",
            "Late",
            "Late",
            "Late",
            "Late",
            "Late",
            "Late",
            "Late",
            "Late",
            "Late",
            "Late",
            "Late",
            "Late",
            "Late",
            "Late",
            "Late",
            "Late",
            "Late",
            "Late",
            "Late",
            "Late",
            "Late",
            "Late",
            "Late",
            "Late",
            "Late",
            "Late",
            "Late",
            "Late",
            "Late",
            "Late",
            "Late",
            "Late",
            "Late",
            "Late",
            "Late",
            "Late",
            "Late",
            "Late",
            "Late",
            "Late",
            "Late",
            "Late",
            "Late",
            "Late",
            "Late",
            "Late",
            "Late",
            "Late",
            "Late",
            "Late",
            "Late",
            "Late",
            "Late",
            "Late",
            "Late",
            "Late",
            "Late",
            "Late",
            "Late",
            "Late",
            "Late",
            "Late",
            "Late",
            "Late",
            "Late",
            "Late",
            "Late",
            "Late",
            "Late",
            "Late",
            "Late",
            "Late",
            "Late",
            "Late",
            "Late",
            "Late",
            "Late",
            "Late",
            "Late",
            "Late",
            "Late",
            "Late",
            "Late",
            "Late",
            "Late",
            "Late",
            "Late",
            "Late",
            "Late",
            "Late",
            "Late",
            "Late",
            "Late",
            "Late",
            "Late",
            "Late",
            "Late",
            "Late",
            "Late",
            "Late",
            "Late",
            "Late",
            "Late",
            "Late",
            "Late",
            "Late",
            "Late",
            "Late",
            "Late",
            "Late",
            "Late",
            "Late",
            "Late",
            "Late",
            "Late",
            "Late",
            "Late",
            "Late",
            "Late",
            "Late",
            "Late",
            "Late",
            "Late",
            "Late",
            "Late",
            "Late",
            "Late",
            "Late",
            "Late",
            "Late",
            "Late",
            "Late",
            "Late",
            "Late",
            "Late",
            "Late",
            "Late",
            "Late",
            "Late",
            "Late",
            "Late",
            "Late",
            "Late",
            "Late",
            "Late",
            "Late",
            "Late",
            "Late",
            "Late",
            "Early",
            "Early",
            "Early",
            "Early",
            "Early",
            "Early",
            "Early",
            "Early",
            "Early",
            "Early",
            "Early",
            "Early",
            "Early",
            "Early",
            "Early",
            "Early",
            "Early",
            "Early",
            "Early",
            "Early",
            "Early",
            "Early",
            "Early",
            "Early",
            "Early",
            "Early",
            "Early",
            "Early",
            "Early",
            "Early",
            "Early",
            "Early",
            "Early",
            "Early",
            "Early",
            "Early",
            "Early",
            "Early",
            "Early",
            "Early",
            "Early",
            "Early",
            "Early",
            "Early",
            "Early",
            "Early",
            "Early",
            "Early",
            "Early",
            "Early",
            "Early",
            "Early",
            "Late",
            "Late",
            "Late",
            "Late",
            "Late",
            "Late",
            "Late",
            "Late",
            "Late",
            "Late",
            "Late",
            "Late",
            "Late",
            "Late",
            "Late",
            "Late",
            "Late",
            "Late",
            "Late",
            "Late",
            "Late",
            "Late",
            "Late",
            "Late",
            "Late",
            "Late",
            "Late",
            "Late",
            "Late",
            "Late",
            "Late",
            "Late",
            "Late",
            "Late",
            "Late",
            "Late",
            "Late",
            "Late",
            "Late",
            "Late",
            "Late",
            "Late",
            "Late",
            "Late",
            "Late",
            "Late",
            "Late",
            "Late",
            "Late",
            "Late",
            "Late",
            "Late",
            "Early",
            "Early",
            "Early",
            "Early",
            "Early",
            "Early",
            "Early",
            "Early",
            "Early",
            "Early",
            "Early",
            "Early",
            "Early",
            "Early",
            "Early",
            "Early",
            "Early",
            "Early",
            "Early",
            "Early",
            "Early",
            "Early",
            "Early",
            "Early",
            "Early",
            "Early",
            "Early",
            "Early",
            "Early",
            "Early",
            "Early",
            "Early",
            "Early",
            "Early",
            "Early",
            "Early",
            "Early",
            "Early",
            "Early",
            "Early",
            "Early",
            "Early",
            "Early",
            "Early",
            "Early",
            "Early",
            "Early",
            "Early",
            "Early",
            "Early",
            "Early",
            "Early",
            "Early",
            "Early",
            "Early",
            "Early",
            "Early",
            "Early",
            "Early",
            "Early",
            "Early",
            "Early",
            "Early",
            "Early",
            "Early",
            "Early",
            "Early",
            "Early",
            "Early",
            "Early",
            "Early",
            "Early",
            "Early",
            "Early",
            "Early",
            "Early",
            "Early",
            "Early",
            "Early",
            "Early",
            "Early",
            "Early",
            "Early",
            "Early",
            "Early",
            "Early",
            "Early",
            "Early",
            "Early",
            "Early",
            "Early",
            "Early",
            "Early",
            "Early",
            "Early",
            "Early",
            "Early",
            "Early",
            "Early",
            "Early",
            "Early",
            "Early",
            "Early",
            "Early",
            "Late",
            "Late",
            "Late",
            "Late",
            "Late",
            "Late",
            "Late",
            "Late",
            "Late",
            "Late",
            "Late",
            "Late",
            "Late",
            "Late",
            "Late",
            "Late",
            "Late",
            "Late",
            "Late",
            "Late",
            "Late",
            "Late",
            "Late",
            "Late",
            "Late",
            "Late",
            "Late",
            "Late",
            "Late",
            "Late",
            "Late",
            "Late",
            "Late",
            "Late",
            "Late",
            "Late",
            "Late",
            "Late",
            "Late",
            "Late",
            "Late",
            "Late",
            "Late",
            "Late",
            "Late",
            "Late",
            "Late",
            "Late",
            "Late",
            "Late",
            "Late",
            "Late",
            "Late",
            "Late",
            "Late",
            "Late",
            "Late",
            "Late",
            "Late",
            "Late",
            "Late",
            "Late",
            "Late",
            "Late",
            "Late",
            "Late",
            "Late",
            "Late",
            "Late",
            "Late",
            "Late",
            "Late",
            "Late",
            "Late",
            "Late",
            "Late",
            "Late",
            "Late",
            "Late",
            "Late",
            "Late",
            "Late",
            "Late",
            "Late",
            "Late",
            "Late",
            "Late",
            "Late",
            "Late",
            "Late",
            "Late",
            "Late",
            "Late",
            "Late",
            "Late",
            "Late",
            "Late",
            "Late",
            "Late",
            "Late",
            "Late",
            "Late",
            "Late",
            "Late"
           ]
          }
         ],
         "domain": {
          "x": [
           0,
           1
          ],
          "y": [
           0,
           1
          ]
         },
         "name": "",
         "type": "parcats"
        }
       ],
       "layout": {
        "legend": {
         "tracegroupgap": 0
        },
        "template": {
         "data": {
          "bar": [
           {
            "error_x": {
             "color": "#2a3f5f"
            },
            "error_y": {
             "color": "#2a3f5f"
            },
            "marker": {
             "line": {
              "color": "#E5ECF6",
              "width": 0.5
             },
             "pattern": {
              "fillmode": "overlay",
              "size": 10,
              "solidity": 0.2
             }
            },
            "type": "bar"
           }
          ],
          "barpolar": [
           {
            "marker": {
             "line": {
              "color": "#E5ECF6",
              "width": 0.5
             },
             "pattern": {
              "fillmode": "overlay",
              "size": 10,
              "solidity": 0.2
             }
            },
            "type": "barpolar"
           }
          ],
          "carpet": [
           {
            "aaxis": {
             "endlinecolor": "#2a3f5f",
             "gridcolor": "white",
             "linecolor": "white",
             "minorgridcolor": "white",
             "startlinecolor": "#2a3f5f"
            },
            "baxis": {
             "endlinecolor": "#2a3f5f",
             "gridcolor": "white",
             "linecolor": "white",
             "minorgridcolor": "white",
             "startlinecolor": "#2a3f5f"
            },
            "type": "carpet"
           }
          ],
          "choropleth": [
           {
            "colorbar": {
             "outlinewidth": 0,
             "ticks": ""
            },
            "type": "choropleth"
           }
          ],
          "contour": [
           {
            "colorbar": {
             "outlinewidth": 0,
             "ticks": ""
            },
            "colorscale": [
             [
              0,
              "#0d0887"
             ],
             [
              0.1111111111111111,
              "#46039f"
             ],
             [
              0.2222222222222222,
              "#7201a8"
             ],
             [
              0.3333333333333333,
              "#9c179e"
             ],
             [
              0.4444444444444444,
              "#bd3786"
             ],
             [
              0.5555555555555556,
              "#d8576b"
             ],
             [
              0.6666666666666666,
              "#ed7953"
             ],
             [
              0.7777777777777778,
              "#fb9f3a"
             ],
             [
              0.8888888888888888,
              "#fdca26"
             ],
             [
              1,
              "#f0f921"
             ]
            ],
            "type": "contour"
           }
          ],
          "contourcarpet": [
           {
            "colorbar": {
             "outlinewidth": 0,
             "ticks": ""
            },
            "type": "contourcarpet"
           }
          ],
          "heatmap": [
           {
            "colorbar": {
             "outlinewidth": 0,
             "ticks": ""
            },
            "colorscale": [
             [
              0,
              "#0d0887"
             ],
             [
              0.1111111111111111,
              "#46039f"
             ],
             [
              0.2222222222222222,
              "#7201a8"
             ],
             [
              0.3333333333333333,
              "#9c179e"
             ],
             [
              0.4444444444444444,
              "#bd3786"
             ],
             [
              0.5555555555555556,
              "#d8576b"
             ],
             [
              0.6666666666666666,
              "#ed7953"
             ],
             [
              0.7777777777777778,
              "#fb9f3a"
             ],
             [
              0.8888888888888888,
              "#fdca26"
             ],
             [
              1,
              "#f0f921"
             ]
            ],
            "type": "heatmap"
           }
          ],
          "histogram": [
           {
            "marker": {
             "pattern": {
              "fillmode": "overlay",
              "size": 10,
              "solidity": 0.2
             }
            },
            "type": "histogram"
           }
          ],
          "histogram2d": [
           {
            "colorbar": {
             "outlinewidth": 0,
             "ticks": ""
            },
            "colorscale": [
             [
              0,
              "#0d0887"
             ],
             [
              0.1111111111111111,
              "#46039f"
             ],
             [
              0.2222222222222222,
              "#7201a8"
             ],
             [
              0.3333333333333333,
              "#9c179e"
             ],
             [
              0.4444444444444444,
              "#bd3786"
             ],
             [
              0.5555555555555556,
              "#d8576b"
             ],
             [
              0.6666666666666666,
              "#ed7953"
             ],
             [
              0.7777777777777778,
              "#fb9f3a"
             ],
             [
              0.8888888888888888,
              "#fdca26"
             ],
             [
              1,
              "#f0f921"
             ]
            ],
            "type": "histogram2d"
           }
          ],
          "histogram2dcontour": [
           {
            "colorbar": {
             "outlinewidth": 0,
             "ticks": ""
            },
            "colorscale": [
             [
              0,
              "#0d0887"
             ],
             [
              0.1111111111111111,
              "#46039f"
             ],
             [
              0.2222222222222222,
              "#7201a8"
             ],
             [
              0.3333333333333333,
              "#9c179e"
             ],
             [
              0.4444444444444444,
              "#bd3786"
             ],
             [
              0.5555555555555556,
              "#d8576b"
             ],
             [
              0.6666666666666666,
              "#ed7953"
             ],
             [
              0.7777777777777778,
              "#fb9f3a"
             ],
             [
              0.8888888888888888,
              "#fdca26"
             ],
             [
              1,
              "#f0f921"
             ]
            ],
            "type": "histogram2dcontour"
           }
          ],
          "mesh3d": [
           {
            "colorbar": {
             "outlinewidth": 0,
             "ticks": ""
            },
            "type": "mesh3d"
           }
          ],
          "parcoords": [
           {
            "line": {
             "colorbar": {
              "outlinewidth": 0,
              "ticks": ""
             }
            },
            "type": "parcoords"
           }
          ],
          "pie": [
           {
            "automargin": true,
            "type": "pie"
           }
          ],
          "scatter": [
           {
            "fillpattern": {
             "fillmode": "overlay",
             "size": 10,
             "solidity": 0.2
            },
            "type": "scatter"
           }
          ],
          "scatter3d": [
           {
            "line": {
             "colorbar": {
              "outlinewidth": 0,
              "ticks": ""
             }
            },
            "marker": {
             "colorbar": {
              "outlinewidth": 0,
              "ticks": ""
             }
            },
            "type": "scatter3d"
           }
          ],
          "scattercarpet": [
           {
            "marker": {
             "colorbar": {
              "outlinewidth": 0,
              "ticks": ""
             }
            },
            "type": "scattercarpet"
           }
          ],
          "scattergeo": [
           {
            "marker": {
             "colorbar": {
              "outlinewidth": 0,
              "ticks": ""
             }
            },
            "type": "scattergeo"
           }
          ],
          "scattergl": [
           {
            "marker": {
             "colorbar": {
              "outlinewidth": 0,
              "ticks": ""
             }
            },
            "type": "scattergl"
           }
          ],
          "scattermap": [
           {
            "marker": {
             "colorbar": {
              "outlinewidth": 0,
              "ticks": ""
             }
            },
            "type": "scattermap"
           }
          ],
          "scattermapbox": [
           {
            "marker": {
             "colorbar": {
              "outlinewidth": 0,
              "ticks": ""
             }
            },
            "type": "scattermapbox"
           }
          ],
          "scatterpolar": [
           {
            "marker": {
             "colorbar": {
              "outlinewidth": 0,
              "ticks": ""
             }
            },
            "type": "scatterpolar"
           }
          ],
          "scatterpolargl": [
           {
            "marker": {
             "colorbar": {
              "outlinewidth": 0,
              "ticks": ""
             }
            },
            "type": "scatterpolargl"
           }
          ],
          "scatterternary": [
           {
            "marker": {
             "colorbar": {
              "outlinewidth": 0,
              "ticks": ""
             }
            },
            "type": "scatterternary"
           }
          ],
          "surface": [
           {
            "colorbar": {
             "outlinewidth": 0,
             "ticks": ""
            },
            "colorscale": [
             [
              0,
              "#0d0887"
             ],
             [
              0.1111111111111111,
              "#46039f"
             ],
             [
              0.2222222222222222,
              "#7201a8"
             ],
             [
              0.3333333333333333,
              "#9c179e"
             ],
             [
              0.4444444444444444,
              "#bd3786"
             ],
             [
              0.5555555555555556,
              "#d8576b"
             ],
             [
              0.6666666666666666,
              "#ed7953"
             ],
             [
              0.7777777777777778,
              "#fb9f3a"
             ],
             [
              0.8888888888888888,
              "#fdca26"
             ],
             [
              1,
              "#f0f921"
             ]
            ],
            "type": "surface"
           }
          ],
          "table": [
           {
            "cells": {
             "fill": {
              "color": "#EBF0F8"
             },
             "line": {
              "color": "white"
             }
            },
            "header": {
             "fill": {
              "color": "#C8D4E3"
             },
             "line": {
              "color": "white"
             }
            },
            "type": "table"
           }
          ]
         },
         "layout": {
          "annotationdefaults": {
           "arrowcolor": "#2a3f5f",
           "arrowhead": 0,
           "arrowwidth": 1
          },
          "autotypenumbers": "strict",
          "coloraxis": {
           "colorbar": {
            "outlinewidth": 0,
            "ticks": ""
           }
          },
          "colorscale": {
           "diverging": [
            [
             0,
             "#8e0152"
            ],
            [
             0.1,
             "#c51b7d"
            ],
            [
             0.2,
             "#de77ae"
            ],
            [
             0.3,
             "#f1b6da"
            ],
            [
             0.4,
             "#fde0ef"
            ],
            [
             0.5,
             "#f7f7f7"
            ],
            [
             0.6,
             "#e6f5d0"
            ],
            [
             0.7,
             "#b8e186"
            ],
            [
             0.8,
             "#7fbc41"
            ],
            [
             0.9,
             "#4d9221"
            ],
            [
             1,
             "#276419"
            ]
           ],
           "sequential": [
            [
             0,
             "#0d0887"
            ],
            [
             0.1111111111111111,
             "#46039f"
            ],
            [
             0.2222222222222222,
             "#7201a8"
            ],
            [
             0.3333333333333333,
             "#9c179e"
            ],
            [
             0.4444444444444444,
             "#bd3786"
            ],
            [
             0.5555555555555556,
             "#d8576b"
            ],
            [
             0.6666666666666666,
             "#ed7953"
            ],
            [
             0.7777777777777778,
             "#fb9f3a"
            ],
            [
             0.8888888888888888,
             "#fdca26"
            ],
            [
             1,
             "#f0f921"
            ]
           ],
           "sequentialminus": [
            [
             0,
             "#0d0887"
            ],
            [
             0.1111111111111111,
             "#46039f"
            ],
            [
             0.2222222222222222,
             "#7201a8"
            ],
            [
             0.3333333333333333,
             "#9c179e"
            ],
            [
             0.4444444444444444,
             "#bd3786"
            ],
            [
             0.5555555555555556,
             "#d8576b"
            ],
            [
             0.6666666666666666,
             "#ed7953"
            ],
            [
             0.7777777777777778,
             "#fb9f3a"
            ],
            [
             0.8888888888888888,
             "#fdca26"
            ],
            [
             1,
             "#f0f921"
            ]
           ]
          },
          "colorway": [
           "#636efa",
           "#EF553B",
           "#00cc96",
           "#ab63fa",
           "#FFA15A",
           "#19d3f3",
           "#FF6692",
           "#B6E880",
           "#FF97FF",
           "#FECB52"
          ],
          "font": {
           "color": "#2a3f5f"
          },
          "geo": {
           "bgcolor": "white",
           "lakecolor": "white",
           "landcolor": "#E5ECF6",
           "showlakes": true,
           "showland": true,
           "subunitcolor": "white"
          },
          "hoverlabel": {
           "align": "left"
          },
          "hovermode": "closest",
          "mapbox": {
           "style": "light"
          },
          "paper_bgcolor": "white",
          "plot_bgcolor": "#E5ECF6",
          "polar": {
           "angularaxis": {
            "gridcolor": "white",
            "linecolor": "white",
            "ticks": ""
           },
           "bgcolor": "#E5ECF6",
           "radialaxis": {
            "gridcolor": "white",
            "linecolor": "white",
            "ticks": ""
           }
          },
          "scene": {
           "xaxis": {
            "backgroundcolor": "#E5ECF6",
            "gridcolor": "white",
            "gridwidth": 2,
            "linecolor": "white",
            "showbackground": true,
            "ticks": "",
            "zerolinecolor": "white"
           },
           "yaxis": {
            "backgroundcolor": "#E5ECF6",
            "gridcolor": "white",
            "gridwidth": 2,
            "linecolor": "white",
            "showbackground": true,
            "ticks": "",
            "zerolinecolor": "white"
           },
           "zaxis": {
            "backgroundcolor": "#E5ECF6",
            "gridcolor": "white",
            "gridwidth": 2,
            "linecolor": "white",
            "showbackground": true,
            "ticks": "",
            "zerolinecolor": "white"
           }
          },
          "shapedefaults": {
           "line": {
            "color": "#2a3f5f"
           }
          },
          "ternary": {
           "aaxis": {
            "gridcolor": "white",
            "linecolor": "white",
            "ticks": ""
           },
           "baxis": {
            "gridcolor": "white",
            "linecolor": "white",
            "ticks": ""
           },
           "bgcolor": "#E5ECF6",
           "caxis": {
            "gridcolor": "white",
            "linecolor": "white",
            "ticks": ""
           }
          },
          "title": {
           "x": 0.05
          },
          "xaxis": {
           "automargin": true,
           "gridcolor": "white",
           "linecolor": "white",
           "ticks": "",
           "title": {
            "standoff": 15
           },
           "zerolinecolor": "white",
           "zerolinewidth": 2
          },
          "yaxis": {
           "automargin": true,
           "gridcolor": "white",
           "linecolor": "white",
           "ticks": "",
           "title": {
            "standoff": 15
           },
           "zerolinecolor": "white",
           "zerolinewidth": 2
          }
         }
        },
        "title": {
         "text": "Behavior Paths Across 52 Rolling Weeks"
        }
       }
      }
     },
     "metadata": {},
     "output_type": "display_data"
    }
   ],
   "source": [
    "import pandas as pd\n",
    "import numpy as np\n",
    "import plotly.express as px\n",
    "\n",
    "# 模拟数据\n",
    "np.random.seed(42)\n",
    "accounts = [f'acct{i}' for i in range(1, 11)]\n",
    "weeks = list(range(1, 53))\n",
    "data = []\n",
    "\n",
    "for acct in accounts:\n",
    "    base = np.random.uniform(-1, 1, 52)\n",
    "    adopting_b_week = np.random.randint(10, 40)\n",
    "    for i, week in enumerate(weeks):\n",
    "        data.append({\n",
    "            'account_id': acct,\n",
    "            'rolling_week': week,\n",
    "            'stocking_change': np.round(base[i] + np.random.normal(0, 0.3), 2),\n",
    "            'adopting_b_week': adopting_b_week\n",
    "        })\n",
    "\n",
    "df = pd.DataFrame(data)\n",
    "\n",
    "# 离散化 stocking_change 为 3 级分类\n",
    "df['stocking_change_level'] = pd.qcut(df['stocking_change'], q=3, labels=['Low', 'Medium', 'High'])\n",
    "\n",
    "# 离散化 volatility 为每个账户的 rolling std（可以视为简化波动）\n",
    "volatility_lookup = df.groupby('account_id')['stocking_change'].std().to_dict()\n",
    "df['volatility'] = df['account_id'].map(volatility_lookup)\n",
    "df['volatility_level'] = pd.qcut(df['volatility'], q=3, labels=['Low', 'Medium', 'High'])\n",
    "\n",
    "# 离散化 rolling_week 为分类变量 (字符串类型)\n",
    "df['rolling_week_str'] = df['rolling_week'].astype(str)\n",
    "\n",
    "# B adopted = Early or Late\n",
    "df['b_adopted'] = df['adopting_b_week'].apply(lambda x: 'Early' if x < 25 else 'Late')\n",
    "\n",
    "# 构建并行分类图，52个 rolling_week 为中间维度\n",
    "fig = px.parallel_categories(\n",
    "    df,\n",
    "    dimensions=['stocking_change_level', 'rolling_week_str', 'volatility_level', 'b_adopted'],\n",
    "    labels={\n",
    "        'stocking_change_level': 'Stocking Change',\n",
    "        'rolling_week_str': 'Rolling Week',\n",
    "        'volatility_level': 'Volatility',\n",
    "        'b_adopted': 'B Adoption Timing'\n",
    "    },\n",
    "    title='Behavior Paths Across 52 Rolling Weeks'\n",
    ")\n",
    "fig.show()"
   ]
  },
  {
   "cell_type": "code",
   "execution_count": 159,
   "id": "af28021b",
   "metadata": {},
   "outputs": [
    {
     "ename": "KeyError",
     "evalue": "'account_id'",
     "output_type": "error",
     "traceback": [
      "\u001b[0;31m---------------------------------------------------------------------------\u001b[0m",
      "\u001b[0;31mKeyError\u001b[0m                                  Traceback (most recent call last)",
      "File \u001b[0;32m~/Documents/DevOps/Pfizer/XiaoqiaoVivianZeng_CaseStudy_Package/venv/lib/python3.13/site-packages/pandas/core/indexes/base.py:3805\u001b[0m, in \u001b[0;36mIndex.get_loc\u001b[0;34m(self, key)\u001b[0m\n\u001b[1;32m   3804\u001b[0m \u001b[38;5;28;01mtry\u001b[39;00m:\n\u001b[0;32m-> 3805\u001b[0m     \u001b[38;5;28;01mreturn\u001b[39;00m \u001b[38;5;28;43mself\u001b[39;49m\u001b[38;5;241;43m.\u001b[39;49m\u001b[43m_engine\u001b[49m\u001b[38;5;241;43m.\u001b[39;49m\u001b[43mget_loc\u001b[49m\u001b[43m(\u001b[49m\u001b[43mcasted_key\u001b[49m\u001b[43m)\u001b[49m\n\u001b[1;32m   3806\u001b[0m \u001b[38;5;28;01mexcept\u001b[39;00m \u001b[38;5;167;01mKeyError\u001b[39;00m \u001b[38;5;28;01mas\u001b[39;00m err:\n",
      "File \u001b[0;32mindex.pyx:167\u001b[0m, in \u001b[0;36mpandas._libs.index.IndexEngine.get_loc\u001b[0;34m()\u001b[0m\n",
      "File \u001b[0;32mindex.pyx:196\u001b[0m, in \u001b[0;36mpandas._libs.index.IndexEngine.get_loc\u001b[0;34m()\u001b[0m\n",
      "File \u001b[0;32mpandas/_libs/hashtable_class_helper.pxi:7081\u001b[0m, in \u001b[0;36mpandas._libs.hashtable.PyObjectHashTable.get_item\u001b[0;34m()\u001b[0m\n",
      "File \u001b[0;32mpandas/_libs/hashtable_class_helper.pxi:7089\u001b[0m, in \u001b[0;36mpandas._libs.hashtable.PyObjectHashTable.get_item\u001b[0;34m()\u001b[0m\n",
      "\u001b[0;31mKeyError\u001b[0m: 'account_id'",
      "\nThe above exception was the direct cause of the following exception:\n",
      "\u001b[0;31mKeyError\u001b[0m                                  Traceback (most recent call last)",
      "Cell \u001b[0;32mIn[159], line 2\u001b[0m\n\u001b[1;32m      1\u001b[0m \u001b[38;5;66;03m# 为 rolling week 构造列名 \"1\" 到 \"52\"，每列为该周的 stocking_change_level\u001b[39;00m\n\u001b[0;32m----> 2\u001b[0m df_wide \u001b[38;5;241m=\u001b[39m \u001b[43mdf\u001b[49m\u001b[38;5;241;43m.\u001b[39;49m\u001b[43mpivot\u001b[49m\u001b[43m(\u001b[49m\u001b[43mindex\u001b[49m\u001b[38;5;241;43m=\u001b[39;49m\u001b[38;5;124;43m'\u001b[39;49m\u001b[38;5;124;43maccount_id\u001b[39;49m\u001b[38;5;124;43m'\u001b[39;49m\u001b[43m,\u001b[49m\u001b[43m \u001b[49m\u001b[43mcolumns\u001b[49m\u001b[38;5;241;43m=\u001b[39;49m\u001b[38;5;124;43m'\u001b[39;49m\u001b[38;5;124;43mrolling_week\u001b[39;49m\u001b[38;5;124;43m'\u001b[39;49m\u001b[43m,\u001b[49m\u001b[43m \u001b[49m\u001b[43mvalues\u001b[49m\u001b[38;5;241;43m=\u001b[39;49m\u001b[38;5;124;43m'\u001b[39;49m\u001b[38;5;124;43mstocking_change\u001b[39;49m\u001b[38;5;124;43m'\u001b[39;49m\u001b[43m)\u001b[49m\n\u001b[1;32m      3\u001b[0m df_wide\u001b[38;5;241m.\u001b[39mcolumns \u001b[38;5;241m=\u001b[39m df_wide\u001b[38;5;241m.\u001b[39mcolumns\u001b[38;5;241m.\u001b[39mastype(\u001b[38;5;28mstr\u001b[39m)  \u001b[38;5;66;03m# 列名转换为字符串 '1' 到 '52'\u001b[39;00m\n\u001b[1;32m      5\u001b[0m \u001b[38;5;66;03m# 转换为等级分类（Low, Medium, High）\u001b[39;00m\n",
      "File \u001b[0;32m~/Documents/DevOps/Pfizer/XiaoqiaoVivianZeng_CaseStudy_Package/venv/lib/python3.13/site-packages/pandas/core/frame.py:9339\u001b[0m, in \u001b[0;36mDataFrame.pivot\u001b[0;34m(self, columns, index, values)\u001b[0m\n\u001b[1;32m   9332\u001b[0m \u001b[38;5;129m@Substitution\u001b[39m(\u001b[38;5;124m\"\u001b[39m\u001b[38;5;124m\"\u001b[39m)\n\u001b[1;32m   9333\u001b[0m \u001b[38;5;129m@Appender\u001b[39m(_shared_docs[\u001b[38;5;124m\"\u001b[39m\u001b[38;5;124mpivot\u001b[39m\u001b[38;5;124m\"\u001b[39m])\n\u001b[1;32m   9334\u001b[0m \u001b[38;5;28;01mdef\u001b[39;00m\u001b[38;5;250m \u001b[39m\u001b[38;5;21mpivot\u001b[39m(\n\u001b[1;32m   9335\u001b[0m     \u001b[38;5;28mself\u001b[39m, \u001b[38;5;241m*\u001b[39m, columns, index\u001b[38;5;241m=\u001b[39mlib\u001b[38;5;241m.\u001b[39mno_default, values\u001b[38;5;241m=\u001b[39mlib\u001b[38;5;241m.\u001b[39mno_default\n\u001b[1;32m   9336\u001b[0m ) \u001b[38;5;241m-\u001b[39m\u001b[38;5;241m>\u001b[39m DataFrame:\n\u001b[1;32m   9337\u001b[0m     \u001b[38;5;28;01mfrom\u001b[39;00m\u001b[38;5;250m \u001b[39m\u001b[38;5;21;01mpandas\u001b[39;00m\u001b[38;5;21;01m.\u001b[39;00m\u001b[38;5;21;01mcore\u001b[39;00m\u001b[38;5;21;01m.\u001b[39;00m\u001b[38;5;21;01mreshape\u001b[39;00m\u001b[38;5;21;01m.\u001b[39;00m\u001b[38;5;21;01mpivot\u001b[39;00m\u001b[38;5;250m \u001b[39m\u001b[38;5;28;01mimport\u001b[39;00m pivot\n\u001b[0;32m-> 9339\u001b[0m     \u001b[38;5;28;01mreturn\u001b[39;00m \u001b[43mpivot\u001b[49m\u001b[43m(\u001b[49m\u001b[38;5;28;43mself\u001b[39;49m\u001b[43m,\u001b[49m\u001b[43m \u001b[49m\u001b[43mindex\u001b[49m\u001b[38;5;241;43m=\u001b[39;49m\u001b[43mindex\u001b[49m\u001b[43m,\u001b[49m\u001b[43m \u001b[49m\u001b[43mcolumns\u001b[49m\u001b[38;5;241;43m=\u001b[39;49m\u001b[43mcolumns\u001b[49m\u001b[43m,\u001b[49m\u001b[43m \u001b[49m\u001b[43mvalues\u001b[49m\u001b[38;5;241;43m=\u001b[39;49m\u001b[43mvalues\u001b[49m\u001b[43m)\u001b[49m\n",
      "File \u001b[0;32m~/Documents/DevOps/Pfizer/XiaoqiaoVivianZeng_CaseStudy_Package/venv/lib/python3.13/site-packages/pandas/core/reshape/pivot.py:553\u001b[0m, in \u001b[0;36mpivot\u001b[0;34m(data, columns, index, values)\u001b[0m\n\u001b[1;32m    549\u001b[0m         index_list \u001b[38;5;241m=\u001b[39m [\n\u001b[1;32m    550\u001b[0m             data\u001b[38;5;241m.\u001b[39m_constructor_sliced(data\u001b[38;5;241m.\u001b[39mindex, name\u001b[38;5;241m=\u001b[39mdata\u001b[38;5;241m.\u001b[39mindex\u001b[38;5;241m.\u001b[39mname)\n\u001b[1;32m    551\u001b[0m         ]\n\u001b[1;32m    552\u001b[0m \u001b[38;5;28;01melse\u001b[39;00m:\n\u001b[0;32m--> 553\u001b[0m     index_list \u001b[38;5;241m=\u001b[39m [\u001b[43mdata\u001b[49m\u001b[43m[\u001b[49m\u001b[43midx\u001b[49m\u001b[43m]\u001b[49m \u001b[38;5;28;01mfor\u001b[39;00m idx \u001b[38;5;129;01min\u001b[39;00m com\u001b[38;5;241m.\u001b[39mconvert_to_list_like(index)]\n\u001b[1;32m    555\u001b[0m data_columns \u001b[38;5;241m=\u001b[39m [data[col] \u001b[38;5;28;01mfor\u001b[39;00m col \u001b[38;5;129;01min\u001b[39;00m columns_listlike]\n\u001b[1;32m    556\u001b[0m index_list\u001b[38;5;241m.\u001b[39mextend(data_columns)\n",
      "File \u001b[0;32m~/Documents/DevOps/Pfizer/XiaoqiaoVivianZeng_CaseStudy_Package/venv/lib/python3.13/site-packages/pandas/core/frame.py:4102\u001b[0m, in \u001b[0;36mDataFrame.__getitem__\u001b[0;34m(self, key)\u001b[0m\n\u001b[1;32m   4100\u001b[0m \u001b[38;5;28;01mif\u001b[39;00m \u001b[38;5;28mself\u001b[39m\u001b[38;5;241m.\u001b[39mcolumns\u001b[38;5;241m.\u001b[39mnlevels \u001b[38;5;241m>\u001b[39m \u001b[38;5;241m1\u001b[39m:\n\u001b[1;32m   4101\u001b[0m     \u001b[38;5;28;01mreturn\u001b[39;00m \u001b[38;5;28mself\u001b[39m\u001b[38;5;241m.\u001b[39m_getitem_multilevel(key)\n\u001b[0;32m-> 4102\u001b[0m indexer \u001b[38;5;241m=\u001b[39m \u001b[38;5;28;43mself\u001b[39;49m\u001b[38;5;241;43m.\u001b[39;49m\u001b[43mcolumns\u001b[49m\u001b[38;5;241;43m.\u001b[39;49m\u001b[43mget_loc\u001b[49m\u001b[43m(\u001b[49m\u001b[43mkey\u001b[49m\u001b[43m)\u001b[49m\n\u001b[1;32m   4103\u001b[0m \u001b[38;5;28;01mif\u001b[39;00m is_integer(indexer):\n\u001b[1;32m   4104\u001b[0m     indexer \u001b[38;5;241m=\u001b[39m [indexer]\n",
      "File \u001b[0;32m~/Documents/DevOps/Pfizer/XiaoqiaoVivianZeng_CaseStudy_Package/venv/lib/python3.13/site-packages/pandas/core/indexes/base.py:3812\u001b[0m, in \u001b[0;36mIndex.get_loc\u001b[0;34m(self, key)\u001b[0m\n\u001b[1;32m   3807\u001b[0m     \u001b[38;5;28;01mif\u001b[39;00m \u001b[38;5;28misinstance\u001b[39m(casted_key, \u001b[38;5;28mslice\u001b[39m) \u001b[38;5;129;01mor\u001b[39;00m (\n\u001b[1;32m   3808\u001b[0m         \u001b[38;5;28misinstance\u001b[39m(casted_key, abc\u001b[38;5;241m.\u001b[39mIterable)\n\u001b[1;32m   3809\u001b[0m         \u001b[38;5;129;01mand\u001b[39;00m \u001b[38;5;28many\u001b[39m(\u001b[38;5;28misinstance\u001b[39m(x, \u001b[38;5;28mslice\u001b[39m) \u001b[38;5;28;01mfor\u001b[39;00m x \u001b[38;5;129;01min\u001b[39;00m casted_key)\n\u001b[1;32m   3810\u001b[0m     ):\n\u001b[1;32m   3811\u001b[0m         \u001b[38;5;28;01mraise\u001b[39;00m InvalidIndexError(key)\n\u001b[0;32m-> 3812\u001b[0m     \u001b[38;5;28;01mraise\u001b[39;00m \u001b[38;5;167;01mKeyError\u001b[39;00m(key) \u001b[38;5;28;01mfrom\u001b[39;00m\u001b[38;5;250m \u001b[39m\u001b[38;5;21;01merr\u001b[39;00m\n\u001b[1;32m   3813\u001b[0m \u001b[38;5;28;01mexcept\u001b[39;00m \u001b[38;5;167;01mTypeError\u001b[39;00m:\n\u001b[1;32m   3814\u001b[0m     \u001b[38;5;66;03m# If we have a listlike key, _check_indexing_error will raise\u001b[39;00m\n\u001b[1;32m   3815\u001b[0m     \u001b[38;5;66;03m#  InvalidIndexError. Otherwise we fall through and re-raise\u001b[39;00m\n\u001b[1;32m   3816\u001b[0m     \u001b[38;5;66;03m#  the TypeError.\u001b[39;00m\n\u001b[1;32m   3817\u001b[0m     \u001b[38;5;28mself\u001b[39m\u001b[38;5;241m.\u001b[39m_check_indexing_error(key)\n",
      "\u001b[0;31mKeyError\u001b[0m: 'account_id'"
     ]
    }
   ],
   "source": [
    "# 为 rolling week 构造列名 \"1\" 到 \"52\"，每列为该周的 stocking_change_level\n",
    "df_wide = df.pivot(index='account_id', columns='rolling_week', values='stocking_change')\n",
    "df_wide.columns = df_wide.columns.astype(str)  # 列名转换为字符串 '1' 到 '52'\n",
    "\n",
    "# 转换为等级分类（Low, Medium, High）\n",
    "for col in df_wide.columns:\n",
    "    df_wide[col] = pd.qcut(df_wide[col], q=3, labels=['Low', 'Medium', 'High'])\n",
    "\n",
    "# 添加 volatility 和 adopt_b 列\n",
    "df_wide['volatility'] = df_wide.index.map(volatility_lookup)\n",
    "df_wide['volatility_level'] = pd.qcut(df_wide['volatility'], q=3, labels=['Low', 'Medium', 'High'])\n",
    "\n",
    "adopt_b_lookup = df.groupby('account_id')['adopting_b_week'].first().apply(lambda x: 'Yes' if x < 53 else 'No').to_dict()\n",
    "df_wide['adopt_b'] = df_wide.index.map(adopt_b_lookup)\n",
    "\n",
    "# 重置索引用于绘图\n",
    "df_long = df_wide.reset_index()\n",
    "\n",
    "# 创建 parallel categories 图（包含 52 个维度）\n",
    "dimensions = ['account_id'] + [str(i) for i in range(1, 53)] + ['volatility_level', 'adopt_b']\n",
    "\n",
    "fig = px.parallel_categories(\n",
    "    df_long,\n",
    "    dimensions=dimensions,\n",
    "    labels={dim: dim for dim in dimensions},\n",
    "    title='Parallel Categories: Full Conversion Path (Account ID → Weekly Behavior → Volatility → Adoption)'\n",
    ")\n",
    "\n",
    "fig.show()\n"
   ]
  },
  {
   "cell_type": "code",
   "execution_count": 151,
   "id": "7d136d0d",
   "metadata": {},
   "outputs": [
    {
     "data": {
      "text/html": [
       "<div>\n",
       "<style scoped>\n",
       "    .dataframe tbody tr th:only-of-type {\n",
       "        vertical-align: middle;\n",
       "    }\n",
       "\n",
       "    .dataframe tbody tr th {\n",
       "        vertical-align: top;\n",
       "    }\n",
       "\n",
       "    .dataframe thead th {\n",
       "        text-align: right;\n",
       "    }\n",
       "</style>\n",
       "<table border=\"1\" class=\"dataframe\">\n",
       "  <thead>\n",
       "    <tr style=\"text-align: right;\">\n",
       "      <th></th>\n",
       "      <th>account_id</th>\n",
       "      <th>1</th>\n",
       "      <th>2</th>\n",
       "      <th>3</th>\n",
       "      <th>4</th>\n",
       "      <th>5</th>\n",
       "      <th>6</th>\n",
       "      <th>7</th>\n",
       "      <th>8</th>\n",
       "      <th>9</th>\n",
       "      <th>...</th>\n",
       "      <th>45</th>\n",
       "      <th>46</th>\n",
       "      <th>47</th>\n",
       "      <th>48</th>\n",
       "      <th>49</th>\n",
       "      <th>50</th>\n",
       "      <th>51</th>\n",
       "      <th>52</th>\n",
       "      <th>volatility</th>\n",
       "      <th>adopt_b</th>\n",
       "    </tr>\n",
       "  </thead>\n",
       "  <tbody>\n",
       "    <tr>\n",
       "      <th>0</th>\n",
       "      <td>acct1</td>\n",
       "      <td>-0.501840</td>\n",
       "      <td>1.802857</td>\n",
       "      <td>0.927976</td>\n",
       "      <td>0.394634</td>\n",
       "      <td>-1.375925</td>\n",
       "      <td>-1.376022</td>\n",
       "      <td>-1.767666</td>\n",
       "      <td>1.464705</td>\n",
       "      <td>0.404460</td>\n",
       "      <td>...</td>\n",
       "      <td>-0.964880</td>\n",
       "      <td>0.650089</td>\n",
       "      <td>-0.753156</td>\n",
       "      <td>0.080272</td>\n",
       "      <td>0.186841</td>\n",
       "      <td>-1.260582</td>\n",
       "      <td>1.878339</td>\n",
       "      <td>1.100531</td>\n",
       "      <td>1.171171</td>\n",
       "      <td>Yes</td>\n",
       "    </tr>\n",
       "    <tr>\n",
       "      <th>1</th>\n",
       "      <td>acct2</td>\n",
       "      <td>1.757996</td>\n",
       "      <td>1.579309</td>\n",
       "      <td>0.391600</td>\n",
       "      <td>1.687497</td>\n",
       "      <td>-1.646030</td>\n",
       "      <td>-1.216069</td>\n",
       "      <td>-1.819091</td>\n",
       "      <td>-0.698679</td>\n",
       "      <td>-0.445291</td>\n",
       "      <td>...</td>\n",
       "      <td>0.090931</td>\n",
       "      <td>-0.289836</td>\n",
       "      <td>-1.898323</td>\n",
       "      <td>-1.568434</td>\n",
       "      <td>-1.874283</td>\n",
       "      <td>0.545642</td>\n",
       "      <td>-0.742576</td>\n",
       "      <td>0.034283</td>\n",
       "      <td>1.182740</td>\n",
       "      <td>No</td>\n",
       "    </tr>\n",
       "    <tr>\n",
       "      <th>2</th>\n",
       "      <td>acct3</td>\n",
       "      <td>1.630266</td>\n",
       "      <td>-1.002831</td>\n",
       "      <td>-0.358468</td>\n",
       "      <td>1.022205</td>\n",
       "      <td>-1.084807</td>\n",
       "      <td>-1.692080</td>\n",
       "      <td>-0.840994</td>\n",
       "      <td>-1.355115</td>\n",
       "      <td>1.718791</td>\n",
       "      <td>...</td>\n",
       "      <td>-1.794085</td>\n",
       "      <td>-0.885414</td>\n",
       "      <td>1.633064</td>\n",
       "      <td>-1.041752</td>\n",
       "      <td>-1.420421</td>\n",
       "      <td>-0.042189</td>\n",
       "      <td>1.942602</td>\n",
       "      <td>-1.031779</td>\n",
       "      <td>1.208400</td>\n",
       "      <td>Yes</td>\n",
       "    </tr>\n",
       "    <tr>\n",
       "      <th>3</th>\n",
       "      <td>acct4</td>\n",
       "      <td>0.688542</td>\n",
       "      <td>1.046478</td>\n",
       "      <td>-1.049450</td>\n",
       "      <td>0.912865</td>\n",
       "      <td>-0.528867</td>\n",
       "      <td>0.529223</td>\n",
       "      <td>0.534119</td>\n",
       "      <td>0.143099</td>\n",
       "      <td>-1.638841</td>\n",
       "      <td>...</td>\n",
       "      <td>0.568127</td>\n",
       "      <td>-1.663440</td>\n",
       "      <td>-1.353485</td>\n",
       "      <td>1.594217</td>\n",
       "      <td>0.425716</td>\n",
       "      <td>-1.963212</td>\n",
       "      <td>-1.594114</td>\n",
       "      <td>0.654007</td>\n",
       "      <td>1.161641</td>\n",
       "      <td>Yes</td>\n",
       "    </tr>\n",
       "    <tr>\n",
       "      <th>4</th>\n",
       "      <td>acct5</td>\n",
       "      <td>-1.979754</td>\n",
       "      <td>-1.356768</td>\n",
       "      <td>0.194935</td>\n",
       "      <td>0.767581</td>\n",
       "      <td>0.607845</td>\n",
       "      <td>-1.102923</td>\n",
       "      <td>0.848717</td>\n",
       "      <td>-1.051004</td>\n",
       "      <td>-0.698401</td>\n",
       "      <td>...</td>\n",
       "      <td>1.404547</td>\n",
       "      <td>-0.732312</td>\n",
       "      <td>-1.322029</td>\n",
       "      <td>0.227205</td>\n",
       "      <td>1.744619</td>\n",
       "      <td>0.784119</td>\n",
       "      <td>0.280245</td>\n",
       "      <td>-1.611294</td>\n",
       "      <td>1.172553</td>\n",
       "      <td>No</td>\n",
       "    </tr>\n",
       "    <tr>\n",
       "      <th>5</th>\n",
       "      <td>acct6</td>\n",
       "      <td>0.460029</td>\n",
       "      <td>1.960215</td>\n",
       "      <td>-1.439664</td>\n",
       "      <td>0.073319</td>\n",
       "      <td>1.509492</td>\n",
       "      <td>0.963074</td>\n",
       "      <td>0.788063</td>\n",
       "      <td>0.809936</td>\n",
       "      <td>-0.562035</td>\n",
       "      <td>...</td>\n",
       "      <td>0.904365</td>\n",
       "      <td>1.903408</td>\n",
       "      <td>0.065201</td>\n",
       "      <td>-0.708174</td>\n",
       "      <td>1.180745</td>\n",
       "      <td>-0.916671</td>\n",
       "      <td>-0.244114</td>\n",
       "      <td>-1.686174</td>\n",
       "      <td>1.105658</td>\n",
       "      <td>Yes</td>\n",
       "    </tr>\n",
       "    <tr>\n",
       "      <th>6</th>\n",
       "      <td>acct7</td>\n",
       "      <td>-1.898597</td>\n",
       "      <td>1.850594</td>\n",
       "      <td>1.343920</td>\n",
       "      <td>0.783897</td>\n",
       "      <td>-0.364188</td>\n",
       "      <td>-1.306823</td>\n",
       "      <td>-1.374252</td>\n",
       "      <td>-0.999028</td>\n",
       "      <td>0.196907</td>\n",
       "      <td>...</td>\n",
       "      <td>-1.893955</td>\n",
       "      <td>0.343102</td>\n",
       "      <td>1.760921</td>\n",
       "      <td>0.301897</td>\n",
       "      <td>-0.447320</td>\n",
       "      <td>0.573153</td>\n",
       "      <td>-0.166988</td>\n",
       "      <td>0.182467</td>\n",
       "      <td>1.085737</td>\n",
       "      <td>Yes</td>\n",
       "    </tr>\n",
       "    <tr>\n",
       "      <th>7</th>\n",
       "      <td>acct8</td>\n",
       "      <td>1.765859</td>\n",
       "      <td>-0.455589</td>\n",
       "      <td>1.844762</td>\n",
       "      <td>1.621403</td>\n",
       "      <td>-1.216835</td>\n",
       "      <td>-1.722555</td>\n",
       "      <td>-1.596888</td>\n",
       "      <td>-1.927113</td>\n",
       "      <td>-1.622228</td>\n",
       "      <td>...</td>\n",
       "      <td>1.621528</td>\n",
       "      <td>-1.634853</td>\n",
       "      <td>-0.722745</td>\n",
       "      <td>1.800248</td>\n",
       "      <td>1.802429</td>\n",
       "      <td>0.293752</td>\n",
       "      <td>0.527349</td>\n",
       "      <td>-0.206218</td>\n",
       "      <td>1.283853</td>\n",
       "      <td>Yes</td>\n",
       "    </tr>\n",
       "    <tr>\n",
       "      <th>8</th>\n",
       "      <td>acct9</td>\n",
       "      <td>-0.827157</td>\n",
       "      <td>-0.685342</td>\n",
       "      <td>0.690074</td>\n",
       "      <td>1.009498</td>\n",
       "      <td>1.166316</td>\n",
       "      <td>1.158473</td>\n",
       "      <td>-1.635176</td>\n",
       "      <td>-0.022319</td>\n",
       "      <td>-1.769765</td>\n",
       "      <td>...</td>\n",
       "      <td>-1.529895</td>\n",
       "      <td>0.596841</td>\n",
       "      <td>0.984180</td>\n",
       "      <td>0.333475</td>\n",
       "      <td>1.848690</td>\n",
       "      <td>-0.500518</td>\n",
       "      <td>-0.857152</td>\n",
       "      <td>1.474397</td>\n",
       "      <td>1.234053</td>\n",
       "      <td>Yes</td>\n",
       "    </tr>\n",
       "    <tr>\n",
       "      <th>9</th>\n",
       "      <td>acct10</td>\n",
       "      <td>-1.105617</td>\n",
       "      <td>1.852890</td>\n",
       "      <td>-1.951382</td>\n",
       "      <td>1.879515</td>\n",
       "      <td>-1.827360</td>\n",
       "      <td>1.564572</td>\n",
       "      <td>0.110804</td>\n",
       "      <td>1.971859</td>\n",
       "      <td>-1.704814</td>\n",
       "      <td>...</td>\n",
       "      <td>1.730914</td>\n",
       "      <td>1.464256</td>\n",
       "      <td>-1.819125</td>\n",
       "      <td>-1.894532</td>\n",
       "      <td>-0.494147</td>\n",
       "      <td>1.242213</td>\n",
       "      <td>1.949105</td>\n",
       "      <td>-1.398332</td>\n",
       "      <td>1.275166</td>\n",
       "      <td>Yes</td>\n",
       "    </tr>\n",
       "  </tbody>\n",
       "</table>\n",
       "<p>10 rows × 55 columns</p>\n",
       "</div>"
      ],
      "text/plain": [
       "  account_id         1         2         3         4         5         6  \\\n",
       "0      acct1 -0.501840  1.802857  0.927976  0.394634 -1.375925 -1.376022   \n",
       "1      acct2  1.757996  1.579309  0.391600  1.687497 -1.646030 -1.216069   \n",
       "2      acct3  1.630266 -1.002831 -0.358468  1.022205 -1.084807 -1.692080   \n",
       "3      acct4  0.688542  1.046478 -1.049450  0.912865 -0.528867  0.529223   \n",
       "4      acct5 -1.979754 -1.356768  0.194935  0.767581  0.607845 -1.102923   \n",
       "5      acct6  0.460029  1.960215 -1.439664  0.073319  1.509492  0.963074   \n",
       "6      acct7 -1.898597  1.850594  1.343920  0.783897 -0.364188 -1.306823   \n",
       "7      acct8  1.765859 -0.455589  1.844762  1.621403 -1.216835 -1.722555   \n",
       "8      acct9 -0.827157 -0.685342  0.690074  1.009498  1.166316  1.158473   \n",
       "9     acct10 -1.105617  1.852890 -1.951382  1.879515 -1.827360  1.564572   \n",
       "\n",
       "          7         8         9  ...        45        46        47        48  \\\n",
       "0 -1.767666  1.464705  0.404460  ... -0.964880  0.650089 -0.753156  0.080272   \n",
       "1 -1.819091 -0.698679 -0.445291  ...  0.090931 -0.289836 -1.898323 -1.568434   \n",
       "2 -0.840994 -1.355115  1.718791  ... -1.794085 -0.885414  1.633064 -1.041752   \n",
       "3  0.534119  0.143099 -1.638841  ...  0.568127 -1.663440 -1.353485  1.594217   \n",
       "4  0.848717 -1.051004 -0.698401  ...  1.404547 -0.732312 -1.322029  0.227205   \n",
       "5  0.788063  0.809936 -0.562035  ...  0.904365  1.903408  0.065201 -0.708174   \n",
       "6 -1.374252 -0.999028  0.196907  ... -1.893955  0.343102  1.760921  0.301897   \n",
       "7 -1.596888 -1.927113 -1.622228  ...  1.621528 -1.634853 -0.722745  1.800248   \n",
       "8 -1.635176 -0.022319 -1.769765  ... -1.529895  0.596841  0.984180  0.333475   \n",
       "9  0.110804  1.971859 -1.704814  ...  1.730914  1.464256 -1.819125 -1.894532   \n",
       "\n",
       "         49        50        51        52  volatility  adopt_b  \n",
       "0  0.186841 -1.260582  1.878339  1.100531    1.171171      Yes  \n",
       "1 -1.874283  0.545642 -0.742576  0.034283    1.182740       No  \n",
       "2 -1.420421 -0.042189  1.942602 -1.031779    1.208400      Yes  \n",
       "3  0.425716 -1.963212 -1.594114  0.654007    1.161641      Yes  \n",
       "4  1.744619  0.784119  0.280245 -1.611294    1.172553       No  \n",
       "5  1.180745 -0.916671 -0.244114 -1.686174    1.105658      Yes  \n",
       "6 -0.447320  0.573153 -0.166988  0.182467    1.085737      Yes  \n",
       "7  1.802429  0.293752  0.527349 -0.206218    1.283853      Yes  \n",
       "8  1.848690 -0.500518 -0.857152  1.474397    1.234053      Yes  \n",
       "9 -0.494147  1.242213  1.949105 -1.398332    1.275166      Yes  \n",
       "\n",
       "[10 rows x 55 columns]"
      ]
     },
     "execution_count": 151,
     "metadata": {},
     "output_type": "execute_result"
    }
   ],
   "source": [
    "# 模拟符合你描述结构的 DataFrame\n",
    "np.random.seed(42)\n",
    "num_accounts = 10\n",
    "rolling_windows = [str(i) for i in range(1, 53)]\n",
    "\n",
    "# 模拟每个账户在 52 个 rolling window 的 stocking change（-2 到 2 之间）\n",
    "stocking_changes = np.random.uniform(-2, 2, size=(num_accounts, 52))\n",
    "\n",
    "# 计算 volatility 为每行的标准差\n",
    "volatility = stocking_changes.std(axis=1)\n",
    "\n",
    "# 模拟是否 adopt_b（50% 概率）\n",
    "adopt_b = np.random.choice(['Yes', 'No'], size=num_accounts)\n",
    "\n",
    "# 构建 DataFrame\n",
    "df_simulated = pd.DataFrame(stocking_changes, columns=rolling_windows)\n",
    "df_simulated.insert(0, 'account_id', [f'acct{i+1}' for i in range(num_accounts)])\n",
    "df_simulated['volatility'] = volatility\n",
    "df_simulated['adopt_b'] = adopt_b\n",
    "\n",
    "df_simulated"
   ]
  },
  {
   "cell_type": "code",
   "execution_count": 158,
   "id": "83ab5c2f",
   "metadata": {},
   "outputs": [
    {
     "data": {
      "text/html": [
       "<div>\n",
       "<style scoped>\n",
       "    .dataframe tbody tr th:only-of-type {\n",
       "        vertical-align: middle;\n",
       "    }\n",
       "\n",
       "    .dataframe tbody tr th {\n",
       "        vertical-align: top;\n",
       "    }\n",
       "\n",
       "    .dataframe thead th {\n",
       "        text-align: right;\n",
       "    }\n",
       "</style>\n",
       "<table border=\"1\" class=\"dataframe\">\n",
       "  <thead>\n",
       "    <tr style=\"text-align: right;\">\n",
       "      <th></th>\n",
       "      <th>total_bill</th>\n",
       "      <th>tip</th>\n",
       "      <th>sex</th>\n",
       "      <th>smoker</th>\n",
       "      <th>day</th>\n",
       "      <th>time</th>\n",
       "      <th>size</th>\n",
       "    </tr>\n",
       "  </thead>\n",
       "  <tbody>\n",
       "    <tr>\n",
       "      <th>0</th>\n",
       "      <td>16.99</td>\n",
       "      <td>1.01</td>\n",
       "      <td>Female</td>\n",
       "      <td>No</td>\n",
       "      <td>Sun</td>\n",
       "      <td>Dinner</td>\n",
       "      <td>2</td>\n",
       "    </tr>\n",
       "    <tr>\n",
       "      <th>1</th>\n",
       "      <td>10.34</td>\n",
       "      <td>1.66</td>\n",
       "      <td>Male</td>\n",
       "      <td>No</td>\n",
       "      <td>Sun</td>\n",
       "      <td>Dinner</td>\n",
       "      <td>3</td>\n",
       "    </tr>\n",
       "    <tr>\n",
       "      <th>2</th>\n",
       "      <td>21.01</td>\n",
       "      <td>3.50</td>\n",
       "      <td>Male</td>\n",
       "      <td>No</td>\n",
       "      <td>Sun</td>\n",
       "      <td>Dinner</td>\n",
       "      <td>3</td>\n",
       "    </tr>\n",
       "    <tr>\n",
       "      <th>3</th>\n",
       "      <td>23.68</td>\n",
       "      <td>3.31</td>\n",
       "      <td>Male</td>\n",
       "      <td>No</td>\n",
       "      <td>Sun</td>\n",
       "      <td>Dinner</td>\n",
       "      <td>2</td>\n",
       "    </tr>\n",
       "    <tr>\n",
       "      <th>4</th>\n",
       "      <td>24.59</td>\n",
       "      <td>3.61</td>\n",
       "      <td>Female</td>\n",
       "      <td>No</td>\n",
       "      <td>Sun</td>\n",
       "      <td>Dinner</td>\n",
       "      <td>4</td>\n",
       "    </tr>\n",
       "  </tbody>\n",
       "</table>\n",
       "</div>"
      ],
      "text/plain": [
       "   total_bill   tip     sex smoker  day    time  size\n",
       "0       16.99  1.01  Female     No  Sun  Dinner     2\n",
       "1       10.34  1.66    Male     No  Sun  Dinner     3\n",
       "2       21.01  3.50    Male     No  Sun  Dinner     3\n",
       "3       23.68  3.31    Male     No  Sun  Dinner     2\n",
       "4       24.59  3.61  Female     No  Sun  Dinner     4"
      ]
     },
     "execution_count": 158,
     "metadata": {},
     "output_type": "execute_result"
    }
   ],
   "source": [
    "import plotly.express as px\n",
    "\n",
    "df = px.data.tips()\n",
    "# fig = px.parallel_categories(df, dimensions=['sex', 'smoker', 'day'],\n",
    "#                 color=\"size\", color_continuous_scale=px.colors.sequential.Inferno,\n",
    "#                 labels={'sex':'Payer sex', 'smoker':'Smokers at the table', 'day':'Day of week'})\n",
    "# fig.show()\n",
    "df.head()"
   ]
  },
  {
   "cell_type": "code",
   "execution_count": null,
   "id": "353dd6c0",
   "metadata": {},
   "outputs": [
    {
     "data": {
      "application/vnd.plotly.v1+json": {
       "config": {
        "plotlyServerURL": "https://plot.ly"
       },
       "data": [
        {
         "dimensions": [
          {
           "label": "account_id",
           "values": [
            "acct1",
            "acct2",
            "acct3",
            "acct4",
            "acct5",
            "acct6",
            "acct7",
            "acct8",
            "acct9",
            "acct10"
           ]
          },
          {
           "label": "1",
           "values": {
            "bdata": "KFxBwxEP4L+GRCkrwCD8P85ZHbGRFfo/2CxLoYkI5j+kh7otEq3/v/ABehUdcd0/EnyGRqdg/r+o7AGd9UD8P+hmXMYReOq/XmKCFJuw8b8=",
            "dtype": "f8"
           }
          },
          {
           "label": "2",
           "values": {
            "bdata": "qKx30YDY/D8ezGnv2UT5PzonKpuYC/C/ZA31MmC+8D9mnY4lUrX1vzSC3tIKXf8/uKClGAic/T84EL+lYCjdv0gIJPdR7uW/QLhqJnCl/T8=",
            "dtype": "f8"
           }
          },
          {
           "label": "3",
           "values": {
            "bdata": "RJ15PPqx7T/oz0UX+Q/ZPzCfuQ4l8da/dA4Q5ovK8L+wSxSfovPIPw559w3dCPe/IjBtw7KA9T+kPTZtJYT9P1xVZ7MVFeY/bEItcNw4/78=",
            "dtype": "f8"
           }
          },
          {
           "label": "4",
           "values": {
            "bdata": "gGUZs65B2T9owZzK/P/6P5DenynzWvA/EKnZfDE27T/IviyXBZDoP+AUzCUCxbI/eBgEy64V6T8gSqfRQ/H5P3DOkX/nJvA/xLJypH4S/j8=",
            "dtype": "f8"
           }
          },
          {
           "label": "5",
           "values": {
            "bdata": "Pu9uZMoD9r8Su2+LI1b6vzAJdfBeW/G/DKZ5eHvs4L84TOlvd3PjP36VlGLhJvg/MEcjHtxO17947c51KHjzvyQYQCY7qfI/aCNrNd48/b8=",
            "dtype": "f8"
           }
          },
          {
           "label": "6",
           "values": {
            "bdata": "WkAzjy8E9r/aVNVLBHXzvwaGNdvCEvu/5Bm8v2Xv4D+CtJdWkqXxv8QmlI2B0e4/bqSt8L7o9L+AhUielY/7vyBg6IgaifI/guJYIH0I+T8=",
            "dtype": "f8"
           }
          },
          {
           "label": "7",
           "values": {
            "bdata": "UnVTrFtI/L8MhU8A/xr9vzQp4qRs6eq/vJVhZoAX4T9kCUpQsCjrP9iZL9LPN+k/ChB2fO/89b+YX/ts2oz5vwx1jeCtKfq/YLZa9q1dvD8=",
            "dtype": "f8"
           }
          },
          {
           "label": "8",
           "values": {
            "bdata": "am+rEm5v9z8Uynxik1vmv0jN9OiMrvW/cGtANA9Rwj90gQw06dDwvwyzV5v/6uk/vNQpbAr4778aNLAfdNX+vwBXLw282pa/VllaN7yM/z8=",
            "dtype": "f8"
           }
          },
          {
           "label": "9",
           "values": {
            "bdata": "aF2SZKzi2T8o9BUopX/cv1St/pQqgPs/PP2cQbE4+r/QiiN9TVnmv0CmJ6cx/OG/EAUCxjw0yT/q0A2DpfT5vzRVCBD1UPy/TOD5xepG+78=",
            "dtype": "f8"
           }
          },
          {
           "label": "10",
           "values": {
            "bdata": "CApqSh+i6j/Ma11Xb0TtvzB1XYo+uPM/Zqs0mZh19T9cDt3FB43vP5h+QRuVa+q/5ATtEuF36z+shmIVxGznP5Bkk4PZW8k/oJ2B7MmSyz8=",
            "dtype": "f8"
           }
          },
          {
           "label": "11",
           "values": {
            "bdata": "GHiMX76u/r+YqrEMCQr1P7wasNFfE+E/+Grex63w5r9YH+i7KyfjPxC2W7uSzPM/zC30/liB5D9+FMEqpXH7v+Bo1NC2782/bH2agA0J/j8=",
            "dtype": "f8"
           }
          },
          {
           "label": "12",
           "values": {
            "bdata": "SqfGxQAT/j90UI4w6FXiv5j7pqMCxvc/svluqhQQ9L8mfMQlrVn2Pzi2DNrl2PM/yKTJRSAr7L9catV5zivnvxYJXjQl0Pg/AIxGFfamtz8=",
            "dtype": "f8"
           }
          },
          {
           "label": "13",
           "values": {
            "bdata": "7CeCf71G9T94lkmGVgrsv7JdvwFdb/M/yBQiqfBj/b8k0e3EqCzkP0xh5OQcfvc/pDEiRIMc/T/e8XPlbxL2PwzqtIQ3FeO/0Ax4cyKQ4D8=",
            "dtype": "f8"
           }
          },
          {
           "label": "14",
           "values": {
            "bdata": "tGf+Nwlp8r9w+KnRQtzFP9b8qnQ8D/S/WEFuisJE1z9QfVwxrHzRP9gap4CIcvo/KIeD+mdz7j+iZkZttoL+v2ozQFj5gfi/SD+2BEsO6T8=",
            "dtype": "f8"
           }
          },
          {
           "label": "15",
           "values": {
            "bdata": "ZPMP0Ppc9L9cO6H1GPv2vzz1EMevH/k/eBuG02265j/k8u2LOwH6v4DLUwGvOqc/kBDiW0vUyz8C5xVqQCD0PyDqfmo52fa/gExEwGRGx78=",
            "dtype": "f8"
           }
          },
          {
           "label": "16",
           "values": {
            "bdata": "3GUPuxlD9L94d1IBMlfzP5ARwpSqJMQ/1pBPmjnw/r/klNFFsO7gvwCA7QXN13g/aHtcF7uZ3D8IOxDILuzrvxwashaXvPA/4Jomu9JT4D8=",
            "dtype": "f8"
           }
          },
          {
           "label": "17",
           "values": {
            "bdata": "MKs2FpcO6b8G+t/vjzr7vz4J+ngZrfM/wHU7zz7EqD/AG/5L2Q3uv4DfjalEF/M/CBx5HheV1L/o9XTK/G/4v3BjvfuJQ94/oGFLbJ+V1T8=",
            "dtype": "f8"
           }
          },
          {
           "label": "18",
           "values": {
            "bdata": "YIznAMBZuT9QIGPTJyn/P66y2VKPWfk/nO413ReB8b/M8UdDeWLwv/CSIqEEMuM/fMF46ywl8L9kyZL1ri7pP5rKSsE0h/m/DpXlpZKs+T8=",
            "dtype": "f8"
           }
          },
          {
           "label": "19",
           "values": {
            "bdata": "mBJDHw1s0b+ktyhTdWzxP3ihfYGpS+e/bPCJoQWV4j/GxdQPzkX+P/w5WfYM2uk/KC92vXxv4r/Egvz+MoHgP1xdl3z+nfq/Io+tEGgX/b8=",
            "dtype": "f8"
           }
          },
          {
           "label": "20",
           "values": {
            "bdata": "5IWa5wC56r+s76YFPkjzv1Ss0sXo9Pi/8s55MC7X9L/Am2yQ8l3bv1T5Z2BE7vI/4hj2+IyA8D/qQFBggCj4P0isj0Nbuek/rCep8GUJ7L8=",
            "dtype": "f8"
           }
          },
          {
           "label": "21",
           "values": {
            "bdata": "OKnLLGSi3D8gKuOPhqX/v9iH0aKCafG/eHRc1qVw6D+4sD9vShf5P7rKF/fY9fg/mNRDVS0U/78s6K/WzhbuP1So09TZV/u/WIF2sIrT/D8=",
            "dtype": "f8"
           }
          },
          {
           "label": "22",
           "values": {
            "bdata": "wm2gV4gS97+uOpchhTD0P7i8+18QqdK/wJRuj+n+3L+AR/OGJsngP7jhjh+TvOS/2v5DD0SS+L/emr1HO2zzP9iaIu9amfQ/Cvsn8xT6+D8=",
            "dtype": "f8"
           }
          },
          {
           "label": "23",
           "values": {
            "bdata": "WH9rEAGb6r8YqGErTXrqP54P0ppaWvQ/WqGzVmLz+z/o9cw6MN7yP1jwea3L2d+/oCo/70oO/b/YgTuHSubrv0x+WDIlZuo/oOgqeSi0xr8=",
            "dtype": "f8"
           }
          },
          {
           "label": "24",
           "values": {
            "bdata": "kJFGHA4b4b8Yj6RcG1DtPygxcLo1Fvc/yC+YWtsy978A+ZWUYpqFP0gBfiwz/Pm/vjmCBbNk/b9Gu5yc1KT0v0C15Hsuy/q/KLq9igLB3j8=",
            "dtype": "f8"
           }
          },
          {
           "label": "25",
           "values": {
            "bdata": "IIEzuv59xr+KAdlMflzxP+rIrqYYjv+/CI48FPBX5L9o02cV+a/TP/A8gdUqCtQ/nAnWv92/9j9cVIx0EgrwP1RZItYEkvq/vP1I/cV+7L8=",
            "dtype": "f8"
           }
          },
          {
           "label": "26",
           "values": {
            "bdata": "XHTyrFJA8j+S75Y42kL7v4AVuoiuAqY/RNJTjtm8+L+A1ItFxKWev4DxXy0fs/2/HCfO8nUR6j9WfpssLqPzP3SDplQaJf8/LEHTqtL1878=",
            "dtype": "f8"
           }
          },
          {
           "label": "27",
           "values": {
            "bdata": "xrfwdIs4879EMJWFyx3iv+BFfHCNJNW/rOJUJC4u+z+ilCiOI4Hzv2DME/YincG/QKrN/Sxyur8iatqtb2T/P6yVMALlF+C/YJwmZx+Wwr8=",
            "dtype": "f8"
           }
          },
          {
           "label": "28",
           "values": {
            "bdata": "wAS1+/EmrT+gKa7wmZX4vxrkdVL8yPG/aPeQ9VMm+D8wsvyXT3nsPyB71n6E1cU/MqHkyRW9+b9A9+kbsF7Wv6wL6lHMjuC/MGZUrFrF4r8=",
            "dtype": "f8"
           }
          },
          {
           "label": "29",
           "values": {
            "bdata": "uLjvLnuo1z8G4cwmFj33P1o+2DUgVPi/8NtXzMT77r8gEtm2pg/sv3i6k8KdUuu/wCZuMbIrob/E7v8btmHgvzS75HnoBPQ/QJCCqHxq1T8=",
            "dtype": "f8"
           }
          },
          {
           "label": "30",
           "values": {
            "bdata": "ktce2fQG/b9g5mFOd5DfP9gPGKwGyeS/iJ3Mclt65D9cANpxm3H+v0BviDvZQNc/4EysUzcqu79C9KT8v7DxP+r0Qn+4n/w/ZgMeTWUG+78=",
            "dtype": "f8"
           }
          },
          {
           "label": "31",
           "values": {
            "bdata": "UBTFNQ+I2z9AM3kuIqXlv/ioWPGhWPw/EnvbV15N9D/cmbIQ1p7iPzh8/61IDP6/GllItELq9L9YSiCyjGDkvygwvDSkGv8/lmAUCnxc/j8=",
            "dtype": "f8"
           }
          },
          {
           "label": "32",
           "values": {
            "bdata": "pmBl/CEW9b9ykAj1qO77vxjxf0xJoea/8I8Q4UdDzD8cKQv4N6r0v2x3sFcWnP2/2A01Kxnv0L/2s34sh5H7Pzg/zSJZN/A/vDygqxMe/z8=",
            "dtype": "f8"
           }
          },
          {
           "label": "33",
           "values": {
            "bdata": "WNXk1zHW+78gbUw1uzHov+Dib0fZPbM/oNliobhcvj9EcsIzeTD8P3gWbdJ8pfQ/KE12/pf72b94pegJPPD2P2iUVqlzrd+/uF2E8Fxd6T8=",
            "dtype": "f8"
           }
          },
          {
           "label": "34",
           "values": {
            "bdata": "EqGJZ4q6/D/QYViVZGDmv+gcdnaG/Ok/JKwH+H2F8L8gijxyKg39P0QcaOdF5eG/2GZfHlqo3T8wtj6Kci3Sv8iLJZzsp/q/MKXnETl7wj8=",
            "dtype": "f8"
           }
          },
          {
           "label": "35",
           "values": {
            "bdata": "QJ2BTOrM/T+o9HU5vGPtP5Az9s6VdOG/OtJGsJoK+r9QZRFfI436P64EY5U93ve/xNcvrr9K4T9IVeuFRQ7wP1oeBmvGvPE/hLJrKWZh6L8=",
            "dtype": "f8"
           }
          },
          {
           "label": "36",
           "values": {
            "bdata": "PlUVO8i88z+sQmW0e5vhP8wECHqtMf4/jmJ3pPtr+T8MWAnEo57gv4Cc9+nvxrY/nLDpNb0Z/b9a6OcxbkrwPyAaIG0p580/Tn/StDcV9D8=",
            "dtype": "f8"
           }
          },
          {
           "label": "37",
           "values": {
            "bdata": "LJq+f2oC6b8wbX30F8j4Pyia+Ym8mP0/pKMPD3Og+T/gG2BAwgL/v7AeLAqTR/E/CFDBn7EM4L9Iafoka2b5v6hzCrgvZtO/rNdVZEWl5z8=",
            "dtype": "f8"
           }
          },
          {
           "label": "38",
           "values": {
            "bdata": "JCEndr2/+b+gQPzOsHO8vxDw2wSZxe+/vPEE83cJ4T9qYKVCkmn7Pw4qRwD9L/K/6Frvfi0c4D96TUZEbcP5P3BbpNK1Afo/pDzvHq+X9b8=",
            "dtype": "f8"
           }
          },
          {
           "label": "39",
           "values": {
            "bdata": "hD3bo/KU5z8E7zlgkVj4vwCKoiZNioa/NL6J+6ua5L/gv08OhmLSv4jqoQ7Add8/AJkQATaxiT+ARD3+goOVPx4+hvQj4vi/8A6ciKFM+j8=",
            "dtype": "f8"
           }
          },
          {
           "label": "40",
           "values": {
            "bdata": "IGlFFFWkzr+oJpXtmkvrP5xvoc3RfOm/mFXLxBlN478SDpQsrN39P2iJQ8mqifq/HqVQxLrQ9j8W8B3breT0PwBfHX4jNZ6/jDWGP3Ok9D8=",
            "dtype": "f8"
           }
          },
          {
           "label": "41",
           "values": {
            "bdata": "FLoei4Yw+L8gGsbFs7DwP0hBCcBYiuu/jOyLnR3s7D8UuNcf86v9P+LocSY/sfy//IPxqhJQ5D/o4jxbnQjnv2olwlz7Rf+/2kZVk4XJ/D8=",
            "dtype": "f8"
           }
          },
          {
           "label": "42",
           "values": {
            "bdata": "AHpnVWDBk79wYBqPuV/PP+yh3e2ko/2/jMDZJkFq+T8iT5r4tJf2P1CfU9q2DcA/oLwSe3uS9b/gxMyoQFD5P3D8bFu2C8C/LHFMeWDk7D8=",
            "dtype": "f8"
           }
          },
          {
           "label": "43",
           "values": {
            "bdata": "APOcFpTM/b+MbQy6hlfxPwBuQH9oDNw/wG48IwbG+D903Rurf0/qv9DOxGwgzsQ/9uhyOM17+7842UleR13cv0x8EvKGZfy/8ORpPccI3T8=",
            "dtype": "f8"
           }
          },
          {
           "label": "44",
           "values": {
            "bdata": "YuQgM04y+j8ASkzryWmZvwDj5qRR8oU/NCcaH3vp8T+QDuQ5PGrdv7ixNpJNl+E/kKcbf8s64j806FSYb07/v/LI3IlJZfi/ACBaPQbu1L8=",
            "dtype": "f8"
           }
          },
          {
           "label": "45",
           "values": {
            "bdata": "oI8VLUzg7r9gAPdaRke3P+ZPvHeStPy/JGedzRcu4j8k1iXyBXn2P6i5H5KP8Ow/AvoPgaNN/r/88sY+x/H5P+bsajFzevi/GGcDz9Kx+z8=",
            "dtype": "f8"
           }
          },
          {
           "label": "46",
           "values": {
            "bdata": "2PUVvIfN5D8YlXP8q4zSv5SWegpQVey/ztGDaHOd+r8sSzyIGW/nv4qcwUdcdP4/EGtddGP11T94JyntWyj6v3hK6LtSGeM/5qZpPJdt9z8=",
            "dtype": "f8"
           }
          },
          {
           "label": "47",
           "values": {
            "bdata": "xI8y+dkZ6L8mPXx0iF/+v8wmEz0HIfo/VJ+3CeCn9b/AvATlByf1vyDad9sJsbA/Glhodrss/D+Q8bAQuyDnv5iJ5Qpmfu8/YGuuJiMb/b8=",
            "dtype": "f8"
           }
          },
          {
           "label": "48",
           "values": {
            "bdata": "ANWdGraMtD8M4WKOThj5v07qjZoEq/C/ghZabemB+T/wn0IZDhXNP5jJV79cqea/8FyrlUZS0z9WBmq10M38PyinmcenV9U/4r+15ABQ/r8=",
            "dtype": "f8"
           }
          },
          {
           "label": "49",
           "values": {
            "bdata": "wDNV5Gjqxz/medVwEP39v2ClwNsKuva/GPyUUu8+2z/Q8sC29en7PwLJMKNU5PI/MPqmTeWg3L/wM9xbv9b8Pw6oMys8lP0/2OEdxxig378=",
            "dtype": "f8"
           }
          },
          {
           "label": "50",
           "values": {
            "bdata": "0t6/N1gr9L/MHZt35XXhP0AVXo3KmaW/npAFxVBp/79UWeEegRfpP5BMEGleVe2/YFYOskRX4j+43cZP08zSP6RHW6g9BOC/RMzXExvg8z8=",
            "dtype": "f8"
           }
          },
          {
           "label": "51",
           "values": {
            "bdata": "zP+8rqwN/j/E0vzmLsPnvzZTbKTlFP8/Upt6gH2B+b9Q2UBih+/RPwCbYVAjP8+/IDsVjOBfxb8IIlWxCuDgPyh6rE7Jbeu/pt3hN4gv/z8=",
            "dtype": "f8"
           }
          },
          {
           "label": "52",
           "values": {
            "bdata": "sBiZs8ab8T+AVw2ygo2hPzooQpsqgvC/iCCUP6Dt5D9uIlQ+3Mf5v9Y8/hWS+vq/YFuFdBVbxz/whCE6WWXKvxwaOswgl/c/SHD81JFf9r8=",
            "dtype": "f8"
           }
          },
          {
           "label": "volatility",
           "values": {
            "bdata": "k5UWeh298j/RHNRkgOzyPz+S/+OaVfM/DBHpyhSW8j/P/NnUxsLyPzHAi8nGsPE/qM4vFi5f8T+47gXcqYr0P0gd7OytvvM/33gEZBRn9D8=",
            "dtype": "f8"
           }
          },
          {
           "label": "adopt_b",
           "values": [
            "Yes",
            "No",
            "Yes",
            "Yes",
            "No",
            "Yes",
            "Yes",
            "Yes",
            "Yes",
            "Yes"
           ]
          }
         ],
         "domain": {
          "x": [
           0,
           1
          ],
          "y": [
           0,
           1
          ]
         },
         "name": "",
         "type": "parcats"
        }
       ],
       "layout": {
        "font": {
         "family": "Courier New",
         "size": 8
        },
        "height": 300,
        "legend": {
         "tracegroupgap": 0
        },
        "margin": {
         "b": 80,
         "l": 40,
         "r": 40,
         "t": 40
        },
        "paper_bgcolor": "white",
        "plot_bgcolor": "white",
        "template": {
         "data": {
          "bar": [
           {
            "error_x": {
             "color": "#2a3f5f"
            },
            "error_y": {
             "color": "#2a3f5f"
            },
            "marker": {
             "line": {
              "color": "#E5ECF6",
              "width": 0.5
             },
             "pattern": {
              "fillmode": "overlay",
              "size": 10,
              "solidity": 0.2
             }
            },
            "type": "bar"
           }
          ],
          "barpolar": [
           {
            "marker": {
             "line": {
              "color": "#E5ECF6",
              "width": 0.5
             },
             "pattern": {
              "fillmode": "overlay",
              "size": 10,
              "solidity": 0.2
             }
            },
            "type": "barpolar"
           }
          ],
          "carpet": [
           {
            "aaxis": {
             "endlinecolor": "#2a3f5f",
             "gridcolor": "white",
             "linecolor": "white",
             "minorgridcolor": "white",
             "startlinecolor": "#2a3f5f"
            },
            "baxis": {
             "endlinecolor": "#2a3f5f",
             "gridcolor": "white",
             "linecolor": "white",
             "minorgridcolor": "white",
             "startlinecolor": "#2a3f5f"
            },
            "type": "carpet"
           }
          ],
          "choropleth": [
           {
            "colorbar": {
             "outlinewidth": 0,
             "ticks": ""
            },
            "type": "choropleth"
           }
          ],
          "contour": [
           {
            "colorbar": {
             "outlinewidth": 0,
             "ticks": ""
            },
            "colorscale": [
             [
              0,
              "#0d0887"
             ],
             [
              0.1111111111111111,
              "#46039f"
             ],
             [
              0.2222222222222222,
              "#7201a8"
             ],
             [
              0.3333333333333333,
              "#9c179e"
             ],
             [
              0.4444444444444444,
              "#bd3786"
             ],
             [
              0.5555555555555556,
              "#d8576b"
             ],
             [
              0.6666666666666666,
              "#ed7953"
             ],
             [
              0.7777777777777778,
              "#fb9f3a"
             ],
             [
              0.8888888888888888,
              "#fdca26"
             ],
             [
              1,
              "#f0f921"
             ]
            ],
            "type": "contour"
           }
          ],
          "contourcarpet": [
           {
            "colorbar": {
             "outlinewidth": 0,
             "ticks": ""
            },
            "type": "contourcarpet"
           }
          ],
          "heatmap": [
           {
            "colorbar": {
             "outlinewidth": 0,
             "ticks": ""
            },
            "colorscale": [
             [
              0,
              "#0d0887"
             ],
             [
              0.1111111111111111,
              "#46039f"
             ],
             [
              0.2222222222222222,
              "#7201a8"
             ],
             [
              0.3333333333333333,
              "#9c179e"
             ],
             [
              0.4444444444444444,
              "#bd3786"
             ],
             [
              0.5555555555555556,
              "#d8576b"
             ],
             [
              0.6666666666666666,
              "#ed7953"
             ],
             [
              0.7777777777777778,
              "#fb9f3a"
             ],
             [
              0.8888888888888888,
              "#fdca26"
             ],
             [
              1,
              "#f0f921"
             ]
            ],
            "type": "heatmap"
           }
          ],
          "histogram": [
           {
            "marker": {
             "pattern": {
              "fillmode": "overlay",
              "size": 10,
              "solidity": 0.2
             }
            },
            "type": "histogram"
           }
          ],
          "histogram2d": [
           {
            "colorbar": {
             "outlinewidth": 0,
             "ticks": ""
            },
            "colorscale": [
             [
              0,
              "#0d0887"
             ],
             [
              0.1111111111111111,
              "#46039f"
             ],
             [
              0.2222222222222222,
              "#7201a8"
             ],
             [
              0.3333333333333333,
              "#9c179e"
             ],
             [
              0.4444444444444444,
              "#bd3786"
             ],
             [
              0.5555555555555556,
              "#d8576b"
             ],
             [
              0.6666666666666666,
              "#ed7953"
             ],
             [
              0.7777777777777778,
              "#fb9f3a"
             ],
             [
              0.8888888888888888,
              "#fdca26"
             ],
             [
              1,
              "#f0f921"
             ]
            ],
            "type": "histogram2d"
           }
          ],
          "histogram2dcontour": [
           {
            "colorbar": {
             "outlinewidth": 0,
             "ticks": ""
            },
            "colorscale": [
             [
              0,
              "#0d0887"
             ],
             [
              0.1111111111111111,
              "#46039f"
             ],
             [
              0.2222222222222222,
              "#7201a8"
             ],
             [
              0.3333333333333333,
              "#9c179e"
             ],
             [
              0.4444444444444444,
              "#bd3786"
             ],
             [
              0.5555555555555556,
              "#d8576b"
             ],
             [
              0.6666666666666666,
              "#ed7953"
             ],
             [
              0.7777777777777778,
              "#fb9f3a"
             ],
             [
              0.8888888888888888,
              "#fdca26"
             ],
             [
              1,
              "#f0f921"
             ]
            ],
            "type": "histogram2dcontour"
           }
          ],
          "mesh3d": [
           {
            "colorbar": {
             "outlinewidth": 0,
             "ticks": ""
            },
            "type": "mesh3d"
           }
          ],
          "parcoords": [
           {
            "line": {
             "colorbar": {
              "outlinewidth": 0,
              "ticks": ""
             }
            },
            "type": "parcoords"
           }
          ],
          "pie": [
           {
            "automargin": true,
            "type": "pie"
           }
          ],
          "scatter": [
           {
            "fillpattern": {
             "fillmode": "overlay",
             "size": 10,
             "solidity": 0.2
            },
            "type": "scatter"
           }
          ],
          "scatter3d": [
           {
            "line": {
             "colorbar": {
              "outlinewidth": 0,
              "ticks": ""
             }
            },
            "marker": {
             "colorbar": {
              "outlinewidth": 0,
              "ticks": ""
             }
            },
            "type": "scatter3d"
           }
          ],
          "scattercarpet": [
           {
            "marker": {
             "colorbar": {
              "outlinewidth": 0,
              "ticks": ""
             }
            },
            "type": "scattercarpet"
           }
          ],
          "scattergeo": [
           {
            "marker": {
             "colorbar": {
              "outlinewidth": 0,
              "ticks": ""
             }
            },
            "type": "scattergeo"
           }
          ],
          "scattergl": [
           {
            "marker": {
             "colorbar": {
              "outlinewidth": 0,
              "ticks": ""
             }
            },
            "type": "scattergl"
           }
          ],
          "scattermap": [
           {
            "marker": {
             "colorbar": {
              "outlinewidth": 0,
              "ticks": ""
             }
            },
            "type": "scattermap"
           }
          ],
          "scattermapbox": [
           {
            "marker": {
             "colorbar": {
              "outlinewidth": 0,
              "ticks": ""
             }
            },
            "type": "scattermapbox"
           }
          ],
          "scatterpolar": [
           {
            "marker": {
             "colorbar": {
              "outlinewidth": 0,
              "ticks": ""
             }
            },
            "type": "scatterpolar"
           }
          ],
          "scatterpolargl": [
           {
            "marker": {
             "colorbar": {
              "outlinewidth": 0,
              "ticks": ""
             }
            },
            "type": "scatterpolargl"
           }
          ],
          "scatterternary": [
           {
            "marker": {
             "colorbar": {
              "outlinewidth": 0,
              "ticks": ""
             }
            },
            "type": "scatterternary"
           }
          ],
          "surface": [
           {
            "colorbar": {
             "outlinewidth": 0,
             "ticks": ""
            },
            "colorscale": [
             [
              0,
              "#0d0887"
             ],
             [
              0.1111111111111111,
              "#46039f"
             ],
             [
              0.2222222222222222,
              "#7201a8"
             ],
             [
              0.3333333333333333,
              "#9c179e"
             ],
             [
              0.4444444444444444,
              "#bd3786"
             ],
             [
              0.5555555555555556,
              "#d8576b"
             ],
             [
              0.6666666666666666,
              "#ed7953"
             ],
             [
              0.7777777777777778,
              "#fb9f3a"
             ],
             [
              0.8888888888888888,
              "#fdca26"
             ],
             [
              1,
              "#f0f921"
             ]
            ],
            "type": "surface"
           }
          ],
          "table": [
           {
            "cells": {
             "fill": {
              "color": "#EBF0F8"
             },
             "line": {
              "color": "white"
             }
            },
            "header": {
             "fill": {
              "color": "#C8D4E3"
             },
             "line": {
              "color": "white"
             }
            },
            "type": "table"
           }
          ]
         },
         "layout": {
          "annotationdefaults": {
           "arrowcolor": "#2a3f5f",
           "arrowhead": 0,
           "arrowwidth": 1
          },
          "autotypenumbers": "strict",
          "coloraxis": {
           "colorbar": {
            "outlinewidth": 0,
            "ticks": ""
           }
          },
          "colorscale": {
           "diverging": [
            [
             0,
             "#8e0152"
            ],
            [
             0.1,
             "#c51b7d"
            ],
            [
             0.2,
             "#de77ae"
            ],
            [
             0.3,
             "#f1b6da"
            ],
            [
             0.4,
             "#fde0ef"
            ],
            [
             0.5,
             "#f7f7f7"
            ],
            [
             0.6,
             "#e6f5d0"
            ],
            [
             0.7,
             "#b8e186"
            ],
            [
             0.8,
             "#7fbc41"
            ],
            [
             0.9,
             "#4d9221"
            ],
            [
             1,
             "#276419"
            ]
           ],
           "sequential": [
            [
             0,
             "#0d0887"
            ],
            [
             0.1111111111111111,
             "#46039f"
            ],
            [
             0.2222222222222222,
             "#7201a8"
            ],
            [
             0.3333333333333333,
             "#9c179e"
            ],
            [
             0.4444444444444444,
             "#bd3786"
            ],
            [
             0.5555555555555556,
             "#d8576b"
            ],
            [
             0.6666666666666666,
             "#ed7953"
            ],
            [
             0.7777777777777778,
             "#fb9f3a"
            ],
            [
             0.8888888888888888,
             "#fdca26"
            ],
            [
             1,
             "#f0f921"
            ]
           ],
           "sequentialminus": [
            [
             0,
             "#0d0887"
            ],
            [
             0.1111111111111111,
             "#46039f"
            ],
            [
             0.2222222222222222,
             "#7201a8"
            ],
            [
             0.3333333333333333,
             "#9c179e"
            ],
            [
             0.4444444444444444,
             "#bd3786"
            ],
            [
             0.5555555555555556,
             "#d8576b"
            ],
            [
             0.6666666666666666,
             "#ed7953"
            ],
            [
             0.7777777777777778,
             "#fb9f3a"
            ],
            [
             0.8888888888888888,
             "#fdca26"
            ],
            [
             1,
             "#f0f921"
            ]
           ]
          },
          "colorway": [
           "#636efa",
           "#EF553B",
           "#00cc96",
           "#ab63fa",
           "#FFA15A",
           "#19d3f3",
           "#FF6692",
           "#B6E880",
           "#FF97FF",
           "#FECB52"
          ],
          "font": {
           "color": "#2a3f5f"
          },
          "geo": {
           "bgcolor": "white",
           "lakecolor": "white",
           "landcolor": "#E5ECF6",
           "showlakes": true,
           "showland": true,
           "subunitcolor": "white"
          },
          "hoverlabel": {
           "align": "left"
          },
          "hovermode": "closest",
          "mapbox": {
           "style": "light"
          },
          "paper_bgcolor": "white",
          "plot_bgcolor": "#E5ECF6",
          "polar": {
           "angularaxis": {
            "gridcolor": "white",
            "linecolor": "white",
            "ticks": ""
           },
           "bgcolor": "#E5ECF6",
           "radialaxis": {
            "gridcolor": "white",
            "linecolor": "white",
            "ticks": ""
           }
          },
          "scene": {
           "xaxis": {
            "backgroundcolor": "#E5ECF6",
            "gridcolor": "white",
            "gridwidth": 2,
            "linecolor": "white",
            "showbackground": true,
            "ticks": "",
            "zerolinecolor": "white"
           },
           "yaxis": {
            "backgroundcolor": "#E5ECF6",
            "gridcolor": "white",
            "gridwidth": 2,
            "linecolor": "white",
            "showbackground": true,
            "ticks": "",
            "zerolinecolor": "white"
           },
           "zaxis": {
            "backgroundcolor": "#E5ECF6",
            "gridcolor": "white",
            "gridwidth": 2,
            "linecolor": "white",
            "showbackground": true,
            "ticks": "",
            "zerolinecolor": "white"
           }
          },
          "shapedefaults": {
           "line": {
            "color": "#2a3f5f"
           }
          },
          "ternary": {
           "aaxis": {
            "gridcolor": "white",
            "linecolor": "white",
            "ticks": ""
           },
           "baxis": {
            "gridcolor": "white",
            "linecolor": "white",
            "ticks": ""
           },
           "bgcolor": "#E5ECF6",
           "caxis": {
            "gridcolor": "white",
            "linecolor": "white",
            "ticks": ""
           }
          },
          "title": {
           "x": 0.05
          },
          "xaxis": {
           "automargin": true,
           "gridcolor": "white",
           "linecolor": "white",
           "ticks": "",
           "title": {
            "standoff": 15
           },
           "zerolinecolor": "white",
           "zerolinewidth": 2
          },
          "yaxis": {
           "automargin": true,
           "gridcolor": "white",
           "linecolor": "white",
           "ticks": "",
           "title": {
            "standoff": 15
           },
           "zerolinecolor": "white",
           "zerolinewidth": 2
          }
         }
        },
        "title": {
         "text": "Stocking Change and Volatility Heatmap (Top 10 Accounts)"
        },
        "width": 1200
       }
      }
     },
     "metadata": {},
     "output_type": "display_data"
    },
    {
     "data": {
      "application/vnd.plotly.v1+json": {
       "config": {
        "plotlyServerURL": "https://plot.ly"
       },
       "data": [
        {
         "dimensions": [
          {
           "label": "account_id",
           "values": [
            "acct1",
            "acct2",
            "acct3",
            "acct4",
            "acct5",
            "acct6",
            "acct7",
            "acct8",
            "acct9",
            "acct10"
           ]
          },
          {
           "label": "1",
           "values": {
            "bdata": "KFxBwxEP4L+GRCkrwCD8P85ZHbGRFfo/2CxLoYkI5j+kh7otEq3/v/ABehUdcd0/EnyGRqdg/r+o7AGd9UD8P+hmXMYReOq/XmKCFJuw8b8=",
            "dtype": "f8"
           }
          },
          {
           "label": "2",
           "values": {
            "bdata": "qKx30YDY/D8ezGnv2UT5PzonKpuYC/C/ZA31MmC+8D9mnY4lUrX1vzSC3tIKXf8/uKClGAic/T84EL+lYCjdv0gIJPdR7uW/QLhqJnCl/T8=",
            "dtype": "f8"
           }
          },
          {
           "label": "3",
           "values": {
            "bdata": "RJ15PPqx7T/oz0UX+Q/ZPzCfuQ4l8da/dA4Q5ovK8L+wSxSfovPIPw559w3dCPe/IjBtw7KA9T+kPTZtJYT9P1xVZ7MVFeY/bEItcNw4/78=",
            "dtype": "f8"
           }
          },
          {
           "label": "4",
           "values": {
            "bdata": "gGUZs65B2T9owZzK/P/6P5DenynzWvA/EKnZfDE27T/IviyXBZDoP+AUzCUCxbI/eBgEy64V6T8gSqfRQ/H5P3DOkX/nJvA/xLJypH4S/j8=",
            "dtype": "f8"
           }
          },
          {
           "label": "5",
           "values": {
            "bdata": "Pu9uZMoD9r8Su2+LI1b6vzAJdfBeW/G/DKZ5eHvs4L84TOlvd3PjP36VlGLhJvg/MEcjHtxO17947c51KHjzvyQYQCY7qfI/aCNrNd48/b8=",
            "dtype": "f8"
           }
          },
          {
           "label": "6",
           "values": {
            "bdata": "WkAzjy8E9r/aVNVLBHXzvwaGNdvCEvu/5Bm8v2Xv4D+CtJdWkqXxv8QmlI2B0e4/bqSt8L7o9L+AhUielY/7vyBg6IgaifI/guJYIH0I+T8=",
            "dtype": "f8"
           }
          },
          {
           "label": "7",
           "values": {
            "bdata": "UnVTrFtI/L8MhU8A/xr9vzQp4qRs6eq/vJVhZoAX4T9kCUpQsCjrP9iZL9LPN+k/ChB2fO/89b+YX/ts2oz5vwx1jeCtKfq/YLZa9q1dvD8=",
            "dtype": "f8"
           }
          },
          {
           "label": "8",
           "values": {
            "bdata": "am+rEm5v9z8Uynxik1vmv0jN9OiMrvW/cGtANA9Rwj90gQw06dDwvwyzV5v/6uk/vNQpbAr4778aNLAfdNX+vwBXLw282pa/VllaN7yM/z8=",
            "dtype": "f8"
           }
          },
          {
           "label": "9",
           "values": {
            "bdata": "aF2SZKzi2T8o9BUopX/cv1St/pQqgPs/PP2cQbE4+r/QiiN9TVnmv0CmJ6cx/OG/EAUCxjw0yT/q0A2DpfT5vzRVCBD1UPy/TOD5xepG+78=",
            "dtype": "f8"
           }
          },
          {
           "label": "10",
           "values": {
            "bdata": "CApqSh+i6j/Ma11Xb0TtvzB1XYo+uPM/Zqs0mZh19T9cDt3FB43vP5h+QRuVa+q/5ATtEuF36z+shmIVxGznP5Bkk4PZW8k/oJ2B7MmSyz8=",
            "dtype": "f8"
           }
          },
          {
           "label": "11",
           "values": {
            "bdata": "GHiMX76u/r+YqrEMCQr1P7wasNFfE+E/+Grex63w5r9YH+i7KyfjPxC2W7uSzPM/zC30/liB5D9+FMEqpXH7v+Bo1NC2782/bH2agA0J/j8=",
            "dtype": "f8"
           }
          },
          {
           "label": "12",
           "values": {
            "bdata": "SqfGxQAT/j90UI4w6FXiv5j7pqMCxvc/svluqhQQ9L8mfMQlrVn2Pzi2DNrl2PM/yKTJRSAr7L9catV5zivnvxYJXjQl0Pg/AIxGFfamtz8=",
            "dtype": "f8"
           }
          },
          {
           "label": "13",
           "values": {
            "bdata": "7CeCf71G9T94lkmGVgrsv7JdvwFdb/M/yBQiqfBj/b8k0e3EqCzkP0xh5OQcfvc/pDEiRIMc/T/e8XPlbxL2PwzqtIQ3FeO/0Ax4cyKQ4D8=",
            "dtype": "f8"
           }
          },
          {
           "label": "14",
           "values": {
            "bdata": "tGf+Nwlp8r9w+KnRQtzFP9b8qnQ8D/S/WEFuisJE1z9QfVwxrHzRP9gap4CIcvo/KIeD+mdz7j+iZkZttoL+v2ozQFj5gfi/SD+2BEsO6T8=",
            "dtype": "f8"
           }
          },
          {
           "label": "15",
           "values": {
            "bdata": "ZPMP0Ppc9L9cO6H1GPv2vzz1EMevH/k/eBuG02265j/k8u2LOwH6v4DLUwGvOqc/kBDiW0vUyz8C5xVqQCD0PyDqfmo52fa/gExEwGRGx78=",
            "dtype": "f8"
           }
          },
          {
           "label": "16",
           "values": {
            "bdata": "3GUPuxlD9L94d1IBMlfzP5ARwpSqJMQ/1pBPmjnw/r/klNFFsO7gvwCA7QXN13g/aHtcF7uZ3D8IOxDILuzrvxwashaXvPA/4Jomu9JT4D8=",
            "dtype": "f8"
           }
          },
          {
           "label": "17",
           "values": {
            "bdata": "MKs2FpcO6b8G+t/vjzr7vz4J+ngZrfM/wHU7zz7EqD/AG/5L2Q3uv4DfjalEF/M/CBx5HheV1L/o9XTK/G/4v3BjvfuJQ94/oGFLbJ+V1T8=",
            "dtype": "f8"
           }
          },
          {
           "label": "18",
           "values": {
            "bdata": "YIznAMBZuT9QIGPTJyn/P66y2VKPWfk/nO413ReB8b/M8UdDeWLwv/CSIqEEMuM/fMF46ywl8L9kyZL1ri7pP5rKSsE0h/m/DpXlpZKs+T8=",
            "dtype": "f8"
           }
          },
          {
           "label": "19",
           "values": {
            "bdata": "mBJDHw1s0b+ktyhTdWzxP3ihfYGpS+e/bPCJoQWV4j/GxdQPzkX+P/w5WfYM2uk/KC92vXxv4r/Egvz+MoHgP1xdl3z+nfq/Io+tEGgX/b8=",
            "dtype": "f8"
           }
          },
          {
           "label": "20",
           "values": {
            "bdata": "5IWa5wC56r+s76YFPkjzv1Ss0sXo9Pi/8s55MC7X9L/Am2yQ8l3bv1T5Z2BE7vI/4hj2+IyA8D/qQFBggCj4P0isj0Nbuek/rCep8GUJ7L8=",
            "dtype": "f8"
           }
          },
          {
           "label": "21",
           "values": {
            "bdata": "OKnLLGSi3D8gKuOPhqX/v9iH0aKCafG/eHRc1qVw6D+4sD9vShf5P7rKF/fY9fg/mNRDVS0U/78s6K/WzhbuP1So09TZV/u/WIF2sIrT/D8=",
            "dtype": "f8"
           }
          },
          {
           "label": "22",
           "values": {
            "bdata": "wm2gV4gS97+uOpchhTD0P7i8+18QqdK/wJRuj+n+3L+AR/OGJsngP7jhjh+TvOS/2v5DD0SS+L/emr1HO2zzP9iaIu9amfQ/Cvsn8xT6+D8=",
            "dtype": "f8"
           }
          },
          {
           "label": "23",
           "values": {
            "bdata": "WH9rEAGb6r8YqGErTXrqP54P0ppaWvQ/WqGzVmLz+z/o9cw6MN7yP1jwea3L2d+/oCo/70oO/b/YgTuHSubrv0x+WDIlZuo/oOgqeSi0xr8=",
            "dtype": "f8"
           }
          },
          {
           "label": "24",
           "values": {
            "bdata": "kJFGHA4b4b8Yj6RcG1DtPygxcLo1Fvc/yC+YWtsy978A+ZWUYpqFP0gBfiwz/Pm/vjmCBbNk/b9Gu5yc1KT0v0C15Hsuy/q/KLq9igLB3j8=",
            "dtype": "f8"
           }
          },
          {
           "label": "25",
           "values": {
            "bdata": "IIEzuv59xr+KAdlMflzxP+rIrqYYjv+/CI48FPBX5L9o02cV+a/TP/A8gdUqCtQ/nAnWv92/9j9cVIx0EgrwP1RZItYEkvq/vP1I/cV+7L8=",
            "dtype": "f8"
           }
          },
          {
           "label": "26",
           "values": {
            "bdata": "XHTyrFJA8j+S75Y42kL7v4AVuoiuAqY/RNJTjtm8+L+A1ItFxKWev4DxXy0fs/2/HCfO8nUR6j9WfpssLqPzP3SDplQaJf8/LEHTqtL1878=",
            "dtype": "f8"
           }
          },
          {
           "label": "27",
           "values": {
            "bdata": "xrfwdIs4879EMJWFyx3iv+BFfHCNJNW/rOJUJC4u+z+ilCiOI4Hzv2DME/YincG/QKrN/Sxyur8iatqtb2T/P6yVMALlF+C/YJwmZx+Wwr8=",
            "dtype": "f8"
           }
          },
          {
           "label": "28",
           "values": {
            "bdata": "wAS1+/EmrT+gKa7wmZX4vxrkdVL8yPG/aPeQ9VMm+D8wsvyXT3nsPyB71n6E1cU/MqHkyRW9+b9A9+kbsF7Wv6wL6lHMjuC/MGZUrFrF4r8=",
            "dtype": "f8"
           }
          },
          {
           "label": "29",
           "values": {
            "bdata": "uLjvLnuo1z8G4cwmFj33P1o+2DUgVPi/8NtXzMT77r8gEtm2pg/sv3i6k8KdUuu/wCZuMbIrob/E7v8btmHgvzS75HnoBPQ/QJCCqHxq1T8=",
            "dtype": "f8"
           }
          },
          {
           "label": "30",
           "values": {
            "bdata": "ktce2fQG/b9g5mFOd5DfP9gPGKwGyeS/iJ3Mclt65D9cANpxm3H+v0BviDvZQNc/4EysUzcqu79C9KT8v7DxP+r0Qn+4n/w/ZgMeTWUG+78=",
            "dtype": "f8"
           }
          },
          {
           "label": "31",
           "values": {
            "bdata": "UBTFNQ+I2z9AM3kuIqXlv/ioWPGhWPw/EnvbV15N9D/cmbIQ1p7iPzh8/61IDP6/GllItELq9L9YSiCyjGDkvygwvDSkGv8/lmAUCnxc/j8=",
            "dtype": "f8"
           }
          },
          {
           "label": "32",
           "values": {
            "bdata": "pmBl/CEW9b9ykAj1qO77vxjxf0xJoea/8I8Q4UdDzD8cKQv4N6r0v2x3sFcWnP2/2A01Kxnv0L/2s34sh5H7Pzg/zSJZN/A/vDygqxMe/z8=",
            "dtype": "f8"
           }
          },
          {
           "label": "33",
           "values": {
            "bdata": "WNXk1zHW+78gbUw1uzHov+Dib0fZPbM/oNliobhcvj9EcsIzeTD8P3gWbdJ8pfQ/KE12/pf72b94pegJPPD2P2iUVqlzrd+/uF2E8Fxd6T8=",
            "dtype": "f8"
           }
          },
          {
           "label": "34",
           "values": {
            "bdata": "EqGJZ4q6/D/QYViVZGDmv+gcdnaG/Ok/JKwH+H2F8L8gijxyKg39P0QcaOdF5eG/2GZfHlqo3T8wtj6Kci3Sv8iLJZzsp/q/MKXnETl7wj8=",
            "dtype": "f8"
           }
          },
          {
           "label": "35",
           "values": {
            "bdata": "QJ2BTOrM/T+o9HU5vGPtP5Az9s6VdOG/OtJGsJoK+r9QZRFfI436P64EY5U93ve/xNcvrr9K4T9IVeuFRQ7wP1oeBmvGvPE/hLJrKWZh6L8=",
            "dtype": "f8"
           }
          },
          {
           "label": "36",
           "values": {
            "bdata": "PlUVO8i88z+sQmW0e5vhP8wECHqtMf4/jmJ3pPtr+T8MWAnEo57gv4Cc9+nvxrY/nLDpNb0Z/b9a6OcxbkrwPyAaIG0p580/Tn/StDcV9D8=",
            "dtype": "f8"
           }
          },
          {
           "label": "37",
           "values": {
            "bdata": "LJq+f2oC6b8wbX30F8j4Pyia+Ym8mP0/pKMPD3Og+T/gG2BAwgL/v7AeLAqTR/E/CFDBn7EM4L9Iafoka2b5v6hzCrgvZtO/rNdVZEWl5z8=",
            "dtype": "f8"
           }
          },
          {
           "label": "38",
           "values": {
            "bdata": "JCEndr2/+b+gQPzOsHO8vxDw2wSZxe+/vPEE83cJ4T9qYKVCkmn7Pw4qRwD9L/K/6Frvfi0c4D96TUZEbcP5P3BbpNK1Afo/pDzvHq+X9b8=",
            "dtype": "f8"
           }
          },
          {
           "label": "39",
           "values": {
            "bdata": "hD3bo/KU5z8E7zlgkVj4vwCKoiZNioa/NL6J+6ua5L/gv08OhmLSv4jqoQ7Add8/AJkQATaxiT+ARD3+goOVPx4+hvQj4vi/8A6ciKFM+j8=",
            "dtype": "f8"
           }
          },
          {
           "label": "40",
           "values": {
            "bdata": "IGlFFFWkzr+oJpXtmkvrP5xvoc3RfOm/mFXLxBlN478SDpQsrN39P2iJQ8mqifq/HqVQxLrQ9j8W8B3breT0PwBfHX4jNZ6/jDWGP3Ok9D8=",
            "dtype": "f8"
           }
          },
          {
           "label": "41",
           "values": {
            "bdata": "FLoei4Yw+L8gGsbFs7DwP0hBCcBYiuu/jOyLnR3s7D8UuNcf86v9P+LocSY/sfy//IPxqhJQ5D/o4jxbnQjnv2olwlz7Rf+/2kZVk4XJ/D8=",
            "dtype": "f8"
           }
          },
          {
           "label": "42",
           "values": {
            "bdata": "AHpnVWDBk79wYBqPuV/PP+yh3e2ko/2/jMDZJkFq+T8iT5r4tJf2P1CfU9q2DcA/oLwSe3uS9b/gxMyoQFD5P3D8bFu2C8C/LHFMeWDk7D8=",
            "dtype": "f8"
           }
          },
          {
           "label": "43",
           "values": {
            "bdata": "APOcFpTM/b+MbQy6hlfxPwBuQH9oDNw/wG48IwbG+D903Rurf0/qv9DOxGwgzsQ/9uhyOM17+7842UleR13cv0x8EvKGZfy/8ORpPccI3T8=",
            "dtype": "f8"
           }
          },
          {
           "label": "44",
           "values": {
            "bdata": "YuQgM04y+j8ASkzryWmZvwDj5qRR8oU/NCcaH3vp8T+QDuQ5PGrdv7ixNpJNl+E/kKcbf8s64j806FSYb07/v/LI3IlJZfi/ACBaPQbu1L8=",
            "dtype": "f8"
           }
          },
          {
           "label": "45",
           "values": {
            "bdata": "oI8VLUzg7r9gAPdaRke3P+ZPvHeStPy/JGedzRcu4j8k1iXyBXn2P6i5H5KP8Ow/AvoPgaNN/r/88sY+x/H5P+bsajFzevi/GGcDz9Kx+z8=",
            "dtype": "f8"
           }
          },
          {
           "label": "46",
           "values": {
            "bdata": "2PUVvIfN5D8YlXP8q4zSv5SWegpQVey/ztGDaHOd+r8sSzyIGW/nv4qcwUdcdP4/EGtddGP11T94JyntWyj6v3hK6LtSGeM/5qZpPJdt9z8=",
            "dtype": "f8"
           }
          },
          {
           "label": "47",
           "values": {
            "bdata": "xI8y+dkZ6L8mPXx0iF/+v8wmEz0HIfo/VJ+3CeCn9b/AvATlByf1vyDad9sJsbA/Glhodrss/D+Q8bAQuyDnv5iJ5Qpmfu8/YGuuJiMb/b8=",
            "dtype": "f8"
           }
          },
          {
           "label": "48",
           "values": {
            "bdata": "ANWdGraMtD8M4WKOThj5v07qjZoEq/C/ghZabemB+T/wn0IZDhXNP5jJV79cqea/8FyrlUZS0z9WBmq10M38PyinmcenV9U/4r+15ABQ/r8=",
            "dtype": "f8"
           }
          },
          {
           "label": "49",
           "values": {
            "bdata": "wDNV5Gjqxz/medVwEP39v2ClwNsKuva/GPyUUu8+2z/Q8sC29en7PwLJMKNU5PI/MPqmTeWg3L/wM9xbv9b8Pw6oMys8lP0/2OEdxxig378=",
            "dtype": "f8"
           }
          },
          {
           "label": "50",
           "values": {
            "bdata": "0t6/N1gr9L/MHZt35XXhP0AVXo3KmaW/npAFxVBp/79UWeEegRfpP5BMEGleVe2/YFYOskRX4j+43cZP08zSP6RHW6g9BOC/RMzXExvg8z8=",
            "dtype": "f8"
           }
          },
          {
           "label": "51",
           "values": {
            "bdata": "zP+8rqwN/j/E0vzmLsPnvzZTbKTlFP8/Upt6gH2B+b9Q2UBih+/RPwCbYVAjP8+/IDsVjOBfxb8IIlWxCuDgPyh6rE7Jbeu/pt3hN4gv/z8=",
            "dtype": "f8"
           }
          },
          {
           "label": "52",
           "values": {
            "bdata": "sBiZs8ab8T+AVw2ygo2hPzooQpsqgvC/iCCUP6Dt5D9uIlQ+3Mf5v9Y8/hWS+vq/YFuFdBVbxz/whCE6WWXKvxwaOswgl/c/SHD81JFf9r8=",
            "dtype": "f8"
           }
          },
          {
           "label": "volatility",
           "values": {
            "bdata": "k5UWeh298j/RHNRkgOzyPz+S/+OaVfM/DBHpyhSW8j/P/NnUxsLyPzHAi8nGsPE/qM4vFi5f8T+47gXcqYr0P0gd7OytvvM/33gEZBRn9D8=",
            "dtype": "f8"
           }
          },
          {
           "label": "adopt_b",
           "values": [
            "Yes",
            "No",
            "Yes",
            "Yes",
            "No",
            "Yes",
            "Yes",
            "Yes",
            "Yes",
            "Yes"
           ]
          }
         ],
         "domain": {
          "x": [
           0,
           1
          ],
          "y": [
           0,
           1
          ]
         },
         "name": "",
         "type": "parcats"
        }
       ],
       "layout": {
        "font": {
         "family": "Courier New",
         "size": 8
        },
        "height": 300,
        "legend": {
         "tracegroupgap": 0
        },
        "margin": {
         "b": 80,
         "l": 40,
         "r": 40,
         "t": 40
        },
        "paper_bgcolor": "white",
        "plot_bgcolor": "white",
        "template": {
         "data": {
          "bar": [
           {
            "error_x": {
             "color": "#2a3f5f"
            },
            "error_y": {
             "color": "#2a3f5f"
            },
            "marker": {
             "line": {
              "color": "#E5ECF6",
              "width": 0.5
             },
             "pattern": {
              "fillmode": "overlay",
              "size": 10,
              "solidity": 0.2
             }
            },
            "type": "bar"
           }
          ],
          "barpolar": [
           {
            "marker": {
             "line": {
              "color": "#E5ECF6",
              "width": 0.5
             },
             "pattern": {
              "fillmode": "overlay",
              "size": 10,
              "solidity": 0.2
             }
            },
            "type": "barpolar"
           }
          ],
          "carpet": [
           {
            "aaxis": {
             "endlinecolor": "#2a3f5f",
             "gridcolor": "white",
             "linecolor": "white",
             "minorgridcolor": "white",
             "startlinecolor": "#2a3f5f"
            },
            "baxis": {
             "endlinecolor": "#2a3f5f",
             "gridcolor": "white",
             "linecolor": "white",
             "minorgridcolor": "white",
             "startlinecolor": "#2a3f5f"
            },
            "type": "carpet"
           }
          ],
          "choropleth": [
           {
            "colorbar": {
             "outlinewidth": 0,
             "ticks": ""
            },
            "type": "choropleth"
           }
          ],
          "contour": [
           {
            "colorbar": {
             "outlinewidth": 0,
             "ticks": ""
            },
            "colorscale": [
             [
              0,
              "#0d0887"
             ],
             [
              0.1111111111111111,
              "#46039f"
             ],
             [
              0.2222222222222222,
              "#7201a8"
             ],
             [
              0.3333333333333333,
              "#9c179e"
             ],
             [
              0.4444444444444444,
              "#bd3786"
             ],
             [
              0.5555555555555556,
              "#d8576b"
             ],
             [
              0.6666666666666666,
              "#ed7953"
             ],
             [
              0.7777777777777778,
              "#fb9f3a"
             ],
             [
              0.8888888888888888,
              "#fdca26"
             ],
             [
              1,
              "#f0f921"
             ]
            ],
            "type": "contour"
           }
          ],
          "contourcarpet": [
           {
            "colorbar": {
             "outlinewidth": 0,
             "ticks": ""
            },
            "type": "contourcarpet"
           }
          ],
          "heatmap": [
           {
            "colorbar": {
             "outlinewidth": 0,
             "ticks": ""
            },
            "colorscale": [
             [
              0,
              "#0d0887"
             ],
             [
              0.1111111111111111,
              "#46039f"
             ],
             [
              0.2222222222222222,
              "#7201a8"
             ],
             [
              0.3333333333333333,
              "#9c179e"
             ],
             [
              0.4444444444444444,
              "#bd3786"
             ],
             [
              0.5555555555555556,
              "#d8576b"
             ],
             [
              0.6666666666666666,
              "#ed7953"
             ],
             [
              0.7777777777777778,
              "#fb9f3a"
             ],
             [
              0.8888888888888888,
              "#fdca26"
             ],
             [
              1,
              "#f0f921"
             ]
            ],
            "type": "heatmap"
           }
          ],
          "histogram": [
           {
            "marker": {
             "pattern": {
              "fillmode": "overlay",
              "size": 10,
              "solidity": 0.2
             }
            },
            "type": "histogram"
           }
          ],
          "histogram2d": [
           {
            "colorbar": {
             "outlinewidth": 0,
             "ticks": ""
            },
            "colorscale": [
             [
              0,
              "#0d0887"
             ],
             [
              0.1111111111111111,
              "#46039f"
             ],
             [
              0.2222222222222222,
              "#7201a8"
             ],
             [
              0.3333333333333333,
              "#9c179e"
             ],
             [
              0.4444444444444444,
              "#bd3786"
             ],
             [
              0.5555555555555556,
              "#d8576b"
             ],
             [
              0.6666666666666666,
              "#ed7953"
             ],
             [
              0.7777777777777778,
              "#fb9f3a"
             ],
             [
              0.8888888888888888,
              "#fdca26"
             ],
             [
              1,
              "#f0f921"
             ]
            ],
            "type": "histogram2d"
           }
          ],
          "histogram2dcontour": [
           {
            "colorbar": {
             "outlinewidth": 0,
             "ticks": ""
            },
            "colorscale": [
             [
              0,
              "#0d0887"
             ],
             [
              0.1111111111111111,
              "#46039f"
             ],
             [
              0.2222222222222222,
              "#7201a8"
             ],
             [
              0.3333333333333333,
              "#9c179e"
             ],
             [
              0.4444444444444444,
              "#bd3786"
             ],
             [
              0.5555555555555556,
              "#d8576b"
             ],
             [
              0.6666666666666666,
              "#ed7953"
             ],
             [
              0.7777777777777778,
              "#fb9f3a"
             ],
             [
              0.8888888888888888,
              "#fdca26"
             ],
             [
              1,
              "#f0f921"
             ]
            ],
            "type": "histogram2dcontour"
           }
          ],
          "mesh3d": [
           {
            "colorbar": {
             "outlinewidth": 0,
             "ticks": ""
            },
            "type": "mesh3d"
           }
          ],
          "parcoords": [
           {
            "line": {
             "colorbar": {
              "outlinewidth": 0,
              "ticks": ""
             }
            },
            "type": "parcoords"
           }
          ],
          "pie": [
           {
            "automargin": true,
            "type": "pie"
           }
          ],
          "scatter": [
           {
            "fillpattern": {
             "fillmode": "overlay",
             "size": 10,
             "solidity": 0.2
            },
            "type": "scatter"
           }
          ],
          "scatter3d": [
           {
            "line": {
             "colorbar": {
              "outlinewidth": 0,
              "ticks": ""
             }
            },
            "marker": {
             "colorbar": {
              "outlinewidth": 0,
              "ticks": ""
             }
            },
            "type": "scatter3d"
           }
          ],
          "scattercarpet": [
           {
            "marker": {
             "colorbar": {
              "outlinewidth": 0,
              "ticks": ""
             }
            },
            "type": "scattercarpet"
           }
          ],
          "scattergeo": [
           {
            "marker": {
             "colorbar": {
              "outlinewidth": 0,
              "ticks": ""
             }
            },
            "type": "scattergeo"
           }
          ],
          "scattergl": [
           {
            "marker": {
             "colorbar": {
              "outlinewidth": 0,
              "ticks": ""
             }
            },
            "type": "scattergl"
           }
          ],
          "scattermap": [
           {
            "marker": {
             "colorbar": {
              "outlinewidth": 0,
              "ticks": ""
             }
            },
            "type": "scattermap"
           }
          ],
          "scattermapbox": [
           {
            "marker": {
             "colorbar": {
              "outlinewidth": 0,
              "ticks": ""
             }
            },
            "type": "scattermapbox"
           }
          ],
          "scatterpolar": [
           {
            "marker": {
             "colorbar": {
              "outlinewidth": 0,
              "ticks": ""
             }
            },
            "type": "scatterpolar"
           }
          ],
          "scatterpolargl": [
           {
            "marker": {
             "colorbar": {
              "outlinewidth": 0,
              "ticks": ""
             }
            },
            "type": "scatterpolargl"
           }
          ],
          "scatterternary": [
           {
            "marker": {
             "colorbar": {
              "outlinewidth": 0,
              "ticks": ""
             }
            },
            "type": "scatterternary"
           }
          ],
          "surface": [
           {
            "colorbar": {
             "outlinewidth": 0,
             "ticks": ""
            },
            "colorscale": [
             [
              0,
              "#0d0887"
             ],
             [
              0.1111111111111111,
              "#46039f"
             ],
             [
              0.2222222222222222,
              "#7201a8"
             ],
             [
              0.3333333333333333,
              "#9c179e"
             ],
             [
              0.4444444444444444,
              "#bd3786"
             ],
             [
              0.5555555555555556,
              "#d8576b"
             ],
             [
              0.6666666666666666,
              "#ed7953"
             ],
             [
              0.7777777777777778,
              "#fb9f3a"
             ],
             [
              0.8888888888888888,
              "#fdca26"
             ],
             [
              1,
              "#f0f921"
             ]
            ],
            "type": "surface"
           }
          ],
          "table": [
           {
            "cells": {
             "fill": {
              "color": "#EBF0F8"
             },
             "line": {
              "color": "white"
             }
            },
            "header": {
             "fill": {
              "color": "#C8D4E3"
             },
             "line": {
              "color": "white"
             }
            },
            "type": "table"
           }
          ]
         },
         "layout": {
          "annotationdefaults": {
           "arrowcolor": "#2a3f5f",
           "arrowhead": 0,
           "arrowwidth": 1
          },
          "autotypenumbers": "strict",
          "coloraxis": {
           "colorbar": {
            "outlinewidth": 0,
            "ticks": ""
           }
          },
          "colorscale": {
           "diverging": [
            [
             0,
             "#8e0152"
            ],
            [
             0.1,
             "#c51b7d"
            ],
            [
             0.2,
             "#de77ae"
            ],
            [
             0.3,
             "#f1b6da"
            ],
            [
             0.4,
             "#fde0ef"
            ],
            [
             0.5,
             "#f7f7f7"
            ],
            [
             0.6,
             "#e6f5d0"
            ],
            [
             0.7,
             "#b8e186"
            ],
            [
             0.8,
             "#7fbc41"
            ],
            [
             0.9,
             "#4d9221"
            ],
            [
             1,
             "#276419"
            ]
           ],
           "sequential": [
            [
             0,
             "#0d0887"
            ],
            [
             0.1111111111111111,
             "#46039f"
            ],
            [
             0.2222222222222222,
             "#7201a8"
            ],
            [
             0.3333333333333333,
             "#9c179e"
            ],
            [
             0.4444444444444444,
             "#bd3786"
            ],
            [
             0.5555555555555556,
             "#d8576b"
            ],
            [
             0.6666666666666666,
             "#ed7953"
            ],
            [
             0.7777777777777778,
             "#fb9f3a"
            ],
            [
             0.8888888888888888,
             "#fdca26"
            ],
            [
             1,
             "#f0f921"
            ]
           ],
           "sequentialminus": [
            [
             0,
             "#0d0887"
            ],
            [
             0.1111111111111111,
             "#46039f"
            ],
            [
             0.2222222222222222,
             "#7201a8"
            ],
            [
             0.3333333333333333,
             "#9c179e"
            ],
            [
             0.4444444444444444,
             "#bd3786"
            ],
            [
             0.5555555555555556,
             "#d8576b"
            ],
            [
             0.6666666666666666,
             "#ed7953"
            ],
            [
             0.7777777777777778,
             "#fb9f3a"
            ],
            [
             0.8888888888888888,
             "#fdca26"
            ],
            [
             1,
             "#f0f921"
            ]
           ]
          },
          "colorway": [
           "#636efa",
           "#EF553B",
           "#00cc96",
           "#ab63fa",
           "#FFA15A",
           "#19d3f3",
           "#FF6692",
           "#B6E880",
           "#FF97FF",
           "#FECB52"
          ],
          "font": {
           "color": "#2a3f5f"
          },
          "geo": {
           "bgcolor": "white",
           "lakecolor": "white",
           "landcolor": "#E5ECF6",
           "showlakes": true,
           "showland": true,
           "subunitcolor": "white"
          },
          "hoverlabel": {
           "align": "left"
          },
          "hovermode": "closest",
          "mapbox": {
           "style": "light"
          },
          "paper_bgcolor": "white",
          "plot_bgcolor": "#E5ECF6",
          "polar": {
           "angularaxis": {
            "gridcolor": "white",
            "linecolor": "white",
            "ticks": ""
           },
           "bgcolor": "#E5ECF6",
           "radialaxis": {
            "gridcolor": "white",
            "linecolor": "white",
            "ticks": ""
           }
          },
          "scene": {
           "xaxis": {
            "backgroundcolor": "#E5ECF6",
            "gridcolor": "white",
            "gridwidth": 2,
            "linecolor": "white",
            "showbackground": true,
            "ticks": "",
            "zerolinecolor": "white"
           },
           "yaxis": {
            "backgroundcolor": "#E5ECF6",
            "gridcolor": "white",
            "gridwidth": 2,
            "linecolor": "white",
            "showbackground": true,
            "ticks": "",
            "zerolinecolor": "white"
           },
           "zaxis": {
            "backgroundcolor": "#E5ECF6",
            "gridcolor": "white",
            "gridwidth": 2,
            "linecolor": "white",
            "showbackground": true,
            "ticks": "",
            "zerolinecolor": "white"
           }
          },
          "shapedefaults": {
           "line": {
            "color": "#2a3f5f"
           }
          },
          "ternary": {
           "aaxis": {
            "gridcolor": "white",
            "linecolor": "white",
            "ticks": ""
           },
           "baxis": {
            "gridcolor": "white",
            "linecolor": "white",
            "ticks": ""
           },
           "bgcolor": "#E5ECF6",
           "caxis": {
            "gridcolor": "white",
            "linecolor": "white",
            "ticks": ""
           }
          },
          "title": {
           "x": 0.05
          },
          "xaxis": {
           "automargin": true,
           "gridcolor": "white",
           "linecolor": "white",
           "ticks": "",
           "title": {
            "standoff": 15
           },
           "zerolinecolor": "white",
           "zerolinewidth": 2
          },
          "yaxis": {
           "automargin": true,
           "gridcolor": "white",
           "linecolor": "white",
           "ticks": "",
           "title": {
            "standoff": 15
           },
           "zerolinecolor": "white",
           "zerolinewidth": 2
          }
         }
        },
        "title": {
         "text": "Stocking Change and Volatility Heatmap (Top 10 Accounts)"
        },
        "width": 1200
       }
      }
     },
     "metadata": {},
     "output_type": "display_data"
    }
   ],
   "source": [
    "import plotly.express as px\n",
    "\n",
    "df = df_simulated\n",
    "fig = px.parallel_categories(df_simulated, dimensions=['sex', 'smoker', 'day'],\n",
    "                color=\"size\", color_continuous_scale=px.colors.sequential.Inferno,\n",
    "                labels={'sex':'Payer sex', 'smoker':'Smokers at the table', 'day':'Day of week'})\n",
    "fig.update_layout(\n",
    "    height=300,\n",
    "    width=1200,\n",
    "    title=\"Stocking Change and Volatility Heatmap (Top 10 Accounts)\",\n",
    "    font=dict(family=\"Courier New\", size=8),\n",
    "    margin=dict(t=40, l=40, r=40, b=80),\n",
    "    plot_bgcolor='white',\n",
    "    paper_bgcolor='white'\n",
    ")\n",
    "fig.show()\n",
    "fig.show()"
   ]
  },
  {
   "cell_type": "code",
   "execution_count": null,
   "id": "ee87c6ab",
   "metadata": {},
   "outputs": [],
   "source": [
    "import pandas as pd\n",
    "\n",
    "\n",
    "# df_raw columns: account_id, account_name, week_id (as int 20250105), stocking_wineA, stocking_wineB\n",
    "\n",
    "#  week_id → datetime\n",
    "df_raw = df_raw.copy()\n",
    "df_raw['week_date'] = pd.to_datetime(df_raw['week_id'], format='%Y%m%d')\n",
    "\n",
    "# 2️⃣ \n",
    "all_weeks = pd.date_range(\n",
    "    start=df_raw['week_date'].min(),\n",
    "    end=df_raw['week_date'].max(),\n",
    "    freq='W-SUN'\n",
    ")\n",
    "\n",
    "# 3️⃣ \n",
    "accounts_info = df_raw[['account_id', 'account_name']].drop_duplicates()\n",
    "\n",
    "# 4️⃣ \n",
    "accounts_info['key'] = 1\n",
    "weeks_df = pd.DataFrame({'week_date': all_weeks})\n",
    "weeks_df['key'] = 1\n",
    "\n",
    "full_index = pd.merge(accounts_info, weeks_df, on='key').drop('key', axis=1)\n",
    "\n",
    "# 5️⃣ \n",
    "df_merged = pd.merge(\n",
    "    full_index,\n",
    "    df_raw[['account_id', 'week_date', 'stocking_wineA', 'stocking_wineB']],\n",
    "    on=['account_id', 'week_date'],\n",
    "    how='left'\n",
    ")\n",
    "\n",
    "# 6️⃣ \n",
    "df_merged['stocking_wineA'] = df_merged['stocking_wineA'].fillna(0)\n",
    "df_merged['stocking_wineB'] = df_merged['stocking_wineB'].fillna(0)\n",
    "\n",
    "# 7️⃣ \n",
    "df_merged = df_merged.sort_values(['account_id', 'week_date'])\n",
    "\n",
    "# 8️⃣ \n",
    "df_merged['cumulative_A'] = df_merged.groupby('account_id')['stocking_wineA'].cumsum()\n",
    "df_merged['cumulative_B'] = df_merged.groupby('account_id')['stocking_wineB'].cumsum()\n",
    "df_merged['cumulative_total'] = df_merged['cumulative_A'] + df_merged['cumulative_B']\n",
    "\n",
    "# 9️⃣ \n",
    "df_merged['cumulative_ms'] = df_merged['cumulative_B'] / df_merged['cumulative_total']\n",
    "df_merged['cumulative_ms'] = df_merged['cumulative_ms'].fillna(0)\n"
   ]
  }
 ],
 "metadata": {
  "kernelspec": {
   "display_name": "venv",
   "language": "python",
   "name": "python3"
  },
  "language_info": {
   "codemirror_mode": {
    "name": "ipython",
    "version": 3
   },
   "file_extension": ".py",
   "mimetype": "text/x-python",
   "name": "python",
   "nbconvert_exporter": "python",
   "pygments_lexer": "ipython3",
   "version": "3.13.1"
  }
 },
 "nbformat": 4,
 "nbformat_minor": 5
}
